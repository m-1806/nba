{
 "cells": [
  {
   "cell_type": "code",
   "execution_count": 19,
   "metadata": {},
   "outputs": [],
   "source": [
    "import numpy as np\n",
    "import pandas as pd\n",
    "import plotly.express as px"
   ]
  },
  {
   "cell_type": "code",
   "execution_count": 20,
   "metadata": {},
   "outputs": [],
   "source": [
    "#cargamos los dataframes\n",
    "salary = pd.read_csv(\"SALARY.CSV\")\n",
    "stats = pd.read_csv(\"DATAT2.CSV\")"
   ]
  },
  {
   "cell_type": "code",
   "execution_count": 21,
   "metadata": {},
   "outputs": [
    {
     "data": {
      "text/html": [
       "<div>\n",
       "<style scoped>\n",
       "    .dataframe tbody tr th:only-of-type {\n",
       "        vertical-align: middle;\n",
       "    }\n",
       "\n",
       "    .dataframe tbody tr th {\n",
       "        vertical-align: top;\n",
       "    }\n",
       "\n",
       "    .dataframe thead th {\n",
       "        text-align: right;\n",
       "    }\n",
       "</style>\n",
       "<table border=\"1\" class=\"dataframe\">\n",
       "  <thead>\n",
       "    <tr style=\"text-align: right;\">\n",
       "      <th></th>\n",
       "      <th>Unnamed: 0</th>\n",
       "      <th>Unnamed: 1</th>\n",
       "      <th>Unnamed: 2</th>\n",
       "      <th>Salary</th>\n",
       "      <th>Salary.1</th>\n",
       "      <th>Salary.2</th>\n",
       "      <th>Salary.3</th>\n",
       "      <th>Salary.4</th>\n",
       "      <th>Salary.5</th>\n",
       "      <th>Unnamed: 9</th>\n",
       "      <th>-additional</th>\n",
       "    </tr>\n",
       "  </thead>\n",
       "  <tbody>\n",
       "    <tr>\n",
       "      <th>0</th>\n",
       "      <td>Rk</td>\n",
       "      <td>Player</td>\n",
       "      <td>Tm</td>\n",
       "      <td>2023-24</td>\n",
       "      <td>2024-25</td>\n",
       "      <td>2025-26</td>\n",
       "      <td>2026-27</td>\n",
       "      <td>2027-28</td>\n",
       "      <td>2028-29</td>\n",
       "      <td>Guaranteed</td>\n",
       "      <td>-9999</td>\n",
       "    </tr>\n",
       "    <tr>\n",
       "      <th>1</th>\n",
       "      <td>NaN</td>\n",
       "      <td>NaN</td>\n",
       "      <td>NaN</td>\n",
       "      <td>NaN</td>\n",
       "      <td>NaN</td>\n",
       "      <td>NaN</td>\n",
       "      <td>NaN</td>\n",
       "      <td>NaN</td>\n",
       "      <td>NaN</td>\n",
       "      <td>NaN</td>\n",
       "      <td>-9999</td>\n",
       "    </tr>\n",
       "    <tr>\n",
       "      <th>2</th>\n",
       "      <td>1</td>\n",
       "      <td>Stephen Curry</td>\n",
       "      <td>GSW</td>\n",
       "      <td>$51915615</td>\n",
       "      <td>$55761216</td>\n",
       "      <td>$59606817</td>\n",
       "      <td>NaN</td>\n",
       "      <td>NaN</td>\n",
       "      <td>NaN</td>\n",
       "      <td>$167283648</td>\n",
       "      <td>curryst01</td>\n",
       "    </tr>\n",
       "    <tr>\n",
       "      <th>3</th>\n",
       "      <td>2</td>\n",
       "      <td>Kevin Durant</td>\n",
       "      <td>PHO</td>\n",
       "      <td>$47649433</td>\n",
       "      <td>$51179021</td>\n",
       "      <td>$54708609</td>\n",
       "      <td>NaN</td>\n",
       "      <td>NaN</td>\n",
       "      <td>NaN</td>\n",
       "      <td>$153537063</td>\n",
       "      <td>duranke01</td>\n",
       "    </tr>\n",
       "    <tr>\n",
       "      <th>4</th>\n",
       "      <td>3</td>\n",
       "      <td>Nikola Jokić</td>\n",
       "      <td>DEN</td>\n",
       "      <td>$47607350</td>\n",
       "      <td>$51415938</td>\n",
       "      <td>$55224526</td>\n",
       "      <td>$59033114</td>\n",
       "      <td>$62841702</td>\n",
       "      <td>NaN</td>\n",
       "      <td>$213280928</td>\n",
       "      <td>jokicni01</td>\n",
       "    </tr>\n",
       "    <tr>\n",
       "      <th>...</th>\n",
       "      <td>...</td>\n",
       "      <td>...</td>\n",
       "      <td>...</td>\n",
       "      <td>...</td>\n",
       "      <td>...</td>\n",
       "      <td>...</td>\n",
       "      <td>...</td>\n",
       "      <td>...</td>\n",
       "      <td>...</td>\n",
       "      <td>...</td>\n",
       "      <td>...</td>\n",
       "    </tr>\n",
       "    <tr>\n",
       "      <th>559</th>\n",
       "      <td>558</td>\n",
       "      <td>Matthew Hurt</td>\n",
       "      <td>MEM</td>\n",
       "      <td>NaN</td>\n",
       "      <td>NaN</td>\n",
       "      <td>NaN</td>\n",
       "      <td>NaN</td>\n",
       "      <td>NaN</td>\n",
       "      <td>NaN</td>\n",
       "      <td>$64343</td>\n",
       "      <td>hurtma01</td>\n",
       "    </tr>\n",
       "    <tr>\n",
       "      <th>560</th>\n",
       "      <td>559</td>\n",
       "      <td>Pete Nance</td>\n",
       "      <td>CLE</td>\n",
       "      <td>$64343</td>\n",
       "      <td>NaN</td>\n",
       "      <td>NaN</td>\n",
       "      <td>NaN</td>\n",
       "      <td>NaN</td>\n",
       "      <td>NaN</td>\n",
       "      <td>$64343</td>\n",
       "      <td>nancepe01</td>\n",
       "    </tr>\n",
       "    <tr>\n",
       "      <th>561</th>\n",
       "      <td>560</td>\n",
       "      <td>Malik Williams</td>\n",
       "      <td>TOR</td>\n",
       "      <td>$77212</td>\n",
       "      <td>NaN</td>\n",
       "      <td>NaN</td>\n",
       "      <td>NaN</td>\n",
       "      <td>NaN</td>\n",
       "      <td>NaN</td>\n",
       "      <td>$77212</td>\n",
       "      <td>willima11</td>\n",
       "    </tr>\n",
       "    <tr>\n",
       "      <th>562</th>\n",
       "      <td>561</td>\n",
       "      <td>Kai Jones</td>\n",
       "      <td>LAC</td>\n",
       "      <td>$3175563</td>\n",
       "      <td>$2196970</td>\n",
       "      <td>NaN</td>\n",
       "      <td>NaN</td>\n",
       "      <td>NaN</td>\n",
       "      <td>NaN</td>\n",
       "      <td>$11608</td>\n",
       "      <td>joneska01</td>\n",
       "    </tr>\n",
       "    <tr>\n",
       "      <th>563</th>\n",
       "      <td>562</td>\n",
       "      <td>Usman Garuba</td>\n",
       "      <td>GSW</td>\n",
       "      <td>$2600008</td>\n",
       "      <td>NaN</td>\n",
       "      <td>NaN</td>\n",
       "      <td>NaN</td>\n",
       "      <td>NaN</td>\n",
       "      <td>NaN</td>\n",
       "      <td>$11608</td>\n",
       "      <td>garubus01</td>\n",
       "    </tr>\n",
       "  </tbody>\n",
       "</table>\n",
       "<p>564 rows × 11 columns</p>\n",
       "</div>"
      ],
      "text/plain": [
       "    Unnamed: 0      Unnamed: 1 Unnamed: 2     Salary   Salary.1   Salary.2  \\\n",
       "0           Rk          Player         Tm    2023-24    2024-25    2025-26   \n",
       "1          NaN             NaN        NaN        NaN        NaN        NaN   \n",
       "2            1   Stephen Curry        GSW  $51915615  $55761216  $59606817   \n",
       "3            2    Kevin Durant        PHO  $47649433  $51179021  $54708609   \n",
       "4            3    Nikola Jokić        DEN  $47607350  $51415938  $55224526   \n",
       "..         ...             ...        ...        ...        ...        ...   \n",
       "559        558    Matthew Hurt        MEM        NaN        NaN        NaN   \n",
       "560        559      Pete Nance        CLE     $64343        NaN        NaN   \n",
       "561        560  Malik Williams        TOR     $77212        NaN        NaN   \n",
       "562        561       Kai Jones        LAC   $3175563   $2196970        NaN   \n",
       "563        562    Usman Garuba        GSW   $2600008        NaN        NaN   \n",
       "\n",
       "      Salary.3   Salary.4 Salary.5  Unnamed: 9 -additional  \n",
       "0      2026-27    2027-28  2028-29  Guaranteed       -9999  \n",
       "1          NaN        NaN      NaN         NaN       -9999  \n",
       "2          NaN        NaN      NaN  $167283648   curryst01  \n",
       "3          NaN        NaN      NaN  $153537063   duranke01  \n",
       "4    $59033114  $62841702      NaN  $213280928   jokicni01  \n",
       "..         ...        ...      ...         ...         ...  \n",
       "559        NaN        NaN      NaN      $64343    hurtma01  \n",
       "560        NaN        NaN      NaN      $64343   nancepe01  \n",
       "561        NaN        NaN      NaN      $77212   willima11  \n",
       "562        NaN        NaN      NaN      $11608   joneska01  \n",
       "563        NaN        NaN      NaN      $11608   garubus01  \n",
       "\n",
       "[564 rows x 11 columns]"
      ]
     },
     "execution_count": 21,
     "metadata": {},
     "output_type": "execute_result"
    }
   ],
   "source": [
    "salary"
   ]
  },
  {
   "cell_type": "code",
   "execution_count": 22,
   "metadata": {},
   "outputs": [
    {
     "data": {
      "text/html": [
       "<div>\n",
       "<style scoped>\n",
       "    .dataframe tbody tr th:only-of-type {\n",
       "        vertical-align: middle;\n",
       "    }\n",
       "\n",
       "    .dataframe tbody tr th {\n",
       "        vertical-align: top;\n",
       "    }\n",
       "\n",
       "    .dataframe thead th {\n",
       "        text-align: right;\n",
       "    }\n",
       "</style>\n",
       "<table border=\"1\" class=\"dataframe\">\n",
       "  <thead>\n",
       "    <tr style=\"text-align: right;\">\n",
       "      <th></th>\n",
       "      <th>Salary</th>\n",
       "      <th>-additional</th>\n",
       "    </tr>\n",
       "  </thead>\n",
       "  <tbody>\n",
       "    <tr>\n",
       "      <th>0</th>\n",
       "      <td>2023-24</td>\n",
       "      <td>-9999</td>\n",
       "    </tr>\n",
       "    <tr>\n",
       "      <th>1</th>\n",
       "      <td>NaN</td>\n",
       "      <td>-9999</td>\n",
       "    </tr>\n",
       "    <tr>\n",
       "      <th>2</th>\n",
       "      <td>$51915615</td>\n",
       "      <td>curryst01</td>\n",
       "    </tr>\n",
       "    <tr>\n",
       "      <th>3</th>\n",
       "      <td>$47649433</td>\n",
       "      <td>duranke01</td>\n",
       "    </tr>\n",
       "    <tr>\n",
       "      <th>4</th>\n",
       "      <td>$47607350</td>\n",
       "      <td>jokicni01</td>\n",
       "    </tr>\n",
       "    <tr>\n",
       "      <th>...</th>\n",
       "      <td>...</td>\n",
       "      <td>...</td>\n",
       "    </tr>\n",
       "    <tr>\n",
       "      <th>559</th>\n",
       "      <td>NaN</td>\n",
       "      <td>hurtma01</td>\n",
       "    </tr>\n",
       "    <tr>\n",
       "      <th>560</th>\n",
       "      <td>$64343</td>\n",
       "      <td>nancepe01</td>\n",
       "    </tr>\n",
       "    <tr>\n",
       "      <th>561</th>\n",
       "      <td>$77212</td>\n",
       "      <td>willima11</td>\n",
       "    </tr>\n",
       "    <tr>\n",
       "      <th>562</th>\n",
       "      <td>$3175563</td>\n",
       "      <td>joneska01</td>\n",
       "    </tr>\n",
       "    <tr>\n",
       "      <th>563</th>\n",
       "      <td>$2600008</td>\n",
       "      <td>garubus01</td>\n",
       "    </tr>\n",
       "  </tbody>\n",
       "</table>\n",
       "<p>564 rows × 2 columns</p>\n",
       "</div>"
      ],
      "text/plain": [
       "        Salary -additional\n",
       "0      2023-24       -9999\n",
       "1          NaN       -9999\n",
       "2    $51915615   curryst01\n",
       "3    $47649433   duranke01\n",
       "4    $47607350   jokicni01\n",
       "..         ...         ...\n",
       "559        NaN    hurtma01\n",
       "560     $64343   nancepe01\n",
       "561     $77212   willima11\n",
       "562   $3175563   joneska01\n",
       "563   $2600008   garubus01\n",
       "\n",
       "[564 rows x 2 columns]"
      ]
     },
     "execution_count": 22,
     "metadata": {},
     "output_type": "execute_result"
    }
   ],
   "source": [
    "salary2 = salary[[\"Salary\", \"-additional\"]]\n",
    "salary2"
   ]
  },
  {
   "cell_type": "code",
   "execution_count": 23,
   "metadata": {},
   "outputs": [
    {
     "data": {
      "text/html": [
       "<div>\n",
       "<style scoped>\n",
       "    .dataframe tbody tr th:only-of-type {\n",
       "        vertical-align: middle;\n",
       "    }\n",
       "\n",
       "    .dataframe tbody tr th {\n",
       "        vertical-align: top;\n",
       "    }\n",
       "\n",
       "    .dataframe thead th {\n",
       "        text-align: right;\n",
       "    }\n",
       "</style>\n",
       "<table border=\"1\" class=\"dataframe\">\n",
       "  <thead>\n",
       "    <tr style=\"text-align: right;\">\n",
       "      <th></th>\n",
       "      <th>Salary</th>\n",
       "      <th>slugPlayerBREF</th>\n",
       "    </tr>\n",
       "  </thead>\n",
       "  <tbody>\n",
       "    <tr>\n",
       "      <th>0</th>\n",
       "      <td>2023-24</td>\n",
       "      <td>-9999</td>\n",
       "    </tr>\n",
       "    <tr>\n",
       "      <th>1</th>\n",
       "      <td>NaN</td>\n",
       "      <td>-9999</td>\n",
       "    </tr>\n",
       "    <tr>\n",
       "      <th>2</th>\n",
       "      <td>$51915615</td>\n",
       "      <td>curryst01</td>\n",
       "    </tr>\n",
       "    <tr>\n",
       "      <th>3</th>\n",
       "      <td>$47649433</td>\n",
       "      <td>duranke01</td>\n",
       "    </tr>\n",
       "    <tr>\n",
       "      <th>4</th>\n",
       "      <td>$47607350</td>\n",
       "      <td>jokicni01</td>\n",
       "    </tr>\n",
       "    <tr>\n",
       "      <th>...</th>\n",
       "      <td>...</td>\n",
       "      <td>...</td>\n",
       "    </tr>\n",
       "    <tr>\n",
       "      <th>559</th>\n",
       "      <td>NaN</td>\n",
       "      <td>hurtma01</td>\n",
       "    </tr>\n",
       "    <tr>\n",
       "      <th>560</th>\n",
       "      <td>$64343</td>\n",
       "      <td>nancepe01</td>\n",
       "    </tr>\n",
       "    <tr>\n",
       "      <th>561</th>\n",
       "      <td>$77212</td>\n",
       "      <td>willima11</td>\n",
       "    </tr>\n",
       "    <tr>\n",
       "      <th>562</th>\n",
       "      <td>$3175563</td>\n",
       "      <td>joneska01</td>\n",
       "    </tr>\n",
       "    <tr>\n",
       "      <th>563</th>\n",
       "      <td>$2600008</td>\n",
       "      <td>garubus01</td>\n",
       "    </tr>\n",
       "  </tbody>\n",
       "</table>\n",
       "<p>564 rows × 2 columns</p>\n",
       "</div>"
      ],
      "text/plain": [
       "        Salary slugPlayerBREF\n",
       "0      2023-24          -9999\n",
       "1          NaN          -9999\n",
       "2    $51915615      curryst01\n",
       "3    $47649433      duranke01\n",
       "4    $47607350      jokicni01\n",
       "..         ...            ...\n",
       "559        NaN       hurtma01\n",
       "560     $64343      nancepe01\n",
       "561     $77212      willima11\n",
       "562   $3175563      joneska01\n",
       "563   $2600008      garubus01\n",
       "\n",
       "[564 rows x 2 columns]"
      ]
     },
     "execution_count": 23,
     "metadata": {},
     "output_type": "execute_result"
    }
   ],
   "source": [
    "salary2.rename(columns = {'-additional':'slugPlayerBREF'})"
   ]
  },
  {
   "cell_type": "code",
   "execution_count": 24,
   "metadata": {},
   "outputs": [
    {
     "data": {
      "text/html": [
       "<div>\n",
       "<style scoped>\n",
       "    .dataframe tbody tr th:only-of-type {\n",
       "        vertical-align: middle;\n",
       "    }\n",
       "\n",
       "    .dataframe tbody tr th {\n",
       "        vertical-align: top;\n",
       "    }\n",
       "\n",
       "    .dataframe thead th {\n",
       "        text-align: right;\n",
       "    }\n",
       "</style>\n",
       "<table border=\"1\" class=\"dataframe\">\n",
       "  <thead>\n",
       "    <tr style=\"text-align: right;\">\n",
       "      <th></th>\n",
       "      <th>Salary</th>\n",
       "      <th>-additional</th>\n",
       "    </tr>\n",
       "  </thead>\n",
       "  <tbody>\n",
       "    <tr>\n",
       "      <th>0</th>\n",
       "      <td>2023-24</td>\n",
       "      <td>-9999</td>\n",
       "    </tr>\n",
       "    <tr>\n",
       "      <th>2</th>\n",
       "      <td>$51915615</td>\n",
       "      <td>curryst01</td>\n",
       "    </tr>\n",
       "    <tr>\n",
       "      <th>3</th>\n",
       "      <td>$47649433</td>\n",
       "      <td>duranke01</td>\n",
       "    </tr>\n",
       "    <tr>\n",
       "      <th>4</th>\n",
       "      <td>$47607350</td>\n",
       "      <td>jokicni01</td>\n",
       "    </tr>\n",
       "    <tr>\n",
       "      <th>5</th>\n",
       "      <td>$47607350</td>\n",
       "      <td>embiijo01</td>\n",
       "    </tr>\n",
       "    <tr>\n",
       "      <th>...</th>\n",
       "      <td>...</td>\n",
       "      <td>...</td>\n",
       "    </tr>\n",
       "    <tr>\n",
       "      <th>557</th>\n",
       "      <td>$135120</td>\n",
       "      <td>evbuoto01</td>\n",
       "    </tr>\n",
       "    <tr>\n",
       "      <th>560</th>\n",
       "      <td>$64343</td>\n",
       "      <td>nancepe01</td>\n",
       "    </tr>\n",
       "    <tr>\n",
       "      <th>561</th>\n",
       "      <td>$77212</td>\n",
       "      <td>willima11</td>\n",
       "    </tr>\n",
       "    <tr>\n",
       "      <th>562</th>\n",
       "      <td>$3175563</td>\n",
       "      <td>joneska01</td>\n",
       "    </tr>\n",
       "    <tr>\n",
       "      <th>563</th>\n",
       "      <td>$2600008</td>\n",
       "      <td>garubus01</td>\n",
       "    </tr>\n",
       "  </tbody>\n",
       "</table>\n",
       "<p>555 rows × 2 columns</p>\n",
       "</div>"
      ],
      "text/plain": [
       "        Salary -additional\n",
       "0      2023-24       -9999\n",
       "2    $51915615   curryst01\n",
       "3    $47649433   duranke01\n",
       "4    $47607350   jokicni01\n",
       "5    $47607350   embiijo01\n",
       "..         ...         ...\n",
       "557    $135120   evbuoto01\n",
       "560     $64343   nancepe01\n",
       "561     $77212   willima11\n",
       "562   $3175563   joneska01\n",
       "563   $2600008   garubus01\n",
       "\n",
       "[555 rows x 2 columns]"
      ]
     },
     "execution_count": 24,
     "metadata": {},
     "output_type": "execute_result"
    }
   ],
   "source": [
    "salary2 = salary2.dropna()\n",
    "salary2"
   ]
  },
  {
   "cell_type": "code",
   "execution_count": 25,
   "metadata": {},
   "outputs": [
    {
     "data": {
      "text/html": [
       "<div>\n",
       "<style scoped>\n",
       "    .dataframe tbody tr th:only-of-type {\n",
       "        vertical-align: middle;\n",
       "    }\n",
       "\n",
       "    .dataframe tbody tr th {\n",
       "        vertical-align: top;\n",
       "    }\n",
       "\n",
       "    .dataframe thead th {\n",
       "        text-align: right;\n",
       "    }\n",
       "</style>\n",
       "<table border=\"1\" class=\"dataframe\">\n",
       "  <thead>\n",
       "    <tr style=\"text-align: right;\">\n",
       "      <th></th>\n",
       "      <th>Salary</th>\n",
       "      <th>-additional</th>\n",
       "    </tr>\n",
       "  </thead>\n",
       "  <tbody>\n",
       "    <tr>\n",
       "      <th>2</th>\n",
       "      <td>$51915615</td>\n",
       "      <td>curryst01</td>\n",
       "    </tr>\n",
       "    <tr>\n",
       "      <th>3</th>\n",
       "      <td>$47649433</td>\n",
       "      <td>duranke01</td>\n",
       "    </tr>\n",
       "    <tr>\n",
       "      <th>4</th>\n",
       "      <td>$47607350</td>\n",
       "      <td>jokicni01</td>\n",
       "    </tr>\n",
       "    <tr>\n",
       "      <th>5</th>\n",
       "      <td>$47607350</td>\n",
       "      <td>embiijo01</td>\n",
       "    </tr>\n",
       "    <tr>\n",
       "      <th>6</th>\n",
       "      <td>$47607350</td>\n",
       "      <td>jamesle01</td>\n",
       "    </tr>\n",
       "    <tr>\n",
       "      <th>...</th>\n",
       "      <td>...</td>\n",
       "      <td>...</td>\n",
       "    </tr>\n",
       "    <tr>\n",
       "      <th>557</th>\n",
       "      <td>$135120</td>\n",
       "      <td>evbuoto01</td>\n",
       "    </tr>\n",
       "    <tr>\n",
       "      <th>560</th>\n",
       "      <td>$64343</td>\n",
       "      <td>nancepe01</td>\n",
       "    </tr>\n",
       "    <tr>\n",
       "      <th>561</th>\n",
       "      <td>$77212</td>\n",
       "      <td>willima11</td>\n",
       "    </tr>\n",
       "    <tr>\n",
       "      <th>562</th>\n",
       "      <td>$3175563</td>\n",
       "      <td>joneska01</td>\n",
       "    </tr>\n",
       "    <tr>\n",
       "      <th>563</th>\n",
       "      <td>$2600008</td>\n",
       "      <td>garubus01</td>\n",
       "    </tr>\n",
       "  </tbody>\n",
       "</table>\n",
       "<p>554 rows × 2 columns</p>\n",
       "</div>"
      ],
      "text/plain": [
       "        Salary -additional\n",
       "2    $51915615   curryst01\n",
       "3    $47649433   duranke01\n",
       "4    $47607350   jokicni01\n",
       "5    $47607350   embiijo01\n",
       "6    $47607350   jamesle01\n",
       "..         ...         ...\n",
       "557    $135120   evbuoto01\n",
       "560     $64343   nancepe01\n",
       "561     $77212   willima11\n",
       "562   $3175563   joneska01\n",
       "563   $2600008   garubus01\n",
       "\n",
       "[554 rows x 2 columns]"
      ]
     },
     "execution_count": 25,
     "metadata": {},
     "output_type": "execute_result"
    }
   ],
   "source": [
    "salary2 = salary2.drop([0])\n",
    "salary2"
   ]
  },
  {
   "cell_type": "code",
   "execution_count": 26,
   "metadata": {},
   "outputs": [
    {
     "data": {
      "text/html": [
       "<div>\n",
       "<style scoped>\n",
       "    .dataframe tbody tr th:only-of-type {\n",
       "        vertical-align: middle;\n",
       "    }\n",
       "\n",
       "    .dataframe tbody tr th {\n",
       "        vertical-align: top;\n",
       "    }\n",
       "\n",
       "    .dataframe thead th {\n",
       "        text-align: right;\n",
       "    }\n",
       "</style>\n",
       "<table border=\"1\" class=\"dataframe\">\n",
       "  <thead>\n",
       "    <tr style=\"text-align: right;\">\n",
       "      <th></th>\n",
       "      <th>Salary</th>\n",
       "      <th>-additional</th>\n",
       "    </tr>\n",
       "  </thead>\n",
       "  <tbody>\n",
       "    <tr>\n",
       "      <th>2</th>\n",
       "      <td>51915615</td>\n",
       "      <td>curryst01</td>\n",
       "    </tr>\n",
       "    <tr>\n",
       "      <th>3</th>\n",
       "      <td>47649433</td>\n",
       "      <td>duranke01</td>\n",
       "    </tr>\n",
       "    <tr>\n",
       "      <th>4</th>\n",
       "      <td>47607350</td>\n",
       "      <td>jokicni01</td>\n",
       "    </tr>\n",
       "    <tr>\n",
       "      <th>5</th>\n",
       "      <td>47607350</td>\n",
       "      <td>embiijo01</td>\n",
       "    </tr>\n",
       "    <tr>\n",
       "      <th>6</th>\n",
       "      <td>47607350</td>\n",
       "      <td>jamesle01</td>\n",
       "    </tr>\n",
       "    <tr>\n",
       "      <th>...</th>\n",
       "      <td>...</td>\n",
       "      <td>...</td>\n",
       "    </tr>\n",
       "    <tr>\n",
       "      <th>557</th>\n",
       "      <td>135120</td>\n",
       "      <td>evbuoto01</td>\n",
       "    </tr>\n",
       "    <tr>\n",
       "      <th>560</th>\n",
       "      <td>64343</td>\n",
       "      <td>nancepe01</td>\n",
       "    </tr>\n",
       "    <tr>\n",
       "      <th>561</th>\n",
       "      <td>77212</td>\n",
       "      <td>willima11</td>\n",
       "    </tr>\n",
       "    <tr>\n",
       "      <th>562</th>\n",
       "      <td>3175563</td>\n",
       "      <td>joneska01</td>\n",
       "    </tr>\n",
       "    <tr>\n",
       "      <th>563</th>\n",
       "      <td>2600008</td>\n",
       "      <td>garubus01</td>\n",
       "    </tr>\n",
       "  </tbody>\n",
       "</table>\n",
       "<p>554 rows × 2 columns</p>\n",
       "</div>"
      ],
      "text/plain": [
       "       Salary -additional\n",
       "2    51915615   curryst01\n",
       "3    47649433   duranke01\n",
       "4    47607350   jokicni01\n",
       "5    47607350   embiijo01\n",
       "6    47607350   jamesle01\n",
       "..        ...         ...\n",
       "557    135120   evbuoto01\n",
       "560     64343   nancepe01\n",
       "561     77212   willima11\n",
       "562   3175563   joneska01\n",
       "563   2600008   garubus01\n",
       "\n",
       "[554 rows x 2 columns]"
      ]
     },
     "execution_count": 26,
     "metadata": {},
     "output_type": "execute_result"
    }
   ],
   "source": [
    "salary2['Salary'] = salary2['Salary'].replace('[\\$]', '', regex=True).astype(int)\n",
    "salary2"
   ]
  },
  {
   "cell_type": "code",
   "execution_count": 27,
   "metadata": {},
   "outputs": [
    {
     "data": {
      "text/html": [
       "<div>\n",
       "<style scoped>\n",
       "    .dataframe tbody tr th:only-of-type {\n",
       "        vertical-align: middle;\n",
       "    }\n",
       "\n",
       "    .dataframe tbody tr th {\n",
       "        vertical-align: top;\n",
       "    }\n",
       "\n",
       "    .dataframe thead th {\n",
       "        text-align: right;\n",
       "    }\n",
       "</style>\n",
       "<table border=\"1\" class=\"dataframe\">\n",
       "  <thead>\n",
       "    <tr style=\"text-align: right;\">\n",
       "      <th></th>\n",
       "      <th>Salary</th>\n",
       "      <th>slugPlayerBREF</th>\n",
       "    </tr>\n",
       "  </thead>\n",
       "  <tbody>\n",
       "    <tr>\n",
       "      <th>2</th>\n",
       "      <td>51915615</td>\n",
       "      <td>curryst01</td>\n",
       "    </tr>\n",
       "    <tr>\n",
       "      <th>3</th>\n",
       "      <td>47649433</td>\n",
       "      <td>duranke01</td>\n",
       "    </tr>\n",
       "    <tr>\n",
       "      <th>4</th>\n",
       "      <td>47607350</td>\n",
       "      <td>jokicni01</td>\n",
       "    </tr>\n",
       "    <tr>\n",
       "      <th>5</th>\n",
       "      <td>47607350</td>\n",
       "      <td>embiijo01</td>\n",
       "    </tr>\n",
       "    <tr>\n",
       "      <th>6</th>\n",
       "      <td>47607350</td>\n",
       "      <td>jamesle01</td>\n",
       "    </tr>\n",
       "    <tr>\n",
       "      <th>...</th>\n",
       "      <td>...</td>\n",
       "      <td>...</td>\n",
       "    </tr>\n",
       "    <tr>\n",
       "      <th>557</th>\n",
       "      <td>135120</td>\n",
       "      <td>evbuoto01</td>\n",
       "    </tr>\n",
       "    <tr>\n",
       "      <th>560</th>\n",
       "      <td>64343</td>\n",
       "      <td>nancepe01</td>\n",
       "    </tr>\n",
       "    <tr>\n",
       "      <th>561</th>\n",
       "      <td>77212</td>\n",
       "      <td>willima11</td>\n",
       "    </tr>\n",
       "    <tr>\n",
       "      <th>562</th>\n",
       "      <td>3175563</td>\n",
       "      <td>joneska01</td>\n",
       "    </tr>\n",
       "    <tr>\n",
       "      <th>563</th>\n",
       "      <td>2600008</td>\n",
       "      <td>garubus01</td>\n",
       "    </tr>\n",
       "  </tbody>\n",
       "</table>\n",
       "<p>554 rows × 2 columns</p>\n",
       "</div>"
      ],
      "text/plain": [
       "       Salary slugPlayerBREF\n",
       "2    51915615      curryst01\n",
       "3    47649433      duranke01\n",
       "4    47607350      jokicni01\n",
       "5    47607350      embiijo01\n",
       "6    47607350      jamesle01\n",
       "..        ...            ...\n",
       "557    135120      evbuoto01\n",
       "560     64343      nancepe01\n",
       "561     77212      willima11\n",
       "562   3175563      joneska01\n",
       "563   2600008      garubus01\n",
       "\n",
       "[554 rows x 2 columns]"
      ]
     },
     "execution_count": 27,
     "metadata": {},
     "output_type": "execute_result"
    }
   ],
   "source": [
    "salary = salary2.rename(columns = {'-additional':'slugPlayerBREF'})\n",
    "salary"
   ]
  },
  {
   "cell_type": "code",
   "execution_count": 28,
   "metadata": {},
   "outputs": [
    {
     "data": {
      "text/plain": [
       "Index(['Unnamed: 0', 'slugSeason', 'yearSeason', 'isSeasonCurrent',\n",
       "       'slugPlayerSeason', 'slugPlayerBREF', 'namePlayer', 'slugPosition',\n",
       "       'agePlayer', 'slugTeamBREF', 'countGames', 'countGamesStarted', 'pctFG',\n",
       "       'pctFG3', 'pctFG2', 'pctEFG', 'pctFT', 'isHOFPlayer', 'slugTeamsBREF',\n",
       "       'idPlayerNBA', 'urlPlayerThumbnail', 'urlPlayerHeadshot',\n",
       "       'urlPlayerPhoto', 'urlPlayerStats', 'urlPlayerActionPhoto',\n",
       "       'minutesTotals', 'fgmTotals', 'fgaTotals', 'fg3mTotals', 'fg3aTotals',\n",
       "       'fg2mTotals', 'fg2aTotals', 'ftmTotals', 'ftaTotals', 'orbTotals',\n",
       "       'drbTotals', 'trbTotals', 'astTotals', 'stlTotals', 'blkTotals',\n",
       "       'tovTotals', 'pfTotals', 'ptsTotals', 'countTeamsPlayerSeasonTotals'],\n",
       "      dtype='object')"
      ]
     },
     "execution_count": 28,
     "metadata": {},
     "output_type": "execute_result"
    }
   ],
   "source": [
    "stats.columns"
   ]
  },
  {
   "cell_type": "code",
   "execution_count": 29,
   "metadata": {},
   "outputs": [
    {
     "data": {
      "text/html": [
       "<div>\n",
       "<style scoped>\n",
       "    .dataframe tbody tr th:only-of-type {\n",
       "        vertical-align: middle;\n",
       "    }\n",
       "\n",
       "    .dataframe tbody tr th {\n",
       "        vertical-align: top;\n",
       "    }\n",
       "\n",
       "    .dataframe thead th {\n",
       "        text-align: right;\n",
       "    }\n",
       "</style>\n",
       "<table border=\"1\" class=\"dataframe\">\n",
       "  <thead>\n",
       "    <tr style=\"text-align: right;\">\n",
       "      <th></th>\n",
       "      <th>Salary</th>\n",
       "      <th>slugPlayerBREF</th>\n",
       "      <th>Unnamed: 0</th>\n",
       "      <th>slugSeason</th>\n",
       "      <th>yearSeason</th>\n",
       "      <th>isSeasonCurrent</th>\n",
       "      <th>slugPlayerSeason</th>\n",
       "      <th>namePlayer</th>\n",
       "      <th>slugPosition</th>\n",
       "      <th>agePlayer</th>\n",
       "      <th>...</th>\n",
       "      <th>orbTotals</th>\n",
       "      <th>drbTotals</th>\n",
       "      <th>trbTotals</th>\n",
       "      <th>astTotals</th>\n",
       "      <th>stlTotals</th>\n",
       "      <th>blkTotals</th>\n",
       "      <th>tovTotals</th>\n",
       "      <th>pfTotals</th>\n",
       "      <th>ptsTotals</th>\n",
       "      <th>countTeamsPlayerSeasonTotals</th>\n",
       "    </tr>\n",
       "  </thead>\n",
       "  <tbody>\n",
       "    <tr>\n",
       "      <th>0</th>\n",
       "      <td>51915615</td>\n",
       "      <td>curryst01</td>\n",
       "      <td>114</td>\n",
       "      <td>2023-24</td>\n",
       "      <td>2023</td>\n",
       "      <td>False</td>\n",
       "      <td>curryst01_2024</td>\n",
       "      <td>Stephen Curry</td>\n",
       "      <td>PG</td>\n",
       "      <td>35</td>\n",
       "      <td>...</td>\n",
       "      <td>37</td>\n",
       "      <td>293</td>\n",
       "      <td>330</td>\n",
       "      <td>379</td>\n",
       "      <td>54</td>\n",
       "      <td>28</td>\n",
       "      <td>210</td>\n",
       "      <td>117</td>\n",
       "      <td>1956</td>\n",
       "      <td>1</td>\n",
       "    </tr>\n",
       "    <tr>\n",
       "      <th>1</th>\n",
       "      <td>47649433</td>\n",
       "      <td>duranke01</td>\n",
       "      <td>138</td>\n",
       "      <td>2023-24</td>\n",
       "      <td>2023</td>\n",
       "      <td>False</td>\n",
       "      <td>duranke01_2024</td>\n",
       "      <td>Kevin Durant</td>\n",
       "      <td>PF</td>\n",
       "      <td>35</td>\n",
       "      <td>...</td>\n",
       "      <td>41</td>\n",
       "      <td>454</td>\n",
       "      <td>495</td>\n",
       "      <td>378</td>\n",
       "      <td>69</td>\n",
       "      <td>91</td>\n",
       "      <td>244</td>\n",
       "      <td>133</td>\n",
       "      <td>2032</td>\n",
       "      <td>1</td>\n",
       "    </tr>\n",
       "    <tr>\n",
       "      <th>2</th>\n",
       "      <td>47607350</td>\n",
       "      <td>jokicni01</td>\n",
       "      <td>264</td>\n",
       "      <td>2023-24</td>\n",
       "      <td>2023</td>\n",
       "      <td>False</td>\n",
       "      <td>jokicni01_2024</td>\n",
       "      <td>Nikola Jokic</td>\n",
       "      <td>C</td>\n",
       "      <td>28</td>\n",
       "      <td>...</td>\n",
       "      <td>223</td>\n",
       "      <td>753</td>\n",
       "      <td>976</td>\n",
       "      <td>708</td>\n",
       "      <td>108</td>\n",
       "      <td>68</td>\n",
       "      <td>237</td>\n",
       "      <td>194</td>\n",
       "      <td>2085</td>\n",
       "      <td>1</td>\n",
       "    </tr>\n",
       "    <tr>\n",
       "      <th>3</th>\n",
       "      <td>47607350</td>\n",
       "      <td>embiijo01</td>\n",
       "      <td>144</td>\n",
       "      <td>2023-24</td>\n",
       "      <td>2023</td>\n",
       "      <td>False</td>\n",
       "      <td>embiijo01_2024</td>\n",
       "      <td>Joel Embiid</td>\n",
       "      <td>C</td>\n",
       "      <td>29</td>\n",
       "      <td>...</td>\n",
       "      <td>95</td>\n",
       "      <td>335</td>\n",
       "      <td>430</td>\n",
       "      <td>219</td>\n",
       "      <td>46</td>\n",
       "      <td>66</td>\n",
       "      <td>150</td>\n",
       "      <td>112</td>\n",
       "      <td>1353</td>\n",
       "      <td>1</td>\n",
       "    </tr>\n",
       "    <tr>\n",
       "      <th>4</th>\n",
       "      <td>47607350</td>\n",
       "      <td>jamesle01</td>\n",
       "      <td>251</td>\n",
       "      <td>2023-24</td>\n",
       "      <td>2023</td>\n",
       "      <td>False</td>\n",
       "      <td>jamesle01_2024</td>\n",
       "      <td>LeBron James</td>\n",
       "      <td>PF</td>\n",
       "      <td>39</td>\n",
       "      <td>...</td>\n",
       "      <td>61</td>\n",
       "      <td>457</td>\n",
       "      <td>518</td>\n",
       "      <td>589</td>\n",
       "      <td>89</td>\n",
       "      <td>38</td>\n",
       "      <td>245</td>\n",
       "      <td>78</td>\n",
       "      <td>1822</td>\n",
       "      <td>1</td>\n",
       "    </tr>\n",
       "    <tr>\n",
       "      <th>...</th>\n",
       "      <td>...</td>\n",
       "      <td>...</td>\n",
       "      <td>...</td>\n",
       "      <td>...</td>\n",
       "      <td>...</td>\n",
       "      <td>...</td>\n",
       "      <td>...</td>\n",
       "      <td>...</td>\n",
       "      <td>...</td>\n",
       "      <td>...</td>\n",
       "      <td>...</td>\n",
       "      <td>...</td>\n",
       "      <td>...</td>\n",
       "      <td>...</td>\n",
       "      <td>...</td>\n",
       "      <td>...</td>\n",
       "      <td>...</td>\n",
       "      <td>...</td>\n",
       "      <td>...</td>\n",
       "      <td>...</td>\n",
       "      <td>...</td>\n",
       "    </tr>\n",
       "    <tr>\n",
       "      <th>522</th>\n",
       "      <td>135120</td>\n",
       "      <td>evbuoto01</td>\n",
       "      <td>146</td>\n",
       "      <td>2023-24</td>\n",
       "      <td>2023</td>\n",
       "      <td>False</td>\n",
       "      <td>evbuoto01_2024</td>\n",
       "      <td>Tosan Evbuomwan</td>\n",
       "      <td>SF</td>\n",
       "      <td>22</td>\n",
       "      <td>...</td>\n",
       "      <td>18</td>\n",
       "      <td>42</td>\n",
       "      <td>60</td>\n",
       "      <td>16</td>\n",
       "      <td>6</td>\n",
       "      <td>5</td>\n",
       "      <td>9</td>\n",
       "      <td>23</td>\n",
       "      <td>101</td>\n",
       "      <td>1</td>\n",
       "    </tr>\n",
       "    <tr>\n",
       "      <th>523</th>\n",
       "      <td>77212</td>\n",
       "      <td>willima11</td>\n",
       "      <td>556</td>\n",
       "      <td>2023-24</td>\n",
       "      <td>2023</td>\n",
       "      <td>False</td>\n",
       "      <td>willima11_2024</td>\n",
       "      <td>Malik Williams</td>\n",
       "      <td>C</td>\n",
       "      <td>25</td>\n",
       "      <td>...</td>\n",
       "      <td>15</td>\n",
       "      <td>23</td>\n",
       "      <td>38</td>\n",
       "      <td>2</td>\n",
       "      <td>3</td>\n",
       "      <td>4</td>\n",
       "      <td>3</td>\n",
       "      <td>15</td>\n",
       "      <td>19</td>\n",
       "      <td>1</td>\n",
       "    </tr>\n",
       "    <tr>\n",
       "      <th>524</th>\n",
       "      <td>77212</td>\n",
       "      <td>willima11</td>\n",
       "      <td>556</td>\n",
       "      <td>2023-24</td>\n",
       "      <td>2023</td>\n",
       "      <td>False</td>\n",
       "      <td>willima11_2024</td>\n",
       "      <td>Malik Williams</td>\n",
       "      <td>C</td>\n",
       "      <td>25</td>\n",
       "      <td>...</td>\n",
       "      <td>15</td>\n",
       "      <td>23</td>\n",
       "      <td>38</td>\n",
       "      <td>2</td>\n",
       "      <td>3</td>\n",
       "      <td>4</td>\n",
       "      <td>3</td>\n",
       "      <td>15</td>\n",
       "      <td>19</td>\n",
       "      <td>1</td>\n",
       "    </tr>\n",
       "    <tr>\n",
       "      <th>525</th>\n",
       "      <td>64343</td>\n",
       "      <td>mooreta02</td>\n",
       "      <td>357</td>\n",
       "      <td>2023-24</td>\n",
       "      <td>2023</td>\n",
       "      <td>False</td>\n",
       "      <td>mooreta02_2024</td>\n",
       "      <td>Taze Moore</td>\n",
       "      <td>SG</td>\n",
       "      <td>25</td>\n",
       "      <td>...</td>\n",
       "      <td>4</td>\n",
       "      <td>4</td>\n",
       "      <td>8</td>\n",
       "      <td>5</td>\n",
       "      <td>2</td>\n",
       "      <td>0</td>\n",
       "      <td>3</td>\n",
       "      <td>4</td>\n",
       "      <td>18</td>\n",
       "      <td>1</td>\n",
       "    </tr>\n",
       "    <tr>\n",
       "      <th>526</th>\n",
       "      <td>64343</td>\n",
       "      <td>nancepe01</td>\n",
       "      <td>371</td>\n",
       "      <td>2023-24</td>\n",
       "      <td>2023</td>\n",
       "      <td>False</td>\n",
       "      <td>nancepe01_2024</td>\n",
       "      <td>Pete Nance</td>\n",
       "      <td>PF</td>\n",
       "      <td>23</td>\n",
       "      <td>...</td>\n",
       "      <td>0</td>\n",
       "      <td>3</td>\n",
       "      <td>3</td>\n",
       "      <td>0</td>\n",
       "      <td>1</td>\n",
       "      <td>0</td>\n",
       "      <td>1</td>\n",
       "      <td>2</td>\n",
       "      <td>3</td>\n",
       "      <td>1</td>\n",
       "    </tr>\n",
       "  </tbody>\n",
       "</table>\n",
       "<p>527 rows × 45 columns</p>\n",
       "</div>"
      ],
      "text/plain": [
       "       Salary slugPlayerBREF  Unnamed: 0 slugSeason  yearSeason  \\\n",
       "0    51915615      curryst01         114    2023-24        2023   \n",
       "1    47649433      duranke01         138    2023-24        2023   \n",
       "2    47607350      jokicni01         264    2023-24        2023   \n",
       "3    47607350      embiijo01         144    2023-24        2023   \n",
       "4    47607350      jamesle01         251    2023-24        2023   \n",
       "..        ...            ...         ...        ...         ...   \n",
       "522    135120      evbuoto01         146    2023-24        2023   \n",
       "523     77212      willima11         556    2023-24        2023   \n",
       "524     77212      willima11         556    2023-24        2023   \n",
       "525     64343      mooreta02         357    2023-24        2023   \n",
       "526     64343      nancepe01         371    2023-24        2023   \n",
       "\n",
       "     isSeasonCurrent slugPlayerSeason       namePlayer slugPosition  \\\n",
       "0              False   curryst01_2024    Stephen Curry           PG   \n",
       "1              False   duranke01_2024     Kevin Durant           PF   \n",
       "2              False   jokicni01_2024     Nikola Jokic            C   \n",
       "3              False   embiijo01_2024      Joel Embiid            C   \n",
       "4              False   jamesle01_2024     LeBron James           PF   \n",
       "..               ...              ...              ...          ...   \n",
       "522            False   evbuoto01_2024  Tosan Evbuomwan           SF   \n",
       "523            False   willima11_2024   Malik Williams            C   \n",
       "524            False   willima11_2024   Malik Williams            C   \n",
       "525            False   mooreta02_2024       Taze Moore           SG   \n",
       "526            False   nancepe01_2024       Pete Nance           PF   \n",
       "\n",
       "     agePlayer  ... orbTotals  drbTotals  trbTotals  astTotals  stlTotals  \\\n",
       "0           35  ...        37        293        330        379         54   \n",
       "1           35  ...        41        454        495        378         69   \n",
       "2           28  ...       223        753        976        708        108   \n",
       "3           29  ...        95        335        430        219         46   \n",
       "4           39  ...        61        457        518        589         89   \n",
       "..         ...  ...       ...        ...        ...        ...        ...   \n",
       "522         22  ...        18         42         60         16          6   \n",
       "523         25  ...        15         23         38          2          3   \n",
       "524         25  ...        15         23         38          2          3   \n",
       "525         25  ...         4          4          8          5          2   \n",
       "526         23  ...         0          3          3          0          1   \n",
       "\n",
       "     blkTotals  tovTotals  pfTotals  ptsTotals countTeamsPlayerSeasonTotals  \n",
       "0           28        210       117       1956                            1  \n",
       "1           91        244       133       2032                            1  \n",
       "2           68        237       194       2085                            1  \n",
       "3           66        150       112       1353                            1  \n",
       "4           38        245        78       1822                            1  \n",
       "..         ...        ...       ...        ...                          ...  \n",
       "522          5          9        23        101                            1  \n",
       "523          4          3        15         19                            1  \n",
       "524          4          3        15         19                            1  \n",
       "525          0          3         4         18                            1  \n",
       "526          0          1         2          3                            1  \n",
       "\n",
       "[527 rows x 45 columns]"
      ]
     },
     "execution_count": 29,
     "metadata": {},
     "output_type": "execute_result"
    }
   ],
   "source": [
    "SS = pd.merge(salary, stats,how='inner', on='slugPlayerBREF')\n",
    "SS"
   ]
  },
  {
   "cell_type": "code",
   "execution_count": 30,
   "metadata": {},
   "outputs": [
    {
     "data": {
      "text/html": [
       "<div>\n",
       "<style scoped>\n",
       "    .dataframe tbody tr th:only-of-type {\n",
       "        vertical-align: middle;\n",
       "    }\n",
       "\n",
       "    .dataframe tbody tr th {\n",
       "        vertical-align: top;\n",
       "    }\n",
       "\n",
       "    .dataframe thead th {\n",
       "        text-align: right;\n",
       "    }\n",
       "</style>\n",
       "<table border=\"1\" class=\"dataframe\">\n",
       "  <thead>\n",
       "    <tr style=\"text-align: right;\">\n",
       "      <th></th>\n",
       "      <th>Salary</th>\n",
       "      <th>slugPlayerBREF</th>\n",
       "      <th>Unnamed: 0</th>\n",
       "      <th>slugSeason</th>\n",
       "      <th>yearSeason</th>\n",
       "      <th>isSeasonCurrent</th>\n",
       "      <th>slugPlayerSeason</th>\n",
       "      <th>namePlayer</th>\n",
       "      <th>slugPosition</th>\n",
       "      <th>agePlayer</th>\n",
       "      <th>...</th>\n",
       "      <th>orbTotals</th>\n",
       "      <th>drbTotals</th>\n",
       "      <th>trbTotals</th>\n",
       "      <th>astTotals</th>\n",
       "      <th>stlTotals</th>\n",
       "      <th>blkTotals</th>\n",
       "      <th>tovTotals</th>\n",
       "      <th>pfTotals</th>\n",
       "      <th>ptsTotals</th>\n",
       "      <th>countTeamsPlayerSeasonTotals</th>\n",
       "    </tr>\n",
       "  </thead>\n",
       "  <tbody>\n",
       "    <tr>\n",
       "      <th>0</th>\n",
       "      <td>51915615</td>\n",
       "      <td>curryst01</td>\n",
       "      <td>114</td>\n",
       "      <td>2023-24</td>\n",
       "      <td>2023</td>\n",
       "      <td>False</td>\n",
       "      <td>curryst01_2024</td>\n",
       "      <td>Stephen Curry</td>\n",
       "      <td>PG</td>\n",
       "      <td>35</td>\n",
       "      <td>...</td>\n",
       "      <td>37</td>\n",
       "      <td>293</td>\n",
       "      <td>330</td>\n",
       "      <td>379</td>\n",
       "      <td>54</td>\n",
       "      <td>28</td>\n",
       "      <td>210</td>\n",
       "      <td>117</td>\n",
       "      <td>1956</td>\n",
       "      <td>1</td>\n",
       "    </tr>\n",
       "    <tr>\n",
       "      <th>1</th>\n",
       "      <td>47649433</td>\n",
       "      <td>duranke01</td>\n",
       "      <td>138</td>\n",
       "      <td>2023-24</td>\n",
       "      <td>2023</td>\n",
       "      <td>False</td>\n",
       "      <td>duranke01_2024</td>\n",
       "      <td>Kevin Durant</td>\n",
       "      <td>PF</td>\n",
       "      <td>35</td>\n",
       "      <td>...</td>\n",
       "      <td>41</td>\n",
       "      <td>454</td>\n",
       "      <td>495</td>\n",
       "      <td>378</td>\n",
       "      <td>69</td>\n",
       "      <td>91</td>\n",
       "      <td>244</td>\n",
       "      <td>133</td>\n",
       "      <td>2032</td>\n",
       "      <td>1</td>\n",
       "    </tr>\n",
       "    <tr>\n",
       "      <th>2</th>\n",
       "      <td>47607350</td>\n",
       "      <td>jokicni01</td>\n",
       "      <td>264</td>\n",
       "      <td>2023-24</td>\n",
       "      <td>2023</td>\n",
       "      <td>False</td>\n",
       "      <td>jokicni01_2024</td>\n",
       "      <td>Nikola Jokic</td>\n",
       "      <td>C</td>\n",
       "      <td>28</td>\n",
       "      <td>...</td>\n",
       "      <td>223</td>\n",
       "      <td>753</td>\n",
       "      <td>976</td>\n",
       "      <td>708</td>\n",
       "      <td>108</td>\n",
       "      <td>68</td>\n",
       "      <td>237</td>\n",
       "      <td>194</td>\n",
       "      <td>2085</td>\n",
       "      <td>1</td>\n",
       "    </tr>\n",
       "    <tr>\n",
       "      <th>3</th>\n",
       "      <td>47607350</td>\n",
       "      <td>embiijo01</td>\n",
       "      <td>144</td>\n",
       "      <td>2023-24</td>\n",
       "      <td>2023</td>\n",
       "      <td>False</td>\n",
       "      <td>embiijo01_2024</td>\n",
       "      <td>Joel Embiid</td>\n",
       "      <td>C</td>\n",
       "      <td>29</td>\n",
       "      <td>...</td>\n",
       "      <td>95</td>\n",
       "      <td>335</td>\n",
       "      <td>430</td>\n",
       "      <td>219</td>\n",
       "      <td>46</td>\n",
       "      <td>66</td>\n",
       "      <td>150</td>\n",
       "      <td>112</td>\n",
       "      <td>1353</td>\n",
       "      <td>1</td>\n",
       "    </tr>\n",
       "    <tr>\n",
       "      <th>4</th>\n",
       "      <td>47607350</td>\n",
       "      <td>jamesle01</td>\n",
       "      <td>251</td>\n",
       "      <td>2023-24</td>\n",
       "      <td>2023</td>\n",
       "      <td>False</td>\n",
       "      <td>jamesle01_2024</td>\n",
       "      <td>LeBron James</td>\n",
       "      <td>PF</td>\n",
       "      <td>39</td>\n",
       "      <td>...</td>\n",
       "      <td>61</td>\n",
       "      <td>457</td>\n",
       "      <td>518</td>\n",
       "      <td>589</td>\n",
       "      <td>89</td>\n",
       "      <td>38</td>\n",
       "      <td>245</td>\n",
       "      <td>78</td>\n",
       "      <td>1822</td>\n",
       "      <td>1</td>\n",
       "    </tr>\n",
       "    <tr>\n",
       "      <th>...</th>\n",
       "      <td>...</td>\n",
       "      <td>...</td>\n",
       "      <td>...</td>\n",
       "      <td>...</td>\n",
       "      <td>...</td>\n",
       "      <td>...</td>\n",
       "      <td>...</td>\n",
       "      <td>...</td>\n",
       "      <td>...</td>\n",
       "      <td>...</td>\n",
       "      <td>...</td>\n",
       "      <td>...</td>\n",
       "      <td>...</td>\n",
       "      <td>...</td>\n",
       "      <td>...</td>\n",
       "      <td>...</td>\n",
       "      <td>...</td>\n",
       "      <td>...</td>\n",
       "      <td>...</td>\n",
       "      <td>...</td>\n",
       "      <td>...</td>\n",
       "    </tr>\n",
       "    <tr>\n",
       "      <th>522</th>\n",
       "      <td>135120</td>\n",
       "      <td>evbuoto01</td>\n",
       "      <td>146</td>\n",
       "      <td>2023-24</td>\n",
       "      <td>2023</td>\n",
       "      <td>False</td>\n",
       "      <td>evbuoto01_2024</td>\n",
       "      <td>Tosan Evbuomwan</td>\n",
       "      <td>SF</td>\n",
       "      <td>22</td>\n",
       "      <td>...</td>\n",
       "      <td>18</td>\n",
       "      <td>42</td>\n",
       "      <td>60</td>\n",
       "      <td>16</td>\n",
       "      <td>6</td>\n",
       "      <td>5</td>\n",
       "      <td>9</td>\n",
       "      <td>23</td>\n",
       "      <td>101</td>\n",
       "      <td>1</td>\n",
       "    </tr>\n",
       "    <tr>\n",
       "      <th>523</th>\n",
       "      <td>77212</td>\n",
       "      <td>willima11</td>\n",
       "      <td>556</td>\n",
       "      <td>2023-24</td>\n",
       "      <td>2023</td>\n",
       "      <td>False</td>\n",
       "      <td>willima11_2024</td>\n",
       "      <td>Malik Williams</td>\n",
       "      <td>C</td>\n",
       "      <td>25</td>\n",
       "      <td>...</td>\n",
       "      <td>15</td>\n",
       "      <td>23</td>\n",
       "      <td>38</td>\n",
       "      <td>2</td>\n",
       "      <td>3</td>\n",
       "      <td>4</td>\n",
       "      <td>3</td>\n",
       "      <td>15</td>\n",
       "      <td>19</td>\n",
       "      <td>1</td>\n",
       "    </tr>\n",
       "    <tr>\n",
       "      <th>524</th>\n",
       "      <td>77212</td>\n",
       "      <td>willima11</td>\n",
       "      <td>556</td>\n",
       "      <td>2023-24</td>\n",
       "      <td>2023</td>\n",
       "      <td>False</td>\n",
       "      <td>willima11_2024</td>\n",
       "      <td>Malik Williams</td>\n",
       "      <td>C</td>\n",
       "      <td>25</td>\n",
       "      <td>...</td>\n",
       "      <td>15</td>\n",
       "      <td>23</td>\n",
       "      <td>38</td>\n",
       "      <td>2</td>\n",
       "      <td>3</td>\n",
       "      <td>4</td>\n",
       "      <td>3</td>\n",
       "      <td>15</td>\n",
       "      <td>19</td>\n",
       "      <td>1</td>\n",
       "    </tr>\n",
       "    <tr>\n",
       "      <th>525</th>\n",
       "      <td>64343</td>\n",
       "      <td>mooreta02</td>\n",
       "      <td>357</td>\n",
       "      <td>2023-24</td>\n",
       "      <td>2023</td>\n",
       "      <td>False</td>\n",
       "      <td>mooreta02_2024</td>\n",
       "      <td>Taze Moore</td>\n",
       "      <td>SG</td>\n",
       "      <td>25</td>\n",
       "      <td>...</td>\n",
       "      <td>4</td>\n",
       "      <td>4</td>\n",
       "      <td>8</td>\n",
       "      <td>5</td>\n",
       "      <td>2</td>\n",
       "      <td>0</td>\n",
       "      <td>3</td>\n",
       "      <td>4</td>\n",
       "      <td>18</td>\n",
       "      <td>1</td>\n",
       "    </tr>\n",
       "    <tr>\n",
       "      <th>526</th>\n",
       "      <td>64343</td>\n",
       "      <td>nancepe01</td>\n",
       "      <td>371</td>\n",
       "      <td>2023-24</td>\n",
       "      <td>2023</td>\n",
       "      <td>False</td>\n",
       "      <td>nancepe01_2024</td>\n",
       "      <td>Pete Nance</td>\n",
       "      <td>PF</td>\n",
       "      <td>23</td>\n",
       "      <td>...</td>\n",
       "      <td>0</td>\n",
       "      <td>3</td>\n",
       "      <td>3</td>\n",
       "      <td>0</td>\n",
       "      <td>1</td>\n",
       "      <td>0</td>\n",
       "      <td>1</td>\n",
       "      <td>2</td>\n",
       "      <td>3</td>\n",
       "      <td>1</td>\n",
       "    </tr>\n",
       "  </tbody>\n",
       "</table>\n",
       "<p>527 rows × 45 columns</p>\n",
       "</div>"
      ],
      "text/plain": [
       "       Salary slugPlayerBREF  Unnamed: 0 slugSeason  yearSeason  \\\n",
       "0    51915615      curryst01         114    2023-24        2023   \n",
       "1    47649433      duranke01         138    2023-24        2023   \n",
       "2    47607350      jokicni01         264    2023-24        2023   \n",
       "3    47607350      embiijo01         144    2023-24        2023   \n",
       "4    47607350      jamesle01         251    2023-24        2023   \n",
       "..        ...            ...         ...        ...         ...   \n",
       "522    135120      evbuoto01         146    2023-24        2023   \n",
       "523     77212      willima11         556    2023-24        2023   \n",
       "524     77212      willima11         556    2023-24        2023   \n",
       "525     64343      mooreta02         357    2023-24        2023   \n",
       "526     64343      nancepe01         371    2023-24        2023   \n",
       "\n",
       "     isSeasonCurrent slugPlayerSeason       namePlayer slugPosition  \\\n",
       "0              False   curryst01_2024    Stephen Curry           PG   \n",
       "1              False   duranke01_2024     Kevin Durant           PF   \n",
       "2              False   jokicni01_2024     Nikola Jokic            C   \n",
       "3              False   embiijo01_2024      Joel Embiid            C   \n",
       "4              False   jamesle01_2024     LeBron James           PF   \n",
       "..               ...              ...              ...          ...   \n",
       "522            False   evbuoto01_2024  Tosan Evbuomwan           SF   \n",
       "523            False   willima11_2024   Malik Williams            C   \n",
       "524            False   willima11_2024   Malik Williams            C   \n",
       "525            False   mooreta02_2024       Taze Moore           SG   \n",
       "526            False   nancepe01_2024       Pete Nance           PF   \n",
       "\n",
       "     agePlayer  ... orbTotals  drbTotals  trbTotals  astTotals  stlTotals  \\\n",
       "0           35  ...        37        293        330        379         54   \n",
       "1           35  ...        41        454        495        378         69   \n",
       "2           28  ...       223        753        976        708        108   \n",
       "3           29  ...        95        335        430        219         46   \n",
       "4           39  ...        61        457        518        589         89   \n",
       "..         ...  ...       ...        ...        ...        ...        ...   \n",
       "522         22  ...        18         42         60         16          6   \n",
       "523         25  ...        15         23         38          2          3   \n",
       "524         25  ...        15         23         38          2          3   \n",
       "525         25  ...         4          4          8          5          2   \n",
       "526         23  ...         0          3          3          0          1   \n",
       "\n",
       "     blkTotals  tovTotals  pfTotals  ptsTotals countTeamsPlayerSeasonTotals  \n",
       "0           28        210       117       1956                            1  \n",
       "1           91        244       133       2032                            1  \n",
       "2           68        237       194       2085                            1  \n",
       "3           66        150       112       1353                            1  \n",
       "4           38        245        78       1822                            1  \n",
       "..         ...        ...       ...        ...                          ...  \n",
       "522          5          9        23        101                            1  \n",
       "523          4          3        15         19                            1  \n",
       "524          4          3        15         19                            1  \n",
       "525          0          3         4         18                            1  \n",
       "526          0          1         2          3                            1  \n",
       "\n",
       "[527 rows x 45 columns]"
      ]
     },
     "execution_count": 30,
     "metadata": {},
     "output_type": "execute_result"
    }
   ],
   "source": [
    "SS = SS.dropna(subset=['Salary'])\n",
    "SS"
   ]
  },
  {
   "cell_type": "code",
   "execution_count": 31,
   "metadata": {},
   "outputs": [
    {
     "data": {
      "text/plain": [
       "Index(['Salary', 'slugPlayerBREF', 'Unnamed: 0', 'slugSeason', 'yearSeason',\n",
       "       'isSeasonCurrent', 'slugPlayerSeason', 'namePlayer', 'slugPosition',\n",
       "       'agePlayer', 'slugTeamBREF', 'countGames', 'countGamesStarted', 'pctFG',\n",
       "       'pctFG3', 'pctFG2', 'pctEFG', 'pctFT', 'isHOFPlayer', 'slugTeamsBREF',\n",
       "       'idPlayerNBA', 'urlPlayerThumbnail', 'urlPlayerHeadshot',\n",
       "       'urlPlayerPhoto', 'urlPlayerStats', 'urlPlayerActionPhoto',\n",
       "       'minutesTotals', 'fgmTotals', 'fgaTotals', 'fg3mTotals', 'fg3aTotals',\n",
       "       'fg2mTotals', 'fg2aTotals', 'ftmTotals', 'ftaTotals', 'orbTotals',\n",
       "       'drbTotals', 'trbTotals', 'astTotals', 'stlTotals', 'blkTotals',\n",
       "       'tovTotals', 'pfTotals', 'ptsTotals', 'countTeamsPlayerSeasonTotals'],\n",
       "      dtype='object')"
      ]
     },
     "execution_count": 31,
     "metadata": {},
     "output_type": "execute_result"
    }
   ],
   "source": [
    "SS.columns"
   ]
  },
  {
   "cell_type": "code",
   "execution_count": 32,
   "metadata": {},
   "outputs": [
    {
     "data": {
      "text/html": [
       "<div>\n",
       "<style scoped>\n",
       "    .dataframe tbody tr th:only-of-type {\n",
       "        vertical-align: middle;\n",
       "    }\n",
       "\n",
       "    .dataframe tbody tr th {\n",
       "        vertical-align: top;\n",
       "    }\n",
       "\n",
       "    .dataframe thead th {\n",
       "        text-align: right;\n",
       "    }\n",
       "</style>\n",
       "<table border=\"1\" class=\"dataframe\">\n",
       "  <thead>\n",
       "    <tr style=\"text-align: right;\">\n",
       "      <th></th>\n",
       "      <th>namePlayer</th>\n",
       "      <th>Salary</th>\n",
       "      <th>slugPlayerBREF</th>\n",
       "      <th>slugPosition</th>\n",
       "      <th>agePlayer</th>\n",
       "      <th>slugTeamBREF</th>\n",
       "      <th>countGames</th>\n",
       "      <th>countGamesStarted</th>\n",
       "      <th>pctFG</th>\n",
       "      <th>pctFG3</th>\n",
       "      <th>...</th>\n",
       "      <th>ftaTotals</th>\n",
       "      <th>orbTotals</th>\n",
       "      <th>drbTotals</th>\n",
       "      <th>trbTotals</th>\n",
       "      <th>astTotals</th>\n",
       "      <th>stlTotals</th>\n",
       "      <th>blkTotals</th>\n",
       "      <th>tovTotals</th>\n",
       "      <th>pfTotals</th>\n",
       "      <th>ptsTotals</th>\n",
       "    </tr>\n",
       "  </thead>\n",
       "  <tbody>\n",
       "    <tr>\n",
       "      <th>0</th>\n",
       "      <td>Stephen Curry</td>\n",
       "      <td>51915615</td>\n",
       "      <td>curryst01</td>\n",
       "      <td>PG</td>\n",
       "      <td>35</td>\n",
       "      <td>GSW</td>\n",
       "      <td>74</td>\n",
       "      <td>74</td>\n",
       "      <td>0.450</td>\n",
       "      <td>0.408</td>\n",
       "      <td>...</td>\n",
       "      <td>324</td>\n",
       "      <td>37</td>\n",
       "      <td>293</td>\n",
       "      <td>330</td>\n",
       "      <td>379</td>\n",
       "      <td>54</td>\n",
       "      <td>28</td>\n",
       "      <td>210</td>\n",
       "      <td>117</td>\n",
       "      <td>1956</td>\n",
       "    </tr>\n",
       "    <tr>\n",
       "      <th>1</th>\n",
       "      <td>Kevin Durant</td>\n",
       "      <td>47649433</td>\n",
       "      <td>duranke01</td>\n",
       "      <td>PF</td>\n",
       "      <td>35</td>\n",
       "      <td>PHO</td>\n",
       "      <td>75</td>\n",
       "      <td>75</td>\n",
       "      <td>0.523</td>\n",
       "      <td>0.413</td>\n",
       "      <td>...</td>\n",
       "      <td>423</td>\n",
       "      <td>41</td>\n",
       "      <td>454</td>\n",
       "      <td>495</td>\n",
       "      <td>378</td>\n",
       "      <td>69</td>\n",
       "      <td>91</td>\n",
       "      <td>244</td>\n",
       "      <td>133</td>\n",
       "      <td>2032</td>\n",
       "    </tr>\n",
       "    <tr>\n",
       "      <th>2</th>\n",
       "      <td>Nikola Jokic</td>\n",
       "      <td>47607350</td>\n",
       "      <td>jokicni01</td>\n",
       "      <td>C</td>\n",
       "      <td>28</td>\n",
       "      <td>DEN</td>\n",
       "      <td>79</td>\n",
       "      <td>79</td>\n",
       "      <td>0.583</td>\n",
       "      <td>0.359</td>\n",
       "      <td>...</td>\n",
       "      <td>438</td>\n",
       "      <td>223</td>\n",
       "      <td>753</td>\n",
       "      <td>976</td>\n",
       "      <td>708</td>\n",
       "      <td>108</td>\n",
       "      <td>68</td>\n",
       "      <td>237</td>\n",
       "      <td>194</td>\n",
       "      <td>2085</td>\n",
       "    </tr>\n",
       "    <tr>\n",
       "      <th>3</th>\n",
       "      <td>Joel Embiid</td>\n",
       "      <td>47607350</td>\n",
       "      <td>embiijo01</td>\n",
       "      <td>C</td>\n",
       "      <td>29</td>\n",
       "      <td>PHI</td>\n",
       "      <td>39</td>\n",
       "      <td>39</td>\n",
       "      <td>0.529</td>\n",
       "      <td>0.388</td>\n",
       "      <td>...</td>\n",
       "      <td>452</td>\n",
       "      <td>95</td>\n",
       "      <td>335</td>\n",
       "      <td>430</td>\n",
       "      <td>219</td>\n",
       "      <td>46</td>\n",
       "      <td>66</td>\n",
       "      <td>150</td>\n",
       "      <td>112</td>\n",
       "      <td>1353</td>\n",
       "    </tr>\n",
       "    <tr>\n",
       "      <th>4</th>\n",
       "      <td>LeBron James</td>\n",
       "      <td>47607350</td>\n",
       "      <td>jamesle01</td>\n",
       "      <td>PF</td>\n",
       "      <td>39</td>\n",
       "      <td>LAL</td>\n",
       "      <td>71</td>\n",
       "      <td>71</td>\n",
       "      <td>0.540</td>\n",
       "      <td>0.410</td>\n",
       "      <td>...</td>\n",
       "      <td>404</td>\n",
       "      <td>61</td>\n",
       "      <td>457</td>\n",
       "      <td>518</td>\n",
       "      <td>589</td>\n",
       "      <td>89</td>\n",
       "      <td>38</td>\n",
       "      <td>245</td>\n",
       "      <td>78</td>\n",
       "      <td>1822</td>\n",
       "    </tr>\n",
       "    <tr>\n",
       "      <th>...</th>\n",
       "      <td>...</td>\n",
       "      <td>...</td>\n",
       "      <td>...</td>\n",
       "      <td>...</td>\n",
       "      <td>...</td>\n",
       "      <td>...</td>\n",
       "      <td>...</td>\n",
       "      <td>...</td>\n",
       "      <td>...</td>\n",
       "      <td>...</td>\n",
       "      <td>...</td>\n",
       "      <td>...</td>\n",
       "      <td>...</td>\n",
       "      <td>...</td>\n",
       "      <td>...</td>\n",
       "      <td>...</td>\n",
       "      <td>...</td>\n",
       "      <td>...</td>\n",
       "      <td>...</td>\n",
       "      <td>...</td>\n",
       "      <td>...</td>\n",
       "    </tr>\n",
       "    <tr>\n",
       "      <th>522</th>\n",
       "      <td>Tosan Evbuomwan</td>\n",
       "      <td>135120</td>\n",
       "      <td>evbuoto01</td>\n",
       "      <td>SF</td>\n",
       "      <td>22</td>\n",
       "      <td>TOT</td>\n",
       "      <td>17</td>\n",
       "      <td>8</td>\n",
       "      <td>0.507</td>\n",
       "      <td>0.375</td>\n",
       "      <td>...</td>\n",
       "      <td>25</td>\n",
       "      <td>18</td>\n",
       "      <td>42</td>\n",
       "      <td>60</td>\n",
       "      <td>16</td>\n",
       "      <td>6</td>\n",
       "      <td>5</td>\n",
       "      <td>9</td>\n",
       "      <td>23</td>\n",
       "      <td>101</td>\n",
       "    </tr>\n",
       "    <tr>\n",
       "      <th>523</th>\n",
       "      <td>Malik Williams</td>\n",
       "      <td>77212</td>\n",
       "      <td>willima11</td>\n",
       "      <td>C</td>\n",
       "      <td>25</td>\n",
       "      <td>TOR</td>\n",
       "      <td>7</td>\n",
       "      <td>2</td>\n",
       "      <td>0.265</td>\n",
       "      <td>0.200</td>\n",
       "      <td>...</td>\n",
       "      <td>2</td>\n",
       "      <td>15</td>\n",
       "      <td>23</td>\n",
       "      <td>38</td>\n",
       "      <td>2</td>\n",
       "      <td>3</td>\n",
       "      <td>4</td>\n",
       "      <td>3</td>\n",
       "      <td>15</td>\n",
       "      <td>19</td>\n",
       "    </tr>\n",
       "    <tr>\n",
       "      <th>524</th>\n",
       "      <td>Malik Williams</td>\n",
       "      <td>77212</td>\n",
       "      <td>willima11</td>\n",
       "      <td>C</td>\n",
       "      <td>25</td>\n",
       "      <td>TOR</td>\n",
       "      <td>7</td>\n",
       "      <td>2</td>\n",
       "      <td>0.265</td>\n",
       "      <td>0.200</td>\n",
       "      <td>...</td>\n",
       "      <td>2</td>\n",
       "      <td>15</td>\n",
       "      <td>23</td>\n",
       "      <td>38</td>\n",
       "      <td>2</td>\n",
       "      <td>3</td>\n",
       "      <td>4</td>\n",
       "      <td>3</td>\n",
       "      <td>15</td>\n",
       "      <td>19</td>\n",
       "    </tr>\n",
       "    <tr>\n",
       "      <th>525</th>\n",
       "      <td>Taze Moore</td>\n",
       "      <td>64343</td>\n",
       "      <td>mooreta02</td>\n",
       "      <td>SG</td>\n",
       "      <td>25</td>\n",
       "      <td>POR</td>\n",
       "      <td>4</td>\n",
       "      <td>0</td>\n",
       "      <td>0.421</td>\n",
       "      <td>0.143</td>\n",
       "      <td>...</td>\n",
       "      <td>2</td>\n",
       "      <td>4</td>\n",
       "      <td>4</td>\n",
       "      <td>8</td>\n",
       "      <td>5</td>\n",
       "      <td>2</td>\n",
       "      <td>0</td>\n",
       "      <td>3</td>\n",
       "      <td>4</td>\n",
       "      <td>18</td>\n",
       "    </tr>\n",
       "    <tr>\n",
       "      <th>526</th>\n",
       "      <td>Pete Nance</td>\n",
       "      <td>64343</td>\n",
       "      <td>nancepe01</td>\n",
       "      <td>PF</td>\n",
       "      <td>23</td>\n",
       "      <td>CLE</td>\n",
       "      <td>8</td>\n",
       "      <td>0</td>\n",
       "      <td>0.167</td>\n",
       "      <td>0.010</td>\n",
       "      <td>...</td>\n",
       "      <td>2</td>\n",
       "      <td>0</td>\n",
       "      <td>3</td>\n",
       "      <td>3</td>\n",
       "      <td>0</td>\n",
       "      <td>1</td>\n",
       "      <td>0</td>\n",
       "      <td>1</td>\n",
       "      <td>2</td>\n",
       "      <td>3</td>\n",
       "    </tr>\n",
       "  </tbody>\n",
       "</table>\n",
       "<p>527 rows × 34 columns</p>\n",
       "</div>"
      ],
      "text/plain": [
       "          namePlayer    Salary slugPlayerBREF slugPosition  agePlayer  \\\n",
       "0      Stephen Curry  51915615      curryst01           PG         35   \n",
       "1       Kevin Durant  47649433      duranke01           PF         35   \n",
       "2       Nikola Jokic  47607350      jokicni01            C         28   \n",
       "3        Joel Embiid  47607350      embiijo01            C         29   \n",
       "4       LeBron James  47607350      jamesle01           PF         39   \n",
       "..               ...       ...            ...          ...        ...   \n",
       "522  Tosan Evbuomwan    135120      evbuoto01           SF         22   \n",
       "523   Malik Williams     77212      willima11            C         25   \n",
       "524   Malik Williams     77212      willima11            C         25   \n",
       "525       Taze Moore     64343      mooreta02           SG         25   \n",
       "526       Pete Nance     64343      nancepe01           PF         23   \n",
       "\n",
       "    slugTeamBREF  countGames  countGamesStarted  pctFG  pctFG3  ...  \\\n",
       "0            GSW          74                 74  0.450   0.408  ...   \n",
       "1            PHO          75                 75  0.523   0.413  ...   \n",
       "2            DEN          79                 79  0.583   0.359  ...   \n",
       "3            PHI          39                 39  0.529   0.388  ...   \n",
       "4            LAL          71                 71  0.540   0.410  ...   \n",
       "..           ...         ...                ...    ...     ...  ...   \n",
       "522          TOT          17                  8  0.507   0.375  ...   \n",
       "523          TOR           7                  2  0.265   0.200  ...   \n",
       "524          TOR           7                  2  0.265   0.200  ...   \n",
       "525          POR           4                  0  0.421   0.143  ...   \n",
       "526          CLE           8                  0  0.167   0.010  ...   \n",
       "\n",
       "     ftaTotals  orbTotals  drbTotals  trbTotals astTotals  stlTotals  \\\n",
       "0          324         37        293        330       379         54   \n",
       "1          423         41        454        495       378         69   \n",
       "2          438        223        753        976       708        108   \n",
       "3          452         95        335        430       219         46   \n",
       "4          404         61        457        518       589         89   \n",
       "..         ...        ...        ...        ...       ...        ...   \n",
       "522         25         18         42         60        16          6   \n",
       "523          2         15         23         38         2          3   \n",
       "524          2         15         23         38         2          3   \n",
       "525          2          4          4          8         5          2   \n",
       "526          2          0          3          3         0          1   \n",
       "\n",
       "     blkTotals  tovTotals  pfTotals  ptsTotals  \n",
       "0           28        210       117       1956  \n",
       "1           91        244       133       2032  \n",
       "2           68        237       194       2085  \n",
       "3           66        150       112       1353  \n",
       "4           38        245        78       1822  \n",
       "..         ...        ...       ...        ...  \n",
       "522          5          9        23        101  \n",
       "523          4          3        15         19  \n",
       "524          4          3        15         19  \n",
       "525          0          3         4         18  \n",
       "526          0          1         2          3  \n",
       "\n",
       "[527 rows x 34 columns]"
      ]
     },
     "execution_count": 32,
     "metadata": {},
     "output_type": "execute_result"
    }
   ],
   "source": [
    "SS = SS[['namePlayer','Salary', 'slugPlayerBREF', 'slugPosition',\n",
    "       'agePlayer', 'slugTeamBREF', 'countGames', 'countGamesStarted', 'pctFG',\n",
    "       'pctFG3', 'pctFG2', 'pctEFG', 'pctFT', 'isHOFPlayer', 'slugTeamsBREF',\n",
    "       'idPlayerNBA', 'minutesTotals', 'fgmTotals', 'fgaTotals', 'fg3mTotals', 'fg3aTotals',\n",
    "       'fg2mTotals', 'fg2aTotals', 'ftmTotals', 'ftaTotals', 'orbTotals',\n",
    "       'drbTotals', 'trbTotals', 'astTotals', 'stlTotals', 'blkTotals',\n",
    "       'tovTotals', 'pfTotals', 'ptsTotals']]\n",
    "SS"
   ]
  },
  {
   "cell_type": "code",
   "execution_count": 33,
   "metadata": {},
   "outputs": [
    {
     "data": {
      "text/html": [
       "<div>\n",
       "<style scoped>\n",
       "    .dataframe tbody tr th:only-of-type {\n",
       "        vertical-align: middle;\n",
       "    }\n",
       "\n",
       "    .dataframe tbody tr th {\n",
       "        vertical-align: top;\n",
       "    }\n",
       "\n",
       "    .dataframe thead th {\n",
       "        text-align: right;\n",
       "    }\n",
       "</style>\n",
       "<table border=\"1\" class=\"dataframe\">\n",
       "  <thead>\n",
       "    <tr style=\"text-align: right;\">\n",
       "      <th></th>\n",
       "      <th>Salary</th>\n",
       "      <th>agePlayer</th>\n",
       "      <th>countGames</th>\n",
       "      <th>countGamesStarted</th>\n",
       "      <th>pctFG</th>\n",
       "      <th>pctFG3</th>\n",
       "      <th>pctFG2</th>\n",
       "      <th>pctEFG</th>\n",
       "      <th>pctFT</th>\n",
       "      <th>idPlayerNBA</th>\n",
       "      <th>...</th>\n",
       "      <th>ftaTotals</th>\n",
       "      <th>orbTotals</th>\n",
       "      <th>drbTotals</th>\n",
       "      <th>trbTotals</th>\n",
       "      <th>astTotals</th>\n",
       "      <th>stlTotals</th>\n",
       "      <th>blkTotals</th>\n",
       "      <th>tovTotals</th>\n",
       "      <th>pfTotals</th>\n",
       "      <th>ptsTotals</th>\n",
       "    </tr>\n",
       "  </thead>\n",
       "  <tbody>\n",
       "    <tr>\n",
       "      <th>count</th>\n",
       "      <td>5.270000e+02</td>\n",
       "      <td>527.000000</td>\n",
       "      <td>527.000000</td>\n",
       "      <td>527.000000</td>\n",
       "      <td>527.000000</td>\n",
       "      <td>527.000000</td>\n",
       "      <td>527.000000</td>\n",
       "      <td>527.000000</td>\n",
       "      <td>527.000000</td>\n",
       "      <td>5.200000e+02</td>\n",
       "      <td>...</td>\n",
       "      <td>527.000000</td>\n",
       "      <td>527.000000</td>\n",
       "      <td>527.000000</td>\n",
       "      <td>527.000000</td>\n",
       "      <td>527.000000</td>\n",
       "      <td>527.000000</td>\n",
       "      <td>527.000000</td>\n",
       "      <td>527.000000</td>\n",
       "      <td>527.000000</td>\n",
       "      <td>527.000000</td>\n",
       "    </tr>\n",
       "    <tr>\n",
       "      <th>mean</th>\n",
       "      <td>9.464072e+06</td>\n",
       "      <td>26.425047</td>\n",
       "      <td>50.924099</td>\n",
       "      <td>23.770398</td>\n",
       "      <td>0.458829</td>\n",
       "      <td>0.303374</td>\n",
       "      <td>0.527556</td>\n",
       "      <td>0.526636</td>\n",
       "      <td>0.686239</td>\n",
       "      <td>1.292253e+06</td>\n",
       "      <td>...</td>\n",
       "      <td>102.984820</td>\n",
       "      <td>50.155598</td>\n",
       "      <td>157.151803</td>\n",
       "      <td>207.307400</td>\n",
       "      <td>126.506641</td>\n",
       "      <td>35.631879</td>\n",
       "      <td>24.415560</td>\n",
       "      <td>61.108159</td>\n",
       "      <td>89.273245</td>\n",
       "      <td>541.432638</td>\n",
       "    </tr>\n",
       "    <tr>\n",
       "      <th>std</th>\n",
       "      <td>1.107296e+07</td>\n",
       "      <td>4.694627</td>\n",
       "      <td>22.787369</td>\n",
       "      <td>27.260510</td>\n",
       "      <td>0.093238</td>\n",
       "      <td>0.126507</td>\n",
       "      <td>0.107902</td>\n",
       "      <td>0.090113</td>\n",
       "      <td>0.239207</td>\n",
       "      <td>6.090631e+05</td>\n",
       "      <td>...</td>\n",
       "      <td>119.845384</td>\n",
       "      <td>51.331311</td>\n",
       "      <td>138.951888</td>\n",
       "      <td>182.996947</td>\n",
       "      <td>135.422573</td>\n",
       "      <td>27.912022</td>\n",
       "      <td>29.203885</td>\n",
       "      <td>56.835244</td>\n",
       "      <td>61.437759</td>\n",
       "      <td>505.016875</td>\n",
       "    </tr>\n",
       "    <tr>\n",
       "      <th>min</th>\n",
       "      <td>6.434300e+04</td>\n",
       "      <td>19.000000</td>\n",
       "      <td>2.000000</td>\n",
       "      <td>0.000000</td>\n",
       "      <td>0.000000</td>\n",
       "      <td>0.000000</td>\n",
       "      <td>0.000000</td>\n",
       "      <td>0.000000</td>\n",
       "      <td>0.000000</td>\n",
       "      <td>2.544000e+03</td>\n",
       "      <td>...</td>\n",
       "      <td>0.000000</td>\n",
       "      <td>0.000000</td>\n",
       "      <td>0.000000</td>\n",
       "      <td>0.000000</td>\n",
       "      <td>0.000000</td>\n",
       "      <td>0.000000</td>\n",
       "      <td>0.000000</td>\n",
       "      <td>0.000000</td>\n",
       "      <td>0.000000</td>\n",
       "      <td>0.000000</td>\n",
       "    </tr>\n",
       "    <tr>\n",
       "      <th>25%</th>\n",
       "      <td>2.019706e+06</td>\n",
       "      <td>23.000000</td>\n",
       "      <td>34.000000</td>\n",
       "      <td>1.000000</td>\n",
       "      <td>0.416000</td>\n",
       "      <td>0.277000</td>\n",
       "      <td>0.487000</td>\n",
       "      <td>0.492500</td>\n",
       "      <td>0.667000</td>\n",
       "      <td>1.626164e+06</td>\n",
       "      <td>...</td>\n",
       "      <td>22.500000</td>\n",
       "      <td>15.000000</td>\n",
       "      <td>53.000000</td>\n",
       "      <td>71.500000</td>\n",
       "      <td>28.000000</td>\n",
       "      <td>11.000000</td>\n",
       "      <td>6.000000</td>\n",
       "      <td>16.000000</td>\n",
       "      <td>39.000000</td>\n",
       "      <td>144.000000</td>\n",
       "    </tr>\n",
       "    <tr>\n",
       "      <th>50%</th>\n",
       "      <td>4.698000e+06</td>\n",
       "      <td>26.000000</td>\n",
       "      <td>55.000000</td>\n",
       "      <td>10.000000</td>\n",
       "      <td>0.453000</td>\n",
       "      <td>0.346000</td>\n",
       "      <td>0.537000</td>\n",
       "      <td>0.534000</td>\n",
       "      <td>0.759000</td>\n",
       "      <td>1.629601e+06</td>\n",
       "      <td>...</td>\n",
       "      <td>59.000000</td>\n",
       "      <td>36.000000</td>\n",
       "      <td>126.000000</td>\n",
       "      <td>167.000000</td>\n",
       "      <td>81.000000</td>\n",
       "      <td>32.000000</td>\n",
       "      <td>16.000000</td>\n",
       "      <td>46.000000</td>\n",
       "      <td>81.000000</td>\n",
       "      <td>376.000000</td>\n",
       "    </tr>\n",
       "    <tr>\n",
       "      <th>75%</th>\n",
       "      <td>1.207301e+07</td>\n",
       "      <td>30.000000</td>\n",
       "      <td>70.000000</td>\n",
       "      <td>46.500000</td>\n",
       "      <td>0.500000</td>\n",
       "      <td>0.382500</td>\n",
       "      <td>0.581000</td>\n",
       "      <td>0.576500</td>\n",
       "      <td>0.826000</td>\n",
       "      <td>1.630568e+06</td>\n",
       "      <td>...</td>\n",
       "      <td>138.000000</td>\n",
       "      <td>67.000000</td>\n",
       "      <td>225.500000</td>\n",
       "      <td>282.500000</td>\n",
       "      <td>176.000000</td>\n",
       "      <td>53.000000</td>\n",
       "      <td>35.000000</td>\n",
       "      <td>91.000000</td>\n",
       "      <td>137.000000</td>\n",
       "      <td>841.000000</td>\n",
       "    </tr>\n",
       "    <tr>\n",
       "      <th>max</th>\n",
       "      <td>5.191562e+07</td>\n",
       "      <td>39.000000</td>\n",
       "      <td>84.000000</td>\n",
       "      <td>82.000000</td>\n",
       "      <td>0.747000</td>\n",
       "      <td>0.750000</td>\n",
       "      <td>0.800000</td>\n",
       "      <td>0.747000</td>\n",
       "      <td>0.944000</td>\n",
       "      <td>1.642013e+06</td>\n",
       "      <td>...</td>\n",
       "      <td>782.000000</td>\n",
       "      <td>335.000000</td>\n",
       "      <td>826.000000</td>\n",
       "      <td>1120.000000</td>\n",
       "      <td>752.000000</td>\n",
       "      <td>150.000000</td>\n",
       "      <td>254.000000</td>\n",
       "      <td>282.000000</td>\n",
       "      <td>254.000000</td>\n",
       "      <td>2370.000000</td>\n",
       "    </tr>\n",
       "  </tbody>\n",
       "</table>\n",
       "<p>8 rows × 28 columns</p>\n",
       "</div>"
      ],
      "text/plain": [
       "             Salary   agePlayer  countGames  countGamesStarted       pctFG  \\\n",
       "count  5.270000e+02  527.000000  527.000000         527.000000  527.000000   \n",
       "mean   9.464072e+06   26.425047   50.924099          23.770398    0.458829   \n",
       "std    1.107296e+07    4.694627   22.787369          27.260510    0.093238   \n",
       "min    6.434300e+04   19.000000    2.000000           0.000000    0.000000   \n",
       "25%    2.019706e+06   23.000000   34.000000           1.000000    0.416000   \n",
       "50%    4.698000e+06   26.000000   55.000000          10.000000    0.453000   \n",
       "75%    1.207301e+07   30.000000   70.000000          46.500000    0.500000   \n",
       "max    5.191562e+07   39.000000   84.000000          82.000000    0.747000   \n",
       "\n",
       "           pctFG3      pctFG2      pctEFG       pctFT   idPlayerNBA  ...  \\\n",
       "count  527.000000  527.000000  527.000000  527.000000  5.200000e+02  ...   \n",
       "mean     0.303374    0.527556    0.526636    0.686239  1.292253e+06  ...   \n",
       "std      0.126507    0.107902    0.090113    0.239207  6.090631e+05  ...   \n",
       "min      0.000000    0.000000    0.000000    0.000000  2.544000e+03  ...   \n",
       "25%      0.277000    0.487000    0.492500    0.667000  1.626164e+06  ...   \n",
       "50%      0.346000    0.537000    0.534000    0.759000  1.629601e+06  ...   \n",
       "75%      0.382500    0.581000    0.576500    0.826000  1.630568e+06  ...   \n",
       "max      0.750000    0.800000    0.747000    0.944000  1.642013e+06  ...   \n",
       "\n",
       "        ftaTotals   orbTotals   drbTotals    trbTotals   astTotals  \\\n",
       "count  527.000000  527.000000  527.000000   527.000000  527.000000   \n",
       "mean   102.984820   50.155598  157.151803   207.307400  126.506641   \n",
       "std    119.845384   51.331311  138.951888   182.996947  135.422573   \n",
       "min      0.000000    0.000000    0.000000     0.000000    0.000000   \n",
       "25%     22.500000   15.000000   53.000000    71.500000   28.000000   \n",
       "50%     59.000000   36.000000  126.000000   167.000000   81.000000   \n",
       "75%    138.000000   67.000000  225.500000   282.500000  176.000000   \n",
       "max    782.000000  335.000000  826.000000  1120.000000  752.000000   \n",
       "\n",
       "        stlTotals   blkTotals   tovTotals    pfTotals    ptsTotals  \n",
       "count  527.000000  527.000000  527.000000  527.000000   527.000000  \n",
       "mean    35.631879   24.415560   61.108159   89.273245   541.432638  \n",
       "std     27.912022   29.203885   56.835244   61.437759   505.016875  \n",
       "min      0.000000    0.000000    0.000000    0.000000     0.000000  \n",
       "25%     11.000000    6.000000   16.000000   39.000000   144.000000  \n",
       "50%     32.000000   16.000000   46.000000   81.000000   376.000000  \n",
       "75%     53.000000   35.000000   91.000000  137.000000   841.000000  \n",
       "max    150.000000  254.000000  282.000000  254.000000  2370.000000  \n",
       "\n",
       "[8 rows x 28 columns]"
      ]
     },
     "execution_count": 33,
     "metadata": {},
     "output_type": "execute_result"
    }
   ],
   "source": [
    "SS.describe()"
   ]
  },
  {
   "cell_type": "code",
   "execution_count": 36,
   "metadata": {},
   "outputs": [
    {
     "data": {
      "text/html": [
       "<div>\n",
       "<style scoped>\n",
       "    .dataframe tbody tr th:only-of-type {\n",
       "        vertical-align: middle;\n",
       "    }\n",
       "\n",
       "    .dataframe tbody tr th {\n",
       "        vertical-align: top;\n",
       "    }\n",
       "\n",
       "    .dataframe thead th {\n",
       "        text-align: right;\n",
       "    }\n",
       "</style>\n",
       "<table border=\"1\" class=\"dataframe\">\n",
       "  <thead>\n",
       "    <tr style=\"text-align: right;\">\n",
       "      <th></th>\n",
       "      <th>namePlayer</th>\n",
       "      <th>Salary</th>\n",
       "      <th>slugPlayerBREF</th>\n",
       "      <th>slugPosition</th>\n",
       "      <th>agePlayer</th>\n",
       "      <th>slugTeamBREF</th>\n",
       "      <th>countGames</th>\n",
       "      <th>countGamesStarted</th>\n",
       "      <th>pctFG</th>\n",
       "      <th>pctFG3</th>\n",
       "      <th>...</th>\n",
       "      <th>ftaTotals</th>\n",
       "      <th>orbTotals</th>\n",
       "      <th>drbTotals</th>\n",
       "      <th>trbTotals</th>\n",
       "      <th>astTotals</th>\n",
       "      <th>stlTotals</th>\n",
       "      <th>blkTotals</th>\n",
       "      <th>tovTotals</th>\n",
       "      <th>pfTotals</th>\n",
       "      <th>ptsTotals</th>\n",
       "    </tr>\n",
       "  </thead>\n",
       "  <tbody>\n",
       "    <tr>\n",
       "      <th>0</th>\n",
       "      <td>Stephen Curry</td>\n",
       "      <td>51915615</td>\n",
       "      <td>curryst01</td>\n",
       "      <td>PG</td>\n",
       "      <td>35</td>\n",
       "      <td>GSW</td>\n",
       "      <td>74</td>\n",
       "      <td>74</td>\n",
       "      <td>0.450</td>\n",
       "      <td>0.408</td>\n",
       "      <td>...</td>\n",
       "      <td>324</td>\n",
       "      <td>37</td>\n",
       "      <td>293</td>\n",
       "      <td>330</td>\n",
       "      <td>379</td>\n",
       "      <td>54</td>\n",
       "      <td>28</td>\n",
       "      <td>210</td>\n",
       "      <td>117</td>\n",
       "      <td>1956</td>\n",
       "    </tr>\n",
       "    <tr>\n",
       "      <th>1</th>\n",
       "      <td>Kevin Durant</td>\n",
       "      <td>47649433</td>\n",
       "      <td>duranke01</td>\n",
       "      <td>PF</td>\n",
       "      <td>35</td>\n",
       "      <td>PHO</td>\n",
       "      <td>75</td>\n",
       "      <td>75</td>\n",
       "      <td>0.523</td>\n",
       "      <td>0.413</td>\n",
       "      <td>...</td>\n",
       "      <td>423</td>\n",
       "      <td>41</td>\n",
       "      <td>454</td>\n",
       "      <td>495</td>\n",
       "      <td>378</td>\n",
       "      <td>69</td>\n",
       "      <td>91</td>\n",
       "      <td>244</td>\n",
       "      <td>133</td>\n",
       "      <td>2032</td>\n",
       "    </tr>\n",
       "    <tr>\n",
       "      <th>2</th>\n",
       "      <td>Nikola Jokic</td>\n",
       "      <td>47607350</td>\n",
       "      <td>jokicni01</td>\n",
       "      <td>C</td>\n",
       "      <td>28</td>\n",
       "      <td>DEN</td>\n",
       "      <td>79</td>\n",
       "      <td>79</td>\n",
       "      <td>0.583</td>\n",
       "      <td>0.359</td>\n",
       "      <td>...</td>\n",
       "      <td>438</td>\n",
       "      <td>223</td>\n",
       "      <td>753</td>\n",
       "      <td>976</td>\n",
       "      <td>708</td>\n",
       "      <td>108</td>\n",
       "      <td>68</td>\n",
       "      <td>237</td>\n",
       "      <td>194</td>\n",
       "      <td>2085</td>\n",
       "    </tr>\n",
       "    <tr>\n",
       "      <th>3</th>\n",
       "      <td>Joel Embiid</td>\n",
       "      <td>47607350</td>\n",
       "      <td>embiijo01</td>\n",
       "      <td>C</td>\n",
       "      <td>29</td>\n",
       "      <td>PHI</td>\n",
       "      <td>39</td>\n",
       "      <td>39</td>\n",
       "      <td>0.529</td>\n",
       "      <td>0.388</td>\n",
       "      <td>...</td>\n",
       "      <td>452</td>\n",
       "      <td>95</td>\n",
       "      <td>335</td>\n",
       "      <td>430</td>\n",
       "      <td>219</td>\n",
       "      <td>46</td>\n",
       "      <td>66</td>\n",
       "      <td>150</td>\n",
       "      <td>112</td>\n",
       "      <td>1353</td>\n",
       "    </tr>\n",
       "    <tr>\n",
       "      <th>4</th>\n",
       "      <td>LeBron James</td>\n",
       "      <td>47607350</td>\n",
       "      <td>jamesle01</td>\n",
       "      <td>PF</td>\n",
       "      <td>39</td>\n",
       "      <td>LAL</td>\n",
       "      <td>71</td>\n",
       "      <td>71</td>\n",
       "      <td>0.540</td>\n",
       "      <td>0.410</td>\n",
       "      <td>...</td>\n",
       "      <td>404</td>\n",
       "      <td>61</td>\n",
       "      <td>457</td>\n",
       "      <td>518</td>\n",
       "      <td>589</td>\n",
       "      <td>89</td>\n",
       "      <td>38</td>\n",
       "      <td>245</td>\n",
       "      <td>78</td>\n",
       "      <td>1822</td>\n",
       "    </tr>\n",
       "    <tr>\n",
       "      <th>...</th>\n",
       "      <td>...</td>\n",
       "      <td>...</td>\n",
       "      <td>...</td>\n",
       "      <td>...</td>\n",
       "      <td>...</td>\n",
       "      <td>...</td>\n",
       "      <td>...</td>\n",
       "      <td>...</td>\n",
       "      <td>...</td>\n",
       "      <td>...</td>\n",
       "      <td>...</td>\n",
       "      <td>...</td>\n",
       "      <td>...</td>\n",
       "      <td>...</td>\n",
       "      <td>...</td>\n",
       "      <td>...</td>\n",
       "      <td>...</td>\n",
       "      <td>...</td>\n",
       "      <td>...</td>\n",
       "      <td>...</td>\n",
       "      <td>...</td>\n",
       "    </tr>\n",
       "    <tr>\n",
       "      <th>522</th>\n",
       "      <td>Tosan Evbuomwan</td>\n",
       "      <td>135120</td>\n",
       "      <td>evbuoto01</td>\n",
       "      <td>SF</td>\n",
       "      <td>22</td>\n",
       "      <td>TOT</td>\n",
       "      <td>17</td>\n",
       "      <td>8</td>\n",
       "      <td>0.507</td>\n",
       "      <td>0.375</td>\n",
       "      <td>...</td>\n",
       "      <td>25</td>\n",
       "      <td>18</td>\n",
       "      <td>42</td>\n",
       "      <td>60</td>\n",
       "      <td>16</td>\n",
       "      <td>6</td>\n",
       "      <td>5</td>\n",
       "      <td>9</td>\n",
       "      <td>23</td>\n",
       "      <td>101</td>\n",
       "    </tr>\n",
       "    <tr>\n",
       "      <th>523</th>\n",
       "      <td>Malik Williams</td>\n",
       "      <td>77212</td>\n",
       "      <td>willima11</td>\n",
       "      <td>C</td>\n",
       "      <td>25</td>\n",
       "      <td>TOR</td>\n",
       "      <td>7</td>\n",
       "      <td>2</td>\n",
       "      <td>0.265</td>\n",
       "      <td>0.200</td>\n",
       "      <td>...</td>\n",
       "      <td>2</td>\n",
       "      <td>15</td>\n",
       "      <td>23</td>\n",
       "      <td>38</td>\n",
       "      <td>2</td>\n",
       "      <td>3</td>\n",
       "      <td>4</td>\n",
       "      <td>3</td>\n",
       "      <td>15</td>\n",
       "      <td>19</td>\n",
       "    </tr>\n",
       "    <tr>\n",
       "      <th>524</th>\n",
       "      <td>Malik Williams</td>\n",
       "      <td>77212</td>\n",
       "      <td>willima11</td>\n",
       "      <td>C</td>\n",
       "      <td>25</td>\n",
       "      <td>TOR</td>\n",
       "      <td>7</td>\n",
       "      <td>2</td>\n",
       "      <td>0.265</td>\n",
       "      <td>0.200</td>\n",
       "      <td>...</td>\n",
       "      <td>2</td>\n",
       "      <td>15</td>\n",
       "      <td>23</td>\n",
       "      <td>38</td>\n",
       "      <td>2</td>\n",
       "      <td>3</td>\n",
       "      <td>4</td>\n",
       "      <td>3</td>\n",
       "      <td>15</td>\n",
       "      <td>19</td>\n",
       "    </tr>\n",
       "    <tr>\n",
       "      <th>525</th>\n",
       "      <td>Taze Moore</td>\n",
       "      <td>64343</td>\n",
       "      <td>mooreta02</td>\n",
       "      <td>SG</td>\n",
       "      <td>25</td>\n",
       "      <td>POR</td>\n",
       "      <td>4</td>\n",
       "      <td>0</td>\n",
       "      <td>0.421</td>\n",
       "      <td>0.143</td>\n",
       "      <td>...</td>\n",
       "      <td>2</td>\n",
       "      <td>4</td>\n",
       "      <td>4</td>\n",
       "      <td>8</td>\n",
       "      <td>5</td>\n",
       "      <td>2</td>\n",
       "      <td>0</td>\n",
       "      <td>3</td>\n",
       "      <td>4</td>\n",
       "      <td>18</td>\n",
       "    </tr>\n",
       "    <tr>\n",
       "      <th>526</th>\n",
       "      <td>Pete Nance</td>\n",
       "      <td>64343</td>\n",
       "      <td>nancepe01</td>\n",
       "      <td>PF</td>\n",
       "      <td>23</td>\n",
       "      <td>CLE</td>\n",
       "      <td>8</td>\n",
       "      <td>0</td>\n",
       "      <td>0.167</td>\n",
       "      <td>0.010</td>\n",
       "      <td>...</td>\n",
       "      <td>2</td>\n",
       "      <td>0</td>\n",
       "      <td>3</td>\n",
       "      <td>3</td>\n",
       "      <td>0</td>\n",
       "      <td>1</td>\n",
       "      <td>0</td>\n",
       "      <td>1</td>\n",
       "      <td>2</td>\n",
       "      <td>3</td>\n",
       "    </tr>\n",
       "  </tbody>\n",
       "</table>\n",
       "<p>527 rows × 34 columns</p>\n",
       "</div>"
      ],
      "text/plain": [
       "          namePlayer    Salary slugPlayerBREF slugPosition  agePlayer  \\\n",
       "0      Stephen Curry  51915615      curryst01           PG         35   \n",
       "1       Kevin Durant  47649433      duranke01           PF         35   \n",
       "2       Nikola Jokic  47607350      jokicni01            C         28   \n",
       "3        Joel Embiid  47607350      embiijo01            C         29   \n",
       "4       LeBron James  47607350      jamesle01           PF         39   \n",
       "..               ...       ...            ...          ...        ...   \n",
       "522  Tosan Evbuomwan    135120      evbuoto01           SF         22   \n",
       "523   Malik Williams     77212      willima11            C         25   \n",
       "524   Malik Williams     77212      willima11            C         25   \n",
       "525       Taze Moore     64343      mooreta02           SG         25   \n",
       "526       Pete Nance     64343      nancepe01           PF         23   \n",
       "\n",
       "    slugTeamBREF  countGames  countGamesStarted  pctFG  pctFG3  ...  \\\n",
       "0            GSW          74                 74  0.450   0.408  ...   \n",
       "1            PHO          75                 75  0.523   0.413  ...   \n",
       "2            DEN          79                 79  0.583   0.359  ...   \n",
       "3            PHI          39                 39  0.529   0.388  ...   \n",
       "4            LAL          71                 71  0.540   0.410  ...   \n",
       "..           ...         ...                ...    ...     ...  ...   \n",
       "522          TOT          17                  8  0.507   0.375  ...   \n",
       "523          TOR           7                  2  0.265   0.200  ...   \n",
       "524          TOR           7                  2  0.265   0.200  ...   \n",
       "525          POR           4                  0  0.421   0.143  ...   \n",
       "526          CLE           8                  0  0.167   0.010  ...   \n",
       "\n",
       "     ftaTotals  orbTotals  drbTotals  trbTotals astTotals  stlTotals  \\\n",
       "0          324         37        293        330       379         54   \n",
       "1          423         41        454        495       378         69   \n",
       "2          438        223        753        976       708        108   \n",
       "3          452         95        335        430       219         46   \n",
       "4          404         61        457        518       589         89   \n",
       "..         ...        ...        ...        ...       ...        ...   \n",
       "522         25         18         42         60        16          6   \n",
       "523          2         15         23         38         2          3   \n",
       "524          2         15         23         38         2          3   \n",
       "525          2          4          4          8         5          2   \n",
       "526          2          0          3          3         0          1   \n",
       "\n",
       "     blkTotals  tovTotals  pfTotals  ptsTotals  \n",
       "0           28        210       117       1956  \n",
       "1           91        244       133       2032  \n",
       "2           68        237       194       2085  \n",
       "3           66        150       112       1353  \n",
       "4           38        245        78       1822  \n",
       "..         ...        ...       ...        ...  \n",
       "522          5          9        23        101  \n",
       "523          4          3        15         19  \n",
       "524          4          3        15         19  \n",
       "525          0          3         4         18  \n",
       "526          0          1         2          3  \n",
       "\n",
       "[527 rows x 34 columns]"
      ]
     },
     "execution_count": 36,
     "metadata": {},
     "output_type": "execute_result"
    }
   ],
   "source": [
    "SS.drop_duplicates()\n",
    "SS"
   ]
  },
  {
   "cell_type": "code",
   "execution_count": 51,
   "metadata": {},
   "outputs": [
    {
     "data": {
      "text/html": [
       "<div>\n",
       "<style scoped>\n",
       "    .dataframe tbody tr th:only-of-type {\n",
       "        vertical-align: middle;\n",
       "    }\n",
       "\n",
       "    .dataframe tbody tr th {\n",
       "        vertical-align: top;\n",
       "    }\n",
       "\n",
       "    .dataframe thead th {\n",
       "        text-align: right;\n",
       "    }\n",
       "</style>\n",
       "<table border=\"1\" class=\"dataframe\">\n",
       "  <thead>\n",
       "    <tr style=\"text-align: right;\">\n",
       "      <th></th>\n",
       "      <th>namePlayer</th>\n",
       "      <th>Salary</th>\n",
       "      <th>slugPlayerBREF</th>\n",
       "      <th>slugPosition</th>\n",
       "      <th>agePlayer</th>\n",
       "      <th>slugTeamBREF</th>\n",
       "      <th>countGames</th>\n",
       "      <th>countGamesStarted</th>\n",
       "      <th>pctFG</th>\n",
       "      <th>pctFG3</th>\n",
       "      <th>...</th>\n",
       "      <th>ftaTotals</th>\n",
       "      <th>orbTotals</th>\n",
       "      <th>drbTotals</th>\n",
       "      <th>trbTotals</th>\n",
       "      <th>astTotals</th>\n",
       "      <th>stlTotals</th>\n",
       "      <th>blkTotals</th>\n",
       "      <th>tovTotals</th>\n",
       "      <th>pfTotals</th>\n",
       "      <th>ptsTotals</th>\n",
       "    </tr>\n",
       "  </thead>\n",
       "  <tbody>\n",
       "    <tr>\n",
       "      <th>0</th>\n",
       "      <td>Stephen Curry</td>\n",
       "      <td>51915615</td>\n",
       "      <td>curryst01</td>\n",
       "      <td>PG</td>\n",
       "      <td>35</td>\n",
       "      <td>GSW</td>\n",
       "      <td>74</td>\n",
       "      <td>74</td>\n",
       "      <td>0.450</td>\n",
       "      <td>0.408</td>\n",
       "      <td>...</td>\n",
       "      <td>324</td>\n",
       "      <td>37</td>\n",
       "      <td>293</td>\n",
       "      <td>330</td>\n",
       "      <td>379</td>\n",
       "      <td>54</td>\n",
       "      <td>28</td>\n",
       "      <td>210</td>\n",
       "      <td>117</td>\n",
       "      <td>1956</td>\n",
       "    </tr>\n",
       "    <tr>\n",
       "      <th>1</th>\n",
       "      <td>Kevin Durant</td>\n",
       "      <td>47649433</td>\n",
       "      <td>duranke01</td>\n",
       "      <td>PF</td>\n",
       "      <td>35</td>\n",
       "      <td>PHO</td>\n",
       "      <td>75</td>\n",
       "      <td>75</td>\n",
       "      <td>0.523</td>\n",
       "      <td>0.413</td>\n",
       "      <td>...</td>\n",
       "      <td>423</td>\n",
       "      <td>41</td>\n",
       "      <td>454</td>\n",
       "      <td>495</td>\n",
       "      <td>378</td>\n",
       "      <td>69</td>\n",
       "      <td>91</td>\n",
       "      <td>244</td>\n",
       "      <td>133</td>\n",
       "      <td>2032</td>\n",
       "    </tr>\n",
       "    <tr>\n",
       "      <th>2</th>\n",
       "      <td>Nikola Jokic</td>\n",
       "      <td>47607350</td>\n",
       "      <td>jokicni01</td>\n",
       "      <td>C</td>\n",
       "      <td>28</td>\n",
       "      <td>DEN</td>\n",
       "      <td>79</td>\n",
       "      <td>79</td>\n",
       "      <td>0.583</td>\n",
       "      <td>0.359</td>\n",
       "      <td>...</td>\n",
       "      <td>438</td>\n",
       "      <td>223</td>\n",
       "      <td>753</td>\n",
       "      <td>976</td>\n",
       "      <td>708</td>\n",
       "      <td>108</td>\n",
       "      <td>68</td>\n",
       "      <td>237</td>\n",
       "      <td>194</td>\n",
       "      <td>2085</td>\n",
       "    </tr>\n",
       "    <tr>\n",
       "      <th>3</th>\n",
       "      <td>Joel Embiid</td>\n",
       "      <td>47607350</td>\n",
       "      <td>embiijo01</td>\n",
       "      <td>C</td>\n",
       "      <td>29</td>\n",
       "      <td>PHI</td>\n",
       "      <td>39</td>\n",
       "      <td>39</td>\n",
       "      <td>0.529</td>\n",
       "      <td>0.388</td>\n",
       "      <td>...</td>\n",
       "      <td>452</td>\n",
       "      <td>95</td>\n",
       "      <td>335</td>\n",
       "      <td>430</td>\n",
       "      <td>219</td>\n",
       "      <td>46</td>\n",
       "      <td>66</td>\n",
       "      <td>150</td>\n",
       "      <td>112</td>\n",
       "      <td>1353</td>\n",
       "    </tr>\n",
       "    <tr>\n",
       "      <th>4</th>\n",
       "      <td>LeBron James</td>\n",
       "      <td>47607350</td>\n",
       "      <td>jamesle01</td>\n",
       "      <td>PF</td>\n",
       "      <td>39</td>\n",
       "      <td>LAL</td>\n",
       "      <td>71</td>\n",
       "      <td>71</td>\n",
       "      <td>0.540</td>\n",
       "      <td>0.410</td>\n",
       "      <td>...</td>\n",
       "      <td>404</td>\n",
       "      <td>61</td>\n",
       "      <td>457</td>\n",
       "      <td>518</td>\n",
       "      <td>589</td>\n",
       "      <td>89</td>\n",
       "      <td>38</td>\n",
       "      <td>245</td>\n",
       "      <td>78</td>\n",
       "      <td>1822</td>\n",
       "    </tr>\n",
       "    <tr>\n",
       "      <th>...</th>\n",
       "      <td>...</td>\n",
       "      <td>...</td>\n",
       "      <td>...</td>\n",
       "      <td>...</td>\n",
       "      <td>...</td>\n",
       "      <td>...</td>\n",
       "      <td>...</td>\n",
       "      <td>...</td>\n",
       "      <td>...</td>\n",
       "      <td>...</td>\n",
       "      <td>...</td>\n",
       "      <td>...</td>\n",
       "      <td>...</td>\n",
       "      <td>...</td>\n",
       "      <td>...</td>\n",
       "      <td>...</td>\n",
       "      <td>...</td>\n",
       "      <td>...</td>\n",
       "      <td>...</td>\n",
       "      <td>...</td>\n",
       "      <td>...</td>\n",
       "    </tr>\n",
       "    <tr>\n",
       "      <th>520</th>\n",
       "      <td>Ashton Hagans</td>\n",
       "      <td>103550</td>\n",
       "      <td>haganas01</td>\n",
       "      <td>PG</td>\n",
       "      <td>24</td>\n",
       "      <td>POR</td>\n",
       "      <td>19</td>\n",
       "      <td>1</td>\n",
       "      <td>0.408</td>\n",
       "      <td>0.320</td>\n",
       "      <td>...</td>\n",
       "      <td>17</td>\n",
       "      <td>14</td>\n",
       "      <td>31</td>\n",
       "      <td>45</td>\n",
       "      <td>54</td>\n",
       "      <td>11</td>\n",
       "      <td>9</td>\n",
       "      <td>30</td>\n",
       "      <td>40</td>\n",
       "      <td>80</td>\n",
       "    </tr>\n",
       "    <tr>\n",
       "      <th>521</th>\n",
       "      <td>Tosan Evbuomwan</td>\n",
       "      <td>135120</td>\n",
       "      <td>evbuoto01</td>\n",
       "      <td>SF</td>\n",
       "      <td>22</td>\n",
       "      <td>TOT</td>\n",
       "      <td>17</td>\n",
       "      <td>8</td>\n",
       "      <td>0.507</td>\n",
       "      <td>0.375</td>\n",
       "      <td>...</td>\n",
       "      <td>25</td>\n",
       "      <td>18</td>\n",
       "      <td>42</td>\n",
       "      <td>60</td>\n",
       "      <td>16</td>\n",
       "      <td>6</td>\n",
       "      <td>5</td>\n",
       "      <td>9</td>\n",
       "      <td>23</td>\n",
       "      <td>101</td>\n",
       "    </tr>\n",
       "    <tr>\n",
       "      <th>523</th>\n",
       "      <td>Malik Williams</td>\n",
       "      <td>77212</td>\n",
       "      <td>willima11</td>\n",
       "      <td>C</td>\n",
       "      <td>25</td>\n",
       "      <td>TOR</td>\n",
       "      <td>7</td>\n",
       "      <td>2</td>\n",
       "      <td>0.265</td>\n",
       "      <td>0.200</td>\n",
       "      <td>...</td>\n",
       "      <td>2</td>\n",
       "      <td>15</td>\n",
       "      <td>23</td>\n",
       "      <td>38</td>\n",
       "      <td>2</td>\n",
       "      <td>3</td>\n",
       "      <td>4</td>\n",
       "      <td>3</td>\n",
       "      <td>15</td>\n",
       "      <td>19</td>\n",
       "    </tr>\n",
       "    <tr>\n",
       "      <th>525</th>\n",
       "      <td>Taze Moore</td>\n",
       "      <td>64343</td>\n",
       "      <td>mooreta02</td>\n",
       "      <td>SG</td>\n",
       "      <td>25</td>\n",
       "      <td>POR</td>\n",
       "      <td>4</td>\n",
       "      <td>0</td>\n",
       "      <td>0.421</td>\n",
       "      <td>0.143</td>\n",
       "      <td>...</td>\n",
       "      <td>2</td>\n",
       "      <td>4</td>\n",
       "      <td>4</td>\n",
       "      <td>8</td>\n",
       "      <td>5</td>\n",
       "      <td>2</td>\n",
       "      <td>0</td>\n",
       "      <td>3</td>\n",
       "      <td>4</td>\n",
       "      <td>18</td>\n",
       "    </tr>\n",
       "    <tr>\n",
       "      <th>526</th>\n",
       "      <td>Pete Nance</td>\n",
       "      <td>64343</td>\n",
       "      <td>nancepe01</td>\n",
       "      <td>PF</td>\n",
       "      <td>23</td>\n",
       "      <td>CLE</td>\n",
       "      <td>8</td>\n",
       "      <td>0</td>\n",
       "      <td>0.167</td>\n",
       "      <td>0.010</td>\n",
       "      <td>...</td>\n",
       "      <td>2</td>\n",
       "      <td>0</td>\n",
       "      <td>3</td>\n",
       "      <td>3</td>\n",
       "      <td>0</td>\n",
       "      <td>1</td>\n",
       "      <td>0</td>\n",
       "      <td>1</td>\n",
       "      <td>2</td>\n",
       "      <td>3</td>\n",
       "    </tr>\n",
       "  </tbody>\n",
       "</table>\n",
       "<p>478 rows × 34 columns</p>\n",
       "</div>"
      ],
      "text/plain": [
       "          namePlayer    Salary slugPlayerBREF slugPosition  agePlayer  \\\n",
       "0      Stephen Curry  51915615      curryst01           PG         35   \n",
       "1       Kevin Durant  47649433      duranke01           PF         35   \n",
       "2       Nikola Jokic  47607350      jokicni01            C         28   \n",
       "3        Joel Embiid  47607350      embiijo01            C         29   \n",
       "4       LeBron James  47607350      jamesle01           PF         39   \n",
       "..               ...       ...            ...          ...        ...   \n",
       "520    Ashton Hagans    103550      haganas01           PG         24   \n",
       "521  Tosan Evbuomwan    135120      evbuoto01           SF         22   \n",
       "523   Malik Williams     77212      willima11            C         25   \n",
       "525       Taze Moore     64343      mooreta02           SG         25   \n",
       "526       Pete Nance     64343      nancepe01           PF         23   \n",
       "\n",
       "    slugTeamBREF  countGames  countGamesStarted  pctFG  pctFG3  ...  \\\n",
       "0            GSW          74                 74  0.450   0.408  ...   \n",
       "1            PHO          75                 75  0.523   0.413  ...   \n",
       "2            DEN          79                 79  0.583   0.359  ...   \n",
       "3            PHI          39                 39  0.529   0.388  ...   \n",
       "4            LAL          71                 71  0.540   0.410  ...   \n",
       "..           ...         ...                ...    ...     ...  ...   \n",
       "520          POR          19                  1  0.408   0.320  ...   \n",
       "521          TOT          17                  8  0.507   0.375  ...   \n",
       "523          TOR           7                  2  0.265   0.200  ...   \n",
       "525          POR           4                  0  0.421   0.143  ...   \n",
       "526          CLE           8                  0  0.167   0.010  ...   \n",
       "\n",
       "     ftaTotals  orbTotals  drbTotals  trbTotals astTotals  stlTotals  \\\n",
       "0          324         37        293        330       379         54   \n",
       "1          423         41        454        495       378         69   \n",
       "2          438        223        753        976       708        108   \n",
       "3          452         95        335        430       219         46   \n",
       "4          404         61        457        518       589         89   \n",
       "..         ...        ...        ...        ...       ...        ...   \n",
       "520         17         14         31         45        54         11   \n",
       "521         25         18         42         60        16          6   \n",
       "523          2         15         23         38         2          3   \n",
       "525          2          4          4          8         5          2   \n",
       "526          2          0          3          3         0          1   \n",
       "\n",
       "     blkTotals  tovTotals  pfTotals  ptsTotals  \n",
       "0           28        210       117       1956  \n",
       "1           91        244       133       2032  \n",
       "2           68        237       194       2085  \n",
       "3           66        150       112       1353  \n",
       "4           38        245        78       1822  \n",
       "..         ...        ...       ...        ...  \n",
       "520          9         30        40         80  \n",
       "521          5          9        23        101  \n",
       "523          4          3        15         19  \n",
       "525          0          3         4         18  \n",
       "526          0          1         2          3  \n",
       "\n",
       "[478 rows x 34 columns]"
      ]
     },
     "execution_count": 51,
     "metadata": {},
     "output_type": "execute_result"
    }
   ],
   "source": [
    "SS = SS.drop_duplicates(subset='namePlayer')\n",
    "SS"
   ]
  },
  {
   "cell_type": "code",
   "execution_count": 52,
   "metadata": {},
   "outputs": [
    {
     "data": {
      "application/vnd.plotly.v1+json": {
       "config": {
        "plotlyServerURL": "https://plot.ly"
       },
       "data": [
        {
         "customdata": [
          [
           "Stephen Curry",
           "GSW"
          ],
          [
           "Kevin Durant",
           "PHO"
          ],
          [
           "Nikola Jokic",
           "DEN"
          ],
          [
           "Joel Embiid",
           "PHI"
          ],
          [
           "LeBron James",
           "LAL"
          ],
          [
           "Bradley Beal",
           "PHO"
          ],
          [
           "Giannis Antetokounmpo",
           "MIL"
          ],
          [
           "Kawhi Leonard",
           "LAC"
          ],
          [
           "Damian Lillard",
           "MIL"
          ],
          [
           "Paul George",
           "LAC"
          ],
          [
           "Jimmy Butler",
           "MIA"
          ],
          [
           "Klay Thompson",
           "GSW"
          ],
          [
           "Rudy Gobert",
           "MIN"
          ],
          [
           "Fred VanVleet",
           "HOU"
          ],
          [
           "Anthony Davis",
           "LAL"
          ],
          [
           "Trae Young",
           "ATL"
          ],
          [
           "Luka Doncic",
           "DAL"
          ],
          [
           "Zach LaVine",
           "CHI"
          ],
          [
           "Tobias Harris",
           "PHI"
          ],
          [
           "Ben Simmons",
           "BRK"
          ],
          [
           "Pascal Siakam",
           "TOT"
          ],
          [
           "Kyrie Irving",
           "DAL"
          ],
          [
           "Jrue Holiday",
           "BOS"
          ],
          [
           "Devin Booker",
           "PHO"
          ],
          [
           "Karl-Anthony Towns",
           "MIN"
          ],
          [
           "Kristaps Porzingis",
           "BOS"
          ],
          [
           "CJ McCollum",
           "NOP"
          ],
          [
           "James Harden",
           "LAC"
          ],
          [
           "Zion Williamson",
           "NOP"
          ],
          [
           "Ja Morant",
           "MEM"
          ],
          [
           "Darius Garland",
           "CLE"
          ],
          [
           "Brandon Ingram",
           "NOP"
          ],
          [
           "Jamal Murray",
           "DEN"
          ],
          [
           "Shai Gilgeous-Alexander",
           "OKC"
          ],
          [
           "Michael Porter Jr.",
           "DEN"
          ],
          [
           "Gordon Hayward",
           "TOT"
          ],
          [
           "Donovan Mitchell",
           "CLE"
          ],
          [
           "De'Aaron Fox",
           "SAC"
          ],
          [
           "Bam Adebayo",
           "MIA"
          ],
          [
           "Jayson Tatum",
           "BOS"
          ],
          [
           "Deandre Ayton",
           "POR"
          ],
          [
           "Jaylen Brown",
           "BOS"
          ],
          [
           "Chris Paul",
           "GSW"
          ],
          [
           "Domantas Sabonis",
           "SAC"
          ],
          [
           "Kyle Lowry",
           "TOT"
          ],
          [
           "Khris Middleton",
           "MIL"
          ],
          [
           "DeMar DeRozan",
           "CHI"
          ],
          [
           "Julius Randle",
           "NYK"
          ],
          [
           "Jerami Grant",
           "POR"
          ],
          [
           "Jordan Poole",
           "WAS"
          ],
          [
           "Jaren Jackson Jr.",
           "MEM"
          ],
          [
           "Tyler Herro",
           "MIA"
          ],
          [
           "Jalen Brunson",
           "NYK"
          ],
          [
           "Cameron Johnson",
           "BRK"
          ],
          [
           "Kyle Kuzma",
           "WAS"
          ],
          [
           "John Collins",
           "UTA"
          ],
          [
           "Brook Lopez",
           "MIL"
          ],
          [
           "Mike Conley",
           "MIN"
          ],
          [
           "Andrew Wiggins",
           "GSW"
          ],
          [
           "Anfernee Simons",
           "POR"
          ],
          [
           "RJ Barrett",
           "TOT"
          ],
          [
           "Jordan Clarkson",
           "UTA"
          ],
          [
           "Terry Rozier",
           "TOT"
          ],
          [
           "Dillon Brooks",
           "HOU"
          ],
          [
           "Malcolm Brogdon",
           "POR"
          ],
          [
           "Draymond Green",
           "GSW"
          ],
          [
           "Aaron Gordon",
           "DEN"
          ],
          [
           "Bruce Brown",
           "TOT"
          ],
          [
           "Mikal Bridges",
           "BRK"
          ],
          [
           "Myles Turner",
           "IND"
          ],
          [
           "Clint Capela",
           "ATL"
          ],
          [
           "Spencer Dinwiddie",
           "TOT"
          ],
          [
           "De'Andre Hunter",
           "ATL"
          ],
          [
           "Keldon Johnson",
           "SAS"
          ],
          [
           "Jarrett Allen",
           "CLE"
          ],
          [
           "Bojan Bogdanovic",
           "TOT"
          ],
          [
           "Joe Harris",
           "DET"
          ],
          [
           "Buddy Hield",
           "TOT"
          ],
          [
           "Jakob Poeltl",
           "TOR"
          ],
          [
           "Evan Fournier",
           "TOT"
          ],
          [
           "Marcus Smart",
           "MEM"
          ],
          [
           "Bogdan Bogdanovic",
           "ATL"
          ],
          [
           "OG Anunoby",
           "TOT"
          ],
          [
           "Gary Trent Jr.",
           "TOR"
          ],
          [
           "Nikola Vucevic",
           "CHI"
          ],
          [
           "Derrick White",
           "BOS"
          ],
          [
           "Dejounte Murray",
           "ATL"
          ],
          [
           "Duncan Robinson",
           "MIA"
          ],
          [
           "Norman Powell",
           "LAC"
          ],
          [
           "Tim Hardaway Jr.",
           "DAL"
          ],
          [
           "Jonathan Isaac",
           "ORL"
          ],
          [
           "Collin Sexton",
           "UTA"
          ],
          [
           "D'Angelo Russell",
           "LAL"
          ],
          [
           "Lauri Markkanen",
           "UTA"
          ],
          [
           "Marcus Morris Sr.",
           "TOT"
          ],
          [
           "Harrison Barnes",
           "SAC"
          ],
          [
           "Davis Bertans",
           "TOT"
          ],
          [
           "Markelle Fultz",
           "ORL"
          ],
          [
           "Jusuf Nurkic",
           "PHO"
          ],
          [
           "P.J. Washington",
           "TOT"
          ],
          [
           "Rui Hachimura",
           "LAL"
          ],
          [
           "Mitchell Robinson",
           "NYK"
          ],
          [
           "Kevin Huerter",
           "SAC"
          ],
          [
           "Jonas Valanciunas",
           "NOP"
          ],
          [
           "Caris LeVert",
           "CLE"
          ],
          [
           "Luguentz Dort",
           "OKC"
          ],
          [
           "Luke Kennard",
           "MEM"
          ],
          [
           "Kentavious Caldwell-Pope",
           "DEN"
          ],
          [
           "Max Strus",
           "CLE"
          ],
          [
           "Tyus Jones",
           "WAS"
          ],
          [
           "Dorian Finney-Smith",
           "BRK"
          ],
          [
           "Doug McDermott",
           "TOT"
          ],
          [
           "Anthony Edwards",
           "MIN"
          ],
          [
           "Wendell Carter Jr.",
           "ORL"
          ],
          [
           "Gary Harris",
           "ORL"
          ],
          [
           "Josh Hart",
           "NYK"
          ],
          [
           "Naz Reid",
           "MIN"
          ],
          [
           "Brandon Clarke",
           "MEM"
          ],
          [
           "Marvin Bagley III",
           "TOT"
          ],
          [
           "Grant Williams",
           "TOT"
          ],
          [
           "Dennis Schroder",
           "TOT"
          ],
          [
           "Daniel Gafford",
           "TOT"
          ],
          [
           "Kelly Olynyk",
           "TOT"
          ],
          [
           "Victor Wembanyama",
           "SAS"
          ],
          [
           "James Wiseman",
           "DET"
          ],
          [
           "Devonte' Graham",
           "SAS"
          ],
          [
           "Richaun Holmes",
           "TOT"
          ],
          [
           "Herbert Jones",
           "NOP"
          ],
          [
           "Austin Reaves",
           "LAL"
          ],
          [
           "Chris Boucher",
           "TOR"
          ],
          [
           "Bobby Portis",
           "MIL"
          ],
          [
           "Nicolas Batum",
           "TOT"
          ],
          [
           "Robert Covington",
           "TOT"
          ],
          [
           "Paolo Banchero",
           "ORL"
          ],
          [
           "Robert Williams III",
           "POR"
          ],
          [
           "Coby White",
           "CHI"
          ],
          [
           "Cade Cunningham",
           "DET"
          ],
          [
           "Talen Horton-Tucker",
           "UTA"
          ],
          [
           "P.J. Tucker",
           "TOT"
          ],
          [
           "Reggie Bullock",
           "HOU"
          ],
          [
           "Maxi Kleber",
           "DAL"
          ],
          [
           "Joe Ingles",
           "ORL"
          ],
          [
           "Ivica Zubac",
           "LAC"
          ],
          [
           "LaMelo Ball",
           "CHO"
          ],
          [
           "Donte DiVincenzo",
           "NYK"
          ],
          [
           "Brandon Miller",
           "CHO"
          ],
          [
           "Terance Mann",
           "LAC"
          ],
          [
           "Gabe Vincent",
           "LAL"
          ],
          [
           "Matisse Thybulle",
           "POR"
          ],
          [
           "Alec Burks",
           "TOT"
          ],
          [
           "Chet Holmgren",
           "OKC"
          ],
          [
           "Larry Nance Jr.",
           "NOP"
          ],
          [
           "Landry Shamet",
           "WAS"
          ],
          [
           "Al Horford",
           "BOS"
          ],
          [
           "Malik Monk",
           "SAC"
          ],
          [
           "Tre Jones",
           "SAS"
          ],
          [
           "Jalen Green",
           "HOU"
          ],
          [
           "Patrick Williams",
           "CHI"
          ],
          [
           "Monte Morris",
           "TOT"
          ],
          [
           "Scoot Henderson",
           "POR"
          ],
          [
           "Nic Claxton",
           "BRK"
          ],
          [
           "Jeff Green",
           "HOU"
          ],
          [
           "Royce O'Neale",
           "TOT"
          ],
          [
           "Alex Caruso",
           "CHI"
          ],
          [
           "Pat Connaughton",
           "MIL"
          ],
          [
           "Jabari Smith Jr.",
           "HOU"
          ],
          [
           "Isaiah Hartenstein",
           "NYK"
          ],
          [
           "Kyle Anderson",
           "MIN"
          ],
          [
           "Grayson Allen",
           "PHO"
          ],
          [
           "Isaac Okoro",
           "CLE"
          ],
          [
           "Evan Mobley",
           "CLE"
          ],
          [
           "Amen Thompson",
           "HOU"
          ],
          [
           "Georges Niang",
           "CLE"
          ],
          [
           "Gary Payton II",
           "GSW"
          ],
          [
           "T.J. McConnell",
           "IND"
          ],
          [
           "Keegan Murray",
           "SAC"
          ],
          [
           "Delon Wright",
           "TOT"
          ],
          [
           "Onyeka Okongwu",
           "ATL"
          ],
          [
           "Scottie Barnes",
           "TOR"
          ],
          [
           "Jock Landale",
           "HOU"
          ],
          [
           "Trey Lyles",
           "SAC"
          ],
          [
           "De'Anthony Melton",
           "PHI"
          ],
          [
           "Moritz Wagner",
           "ORL"
          ],
          [
           "Thaddeus Young",
           "TOT"
          ],
          [
           "Ausar Thompson",
           "DET"
          ],
          [
           "Miles Bridges",
           "CHO"
          ],
          [
           "Vasilije Micic",
           "TOT"
          ],
          [
           "Paul Reed",
           "PHI"
          ],
          [
           "Zach Collins",
           "SAS"
          ],
          [
           "Jaden Ivey",
           "DET"
          ],
          [
           "Cody Martin",
           "CHO"
          ],
          [
           "Kevon Looney",
           "GSW"
          ],
          [
           "Killian Hayes",
           "DET"
          ],
          [
           "Jalen Suggs",
           "ORL"
          ],
          [
           "Anthony Black",
           "ORL"
          ],
          [
           "Daniel Theis",
           "TOT"
          ],
          [
           "Bennedict Mathurin",
           "IND"
          ],
          [
           "Obi Toppin",
           "IND"
          ],
          [
           "Caleb Martin",
           "MIA"
          ],
          [
           "Danilo Gallinari",
           "TOT"
          ],
          [
           "Patty Mills",
           "TOT"
          ],
          [
           "Cedi Osman",
           "SAS"
          ],
          [
           "Bilal Coulibaly",
           "WAS"
          ],
          [
           "Josh Giddey",
           "OKC"
          ],
          [
           "Cameron Payne",
           "TOT"
          ],
          [
           "Jae'Sean Tate",
           "HOU"
          ],
          [
           "Ayo Dosunmu",
           "CHI"
          ],
          [
           "Sasha Vezenkov",
           "SAC"
          ],
          [
           "Shaedon Sharpe",
           "POR"
          ],
          [
           "Otto Porter Jr.",
           "TOR"
          ],
          [
           "Deni Avdija",
           "WAS"
          ],
          [
           "Nassir Little",
           "PHO"
          ],
          [
           "Jevon Carter",
           "CHI"
          ],
          [
           "Kenrich Williams",
           "OKC"
          ],
          [
           "Jarace Walker",
           "IND"
          ],
          [
           "Jonathan Kuminga",
           "GSW"
          ],
          [
           "Devin Vassell",
           "SAS"
          ],
          [
           "Tyrese Haliburton",
           "IND"
          ],
          [
           "Dyson Daniels",
           "NOP"
          ],
          [
           "Kira Lewis Jr.",
           "TOT"
          ],
          [
           "Dean Wade",
           "CLE"
          ],
          [
           "Aaron Nesmith",
           "IND"
          ],
          [
           "Taylor Hendricks",
           "UTA"
          ],
          [
           "Cole Anthony",
           "ORL"
          ],
          [
           "Franz Wagner",
           "ORL"
          ],
          [
           "Furkan Korkmaz",
           "PHI"
          ],
          [
           "Jeremy Sochan",
           "SAS"
          ],
          [
           "Cason Wallace",
           "OKC"
          ],
          [
           "Isaiah Stewart",
           "DET"
          ],
          [
           "Chuma Okeke",
           "ORL"
          ],
          [
           "Davion Mitchell",
           "SAC"
          ],
          [
           "Johnny Davis",
           "WAS"
          ],
          [
           "Jalen Smith",
           "IND"
          ],
          [
           "Jett Howard",
           "ORL"
          ],
          [
           "Aleksej Pokusevski",
           "TOT"
          ],
          [
           "Nick Richards",
           "CHO"
          ],
          [
           "Bismack Biyombo",
           "TOT"
          ],
          [
           "Mason Plumlee",
           "LAC"
          ],
          [
           "Shake Milton",
           "TOT"
          ],
          [
           "Reggie Jackson",
           "DEN"
          ],
          [
           "Ziaire Williams",
           "MEM"
          ],
          [
           "Ousmane Dieng",
           "OKC"
          ],
          [
           "Dereck Lively II",
           "DAL"
          ],
          [
           "Josh Green",
           "DAL"
          ],
          [
           "Jarred Vanderbilt",
           "LAL"
          ],
          [
           "Nickeil Alexander-Walker",
           "MIN"
          ],
          [
           "James Bouknight",
           "CHO"
          ],
          [
           "Jalen Williams",
           "OKC"
          ],
          [
           "Saddiq Bey",
           "ATL"
          ],
          [
           "Gradey Dick",
           "TOR"
          ],
          [
           "Jalen McDaniels",
           "TOR"
          ],
          [
           "Taurean Prince",
           "LAL"
          ],
          [
           "Precious Achiuwa",
           "TOT"
          ],
          [
           "Tyrese Maxey",
           "PHI"
          ],
          [
           "Joshua Primo",
           "LAC"
          ],
          [
           "Jalen Duren",
           "DET"
          ],
          [
           "Danuel House Jr.",
           "PHI"
          ],
          [
           "Jordan Hawkins",
           "NOP"
          ],
          [
           "Zeke Nnaji",
           "DEN"
          ],
          [
           "Immanuel Quickley",
           "TOT"
          ],
          [
           "Chris Duarte",
           "SAC"
          ],
          [
           "Ochai Agbaji",
           "TOT"
          ],
          [
           "Kobe Bufkin",
           "ATL"
          ],
          [
           "Payton Pritchard",
           "BOS"
          ],
          [
           "Dwight Powell",
           "DAL"
          ],
          [
           "Seth Curry",
           "TOT"
          ],
          [
           "Troy Brown Jr.",
           "TOT"
          ],
          [
           "Moses Moody",
           "GSW"
          ],
          [
           "Mark Williams",
           "CHO"
          ],
          [
           "Jaden McDaniels",
           "MIN"
          ],
          [
           "Keyonte George",
           "UTA"
          ],
          [
           "Malachi Flynn",
           "TOT"
          ],
          [
           "Desmond Bane",
           "MEM"
          ],
          [
           "Kevin Love",
           "MIA"
          ],
          [
           "Russell Westbrook",
           "LAC"
          ],
          [
           "Corey Kispert",
           "WAS"
          ],
          [
           "AJ Griffin",
           "ATL"
          ],
          [
           "Jalen Hood-Schifino",
           "LAL"
          ],
          [
           "Amir Coffey",
           "LAC"
          ],
          [
           "Alperen Sengun",
           "HOU"
          ],
          [
           "Tari Eason",
           "HOU"
          ],
          [
           "Jaime Jaquez Jr.",
           "MIA"
          ],
          [
           "Mike Muscala",
           "TOT"
          ],
          [
           "Andre Drummond",
           "CHI"
          ],
          [
           "Derrick Jones Jr.",
           "DAL"
          ],
          [
           "Trey Murphy III",
           "NOP"
          ],
          [
           "Brandin Podziemski",
           "GSW"
          ],
          [
           "Dalen Terry",
           "CHI"
          ],
          [
           "Cam Whitmore",
           "HOU"
          ],
          [
           "Jake LaRavia",
           "MEM"
          ],
          [
           "Derrick Rose",
           "MEM"
          ],
          [
           "Eric Gordon",
           "PHO"
          ],
          [
           "Tre Mann",
           "TOT"
          ],
          [
           "Noah Clowney",
           "BRK"
          ],
          [
           "Malaki Branham",
           "SAS"
          ],
          [
           "Simone Fontecchio",
           "TOT"
          ],
          [
           "Jordan Nwora",
           "TOT"
          ],
          [
           "Julian Champagnie",
           "SAS"
          ],
          [
           "Dante Exum",
           "DAL"
          ],
          [
           "Dariq Whitehead",
           "BRK"
          ],
          [
           "Christian Braun",
           "DEN"
          ],
          [
           "Jalen Johnson",
           "ATL"
          ],
          [
           "Josh Richardson",
           "MIA"
          ],
          [
           "Kris Murray",
           "POR"
          ],
          [
           "Walker Kessler",
           "UTA"
          ],
          [
           "Josh Okogie",
           "PHO"
          ],
          [
           "Keon Johnson",
           "BRK"
          ],
          [
           "Omer Yurtseven",
           "UTA"
          ],
          [
           "Olivier-Maxence Prosper",
           "DAL"
          ],
          [
           "David Roddy",
           "TOT"
          ],
          [
           "Christian Wood",
           "LAL"
          ],
          [
           "Isaiah Jackson",
           "IND"
          ],
          [
           "Marcus Sasser",
           "DET"
          ],
          [
           "MarJon Beauchamp",
           "MIL"
          ],
          [
           "Charles Bassey",
           "SAS"
          ],
          [
           "Usman Garuba",
           "GSW"
          ],
          [
           "Kris Dunn",
           "UTA"
          ],
          [
           "Damian Jones",
           "CLE"
          ],
          [
           "Bruno Fernando",
           "ATL"
          ],
          [
           "Ben Sheppard",
           "IND"
          ],
          [
           "Thomas Bryant",
           "MIA"
          ],
          [
           "Torrey Craig",
           "CHI"
          ],
          [
           "Blake Wesley",
           "SAS"
          ],
          [
           "Nick Smith Jr.",
           "CHO"
          ],
          [
           "Brice Sensabaugh",
           "UTA"
          ],
          [
           "Ty Jerome",
           "CLE"
          ],
          [
           "Julian Strawther",
           "DEN"
          ],
          [
           "Tristan Vukcevic",
           "WAS"
          ],
          [
           "Wendell Moore Jr.",
           "MIN"
          ],
          [
           "Kobe Brown",
           "LAC"
          ],
          [
           "Luke Kornet",
           "BOS"
          ],
          [
           "John Konchar",
           "MEM"
          ],
          [
           "Quentin Grimes",
           "TOT"
          ],
          [
           "Nikola Jovic",
           "MIA"
          ],
          [
           "JaVale McGee",
           "SAC"
          ],
          [
           "Drew Eubanks",
           "PHO"
          ],
          [
           "Keita Bates-Diop",
           "TOT"
          ],
          [
           "Yuta Watanabe",
           "TOT"
          ],
          [
           "Patrick Baldwin Jr.",
           "WAS"
          ],
          [
           "TyTy Washington Jr.",
           "MIL"
          ],
          [
           "Jordan McLaughlin",
           "MIN"
          ],
          [
           "Bones Hyland",
           "LAC"
          ],
          [
           "Peyton Watson",
           "DEN"
          ],
          [
           "James Johnson",
           "IND"
          ],
          [
           "Cam Thomas",
           "BRK"
          ],
          [
           "Vince Williams Jr.",
           "MEM"
          ],
          [
           "Jaden Springer",
           "TOT"
          ],
          [
           "Day'Ron Sharpe",
           "BRK"
          ],
          [
           "Jeff Dowtin",
           "PHI"
          ],
          [
           "Santi Aldama",
           "MEM"
          ],
          [
           "Jaxson Hayes",
           "LAL"
          ],
          [
           "Cam Reddish",
           "LAL"
          ],
          [
           "Oshae Brissett",
           "BOS"
          ],
          [
           "Andrew Nembhard",
           "IND"
          ],
          [
           "Luka Samanic",
           "UTA"
          ],
          [
           "Goga Bitadze",
           "ORL"
          ],
          [
           "Colby Jones",
           "SAC"
          ],
          [
           "Taj Gibson",
           "TOT"
          ],
          [
           "Garrett Temple",
           "TOR"
          ],
          [
           "Sandro Mamukelashvili",
           "SAS"
          ],
          [
           "Robin Lopez",
           "MIL"
          ],
          [
           "Alex Len",
           "SAC"
          ],
          [
           "Dalano Banton",
           "TOT"
          ],
          [
           "Bol Bol",
           "PHO"
          ],
          [
           "Kelly Oubre Jr.",
           "PHI"
          ],
          [
           "Mo Bamba",
           "PHI"
          ],
          [
           "Dylan Windler",
           "TOT"
          ],
          [
           "Cody Zeller",
           "NOP"
          ],
          [
           "Thanasis Antetokounmpo",
           "MIL"
          ],
          [
           "Patrick Beverley",
           "TOT"
          ],
          [
           "Jae Crowder",
           "MIL"
          ],
          [
           "Malik Beasley",
           "MIL"
          ],
          [
           "Chimezie Metu",
           "TOT"
          ],
          [
           "Lamar Stevens",
           "TOT"
          ],
          [
           "Cory Joseph",
           "GSW"
          ],
          [
           "Dario Saric",
           "GSW"
          ],
          [
           "Ryan Arcidiacono",
           "NYK"
          ],
          [
           "DeAndre Jordan",
           "DEN"
          ],
          [
           "Justin Holiday",
           "DEN"
          ],
          [
           "Markieff Morris",
           "DAL"
          ],
          [
           "Ish Smith",
           "CHO"
          ],
          [
           "Frank Ntilikina",
           "CHO"
          ],
          [
           "Terry Taylor",
           "CHI"
          ],
          [
           "Harry Giles III",
           "TOT"
          ],
          [
           "Lonnie Walker IV",
           "BRK"
          ],
          [
           "Dennis Smith Jr.",
           "BRK"
          ],
          [
           "Svi Mykhailiuk",
           "BOS"
          ],
          [
           "Wesley Matthews",
           "ATL"
          ],
          [
           "Moses Brown",
           "POR"
          ],
          [
           "Boban Marjanovic",
           "HOU"
          ],
          [
           "Aaron Holiday",
           "HOU"
          ],
          [
           "Tristan Thompson",
           "CLE"
          ],
          [
           "Trendon Watford",
           "BRK"
          ],
          [
           "Caleb Houstan",
           "ORL"
          ],
          [
           "Jaylin Williams",
           "OKC"
          ],
          [
           "Garrison Mathews",
           "ATL"
          ],
          [
           "Sam Merrill",
           "CLE"
          ],
          [
           "Anthony Gill",
           "WAS"
          ],
          [
           "Isaiah Joe",
           "OKC"
          ],
          [
           "GG Jackson II",
           "MEM"
          ],
          [
           "Duop Reath",
           "POR"
          ],
          [
           "KJ Martin",
           "TOT"
          ],
          [
           "Naji Marshall",
           "NOP"
          ],
          [
           "Xavier Tillman Sr.",
           "TOT"
          ],
          [
           "Jordan Goodwin",
           "TOT"
          ],
          [
           "Kessler Edwards",
           "SAC"
          ],
          [
           "Ish Wainright",
           "TOT"
          ],
          [
           "Jericho Sims",
           "NYK"
          ],
          [
           "Sam Hauser",
           "BOS"
          ],
          [
           "Haywood Highsmith",
           "MIA"
          ],
          [
           "A.J. Green",
           "MIL"
          ],
          [
           "Jeremiah Robinson-Earl",
           "NOP"
          ],
          [
           "Kevin Knox II",
           "DET"
          ],
          [
           "Miles McBride",
           "NYK"
          ],
          [
           "Isaiah Livers",
           "DET"
          ],
          [
           "Brandon Boston Jr.",
           "LAC"
          ],
          [
           "JT Thor",
           "CHO"
          ],
          [
           "Aaron Wiggins",
           "OKC"
          ],
          [
           "Jose Alvarado",
           "NOP"
          ],
          [
           "E.J. Liddell",
           "NOP"
          ],
          [
           "Dru Smith",
           "MIA"
          ],
          [
           "Orlando Robinson",
           "MIA"
          ],
          [
           "Leonard Miller",
           "MIN"
          ],
          [
           "Skylar Mays",
           "TOT"
          ],
          [
           "Ryan Rollins",
           "TOT"
          ],
          [
           "Jaden Hardy",
           "DAL"
          ],
          [
           "Jabari Walker",
           "POR"
          ],
          [
           "Josh Minott",
           "MIN"
          ],
          [
           "Kenneth Lofton Jr.",
           "TOT"
          ],
          [
           "Max Christie",
           "LAL"
          ],
          [
           "Bryce McGowens",
           "CHO"
          ],
          [
           "Jalen Pickett",
           "DEN"
          ],
          [
           "Julian Phillips",
           "CHI"
          ],
          [
           "Matt Ryan",
           "NOP"
          ],
          [
           "Craig Porter Jr.",
           "CLE"
          ],
          [
           "Jared Butler",
           "WAS"
          ],
          [
           "Sidy Cissoko",
           "SAS"
          ],
          [
           "Hunter Tyson",
           "DEN"
          ],
          [
           "Jordan Walsh",
           "BOS"
          ],
          [
           "Rayan Rupert",
           "POR"
          ],
          [
           "Chris Livingston",
           "MIL"
          ],
          [
           "Maxwell Lewis",
           "LAL"
          ],
          [
           "Trayce Jackson-Davis",
           "GSW"
          ],
          [
           "Mouhamed Gueye",
           "ATL"
          ],
          [
           "Toumani Camara",
           "POR"
          ],
          [
           "Andre Jackson Jr.",
           "MIL"
          ],
          [
           "Kendall Brown",
           "IND"
          ],
          [
           "Gui Santos",
           "GSW"
          ],
          [
           "A.J. Lawson",
           "DAL"
          ],
          [
           "Eugene Omoruyi",
           "WAS"
          ],
          [
           "Ricky Council IV",
           "PHI"
          ],
          [
           "Jalen Wilson",
           "BRK"
          ],
          [
           "DaQuan Jeffries",
           "NYK"
          ],
          [
           "Lindy Waters III",
           "OKC"
          ],
          [
           "Keon Ellis",
           "SAC"
          ],
          [
           "Jack White",
           "MEM"
          ],
          [
           "Filip Petrusev",
           "TOT"
          ],
          [
           "Lester Quinones",
           "GSW"
          ],
          [
           "Stanley Umude",
           "DET"
          ],
          [
           "Trent Forrest",
           "ATL"
          ],
          [
           "Darius Bazley",
           "TOT"
          ],
          [
           "Onuralp Bitim",
           "CHI"
          ],
          [
           "Dominick Barlow",
           "SAS"
          ],
          [
           "Juan Toscano-Anderson",
           "SAC"
          ],
          [
           "Javon Freeman-Liberty",
           "TOR"
          ],
          [
           "Mamadi Diakite",
           "TOT"
          ],
          [
           "Neemias Queta",
           "BOS"
          ],
          [
           "T.J. Warren",
           "MIN"
          ],
          [
           "Danny Green",
           "PHI"
          ],
          [
           "Javonte Green",
           "CHI"
          ],
          [
           "Luka Garza",
           "MIN"
          ],
          [
           "Isaiah Thomas",
           "PHO"
          ],
          [
           "Hamidou Diallo",
           "WAS"
          ],
          [
           "Ashton Hagans",
           "POR"
          ],
          [
           "Tosan Evbuomwan",
           "TOT"
          ],
          [
           "Malik Williams",
           "TOR"
          ],
          [
           "Taze Moore",
           "POR"
          ],
          [
           "Pete Nance",
           "CLE"
          ]
         ],
         "hovertemplate": "agePlayer=%{x}<br>Salary=%{marker.color}<br>namePlayer=%{customdata[0]}<br>slugTeamBREF=%{customdata[1]}<extra></extra>",
         "legendgroup": "",
         "marker": {
          "color": [
           51915615,
           47649433,
           47607350,
           47607350,
           47607350,
           46741590,
           45640084,
           45640084,
           45640084,
           45640084,
           45183960,
           43219440,
           41000000,
           40806300,
           40600080,
           40064220,
           40064220,
           40064220,
           39270150,
           37893408,
           37893408,
           37037037,
           36861707,
           36016200,
           36016200,
           36016200,
           35802469,
           35680595,
           34005250,
           34005250,
           34005250,
           33833400,
           33833400,
           33386850,
           33386850,
           33319397,
           33162030,
           32600060,
           32600060,
           32600060,
           32459438,
           31830357,
           30800000,
           30600000,
           32478379,
           29320988,
           28600000,
           28226880,
           27586207,
           27455357,
           27102202,
           27000000,
           26346666,
           25679348,
           25568182,
           25340000,
           25000000,
           24360000,
           24330357,
           24107143,
           23883929,
           23487629,
           23205221,
           22627671,
           22500000,
           22321429,
           22266182,
           22000000,
           21700000,
           20975000,
           20616000,
           21911797,
           20089286,
           20000000,
           20000000,
           20000000,
           19928571,
           19845098,
           19500000,
           18857143,
           18833713,
           18700000,
           18642857,
           18560000,
           18518519,
           18357143,
           18214000,
           18154000,
           18000000,
           17897728,
           17400000,
           17325000,
           17307693,
           17259999,
           17429682,
           17000000,
           17000000,
           17000000,
           16875000,
           16847826,
           15740741,
           15681818,
           15669643,
           15435000,
           15384616,
           15277778,
           14763636,
           14704938,
           14487684,
           14000000,
           13932008,
           13750000,
           13534817,
           13050000,
           13000000,
           12960000,
           12950400,
           12500000,
           12500000,
           12405000,
           12405000,
           12402000,
           12195122,
           12160680,
           12119440,
           12100000,
           12046020,
           12015150,
           12015150,
           11750000,
           11710818,
           11710818,
           11692308,
           11608080,
           11571429,
           11111111,
           11055360,
           11020000,
           11014500,
           13033786,
           11000000,
           11000000,
           10933333,
           10900635,
           10900000,
           10880400,
           10576923,
           10500000,
           10500000,
           10489600,
           10386000,
           10375000,
           10250000,
           10000000,
           9945830,
           9895833,
           9891480,
           9835881,
           9800926,
           9770880,
           9625000,
           9600000,
           9500000,
           9460000,
           9423869,
           9326520,
           9245121,
           9219512,
           8925000,
           8920795,
           8882640,
           8809320,
           8800000,
           8715000,
           8700000,
           8409000,
           8856750,
           8109063,
           8008680,
           8000000,
           8000000,
           8000000,
           8000000,
           8638413,
           7977480,
           7921300,
           7723000,
           7723000,
           7700000,
           7614480,
           7560000,
           7500000,
           7413955,
           7252080,
           7245480,
           8670002,
           6916080,
           6803012,
           6802950,
           7464578,
           7267250,
           6718842,
           6614280,
           6587040,
           8519706,
           6500000,
           6481482,
           6341464,
           6313800,
           6300000,
           6263188,
           6250000,
           6190476,
           6175000,
           6059520,
           6012840,
           5887899,
           5808435,
           5784120,
           5722116,
           5709877,
           5634257,
           5569920,
           5539771,
           5508720,
           5370370,
           5316960,
           5291400,
           5266713,
           5266713,
           5063640,
           5050800,
           5043773,
           5026800,
           5574809,
           5000000,
           5754488,
           5000000,
           5475908,
           5000000,
           4810200,
           4798440,
           4775640,
           4765339,
           4698000,
           4687500,
           4570080,
           4558680,
           4556983,
           4536720,
           4516000,
           4516000,
           4379527,
           4343920,
           6105941,
           4330680,
           4310250,
           4310160,
           4306281,
           4171548,
           4124400,
           4114200,
           4094280,
           4037277,
           4000000,
           4000000,
           4000000,
           3918480,
           3908160,
           3901399,
           3889800,
           3873025,
           3845083,
           3835738,
           3835738,
           3722040,
           3712920,
           3695040,
           3666667,
           3536280,
           3527160,
           3510600,
           4010730,
           3360000,
           5379706,
           3359280,
           3352440,
           3350760,
           3218160,
           3199920,
           3196448,
           3196448,
           3191400,
           3089520,
           3071880,
           3044872,
           3000000,
           3000000,
           3000000,
           2966040,
           2949120,
           2925360,
           2891467,
           2847480,
           2831160,
           2815937,
           2808720,
           2800000,
           2733720,
           2718240,
           2709849,
           2696280,
           2624040,
           2609400,
           2600000,
           2600008,
           2586665,
           2586665,
           2581522,
           2537160,
           2528233,
           2528233,
           2504640,
           2463960,
           2448600,
           2439025,
           2431080,
           2424892,
           2421720,
           2413320,
           2413304,
           2400000,
           2385720,
           2352000,
           4368030,
           2346614,
           2346614,
           2346614,
           2337720,
           2320440,
           2320000,
           2306400,
           2303520,
           777703,
           2240160,
           2232308,
           2226240,
           2210040,
           2196970,
           2194200,
           2165000,
           2165000,
           2165000,
           2131905,
           2066585,
           2066585,
           2019706,
           2961636,
           2019706,
           2019706,
           2019706,
           2019706,
           2019706,
           2019706,
           2019706,
           2019706,
           2019706,
           2019706,
           2019706,
           2019706,
           2019706,
           2019706,
           2351562,
           2419706,
           2019706,
           2019706,
           2019706,
           2019706,
           2019706,
           2019706,
           2019706,
           2019706,
           2019706,
           2019706,
           2019706,
           2019706,
           2019706,
           2019706,
           2019706,
           2019706,
           2019706,
           2019706,
           2019706,
           2000000,
           2000000,
           2000000,
           1997238,
           1997238,
           1997238,
           1991428,
           1951220,
           1930681,
           1930681,
           1930681,
           1927896,
           1927896,
           1927896,
           1927896,
           1927896,
           1902137,
           1901769,
           684843,
           1845593,
           1836096,
           1836096,
           1836096,
           1836096,
           1836096,
           1836096,
           1801769,
           1801769,
           1801769,
           1800000,
           1799163,
           1719864,
           1719864,
           1719864,
           1719864,
           500000,
           1719864,
           1719864,
           1708143,
           1600000,
           1500000,
           1500000,
           1250000,
           1119563,
           1119563,
           1119563,
           1119563,
           1119563,
           1119563,
           1119563,
           1119563,
           1119563,
           1119563,
           1100000,
           1029483,
           1000000,
           900000,
           864353,
           850000,
           1324828,
           766095,
           683430,
           600000,
           559782,
           548815,
           538460,
           533945,
           616075,
           500000,
           455620,
           439581,
           289542,
           368600,
           331253,
           452693,
           200000,
           243758,
           127683,
           301795,
           116075,
           103550,
           135120,
           77212,
           64343,
           64343
          ],
          "coloraxis": "coloraxis",
          "size": [
           51915615,
           47649433,
           47607350,
           47607350,
           47607350,
           46741590,
           45640084,
           45640084,
           45640084,
           45640084,
           45183960,
           43219440,
           41000000,
           40806300,
           40600080,
           40064220,
           40064220,
           40064220,
           39270150,
           37893408,
           37893408,
           37037037,
           36861707,
           36016200,
           36016200,
           36016200,
           35802469,
           35680595,
           34005250,
           34005250,
           34005250,
           33833400,
           33833400,
           33386850,
           33386850,
           33319397,
           33162030,
           32600060,
           32600060,
           32600060,
           32459438,
           31830357,
           30800000,
           30600000,
           32478379,
           29320988,
           28600000,
           28226880,
           27586207,
           27455357,
           27102202,
           27000000,
           26346666,
           25679348,
           25568182,
           25340000,
           25000000,
           24360000,
           24330357,
           24107143,
           23883929,
           23487629,
           23205221,
           22627671,
           22500000,
           22321429,
           22266182,
           22000000,
           21700000,
           20975000,
           20616000,
           21911797,
           20089286,
           20000000,
           20000000,
           20000000,
           19928571,
           19845098,
           19500000,
           18857143,
           18833713,
           18700000,
           18642857,
           18560000,
           18518519,
           18357143,
           18214000,
           18154000,
           18000000,
           17897728,
           17400000,
           17325000,
           17307693,
           17259999,
           17429682,
           17000000,
           17000000,
           17000000,
           16875000,
           16847826,
           15740741,
           15681818,
           15669643,
           15435000,
           15384616,
           15277778,
           14763636,
           14704938,
           14487684,
           14000000,
           13932008,
           13750000,
           13534817,
           13050000,
           13000000,
           12960000,
           12950400,
           12500000,
           12500000,
           12405000,
           12405000,
           12402000,
           12195122,
           12160680,
           12119440,
           12100000,
           12046020,
           12015150,
           12015150,
           11750000,
           11710818,
           11710818,
           11692308,
           11608080,
           11571429,
           11111111,
           11055360,
           11020000,
           11014500,
           13033786,
           11000000,
           11000000,
           10933333,
           10900635,
           10900000,
           10880400,
           10576923,
           10500000,
           10500000,
           10489600,
           10386000,
           10375000,
           10250000,
           10000000,
           9945830,
           9895833,
           9891480,
           9835881,
           9800926,
           9770880,
           9625000,
           9600000,
           9500000,
           9460000,
           9423869,
           9326520,
           9245121,
           9219512,
           8925000,
           8920795,
           8882640,
           8809320,
           8800000,
           8715000,
           8700000,
           8409000,
           8856750,
           8109063,
           8008680,
           8000000,
           8000000,
           8000000,
           8000000,
           8638413,
           7977480,
           7921300,
           7723000,
           7723000,
           7700000,
           7614480,
           7560000,
           7500000,
           7413955,
           7252080,
           7245480,
           8670002,
           6916080,
           6803012,
           6802950,
           7464578,
           7267250,
           6718842,
           6614280,
           6587040,
           8519706,
           6500000,
           6481482,
           6341464,
           6313800,
           6300000,
           6263188,
           6250000,
           6190476,
           6175000,
           6059520,
           6012840,
           5887899,
           5808435,
           5784120,
           5722116,
           5709877,
           5634257,
           5569920,
           5539771,
           5508720,
           5370370,
           5316960,
           5291400,
           5266713,
           5266713,
           5063640,
           5050800,
           5043773,
           5026800,
           5574809,
           5000000,
           5754488,
           5000000,
           5475908,
           5000000,
           4810200,
           4798440,
           4775640,
           4765339,
           4698000,
           4687500,
           4570080,
           4558680,
           4556983,
           4536720,
           4516000,
           4516000,
           4379527,
           4343920,
           6105941,
           4330680,
           4310250,
           4310160,
           4306281,
           4171548,
           4124400,
           4114200,
           4094280,
           4037277,
           4000000,
           4000000,
           4000000,
           3918480,
           3908160,
           3901399,
           3889800,
           3873025,
           3845083,
           3835738,
           3835738,
           3722040,
           3712920,
           3695040,
           3666667,
           3536280,
           3527160,
           3510600,
           4010730,
           3360000,
           5379706,
           3359280,
           3352440,
           3350760,
           3218160,
           3199920,
           3196448,
           3196448,
           3191400,
           3089520,
           3071880,
           3044872,
           3000000,
           3000000,
           3000000,
           2966040,
           2949120,
           2925360,
           2891467,
           2847480,
           2831160,
           2815937,
           2808720,
           2800000,
           2733720,
           2718240,
           2709849,
           2696280,
           2624040,
           2609400,
           2600000,
           2600008,
           2586665,
           2586665,
           2581522,
           2537160,
           2528233,
           2528233,
           2504640,
           2463960,
           2448600,
           2439025,
           2431080,
           2424892,
           2421720,
           2413320,
           2413304,
           2400000,
           2385720,
           2352000,
           4368030,
           2346614,
           2346614,
           2346614,
           2337720,
           2320440,
           2320000,
           2306400,
           2303520,
           777703,
           2240160,
           2232308,
           2226240,
           2210040,
           2196970,
           2194200,
           2165000,
           2165000,
           2165000,
           2131905,
           2066585,
           2066585,
           2019706,
           2961636,
           2019706,
           2019706,
           2019706,
           2019706,
           2019706,
           2019706,
           2019706,
           2019706,
           2019706,
           2019706,
           2019706,
           2019706,
           2019706,
           2019706,
           2351562,
           2419706,
           2019706,
           2019706,
           2019706,
           2019706,
           2019706,
           2019706,
           2019706,
           2019706,
           2019706,
           2019706,
           2019706,
           2019706,
           2019706,
           2019706,
           2019706,
           2019706,
           2019706,
           2019706,
           2019706,
           2000000,
           2000000,
           2000000,
           1997238,
           1997238,
           1997238,
           1991428,
           1951220,
           1930681,
           1930681,
           1930681,
           1927896,
           1927896,
           1927896,
           1927896,
           1927896,
           1902137,
           1901769,
           684843,
           1845593,
           1836096,
           1836096,
           1836096,
           1836096,
           1836096,
           1836096,
           1801769,
           1801769,
           1801769,
           1800000,
           1799163,
           1719864,
           1719864,
           1719864,
           1719864,
           500000,
           1719864,
           1719864,
           1708143,
           1600000,
           1500000,
           1500000,
           1250000,
           1119563,
           1119563,
           1119563,
           1119563,
           1119563,
           1119563,
           1119563,
           1119563,
           1119563,
           1119563,
           1100000,
           1029483,
           1000000,
           900000,
           864353,
           850000,
           1324828,
           766095,
           683430,
           600000,
           559782,
           548815,
           538460,
           533945,
           616075,
           500000,
           455620,
           439581,
           289542,
           368600,
           331253,
           452693,
           200000,
           243758,
           127683,
           301795,
           116075,
           103550,
           135120,
           77212,
           64343,
           64343
          ],
          "sizemode": "area",
          "sizeref": 129789.0375,
          "symbol": "circle"
         },
         "mode": "markers",
         "name": "",
         "orientation": "v",
         "showlegend": false,
         "type": "scatter",
         "x": [
          35,
          35,
          28,
          29,
          39,
          30,
          29,
          32,
          33,
          33,
          34,
          33,
          31,
          29,
          30,
          25,
          24,
          28,
          31,
          27,
          29,
          31,
          33,
          27,
          28,
          28,
          32,
          34,
          23,
          24,
          24,
          26,
          26,
          25,
          25,
          33,
          27,
          26,
          26,
          25,
          25,
          27,
          38,
          27,
          37,
          32,
          34,
          29,
          29,
          24,
          24,
          24,
          27,
          27,
          28,
          26,
          35,
          36,
          28,
          24,
          23,
          31,
          29,
          28,
          31,
          33,
          28,
          27,
          27,
          27,
          29,
          30,
          26,
          24,
          25,
          34,
          32,
          31,
          28,
          31,
          29,
          31,
          26,
          25,
          33,
          29,
          27,
          29,
          30,
          31,
          26,
          25,
          27,
          26,
          34,
          31,
          31,
          25,
          29,
          25,
          25,
          25,
          25,
          31,
          29,
          24,
          27,
          30,
          27,
          27,
          30,
          32,
          22,
          24,
          29,
          28,
          24,
          27,
          24,
          25,
          30,
          25,
          32,
          20,
          22,
          28,
          30,
          25,
          25,
          31,
          28,
          35,
          33,
          21,
          26,
          23,
          22,
          23,
          38,
          32,
          32,
          36,
          26,
          22,
          27,
          21,
          27,
          27,
          26,
          32,
          21,
          31,
          26,
          37,
          25,
          24,
          21,
          22,
          28,
          19,
          24,
          37,
          30,
          29,
          31,
          20,
          25,
          30,
          28,
          23,
          22,
          21,
          30,
          31,
          31,
          23,
          31,
          23,
          22,
          28,
          28,
          25,
          26,
          35,
          21,
          25,
          30,
          24,
          26,
          21,
          28,
          27,
          22,
          22,
          20,
          31,
          21,
          25,
          28,
          35,
          35,
          28,
          19,
          21,
          29,
          28,
          24,
          28,
          20,
          30,
          23,
          23,
          28,
          29,
          20,
          21,
          23,
          23,
          20,
          22,
          27,
          24,
          20,
          23,
          22,
          26,
          20,
          20,
          22,
          25,
          25,
          21,
          23,
          20,
          22,
          26,
          31,
          33,
          27,
          33,
          22,
          20,
          19,
          23,
          24,
          25,
          23,
          22,
          24,
          20,
          26,
          29,
          24,
          23,
          21,
          20,
          30,
          21,
          23,
          24,
          26,
          23,
          20,
          26,
          32,
          33,
          24,
          21,
          22,
          23,
          20,
          25,
          25,
          35,
          35,
          24,
          20,
          20,
          26,
          21,
          22,
          22,
          32,
          30,
          26,
          23,
          20,
          21,
          19,
          22,
          35,
          35,
          22,
          19,
          20,
          28,
          25,
          22,
          28,
          19,
          22,
          22,
          30,
          23,
          22,
          25,
          21,
          25,
          21,
          22,
          28,
          22,
          23,
          23,
          23,
          21,
          29,
          28,
          25,
          22,
          26,
          33,
          20,
          19,
          20,
          26,
          21,
          20,
          22,
          24,
          28,
          27,
          23,
          20,
          36,
          26,
          28,
          29,
          21,
          22,
          27,
          23,
          21,
          36,
          22,
          23,
          21,
          22,
          26,
          23,
          23,
          24,
          25,
          24,
          24,
          24,
          21,
          38,
          37,
          24,
          35,
          30,
          24,
          24,
          28,
          25,
          27,
          31,
          31,
          35,
          33,
          27,
          26,
          26,
          32,
          29,
          29,
          35,
          34,
          34,
          35,
          25,
          24,
          25,
          25,
          26,
          26,
          37,
          24,
          35,
          27,
          32,
          23,
          21,
          21,
          27,
          27,
          31,
          24,
          19,
          27,
          23,
          26,
          25,
          25,
          23,
          29,
          25,
          26,
          27,
          24,
          23,
          24,
          23,
          25,
          22,
          21,
          25,
          25,
          23,
          26,
          23,
          20,
          26,
          21,
          21,
          21,
          21,
          21,
          20,
          21,
          24,
          20,
          26,
          23,
          23,
          19,
          23,
          19,
          19,
          20,
          21,
          23,
          21,
          23,
          22,
          20,
          21,
          23,
          26,
          22,
          23,
          26,
          26,
          24,
          26,
          23,
          23,
          24,
          25,
          23,
          24,
          20,
          30,
          24,
          27,
          24,
          30,
          36,
          30,
          25,
          34,
          25,
          24,
          22,
          25,
          25,
          23
         ],
         "xaxis": "x",
         "y": [
          51915615,
          47649433,
          47607350,
          47607350,
          47607350,
          46741590,
          45640084,
          45640084,
          45640084,
          45640084,
          45183960,
          43219440,
          41000000,
          40806300,
          40600080,
          40064220,
          40064220,
          40064220,
          39270150,
          37893408,
          37893408,
          37037037,
          36861707,
          36016200,
          36016200,
          36016200,
          35802469,
          35680595,
          34005250,
          34005250,
          34005250,
          33833400,
          33833400,
          33386850,
          33386850,
          33319397,
          33162030,
          32600060,
          32600060,
          32600060,
          32459438,
          31830357,
          30800000,
          30600000,
          32478379,
          29320988,
          28600000,
          28226880,
          27586207,
          27455357,
          27102202,
          27000000,
          26346666,
          25679348,
          25568182,
          25340000,
          25000000,
          24360000,
          24330357,
          24107143,
          23883929,
          23487629,
          23205221,
          22627671,
          22500000,
          22321429,
          22266182,
          22000000,
          21700000,
          20975000,
          20616000,
          21911797,
          20089286,
          20000000,
          20000000,
          20000000,
          19928571,
          19845098,
          19500000,
          18857143,
          18833713,
          18700000,
          18642857,
          18560000,
          18518519,
          18357143,
          18214000,
          18154000,
          18000000,
          17897728,
          17400000,
          17325000,
          17307693,
          17259999,
          17429682,
          17000000,
          17000000,
          17000000,
          16875000,
          16847826,
          15740741,
          15681818,
          15669643,
          15435000,
          15384616,
          15277778,
          14763636,
          14704938,
          14487684,
          14000000,
          13932008,
          13750000,
          13534817,
          13050000,
          13000000,
          12960000,
          12950400,
          12500000,
          12500000,
          12405000,
          12405000,
          12402000,
          12195122,
          12160680,
          12119440,
          12100000,
          12046020,
          12015150,
          12015150,
          11750000,
          11710818,
          11710818,
          11692308,
          11608080,
          11571429,
          11111111,
          11055360,
          11020000,
          11014500,
          13033786,
          11000000,
          11000000,
          10933333,
          10900635,
          10900000,
          10880400,
          10576923,
          10500000,
          10500000,
          10489600,
          10386000,
          10375000,
          10250000,
          10000000,
          9945830,
          9895833,
          9891480,
          9835881,
          9800926,
          9770880,
          9625000,
          9600000,
          9500000,
          9460000,
          9423869,
          9326520,
          9245121,
          9219512,
          8925000,
          8920795,
          8882640,
          8809320,
          8800000,
          8715000,
          8700000,
          8409000,
          8856750,
          8109063,
          8008680,
          8000000,
          8000000,
          8000000,
          8000000,
          8638413,
          7977480,
          7921300,
          7723000,
          7723000,
          7700000,
          7614480,
          7560000,
          7500000,
          7413955,
          7252080,
          7245480,
          8670002,
          6916080,
          6803012,
          6802950,
          7464578,
          7267250,
          6718842,
          6614280,
          6587040,
          8519706,
          6500000,
          6481482,
          6341464,
          6313800,
          6300000,
          6263188,
          6250000,
          6190476,
          6175000,
          6059520,
          6012840,
          5887899,
          5808435,
          5784120,
          5722116,
          5709877,
          5634257,
          5569920,
          5539771,
          5508720,
          5370370,
          5316960,
          5291400,
          5266713,
          5266713,
          5063640,
          5050800,
          5043773,
          5026800,
          5574809,
          5000000,
          5754488,
          5000000,
          5475908,
          5000000,
          4810200,
          4798440,
          4775640,
          4765339,
          4698000,
          4687500,
          4570080,
          4558680,
          4556983,
          4536720,
          4516000,
          4516000,
          4379527,
          4343920,
          6105941,
          4330680,
          4310250,
          4310160,
          4306281,
          4171548,
          4124400,
          4114200,
          4094280,
          4037277,
          4000000,
          4000000,
          4000000,
          3918480,
          3908160,
          3901399,
          3889800,
          3873025,
          3845083,
          3835738,
          3835738,
          3722040,
          3712920,
          3695040,
          3666667,
          3536280,
          3527160,
          3510600,
          4010730,
          3360000,
          5379706,
          3359280,
          3352440,
          3350760,
          3218160,
          3199920,
          3196448,
          3196448,
          3191400,
          3089520,
          3071880,
          3044872,
          3000000,
          3000000,
          3000000,
          2966040,
          2949120,
          2925360,
          2891467,
          2847480,
          2831160,
          2815937,
          2808720,
          2800000,
          2733720,
          2718240,
          2709849,
          2696280,
          2624040,
          2609400,
          2600000,
          2600008,
          2586665,
          2586665,
          2581522,
          2537160,
          2528233,
          2528233,
          2504640,
          2463960,
          2448600,
          2439025,
          2431080,
          2424892,
          2421720,
          2413320,
          2413304,
          2400000,
          2385720,
          2352000,
          4368030,
          2346614,
          2346614,
          2346614,
          2337720,
          2320440,
          2320000,
          2306400,
          2303520,
          777703,
          2240160,
          2232308,
          2226240,
          2210040,
          2196970,
          2194200,
          2165000,
          2165000,
          2165000,
          2131905,
          2066585,
          2066585,
          2019706,
          2961636,
          2019706,
          2019706,
          2019706,
          2019706,
          2019706,
          2019706,
          2019706,
          2019706,
          2019706,
          2019706,
          2019706,
          2019706,
          2019706,
          2019706,
          2351562,
          2419706,
          2019706,
          2019706,
          2019706,
          2019706,
          2019706,
          2019706,
          2019706,
          2019706,
          2019706,
          2019706,
          2019706,
          2019706,
          2019706,
          2019706,
          2019706,
          2019706,
          2019706,
          2019706,
          2019706,
          2000000,
          2000000,
          2000000,
          1997238,
          1997238,
          1997238,
          1991428,
          1951220,
          1930681,
          1930681,
          1930681,
          1927896,
          1927896,
          1927896,
          1927896,
          1927896,
          1902137,
          1901769,
          684843,
          1845593,
          1836096,
          1836096,
          1836096,
          1836096,
          1836096,
          1836096,
          1801769,
          1801769,
          1801769,
          1800000,
          1799163,
          1719864,
          1719864,
          1719864,
          1719864,
          500000,
          1719864,
          1719864,
          1708143,
          1600000,
          1500000,
          1500000,
          1250000,
          1119563,
          1119563,
          1119563,
          1119563,
          1119563,
          1119563,
          1119563,
          1119563,
          1119563,
          1119563,
          1100000,
          1029483,
          1000000,
          900000,
          864353,
          850000,
          1324828,
          766095,
          683430,
          600000,
          559782,
          548815,
          538460,
          533945,
          616075,
          500000,
          455620,
          439581,
          289542,
          368600,
          331253,
          452693,
          200000,
          243758,
          127683,
          301795,
          116075,
          103550,
          135120,
          77212,
          64343,
          64343
         ],
         "yaxis": "y"
        }
       ],
       "layout": {
        "autosize": true,
        "coloraxis": {
         "colorbar": {
          "title": {
           "text": "Salary"
          }
         },
         "colorscale": [
          [
           0,
           "rgb(75, 41, 145)"
          ],
          [
           0.16666666666666666,
           "rgb(135, 44, 162)"
          ],
          [
           0.3333333333333333,
           "rgb(192, 54, 157)"
          ],
          [
           0.5,
           "rgb(234, 79, 136)"
          ],
          [
           0.6666666666666666,
           "rgb(250, 120, 118)"
          ],
          [
           0.8333333333333334,
           "rgb(246, 169, 122)"
          ],
          [
           1,
           "rgb(237, 217, 163)"
          ]
         ]
        },
        "legend": {
         "itemsizing": "constant",
         "tracegroupgap": 0
        },
        "margin": {
         "t": 60
        },
        "template": {
         "data": {
          "bar": [
           {
            "error_x": {
             "color": "#2a3f5f"
            },
            "error_y": {
             "color": "#2a3f5f"
            },
            "marker": {
             "line": {
              "color": "#E5ECF6",
              "width": 0.5
             },
             "pattern": {
              "fillmode": "overlay",
              "size": 10,
              "solidity": 0.2
             }
            },
            "type": "bar"
           }
          ],
          "barpolar": [
           {
            "marker": {
             "line": {
              "color": "#E5ECF6",
              "width": 0.5
             },
             "pattern": {
              "fillmode": "overlay",
              "size": 10,
              "solidity": 0.2
             }
            },
            "type": "barpolar"
           }
          ],
          "carpet": [
           {
            "aaxis": {
             "endlinecolor": "#2a3f5f",
             "gridcolor": "white",
             "linecolor": "white",
             "minorgridcolor": "white",
             "startlinecolor": "#2a3f5f"
            },
            "baxis": {
             "endlinecolor": "#2a3f5f",
             "gridcolor": "white",
             "linecolor": "white",
             "minorgridcolor": "white",
             "startlinecolor": "#2a3f5f"
            },
            "type": "carpet"
           }
          ],
          "choropleth": [
           {
            "colorbar": {
             "outlinewidth": 0,
             "ticks": ""
            },
            "type": "choropleth"
           }
          ],
          "contour": [
           {
            "colorbar": {
             "outlinewidth": 0,
             "ticks": ""
            },
            "colorscale": [
             [
              0,
              "#0d0887"
             ],
             [
              0.1111111111111111,
              "#46039f"
             ],
             [
              0.2222222222222222,
              "#7201a8"
             ],
             [
              0.3333333333333333,
              "#9c179e"
             ],
             [
              0.4444444444444444,
              "#bd3786"
             ],
             [
              0.5555555555555556,
              "#d8576b"
             ],
             [
              0.6666666666666666,
              "#ed7953"
             ],
             [
              0.7777777777777778,
              "#fb9f3a"
             ],
             [
              0.8888888888888888,
              "#fdca26"
             ],
             [
              1,
              "#f0f921"
             ]
            ],
            "type": "contour"
           }
          ],
          "contourcarpet": [
           {
            "colorbar": {
             "outlinewidth": 0,
             "ticks": ""
            },
            "type": "contourcarpet"
           }
          ],
          "heatmap": [
           {
            "colorbar": {
             "outlinewidth": 0,
             "ticks": ""
            },
            "colorscale": [
             [
              0,
              "#0d0887"
             ],
             [
              0.1111111111111111,
              "#46039f"
             ],
             [
              0.2222222222222222,
              "#7201a8"
             ],
             [
              0.3333333333333333,
              "#9c179e"
             ],
             [
              0.4444444444444444,
              "#bd3786"
             ],
             [
              0.5555555555555556,
              "#d8576b"
             ],
             [
              0.6666666666666666,
              "#ed7953"
             ],
             [
              0.7777777777777778,
              "#fb9f3a"
             ],
             [
              0.8888888888888888,
              "#fdca26"
             ],
             [
              1,
              "#f0f921"
             ]
            ],
            "type": "heatmap"
           }
          ],
          "heatmapgl": [
           {
            "colorbar": {
             "outlinewidth": 0,
             "ticks": ""
            },
            "colorscale": [
             [
              0,
              "#0d0887"
             ],
             [
              0.1111111111111111,
              "#46039f"
             ],
             [
              0.2222222222222222,
              "#7201a8"
             ],
             [
              0.3333333333333333,
              "#9c179e"
             ],
             [
              0.4444444444444444,
              "#bd3786"
             ],
             [
              0.5555555555555556,
              "#d8576b"
             ],
             [
              0.6666666666666666,
              "#ed7953"
             ],
             [
              0.7777777777777778,
              "#fb9f3a"
             ],
             [
              0.8888888888888888,
              "#fdca26"
             ],
             [
              1,
              "#f0f921"
             ]
            ],
            "type": "heatmapgl"
           }
          ],
          "histogram": [
           {
            "marker": {
             "pattern": {
              "fillmode": "overlay",
              "size": 10,
              "solidity": 0.2
             }
            },
            "type": "histogram"
           }
          ],
          "histogram2d": [
           {
            "colorbar": {
             "outlinewidth": 0,
             "ticks": ""
            },
            "colorscale": [
             [
              0,
              "#0d0887"
             ],
             [
              0.1111111111111111,
              "#46039f"
             ],
             [
              0.2222222222222222,
              "#7201a8"
             ],
             [
              0.3333333333333333,
              "#9c179e"
             ],
             [
              0.4444444444444444,
              "#bd3786"
             ],
             [
              0.5555555555555556,
              "#d8576b"
             ],
             [
              0.6666666666666666,
              "#ed7953"
             ],
             [
              0.7777777777777778,
              "#fb9f3a"
             ],
             [
              0.8888888888888888,
              "#fdca26"
             ],
             [
              1,
              "#f0f921"
             ]
            ],
            "type": "histogram2d"
           }
          ],
          "histogram2dcontour": [
           {
            "colorbar": {
             "outlinewidth": 0,
             "ticks": ""
            },
            "colorscale": [
             [
              0,
              "#0d0887"
             ],
             [
              0.1111111111111111,
              "#46039f"
             ],
             [
              0.2222222222222222,
              "#7201a8"
             ],
             [
              0.3333333333333333,
              "#9c179e"
             ],
             [
              0.4444444444444444,
              "#bd3786"
             ],
             [
              0.5555555555555556,
              "#d8576b"
             ],
             [
              0.6666666666666666,
              "#ed7953"
             ],
             [
              0.7777777777777778,
              "#fb9f3a"
             ],
             [
              0.8888888888888888,
              "#fdca26"
             ],
             [
              1,
              "#f0f921"
             ]
            ],
            "type": "histogram2dcontour"
           }
          ],
          "mesh3d": [
           {
            "colorbar": {
             "outlinewidth": 0,
             "ticks": ""
            },
            "type": "mesh3d"
           }
          ],
          "parcoords": [
           {
            "line": {
             "colorbar": {
              "outlinewidth": 0,
              "ticks": ""
             }
            },
            "type": "parcoords"
           }
          ],
          "pie": [
           {
            "automargin": true,
            "type": "pie"
           }
          ],
          "scatter": [
           {
            "fillpattern": {
             "fillmode": "overlay",
             "size": 10,
             "solidity": 0.2
            },
            "type": "scatter"
           }
          ],
          "scatter3d": [
           {
            "line": {
             "colorbar": {
              "outlinewidth": 0,
              "ticks": ""
             }
            },
            "marker": {
             "colorbar": {
              "outlinewidth": 0,
              "ticks": ""
             }
            },
            "type": "scatter3d"
           }
          ],
          "scattercarpet": [
           {
            "marker": {
             "colorbar": {
              "outlinewidth": 0,
              "ticks": ""
             }
            },
            "type": "scattercarpet"
           }
          ],
          "scattergeo": [
           {
            "marker": {
             "colorbar": {
              "outlinewidth": 0,
              "ticks": ""
             }
            },
            "type": "scattergeo"
           }
          ],
          "scattergl": [
           {
            "marker": {
             "colorbar": {
              "outlinewidth": 0,
              "ticks": ""
             }
            },
            "type": "scattergl"
           }
          ],
          "scattermapbox": [
           {
            "marker": {
             "colorbar": {
              "outlinewidth": 0,
              "ticks": ""
             }
            },
            "type": "scattermapbox"
           }
          ],
          "scatterpolar": [
           {
            "marker": {
             "colorbar": {
              "outlinewidth": 0,
              "ticks": ""
             }
            },
            "type": "scatterpolar"
           }
          ],
          "scatterpolargl": [
           {
            "marker": {
             "colorbar": {
              "outlinewidth": 0,
              "ticks": ""
             }
            },
            "type": "scatterpolargl"
           }
          ],
          "scatterternary": [
           {
            "marker": {
             "colorbar": {
              "outlinewidth": 0,
              "ticks": ""
             }
            },
            "type": "scatterternary"
           }
          ],
          "surface": [
           {
            "colorbar": {
             "outlinewidth": 0,
             "ticks": ""
            },
            "colorscale": [
             [
              0,
              "#0d0887"
             ],
             [
              0.1111111111111111,
              "#46039f"
             ],
             [
              0.2222222222222222,
              "#7201a8"
             ],
             [
              0.3333333333333333,
              "#9c179e"
             ],
             [
              0.4444444444444444,
              "#bd3786"
             ],
             [
              0.5555555555555556,
              "#d8576b"
             ],
             [
              0.6666666666666666,
              "#ed7953"
             ],
             [
              0.7777777777777778,
              "#fb9f3a"
             ],
             [
              0.8888888888888888,
              "#fdca26"
             ],
             [
              1,
              "#f0f921"
             ]
            ],
            "type": "surface"
           }
          ],
          "table": [
           {
            "cells": {
             "fill": {
              "color": "#EBF0F8"
             },
             "line": {
              "color": "white"
             }
            },
            "header": {
             "fill": {
              "color": "#C8D4E3"
             },
             "line": {
              "color": "white"
             }
            },
            "type": "table"
           }
          ]
         },
         "layout": {
          "annotationdefaults": {
           "arrowcolor": "#2a3f5f",
           "arrowhead": 0,
           "arrowwidth": 1
          },
          "autotypenumbers": "strict",
          "coloraxis": {
           "colorbar": {
            "outlinewidth": 0,
            "ticks": ""
           }
          },
          "colorscale": {
           "diverging": [
            [
             0,
             "#8e0152"
            ],
            [
             0.1,
             "#c51b7d"
            ],
            [
             0.2,
             "#de77ae"
            ],
            [
             0.3,
             "#f1b6da"
            ],
            [
             0.4,
             "#fde0ef"
            ],
            [
             0.5,
             "#f7f7f7"
            ],
            [
             0.6,
             "#e6f5d0"
            ],
            [
             0.7,
             "#b8e186"
            ],
            [
             0.8,
             "#7fbc41"
            ],
            [
             0.9,
             "#4d9221"
            ],
            [
             1,
             "#276419"
            ]
           ],
           "sequential": [
            [
             0,
             "#0d0887"
            ],
            [
             0.1111111111111111,
             "#46039f"
            ],
            [
             0.2222222222222222,
             "#7201a8"
            ],
            [
             0.3333333333333333,
             "#9c179e"
            ],
            [
             0.4444444444444444,
             "#bd3786"
            ],
            [
             0.5555555555555556,
             "#d8576b"
            ],
            [
             0.6666666666666666,
             "#ed7953"
            ],
            [
             0.7777777777777778,
             "#fb9f3a"
            ],
            [
             0.8888888888888888,
             "#fdca26"
            ],
            [
             1,
             "#f0f921"
            ]
           ],
           "sequentialminus": [
            [
             0,
             "#0d0887"
            ],
            [
             0.1111111111111111,
             "#46039f"
            ],
            [
             0.2222222222222222,
             "#7201a8"
            ],
            [
             0.3333333333333333,
             "#9c179e"
            ],
            [
             0.4444444444444444,
             "#bd3786"
            ],
            [
             0.5555555555555556,
             "#d8576b"
            ],
            [
             0.6666666666666666,
             "#ed7953"
            ],
            [
             0.7777777777777778,
             "#fb9f3a"
            ],
            [
             0.8888888888888888,
             "#fdca26"
            ],
            [
             1,
             "#f0f921"
            ]
           ]
          },
          "colorway": [
           "#636efa",
           "#EF553B",
           "#00cc96",
           "#ab63fa",
           "#FFA15A",
           "#19d3f3",
           "#FF6692",
           "#B6E880",
           "#FF97FF",
           "#FECB52"
          ],
          "font": {
           "color": "#2a3f5f"
          },
          "geo": {
           "bgcolor": "white",
           "lakecolor": "white",
           "landcolor": "#E5ECF6",
           "showlakes": true,
           "showland": true,
           "subunitcolor": "white"
          },
          "hoverlabel": {
           "align": "left"
          },
          "hovermode": "closest",
          "mapbox": {
           "style": "light"
          },
          "paper_bgcolor": "white",
          "plot_bgcolor": "#E5ECF6",
          "polar": {
           "angularaxis": {
            "gridcolor": "white",
            "linecolor": "white",
            "ticks": ""
           },
           "bgcolor": "#E5ECF6",
           "radialaxis": {
            "gridcolor": "white",
            "linecolor": "white",
            "ticks": ""
           }
          },
          "scene": {
           "xaxis": {
            "backgroundcolor": "#E5ECF6",
            "gridcolor": "white",
            "gridwidth": 2,
            "linecolor": "white",
            "showbackground": true,
            "ticks": "",
            "zerolinecolor": "white"
           },
           "yaxis": {
            "backgroundcolor": "#E5ECF6",
            "gridcolor": "white",
            "gridwidth": 2,
            "linecolor": "white",
            "showbackground": true,
            "ticks": "",
            "zerolinecolor": "white"
           },
           "zaxis": {
            "backgroundcolor": "#E5ECF6",
            "gridcolor": "white",
            "gridwidth": 2,
            "linecolor": "white",
            "showbackground": true,
            "ticks": "",
            "zerolinecolor": "white"
           }
          },
          "shapedefaults": {
           "line": {
            "color": "#2a3f5f"
           }
          },
          "ternary": {
           "aaxis": {
            "gridcolor": "white",
            "linecolor": "white",
            "ticks": ""
           },
           "baxis": {
            "gridcolor": "white",
            "linecolor": "white",
            "ticks": ""
           },
           "bgcolor": "#E5ECF6",
           "caxis": {
            "gridcolor": "white",
            "linecolor": "white",
            "ticks": ""
           }
          },
          "title": {
           "x": 0.05
          },
          "xaxis": {
           "automargin": true,
           "gridcolor": "white",
           "linecolor": "white",
           "ticks": "",
           "title": {
            "standoff": 15
           },
           "zerolinecolor": "white",
           "zerolinewidth": 2
          },
          "yaxis": {
           "automargin": true,
           "gridcolor": "white",
           "linecolor": "white",
           "ticks": "",
           "title": {
            "standoff": 15
           },
           "zerolinecolor": "white",
           "zerolinewidth": 2
          }
         }
        },
        "xaxis": {
         "anchor": "y",
         "autorange": true,
         "domain": [
          0,
          1
         ],
         "range": [
          17.711522828512365,
          40.47023286317161
         ],
         "title": {
          "text": "agePlayer"
         },
         "type": "linear"
        },
        "yaxis": {
         "anchor": "x",
         "autorange": true,
         "domain": [
          0,
          1
         ],
         "range": [
          -3248573.653939652,
          56597662.675292775
         ],
         "title": {
          "text": "Salary"
         },
         "type": "linear"
        }
       }
      },
      "image/png": "[encoded data removed]",
      "text/html": [
       "<div>                            <div id=\"ec2893d4-9519-470a-9805-1ece5d2989e8\" class=\"plotly-graph-div\" style=\"height:700px; width:100%;\"></div>            <script type=\"text/javascript\">                require([\"plotly\"], function(Plotly) {                    window.PLOTLYENV=window.PLOTLYENV || {};                                    if (document.getElementById(\"ec2893d4-9519-470a-9805-1ece5d2989e8\")) {                    Plotly.newPlot(                        \"ec2893d4-9519-470a-9805-1ece5d2989e8\",                        [{\"customdata\":[[\"Stephen Curry\",\"GSW\"],[\"Kevin Durant\",\"PHO\"],[\"Nikola Jokic\",\"DEN\"],[\"Joel Embiid\",\"PHI\"],[\"LeBron James\",\"LAL\"],[\"Bradley Beal\",\"PHO\"],[\"Giannis Antetokounmpo\",\"MIL\"],[\"Kawhi Leonard\",\"LAC\"],[\"Damian Lillard\",\"MIL\"],[\"Paul George\",\"LAC\"],[\"Jimmy Butler\",\"MIA\"],[\"Klay Thompson\",\"GSW\"],[\"Rudy Gobert\",\"MIN\"],[\"Fred VanVleet\",\"HOU\"],[\"Anthony Davis\",\"LAL\"],[\"Trae Young\",\"ATL\"],[\"Luka Doncic\",\"DAL\"],[\"Zach LaVine\",\"CHI\"],[\"Tobias Harris\",\"PHI\"],[\"Ben Simmons\",\"BRK\"],[\"Pascal Siakam\",\"TOT\"],[\"Kyrie Irving\",\"DAL\"],[\"Jrue Holiday\",\"BOS\"],[\"Devin Booker\",\"PHO\"],[\"Karl-Anthony Towns\",\"MIN\"],[\"Kristaps Porzingis\",\"BOS\"],[\"CJ McCollum\",\"NOP\"],[\"James Harden\",\"LAC\"],[\"Zion Williamson\",\"NOP\"],[\"Ja Morant\",\"MEM\"],[\"Darius Garland\",\"CLE\"],[\"Brandon Ingram\",\"NOP\"],[\"Jamal Murray\",\"DEN\"],[\"Shai Gilgeous-Alexander\",\"OKC\"],[\"Michael Porter Jr.\",\"DEN\"],[\"Gordon Hayward\",\"TOT\"],[\"Donovan Mitchell\",\"CLE\"],[\"De'Aaron Fox\",\"SAC\"],[\"Bam Adebayo\",\"MIA\"],[\"Jayson Tatum\",\"BOS\"],[\"Deandre Ayton\",\"POR\"],[\"Jaylen Brown\",\"BOS\"],[\"Chris Paul\",\"GSW\"],[\"Domantas Sabonis\",\"SAC\"],[\"Kyle Lowry\",\"TOT\"],[\"Khris Middleton\",\"MIL\"],[\"DeMar DeRozan\",\"CHI\"],[\"Julius Randle\",\"NYK\"],[\"Jerami Grant\",\"POR\"],[\"Jordan Poole\",\"WAS\"],[\"Jaren Jackson Jr.\",\"MEM\"],[\"Tyler Herro\",\"MIA\"],[\"Jalen Brunson\",\"NYK\"],[\"Cameron Johnson\",\"BRK\"],[\"Kyle Kuzma\",\"WAS\"],[\"John Collins\",\"UTA\"],[\"Brook Lopez\",\"MIL\"],[\"Mike Conley\",\"MIN\"],[\"Andrew Wiggins\",\"GSW\"],[\"Anfernee Simons\",\"POR\"],[\"RJ Barrett\",\"TOT\"],[\"Jordan Clarkson\",\"UTA\"],[\"Terry Rozier\",\"TOT\"],[\"Dillon Brooks\",\"HOU\"],[\"Malcolm Brogdon\",\"POR\"],[\"Draymond Green\",\"GSW\"],[\"Aaron Gordon\",\"DEN\"],[\"Bruce Brown\",\"TOT\"],[\"Mikal Bridges\",\"BRK\"],[\"Myles Turner\",\"IND\"],[\"Clint Capela\",\"ATL\"],[\"Spencer Dinwiddie\",\"TOT\"],[\"De'Andre Hunter\",\"ATL\"],[\"Keldon Johnson\",\"SAS\"],[\"Jarrett Allen\",\"CLE\"],[\"Bojan Bogdanovic\",\"TOT\"],[\"Joe Harris\",\"DET\"],[\"Buddy Hield\",\"TOT\"],[\"Jakob Poeltl\",\"TOR\"],[\"Evan Fournier\",\"TOT\"],[\"Marcus Smart\",\"MEM\"],[\"Bogdan Bogdanovic\",\"ATL\"],[\"OG Anunoby\",\"TOT\"],[\"Gary Trent Jr.\",\"TOR\"],[\"Nikola Vucevic\",\"CHI\"],[\"Derrick White\",\"BOS\"],[\"Dejounte Murray\",\"ATL\"],[\"Duncan Robinson\",\"MIA\"],[\"Norman Powell\",\"LAC\"],[\"Tim Hardaway Jr.\",\"DAL\"],[\"Jonathan Isaac\",\"ORL\"],[\"Collin Sexton\",\"UTA\"],[\"D'Angelo Russell\",\"LAL\"],[\"Lauri Markkanen\",\"UTA\"],[\"Marcus Morris Sr.\",\"TOT\"],[\"Harrison Barnes\",\"SAC\"],[\"Davis Bertans\",\"TOT\"],[\"Markelle Fultz\",\"ORL\"],[\"Jusuf Nurkic\",\"PHO\"],[\"P.J. Washington\",\"TOT\"],[\"Rui Hachimura\",\"LAL\"],[\"Mitchell Robinson\",\"NYK\"],[\"Kevin Huerter\",\"SAC\"],[\"Jonas Valanciunas\",\"NOP\"],[\"Caris LeVert\",\"CLE\"],[\"Luguentz Dort\",\"OKC\"],[\"Luke Kennard\",\"MEM\"],[\"Kentavious Caldwell-Pope\",\"DEN\"],[\"Max Strus\",\"CLE\"],[\"Tyus Jones\",\"WAS\"],[\"Dorian Finney-Smith\",\"BRK\"],[\"Doug McDermott\",\"TOT\"],[\"Anthony Edwards\",\"MIN\"],[\"Wendell Carter Jr.\",\"ORL\"],[\"Gary Harris\",\"ORL\"],[\"Josh Hart\",\"NYK\"],[\"Naz Reid\",\"MIN\"],[\"Brandon Clarke\",\"MEM\"],[\"Marvin Bagley III\",\"TOT\"],[\"Grant Williams\",\"TOT\"],[\"Dennis Schroder\",\"TOT\"],[\"Daniel Gafford\",\"TOT\"],[\"Kelly Olynyk\",\"TOT\"],[\"Victor Wembanyama\",\"SAS\"],[\"James Wiseman\",\"DET\"],[\"Devonte' Graham\",\"SAS\"],[\"Richaun Holmes\",\"TOT\"],[\"Herbert Jones\",\"NOP\"],[\"Austin Reaves\",\"LAL\"],[\"Chris Boucher\",\"TOR\"],[\"Bobby Portis\",\"MIL\"],[\"Nicolas Batum\",\"TOT\"],[\"Robert Covington\",\"TOT\"],[\"Paolo Banchero\",\"ORL\"],[\"Robert Williams III\",\"POR\"],[\"Coby White\",\"CHI\"],[\"Cade Cunningham\",\"DET\"],[\"Talen Horton-Tucker\",\"UTA\"],[\"P.J. Tucker\",\"TOT\"],[\"Reggie Bullock\",\"HOU\"],[\"Maxi Kleber\",\"DAL\"],[\"Joe Ingles\",\"ORL\"],[\"Ivica Zubac\",\"LAC\"],[\"LaMelo Ball\",\"CHO\"],[\"Donte DiVincenzo\",\"NYK\"],[\"Brandon Miller\",\"CHO\"],[\"Terance Mann\",\"LAC\"],[\"Gabe Vincent\",\"LAL\"],[\"Matisse Thybulle\",\"POR\"],[\"Alec Burks\",\"TOT\"],[\"Chet Holmgren\",\"OKC\"],[\"Larry Nance Jr.\",\"NOP\"],[\"Landry Shamet\",\"WAS\"],[\"Al Horford\",\"BOS\"],[\"Malik Monk\",\"SAC\"],[\"Tre Jones\",\"SAS\"],[\"Jalen Green\",\"HOU\"],[\"Patrick Williams\",\"CHI\"],[\"Monte Morris\",\"TOT\"],[\"Scoot Henderson\",\"POR\"],[\"Nic Claxton\",\"BRK\"],[\"Jeff Green\",\"HOU\"],[\"Royce O'Neale\",\"TOT\"],[\"Alex Caruso\",\"CHI\"],[\"Pat Connaughton\",\"MIL\"],[\"Jabari Smith Jr.\",\"HOU\"],[\"Isaiah Hartenstein\",\"NYK\"],[\"Kyle Anderson\",\"MIN\"],[\"Grayson Allen\",\"PHO\"],[\"Isaac Okoro\",\"CLE\"],[\"Evan Mobley\",\"CLE\"],[\"Amen Thompson\",\"HOU\"],[\"Georges Niang\",\"CLE\"],[\"Gary Payton II\",\"GSW\"],[\"T.J. McConnell\",\"IND\"],[\"Keegan Murray\",\"SAC\"],[\"Delon Wright\",\"TOT\"],[\"Onyeka Okongwu\",\"ATL\"],[\"Scottie Barnes\",\"TOR\"],[\"Jock Landale\",\"HOU\"],[\"Trey Lyles\",\"SAC\"],[\"De'Anthony Melton\",\"PHI\"],[\"Moritz Wagner\",\"ORL\"],[\"Thaddeus Young\",\"TOT\"],[\"Ausar Thompson\",\"DET\"],[\"Miles Bridges\",\"CHO\"],[\"Vasilije Micic\",\"TOT\"],[\"Paul Reed\",\"PHI\"],[\"Zach Collins\",\"SAS\"],[\"Jaden Ivey\",\"DET\"],[\"Cody Martin\",\"CHO\"],[\"Kevon Looney\",\"GSW\"],[\"Killian Hayes\",\"DET\"],[\"Jalen Suggs\",\"ORL\"],[\"Anthony Black\",\"ORL\"],[\"Daniel Theis\",\"TOT\"],[\"Bennedict Mathurin\",\"IND\"],[\"Obi Toppin\",\"IND\"],[\"Caleb Martin\",\"MIA\"],[\"Danilo Gallinari\",\"TOT\"],[\"Patty Mills\",\"TOT\"],[\"Cedi Osman\",\"SAS\"],[\"Bilal Coulibaly\",\"WAS\"],[\"Josh Giddey\",\"OKC\"],[\"Cameron Payne\",\"TOT\"],[\"Jae'Sean Tate\",\"HOU\"],[\"Ayo Dosunmu\",\"CHI\"],[\"Sasha Vezenkov\",\"SAC\"],[\"Shaedon Sharpe\",\"POR\"],[\"Otto Porter Jr.\",\"TOR\"],[\"Deni Avdija\",\"WAS\"],[\"Nassir Little\",\"PHO\"],[\"Jevon Carter\",\"CHI\"],[\"Kenrich Williams\",\"OKC\"],[\"Jarace Walker\",\"IND\"],[\"Jonathan Kuminga\",\"GSW\"],[\"Devin Vassell\",\"SAS\"],[\"Tyrese Haliburton\",\"IND\"],[\"Dyson Daniels\",\"NOP\"],[\"Kira Lewis Jr.\",\"TOT\"],[\"Dean Wade\",\"CLE\"],[\"Aaron Nesmith\",\"IND\"],[\"Taylor Hendricks\",\"UTA\"],[\"Cole Anthony\",\"ORL\"],[\"Franz Wagner\",\"ORL\"],[\"Furkan Korkmaz\",\"PHI\"],[\"Jeremy Sochan\",\"SAS\"],[\"Cason Wallace\",\"OKC\"],[\"Isaiah Stewart\",\"DET\"],[\"Chuma Okeke\",\"ORL\"],[\"Davion Mitchell\",\"SAC\"],[\"Johnny Davis\",\"WAS\"],[\"Jalen Smith\",\"IND\"],[\"Jett Howard\",\"ORL\"],[\"Aleksej Pokusevski\",\"TOT\"],[\"Nick Richards\",\"CHO\"],[\"Bismack Biyombo\",\"TOT\"],[\"Mason Plumlee\",\"LAC\"],[\"Shake Milton\",\"TOT\"],[\"Reggie Jackson\",\"DEN\"],[\"Ziaire Williams\",\"MEM\"],[\"Ousmane Dieng\",\"OKC\"],[\"Dereck Lively II\",\"DAL\"],[\"Josh Green\",\"DAL\"],[\"Jarred Vanderbilt\",\"LAL\"],[\"Nickeil Alexander-Walker\",\"MIN\"],[\"James Bouknight\",\"CHO\"],[\"Jalen Williams\",\"OKC\"],[\"Saddiq Bey\",\"ATL\"],[\"Gradey Dick\",\"TOR\"],[\"Jalen McDaniels\",\"TOR\"],[\"Taurean Prince\",\"LAL\"],[\"Precious Achiuwa\",\"TOT\"],[\"Tyrese Maxey\",\"PHI\"],[\"Joshua Primo\",\"LAC\"],[\"Jalen Duren\",\"DET\"],[\"Danuel House Jr.\",\"PHI\"],[\"Jordan Hawkins\",\"NOP\"],[\"Zeke Nnaji\",\"DEN\"],[\"Immanuel Quickley\",\"TOT\"],[\"Chris Duarte\",\"SAC\"],[\"Ochai Agbaji\",\"TOT\"],[\"Kobe Bufkin\",\"ATL\"],[\"Payton Pritchard\",\"BOS\"],[\"Dwight Powell\",\"DAL\"],[\"Seth Curry\",\"TOT\"],[\"Troy Brown Jr.\",\"TOT\"],[\"Moses Moody\",\"GSW\"],[\"Mark Williams\",\"CHO\"],[\"Jaden McDaniels\",\"MIN\"],[\"Keyonte George\",\"UTA\"],[\"Malachi Flynn\",\"TOT\"],[\"Desmond Bane\",\"MEM\"],[\"Kevin Love\",\"MIA\"],[\"Russell Westbrook\",\"LAC\"],[\"Corey Kispert\",\"WAS\"],[\"AJ Griffin\",\"ATL\"],[\"Jalen Hood-Schifino\",\"LAL\"],[\"Amir Coffey\",\"LAC\"],[\"Alperen Sengun\",\"HOU\"],[\"Tari Eason\",\"HOU\"],[\"Jaime Jaquez Jr.\",\"MIA\"],[\"Mike Muscala\",\"TOT\"],[\"Andre Drummond\",\"CHI\"],[\"Derrick Jones Jr.\",\"DAL\"],[\"Trey Murphy III\",\"NOP\"],[\"Brandin Podziemski\",\"GSW\"],[\"Dalen Terry\",\"CHI\"],[\"Cam Whitmore\",\"HOU\"],[\"Jake LaRavia\",\"MEM\"],[\"Derrick Rose\",\"MEM\"],[\"Eric Gordon\",\"PHO\"],[\"Tre Mann\",\"TOT\"],[\"Noah Clowney\",\"BRK\"],[\"Malaki Branham\",\"SAS\"],[\"Simone Fontecchio\",\"TOT\"],[\"Jordan Nwora\",\"TOT\"],[\"Julian Champagnie\",\"SAS\"],[\"Dante Exum\",\"DAL\"],[\"Dariq Whitehead\",\"BRK\"],[\"Christian Braun\",\"DEN\"],[\"Jalen Johnson\",\"ATL\"],[\"Josh Richardson\",\"MIA\"],[\"Kris Murray\",\"POR\"],[\"Walker Kessler\",\"UTA\"],[\"Josh Okogie\",\"PHO\"],[\"Keon Johnson\",\"BRK\"],[\"Omer Yurtseven\",\"UTA\"],[\"Olivier-Maxence Prosper\",\"DAL\"],[\"David Roddy\",\"TOT\"],[\"Christian Wood\",\"LAL\"],[\"Isaiah Jackson\",\"IND\"],[\"Marcus Sasser\",\"DET\"],[\"MarJon Beauchamp\",\"MIL\"],[\"Charles Bassey\",\"SAS\"],[\"Usman Garuba\",\"GSW\"],[\"Kris Dunn\",\"UTA\"],[\"Damian Jones\",\"CLE\"],[\"Bruno Fernando\",\"ATL\"],[\"Ben Sheppard\",\"IND\"],[\"Thomas Bryant\",\"MIA\"],[\"Torrey Craig\",\"CHI\"],[\"Blake Wesley\",\"SAS\"],[\"Nick Smith Jr.\",\"CHO\"],[\"Brice Sensabaugh\",\"UTA\"],[\"Ty Jerome\",\"CLE\"],[\"Julian Strawther\",\"DEN\"],[\"Tristan Vukcevic\",\"WAS\"],[\"Wendell Moore Jr.\",\"MIN\"],[\"Kobe Brown\",\"LAC\"],[\"Luke Kornet\",\"BOS\"],[\"John Konchar\",\"MEM\"],[\"Quentin Grimes\",\"TOT\"],[\"Nikola Jovic\",\"MIA\"],[\"JaVale McGee\",\"SAC\"],[\"Drew Eubanks\",\"PHO\"],[\"Keita Bates-Diop\",\"TOT\"],[\"Yuta Watanabe\",\"TOT\"],[\"Patrick Baldwin Jr.\",\"WAS\"],[\"TyTy Washington Jr.\",\"MIL\"],[\"Jordan McLaughlin\",\"MIN\"],[\"Bones Hyland\",\"LAC\"],[\"Peyton Watson\",\"DEN\"],[\"James Johnson\",\"IND\"],[\"Cam Thomas\",\"BRK\"],[\"Vince Williams Jr.\",\"MEM\"],[\"Jaden Springer\",\"TOT\"],[\"Day'Ron Sharpe\",\"BRK\"],[\"Jeff Dowtin\",\"PHI\"],[\"Santi Aldama\",\"MEM\"],[\"Jaxson Hayes\",\"LAL\"],[\"Cam Reddish\",\"LAL\"],[\"Oshae Brissett\",\"BOS\"],[\"Andrew Nembhard\",\"IND\"],[\"Luka Samanic\",\"UTA\"],[\"Goga Bitadze\",\"ORL\"],[\"Colby Jones\",\"SAC\"],[\"Taj Gibson\",\"TOT\"],[\"Garrett Temple\",\"TOR\"],[\"Sandro Mamukelashvili\",\"SAS\"],[\"Robin Lopez\",\"MIL\"],[\"Alex Len\",\"SAC\"],[\"Dalano Banton\",\"TOT\"],[\"Bol Bol\",\"PHO\"],[\"Kelly Oubre Jr.\",\"PHI\"],[\"Mo Bamba\",\"PHI\"],[\"Dylan Windler\",\"TOT\"],[\"Cody Zeller\",\"NOP\"],[\"Thanasis Antetokounmpo\",\"MIL\"],[\"Patrick Beverley\",\"TOT\"],[\"Jae Crowder\",\"MIL\"],[\"Malik Beasley\",\"MIL\"],[\"Chimezie Metu\",\"TOT\"],[\"Lamar Stevens\",\"TOT\"],[\"Cory Joseph\",\"GSW\"],[\"Dario Saric\",\"GSW\"],[\"Ryan Arcidiacono\",\"NYK\"],[\"DeAndre Jordan\",\"DEN\"],[\"Justin Holiday\",\"DEN\"],[\"Markieff Morris\",\"DAL\"],[\"Ish Smith\",\"CHO\"],[\"Frank Ntilikina\",\"CHO\"],[\"Terry Taylor\",\"CHI\"],[\"Harry Giles III\",\"TOT\"],[\"Lonnie Walker IV\",\"BRK\"],[\"Dennis Smith Jr.\",\"BRK\"],[\"Svi Mykhailiuk\",\"BOS\"],[\"Wesley Matthews\",\"ATL\"],[\"Moses Brown\",\"POR\"],[\"Boban Marjanovic\",\"HOU\"],[\"Aaron Holiday\",\"HOU\"],[\"Tristan Thompson\",\"CLE\"],[\"Trendon Watford\",\"BRK\"],[\"Caleb Houstan\",\"ORL\"],[\"Jaylin Williams\",\"OKC\"],[\"Garrison Mathews\",\"ATL\"],[\"Sam Merrill\",\"CLE\"],[\"Anthony Gill\",\"WAS\"],[\"Isaiah Joe\",\"OKC\"],[\"GG Jackson II\",\"MEM\"],[\"Duop Reath\",\"POR\"],[\"KJ Martin\",\"TOT\"],[\"Naji Marshall\",\"NOP\"],[\"Xavier Tillman Sr.\",\"TOT\"],[\"Jordan Goodwin\",\"TOT\"],[\"Kessler Edwards\",\"SAC\"],[\"Ish Wainright\",\"TOT\"],[\"Jericho Sims\",\"NYK\"],[\"Sam Hauser\",\"BOS\"],[\"Haywood Highsmith\",\"MIA\"],[\"A.J. Green\",\"MIL\"],[\"Jeremiah Robinson-Earl\",\"NOP\"],[\"Kevin Knox II\",\"DET\"],[\"Miles McBride\",\"NYK\"],[\"Isaiah Livers\",\"DET\"],[\"Brandon Boston Jr.\",\"LAC\"],[\"JT Thor\",\"CHO\"],[\"Aaron Wiggins\",\"OKC\"],[\"Jose Alvarado\",\"NOP\"],[\"E.J. Liddell\",\"NOP\"],[\"Dru Smith\",\"MIA\"],[\"Orlando Robinson\",\"MIA\"],[\"Leonard Miller\",\"MIN\"],[\"Skylar Mays\",\"TOT\"],[\"Ryan Rollins\",\"TOT\"],[\"Jaden Hardy\",\"DAL\"],[\"Jabari Walker\",\"POR\"],[\"Josh Minott\",\"MIN\"],[\"Kenneth Lofton Jr.\",\"TOT\"],[\"Max Christie\",\"LAL\"],[\"Bryce McGowens\",\"CHO\"],[\"Jalen Pickett\",\"DEN\"],[\"Julian Phillips\",\"CHI\"],[\"Matt Ryan\",\"NOP\"],[\"Craig Porter Jr.\",\"CLE\"],[\"Jared Butler\",\"WAS\"],[\"Sidy Cissoko\",\"SAS\"],[\"Hunter Tyson\",\"DEN\"],[\"Jordan Walsh\",\"BOS\"],[\"Rayan Rupert\",\"POR\"],[\"Chris Livingston\",\"MIL\"],[\"Maxwell Lewis\",\"LAL\"],[\"Trayce Jackson-Davis\",\"GSW\"],[\"Mouhamed Gueye\",\"ATL\"],[\"Toumani Camara\",\"POR\"],[\"Andre Jackson Jr.\",\"MIL\"],[\"Kendall Brown\",\"IND\"],[\"Gui Santos\",\"GSW\"],[\"A.J. Lawson\",\"DAL\"],[\"Eugene Omoruyi\",\"WAS\"],[\"Ricky Council IV\",\"PHI\"],[\"Jalen Wilson\",\"BRK\"],[\"DaQuan Jeffries\",\"NYK\"],[\"Lindy Waters III\",\"OKC\"],[\"Keon Ellis\",\"SAC\"],[\"Jack White\",\"MEM\"],[\"Filip Petrusev\",\"TOT\"],[\"Lester Quinones\",\"GSW\"],[\"Stanley Umude\",\"DET\"],[\"Trent Forrest\",\"ATL\"],[\"Darius Bazley\",\"TOT\"],[\"Onuralp Bitim\",\"CHI\"],[\"Dominick Barlow\",\"SAS\"],[\"Juan Toscano-Anderson\",\"SAC\"],[\"Javon Freeman-Liberty\",\"TOR\"],[\"Mamadi Diakite\",\"TOT\"],[\"Neemias Queta\",\"BOS\"],[\"T.J. Warren\",\"MIN\"],[\"Danny Green\",\"PHI\"],[\"Javonte Green\",\"CHI\"],[\"Luka Garza\",\"MIN\"],[\"Isaiah Thomas\",\"PHO\"],[\"Hamidou Diallo\",\"WAS\"],[\"Ashton Hagans\",\"POR\"],[\"Tosan Evbuomwan\",\"TOT\"],[\"Malik Williams\",\"TOR\"],[\"Taze Moore\",\"POR\"],[\"Pete Nance\",\"CLE\"]],\"hovertemplate\":\"agePlayer=%{x}\\u003cbr\\u003eSalary=%{marker.color}\\u003cbr\\u003enamePlayer=%{customdata[0]}\\u003cbr\\u003eslugTeamBREF=%{customdata[1]}\\u003cextra\\u003e\\u003c\\u002fextra\\u003e\",\"legendgroup\":\"\",\"marker\":{\"color\":[51915615,47649433,47607350,47607350,47607350,46741590,45640084,45640084,45640084,45640084,45183960,43219440,41000000,40806300,40600080,40064220,40064220,40064220,39270150,37893408,37893408,37037037,36861707,36016200,36016200,36016200,35802469,35680595,34005250,34005250,34005250,33833400,33833400,33386850,33386850,33319397,33162030,32600060,32600060,32600060,32459438,31830357,30800000,30600000,32478379,29320988,28600000,28226880,27586207,27455357,27102202,27000000,26346666,25679348,25568182,25340000,25000000,24360000,24330357,24107143,23883929,23487629,23205221,22627671,22500000,22321429,22266182,22000000,21700000,20975000,20616000,21911797,20089286,20000000,20000000,20000000,19928571,19845098,19500000,18857143,18833713,18700000,18642857,18560000,18518519,18357143,18214000,18154000,18000000,17897728,17400000,17325000,17307693,17259999,17429682,17000000,17000000,17000000,16875000,16847826,15740741,15681818,15669643,15435000,15384616,15277778,14763636,14704938,14487684,14000000,13932008,13750000,13534817,13050000,13000000,12960000,12950400,12500000,12500000,12405000,12405000,12402000,12195122,12160680,12119440,12100000,12046020,12015150,12015150,11750000,11710818,11710818,11692308,11608080,11571429,11111111,11055360,11020000,11014500,13033786,11000000,11000000,10933333,10900635,10900000,10880400,10576923,10500000,10500000,10489600,10386000,10375000,10250000,10000000,9945830,9895833,9891480,9835881,9800926,9770880,9625000,9600000,9500000,9460000,9423869,9326520,9245121,9219512,8925000,8920795,8882640,8809320,8800000,8715000,8700000,8409000,8856750,8109063,8008680,8000000,8000000,8000000,8000000,8638413,7977480,7921300,7723000,7723000,7700000,7614480,7560000,7500000,7413955,7252080,7245480,8670002,6916080,6803012,6802950,7464578,7267250,6718842,6614280,6587040,8519706,6500000,6481482,6341464,6313800,6300000,6263188,6250000,6190476,6175000,6059520,6012840,5887899,5808435,5784120,5722116,5709877,5634257,5569920,5539771,5508720,5370370,5316960,5291400,5266713,5266713,5063640,5050800,5043773,5026800,5574809,5000000,5754488,5000000,5475908,5000000,4810200,4798440,4775640,4765339,4698000,4687500,4570080,4558680,4556983,4536720,4516000,4516000,4379527,4343920,6105941,4330680,4310250,4310160,4306281,4171548,4124400,4114200,4094280,4037277,4000000,4000000,4000000,3918480,3908160,3901399,3889800,3873025,3845083,3835738,3835738,3722040,3712920,3695040,3666667,3536280,3527160,3510600,4010730,3360000,5379706,3359280,3352440,3350760,3218160,3199920,3196448,3196448,3191400,3089520,3071880,3044872,3000000,3000000,3000000,2966040,2949120,2925360,2891467,2847480,2831160,2815937,2808720,2800000,2733720,2718240,2709849,2696280,2624040,2609400,2600000,2600008,2586665,2586665,2581522,2537160,2528233,2528233,2504640,2463960,2448600,2439025,2431080,2424892,2421720,2413320,2413304,2400000,2385720,2352000,4368030,2346614,2346614,2346614,2337720,2320440,2320000,2306400,2303520,777703,2240160,2232308,2226240,2210040,2196970,2194200,2165000,2165000,2165000,2131905,2066585,2066585,2019706,2961636,2019706,2019706,2019706,2019706,2019706,2019706,2019706,2019706,2019706,2019706,2019706,2019706,2019706,2019706,2351562,2419706,2019706,2019706,2019706,2019706,2019706,2019706,2019706,2019706,2019706,2019706,2019706,2019706,2019706,2019706,2019706,2019706,2019706,2019706,2019706,2000000,2000000,2000000,1997238,1997238,1997238,1991428,1951220,1930681,1930681,1930681,1927896,1927896,1927896,1927896,1927896,1902137,1901769,684843,1845593,1836096,1836096,1836096,1836096,1836096,1836096,1801769,1801769,1801769,1800000,1799163,1719864,1719864,1719864,1719864,500000,1719864,1719864,1708143,1600000,1500000,1500000,1250000,1119563,1119563,1119563,1119563,1119563,1119563,1119563,1119563,1119563,1119563,1100000,1029483,1000000,900000,864353,850000,1324828,766095,683430,600000,559782,548815,538460,533945,616075,500000,455620,439581,289542,368600,331253,452693,200000,243758,127683,301795,116075,103550,135120,77212,64343,64343],\"coloraxis\":\"coloraxis\",\"size\":[51915615,47649433,47607350,47607350,47607350,46741590,45640084,45640084,45640084,45640084,45183960,43219440,41000000,40806300,40600080,40064220,40064220,40064220,39270150,37893408,37893408,37037037,36861707,36016200,36016200,36016200,35802469,35680595,34005250,34005250,34005250,33833400,33833400,33386850,33386850,33319397,33162030,32600060,32600060,32600060,32459438,31830357,30800000,30600000,32478379,29320988,28600000,28226880,27586207,27455357,27102202,27000000,26346666,25679348,25568182,25340000,25000000,24360000,24330357,24107143,23883929,23487629,23205221,22627671,22500000,22321429,22266182,22000000,21700000,20975000,20616000,21911797,20089286,20000000,20000000,20000000,19928571,19845098,19500000,18857143,18833713,18700000,18642857,18560000,18518519,18357143,18214000,18154000,18000000,17897728,17400000,17325000,17307693,17259999,17429682,17000000,17000000,17000000,16875000,16847826,15740741,15681818,15669643,15435000,15384616,15277778,14763636,14704938,14487684,14000000,13932008,13750000,13534817,13050000,13000000,12960000,12950400,12500000,12500000,12405000,12405000,12402000,12195122,12160680,12119440,12100000,12046020,12015150,12015150,11750000,11710818,11710818,11692308,11608080,11571429,11111111,11055360,11020000,11014500,13033786,11000000,11000000,10933333,10900635,10900000,10880400,10576923,10500000,10500000,10489600,10386000,10375000,10250000,10000000,9945830,9895833,9891480,9835881,9800926,9770880,9625000,9600000,9500000,9460000,9423869,9326520,9245121,9219512,8925000,8920795,8882640,8809320,8800000,8715000,8700000,8409000,8856750,8109063,8008680,8000000,8000000,8000000,8000000,8638413,7977480,7921300,7723000,7723000,7700000,7614480,7560000,7500000,7413955,7252080,7245480,8670002,6916080,6803012,6802950,7464578,7267250,6718842,6614280,6587040,8519706,6500000,6481482,6341464,6313800,6300000,6263188,6250000,6190476,6175000,6059520,6012840,5887899,5808435,5784120,5722116,5709877,5634257,5569920,5539771,5508720,5370370,5316960,5291400,5266713,5266713,5063640,5050800,5043773,5026800,5574809,5000000,5754488,5000000,5475908,5000000,4810200,4798440,4775640,4765339,4698000,4687500,4570080,4558680,4556983,4536720,4516000,4516000,4379527,4343920,6105941,4330680,4310250,4310160,4306281,4171548,4124400,4114200,4094280,4037277,4000000,4000000,4000000,3918480,3908160,3901399,3889800,3873025,3845083,3835738,3835738,3722040,3712920,3695040,3666667,3536280,3527160,3510600,4010730,3360000,5379706,3359280,3352440,3350760,3218160,3199920,3196448,3196448,3191400,3089520,3071880,3044872,3000000,3000000,3000000,2966040,2949120,2925360,2891467,2847480,2831160,2815937,2808720,2800000,2733720,2718240,2709849,2696280,2624040,2609400,2600000,2600008,2586665,2586665,2581522,2537160,2528233,2528233,2504640,2463960,2448600,2439025,2431080,2424892,2421720,2413320,2413304,2400000,2385720,2352000,4368030,2346614,2346614,2346614,2337720,2320440,2320000,2306400,2303520,777703,2240160,2232308,2226240,2210040,2196970,2194200,2165000,2165000,2165000,2131905,2066585,2066585,2019706,2961636,2019706,2019706,2019706,2019706,2019706,2019706,2019706,2019706,2019706,2019706,2019706,2019706,2019706,2019706,2351562,2419706,2019706,2019706,2019706,2019706,2019706,2019706,2019706,2019706,2019706,2019706,2019706,2019706,2019706,2019706,2019706,2019706,2019706,2019706,2019706,2000000,2000000,2000000,1997238,1997238,1997238,1991428,1951220,1930681,1930681,1930681,1927896,1927896,1927896,1927896,1927896,1902137,1901769,684843,1845593,1836096,1836096,1836096,1836096,1836096,1836096,1801769,1801769,1801769,1800000,1799163,1719864,1719864,1719864,1719864,500000,1719864,1719864,1708143,1600000,1500000,1500000,1250000,1119563,1119563,1119563,1119563,1119563,1119563,1119563,1119563,1119563,1119563,1100000,1029483,1000000,900000,864353,850000,1324828,766095,683430,600000,559782,548815,538460,533945,616075,500000,455620,439581,289542,368600,331253,452693,200000,243758,127683,301795,116075,103550,135120,77212,64343,64343],\"sizemode\":\"area\",\"sizeref\":129789.0375,\"symbol\":\"circle\"},\"mode\":\"markers\",\"name\":\"\",\"orientation\":\"v\",\"showlegend\":false,\"x\":[35,35,28,29,39,30,29,32,33,33,34,33,31,29,30,25,24,28,31,27,29,31,33,27,28,28,32,34,23,24,24,26,26,25,25,33,27,26,26,25,25,27,38,27,37,32,34,29,29,24,24,24,27,27,28,26,35,36,28,24,23,31,29,28,31,33,28,27,27,27,29,30,26,24,25,34,32,31,28,31,29,31,26,25,33,29,27,29,30,31,26,25,27,26,34,31,31,25,29,25,25,25,25,31,29,24,27,30,27,27,30,32,22,24,29,28,24,27,24,25,30,25,32,20,22,28,30,25,25,31,28,35,33,21,26,23,22,23,38,32,32,36,26,22,27,21,27,27,26,32,21,31,26,37,25,24,21,22,28,19,24,37,30,29,31,20,25,30,28,23,22,21,30,31,31,23,31,23,22,28,28,25,26,35,21,25,30,24,26,21,28,27,22,22,20,31,21,25,28,35,35,28,19,21,29,28,24,28,20,30,23,23,28,29,20,21,23,23,20,22,27,24,20,23,22,26,20,20,22,25,25,21,23,20,22,26,31,33,27,33,22,20,19,23,24,25,23,22,24,20,26,29,24,23,21,20,30,21,23,24,26,23,20,26,32,33,24,21,22,23,20,25,25,35,35,24,20,20,26,21,22,22,32,30,26,23,20,21,19,22,35,35,22,19,20,28,25,22,28,19,22,22,30,23,22,25,21,25,21,22,28,22,23,23,23,21,29,28,25,22,26,33,20,19,20,26,21,20,22,24,28,27,23,20,36,26,28,29,21,22,27,23,21,36,22,23,21,22,26,23,23,24,25,24,24,24,21,38,37,24,35,30,24,24,28,25,27,31,31,35,33,27,26,26,32,29,29,35,34,34,35,25,24,25,25,26,26,37,24,35,27,32,23,21,21,27,27,31,24,19,27,23,26,25,25,23,29,25,26,27,24,23,24,23,25,22,21,25,25,23,26,23,20,26,21,21,21,21,21,20,21,24,20,26,23,23,19,23,19,19,20,21,23,21,23,22,20,21,23,26,22,23,26,26,24,26,23,23,24,25,23,24,20,30,24,27,24,30,36,30,25,34,25,24,22,25,25,23],\"xaxis\":\"x\",\"y\":[51915615,47649433,47607350,47607350,47607350,46741590,45640084,45640084,45640084,45640084,45183960,43219440,41000000,40806300,40600080,40064220,40064220,40064220,39270150,37893408,37893408,37037037,36861707,36016200,36016200,36016200,35802469,35680595,34005250,34005250,34005250,33833400,33833400,33386850,33386850,33319397,33162030,32600060,32600060,32600060,32459438,31830357,30800000,30600000,32478379,29320988,28600000,28226880,27586207,27455357,27102202,27000000,26346666,25679348,25568182,25340000,25000000,24360000,24330357,24107143,23883929,23487629,23205221,22627671,22500000,22321429,22266182,22000000,21700000,20975000,20616000,21911797,20089286,20000000,20000000,20000000,19928571,19845098,19500000,18857143,18833713,18700000,18642857,18560000,18518519,18357143,18214000,18154000,18000000,17897728,17400000,17325000,17307693,17259999,17429682,17000000,17000000,17000000,16875000,16847826,15740741,15681818,15669643,15435000,15384616,15277778,14763636,14704938,14487684,14000000,13932008,13750000,13534817,13050000,13000000,12960000,12950400,12500000,12500000,12405000,12405000,12402000,12195122,12160680,12119440,12100000,12046020,12015150,12015150,11750000,11710818,11710818,11692308,11608080,11571429,11111111,11055360,11020000,11014500,13033786,11000000,11000000,10933333,10900635,10900000,10880400,10576923,10500000,10500000,10489600,10386000,10375000,10250000,10000000,9945830,9895833,9891480,9835881,9800926,9770880,9625000,9600000,9500000,9460000,9423869,9326520,9245121,9219512,8925000,8920795,8882640,8809320,8800000,8715000,8700000,8409000,8856750,8109063,8008680,8000000,8000000,8000000,8000000,8638413,7977480,7921300,7723000,7723000,7700000,7614480,7560000,7500000,7413955,7252080,7245480,8670002,6916080,6803012,6802950,7464578,7267250,6718842,6614280,6587040,8519706,6500000,6481482,6341464,6313800,6300000,6263188,6250000,6190476,6175000,6059520,6012840,5887899,5808435,5784120,5722116,5709877,5634257,5569920,5539771,5508720,5370370,5316960,5291400,5266713,5266713,5063640,5050800,5043773,5026800,5574809,5000000,5754488,5000000,5475908,5000000,4810200,4798440,4775640,4765339,4698000,4687500,4570080,4558680,4556983,4536720,4516000,4516000,4379527,4343920,6105941,4330680,4310250,4310160,4306281,4171548,4124400,4114200,4094280,4037277,4000000,4000000,4000000,3918480,3908160,3901399,3889800,3873025,3845083,3835738,3835738,3722040,3712920,3695040,3666667,3536280,3527160,3510600,4010730,3360000,5379706,3359280,3352440,3350760,3218160,3199920,3196448,3196448,3191400,3089520,3071880,3044872,3000000,3000000,3000000,2966040,2949120,2925360,2891467,2847480,2831160,2815937,2808720,2800000,2733720,2718240,2709849,2696280,2624040,2609400,2600000,2600008,2586665,2586665,2581522,2537160,2528233,2528233,2504640,2463960,2448600,2439025,2431080,2424892,2421720,2413320,2413304,2400000,2385720,2352000,4368030,2346614,2346614,2346614,2337720,2320440,2320000,2306400,2303520,777703,2240160,2232308,2226240,2210040,2196970,2194200,2165000,2165000,2165000,2131905,2066585,2066585,2019706,2961636,2019706,2019706,2019706,2019706,2019706,2019706,2019706,2019706,2019706,2019706,2019706,2019706,2019706,2019706,2351562,2419706,2019706,2019706,2019706,2019706,2019706,2019706,2019706,2019706,2019706,2019706,2019706,2019706,2019706,2019706,2019706,2019706,2019706,2019706,2019706,2000000,2000000,2000000,1997238,1997238,1997238,1991428,1951220,1930681,1930681,1930681,1927896,1927896,1927896,1927896,1927896,1902137,1901769,684843,1845593,1836096,1836096,1836096,1836096,1836096,1836096,1801769,1801769,1801769,1800000,1799163,1719864,1719864,1719864,1719864,500000,1719864,1719864,1708143,1600000,1500000,1500000,1250000,1119563,1119563,1119563,1119563,1119563,1119563,1119563,1119563,1119563,1119563,1100000,1029483,1000000,900000,864353,850000,1324828,766095,683430,600000,559782,548815,538460,533945,616075,500000,455620,439581,289542,368600,331253,452693,200000,243758,127683,301795,116075,103550,135120,77212,64343,64343],\"yaxis\":\"y\",\"type\":\"scatter\"}],                        {\"template\":{\"data\":{\"histogram2dcontour\":[{\"type\":\"histogram2dcontour\",\"colorbar\":{\"outlinewidth\":0,\"ticks\":\"\"},\"colorscale\":[[0.0,\"#0d0887\"],[0.1111111111111111,\"#46039f\"],[0.2222222222222222,\"#7201a8\"],[0.3333333333333333,\"#9c179e\"],[0.4444444444444444,\"#bd3786\"],[0.5555555555555556,\"#d8576b\"],[0.6666666666666666,\"#ed7953\"],[0.7777777777777778,\"#fb9f3a\"],[0.8888888888888888,\"#fdca26\"],[1.0,\"#f0f921\"]]}],\"choropleth\":[{\"type\":\"choropleth\",\"colorbar\":{\"outlinewidth\":0,\"ticks\":\"\"}}],\"histogram2d\":[{\"type\":\"histogram2d\",\"colorbar\":{\"outlinewidth\":0,\"ticks\":\"\"},\"colorscale\":[[0.0,\"#0d0887\"],[0.1111111111111111,\"#46039f\"],[0.2222222222222222,\"#7201a8\"],[0.3333333333333333,\"#9c179e\"],[0.4444444444444444,\"#bd3786\"],[0.5555555555555556,\"#d8576b\"],[0.6666666666666666,\"#ed7953\"],[0.7777777777777778,\"#fb9f3a\"],[0.8888888888888888,\"#fdca26\"],[1.0,\"#f0f921\"]]}],\"heatmap\":[{\"type\":\"heatmap\",\"colorbar\":{\"outlinewidth\":0,\"ticks\":\"\"},\"colorscale\":[[0.0,\"#0d0887\"],[0.1111111111111111,\"#46039f\"],[0.2222222222222222,\"#7201a8\"],[0.3333333333333333,\"#9c179e\"],[0.4444444444444444,\"#bd3786\"],[0.5555555555555556,\"#d8576b\"],[0.6666666666666666,\"#ed7953\"],[0.7777777777777778,\"#fb9f3a\"],[0.8888888888888888,\"#fdca26\"],[1.0,\"#f0f921\"]]}],\"heatmapgl\":[{\"type\":\"heatmapgl\",\"colorbar\":{\"outlinewidth\":0,\"ticks\":\"\"},\"colorscale\":[[0.0,\"#0d0887\"],[0.1111111111111111,\"#46039f\"],[0.2222222222222222,\"#7201a8\"],[0.3333333333333333,\"#9c179e\"],[0.4444444444444444,\"#bd3786\"],[0.5555555555555556,\"#d8576b\"],[0.6666666666666666,\"#ed7953\"],[0.7777777777777778,\"#fb9f3a\"],[0.8888888888888888,\"#fdca26\"],[1.0,\"#f0f921\"]]}],\"contourcarpet\":[{\"type\":\"contourcarpet\",\"colorbar\":{\"outlinewidth\":0,\"ticks\":\"\"}}],\"contour\":[{\"type\":\"contour\",\"colorbar\":{\"outlinewidth\":0,\"ticks\":\"\"},\"colorscale\":[[0.0,\"#0d0887\"],[0.1111111111111111,\"#46039f\"],[0.2222222222222222,\"#7201a8\"],[0.3333333333333333,\"#9c179e\"],[0.4444444444444444,\"#bd3786\"],[0.5555555555555556,\"#d8576b\"],[0.6666666666666666,\"#ed7953\"],[0.7777777777777778,\"#fb9f3a\"],[0.8888888888888888,\"#fdca26\"],[1.0,\"#f0f921\"]]}],\"surface\":[{\"type\":\"surface\",\"colorbar\":{\"outlinewidth\":0,\"ticks\":\"\"},\"colorscale\":[[0.0,\"#0d0887\"],[0.1111111111111111,\"#46039f\"],[0.2222222222222222,\"#7201a8\"],[0.3333333333333333,\"#9c179e\"],[0.4444444444444444,\"#bd3786\"],[0.5555555555555556,\"#d8576b\"],[0.6666666666666666,\"#ed7953\"],[0.7777777777777778,\"#fb9f3a\"],[0.8888888888888888,\"#fdca26\"],[1.0,\"#f0f921\"]]}],\"mesh3d\":[{\"type\":\"mesh3d\",\"colorbar\":{\"outlinewidth\":0,\"ticks\":\"\"}}],\"scatter\":[{\"fillpattern\":{\"fillmode\":\"overlay\",\"size\":10,\"solidity\":0.2},\"type\":\"scatter\"}],\"parcoords\":[{\"type\":\"parcoords\",\"line\":{\"colorbar\":{\"outlinewidth\":0,\"ticks\":\"\"}}}],\"scatterpolargl\":[{\"type\":\"scatterpolargl\",\"marker\":{\"colorbar\":{\"outlinewidth\":0,\"ticks\":\"\"}}}],\"bar\":[{\"error_x\":{\"color\":\"#2a3f5f\"},\"error_y\":{\"color\":\"#2a3f5f\"},\"marker\":{\"line\":{\"color\":\"#E5ECF6\",\"width\":0.5},\"pattern\":{\"fillmode\":\"overlay\",\"size\":10,\"solidity\":0.2}},\"type\":\"bar\"}],\"scattergeo\":[{\"type\":\"scattergeo\",\"marker\":{\"colorbar\":{\"outlinewidth\":0,\"ticks\":\"\"}}}],\"scatterpolar\":[{\"type\":\"scatterpolar\",\"marker\":{\"colorbar\":{\"outlinewidth\":0,\"ticks\":\"\"}}}],\"histogram\":[{\"marker\":{\"pattern\":{\"fillmode\":\"overlay\",\"size\":10,\"solidity\":0.2}},\"type\":\"histogram\"}],\"scattergl\":[{\"type\":\"scattergl\",\"marker\":{\"colorbar\":{\"outlinewidth\":0,\"ticks\":\"\"}}}],\"scatter3d\":[{\"type\":\"scatter3d\",\"line\":{\"colorbar\":{\"outlinewidth\":0,\"ticks\":\"\"}},\"marker\":{\"colorbar\":{\"outlinewidth\":0,\"ticks\":\"\"}}}],\"scattermapbox\":[{\"type\":\"scattermapbox\",\"marker\":{\"colorbar\":{\"outlinewidth\":0,\"ticks\":\"\"}}}],\"scatterternary\":[{\"type\":\"scatterternary\",\"marker\":{\"colorbar\":{\"outlinewidth\":0,\"ticks\":\"\"}}}],\"scattercarpet\":[{\"type\":\"scattercarpet\",\"marker\":{\"colorbar\":{\"outlinewidth\":0,\"ticks\":\"\"}}}],\"carpet\":[{\"aaxis\":{\"endlinecolor\":\"#2a3f5f\",\"gridcolor\":\"white\",\"linecolor\":\"white\",\"minorgridcolor\":\"white\",\"startlinecolor\":\"#2a3f5f\"},\"baxis\":{\"endlinecolor\":\"#2a3f5f\",\"gridcolor\":\"white\",\"linecolor\":\"white\",\"minorgridcolor\":\"white\",\"startlinecolor\":\"#2a3f5f\"},\"type\":\"carpet\"}],\"table\":[{\"cells\":{\"fill\":{\"color\":\"#EBF0F8\"},\"line\":{\"color\":\"white\"}},\"header\":{\"fill\":{\"color\":\"#C8D4E3\"},\"line\":{\"color\":\"white\"}},\"type\":\"table\"}],\"barpolar\":[{\"marker\":{\"line\":{\"color\":\"#E5ECF6\",\"width\":0.5},\"pattern\":{\"fillmode\":\"overlay\",\"size\":10,\"solidity\":0.2}},\"type\":\"barpolar\"}],\"pie\":[{\"automargin\":true,\"type\":\"pie\"}]},\"layout\":{\"autotypenumbers\":\"strict\",\"colorway\":[\"#636efa\",\"#EF553B\",\"#00cc96\",\"#ab63fa\",\"#FFA15A\",\"#19d3f3\",\"#FF6692\",\"#B6E880\",\"#FF97FF\",\"#FECB52\"],\"font\":{\"color\":\"#2a3f5f\"},\"hovermode\":\"closest\",\"hoverlabel\":{\"align\":\"left\"},\"paper_bgcolor\":\"white\",\"plot_bgcolor\":\"#E5ECF6\",\"polar\":{\"bgcolor\":\"#E5ECF6\",\"angularaxis\":{\"gridcolor\":\"white\",\"linecolor\":\"white\",\"ticks\":\"\"},\"radialaxis\":{\"gridcolor\":\"white\",\"linecolor\":\"white\",\"ticks\":\"\"}},\"ternary\":{\"bgcolor\":\"#E5ECF6\",\"aaxis\":{\"gridcolor\":\"white\",\"linecolor\":\"white\",\"ticks\":\"\"},\"baxis\":{\"gridcolor\":\"white\",\"linecolor\":\"white\",\"ticks\":\"\"},\"caxis\":{\"gridcolor\":\"white\",\"linecolor\":\"white\",\"ticks\":\"\"}},\"coloraxis\":{\"colorbar\":{\"outlinewidth\":0,\"ticks\":\"\"}},\"colorscale\":{\"sequential\":[[0.0,\"#0d0887\"],[0.1111111111111111,\"#46039f\"],[0.2222222222222222,\"#7201a8\"],[0.3333333333333333,\"#9c179e\"],[0.4444444444444444,\"#bd3786\"],[0.5555555555555556,\"#d8576b\"],[0.6666666666666666,\"#ed7953\"],[0.7777777777777778,\"#fb9f3a\"],[0.8888888888888888,\"#fdca26\"],[1.0,\"#f0f921\"]],\"sequentialminus\":[[0.0,\"#0d0887\"],[0.1111111111111111,\"#46039f\"],[0.2222222222222222,\"#7201a8\"],[0.3333333333333333,\"#9c179e\"],[0.4444444444444444,\"#bd3786\"],[0.5555555555555556,\"#d8576b\"],[0.6666666666666666,\"#ed7953\"],[0.7777777777777778,\"#fb9f3a\"],[0.8888888888888888,\"#fdca26\"],[1.0,\"#f0f921\"]],\"diverging\":[[0,\"#8e0152\"],[0.1,\"#c51b7d\"],[0.2,\"#de77ae\"],[0.3,\"#f1b6da\"],[0.4,\"#fde0ef\"],[0.5,\"#f7f7f7\"],[0.6,\"#e6f5d0\"],[0.7,\"#b8e186\"],[0.8,\"#7fbc41\"],[0.9,\"#4d9221\"],[1,\"#276419\"]]},\"xaxis\":{\"gridcolor\":\"white\",\"linecolor\":\"white\",\"ticks\":\"\",\"title\":{\"standoff\":15},\"zerolinecolor\":\"white\",\"automargin\":true,\"zerolinewidth\":2},\"yaxis\":{\"gridcolor\":\"white\",\"linecolor\":\"white\",\"ticks\":\"\",\"title\":{\"standoff\":15},\"zerolinecolor\":\"white\",\"automargin\":true,\"zerolinewidth\":2},\"scene\":{\"xaxis\":{\"backgroundcolor\":\"#E5ECF6\",\"gridcolor\":\"white\",\"linecolor\":\"white\",\"showbackground\":true,\"ticks\":\"\",\"zerolinecolor\":\"white\",\"gridwidth\":2},\"yaxis\":{\"backgroundcolor\":\"#E5ECF6\",\"gridcolor\":\"white\",\"linecolor\":\"white\",\"showbackground\":true,\"ticks\":\"\",\"zerolinecolor\":\"white\",\"gridwidth\":2},\"zaxis\":{\"backgroundcolor\":\"#E5ECF6\",\"gridcolor\":\"white\",\"linecolor\":\"white\",\"showbackground\":true,\"ticks\":\"\",\"zerolinecolor\":\"white\",\"gridwidth\":2}},\"shapedefaults\":{\"line\":{\"color\":\"#2a3f5f\"}},\"annotationdefaults\":{\"arrowcolor\":\"#2a3f5f\",\"arrowhead\":0,\"arrowwidth\":1},\"geo\":{\"bgcolor\":\"white\",\"landcolor\":\"#E5ECF6\",\"subunitcolor\":\"white\",\"showland\":true,\"showlakes\":true,\"lakecolor\":\"white\"},\"title\":{\"x\":0.05},\"mapbox\":{\"style\":\"light\"}}},\"xaxis\":{\"anchor\":\"y\",\"domain\":[0.0,1.0],\"title\":{\"text\":\"agePlayer\"}},\"yaxis\":{\"anchor\":\"x\",\"domain\":[0.0,1.0],\"title\":{\"text\":\"Salary\"}},\"coloraxis\":{\"colorbar\":{\"title\":{\"text\":\"Salary\"}},\"colorscale\":[[0.0,\"rgb(75, 41, 145)\"],[0.16666666666666666,\"rgb(135, 44, 162)\"],[0.3333333333333333,\"rgb(192, 54, 157)\"],[0.5,\"rgb(234, 79, 136)\"],[0.6666666666666666,\"rgb(250, 120, 118)\"],[0.8333333333333334,\"rgb(246, 169, 122)\"],[1.0,\"rgb(237, 217, 163)\"]]},\"legend\":{\"tracegroupgap\":0,\"itemsizing\":\"constant\"},\"margin\":{\"t\":60},\"height\":700},                        {\"responsive\": true}                    ).then(function(){\n",
       "                            \n",
       "var gd = document.getElementById('ec2893d4-9519-470a-9805-1ece5d2989e8');\n",
       "var x = new MutationObserver(function (mutations, observer) {{\n",
       "        var display = window.getComputedStyle(gd).display;\n",
       "        if (!display || display === 'none') {{\n",
       "            console.log([gd, 'removed!']);\n",
       "            Plotly.purge(gd);\n",
       "            observer.disconnect();\n",
       "        }}\n",
       "}});\n",
       "\n",
       "// Listen for the removal of the full notebook cells\n",
       "var notebookContainer = gd.closest('#notebook-container');\n",
       "if (notebookContainer) {{\n",
       "    x.observe(notebookContainer, {childList: true});\n",
       "}}\n",
       "\n",
       "// Listen for the clearing of the current output cell\n",
       "var outputEl = gd.closest('.output');\n",
       "if (outputEl) {{\n",
       "    x.observe(outputEl, {childList: true});\n",
       "}}\n",
       "\n",
       "                        })                };                });            </script>        </div>"
      ]
     },
     "metadata": {},
     "output_type": "display_data"
    }
   ],
   "source": [
    "fig = px.scatter(SS, x=\"agePlayer\", y=\"Salary\", color = \"Salary\",\n",
    "                 size='Salary', hover_data=['namePlayer','slugTeamBREF'], color_continuous_scale=px.colors.sequential.Agsunset, height=700)\n",
    "fig.show()"
   ]
  },
  {
   "cell_type": "code",
   "execution_count": null,
   "metadata": {},
   "outputs": [],
   "source": []
  }
 ],
 "metadata": {
  "kernelspec": {
   "display_name": "Python 3 (ipykernel)",
   "language": "python",
   "name": "python3"
  },
  "language_info": {
   "codemirror_mode": {
    "name": "ipython",
    "version": 3
   },
   "file_extension": ".py",
   "mimetype": "text/x-python",
   "name": "python",
   "nbconvert_exporter": "python",
   "pygments_lexer": "ipython3",
   "version": "3.11.0"
  }
 },
 "nbformat": 4,
 "nbformat_minor": 4
}
