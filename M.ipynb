{
 "cells": [
  {
   "cell_type": "markdown",
   "metadata": {},
   "source": [
    "# Nombre del tema"
   ]
  },
  {
   "cell_type": "markdown",
   "metadata": {},
   "source": [
    "# Objetivo\n",
    "bl BLA BLA"
   ]
  },
  {
   "cell_type": "markdown",
   "metadata": {},
   "source": [
    "# Dataset"
   ]
  },
  {
   "cell_type": "code",
   "execution_count": 59,
   "metadata": {},
   "outputs": [],
   "source": [
    "import numpy as np \n",
    "import pandas as pd \n",
    "import plotly.express as px\n",
    "\n",
    "# Cargamos los dataframes\n",
    "salary = pd.read_csv(\"SALARY.csv\")\n",
    "stats = pd.read_csv(\"DATAT2.csv\")\n",
    "\n",
    "# Función para poder visualizar todas las columnas dentro del notebook\n",
    "pd.set_option('display.max_columns', None)"
   ]
  },
  {
   "cell_type": "markdown",
   "metadata": {},
   "source": [
    "# Limpieza"
   ]
  },
  {
   "cell_type": "code",
   "execution_count": 60,
   "metadata": {},
   "outputs": [
    {
     "name": "stdout",
     "output_type": "stream",
     "text": [
      "salary:\n",
      " Index(['Unnamed: 0', 'Unnamed: 1', 'Unnamed: 2', 'Salary', 'Salary.1',\n",
      "       'Salary.2', 'Salary.3', 'Salary.4', 'Salary.5', 'Unnamed: 9',\n",
      "       '-additional'],\n",
      "      dtype='object')\n",
      "stats:\n",
      " Index(['Unnamed: 0', 'slugSeason', 'yearSeason', 'isSeasonCurrent',\n",
      "       'slugPlayerSeason', 'slugPlayerBREF', 'namePlayer', 'slugPosition',\n",
      "       'agePlayer', 'slugTeamBREF', 'countGames', 'countGamesStarted', 'pctFG',\n",
      "       'pctFG3', 'pctFG2', 'pctEFG', 'pctFT', 'isHOFPlayer', 'slugTeamsBREF',\n",
      "       'idPlayerNBA', 'urlPlayerThumbnail', 'urlPlayerHeadshot',\n",
      "       'urlPlayerPhoto', 'urlPlayerStats', 'urlPlayerActionPhoto',\n",
      "       'minutesTotals', 'fgmTotals', 'fgaTotals', 'fg3mTotals', 'fg3aTotals',\n",
      "       'fg2mTotals', 'fg2aTotals', 'ftmTotals', 'ftaTotals', 'orbTotals',\n",
      "       'drbTotals', 'trbTotals', 'astTotals', 'stlTotals', 'blkTotals',\n",
      "       'tovTotals', 'pfTotals', 'ptsTotals', 'countTeamsPlayerSeasonTotals'],\n",
      "      dtype='object')\n"
     ]
    }
   ],
   "source": [
    "# Index, Player, Equipo, 2023-24, 2024-25, 2025-26, 2026-27, 2027-28, 2028-29, Total, slugPlayerBREF\n",
    "print(\"salary:\\n\", salary.columns)\n",
    "print(\"stats:\\n\", stats.columns)"
   ]
  },
  {
   "cell_type": "code",
   "execution_count": 61,
   "metadata": {},
   "outputs": [
    {
     "data": {
      "text/html": [
       "<div>\n",
       "<style scoped>\n",
       "    .dataframe tbody tr th:only-of-type {\n",
       "        vertical-align: middle;\n",
       "    }\n",
       "\n",
       "    .dataframe tbody tr th {\n",
       "        vertical-align: top;\n",
       "    }\n",
       "\n",
       "    .dataframe thead th {\n",
       "        text-align: right;\n",
       "    }\n",
       "</style>\n",
       "<table border=\"1\" class=\"dataframe\">\n",
       "  <thead>\n",
       "    <tr style=\"text-align: right;\">\n",
       "      <th></th>\n",
       "      <th>Unnamed: 0</th>\n",
       "      <th>Unnamed: 1</th>\n",
       "      <th>Unnamed: 2</th>\n",
       "      <th>Salary</th>\n",
       "      <th>Salary.1</th>\n",
       "      <th>Salary.2</th>\n",
       "      <th>Salary.3</th>\n",
       "      <th>Salary.4</th>\n",
       "      <th>Salary.5</th>\n",
       "      <th>Unnamed: 9</th>\n",
       "      <th>-additional</th>\n",
       "    </tr>\n",
       "  </thead>\n",
       "  <tbody>\n",
       "    <tr>\n",
       "      <th>0</th>\n",
       "      <td>Rk</td>\n",
       "      <td>Player</td>\n",
       "      <td>Tm</td>\n",
       "      <td>2023-24</td>\n",
       "      <td>2024-25</td>\n",
       "      <td>2025-26</td>\n",
       "      <td>2026-27</td>\n",
       "      <td>2027-28</td>\n",
       "      <td>2028-29</td>\n",
       "      <td>Guaranteed</td>\n",
       "      <td>-9999</td>\n",
       "    </tr>\n",
       "    <tr>\n",
       "      <th>1</th>\n",
       "      <td>NaN</td>\n",
       "      <td>NaN</td>\n",
       "      <td>NaN</td>\n",
       "      <td>NaN</td>\n",
       "      <td>NaN</td>\n",
       "      <td>NaN</td>\n",
       "      <td>NaN</td>\n",
       "      <td>NaN</td>\n",
       "      <td>NaN</td>\n",
       "      <td>NaN</td>\n",
       "      <td>-9999</td>\n",
       "    </tr>\n",
       "    <tr>\n",
       "      <th>2</th>\n",
       "      <td>1</td>\n",
       "      <td>Stephen Curry</td>\n",
       "      <td>GSW</td>\n",
       "      <td>$51915615</td>\n",
       "      <td>$55761216</td>\n",
       "      <td>$59606817</td>\n",
       "      <td>NaN</td>\n",
       "      <td>NaN</td>\n",
       "      <td>NaN</td>\n",
       "      <td>$167283648</td>\n",
       "      <td>curryst01</td>\n",
       "    </tr>\n",
       "    <tr>\n",
       "      <th>3</th>\n",
       "      <td>2</td>\n",
       "      <td>Kevin Durant</td>\n",
       "      <td>PHO</td>\n",
       "      <td>$47649433</td>\n",
       "      <td>$51179021</td>\n",
       "      <td>$54708609</td>\n",
       "      <td>NaN</td>\n",
       "      <td>NaN</td>\n",
       "      <td>NaN</td>\n",
       "      <td>$153537063</td>\n",
       "      <td>duranke01</td>\n",
       "    </tr>\n",
       "  </tbody>\n",
       "</table>\n",
       "</div>"
      ],
      "text/plain": [
       "  Unnamed: 0     Unnamed: 1 Unnamed: 2     Salary   Salary.1   Salary.2  \\\n",
       "0         Rk         Player         Tm    2023-24    2024-25    2025-26   \n",
       "1        NaN            NaN        NaN        NaN        NaN        NaN   \n",
       "2          1  Stephen Curry        GSW  $51915615  $55761216  $59606817   \n",
       "3          2   Kevin Durant        PHO  $47649433  $51179021  $54708609   \n",
       "\n",
       "  Salary.3 Salary.4 Salary.5  Unnamed: 9 -additional  \n",
       "0  2026-27  2027-28  2028-29  Guaranteed       -9999  \n",
       "1      NaN      NaN      NaN         NaN       -9999  \n",
       "2      NaN      NaN      NaN  $167283648   curryst01  \n",
       "3      NaN      NaN      NaN  $153537063   duranke01  "
      ]
     },
     "execution_count": 61,
     "metadata": {},
     "output_type": "execute_result"
    }
   ],
   "source": [
    "salary.head(4)"
   ]
  },
  {
   "cell_type": "markdown",
   "metadata": {},
   "source": [
    "<holamundo>"
   ]
  },
  {
   "cell_type": "code",
   "execution_count": 62,
   "metadata": {},
   "outputs": [
    {
     "data": {
      "text/html": [
       "<div>\n",
       "<style scoped>\n",
       "    .dataframe tbody tr th:only-of-type {\n",
       "        vertical-align: middle;\n",
       "    }\n",
       "\n",
       "    .dataframe tbody tr th {\n",
       "        vertical-align: top;\n",
       "    }\n",
       "\n",
       "    .dataframe thead th {\n",
       "        text-align: right;\n",
       "    }\n",
       "</style>\n",
       "<table border=\"1\" class=\"dataframe\">\n",
       "  <thead>\n",
       "    <tr style=\"text-align: right;\">\n",
       "      <th></th>\n",
       "      <th>Unnamed: 0</th>\n",
       "      <th>slugSeason</th>\n",
       "      <th>yearSeason</th>\n",
       "      <th>isSeasonCurrent</th>\n",
       "      <th>slugPlayerSeason</th>\n",
       "      <th>slugPlayerBREF</th>\n",
       "      <th>namePlayer</th>\n",
       "      <th>slugPosition</th>\n",
       "      <th>agePlayer</th>\n",
       "      <th>slugTeamBREF</th>\n",
       "      <th>countGames</th>\n",
       "      <th>countGamesStarted</th>\n",
       "      <th>pctFG</th>\n",
       "      <th>pctFG3</th>\n",
       "      <th>pctFG2</th>\n",
       "      <th>pctEFG</th>\n",
       "      <th>pctFT</th>\n",
       "      <th>isHOFPlayer</th>\n",
       "      <th>slugTeamsBREF</th>\n",
       "      <th>idPlayerNBA</th>\n",
       "      <th>urlPlayerThumbnail</th>\n",
       "      <th>urlPlayerHeadshot</th>\n",
       "      <th>urlPlayerPhoto</th>\n",
       "      <th>urlPlayerStats</th>\n",
       "      <th>urlPlayerActionPhoto</th>\n",
       "      <th>minutesTotals</th>\n",
       "      <th>fgmTotals</th>\n",
       "      <th>fgaTotals</th>\n",
       "      <th>fg3mTotals</th>\n",
       "      <th>fg3aTotals</th>\n",
       "      <th>fg2mTotals</th>\n",
       "      <th>fg2aTotals</th>\n",
       "      <th>ftmTotals</th>\n",
       "      <th>ftaTotals</th>\n",
       "      <th>orbTotals</th>\n",
       "      <th>drbTotals</th>\n",
       "      <th>trbTotals</th>\n",
       "      <th>astTotals</th>\n",
       "      <th>stlTotals</th>\n",
       "      <th>blkTotals</th>\n",
       "      <th>tovTotals</th>\n",
       "      <th>pfTotals</th>\n",
       "      <th>ptsTotals</th>\n",
       "      <th>countTeamsPlayerSeasonTotals</th>\n",
       "    </tr>\n",
       "  </thead>\n",
       "  <tbody>\n",
       "    <tr>\n",
       "      <th>0</th>\n",
       "      <td>1</td>\n",
       "      <td>2023-24</td>\n",
       "      <td>2023</td>\n",
       "      <td>False</td>\n",
       "      <td>achiupr01_2024</td>\n",
       "      <td>achiupr01</td>\n",
       "      <td>Precious Achiuwa</td>\n",
       "      <td>PF-C</td>\n",
       "      <td>24</td>\n",
       "      <td>TOT</td>\n",
       "      <td>74</td>\n",
       "      <td>18</td>\n",
       "      <td>0.501</td>\n",
       "      <td>0.268</td>\n",
       "      <td>0.562</td>\n",
       "      <td>0.529</td>\n",
       "      <td>0.616</td>\n",
       "      <td>False</td>\n",
       "      <td>TOR | NYK</td>\n",
       "      <td>1630173.0</td>\n",
       "      <td>https://ak-static.cms.nba.com/wp-content/uploa...</td>\n",
       "      <td>https://ak-static.cms.nba.com/wp-content/uploa...</td>\n",
       "      <td>https://stats.nba.com/media/img/league/nba-hea...</td>\n",
       "      <td>https://stats.nba.com/player/1630173</td>\n",
       "      <td>https://stats.nba.com/media/players/700/163017...</td>\n",
       "      <td>1624</td>\n",
       "      <td>235</td>\n",
       "      <td>469</td>\n",
       "      <td>26</td>\n",
       "      <td>97</td>\n",
       "      <td>209</td>\n",
       "      <td>372</td>\n",
       "      <td>69</td>\n",
       "      <td>112</td>\n",
       "      <td>191</td>\n",
       "      <td>296</td>\n",
       "      <td>487</td>\n",
       "      <td>97</td>\n",
       "      <td>46</td>\n",
       "      <td>68</td>\n",
       "      <td>83</td>\n",
       "      <td>143</td>\n",
       "      <td>565</td>\n",
       "      <td>1</td>\n",
       "    </tr>\n",
       "    <tr>\n",
       "      <th>1</th>\n",
       "      <td>2</td>\n",
       "      <td>2023-24</td>\n",
       "      <td>2023</td>\n",
       "      <td>False</td>\n",
       "      <td>adebaba01_2024</td>\n",
       "      <td>adebaba01</td>\n",
       "      <td>Bam Adebayo</td>\n",
       "      <td>C</td>\n",
       "      <td>26</td>\n",
       "      <td>MIA</td>\n",
       "      <td>71</td>\n",
       "      <td>71</td>\n",
       "      <td>0.521</td>\n",
       "      <td>0.357</td>\n",
       "      <td>0.528</td>\n",
       "      <td>0.529</td>\n",
       "      <td>0.755</td>\n",
       "      <td>False</td>\n",
       "      <td>MIA</td>\n",
       "      <td>1628389.0</td>\n",
       "      <td>https://ak-static.cms.nba.com/wp-content/uploa...</td>\n",
       "      <td>https://ak-static.cms.nba.com/wp-content/uploa...</td>\n",
       "      <td>https://ak-static.cms.nba.com/wp-content/uploa...</td>\n",
       "      <td>https://stats.nba.com/player/1628389</td>\n",
       "      <td>https://stats.nba.com/media/players/700/162838...</td>\n",
       "      <td>2416</td>\n",
       "      <td>530</td>\n",
       "      <td>1017</td>\n",
       "      <td>15</td>\n",
       "      <td>42</td>\n",
       "      <td>515</td>\n",
       "      <td>975</td>\n",
       "      <td>292</td>\n",
       "      <td>387</td>\n",
       "      <td>159</td>\n",
       "      <td>578</td>\n",
       "      <td>737</td>\n",
       "      <td>278</td>\n",
       "      <td>81</td>\n",
       "      <td>66</td>\n",
       "      <td>162</td>\n",
       "      <td>159</td>\n",
       "      <td>1367</td>\n",
       "      <td>1</td>\n",
       "    </tr>\n",
       "    <tr>\n",
       "      <th>2</th>\n",
       "      <td>3</td>\n",
       "      <td>2023-24</td>\n",
       "      <td>2023</td>\n",
       "      <td>False</td>\n",
       "      <td>agbajoc01_2024</td>\n",
       "      <td>agbajoc01</td>\n",
       "      <td>Ochai Agbaji</td>\n",
       "      <td>SG</td>\n",
       "      <td>23</td>\n",
       "      <td>TOT</td>\n",
       "      <td>78</td>\n",
       "      <td>28</td>\n",
       "      <td>0.411</td>\n",
       "      <td>0.294</td>\n",
       "      <td>0.523</td>\n",
       "      <td>0.483</td>\n",
       "      <td>0.661</td>\n",
       "      <td>False</td>\n",
       "      <td>UTA | TOR</td>\n",
       "      <td>1630534.0</td>\n",
       "      <td>https://ak-static.cms.nba.com/wp-content/uploa...</td>\n",
       "      <td>https://ak-static.cms.nba.com/wp-content/uploa...</td>\n",
       "      <td>https://stats.nba.com/media/img/league/nba-hea...</td>\n",
       "      <td>https://stats.nba.com/player/1630534</td>\n",
       "      <td>https://stats.nba.com/media/players/700/163053...</td>\n",
       "      <td>1641</td>\n",
       "      <td>178</td>\n",
       "      <td>433</td>\n",
       "      <td>62</td>\n",
       "      <td>211</td>\n",
       "      <td>116</td>\n",
       "      <td>222</td>\n",
       "      <td>37</td>\n",
       "      <td>56</td>\n",
       "      <td>74</td>\n",
       "      <td>142</td>\n",
       "      <td>216</td>\n",
       "      <td>83</td>\n",
       "      <td>47</td>\n",
       "      <td>44</td>\n",
       "      <td>64</td>\n",
       "      <td>117</td>\n",
       "      <td>455</td>\n",
       "      <td>1</td>\n",
       "    </tr>\n",
       "    <tr>\n",
       "      <th>3</th>\n",
       "      <td>4</td>\n",
       "      <td>2023-24</td>\n",
       "      <td>2023</td>\n",
       "      <td>False</td>\n",
       "      <td>aldamsa01_2024</td>\n",
       "      <td>aldamsa01</td>\n",
       "      <td>Santi Aldama</td>\n",
       "      <td>PF</td>\n",
       "      <td>23</td>\n",
       "      <td>MEM</td>\n",
       "      <td>61</td>\n",
       "      <td>35</td>\n",
       "      <td>0.435</td>\n",
       "      <td>0.349</td>\n",
       "      <td>0.534</td>\n",
       "      <td>0.528</td>\n",
       "      <td>0.621</td>\n",
       "      <td>False</td>\n",
       "      <td>MEM</td>\n",
       "      <td>1630583.0</td>\n",
       "      <td>https://ak-static.cms.nba.com/wp-content/uploa...</td>\n",
       "      <td>https://ak-static.cms.nba.com/wp-content/uploa...</td>\n",
       "      <td>https://stats.nba.com/media/img/league/nba-hea...</td>\n",
       "      <td>https://stats.nba.com/player/1630583</td>\n",
       "      <td>https://stats.nba.com/media/players/700/163058...</td>\n",
       "      <td>1618</td>\n",
       "      <td>247</td>\n",
       "      <td>568</td>\n",
       "      <td>106</td>\n",
       "      <td>304</td>\n",
       "      <td>141</td>\n",
       "      <td>264</td>\n",
       "      <td>54</td>\n",
       "      <td>87</td>\n",
       "      <td>72</td>\n",
       "      <td>280</td>\n",
       "      <td>352</td>\n",
       "      <td>138</td>\n",
       "      <td>43</td>\n",
       "      <td>54</td>\n",
       "      <td>69</td>\n",
       "      <td>89</td>\n",
       "      <td>654</td>\n",
       "      <td>1</td>\n",
       "    </tr>\n",
       "  </tbody>\n",
       "</table>\n",
       "</div>"
      ],
      "text/plain": [
       "   Unnamed: 0 slugSeason  yearSeason  isSeasonCurrent slugPlayerSeason  \\\n",
       "0           1    2023-24        2023            False   achiupr01_2024   \n",
       "1           2    2023-24        2023            False   adebaba01_2024   \n",
       "2           3    2023-24        2023            False   agbajoc01_2024   \n",
       "3           4    2023-24        2023            False   aldamsa01_2024   \n",
       "\n",
       "  slugPlayerBREF        namePlayer slugPosition  agePlayer slugTeamBREF  \\\n",
       "0      achiupr01  Precious Achiuwa         PF-C         24          TOT   \n",
       "1      adebaba01       Bam Adebayo            C         26          MIA   \n",
       "2      agbajoc01      Ochai Agbaji           SG         23          TOT   \n",
       "3      aldamsa01      Santi Aldama           PF         23          MEM   \n",
       "\n",
       "   countGames  countGamesStarted  pctFG  pctFG3  pctFG2  pctEFG  pctFT  \\\n",
       "0          74                 18  0.501   0.268   0.562   0.529  0.616   \n",
       "1          71                 71  0.521   0.357   0.528   0.529  0.755   \n",
       "2          78                 28  0.411   0.294   0.523   0.483  0.661   \n",
       "3          61                 35  0.435   0.349   0.534   0.528  0.621   \n",
       "\n",
       "   isHOFPlayer slugTeamsBREF  idPlayerNBA  \\\n",
       "0        False     TOR | NYK    1630173.0   \n",
       "1        False           MIA    1628389.0   \n",
       "2        False     UTA | TOR    1630534.0   \n",
       "3        False           MEM    1630583.0   \n",
       "\n",
       "                                  urlPlayerThumbnail  \\\n",
       "0  https://ak-static.cms.nba.com/wp-content/uploa...   \n",
       "1  https://ak-static.cms.nba.com/wp-content/uploa...   \n",
       "2  https://ak-static.cms.nba.com/wp-content/uploa...   \n",
       "3  https://ak-static.cms.nba.com/wp-content/uploa...   \n",
       "\n",
       "                                   urlPlayerHeadshot  \\\n",
       "0  https://ak-static.cms.nba.com/wp-content/uploa...   \n",
       "1  https://ak-static.cms.nba.com/wp-content/uploa...   \n",
       "2  https://ak-static.cms.nba.com/wp-content/uploa...   \n",
       "3  https://ak-static.cms.nba.com/wp-content/uploa...   \n",
       "\n",
       "                                      urlPlayerPhoto  \\\n",
       "0  https://stats.nba.com/media/img/league/nba-hea...   \n",
       "1  https://ak-static.cms.nba.com/wp-content/uploa...   \n",
       "2  https://stats.nba.com/media/img/league/nba-hea...   \n",
       "3  https://stats.nba.com/media/img/league/nba-hea...   \n",
       "\n",
       "                         urlPlayerStats  \\\n",
       "0  https://stats.nba.com/player/1630173   \n",
       "1  https://stats.nba.com/player/1628389   \n",
       "2  https://stats.nba.com/player/1630534   \n",
       "3  https://stats.nba.com/player/1630583   \n",
       "\n",
       "                                urlPlayerActionPhoto  minutesTotals  \\\n",
       "0  https://stats.nba.com/media/players/700/163017...           1624   \n",
       "1  https://stats.nba.com/media/players/700/162838...           2416   \n",
       "2  https://stats.nba.com/media/players/700/163053...           1641   \n",
       "3  https://stats.nba.com/media/players/700/163058...           1618   \n",
       "\n",
       "   fgmTotals  fgaTotals  fg3mTotals  fg3aTotals  fg2mTotals  fg2aTotals  \\\n",
       "0        235        469          26          97         209         372   \n",
       "1        530       1017          15          42         515         975   \n",
       "2        178        433          62         211         116         222   \n",
       "3        247        568         106         304         141         264   \n",
       "\n",
       "   ftmTotals  ftaTotals  orbTotals  drbTotals  trbTotals  astTotals  \\\n",
       "0         69        112        191        296        487         97   \n",
       "1        292        387        159        578        737        278   \n",
       "2         37         56         74        142        216         83   \n",
       "3         54         87         72        280        352        138   \n",
       "\n",
       "   stlTotals  blkTotals  tovTotals  pfTotals  ptsTotals  \\\n",
       "0         46         68         83       143        565   \n",
       "1         81         66        162       159       1367   \n",
       "2         47         44         64       117        455   \n",
       "3         43         54         69        89        654   \n",
       "\n",
       "   countTeamsPlayerSeasonTotals  \n",
       "0                             1  \n",
       "1                             1  \n",
       "2                             1  \n",
       "3                             1  "
      ]
     },
     "execution_count": 62,
     "metadata": {},
     "output_type": "execute_result"
    }
   ],
   "source": [
    "stats.head(4)"
   ]
  },
  {
   "cell_type": "code",
   "execution_count": 63,
   "metadata": {},
   "outputs": [
    {
     "data": {
      "text/html": [
       "<div>\n",
       "<style scoped>\n",
       "    .dataframe tbody tr th:only-of-type {\n",
       "        vertical-align: middle;\n",
       "    }\n",
       "\n",
       "    .dataframe tbody tr th {\n",
       "        vertical-align: top;\n",
       "    }\n",
       "\n",
       "    .dataframe thead th {\n",
       "        text-align: right;\n",
       "    }\n",
       "</style>\n",
       "<table border=\"1\" class=\"dataframe\">\n",
       "  <thead>\n",
       "    <tr style=\"text-align: right;\">\n",
       "      <th></th>\n",
       "      <th>Salary</th>\n",
       "      <th>slugPlayerBREF</th>\n",
       "    </tr>\n",
       "  </thead>\n",
       "  <tbody>\n",
       "    <tr>\n",
       "      <th>0</th>\n",
       "      <td>2023-24</td>\n",
       "      <td>-9999</td>\n",
       "    </tr>\n",
       "    <tr>\n",
       "      <th>1</th>\n",
       "      <td>NaN</td>\n",
       "      <td>-9999</td>\n",
       "    </tr>\n",
       "    <tr>\n",
       "      <th>2</th>\n",
       "      <td>$51915615</td>\n",
       "      <td>curryst01</td>\n",
       "    </tr>\n",
       "    <tr>\n",
       "      <th>3</th>\n",
       "      <td>$47649433</td>\n",
       "      <td>duranke01</td>\n",
       "    </tr>\n",
       "    <tr>\n",
       "      <th>4</th>\n",
       "      <td>$47607350</td>\n",
       "      <td>jokicni01</td>\n",
       "    </tr>\n",
       "  </tbody>\n",
       "</table>\n",
       "</div>"
      ],
      "text/plain": [
       "      Salary slugPlayerBREF\n",
       "0    2023-24          -9999\n",
       "1        NaN          -9999\n",
       "2  $51915615      curryst01\n",
       "3  $47649433      duranke01\n",
       "4  $47607350      jokicni01"
      ]
     },
     "execution_count": 63,
     "metadata": {},
     "output_type": "execute_result"
    }
   ],
   "source": [
    "# Nos quedamos con la fila Salario y su slugPlayerBREF\n",
    "salary2 = salary[[\"Salary\", \"-additional\"]]\n",
    "\n",
    "# Renombramos \"-additional\" a \"slugPlayerBREF\"\n",
    "salary2 = salary2.rename(columns = {'-additional':'slugPlayerBREF'})\n",
    "salary2.head(5)"
   ]
  },
  {
   "cell_type": "code",
   "execution_count": 64,
   "metadata": {},
   "outputs": [
    {
     "data": {
      "text/html": [
       "<div>\n",
       "<style scoped>\n",
       "    .dataframe tbody tr th:only-of-type {\n",
       "        vertical-align: middle;\n",
       "    }\n",
       "\n",
       "    .dataframe tbody tr th {\n",
       "        vertical-align: top;\n",
       "    }\n",
       "\n",
       "    .dataframe thead th {\n",
       "        text-align: right;\n",
       "    }\n",
       "</style>\n",
       "<table border=\"1\" class=\"dataframe\">\n",
       "  <thead>\n",
       "    <tr style=\"text-align: right;\">\n",
       "      <th></th>\n",
       "      <th>Salary</th>\n",
       "      <th>slugPlayerBREF</th>\n",
       "    </tr>\n",
       "  </thead>\n",
       "  <tbody>\n",
       "    <tr>\n",
       "      <th>2</th>\n",
       "      <td>$51915615</td>\n",
       "      <td>curryst01</td>\n",
       "    </tr>\n",
       "    <tr>\n",
       "      <th>3</th>\n",
       "      <td>$47649433</td>\n",
       "      <td>duranke01</td>\n",
       "    </tr>\n",
       "    <tr>\n",
       "      <th>4</th>\n",
       "      <td>$47607350</td>\n",
       "      <td>jokicni01</td>\n",
       "    </tr>\n",
       "    <tr>\n",
       "      <th>5</th>\n",
       "      <td>$47607350</td>\n",
       "      <td>embiijo01</td>\n",
       "    </tr>\n",
       "    <tr>\n",
       "      <th>6</th>\n",
       "      <td>$47607350</td>\n",
       "      <td>jamesle01</td>\n",
       "    </tr>\n",
       "  </tbody>\n",
       "</table>\n",
       "</div>"
      ],
      "text/plain": [
       "      Salary slugPlayerBREF\n",
       "2  $51915615      curryst01\n",
       "3  $47649433      duranke01\n",
       "4  $47607350      jokicni01\n",
       "5  $47607350      embiijo01\n",
       "6  $47607350      jamesle01"
      ]
     },
     "execution_count": 64,
     "metadata": {},
     "output_type": "execute_result"
    }
   ],
   "source": [
    "# Quitamos filas que contengan 1 o más valores NULL\n",
    "salary2 = salary2.dropna()\n",
    "\n",
    "# Eliminamos la primera fila\n",
    "salary2 = salary2.drop([0])\n",
    "salary2.head(5)"
   ]
  },
  {
   "cell_type": "code",
   "execution_count": 65,
   "metadata": {},
   "outputs": [
    {
     "data": {
      "text/html": [
       "<div>\n",
       "<style scoped>\n",
       "    .dataframe tbody tr th:only-of-type {\n",
       "        vertical-align: middle;\n",
       "    }\n",
       "\n",
       "    .dataframe tbody tr th {\n",
       "        vertical-align: top;\n",
       "    }\n",
       "\n",
       "    .dataframe thead th {\n",
       "        text-align: right;\n",
       "    }\n",
       "</style>\n",
       "<table border=\"1\" class=\"dataframe\">\n",
       "  <thead>\n",
       "    <tr style=\"text-align: right;\">\n",
       "      <th></th>\n",
       "      <th>Salary</th>\n",
       "      <th>slugPlayerBREF</th>\n",
       "    </tr>\n",
       "  </thead>\n",
       "  <tbody>\n",
       "    <tr>\n",
       "      <th>2</th>\n",
       "      <td>51915615</td>\n",
       "      <td>curryst01</td>\n",
       "    </tr>\n",
       "    <tr>\n",
       "      <th>3</th>\n",
       "      <td>47649433</td>\n",
       "      <td>duranke01</td>\n",
       "    </tr>\n",
       "    <tr>\n",
       "      <th>4</th>\n",
       "      <td>47607350</td>\n",
       "      <td>jokicni01</td>\n",
       "    </tr>\n",
       "    <tr>\n",
       "      <th>5</th>\n",
       "      <td>47607350</td>\n",
       "      <td>embiijo01</td>\n",
       "    </tr>\n",
       "    <tr>\n",
       "      <th>6</th>\n",
       "      <td>47607350</td>\n",
       "      <td>jamesle01</td>\n",
       "    </tr>\n",
       "  </tbody>\n",
       "</table>\n",
       "</div>"
      ],
      "text/plain": [
       "     Salary slugPlayerBREF\n",
       "2  51915615      curryst01\n",
       "3  47649433      duranke01\n",
       "4  47607350      jokicni01\n",
       "5  47607350      embiijo01\n",
       "6  47607350      jamesle01"
      ]
     },
     "execution_count": 65,
     "metadata": {},
     "output_type": "execute_result"
    }
   ],
   "source": [
    "# Remover $ de la columna Salario para todas las filas\n",
    "salary2['Salary'] = salary2['Salary'].replace('[\\$]', '', regex=True).astype(int)\n",
    "salary2.head(5)"
   ]
  },
  {
   "cell_type": "code",
   "execution_count": 66,
   "metadata": {},
   "outputs": [
    {
     "data": {
      "text/html": [
       "<div>\n",
       "<style scoped>\n",
       "    .dataframe tbody tr th:only-of-type {\n",
       "        vertical-align: middle;\n",
       "    }\n",
       "\n",
       "    .dataframe tbody tr th {\n",
       "        vertical-align: top;\n",
       "    }\n",
       "\n",
       "    .dataframe thead th {\n",
       "        text-align: right;\n",
       "    }\n",
       "</style>\n",
       "<table border=\"1\" class=\"dataframe\">\n",
       "  <thead>\n",
       "    <tr style=\"text-align: right;\">\n",
       "      <th></th>\n",
       "      <th>Salary</th>\n",
       "      <th>slugPlayerBREF</th>\n",
       "      <th>Unnamed: 0</th>\n",
       "      <th>slugSeason</th>\n",
       "      <th>yearSeason</th>\n",
       "      <th>isSeasonCurrent</th>\n",
       "      <th>slugPlayerSeason</th>\n",
       "      <th>namePlayer</th>\n",
       "      <th>slugPosition</th>\n",
       "      <th>agePlayer</th>\n",
       "      <th>slugTeamBREF</th>\n",
       "      <th>countGames</th>\n",
       "      <th>countGamesStarted</th>\n",
       "      <th>pctFG</th>\n",
       "      <th>pctFG3</th>\n",
       "      <th>pctFG2</th>\n",
       "      <th>pctEFG</th>\n",
       "      <th>pctFT</th>\n",
       "      <th>isHOFPlayer</th>\n",
       "      <th>slugTeamsBREF</th>\n",
       "      <th>idPlayerNBA</th>\n",
       "      <th>urlPlayerThumbnail</th>\n",
       "      <th>urlPlayerHeadshot</th>\n",
       "      <th>urlPlayerPhoto</th>\n",
       "      <th>urlPlayerStats</th>\n",
       "      <th>urlPlayerActionPhoto</th>\n",
       "      <th>minutesTotals</th>\n",
       "      <th>fgmTotals</th>\n",
       "      <th>fgaTotals</th>\n",
       "      <th>fg3mTotals</th>\n",
       "      <th>fg3aTotals</th>\n",
       "      <th>fg2mTotals</th>\n",
       "      <th>fg2aTotals</th>\n",
       "      <th>ftmTotals</th>\n",
       "      <th>ftaTotals</th>\n",
       "      <th>orbTotals</th>\n",
       "      <th>drbTotals</th>\n",
       "      <th>trbTotals</th>\n",
       "      <th>astTotals</th>\n",
       "      <th>stlTotals</th>\n",
       "      <th>blkTotals</th>\n",
       "      <th>tovTotals</th>\n",
       "      <th>pfTotals</th>\n",
       "      <th>ptsTotals</th>\n",
       "      <th>countTeamsPlayerSeasonTotals</th>\n",
       "    </tr>\n",
       "  </thead>\n",
       "  <tbody>\n",
       "    <tr>\n",
       "      <th>0</th>\n",
       "      <td>51915615</td>\n",
       "      <td>curryst01</td>\n",
       "      <td>114</td>\n",
       "      <td>2023-24</td>\n",
       "      <td>2023</td>\n",
       "      <td>False</td>\n",
       "      <td>curryst01_2024</td>\n",
       "      <td>Stephen Curry</td>\n",
       "      <td>PG</td>\n",
       "      <td>35</td>\n",
       "      <td>GSW</td>\n",
       "      <td>74</td>\n",
       "      <td>74</td>\n",
       "      <td>0.450</td>\n",
       "      <td>0.408</td>\n",
       "      <td>0.515</td>\n",
       "      <td>0.573</td>\n",
       "      <td>0.923</td>\n",
       "      <td>False</td>\n",
       "      <td>GSW</td>\n",
       "      <td>201939.0</td>\n",
       "      <td>https://stats.nba.com/media/players/230x185/20...</td>\n",
       "      <td>https://ak-static.cms.nba.com/wp-content/uploa...</td>\n",
       "      <td>https://ak-static.cms.nba.com/wp-content/uploa...</td>\n",
       "      <td>https://stats.nba.com/player/201939</td>\n",
       "      <td>https://stats.nba.com/media/players/700/201939...</td>\n",
       "      <td>2421</td>\n",
       "      <td>650</td>\n",
       "      <td>1445</td>\n",
       "      <td>357</td>\n",
       "      <td>876</td>\n",
       "      <td>293</td>\n",
       "      <td>569</td>\n",
       "      <td>299</td>\n",
       "      <td>324</td>\n",
       "      <td>37</td>\n",
       "      <td>293</td>\n",
       "      <td>330</td>\n",
       "      <td>379</td>\n",
       "      <td>54</td>\n",
       "      <td>28</td>\n",
       "      <td>210</td>\n",
       "      <td>117</td>\n",
       "      <td>1956</td>\n",
       "      <td>1</td>\n",
       "    </tr>\n",
       "    <tr>\n",
       "      <th>1</th>\n",
       "      <td>47649433</td>\n",
       "      <td>duranke01</td>\n",
       "      <td>138</td>\n",
       "      <td>2023-24</td>\n",
       "      <td>2023</td>\n",
       "      <td>False</td>\n",
       "      <td>duranke01_2024</td>\n",
       "      <td>Kevin Durant</td>\n",
       "      <td>PF</td>\n",
       "      <td>35</td>\n",
       "      <td>PHO</td>\n",
       "      <td>75</td>\n",
       "      <td>75</td>\n",
       "      <td>0.523</td>\n",
       "      <td>0.413</td>\n",
       "      <td>0.567</td>\n",
       "      <td>0.581</td>\n",
       "      <td>0.856</td>\n",
       "      <td>False</td>\n",
       "      <td>PHO</td>\n",
       "      <td>201142.0</td>\n",
       "      <td>https://stats.nba.com/media/players/230x185/20...</td>\n",
       "      <td>https://ak-static.cms.nba.com/wp-content/uploa...</td>\n",
       "      <td>https://ak-static.cms.nba.com/wp-content/uploa...</td>\n",
       "      <td>https://stats.nba.com/player/201142</td>\n",
       "      <td>https://stats.nba.com/media/players/700/201142...</td>\n",
       "      <td>2791</td>\n",
       "      <td>751</td>\n",
       "      <td>1436</td>\n",
       "      <td>168</td>\n",
       "      <td>407</td>\n",
       "      <td>583</td>\n",
       "      <td>1029</td>\n",
       "      <td>362</td>\n",
       "      <td>423</td>\n",
       "      <td>41</td>\n",
       "      <td>454</td>\n",
       "      <td>495</td>\n",
       "      <td>378</td>\n",
       "      <td>69</td>\n",
       "      <td>91</td>\n",
       "      <td>244</td>\n",
       "      <td>133</td>\n",
       "      <td>2032</td>\n",
       "      <td>1</td>\n",
       "    </tr>\n",
       "    <tr>\n",
       "      <th>2</th>\n",
       "      <td>47607350</td>\n",
       "      <td>jokicni01</td>\n",
       "      <td>264</td>\n",
       "      <td>2023-24</td>\n",
       "      <td>2023</td>\n",
       "      <td>False</td>\n",
       "      <td>jokicni01_2024</td>\n",
       "      <td>Nikola Jokic</td>\n",
       "      <td>C</td>\n",
       "      <td>28</td>\n",
       "      <td>DEN</td>\n",
       "      <td>79</td>\n",
       "      <td>79</td>\n",
       "      <td>0.583</td>\n",
       "      <td>0.359</td>\n",
       "      <td>0.626</td>\n",
       "      <td>0.612</td>\n",
       "      <td>0.817</td>\n",
       "      <td>False</td>\n",
       "      <td>DEN</td>\n",
       "      <td>203999.0</td>\n",
       "      <td>https://stats.nba.com/media/players/230x185/20...</td>\n",
       "      <td>https://ak-static.cms.nba.com/wp-content/uploa...</td>\n",
       "      <td>https://ak-static.cms.nba.com/wp-content/uploa...</td>\n",
       "      <td>https://stats.nba.com/player/203999</td>\n",
       "      <td>https://stats.nba.com/media/players/700/203999...</td>\n",
       "      <td>2737</td>\n",
       "      <td>822</td>\n",
       "      <td>1411</td>\n",
       "      <td>83</td>\n",
       "      <td>231</td>\n",
       "      <td>739</td>\n",
       "      <td>1180</td>\n",
       "      <td>358</td>\n",
       "      <td>438</td>\n",
       "      <td>223</td>\n",
       "      <td>753</td>\n",
       "      <td>976</td>\n",
       "      <td>708</td>\n",
       "      <td>108</td>\n",
       "      <td>68</td>\n",
       "      <td>237</td>\n",
       "      <td>194</td>\n",
       "      <td>2085</td>\n",
       "      <td>1</td>\n",
       "    </tr>\n",
       "  </tbody>\n",
       "</table>\n",
       "</div>"
      ],
      "text/plain": [
       "     Salary slugPlayerBREF  Unnamed: 0 slugSeason  yearSeason  \\\n",
       "0  51915615      curryst01         114    2023-24        2023   \n",
       "1  47649433      duranke01         138    2023-24        2023   \n",
       "2  47607350      jokicni01         264    2023-24        2023   \n",
       "\n",
       "   isSeasonCurrent slugPlayerSeason     namePlayer slugPosition  agePlayer  \\\n",
       "0            False   curryst01_2024  Stephen Curry           PG         35   \n",
       "1            False   duranke01_2024   Kevin Durant           PF         35   \n",
       "2            False   jokicni01_2024   Nikola Jokic            C         28   \n",
       "\n",
       "  slugTeamBREF  countGames  countGamesStarted  pctFG  pctFG3  pctFG2  pctEFG  \\\n",
       "0          GSW          74                 74  0.450   0.408   0.515   0.573   \n",
       "1          PHO          75                 75  0.523   0.413   0.567   0.581   \n",
       "2          DEN          79                 79  0.583   0.359   0.626   0.612   \n",
       "\n",
       "   pctFT  isHOFPlayer slugTeamsBREF  idPlayerNBA  \\\n",
       "0  0.923        False           GSW     201939.0   \n",
       "1  0.856        False           PHO     201142.0   \n",
       "2  0.817        False           DEN     203999.0   \n",
       "\n",
       "                                  urlPlayerThumbnail  \\\n",
       "0  https://stats.nba.com/media/players/230x185/20...   \n",
       "1  https://stats.nba.com/media/players/230x185/20...   \n",
       "2  https://stats.nba.com/media/players/230x185/20...   \n",
       "\n",
       "                                   urlPlayerHeadshot  \\\n",
       "0  https://ak-static.cms.nba.com/wp-content/uploa...   \n",
       "1  https://ak-static.cms.nba.com/wp-content/uploa...   \n",
       "2  https://ak-static.cms.nba.com/wp-content/uploa...   \n",
       "\n",
       "                                      urlPlayerPhoto  \\\n",
       "0  https://ak-static.cms.nba.com/wp-content/uploa...   \n",
       "1  https://ak-static.cms.nba.com/wp-content/uploa...   \n",
       "2  https://ak-static.cms.nba.com/wp-content/uploa...   \n",
       "\n",
       "                        urlPlayerStats  \\\n",
       "0  https://stats.nba.com/player/201939   \n",
       "1  https://stats.nba.com/player/201142   \n",
       "2  https://stats.nba.com/player/203999   \n",
       "\n",
       "                                urlPlayerActionPhoto  minutesTotals  \\\n",
       "0  https://stats.nba.com/media/players/700/201939...           2421   \n",
       "1  https://stats.nba.com/media/players/700/201142...           2791   \n",
       "2  https://stats.nba.com/media/players/700/203999...           2737   \n",
       "\n",
       "   fgmTotals  fgaTotals  fg3mTotals  fg3aTotals  fg2mTotals  fg2aTotals  \\\n",
       "0        650       1445         357         876         293         569   \n",
       "1        751       1436         168         407         583        1029   \n",
       "2        822       1411          83         231         739        1180   \n",
       "\n",
       "   ftmTotals  ftaTotals  orbTotals  drbTotals  trbTotals  astTotals  \\\n",
       "0        299        324         37        293        330        379   \n",
       "1        362        423         41        454        495        378   \n",
       "2        358        438        223        753        976        708   \n",
       "\n",
       "   stlTotals  blkTotals  tovTotals  pfTotals  ptsTotals  \\\n",
       "0         54         28        210       117       1956   \n",
       "1         69         91        244       133       2032   \n",
       "2        108         68        237       194       2085   \n",
       "\n",
       "   countTeamsPlayerSeasonTotals  \n",
       "0                             1  \n",
       "1                             1  \n",
       "2                             1  "
      ]
     },
     "execution_count": 66,
     "metadata": {},
     "output_type": "execute_result"
    }
   ],
   "source": [
    "# Juntamos salary2 y stats en 1 dataset\n",
    "SS = pd.merge(salary2, stats,how='inner', on='slugPlayerBREF')\n",
    "SS.head(3)"
   ]
  },
  {
   "cell_type": "code",
   "execution_count": 67,
   "metadata": {},
   "outputs": [
    {
     "data": {
      "text/plain": [
       "Index(['Salary', 'slugPlayerBREF', 'Unnamed: 0', 'slugSeason', 'yearSeason',\n",
       "       'isSeasonCurrent', 'slugPlayerSeason', 'namePlayer', 'slugPosition',\n",
       "       'agePlayer', 'slugTeamBREF', 'countGames', 'countGamesStarted', 'pctFG',\n",
       "       'pctFG3', 'pctFG2', 'pctEFG', 'pctFT', 'isHOFPlayer', 'slugTeamsBREF',\n",
       "       'idPlayerNBA', 'urlPlayerThumbnail', 'urlPlayerHeadshot',\n",
       "       'urlPlayerPhoto', 'urlPlayerStats', 'urlPlayerActionPhoto',\n",
       "       'minutesTotals', 'fgmTotals', 'fgaTotals', 'fg3mTotals', 'fg3aTotals',\n",
       "       'fg2mTotals', 'fg2aTotals', 'ftmTotals', 'ftaTotals', 'orbTotals',\n",
       "       'drbTotals', 'trbTotals', 'astTotals', 'stlTotals', 'blkTotals',\n",
       "       'tovTotals', 'pfTotals', 'ptsTotals', 'countTeamsPlayerSeasonTotals'],\n",
       "      dtype='object')"
      ]
     },
     "execution_count": 67,
     "metadata": {},
     "output_type": "execute_result"
    }
   ],
   "source": [
    "SS.columns"
   ]
  },
  {
   "cell_type": "code",
   "execution_count": 68,
   "metadata": {},
   "outputs": [
    {
     "data": {
      "text/plain": [
       "Index(['Salary', 'namePlayer', 'slugPosition', 'agePlayer', 'slugTeamBREF',\n",
       "       'countGames', 'countGamesStarted', 'pctFG', 'pctFG3', 'pctFG2',\n",
       "       'pctEFG', 'pctFT', 'slugTeamsBREF', 'minutesTotals', 'fgmTotals',\n",
       "       'fgaTotals', 'fg3mTotals', 'fg3aTotals', 'fg2mTotals', 'fg2aTotals',\n",
       "       'ftmTotals', 'ftaTotals', 'orbTotals', 'drbTotals', 'trbTotals',\n",
       "       'astTotals', 'stlTotals', 'blkTotals', 'tovTotals', 'pfTotals',\n",
       "       'ptsTotals'],\n",
       "      dtype='object')"
      ]
     },
     "execution_count": 68,
     "metadata": {},
     "output_type": "execute_result"
    }
   ],
   "source": [
    "# Eliminamos columnas inecesarias\n",
    "SS = SS.drop(columns=['slugPlayerBREF', 'Unnamed: 0', 'slugSeason', 'yearSeason',\n",
    "       'isSeasonCurrent', 'slugPlayerSeason', 'idPlayerNBA', 'urlPlayerThumbnail', \n",
    "       'urlPlayerHeadshot', 'urlPlayerPhoto', 'urlPlayerStats', 'urlPlayerActionPhoto', \n",
    "       'countTeamsPlayerSeasonTotals', 'isHOFPlayer'])\n",
    "SS.columns"
   ]
  },
  {
   "cell_type": "code",
   "execution_count": 69,
   "metadata": {},
   "outputs": [
    {
     "name": "stdout",
     "output_type": "stream",
     "text": [
      "Filas duplicadas:  86\n"
     ]
    }
   ],
   "source": [
    "# Buscar si existen filas duplicadas\n",
    "print(\"Filas duplicadas: \", sum(SS.duplicated(subset=\"namePlayer\", keep=False)))"
   ]
  },
  {
   "cell_type": "code",
   "execution_count": 70,
   "metadata": {},
   "outputs": [
    {
     "name": "stdout",
     "output_type": "stream",
     "text": [
      "Filas, Columnas:  (478, 31)\n",
      "Duplicados:  0\n"
     ]
    }
   ],
   "source": [
    "# Quitar las filas duplicadas\n",
    "SS = SS.drop_duplicates(subset='namePlayer')\n",
    "print(\"Filas, Columnas: \", SS.shape)\n",
    "print(\"Duplicados: \",sum(SS.duplicated(subset='namePlayer', keep=False)))"
   ]
  },
  {
   "cell_type": "code",
   "execution_count": 71,
   "metadata": {},
   "outputs": [
    {
     "data": {
      "text/html": [
       "<div>\n",
       "<style scoped>\n",
       "    .dataframe tbody tr th:only-of-type {\n",
       "        vertical-align: middle;\n",
       "    }\n",
       "\n",
       "    .dataframe tbody tr th {\n",
       "        vertical-align: top;\n",
       "    }\n",
       "\n",
       "    .dataframe thead th {\n",
       "        text-align: right;\n",
       "    }\n",
       "</style>\n",
       "<table border=\"1\" class=\"dataframe\">\n",
       "  <thead>\n",
       "    <tr style=\"text-align: right;\">\n",
       "      <th></th>\n",
       "      <th>Salary</th>\n",
       "      <th>namePlayer</th>\n",
       "      <th>slugPosition</th>\n",
       "      <th>agePlayer</th>\n",
       "      <th>slugTeamBREF</th>\n",
       "      <th>countGames</th>\n",
       "      <th>countGamesStarted</th>\n",
       "      <th>pctFG</th>\n",
       "      <th>pctFG3</th>\n",
       "      <th>pctFG2</th>\n",
       "      <th>pctEFG</th>\n",
       "      <th>pctFT</th>\n",
       "      <th>slugTeamsBREF</th>\n",
       "      <th>minutesTotals</th>\n",
       "      <th>fgmTotals</th>\n",
       "      <th>fgaTotals</th>\n",
       "      <th>fg3mTotals</th>\n",
       "      <th>fg3aTotals</th>\n",
       "      <th>fg2mTotals</th>\n",
       "      <th>fg2aTotals</th>\n",
       "      <th>ftmTotals</th>\n",
       "      <th>ftaTotals</th>\n",
       "      <th>orbTotals</th>\n",
       "      <th>drbTotals</th>\n",
       "      <th>trbTotals</th>\n",
       "      <th>astTotals</th>\n",
       "      <th>stlTotals</th>\n",
       "      <th>blkTotals</th>\n",
       "      <th>tovTotals</th>\n",
       "      <th>pfTotals</th>\n",
       "      <th>ptsTotals</th>\n",
       "    </tr>\n",
       "  </thead>\n",
       "  <tbody>\n",
       "  </tbody>\n",
       "</table>\n",
       "</div>"
      ],
      "text/plain": [
       "Empty DataFrame\n",
       "Columns: [Salary, namePlayer, slugPosition, agePlayer, slugTeamBREF, countGames, countGamesStarted, pctFG, pctFG3, pctFG2, pctEFG, pctFT, slugTeamsBREF, minutesTotals, fgmTotals, fgaTotals, fg3mTotals, fg3aTotals, fg2mTotals, fg2aTotals, ftmTotals, ftaTotals, orbTotals, drbTotals, trbTotals, astTotals, stlTotals, blkTotals, tovTotals, pfTotals, ptsTotals]\n",
       "Index: []"
      ]
     },
     "execution_count": 71,
     "metadata": {},
     "output_type": "execute_result"
    }
   ],
   "source": [
    "# Checar valores Null en todo el dataset\n",
    "SS[SS.isnull().any(axis=1)]"
   ]
  },
  {
   "cell_type": "markdown",
   "metadata": {},
   "source": [
    "# Visualización"
   ]
  },
  {
   "cell_type": "code",
   "execution_count": 72,
   "metadata": {},
   "outputs": [
    {
     "data": {
      "text/html": [
       "<div>\n",
       "<style scoped>\n",
       "    .dataframe tbody tr th:only-of-type {\n",
       "        vertical-align: middle;\n",
       "    }\n",
       "\n",
       "    .dataframe tbody tr th {\n",
       "        vertical-align: top;\n",
       "    }\n",
       "\n",
       "    .dataframe thead th {\n",
       "        text-align: right;\n",
       "    }\n",
       "</style>\n",
       "<table border=\"1\" class=\"dataframe\">\n",
       "  <thead>\n",
       "    <tr style=\"text-align: right;\">\n",
       "      <th></th>\n",
       "      <th>Salary</th>\n",
       "      <th>namePlayer</th>\n",
       "      <th>slugPosition</th>\n",
       "      <th>agePlayer</th>\n",
       "      <th>slugTeamBREF</th>\n",
       "      <th>countGames</th>\n",
       "      <th>countGamesStarted</th>\n",
       "      <th>pctFG</th>\n",
       "      <th>pctFG3</th>\n",
       "      <th>pctFG2</th>\n",
       "      <th>pctEFG</th>\n",
       "      <th>pctFT</th>\n",
       "      <th>slugTeamsBREF</th>\n",
       "      <th>minutesTotals</th>\n",
       "      <th>fgmTotals</th>\n",
       "      <th>fgaTotals</th>\n",
       "      <th>fg3mTotals</th>\n",
       "      <th>fg3aTotals</th>\n",
       "      <th>fg2mTotals</th>\n",
       "      <th>fg2aTotals</th>\n",
       "      <th>ftmTotals</th>\n",
       "      <th>ftaTotals</th>\n",
       "      <th>orbTotals</th>\n",
       "      <th>drbTotals</th>\n",
       "      <th>trbTotals</th>\n",
       "      <th>astTotals</th>\n",
       "      <th>stlTotals</th>\n",
       "      <th>blkTotals</th>\n",
       "      <th>tovTotals</th>\n",
       "      <th>pfTotals</th>\n",
       "      <th>ptsTotals</th>\n",
       "    </tr>\n",
       "  </thead>\n",
       "  <tbody>\n",
       "    <tr>\n",
       "      <th>0</th>\n",
       "      <td>51915615</td>\n",
       "      <td>Stephen Curry</td>\n",
       "      <td>PG</td>\n",
       "      <td>35</td>\n",
       "      <td>GSW</td>\n",
       "      <td>74</td>\n",
       "      <td>74</td>\n",
       "      <td>0.450</td>\n",
       "      <td>0.408</td>\n",
       "      <td>0.515</td>\n",
       "      <td>0.573</td>\n",
       "      <td>0.923</td>\n",
       "      <td>GSW</td>\n",
       "      <td>2421</td>\n",
       "      <td>650</td>\n",
       "      <td>1445</td>\n",
       "      <td>357</td>\n",
       "      <td>876</td>\n",
       "      <td>293</td>\n",
       "      <td>569</td>\n",
       "      <td>299</td>\n",
       "      <td>324</td>\n",
       "      <td>37</td>\n",
       "      <td>293</td>\n",
       "      <td>330</td>\n",
       "      <td>379</td>\n",
       "      <td>54</td>\n",
       "      <td>28</td>\n",
       "      <td>210</td>\n",
       "      <td>117</td>\n",
       "      <td>1956</td>\n",
       "    </tr>\n",
       "    <tr>\n",
       "      <th>1</th>\n",
       "      <td>47649433</td>\n",
       "      <td>Kevin Durant</td>\n",
       "      <td>PF</td>\n",
       "      <td>35</td>\n",
       "      <td>PHO</td>\n",
       "      <td>75</td>\n",
       "      <td>75</td>\n",
       "      <td>0.523</td>\n",
       "      <td>0.413</td>\n",
       "      <td>0.567</td>\n",
       "      <td>0.581</td>\n",
       "      <td>0.856</td>\n",
       "      <td>PHO</td>\n",
       "      <td>2791</td>\n",
       "      <td>751</td>\n",
       "      <td>1436</td>\n",
       "      <td>168</td>\n",
       "      <td>407</td>\n",
       "      <td>583</td>\n",
       "      <td>1029</td>\n",
       "      <td>362</td>\n",
       "      <td>423</td>\n",
       "      <td>41</td>\n",
       "      <td>454</td>\n",
       "      <td>495</td>\n",
       "      <td>378</td>\n",
       "      <td>69</td>\n",
       "      <td>91</td>\n",
       "      <td>244</td>\n",
       "      <td>133</td>\n",
       "      <td>2032</td>\n",
       "    </tr>\n",
       "    <tr>\n",
       "      <th>2</th>\n",
       "      <td>47607350</td>\n",
       "      <td>Nikola Jokic</td>\n",
       "      <td>C</td>\n",
       "      <td>28</td>\n",
       "      <td>DEN</td>\n",
       "      <td>79</td>\n",
       "      <td>79</td>\n",
       "      <td>0.583</td>\n",
       "      <td>0.359</td>\n",
       "      <td>0.626</td>\n",
       "      <td>0.612</td>\n",
       "      <td>0.817</td>\n",
       "      <td>DEN</td>\n",
       "      <td>2737</td>\n",
       "      <td>822</td>\n",
       "      <td>1411</td>\n",
       "      <td>83</td>\n",
       "      <td>231</td>\n",
       "      <td>739</td>\n",
       "      <td>1180</td>\n",
       "      <td>358</td>\n",
       "      <td>438</td>\n",
       "      <td>223</td>\n",
       "      <td>753</td>\n",
       "      <td>976</td>\n",
       "      <td>708</td>\n",
       "      <td>108</td>\n",
       "      <td>68</td>\n",
       "      <td>237</td>\n",
       "      <td>194</td>\n",
       "      <td>2085</td>\n",
       "    </tr>\n",
       "    <tr>\n",
       "      <th>3</th>\n",
       "      <td>47607350</td>\n",
       "      <td>Joel Embiid</td>\n",
       "      <td>C</td>\n",
       "      <td>29</td>\n",
       "      <td>PHI</td>\n",
       "      <td>39</td>\n",
       "      <td>39</td>\n",
       "      <td>0.529</td>\n",
       "      <td>0.388</td>\n",
       "      <td>0.556</td>\n",
       "      <td>0.561</td>\n",
       "      <td>0.883</td>\n",
       "      <td>PHI</td>\n",
       "      <td>1309</td>\n",
       "      <td>450</td>\n",
       "      <td>851</td>\n",
       "      <td>54</td>\n",
       "      <td>139</td>\n",
       "      <td>396</td>\n",
       "      <td>712</td>\n",
       "      <td>399</td>\n",
       "      <td>452</td>\n",
       "      <td>95</td>\n",
       "      <td>335</td>\n",
       "      <td>430</td>\n",
       "      <td>219</td>\n",
       "      <td>46</td>\n",
       "      <td>66</td>\n",
       "      <td>150</td>\n",
       "      <td>112</td>\n",
       "      <td>1353</td>\n",
       "    </tr>\n",
       "    <tr>\n",
       "      <th>4</th>\n",
       "      <td>47607350</td>\n",
       "      <td>LeBron James</td>\n",
       "      <td>PF</td>\n",
       "      <td>39</td>\n",
       "      <td>LAL</td>\n",
       "      <td>71</td>\n",
       "      <td>71</td>\n",
       "      <td>0.540</td>\n",
       "      <td>0.410</td>\n",
       "      <td>0.592</td>\n",
       "      <td>0.599</td>\n",
       "      <td>0.750</td>\n",
       "      <td>LAL</td>\n",
       "      <td>2504</td>\n",
       "      <td>685</td>\n",
       "      <td>1269</td>\n",
       "      <td>149</td>\n",
       "      <td>363</td>\n",
       "      <td>536</td>\n",
       "      <td>906</td>\n",
       "      <td>303</td>\n",
       "      <td>404</td>\n",
       "      <td>61</td>\n",
       "      <td>457</td>\n",
       "      <td>518</td>\n",
       "      <td>589</td>\n",
       "      <td>89</td>\n",
       "      <td>38</td>\n",
       "      <td>245</td>\n",
       "      <td>78</td>\n",
       "      <td>1822</td>\n",
       "    </tr>\n",
       "  </tbody>\n",
       "</table>\n",
       "</div>"
      ],
      "text/plain": [
       "     Salary     namePlayer slugPosition  agePlayer slugTeamBREF  countGames  \\\n",
       "0  51915615  Stephen Curry           PG         35          GSW          74   \n",
       "1  47649433   Kevin Durant           PF         35          PHO          75   \n",
       "2  47607350   Nikola Jokic            C         28          DEN          79   \n",
       "3  47607350    Joel Embiid            C         29          PHI          39   \n",
       "4  47607350   LeBron James           PF         39          LAL          71   \n",
       "\n",
       "   countGamesStarted  pctFG  pctFG3  pctFG2  pctEFG  pctFT slugTeamsBREF  \\\n",
       "0                 74  0.450   0.408   0.515   0.573  0.923           GSW   \n",
       "1                 75  0.523   0.413   0.567   0.581  0.856           PHO   \n",
       "2                 79  0.583   0.359   0.626   0.612  0.817           DEN   \n",
       "3                 39  0.529   0.388   0.556   0.561  0.883           PHI   \n",
       "4                 71  0.540   0.410   0.592   0.599  0.750           LAL   \n",
       "\n",
       "   minutesTotals  fgmTotals  fgaTotals  fg3mTotals  fg3aTotals  fg2mTotals  \\\n",
       "0           2421        650       1445         357         876         293   \n",
       "1           2791        751       1436         168         407         583   \n",
       "2           2737        822       1411          83         231         739   \n",
       "3           1309        450        851          54         139         396   \n",
       "4           2504        685       1269         149         363         536   \n",
       "\n",
       "   fg2aTotals  ftmTotals  ftaTotals  orbTotals  drbTotals  trbTotals  \\\n",
       "0         569        299        324         37        293        330   \n",
       "1        1029        362        423         41        454        495   \n",
       "2        1180        358        438        223        753        976   \n",
       "3         712        399        452         95        335        430   \n",
       "4         906        303        404         61        457        518   \n",
       "\n",
       "   astTotals  stlTotals  blkTotals  tovTotals  pfTotals  ptsTotals  \n",
       "0        379         54         28        210       117       1956  \n",
       "1        378         69         91        244       133       2032  \n",
       "2        708        108         68        237       194       2085  \n",
       "3        219         46         66        150       112       1353  \n",
       "4        589         89         38        245        78       1822  "
      ]
     },
     "execution_count": 72,
     "metadata": {},
     "output_type": "execute_result"
    }
   ],
   "source": [
    "SS.head()"
   ]
  },
  {
   "cell_type": "code",
   "execution_count": 73,
   "metadata": {},
   "outputs": [
    {
     "data": {
      "application/vnd.plotly.v1+json": {
       "config": {
        "plotlyServerURL": "https://plot.ly"
       },
       "data": [
        {
         "customdata": [
          [
           "Stephen Curry",
           "GSW"
          ],
          [
           "Kevin Durant",
           "PHO"
          ],
          [
           "Nikola Jokic",
           "DEN"
          ],
          [
           "Joel Embiid",
           "PHI"
          ],
          [
           "LeBron James",
           "LAL"
          ],
          [
           "Bradley Beal",
           "PHO"
          ],
          [
           "Giannis Antetokounmpo",
           "MIL"
          ],
          [
           "Kawhi Leonard",
           "LAC"
          ],
          [
           "Damian Lillard",
           "MIL"
          ],
          [
           "Paul George",
           "LAC"
          ],
          [
           "Jimmy Butler",
           "MIA"
          ],
          [
           "Klay Thompson",
           "GSW"
          ],
          [
           "Rudy Gobert",
           "MIN"
          ],
          [
           "Fred VanVleet",
           "HOU"
          ],
          [
           "Anthony Davis",
           "LAL"
          ],
          [
           "Trae Young",
           "ATL"
          ],
          [
           "Luka Doncic",
           "DAL"
          ],
          [
           "Zach LaVine",
           "CHI"
          ],
          [
           "Tobias Harris",
           "PHI"
          ],
          [
           "Ben Simmons",
           "BRK"
          ],
          [
           "Pascal Siakam",
           "TOT"
          ],
          [
           "Kyrie Irving",
           "DAL"
          ],
          [
           "Jrue Holiday",
           "BOS"
          ],
          [
           "Devin Booker",
           "PHO"
          ],
          [
           "Karl-Anthony Towns",
           "MIN"
          ],
          [
           "Kristaps Porzingis",
           "BOS"
          ],
          [
           "CJ McCollum",
           "NOP"
          ],
          [
           "James Harden",
           "LAC"
          ],
          [
           "Zion Williamson",
           "NOP"
          ],
          [
           "Ja Morant",
           "MEM"
          ],
          [
           "Darius Garland",
           "CLE"
          ],
          [
           "Brandon Ingram",
           "NOP"
          ],
          [
           "Jamal Murray",
           "DEN"
          ],
          [
           "Shai Gilgeous-Alexander",
           "OKC"
          ],
          [
           "Michael Porter Jr.",
           "DEN"
          ],
          [
           "Gordon Hayward",
           "TOT"
          ],
          [
           "Donovan Mitchell",
           "CLE"
          ],
          [
           "De'Aaron Fox",
           "SAC"
          ],
          [
           "Bam Adebayo",
           "MIA"
          ],
          [
           "Jayson Tatum",
           "BOS"
          ],
          [
           "Deandre Ayton",
           "POR"
          ],
          [
           "Jaylen Brown",
           "BOS"
          ],
          [
           "Chris Paul",
           "GSW"
          ],
          [
           "Domantas Sabonis",
           "SAC"
          ],
          [
           "Kyle Lowry",
           "TOT"
          ],
          [
           "Khris Middleton",
           "MIL"
          ],
          [
           "DeMar DeRozan",
           "CHI"
          ],
          [
           "Julius Randle",
           "NYK"
          ],
          [
           "Jerami Grant",
           "POR"
          ],
          [
           "Jordan Poole",
           "WAS"
          ],
          [
           "Jaren Jackson Jr.",
           "MEM"
          ],
          [
           "Tyler Herro",
           "MIA"
          ],
          [
           "Jalen Brunson",
           "NYK"
          ],
          [
           "Cameron Johnson",
           "BRK"
          ],
          [
           "Kyle Kuzma",
           "WAS"
          ],
          [
           "John Collins",
           "UTA"
          ],
          [
           "Brook Lopez",
           "MIL"
          ],
          [
           "Mike Conley",
           "MIN"
          ],
          [
           "Andrew Wiggins",
           "GSW"
          ],
          [
           "Anfernee Simons",
           "POR"
          ],
          [
           "RJ Barrett",
           "TOT"
          ],
          [
           "Jordan Clarkson",
           "UTA"
          ],
          [
           "Terry Rozier",
           "TOT"
          ],
          [
           "Dillon Brooks",
           "HOU"
          ],
          [
           "Malcolm Brogdon",
           "POR"
          ],
          [
           "Draymond Green",
           "GSW"
          ],
          [
           "Aaron Gordon",
           "DEN"
          ],
          [
           "Bruce Brown",
           "TOT"
          ],
          [
           "Mikal Bridges",
           "BRK"
          ],
          [
           "Myles Turner",
           "IND"
          ],
          [
           "Clint Capela",
           "ATL"
          ],
          [
           "Spencer Dinwiddie",
           "TOT"
          ],
          [
           "De'Andre Hunter",
           "ATL"
          ],
          [
           "Keldon Johnson",
           "SAS"
          ],
          [
           "Jarrett Allen",
           "CLE"
          ],
          [
           "Bojan Bogdanovic",
           "TOT"
          ],
          [
           "Joe Harris",
           "DET"
          ],
          [
           "Buddy Hield",
           "TOT"
          ],
          [
           "Jakob Poeltl",
           "TOR"
          ],
          [
           "Evan Fournier",
           "TOT"
          ],
          [
           "Marcus Smart",
           "MEM"
          ],
          [
           "Bogdan Bogdanovic",
           "ATL"
          ],
          [
           "OG Anunoby",
           "TOT"
          ],
          [
           "Gary Trent Jr.",
           "TOR"
          ],
          [
           "Nikola Vucevic",
           "CHI"
          ],
          [
           "Derrick White",
           "BOS"
          ],
          [
           "Dejounte Murray",
           "ATL"
          ],
          [
           "Duncan Robinson",
           "MIA"
          ],
          [
           "Norman Powell",
           "LAC"
          ],
          [
           "Tim Hardaway Jr.",
           "DAL"
          ],
          [
           "Jonathan Isaac",
           "ORL"
          ],
          [
           "Collin Sexton",
           "UTA"
          ],
          [
           "D'Angelo Russell",
           "LAL"
          ],
          [
           "Lauri Markkanen",
           "UTA"
          ],
          [
           "Marcus Morris Sr.",
           "TOT"
          ],
          [
           "Harrison Barnes",
           "SAC"
          ],
          [
           "Davis Bertans",
           "TOT"
          ],
          [
           "Markelle Fultz",
           "ORL"
          ],
          [
           "Jusuf Nurkic",
           "PHO"
          ],
          [
           "P.J. Washington",
           "TOT"
          ],
          [
           "Rui Hachimura",
           "LAL"
          ],
          [
           "Mitchell Robinson",
           "NYK"
          ],
          [
           "Kevin Huerter",
           "SAC"
          ],
          [
           "Jonas Valanciunas",
           "NOP"
          ],
          [
           "Caris LeVert",
           "CLE"
          ],
          [
           "Luguentz Dort",
           "OKC"
          ],
          [
           "Luke Kennard",
           "MEM"
          ],
          [
           "Kentavious Caldwell-Pope",
           "DEN"
          ],
          [
           "Max Strus",
           "CLE"
          ],
          [
           "Tyus Jones",
           "WAS"
          ],
          [
           "Dorian Finney-Smith",
           "BRK"
          ],
          [
           "Doug McDermott",
           "TOT"
          ],
          [
           "Anthony Edwards",
           "MIN"
          ],
          [
           "Wendell Carter Jr.",
           "ORL"
          ],
          [
           "Gary Harris",
           "ORL"
          ],
          [
           "Josh Hart",
           "NYK"
          ],
          [
           "Naz Reid",
           "MIN"
          ],
          [
           "Brandon Clarke",
           "MEM"
          ],
          [
           "Marvin Bagley III",
           "TOT"
          ],
          [
           "Grant Williams",
           "TOT"
          ],
          [
           "Dennis Schroder",
           "TOT"
          ],
          [
           "Daniel Gafford",
           "TOT"
          ],
          [
           "Kelly Olynyk",
           "TOT"
          ],
          [
           "Victor Wembanyama",
           "SAS"
          ],
          [
           "James Wiseman",
           "DET"
          ],
          [
           "Devonte' Graham",
           "SAS"
          ],
          [
           "Richaun Holmes",
           "TOT"
          ],
          [
           "Herbert Jones",
           "NOP"
          ],
          [
           "Austin Reaves",
           "LAL"
          ],
          [
           "Chris Boucher",
           "TOR"
          ],
          [
           "Bobby Portis",
           "MIL"
          ],
          [
           "Nicolas Batum",
           "TOT"
          ],
          [
           "Robert Covington",
           "TOT"
          ],
          [
           "Paolo Banchero",
           "ORL"
          ],
          [
           "Robert Williams III",
           "POR"
          ],
          [
           "Coby White",
           "CHI"
          ],
          [
           "Cade Cunningham",
           "DET"
          ],
          [
           "Talen Horton-Tucker",
           "UTA"
          ],
          [
           "P.J. Tucker",
           "TOT"
          ],
          [
           "Reggie Bullock",
           "HOU"
          ],
          [
           "Maxi Kleber",
           "DAL"
          ],
          [
           "Joe Ingles",
           "ORL"
          ],
          [
           "Ivica Zubac",
           "LAC"
          ],
          [
           "LaMelo Ball",
           "CHO"
          ],
          [
           "Donte DiVincenzo",
           "NYK"
          ],
          [
           "Brandon Miller",
           "CHO"
          ],
          [
           "Terance Mann",
           "LAC"
          ],
          [
           "Gabe Vincent",
           "LAL"
          ],
          [
           "Matisse Thybulle",
           "POR"
          ],
          [
           "Alec Burks",
           "TOT"
          ],
          [
           "Chet Holmgren",
           "OKC"
          ],
          [
           "Larry Nance Jr.",
           "NOP"
          ],
          [
           "Landry Shamet",
           "WAS"
          ],
          [
           "Al Horford",
           "BOS"
          ],
          [
           "Malik Monk",
           "SAC"
          ],
          [
           "Tre Jones",
           "SAS"
          ],
          [
           "Jalen Green",
           "HOU"
          ],
          [
           "Patrick Williams",
           "CHI"
          ],
          [
           "Monte Morris",
           "TOT"
          ],
          [
           "Scoot Henderson",
           "POR"
          ],
          [
           "Nic Claxton",
           "BRK"
          ],
          [
           "Jeff Green",
           "HOU"
          ],
          [
           "Royce O'Neale",
           "TOT"
          ],
          [
           "Alex Caruso",
           "CHI"
          ],
          [
           "Pat Connaughton",
           "MIL"
          ],
          [
           "Jabari Smith Jr.",
           "HOU"
          ],
          [
           "Isaiah Hartenstein",
           "NYK"
          ],
          [
           "Kyle Anderson",
           "MIN"
          ],
          [
           "Grayson Allen",
           "PHO"
          ],
          [
           "Isaac Okoro",
           "CLE"
          ],
          [
           "Evan Mobley",
           "CLE"
          ],
          [
           "Amen Thompson",
           "HOU"
          ],
          [
           "Georges Niang",
           "CLE"
          ],
          [
           "Gary Payton II",
           "GSW"
          ],
          [
           "T.J. McConnell",
           "IND"
          ],
          [
           "Keegan Murray",
           "SAC"
          ],
          [
           "Delon Wright",
           "TOT"
          ],
          [
           "Onyeka Okongwu",
           "ATL"
          ],
          [
           "Scottie Barnes",
           "TOR"
          ],
          [
           "Jock Landale",
           "HOU"
          ],
          [
           "Trey Lyles",
           "SAC"
          ],
          [
           "De'Anthony Melton",
           "PHI"
          ],
          [
           "Moritz Wagner",
           "ORL"
          ],
          [
           "Thaddeus Young",
           "TOT"
          ],
          [
           "Ausar Thompson",
           "DET"
          ],
          [
           "Miles Bridges",
           "CHO"
          ],
          [
           "Vasilije Micic",
           "TOT"
          ],
          [
           "Paul Reed",
           "PHI"
          ],
          [
           "Zach Collins",
           "SAS"
          ],
          [
           "Jaden Ivey",
           "DET"
          ],
          [
           "Cody Martin",
           "CHO"
          ],
          [
           "Kevon Looney",
           "GSW"
          ],
          [
           "Killian Hayes",
           "DET"
          ],
          [
           "Jalen Suggs",
           "ORL"
          ],
          [
           "Anthony Black",
           "ORL"
          ],
          [
           "Daniel Theis",
           "TOT"
          ],
          [
           "Bennedict Mathurin",
           "IND"
          ],
          [
           "Obi Toppin",
           "IND"
          ],
          [
           "Caleb Martin",
           "MIA"
          ],
          [
           "Danilo Gallinari",
           "TOT"
          ],
          [
           "Patty Mills",
           "TOT"
          ],
          [
           "Cedi Osman",
           "SAS"
          ],
          [
           "Bilal Coulibaly",
           "WAS"
          ],
          [
           "Josh Giddey",
           "OKC"
          ],
          [
           "Cameron Payne",
           "TOT"
          ],
          [
           "Jae'Sean Tate",
           "HOU"
          ],
          [
           "Ayo Dosunmu",
           "CHI"
          ],
          [
           "Sasha Vezenkov",
           "SAC"
          ],
          [
           "Shaedon Sharpe",
           "POR"
          ],
          [
           "Otto Porter Jr.",
           "TOR"
          ],
          [
           "Deni Avdija",
           "WAS"
          ],
          [
           "Nassir Little",
           "PHO"
          ],
          [
           "Jevon Carter",
           "CHI"
          ],
          [
           "Kenrich Williams",
           "OKC"
          ],
          [
           "Jarace Walker",
           "IND"
          ],
          [
           "Jonathan Kuminga",
           "GSW"
          ],
          [
           "Devin Vassell",
           "SAS"
          ],
          [
           "Tyrese Haliburton",
           "IND"
          ],
          [
           "Dyson Daniels",
           "NOP"
          ],
          [
           "Kira Lewis Jr.",
           "TOT"
          ],
          [
           "Dean Wade",
           "CLE"
          ],
          [
           "Aaron Nesmith",
           "IND"
          ],
          [
           "Taylor Hendricks",
           "UTA"
          ],
          [
           "Cole Anthony",
           "ORL"
          ],
          [
           "Franz Wagner",
           "ORL"
          ],
          [
           "Furkan Korkmaz",
           "PHI"
          ],
          [
           "Jeremy Sochan",
           "SAS"
          ],
          [
           "Cason Wallace",
           "OKC"
          ],
          [
           "Isaiah Stewart",
           "DET"
          ],
          [
           "Chuma Okeke",
           "ORL"
          ],
          [
           "Davion Mitchell",
           "SAC"
          ],
          [
           "Johnny Davis",
           "WAS"
          ],
          [
           "Jalen Smith",
           "IND"
          ],
          [
           "Jett Howard",
           "ORL"
          ],
          [
           "Aleksej Pokusevski",
           "TOT"
          ],
          [
           "Nick Richards",
           "CHO"
          ],
          [
           "Bismack Biyombo",
           "TOT"
          ],
          [
           "Mason Plumlee",
           "LAC"
          ],
          [
           "Shake Milton",
           "TOT"
          ],
          [
           "Reggie Jackson",
           "DEN"
          ],
          [
           "Ziaire Williams",
           "MEM"
          ],
          [
           "Ousmane Dieng",
           "OKC"
          ],
          [
           "Dereck Lively II",
           "DAL"
          ],
          [
           "Josh Green",
           "DAL"
          ],
          [
           "Jarred Vanderbilt",
           "LAL"
          ],
          [
           "Nickeil Alexander-Walker",
           "MIN"
          ],
          [
           "James Bouknight",
           "CHO"
          ],
          [
           "Jalen Williams",
           "OKC"
          ],
          [
           "Saddiq Bey",
           "ATL"
          ],
          [
           "Gradey Dick",
           "TOR"
          ],
          [
           "Jalen McDaniels",
           "TOR"
          ],
          [
           "Taurean Prince",
           "LAL"
          ],
          [
           "Precious Achiuwa",
           "TOT"
          ],
          [
           "Tyrese Maxey",
           "PHI"
          ],
          [
           "Joshua Primo",
           "LAC"
          ],
          [
           "Jalen Duren",
           "DET"
          ],
          [
           "Danuel House Jr.",
           "PHI"
          ],
          [
           "Jordan Hawkins",
           "NOP"
          ],
          [
           "Zeke Nnaji",
           "DEN"
          ],
          [
           "Immanuel Quickley",
           "TOT"
          ],
          [
           "Chris Duarte",
           "SAC"
          ],
          [
           "Ochai Agbaji",
           "TOT"
          ],
          [
           "Kobe Bufkin",
           "ATL"
          ],
          [
           "Payton Pritchard",
           "BOS"
          ],
          [
           "Dwight Powell",
           "DAL"
          ],
          [
           "Seth Curry",
           "TOT"
          ],
          [
           "Troy Brown Jr.",
           "TOT"
          ],
          [
           "Moses Moody",
           "GSW"
          ],
          [
           "Mark Williams",
           "CHO"
          ],
          [
           "Jaden McDaniels",
           "MIN"
          ],
          [
           "Keyonte George",
           "UTA"
          ],
          [
           "Malachi Flynn",
           "TOT"
          ],
          [
           "Desmond Bane",
           "MEM"
          ],
          [
           "Kevin Love",
           "MIA"
          ],
          [
           "Russell Westbrook",
           "LAC"
          ],
          [
           "Corey Kispert",
           "WAS"
          ],
          [
           "AJ Griffin",
           "ATL"
          ],
          [
           "Jalen Hood-Schifino",
           "LAL"
          ],
          [
           "Amir Coffey",
           "LAC"
          ],
          [
           "Alperen Sengun",
           "HOU"
          ],
          [
           "Tari Eason",
           "HOU"
          ],
          [
           "Jaime Jaquez Jr.",
           "MIA"
          ],
          [
           "Mike Muscala",
           "TOT"
          ],
          [
           "Andre Drummond",
           "CHI"
          ],
          [
           "Derrick Jones Jr.",
           "DAL"
          ],
          [
           "Trey Murphy III",
           "NOP"
          ],
          [
           "Brandin Podziemski",
           "GSW"
          ],
          [
           "Dalen Terry",
           "CHI"
          ],
          [
           "Cam Whitmore",
           "HOU"
          ],
          [
           "Jake LaRavia",
           "MEM"
          ],
          [
           "Derrick Rose",
           "MEM"
          ],
          [
           "Eric Gordon",
           "PHO"
          ],
          [
           "Tre Mann",
           "TOT"
          ],
          [
           "Noah Clowney",
           "BRK"
          ],
          [
           "Malaki Branham",
           "SAS"
          ],
          [
           "Simone Fontecchio",
           "TOT"
          ],
          [
           "Jordan Nwora",
           "TOT"
          ],
          [
           "Julian Champagnie",
           "SAS"
          ],
          [
           "Dante Exum",
           "DAL"
          ],
          [
           "Dariq Whitehead",
           "BRK"
          ],
          [
           "Christian Braun",
           "DEN"
          ],
          [
           "Jalen Johnson",
           "ATL"
          ],
          [
           "Josh Richardson",
           "MIA"
          ],
          [
           "Kris Murray",
           "POR"
          ],
          [
           "Walker Kessler",
           "UTA"
          ],
          [
           "Josh Okogie",
           "PHO"
          ],
          [
           "Keon Johnson",
           "BRK"
          ],
          [
           "Omer Yurtseven",
           "UTA"
          ],
          [
           "Olivier-Maxence Prosper",
           "DAL"
          ],
          [
           "David Roddy",
           "TOT"
          ],
          [
           "Christian Wood",
           "LAL"
          ],
          [
           "Isaiah Jackson",
           "IND"
          ],
          [
           "Marcus Sasser",
           "DET"
          ],
          [
           "MarJon Beauchamp",
           "MIL"
          ],
          [
           "Charles Bassey",
           "SAS"
          ],
          [
           "Usman Garuba",
           "GSW"
          ],
          [
           "Kris Dunn",
           "UTA"
          ],
          [
           "Damian Jones",
           "CLE"
          ],
          [
           "Bruno Fernando",
           "ATL"
          ],
          [
           "Ben Sheppard",
           "IND"
          ],
          [
           "Thomas Bryant",
           "MIA"
          ],
          [
           "Torrey Craig",
           "CHI"
          ],
          [
           "Blake Wesley",
           "SAS"
          ],
          [
           "Nick Smith Jr.",
           "CHO"
          ],
          [
           "Brice Sensabaugh",
           "UTA"
          ],
          [
           "Ty Jerome",
           "CLE"
          ],
          [
           "Julian Strawther",
           "DEN"
          ],
          [
           "Tristan Vukcevic",
           "WAS"
          ],
          [
           "Wendell Moore Jr.",
           "MIN"
          ],
          [
           "Kobe Brown",
           "LAC"
          ],
          [
           "Luke Kornet",
           "BOS"
          ],
          [
           "John Konchar",
           "MEM"
          ],
          [
           "Quentin Grimes",
           "TOT"
          ],
          [
           "Nikola Jovic",
           "MIA"
          ],
          [
           "JaVale McGee",
           "SAC"
          ],
          [
           "Drew Eubanks",
           "PHO"
          ],
          [
           "Keita Bates-Diop",
           "TOT"
          ],
          [
           "Yuta Watanabe",
           "TOT"
          ],
          [
           "Patrick Baldwin Jr.",
           "WAS"
          ],
          [
           "TyTy Washington Jr.",
           "MIL"
          ],
          [
           "Jordan McLaughlin",
           "MIN"
          ],
          [
           "Bones Hyland",
           "LAC"
          ],
          [
           "Peyton Watson",
           "DEN"
          ],
          [
           "James Johnson",
           "IND"
          ],
          [
           "Cam Thomas",
           "BRK"
          ],
          [
           "Vince Williams Jr.",
           "MEM"
          ],
          [
           "Jaden Springer",
           "TOT"
          ],
          [
           "Day'Ron Sharpe",
           "BRK"
          ],
          [
           "Jeff Dowtin",
           "PHI"
          ],
          [
           "Santi Aldama",
           "MEM"
          ],
          [
           "Jaxson Hayes",
           "LAL"
          ],
          [
           "Cam Reddish",
           "LAL"
          ],
          [
           "Oshae Brissett",
           "BOS"
          ],
          [
           "Andrew Nembhard",
           "IND"
          ],
          [
           "Luka Samanic",
           "UTA"
          ],
          [
           "Goga Bitadze",
           "ORL"
          ],
          [
           "Colby Jones",
           "SAC"
          ],
          [
           "Taj Gibson",
           "TOT"
          ],
          [
           "Garrett Temple",
           "TOR"
          ],
          [
           "Sandro Mamukelashvili",
           "SAS"
          ],
          [
           "Robin Lopez",
           "MIL"
          ],
          [
           "Alex Len",
           "SAC"
          ],
          [
           "Dalano Banton",
           "TOT"
          ],
          [
           "Bol Bol",
           "PHO"
          ],
          [
           "Kelly Oubre Jr.",
           "PHI"
          ],
          [
           "Mo Bamba",
           "PHI"
          ],
          [
           "Dylan Windler",
           "TOT"
          ],
          [
           "Cody Zeller",
           "NOP"
          ],
          [
           "Thanasis Antetokounmpo",
           "MIL"
          ],
          [
           "Patrick Beverley",
           "TOT"
          ],
          [
           "Jae Crowder",
           "MIL"
          ],
          [
           "Malik Beasley",
           "MIL"
          ],
          [
           "Chimezie Metu",
           "TOT"
          ],
          [
           "Lamar Stevens",
           "TOT"
          ],
          [
           "Cory Joseph",
           "GSW"
          ],
          [
           "Dario Saric",
           "GSW"
          ],
          [
           "Ryan Arcidiacono",
           "NYK"
          ],
          [
           "DeAndre Jordan",
           "DEN"
          ],
          [
           "Justin Holiday",
           "DEN"
          ],
          [
           "Markieff Morris",
           "DAL"
          ],
          [
           "Ish Smith",
           "CHO"
          ],
          [
           "Frank Ntilikina",
           "CHO"
          ],
          [
           "Terry Taylor",
           "CHI"
          ],
          [
           "Harry Giles III",
           "TOT"
          ],
          [
           "Lonnie Walker IV",
           "BRK"
          ],
          [
           "Dennis Smith Jr.",
           "BRK"
          ],
          [
           "Svi Mykhailiuk",
           "BOS"
          ],
          [
           "Wesley Matthews",
           "ATL"
          ],
          [
           "Moses Brown",
           "POR"
          ],
          [
           "Boban Marjanovic",
           "HOU"
          ],
          [
           "Aaron Holiday",
           "HOU"
          ],
          [
           "Tristan Thompson",
           "CLE"
          ],
          [
           "Trendon Watford",
           "BRK"
          ],
          [
           "Caleb Houstan",
           "ORL"
          ],
          [
           "Jaylin Williams",
           "OKC"
          ],
          [
           "Garrison Mathews",
           "ATL"
          ],
          [
           "Sam Merrill",
           "CLE"
          ],
          [
           "Anthony Gill",
           "WAS"
          ],
          [
           "Isaiah Joe",
           "OKC"
          ],
          [
           "GG Jackson II",
           "MEM"
          ],
          [
           "Duop Reath",
           "POR"
          ],
          [
           "KJ Martin",
           "TOT"
          ],
          [
           "Naji Marshall",
           "NOP"
          ],
          [
           "Xavier Tillman Sr.",
           "TOT"
          ],
          [
           "Jordan Goodwin",
           "TOT"
          ],
          [
           "Kessler Edwards",
           "SAC"
          ],
          [
           "Ish Wainright",
           "TOT"
          ],
          [
           "Jericho Sims",
           "NYK"
          ],
          [
           "Sam Hauser",
           "BOS"
          ],
          [
           "Haywood Highsmith",
           "MIA"
          ],
          [
           "A.J. Green",
           "MIL"
          ],
          [
           "Jeremiah Robinson-Earl",
           "NOP"
          ],
          [
           "Kevin Knox II",
           "DET"
          ],
          [
           "Miles McBride",
           "NYK"
          ],
          [
           "Isaiah Livers",
           "DET"
          ],
          [
           "Brandon Boston Jr.",
           "LAC"
          ],
          [
           "JT Thor",
           "CHO"
          ],
          [
           "Aaron Wiggins",
           "OKC"
          ],
          [
           "Jose Alvarado",
           "NOP"
          ],
          [
           "E.J. Liddell",
           "NOP"
          ],
          [
           "Dru Smith",
           "MIA"
          ],
          [
           "Orlando Robinson",
           "MIA"
          ],
          [
           "Leonard Miller",
           "MIN"
          ],
          [
           "Skylar Mays",
           "TOT"
          ],
          [
           "Ryan Rollins",
           "TOT"
          ],
          [
           "Jaden Hardy",
           "DAL"
          ],
          [
           "Jabari Walker",
           "POR"
          ],
          [
           "Josh Minott",
           "MIN"
          ],
          [
           "Kenneth Lofton Jr.",
           "TOT"
          ],
          [
           "Max Christie",
           "LAL"
          ],
          [
           "Bryce McGowens",
           "CHO"
          ],
          [
           "Jalen Pickett",
           "DEN"
          ],
          [
           "Julian Phillips",
           "CHI"
          ],
          [
           "Matt Ryan",
           "NOP"
          ],
          [
           "Craig Porter Jr.",
           "CLE"
          ],
          [
           "Jared Butler",
           "WAS"
          ],
          [
           "Sidy Cissoko",
           "SAS"
          ],
          [
           "Hunter Tyson",
           "DEN"
          ],
          [
           "Jordan Walsh",
           "BOS"
          ],
          [
           "Rayan Rupert",
           "POR"
          ],
          [
           "Chris Livingston",
           "MIL"
          ],
          [
           "Maxwell Lewis",
           "LAL"
          ],
          [
           "Trayce Jackson-Davis",
           "GSW"
          ],
          [
           "Mouhamed Gueye",
           "ATL"
          ],
          [
           "Toumani Camara",
           "POR"
          ],
          [
           "Andre Jackson Jr.",
           "MIL"
          ],
          [
           "Kendall Brown",
           "IND"
          ],
          [
           "Gui Santos",
           "GSW"
          ],
          [
           "A.J. Lawson",
           "DAL"
          ],
          [
           "Eugene Omoruyi",
           "WAS"
          ],
          [
           "Ricky Council IV",
           "PHI"
          ],
          [
           "Jalen Wilson",
           "BRK"
          ],
          [
           "DaQuan Jeffries",
           "NYK"
          ],
          [
           "Lindy Waters III",
           "OKC"
          ],
          [
           "Keon Ellis",
           "SAC"
          ],
          [
           "Jack White",
           "MEM"
          ],
          [
           "Filip Petrusev",
           "TOT"
          ],
          [
           "Lester Quinones",
           "GSW"
          ],
          [
           "Stanley Umude",
           "DET"
          ],
          [
           "Trent Forrest",
           "ATL"
          ],
          [
           "Darius Bazley",
           "TOT"
          ],
          [
           "Onuralp Bitim",
           "CHI"
          ],
          [
           "Dominick Barlow",
           "SAS"
          ],
          [
           "Juan Toscano-Anderson",
           "SAC"
          ],
          [
           "Javon Freeman-Liberty",
           "TOR"
          ],
          [
           "Mamadi Diakite",
           "TOT"
          ],
          [
           "Neemias Queta",
           "BOS"
          ],
          [
           "T.J. Warren",
           "MIN"
          ],
          [
           "Danny Green",
           "PHI"
          ],
          [
           "Javonte Green",
           "CHI"
          ],
          [
           "Luka Garza",
           "MIN"
          ],
          [
           "Isaiah Thomas",
           "PHO"
          ],
          [
           "Hamidou Diallo",
           "WAS"
          ],
          [
           "Ashton Hagans",
           "POR"
          ],
          [
           "Tosan Evbuomwan",
           "TOT"
          ],
          [
           "Malik Williams",
           "TOR"
          ],
          [
           "Taze Moore",
           "POR"
          ],
          [
           "Pete Nance",
           "CLE"
          ]
         ],
         "hovertemplate": "agePlayer=%{x}<br>Salary=%{marker.color}<br>namePlayer=%{customdata[0]}<br>slugTeamBREF=%{customdata[1]}<extra></extra>",
         "legendgroup": "",
         "marker": {
          "color": [
           51915615,
           47649433,
           47607350,
           47607350,
           47607350,
           46741590,
           45640084,
           45640084,
           45640084,
           45640084,
           45183960,
           43219440,
           41000000,
           40806300,
           40600080,
           40064220,
           40064220,
           40064220,
           39270150,
           37893408,
           37893408,
           37037037,
           36861707,
           36016200,
           36016200,
           36016200,
           35802469,
           35680595,
           34005250,
           34005250,
           34005250,
           33833400,
           33833400,
           33386850,
           33386850,
           33319397,
           33162030,
           32600060,
           32600060,
           32600060,
           32459438,
           31830357,
           30800000,
           30600000,
           32478379,
           29320988,
           28600000,
           28226880,
           27586207,
           27455357,
           27102202,
           27000000,
           26346666,
           25679348,
           25568182,
           25340000,
           25000000,
           24360000,
           24330357,
           24107143,
           23883929,
           23487629,
           23205221,
           22627671,
           22500000,
           22321429,
           22266182,
           22000000,
           21700000,
           20975000,
           20616000,
           21911797,
           20089286,
           20000000,
           20000000,
           20000000,
           19928571,
           19845098,
           19500000,
           18857143,
           18833713,
           18700000,
           18642857,
           18560000,
           18518519,
           18357143,
           18214000,
           18154000,
           18000000,
           17897728,
           17400000,
           17325000,
           17307693,
           17259999,
           17429682,
           17000000,
           17000000,
           17000000,
           16875000,
           16847826,
           15740741,
           15681818,
           15669643,
           15435000,
           15384616,
           15277778,
           14763636,
           14704938,
           14487684,
           14000000,
           13932008,
           13750000,
           13534817,
           13050000,
           13000000,
           12960000,
           12950400,
           12500000,
           12500000,
           12405000,
           12405000,
           12402000,
           12195122,
           12160680,
           12119440,
           12100000,
           12046020,
           12015150,
           12015150,
           11750000,
           11710818,
           11710818,
           11692308,
           11608080,
           11571429,
           11111111,
           11055360,
           11020000,
           11014500,
           13033786,
           11000000,
           11000000,
           10933333,
           10900635,
           10900000,
           10880400,
           10576923,
           10500000,
           10500000,
           10489600,
           10386000,
           10375000,
           10250000,
           10000000,
           9945830,
           9895833,
           9891480,
           9835881,
           9800926,
           9770880,
           9625000,
           9600000,
           9500000,
           9460000,
           9423869,
           9326520,
           9245121,
           9219512,
           8925000,
           8920795,
           8882640,
           8809320,
           8800000,
           8715000,
           8700000,
           8409000,
           8856750,
           8109063,
           8008680,
           8000000,
           8000000,
           8000000,
           8000000,
           8638413,
           7977480,
           7921300,
           7723000,
           7723000,
           7700000,
           7614480,
           7560000,
           7500000,
           7413955,
           7252080,
           7245480,
           8670002,
           6916080,
           6803012,
           6802950,
           7464578,
           7267250,
           6718842,
           6614280,
           6587040,
           8519706,
           6500000,
           6481482,
           6341464,
           6313800,
           6300000,
           6263188,
           6250000,
           6190476,
           6175000,
           6059520,
           6012840,
           5887899,
           5808435,
           5784120,
           5722116,
           5709877,
           5634257,
           5569920,
           5539771,
           5508720,
           5370370,
           5316960,
           5291400,
           5266713,
           5266713,
           5063640,
           5050800,
           5043773,
           5026800,
           5574809,
           5000000,
           5754488,
           5000000,
           5475908,
           5000000,
           4810200,
           4798440,
           4775640,
           4765339,
           4698000,
           4687500,
           4570080,
           4558680,
           4556983,
           4536720,
           4516000,
           4516000,
           4379527,
           4343920,
           6105941,
           4330680,
           4310250,
           4310160,
           4306281,
           4171548,
           4124400,
           4114200,
           4094280,
           4037277,
           4000000,
           4000000,
           4000000,
           3918480,
           3908160,
           3901399,
           3889800,
           3873025,
           3845083,
           3835738,
           3835738,
           3722040,
           3712920,
           3695040,
           3666667,
           3536280,
           3527160,
           3510600,
           4010730,
           3360000,
           5379706,
           3359280,
           3352440,
           3350760,
           3218160,
           3199920,
           3196448,
           3196448,
           3191400,
           3089520,
           3071880,
           3044872,
           3000000,
           3000000,
           3000000,
           2966040,
           2949120,
           2925360,
           2891467,
           2847480,
           2831160,
           2815937,
           2808720,
           2800000,
           2733720,
           2718240,
           2709849,
           2696280,
           2624040,
           2609400,
           2600000,
           2600008,
           2586665,
           2586665,
           2581522,
           2537160,
           2528233,
           2528233,
           2504640,
           2463960,
           2448600,
           2439025,
           2431080,
           2424892,
           2421720,
           2413320,
           2413304,
           2400000,
           2385720,
           2352000,
           4368030,
           2346614,
           2346614,
           2346614,
           2337720,
           2320440,
           2320000,
           2306400,
           2303520,
           777703,
           2240160,
           2232308,
           2226240,
           2210040,
           2196970,
           2194200,
           2165000,
           2165000,
           2165000,
           2131905,
           2066585,
           2066585,
           2019706,
           2961636,
           2019706,
           2019706,
           2019706,
           2019706,
           2019706,
           2019706,
           2019706,
           2019706,
           2019706,
           2019706,
           2019706,
           2019706,
           2019706,
           2019706,
           2351562,
           2419706,
           2019706,
           2019706,
           2019706,
           2019706,
           2019706,
           2019706,
           2019706,
           2019706,
           2019706,
           2019706,
           2019706,
           2019706,
           2019706,
           2019706,
           2019706,
           2019706,
           2019706,
           2019706,
           2019706,
           2000000,
           2000000,
           2000000,
           1997238,
           1997238,
           1997238,
           1991428,
           1951220,
           1930681,
           1930681,
           1930681,
           1927896,
           1927896,
           1927896,
           1927896,
           1927896,
           1902137,
           1901769,
           684843,
           1845593,
           1836096,
           1836096,
           1836096,
           1836096,
           1836096,
           1836096,
           1801769,
           1801769,
           1801769,
           1800000,
           1799163,
           1719864,
           1719864,
           1719864,
           1719864,
           500000,
           1719864,
           1719864,
           1708143,
           1600000,
           1500000,
           1500000,
           1250000,
           1119563,
           1119563,
           1119563,
           1119563,
           1119563,
           1119563,
           1119563,
           1119563,
           1119563,
           1119563,
           1100000,
           1029483,
           1000000,
           900000,
           864353,
           850000,
           1324828,
           766095,
           683430,
           600000,
           559782,
           548815,
           538460,
           533945,
           616075,
           500000,
           455620,
           439581,
           289542,
           368600,
           331253,
           452693,
           200000,
           243758,
           127683,
           301795,
           116075,
           103550,
           135120,
           77212,
           64343,
           64343
          ],
          "coloraxis": "coloraxis",
          "size": [
           51915615,
           47649433,
           47607350,
           47607350,
           47607350,
           46741590,
           45640084,
           45640084,
           45640084,
           45640084,
           45183960,
           43219440,
           41000000,
           40806300,
           40600080,
           40064220,
           40064220,
           40064220,
           39270150,
           37893408,
           37893408,
           37037037,
           36861707,
           36016200,
           36016200,
           36016200,
           35802469,
           35680595,
           34005250,
           34005250,
           34005250,
           33833400,
           33833400,
           33386850,
           33386850,
           33319397,
           33162030,
           32600060,
           32600060,
           32600060,
           32459438,
           31830357,
           30800000,
           30600000,
           32478379,
           29320988,
           28600000,
           28226880,
           27586207,
           27455357,
           27102202,
           27000000,
           26346666,
           25679348,
           25568182,
           25340000,
           25000000,
           24360000,
           24330357,
           24107143,
           23883929,
           23487629,
           23205221,
           22627671,
           22500000,
           22321429,
           22266182,
           22000000,
           21700000,
           20975000,
           20616000,
           21911797,
           20089286,
           20000000,
           20000000,
           20000000,
           19928571,
           19845098,
           19500000,
           18857143,
           18833713,
           18700000,
           18642857,
           18560000,
           18518519,
           18357143,
           18214000,
           18154000,
           18000000,
           17897728,
           17400000,
           17325000,
           17307693,
           17259999,
           17429682,
           17000000,
           17000000,
           17000000,
           16875000,
           16847826,
           15740741,
           15681818,
           15669643,
           15435000,
           15384616,
           15277778,
           14763636,
           14704938,
           14487684,
           14000000,
           13932008,
           13750000,
           13534817,
           13050000,
           13000000,
           12960000,
           12950400,
           12500000,
           12500000,
           12405000,
           12405000,
           12402000,
           12195122,
           12160680,
           12119440,
           12100000,
           12046020,
           12015150,
           12015150,
           11750000,
           11710818,
           11710818,
           11692308,
           11608080,
           11571429,
           11111111,
           11055360,
           11020000,
           11014500,
           13033786,
           11000000,
           11000000,
           10933333,
           10900635,
           10900000,
           10880400,
           10576923,
           10500000,
           10500000,
           10489600,
           10386000,
           10375000,
           10250000,
           10000000,
           9945830,
           9895833,
           9891480,
           9835881,
           9800926,
           9770880,
           9625000,
           9600000,
           9500000,
           9460000,
           9423869,
           9326520,
           9245121,
           9219512,
           8925000,
           8920795,
           8882640,
           8809320,
           8800000,
           8715000,
           8700000,
           8409000,
           8856750,
           8109063,
           8008680,
           8000000,
           8000000,
           8000000,
           8000000,
           8638413,
           7977480,
           7921300,
           7723000,
           7723000,
           7700000,
           7614480,
           7560000,
           7500000,
           7413955,
           7252080,
           7245480,
           8670002,
           6916080,
           6803012,
           6802950,
           7464578,
           7267250,
           6718842,
           6614280,
           6587040,
           8519706,
           6500000,
           6481482,
           6341464,
           6313800,
           6300000,
           6263188,
           6250000,
           6190476,
           6175000,
           6059520,
           6012840,
           5887899,
           5808435,
           5784120,
           5722116,
           5709877,
           5634257,
           5569920,
           5539771,
           5508720,
           5370370,
           5316960,
           5291400,
           5266713,
           5266713,
           5063640,
           5050800,
           5043773,
           5026800,
           5574809,
           5000000,
           5754488,
           5000000,
           5475908,
           5000000,
           4810200,
           4798440,
           4775640,
           4765339,
           4698000,
           4687500,
           4570080,
           4558680,
           4556983,
           4536720,
           4516000,
           4516000,
           4379527,
           4343920,
           6105941,
           4330680,
           4310250,
           4310160,
           4306281,
           4171548,
           4124400,
           4114200,
           4094280,
           4037277,
           4000000,
           4000000,
           4000000,
           3918480,
           3908160,
           3901399,
           3889800,
           3873025,
           3845083,
           3835738,
           3835738,
           3722040,
           3712920,
           3695040,
           3666667,
           3536280,
           3527160,
           3510600,
           4010730,
           3360000,
           5379706,
           3359280,
           3352440,
           3350760,
           3218160,
           3199920,
           3196448,
           3196448,
           3191400,
           3089520,
           3071880,
           3044872,
           3000000,
           3000000,
           3000000,
           2966040,
           2949120,
           2925360,
           2891467,
           2847480,
           2831160,
           2815937,
           2808720,
           2800000,
           2733720,
           2718240,
           2709849,
           2696280,
           2624040,
           2609400,
           2600000,
           2600008,
           2586665,
           2586665,
           2581522,
           2537160,
           2528233,
           2528233,
           2504640,
           2463960,
           2448600,
           2439025,
           2431080,
           2424892,
           2421720,
           2413320,
           2413304,
           2400000,
           2385720,
           2352000,
           4368030,
           2346614,
           2346614,
           2346614,
           2337720,
           2320440,
           2320000,
           2306400,
           2303520,
           777703,
           2240160,
           2232308,
           2226240,
           2210040,
           2196970,
           2194200,
           2165000,
           2165000,
           2165000,
           2131905,
           2066585,
           2066585,
           2019706,
           2961636,
           2019706,
           2019706,
           2019706,
           2019706,
           2019706,
           2019706,
           2019706,
           2019706,
           2019706,
           2019706,
           2019706,
           2019706,
           2019706,
           2019706,
           2351562,
           2419706,
           2019706,
           2019706,
           2019706,
           2019706,
           2019706,
           2019706,
           2019706,
           2019706,
           2019706,
           2019706,
           2019706,
           2019706,
           2019706,
           2019706,
           2019706,
           2019706,
           2019706,
           2019706,
           2019706,
           2000000,
           2000000,
           2000000,
           1997238,
           1997238,
           1997238,
           1991428,
           1951220,
           1930681,
           1930681,
           1930681,
           1927896,
           1927896,
           1927896,
           1927896,
           1927896,
           1902137,
           1901769,
           684843,
           1845593,
           1836096,
           1836096,
           1836096,
           1836096,
           1836096,
           1836096,
           1801769,
           1801769,
           1801769,
           1800000,
           1799163,
           1719864,
           1719864,
           1719864,
           1719864,
           500000,
           1719864,
           1719864,
           1708143,
           1600000,
           1500000,
           1500000,
           1250000,
           1119563,
           1119563,
           1119563,
           1119563,
           1119563,
           1119563,
           1119563,
           1119563,
           1119563,
           1119563,
           1100000,
           1029483,
           1000000,
           900000,
           864353,
           850000,
           1324828,
           766095,
           683430,
           600000,
           559782,
           548815,
           538460,
           533945,
           616075,
           500000,
           455620,
           439581,
           289542,
           368600,
           331253,
           452693,
           200000,
           243758,
           127683,
           301795,
           116075,
           103550,
           135120,
           77212,
           64343,
           64343
          ],
          "sizemode": "area",
          "sizeref": 129789.0375,
          "symbol": "circle"
         },
         "mode": "markers",
         "name": "",
         "orientation": "v",
         "showlegend": false,
         "type": "scatter",
         "x": [
          35,
          35,
          28,
          29,
          39,
          30,
          29,
          32,
          33,
          33,
          34,
          33,
          31,
          29,
          30,
          25,
          24,
          28,
          31,
          27,
          29,
          31,
          33,
          27,
          28,
          28,
          32,
          34,
          23,
          24,
          24,
          26,
          26,
          25,
          25,
          33,
          27,
          26,
          26,
          25,
          25,
          27,
          38,
          27,
          37,
          32,
          34,
          29,
          29,
          24,
          24,
          24,
          27,
          27,
          28,
          26,
          35,
          36,
          28,
          24,
          23,
          31,
          29,
          28,
          31,
          33,
          28,
          27,
          27,
          27,
          29,
          30,
          26,
          24,
          25,
          34,
          32,
          31,
          28,
          31,
          29,
          31,
          26,
          25,
          33,
          29,
          27,
          29,
          30,
          31,
          26,
          25,
          27,
          26,
          34,
          31,
          31,
          25,
          29,
          25,
          25,
          25,
          25,
          31,
          29,
          24,
          27,
          30,
          27,
          27,
          30,
          32,
          22,
          24,
          29,
          28,
          24,
          27,
          24,
          25,
          30,
          25,
          32,
          20,
          22,
          28,
          30,
          25,
          25,
          31,
          28,
          35,
          33,
          21,
          26,
          23,
          22,
          23,
          38,
          32,
          32,
          36,
          26,
          22,
          27,
          21,
          27,
          27,
          26,
          32,
          21,
          31,
          26,
          37,
          25,
          24,
          21,
          22,
          28,
          19,
          24,
          37,
          30,
          29,
          31,
          20,
          25,
          30,
          28,
          23,
          22,
          21,
          30,
          31,
          31,
          23,
          31,
          23,
          22,
          28,
          28,
          25,
          26,
          35,
          21,
          25,
          30,
          24,
          26,
          21,
          28,
          27,
          22,
          22,
          20,
          31,
          21,
          25,
          28,
          35,
          35,
          28,
          19,
          21,
          29,
          28,
          24,
          28,
          20,
          30,
          23,
          23,
          28,
          29,
          20,
          21,
          23,
          23,
          20,
          22,
          27,
          24,
          20,
          23,
          22,
          26,
          20,
          20,
          22,
          25,
          25,
          21,
          23,
          20,
          22,
          26,
          31,
          33,
          27,
          33,
          22,
          20,
          19,
          23,
          24,
          25,
          23,
          22,
          24,
          20,
          26,
          29,
          24,
          23,
          21,
          20,
          30,
          21,
          23,
          24,
          26,
          23,
          20,
          26,
          32,
          33,
          24,
          21,
          22,
          23,
          20,
          25,
          25,
          35,
          35,
          24,
          20,
          20,
          26,
          21,
          22,
          22,
          32,
          30,
          26,
          23,
          20,
          21,
          19,
          22,
          35,
          35,
          22,
          19,
          20,
          28,
          25,
          22,
          28,
          19,
          22,
          22,
          30,
          23,
          22,
          25,
          21,
          25,
          21,
          22,
          28,
          22,
          23,
          23,
          23,
          21,
          29,
          28,
          25,
          22,
          26,
          33,
          20,
          19,
          20,
          26,
          21,
          20,
          22,
          24,
          28,
          27,
          23,
          20,
          36,
          26,
          28,
          29,
          21,
          22,
          27,
          23,
          21,
          36,
          22,
          23,
          21,
          22,
          26,
          23,
          23,
          24,
          25,
          24,
          24,
          24,
          21,
          38,
          37,
          24,
          35,
          30,
          24,
          24,
          28,
          25,
          27,
          31,
          31,
          35,
          33,
          27,
          26,
          26,
          32,
          29,
          29,
          35,
          34,
          34,
          35,
          25,
          24,
          25,
          25,
          26,
          26,
          37,
          24,
          35,
          27,
          32,
          23,
          21,
          21,
          27,
          27,
          31,
          24,
          19,
          27,
          23,
          26,
          25,
          25,
          23,
          29,
          25,
          26,
          27,
          24,
          23,
          24,
          23,
          25,
          22,
          21,
          25,
          25,
          23,
          26,
          23,
          20,
          26,
          21,
          21,
          21,
          21,
          21,
          20,
          21,
          24,
          20,
          26,
          23,
          23,
          19,
          23,
          19,
          19,
          20,
          21,
          23,
          21,
          23,
          22,
          20,
          21,
          23,
          26,
          22,
          23,
          26,
          26,
          24,
          26,
          23,
          23,
          24,
          25,
          23,
          24,
          20,
          30,
          24,
          27,
          24,
          30,
          36,
          30,
          25,
          34,
          25,
          24,
          22,
          25,
          25,
          23
         ],
         "xaxis": "x",
         "y": [
          51915615,
          47649433,
          47607350,
          47607350,
          47607350,
          46741590,
          45640084,
          45640084,
          45640084,
          45640084,
          45183960,
          43219440,
          41000000,
          40806300,
          40600080,
          40064220,
          40064220,
          40064220,
          39270150,
          37893408,
          37893408,
          37037037,
          36861707,
          36016200,
          36016200,
          36016200,
          35802469,
          35680595,
          34005250,
          34005250,
          34005250,
          33833400,
          33833400,
          33386850,
          33386850,
          33319397,
          33162030,
          32600060,
          32600060,
          32600060,
          32459438,
          31830357,
          30800000,
          30600000,
          32478379,
          29320988,
          28600000,
          28226880,
          27586207,
          27455357,
          27102202,
          27000000,
          26346666,
          25679348,
          25568182,
          25340000,
          25000000,
          24360000,
          24330357,
          24107143,
          23883929,
          23487629,
          23205221,
          22627671,
          22500000,
          22321429,
          22266182,
          22000000,
          21700000,
          20975000,
          20616000,
          21911797,
          20089286,
          20000000,
          20000000,
          20000000,
          19928571,
          19845098,
          19500000,
          18857143,
          18833713,
          18700000,
          18642857,
          18560000,
          18518519,
          18357143,
          18214000,
          18154000,
          18000000,
          17897728,
          17400000,
          17325000,
          17307693,
          17259999,
          17429682,
          17000000,
          17000000,
          17000000,
          16875000,
          16847826,
          15740741,
          15681818,
          15669643,
          15435000,
          15384616,
          15277778,
          14763636,
          14704938,
          14487684,
          14000000,
          13932008,
          13750000,
          13534817,
          13050000,
          13000000,
          12960000,
          12950400,
          12500000,
          12500000,
          12405000,
          12405000,
          12402000,
          12195122,
          12160680,
          12119440,
          12100000,
          12046020,
          12015150,
          12015150,
          11750000,
          11710818,
          11710818,
          11692308,
          11608080,
          11571429,
          11111111,
          11055360,
          11020000,
          11014500,
          13033786,
          11000000,
          11000000,
          10933333,
          10900635,
          10900000,
          10880400,
          10576923,
          10500000,
          10500000,
          10489600,
          10386000,
          10375000,
          10250000,
          10000000,
          9945830,
          9895833,
          9891480,
          9835881,
          9800926,
          9770880,
          9625000,
          9600000,
          9500000,
          9460000,
          9423869,
          9326520,
          9245121,
          9219512,
          8925000,
          8920795,
          8882640,
          8809320,
          8800000,
          8715000,
          8700000,
          8409000,
          8856750,
          8109063,
          8008680,
          8000000,
          8000000,
          8000000,
          8000000,
          8638413,
          7977480,
          7921300,
          7723000,
          7723000,
          7700000,
          7614480,
          7560000,
          7500000,
          7413955,
          7252080,
          7245480,
          8670002,
          6916080,
          6803012,
          6802950,
          7464578,
          7267250,
          6718842,
          6614280,
          6587040,
          8519706,
          6500000,
          6481482,
          6341464,
          6313800,
          6300000,
          6263188,
          6250000,
          6190476,
          6175000,
          6059520,
          6012840,
          5887899,
          5808435,
          5784120,
          5722116,
          5709877,
          5634257,
          5569920,
          5539771,
          5508720,
          5370370,
          5316960,
          5291400,
          5266713,
          5266713,
          5063640,
          5050800,
          5043773,
          5026800,
          5574809,
          5000000,
          5754488,
          5000000,
          5475908,
          5000000,
          4810200,
          4798440,
          4775640,
          4765339,
          4698000,
          4687500,
          4570080,
          4558680,
          4556983,
          4536720,
          4516000,
          4516000,
          4379527,
          4343920,
          6105941,
          4330680,
          4310250,
          4310160,
          4306281,
          4171548,
          4124400,
          4114200,
          4094280,
          4037277,
          4000000,
          4000000,
          4000000,
          3918480,
          3908160,
          3901399,
          3889800,
          3873025,
          3845083,
          3835738,
          3835738,
          3722040,
          3712920,
          3695040,
          3666667,
          3536280,
          3527160,
          3510600,
          4010730,
          3360000,
          5379706,
          3359280,
          3352440,
          3350760,
          3218160,
          3199920,
          3196448,
          3196448,
          3191400,
          3089520,
          3071880,
          3044872,
          3000000,
          3000000,
          3000000,
          2966040,
          2949120,
          2925360,
          2891467,
          2847480,
          2831160,
          2815937,
          2808720,
          2800000,
          2733720,
          2718240,
          2709849,
          2696280,
          2624040,
          2609400,
          2600000,
          2600008,
          2586665,
          2586665,
          2581522,
          2537160,
          2528233,
          2528233,
          2504640,
          2463960,
          2448600,
          2439025,
          2431080,
          2424892,
          2421720,
          2413320,
          2413304,
          2400000,
          2385720,
          2352000,
          4368030,
          2346614,
          2346614,
          2346614,
          2337720,
          2320440,
          2320000,
          2306400,
          2303520,
          777703,
          2240160,
          2232308,
          2226240,
          2210040,
          2196970,
          2194200,
          2165000,
          2165000,
          2165000,
          2131905,
          2066585,
          2066585,
          2019706,
          2961636,
          2019706,
          2019706,
          2019706,
          2019706,
          2019706,
          2019706,
          2019706,
          2019706,
          2019706,
          2019706,
          2019706,
          2019706,
          2019706,
          2019706,
          2351562,
          2419706,
          2019706,
          2019706,
          2019706,
          2019706,
          2019706,
          2019706,
          2019706,
          2019706,
          2019706,
          2019706,
          2019706,
          2019706,
          2019706,
          2019706,
          2019706,
          2019706,
          2019706,
          2019706,
          2019706,
          2000000,
          2000000,
          2000000,
          1997238,
          1997238,
          1997238,
          1991428,
          1951220,
          1930681,
          1930681,
          1930681,
          1927896,
          1927896,
          1927896,
          1927896,
          1927896,
          1902137,
          1901769,
          684843,
          1845593,
          1836096,
          1836096,
          1836096,
          1836096,
          1836096,
          1836096,
          1801769,
          1801769,
          1801769,
          1800000,
          1799163,
          1719864,
          1719864,
          1719864,
          1719864,
          500000,
          1719864,
          1719864,
          1708143,
          1600000,
          1500000,
          1500000,
          1250000,
          1119563,
          1119563,
          1119563,
          1119563,
          1119563,
          1119563,
          1119563,
          1119563,
          1119563,
          1119563,
          1100000,
          1029483,
          1000000,
          900000,
          864353,
          850000,
          1324828,
          766095,
          683430,
          600000,
          559782,
          548815,
          538460,
          533945,
          616075,
          500000,
          455620,
          439581,
          289542,
          368600,
          331253,
          452693,
          200000,
          243758,
          127683,
          301795,
          116075,
          103550,
          135120,
          77212,
          64343,
          64343
         ],
         "yaxis": "y"
        }
       ],
       "layout": {
        "coloraxis": {
         "colorbar": {
          "title": {
           "text": "Salary"
          }
         },
         "colorscale": [
          [
           0,
           "rgb(75, 41, 145)"
          ],
          [
           0.16666666666666666,
           "rgb(135, 44, 162)"
          ],
          [
           0.3333333333333333,
           "rgb(192, 54, 157)"
          ],
          [
           0.5,
           "rgb(234, 79, 136)"
          ],
          [
           0.6666666666666666,
           "rgb(250, 120, 118)"
          ],
          [
           0.8333333333333334,
           "rgb(246, 169, 122)"
          ],
          [
           1,
           "rgb(237, 217, 163)"
          ]
         ]
        },
        "height": 700,
        "legend": {
         "itemsizing": "constant",
         "tracegroupgap": 0
        },
        "margin": {
         "t": 60
        },
        "template": {
         "data": {
          "bar": [
           {
            "error_x": {
             "color": "#2a3f5f"
            },
            "error_y": {
             "color": "#2a3f5f"
            },
            "marker": {
             "line": {
              "color": "#E5ECF6",
              "width": 0.5
             },
             "pattern": {
              "fillmode": "overlay",
              "size": 10,
              "solidity": 0.2
             }
            },
            "type": "bar"
           }
          ],
          "barpolar": [
           {
            "marker": {
             "line": {
              "color": "#E5ECF6",
              "width": 0.5
             },
             "pattern": {
              "fillmode": "overlay",
              "size": 10,
              "solidity": 0.2
             }
            },
            "type": "barpolar"
           }
          ],
          "carpet": [
           {
            "aaxis": {
             "endlinecolor": "#2a3f5f",
             "gridcolor": "white",
             "linecolor": "white",
             "minorgridcolor": "white",
             "startlinecolor": "#2a3f5f"
            },
            "baxis": {
             "endlinecolor": "#2a3f5f",
             "gridcolor": "white",
             "linecolor": "white",
             "minorgridcolor": "white",
             "startlinecolor": "#2a3f5f"
            },
            "type": "carpet"
           }
          ],
          "choropleth": [
           {
            "colorbar": {
             "outlinewidth": 0,
             "ticks": ""
            },
            "type": "choropleth"
           }
          ],
          "contour": [
           {
            "colorbar": {
             "outlinewidth": 0,
             "ticks": ""
            },
            "colorscale": [
             [
              0,
              "#0d0887"
             ],
             [
              0.1111111111111111,
              "#46039f"
             ],
             [
              0.2222222222222222,
              "#7201a8"
             ],
             [
              0.3333333333333333,
              "#9c179e"
             ],
             [
              0.4444444444444444,
              "#bd3786"
             ],
             [
              0.5555555555555556,
              "#d8576b"
             ],
             [
              0.6666666666666666,
              "#ed7953"
             ],
             [
              0.7777777777777778,
              "#fb9f3a"
             ],
             [
              0.8888888888888888,
              "#fdca26"
             ],
             [
              1,
              "#f0f921"
             ]
            ],
            "type": "contour"
           }
          ],
          "contourcarpet": [
           {
            "colorbar": {
             "outlinewidth": 0,
             "ticks": ""
            },
            "type": "contourcarpet"
           }
          ],
          "heatmap": [
           {
            "colorbar": {
             "outlinewidth": 0,
             "ticks": ""
            },
            "colorscale": [
             [
              0,
              "#0d0887"
             ],
             [
              0.1111111111111111,
              "#46039f"
             ],
             [
              0.2222222222222222,
              "#7201a8"
             ],
             [
              0.3333333333333333,
              "#9c179e"
             ],
             [
              0.4444444444444444,
              "#bd3786"
             ],
             [
              0.5555555555555556,
              "#d8576b"
             ],
             [
              0.6666666666666666,
              "#ed7953"
             ],
             [
              0.7777777777777778,
              "#fb9f3a"
             ],
             [
              0.8888888888888888,
              "#fdca26"
             ],
             [
              1,
              "#f0f921"
             ]
            ],
            "type": "heatmap"
           }
          ],
          "heatmapgl": [
           {
            "colorbar": {
             "outlinewidth": 0,
             "ticks": ""
            },
            "colorscale": [
             [
              0,
              "#0d0887"
             ],
             [
              0.1111111111111111,
              "#46039f"
             ],
             [
              0.2222222222222222,
              "#7201a8"
             ],
             [
              0.3333333333333333,
              "#9c179e"
             ],
             [
              0.4444444444444444,
              "#bd3786"
             ],
             [
              0.5555555555555556,
              "#d8576b"
             ],
             [
              0.6666666666666666,
              "#ed7953"
             ],
             [
              0.7777777777777778,
              "#fb9f3a"
             ],
             [
              0.8888888888888888,
              "#fdca26"
             ],
             [
              1,
              "#f0f921"
             ]
            ],
            "type": "heatmapgl"
           }
          ],
          "histogram": [
           {
            "marker": {
             "pattern": {
              "fillmode": "overlay",
              "size": 10,
              "solidity": 0.2
             }
            },
            "type": "histogram"
           }
          ],
          "histogram2d": [
           {
            "colorbar": {
             "outlinewidth": 0,
             "ticks": ""
            },
            "colorscale": [
             [
              0,
              "#0d0887"
             ],
             [
              0.1111111111111111,
              "#46039f"
             ],
             [
              0.2222222222222222,
              "#7201a8"
             ],
             [
              0.3333333333333333,
              "#9c179e"
             ],
             [
              0.4444444444444444,
              "#bd3786"
             ],
             [
              0.5555555555555556,
              "#d8576b"
             ],
             [
              0.6666666666666666,
              "#ed7953"
             ],
             [
              0.7777777777777778,
              "#fb9f3a"
             ],
             [
              0.8888888888888888,
              "#fdca26"
             ],
             [
              1,
              "#f0f921"
             ]
            ],
            "type": "histogram2d"
           }
          ],
          "histogram2dcontour": [
           {
            "colorbar": {
             "outlinewidth": 0,
             "ticks": ""
            },
            "colorscale": [
             [
              0,
              "#0d0887"
             ],
             [
              0.1111111111111111,
              "#46039f"
             ],
             [
              0.2222222222222222,
              "#7201a8"
             ],
             [
              0.3333333333333333,
              "#9c179e"
             ],
             [
              0.4444444444444444,
              "#bd3786"
             ],
             [
              0.5555555555555556,
              "#d8576b"
             ],
             [
              0.6666666666666666,
              "#ed7953"
             ],
             [
              0.7777777777777778,
              "#fb9f3a"
             ],
             [
              0.8888888888888888,
              "#fdca26"
             ],
             [
              1,
              "#f0f921"
             ]
            ],
            "type": "histogram2dcontour"
           }
          ],
          "mesh3d": [
           {
            "colorbar": {
             "outlinewidth": 0,
             "ticks": ""
            },
            "type": "mesh3d"
           }
          ],
          "parcoords": [
           {
            "line": {
             "colorbar": {
              "outlinewidth": 0,
              "ticks": ""
             }
            },
            "type": "parcoords"
           }
          ],
          "pie": [
           {
            "automargin": true,
            "type": "pie"
           }
          ],
          "scatter": [
           {
            "fillpattern": {
             "fillmode": "overlay",
             "size": 10,
             "solidity": 0.2
            },
            "type": "scatter"
           }
          ],
          "scatter3d": [
           {
            "line": {
             "colorbar": {
              "outlinewidth": 0,
              "ticks": ""
             }
            },
            "marker": {
             "colorbar": {
              "outlinewidth": 0,
              "ticks": ""
             }
            },
            "type": "scatter3d"
           }
          ],
          "scattercarpet": [
           {
            "marker": {
             "colorbar": {
              "outlinewidth": 0,
              "ticks": ""
             }
            },
            "type": "scattercarpet"
           }
          ],
          "scattergeo": [
           {
            "marker": {
             "colorbar": {
              "outlinewidth": 0,
              "ticks": ""
             }
            },
            "type": "scattergeo"
           }
          ],
          "scattergl": [
           {
            "marker": {
             "colorbar": {
              "outlinewidth": 0,
              "ticks": ""
             }
            },
            "type": "scattergl"
           }
          ],
          "scattermapbox": [
           {
            "marker": {
             "colorbar": {
              "outlinewidth": 0,
              "ticks": ""
             }
            },
            "type": "scattermapbox"
           }
          ],
          "scatterpolar": [
           {
            "marker": {
             "colorbar": {
              "outlinewidth": 0,
              "ticks": ""
             }
            },
            "type": "scatterpolar"
           }
          ],
          "scatterpolargl": [
           {
            "marker": {
             "colorbar": {
              "outlinewidth": 0,
              "ticks": ""
             }
            },
            "type": "scatterpolargl"
           }
          ],
          "scatterternary": [
           {
            "marker": {
             "colorbar": {
              "outlinewidth": 0,
              "ticks": ""
             }
            },
            "type": "scatterternary"
           }
          ],
          "surface": [
           {
            "colorbar": {
             "outlinewidth": 0,
             "ticks": ""
            },
            "colorscale": [
             [
              0,
              "#0d0887"
             ],
             [
              0.1111111111111111,
              "#46039f"
             ],
             [
              0.2222222222222222,
              "#7201a8"
             ],
             [
              0.3333333333333333,
              "#9c179e"
             ],
             [
              0.4444444444444444,
              "#bd3786"
             ],
             [
              0.5555555555555556,
              "#d8576b"
             ],
             [
              0.6666666666666666,
              "#ed7953"
             ],
             [
              0.7777777777777778,
              "#fb9f3a"
             ],
             [
              0.8888888888888888,
              "#fdca26"
             ],
             [
              1,
              "#f0f921"
             ]
            ],
            "type": "surface"
           }
          ],
          "table": [
           {
            "cells": {
             "fill": {
              "color": "#EBF0F8"
             },
             "line": {
              "color": "white"
             }
            },
            "header": {
             "fill": {
              "color": "#C8D4E3"
             },
             "line": {
              "color": "white"
             }
            },
            "type": "table"
           }
          ]
         },
         "layout": {
          "annotationdefaults": {
           "arrowcolor": "#2a3f5f",
           "arrowhead": 0,
           "arrowwidth": 1
          },
          "autotypenumbers": "strict",
          "coloraxis": {
           "colorbar": {
            "outlinewidth": 0,
            "ticks": ""
           }
          },
          "colorscale": {
           "diverging": [
            [
             0,
             "#8e0152"
            ],
            [
             0.1,
             "#c51b7d"
            ],
            [
             0.2,
             "#de77ae"
            ],
            [
             0.3,
             "#f1b6da"
            ],
            [
             0.4,
             "#fde0ef"
            ],
            [
             0.5,
             "#f7f7f7"
            ],
            [
             0.6,
             "#e6f5d0"
            ],
            [
             0.7,
             "#b8e186"
            ],
            [
             0.8,
             "#7fbc41"
            ],
            [
             0.9,
             "#4d9221"
            ],
            [
             1,
             "#276419"
            ]
           ],
           "sequential": [
            [
             0,
             "#0d0887"
            ],
            [
             0.1111111111111111,
             "#46039f"
            ],
            [
             0.2222222222222222,
             "#7201a8"
            ],
            [
             0.3333333333333333,
             "#9c179e"
            ],
            [
             0.4444444444444444,
             "#bd3786"
            ],
            [
             0.5555555555555556,
             "#d8576b"
            ],
            [
             0.6666666666666666,
             "#ed7953"
            ],
            [
             0.7777777777777778,
             "#fb9f3a"
            ],
            [
             0.8888888888888888,
             "#fdca26"
            ],
            [
             1,
             "#f0f921"
            ]
           ],
           "sequentialminus": [
            [
             0,
             "#0d0887"
            ],
            [
             0.1111111111111111,
             "#46039f"
            ],
            [
             0.2222222222222222,
             "#7201a8"
            ],
            [
             0.3333333333333333,
             "#9c179e"
            ],
            [
             0.4444444444444444,
             "#bd3786"
            ],
            [
             0.5555555555555556,
             "#d8576b"
            ],
            [
             0.6666666666666666,
             "#ed7953"
            ],
            [
             0.7777777777777778,
             "#fb9f3a"
            ],
            [
             0.8888888888888888,
             "#fdca26"
            ],
            [
             1,
             "#f0f921"
            ]
           ]
          },
          "colorway": [
           "#636efa",
           "#EF553B",
           "#00cc96",
           "#ab63fa",
           "#FFA15A",
           "#19d3f3",
           "#FF6692",
           "#B6E880",
           "#FF97FF",
           "#FECB52"
          ],
          "font": {
           "color": "#2a3f5f"
          },
          "geo": {
           "bgcolor": "white",
           "lakecolor": "white",
           "landcolor": "#E5ECF6",
           "showlakes": true,
           "showland": true,
           "subunitcolor": "white"
          },
          "hoverlabel": {
           "align": "left"
          },
          "hovermode": "closest",
          "mapbox": {
           "style": "light"
          },
          "paper_bgcolor": "white",
          "plot_bgcolor": "#E5ECF6",
          "polar": {
           "angularaxis": {
            "gridcolor": "white",
            "linecolor": "white",
            "ticks": ""
           },
           "bgcolor": "#E5ECF6",
           "radialaxis": {
            "gridcolor": "white",
            "linecolor": "white",
            "ticks": ""
           }
          },
          "scene": {
           "xaxis": {
            "backgroundcolor": "#E5ECF6",
            "gridcolor": "white",
            "gridwidth": 2,
            "linecolor": "white",
            "showbackground": true,
            "ticks": "",
            "zerolinecolor": "white"
           },
           "yaxis": {
            "backgroundcolor": "#E5ECF6",
            "gridcolor": "white",
            "gridwidth": 2,
            "linecolor": "white",
            "showbackground": true,
            "ticks": "",
            "zerolinecolor": "white"
           },
           "zaxis": {
            "backgroundcolor": "#E5ECF6",
            "gridcolor": "white",
            "gridwidth": 2,
            "linecolor": "white",
            "showbackground": true,
            "ticks": "",
            "zerolinecolor": "white"
           }
          },
          "shapedefaults": {
           "line": {
            "color": "#2a3f5f"
           }
          },
          "ternary": {
           "aaxis": {
            "gridcolor": "white",
            "linecolor": "white",
            "ticks": ""
           },
           "baxis": {
            "gridcolor": "white",
            "linecolor": "white",
            "ticks": ""
           },
           "bgcolor": "#E5ECF6",
           "caxis": {
            "gridcolor": "white",
            "linecolor": "white",
            "ticks": ""
           }
          },
          "title": {
           "x": 0.05
          },
          "xaxis": {
           "automargin": true,
           "gridcolor": "white",
           "linecolor": "white",
           "ticks": "",
           "title": {
            "standoff": 15
           },
           "zerolinecolor": "white",
           "zerolinewidth": 2
          },
          "yaxis": {
           "automargin": true,
           "gridcolor": "white",
           "linecolor": "white",
           "ticks": "",
           "title": {
            "standoff": 15
           },
           "zerolinecolor": "white",
           "zerolinewidth": 2
          }
         }
        },
        "xaxis": {
         "anchor": "y",
         "domain": [
          0,
          1
         ],
         "title": {
          "text": "agePlayer"
         }
        },
        "yaxis": {
         "anchor": "x",
         "domain": [
          0,
          1
         ],
         "title": {
          "text": "Salary"
         }
        }
       }
      }
     },
     "metadata": {},
     "output_type": "display_data"
    }
   ],
   "source": [
    "# Visualizar el salario de los jugadores de acuerdo a su edad\n",
    "fig = px.scatter(SS, x=\"agePlayer\", y=\"Salary\", color = \"Salary\",\n",
    "                 size='Salary', hover_data=['namePlayer','slugTeamBREF'], color_continuous_scale=px.colors.sequential.Agsunset, height=700)\n",
    "fig.show()"
   ]
  },
  {
   "cell_type": "code",
   "execution_count": 82,
   "metadata": {},
   "outputs": [
    {
     "data": {
      "application/vnd.plotly.v1+json": {
       "config": {
        "plotlyServerURL": "https://plot.ly"
       },
       "data": [
        {
         "customdata": [
          [
           "Stephen Curry"
          ],
          [
           "Kevin Durant"
          ],
          [
           "Nikola Jokic"
          ],
          [
           "Joel Embiid"
          ],
          [
           "LeBron James"
          ],
          [
           "Bradley Beal"
          ],
          [
           "Giannis Antetokounmpo"
          ],
          [
           "Kawhi Leonard"
          ],
          [
           "Damian Lillard"
          ],
          [
           "Paul George"
          ],
          [
           "Jimmy Butler"
          ],
          [
           "Klay Thompson"
          ],
          [
           "Rudy Gobert"
          ],
          [
           "Fred VanVleet"
          ],
          [
           "Anthony Davis"
          ],
          [
           "Trae Young"
          ],
          [
           "Luka Doncic"
          ],
          [
           "Zach LaVine"
          ],
          [
           "Tobias Harris"
          ],
          [
           "Ben Simmons"
          ],
          [
           "Pascal Siakam"
          ],
          [
           "Kyrie Irving"
          ],
          [
           "Jrue Holiday"
          ],
          [
           "Devin Booker"
          ],
          [
           "Karl-Anthony Towns"
          ],
          [
           "Kristaps Porzingis"
          ],
          [
           "CJ McCollum"
          ],
          [
           "James Harden"
          ],
          [
           "Zion Williamson"
          ],
          [
           "Ja Morant"
          ],
          [
           "Darius Garland"
          ],
          [
           "Brandon Ingram"
          ],
          [
           "Jamal Murray"
          ],
          [
           "Shai Gilgeous-Alexander"
          ],
          [
           "Michael Porter Jr."
          ],
          [
           "Gordon Hayward"
          ],
          [
           "Donovan Mitchell"
          ],
          [
           "De'Aaron Fox"
          ],
          [
           "Bam Adebayo"
          ],
          [
           "Jayson Tatum"
          ],
          [
           "Deandre Ayton"
          ],
          [
           "Jaylen Brown"
          ],
          [
           "Chris Paul"
          ],
          [
           "Domantas Sabonis"
          ],
          [
           "Kyle Lowry"
          ],
          [
           "Khris Middleton"
          ],
          [
           "DeMar DeRozan"
          ],
          [
           "Julius Randle"
          ],
          [
           "Jerami Grant"
          ],
          [
           "Jordan Poole"
          ],
          [
           "Jaren Jackson Jr."
          ],
          [
           "Tyler Herro"
          ],
          [
           "Jalen Brunson"
          ],
          [
           "Cameron Johnson"
          ],
          [
           "Kyle Kuzma"
          ],
          [
           "John Collins"
          ],
          [
           "Brook Lopez"
          ],
          [
           "Mike Conley"
          ],
          [
           "Andrew Wiggins"
          ],
          [
           "Anfernee Simons"
          ],
          [
           "RJ Barrett"
          ],
          [
           "Jordan Clarkson"
          ],
          [
           "Terry Rozier"
          ],
          [
           "Dillon Brooks"
          ],
          [
           "Malcolm Brogdon"
          ],
          [
           "Draymond Green"
          ],
          [
           "Aaron Gordon"
          ],
          [
           "Bruce Brown"
          ],
          [
           "Mikal Bridges"
          ],
          [
           "Myles Turner"
          ],
          [
           "Clint Capela"
          ],
          [
           "Spencer Dinwiddie"
          ],
          [
           "De'Andre Hunter"
          ],
          [
           "Keldon Johnson"
          ],
          [
           "Jarrett Allen"
          ],
          [
           "Bojan Bogdanovic"
          ],
          [
           "Joe Harris"
          ],
          [
           "Buddy Hield"
          ],
          [
           "Jakob Poeltl"
          ],
          [
           "Evan Fournier"
          ],
          [
           "Marcus Smart"
          ],
          [
           "Bogdan Bogdanovic"
          ],
          [
           "OG Anunoby"
          ],
          [
           "Gary Trent Jr."
          ],
          [
           "Nikola Vucevic"
          ],
          [
           "Derrick White"
          ],
          [
           "Dejounte Murray"
          ],
          [
           "Duncan Robinson"
          ],
          [
           "Norman Powell"
          ],
          [
           "Tim Hardaway Jr."
          ],
          [
           "Jonathan Isaac"
          ],
          [
           "Collin Sexton"
          ],
          [
           "D'Angelo Russell"
          ],
          [
           "Lauri Markkanen"
          ],
          [
           "Marcus Morris Sr."
          ],
          [
           "Harrison Barnes"
          ],
          [
           "Davis Bertans"
          ],
          [
           "Markelle Fultz"
          ],
          [
           "Jusuf Nurkic"
          ],
          [
           "P.J. Washington"
          ],
          [
           "Rui Hachimura"
          ],
          [
           "Mitchell Robinson"
          ],
          [
           "Kevin Huerter"
          ],
          [
           "Jonas Valanciunas"
          ],
          [
           "Caris LeVert"
          ],
          [
           "Luguentz Dort"
          ],
          [
           "Luke Kennard"
          ],
          [
           "Kentavious Caldwell-Pope"
          ],
          [
           "Max Strus"
          ],
          [
           "Tyus Jones"
          ],
          [
           "Dorian Finney-Smith"
          ],
          [
           "Doug McDermott"
          ],
          [
           "Anthony Edwards"
          ],
          [
           "Wendell Carter Jr."
          ],
          [
           "Gary Harris"
          ],
          [
           "Josh Hart"
          ],
          [
           "Naz Reid"
          ],
          [
           "Brandon Clarke"
          ],
          [
           "Marvin Bagley III"
          ],
          [
           "Grant Williams"
          ],
          [
           "Dennis Schroder"
          ],
          [
           "Daniel Gafford"
          ],
          [
           "Kelly Olynyk"
          ],
          [
           "Victor Wembanyama"
          ],
          [
           "James Wiseman"
          ],
          [
           "Devonte' Graham"
          ],
          [
           "Richaun Holmes"
          ],
          [
           "Herbert Jones"
          ],
          [
           "Austin Reaves"
          ],
          [
           "Chris Boucher"
          ],
          [
           "Bobby Portis"
          ],
          [
           "Nicolas Batum"
          ],
          [
           "Robert Covington"
          ],
          [
           "Paolo Banchero"
          ],
          [
           "Robert Williams III"
          ],
          [
           "Coby White"
          ],
          [
           "Cade Cunningham"
          ],
          [
           "Talen Horton-Tucker"
          ],
          [
           "P.J. Tucker"
          ],
          [
           "Reggie Bullock"
          ],
          [
           "Maxi Kleber"
          ],
          [
           "Joe Ingles"
          ],
          [
           "Ivica Zubac"
          ],
          [
           "LaMelo Ball"
          ],
          [
           "Donte DiVincenzo"
          ],
          [
           "Brandon Miller"
          ],
          [
           "Terance Mann"
          ],
          [
           "Gabe Vincent"
          ],
          [
           "Matisse Thybulle"
          ],
          [
           "Alec Burks"
          ],
          [
           "Chet Holmgren"
          ],
          [
           "Larry Nance Jr."
          ],
          [
           "Landry Shamet"
          ],
          [
           "Al Horford"
          ],
          [
           "Malik Monk"
          ],
          [
           "Tre Jones"
          ],
          [
           "Jalen Green"
          ],
          [
           "Patrick Williams"
          ],
          [
           "Monte Morris"
          ],
          [
           "Scoot Henderson"
          ],
          [
           "Nic Claxton"
          ],
          [
           "Jeff Green"
          ],
          [
           "Royce O'Neale"
          ],
          [
           "Alex Caruso"
          ],
          [
           "Pat Connaughton"
          ],
          [
           "Jabari Smith Jr."
          ],
          [
           "Isaiah Hartenstein"
          ],
          [
           "Kyle Anderson"
          ],
          [
           "Grayson Allen"
          ],
          [
           "Isaac Okoro"
          ],
          [
           "Evan Mobley"
          ],
          [
           "Amen Thompson"
          ],
          [
           "Georges Niang"
          ],
          [
           "Gary Payton II"
          ],
          [
           "T.J. McConnell"
          ],
          [
           "Keegan Murray"
          ],
          [
           "Delon Wright"
          ],
          [
           "Onyeka Okongwu"
          ],
          [
           "Scottie Barnes"
          ],
          [
           "Jock Landale"
          ],
          [
           "Trey Lyles"
          ],
          [
           "De'Anthony Melton"
          ],
          [
           "Moritz Wagner"
          ],
          [
           "Thaddeus Young"
          ],
          [
           "Ausar Thompson"
          ],
          [
           "Miles Bridges"
          ],
          [
           "Vasilije Micic"
          ],
          [
           "Paul Reed"
          ],
          [
           "Zach Collins"
          ],
          [
           "Jaden Ivey"
          ],
          [
           "Cody Martin"
          ],
          [
           "Kevon Looney"
          ],
          [
           "Killian Hayes"
          ],
          [
           "Jalen Suggs"
          ],
          [
           "Anthony Black"
          ],
          [
           "Daniel Theis"
          ],
          [
           "Bennedict Mathurin"
          ],
          [
           "Obi Toppin"
          ],
          [
           "Caleb Martin"
          ],
          [
           "Danilo Gallinari"
          ],
          [
           "Patty Mills"
          ],
          [
           "Cedi Osman"
          ],
          [
           "Bilal Coulibaly"
          ],
          [
           "Josh Giddey"
          ],
          [
           "Cameron Payne"
          ],
          [
           "Jae'Sean Tate"
          ],
          [
           "Ayo Dosunmu"
          ],
          [
           "Sasha Vezenkov"
          ],
          [
           "Shaedon Sharpe"
          ],
          [
           "Otto Porter Jr."
          ],
          [
           "Deni Avdija"
          ],
          [
           "Nassir Little"
          ],
          [
           "Jevon Carter"
          ],
          [
           "Kenrich Williams"
          ],
          [
           "Jarace Walker"
          ],
          [
           "Jonathan Kuminga"
          ],
          [
           "Devin Vassell"
          ],
          [
           "Tyrese Haliburton"
          ],
          [
           "Dyson Daniels"
          ],
          [
           "Kira Lewis Jr."
          ],
          [
           "Dean Wade"
          ],
          [
           "Aaron Nesmith"
          ],
          [
           "Taylor Hendricks"
          ],
          [
           "Cole Anthony"
          ],
          [
           "Franz Wagner"
          ],
          [
           "Furkan Korkmaz"
          ],
          [
           "Jeremy Sochan"
          ],
          [
           "Cason Wallace"
          ],
          [
           "Isaiah Stewart"
          ],
          [
           "Chuma Okeke"
          ],
          [
           "Davion Mitchell"
          ],
          [
           "Johnny Davis"
          ],
          [
           "Jalen Smith"
          ],
          [
           "Jett Howard"
          ],
          [
           "Aleksej Pokusevski"
          ],
          [
           "Nick Richards"
          ],
          [
           "Bismack Biyombo"
          ],
          [
           "Mason Plumlee"
          ],
          [
           "Shake Milton"
          ],
          [
           "Reggie Jackson"
          ],
          [
           "Ziaire Williams"
          ],
          [
           "Ousmane Dieng"
          ],
          [
           "Dereck Lively II"
          ],
          [
           "Josh Green"
          ],
          [
           "Jarred Vanderbilt"
          ],
          [
           "Nickeil Alexander-Walker"
          ],
          [
           "James Bouknight"
          ],
          [
           "Jalen Williams"
          ],
          [
           "Saddiq Bey"
          ],
          [
           "Gradey Dick"
          ],
          [
           "Jalen McDaniels"
          ],
          [
           "Taurean Prince"
          ],
          [
           "Precious Achiuwa"
          ],
          [
           "Tyrese Maxey"
          ],
          [
           "Joshua Primo"
          ],
          [
           "Jalen Duren"
          ],
          [
           "Danuel House Jr."
          ],
          [
           "Jordan Hawkins"
          ],
          [
           "Zeke Nnaji"
          ],
          [
           "Immanuel Quickley"
          ],
          [
           "Chris Duarte"
          ],
          [
           "Ochai Agbaji"
          ],
          [
           "Kobe Bufkin"
          ],
          [
           "Payton Pritchard"
          ],
          [
           "Dwight Powell"
          ],
          [
           "Seth Curry"
          ],
          [
           "Troy Brown Jr."
          ],
          [
           "Moses Moody"
          ],
          [
           "Mark Williams"
          ],
          [
           "Jaden McDaniels"
          ],
          [
           "Keyonte George"
          ],
          [
           "Malachi Flynn"
          ],
          [
           "Desmond Bane"
          ],
          [
           "Kevin Love"
          ],
          [
           "Russell Westbrook"
          ],
          [
           "Corey Kispert"
          ],
          [
           "AJ Griffin"
          ],
          [
           "Jalen Hood-Schifino"
          ],
          [
           "Amir Coffey"
          ],
          [
           "Alperen Sengun"
          ],
          [
           "Tari Eason"
          ],
          [
           "Jaime Jaquez Jr."
          ],
          [
           "Mike Muscala"
          ],
          [
           "Andre Drummond"
          ],
          [
           "Derrick Jones Jr."
          ],
          [
           "Trey Murphy III"
          ],
          [
           "Brandin Podziemski"
          ],
          [
           "Dalen Terry"
          ],
          [
           "Cam Whitmore"
          ],
          [
           "Jake LaRavia"
          ],
          [
           "Derrick Rose"
          ],
          [
           "Eric Gordon"
          ],
          [
           "Tre Mann"
          ],
          [
           "Noah Clowney"
          ],
          [
           "Malaki Branham"
          ],
          [
           "Simone Fontecchio"
          ],
          [
           "Jordan Nwora"
          ],
          [
           "Julian Champagnie"
          ],
          [
           "Dante Exum"
          ],
          [
           "Dariq Whitehead"
          ],
          [
           "Christian Braun"
          ],
          [
           "Jalen Johnson"
          ],
          [
           "Josh Richardson"
          ],
          [
           "Kris Murray"
          ],
          [
           "Walker Kessler"
          ],
          [
           "Josh Okogie"
          ],
          [
           "Keon Johnson"
          ],
          [
           "Omer Yurtseven"
          ],
          [
           "Olivier-Maxence Prosper"
          ],
          [
           "David Roddy"
          ],
          [
           "Christian Wood"
          ],
          [
           "Isaiah Jackson"
          ],
          [
           "Marcus Sasser"
          ],
          [
           "MarJon Beauchamp"
          ],
          [
           "Charles Bassey"
          ],
          [
           "Usman Garuba"
          ],
          [
           "Kris Dunn"
          ],
          [
           "Damian Jones"
          ],
          [
           "Bruno Fernando"
          ],
          [
           "Ben Sheppard"
          ],
          [
           "Thomas Bryant"
          ],
          [
           "Torrey Craig"
          ],
          [
           "Blake Wesley"
          ],
          [
           "Nick Smith Jr."
          ],
          [
           "Brice Sensabaugh"
          ],
          [
           "Ty Jerome"
          ],
          [
           "Julian Strawther"
          ],
          [
           "Tristan Vukcevic"
          ],
          [
           "Wendell Moore Jr."
          ],
          [
           "Kobe Brown"
          ],
          [
           "Luke Kornet"
          ],
          [
           "John Konchar"
          ],
          [
           "Quentin Grimes"
          ],
          [
           "Nikola Jovic"
          ],
          [
           "JaVale McGee"
          ],
          [
           "Drew Eubanks"
          ],
          [
           "Keita Bates-Diop"
          ],
          [
           "Yuta Watanabe"
          ],
          [
           "Patrick Baldwin Jr."
          ],
          [
           "TyTy Washington Jr."
          ],
          [
           "Jordan McLaughlin"
          ],
          [
           "Bones Hyland"
          ],
          [
           "Peyton Watson"
          ],
          [
           "James Johnson"
          ],
          [
           "Cam Thomas"
          ],
          [
           "Vince Williams Jr."
          ],
          [
           "Jaden Springer"
          ],
          [
           "Day'Ron Sharpe"
          ],
          [
           "Jeff Dowtin"
          ],
          [
           "Santi Aldama"
          ],
          [
           "Jaxson Hayes"
          ],
          [
           "Cam Reddish"
          ],
          [
           "Oshae Brissett"
          ],
          [
           "Andrew Nembhard"
          ],
          [
           "Luka Samanic"
          ],
          [
           "Goga Bitadze"
          ],
          [
           "Colby Jones"
          ],
          [
           "Taj Gibson"
          ],
          [
           "Garrett Temple"
          ],
          [
           "Sandro Mamukelashvili"
          ],
          [
           "Robin Lopez"
          ],
          [
           "Alex Len"
          ],
          [
           "Dalano Banton"
          ],
          [
           "Bol Bol"
          ],
          [
           "Kelly Oubre Jr."
          ],
          [
           "Mo Bamba"
          ],
          [
           "Dylan Windler"
          ],
          [
           "Cody Zeller"
          ],
          [
           "Thanasis Antetokounmpo"
          ],
          [
           "Patrick Beverley"
          ],
          [
           "Jae Crowder"
          ],
          [
           "Malik Beasley"
          ],
          [
           "Chimezie Metu"
          ],
          [
           "Lamar Stevens"
          ],
          [
           "Cory Joseph"
          ],
          [
           "Dario Saric"
          ],
          [
           "Ryan Arcidiacono"
          ],
          [
           "DeAndre Jordan"
          ],
          [
           "Justin Holiday"
          ],
          [
           "Markieff Morris"
          ],
          [
           "Ish Smith"
          ],
          [
           "Frank Ntilikina"
          ],
          [
           "Terry Taylor"
          ],
          [
           "Harry Giles III"
          ],
          [
           "Lonnie Walker IV"
          ],
          [
           "Dennis Smith Jr."
          ],
          [
           "Svi Mykhailiuk"
          ],
          [
           "Wesley Matthews"
          ],
          [
           "Moses Brown"
          ],
          [
           "Boban Marjanovic"
          ],
          [
           "Aaron Holiday"
          ],
          [
           "Tristan Thompson"
          ],
          [
           "Trendon Watford"
          ],
          [
           "Caleb Houstan"
          ],
          [
           "Jaylin Williams"
          ],
          [
           "Garrison Mathews"
          ],
          [
           "Sam Merrill"
          ],
          [
           "Anthony Gill"
          ],
          [
           "Isaiah Joe"
          ],
          [
           "GG Jackson II"
          ],
          [
           "Duop Reath"
          ],
          [
           "KJ Martin"
          ],
          [
           "Naji Marshall"
          ],
          [
           "Xavier Tillman Sr."
          ],
          [
           "Jordan Goodwin"
          ],
          [
           "Kessler Edwards"
          ],
          [
           "Ish Wainright"
          ],
          [
           "Jericho Sims"
          ],
          [
           "Sam Hauser"
          ],
          [
           "Haywood Highsmith"
          ],
          [
           "A.J. Green"
          ],
          [
           "Jeremiah Robinson-Earl"
          ],
          [
           "Kevin Knox II"
          ],
          [
           "Miles McBride"
          ],
          [
           "Isaiah Livers"
          ],
          [
           "Brandon Boston Jr."
          ],
          [
           "JT Thor"
          ],
          [
           "Aaron Wiggins"
          ],
          [
           "Jose Alvarado"
          ],
          [
           "E.J. Liddell"
          ],
          [
           "Dru Smith"
          ],
          [
           "Orlando Robinson"
          ],
          [
           "Leonard Miller"
          ],
          [
           "Skylar Mays"
          ],
          [
           "Ryan Rollins"
          ],
          [
           "Jaden Hardy"
          ],
          [
           "Jabari Walker"
          ],
          [
           "Josh Minott"
          ],
          [
           "Kenneth Lofton Jr."
          ],
          [
           "Max Christie"
          ],
          [
           "Bryce McGowens"
          ],
          [
           "Jalen Pickett"
          ],
          [
           "Julian Phillips"
          ],
          [
           "Matt Ryan"
          ],
          [
           "Craig Porter Jr."
          ],
          [
           "Jared Butler"
          ],
          [
           "Sidy Cissoko"
          ],
          [
           "Hunter Tyson"
          ],
          [
           "Jordan Walsh"
          ],
          [
           "Rayan Rupert"
          ],
          [
           "Chris Livingston"
          ],
          [
           "Maxwell Lewis"
          ],
          [
           "Trayce Jackson-Davis"
          ],
          [
           "Mouhamed Gueye"
          ],
          [
           "Toumani Camara"
          ],
          [
           "Andre Jackson Jr."
          ],
          [
           "Kendall Brown"
          ],
          [
           "Gui Santos"
          ],
          [
           "A.J. Lawson"
          ],
          [
           "Eugene Omoruyi"
          ],
          [
           "Ricky Council IV"
          ],
          [
           "Jalen Wilson"
          ],
          [
           "DaQuan Jeffries"
          ],
          [
           "Lindy Waters III"
          ],
          [
           "Keon Ellis"
          ],
          [
           "Jack White"
          ],
          [
           "Filip Petrusev"
          ],
          [
           "Lester Quinones"
          ],
          [
           "Stanley Umude"
          ],
          [
           "Trent Forrest"
          ],
          [
           "Darius Bazley"
          ],
          [
           "Onuralp Bitim"
          ],
          [
           "Dominick Barlow"
          ],
          [
           "Juan Toscano-Anderson"
          ],
          [
           "Javon Freeman-Liberty"
          ],
          [
           "Mamadi Diakite"
          ],
          [
           "Neemias Queta"
          ],
          [
           "T.J. Warren"
          ],
          [
           "Danny Green"
          ],
          [
           "Javonte Green"
          ],
          [
           "Luka Garza"
          ],
          [
           "Isaiah Thomas"
          ],
          [
           "Hamidou Diallo"
          ],
          [
           "Ashton Hagans"
          ],
          [
           "Tosan Evbuomwan"
          ],
          [
           "Malik Williams"
          ],
          [
           "Taze Moore"
          ],
          [
           "Pete Nance"
          ]
         ],
         "hovertemplate": "slugTeamBREF=%{x}<br>Salary=%{marker.color}<br>namePlayer=%{customdata[0]}<extra></extra>",
         "legendgroup": "",
         "marker": {
          "color": [
           51915615,
           47649433,
           47607350,
           47607350,
           47607350,
           46741590,
           45640084,
           45640084,
           45640084,
           45640084,
           45183960,
           43219440,
           41000000,
           40806300,
           40600080,
           40064220,
           40064220,
           40064220,
           39270150,
           37893408,
           37893408,
           37037037,
           36861707,
           36016200,
           36016200,
           36016200,
           35802469,
           35680595,
           34005250,
           34005250,
           34005250,
           33833400,
           33833400,
           33386850,
           33386850,
           33319397,
           33162030,
           32600060,
           32600060,
           32600060,
           32459438,
           31830357,
           30800000,
           30600000,
           32478379,
           29320988,
           28600000,
           28226880,
           27586207,
           27455357,
           27102202,
           27000000,
           26346666,
           25679348,
           25568182,
           25340000,
           25000000,
           24360000,
           24330357,
           24107143,
           23883929,
           23487629,
           23205221,
           22627671,
           22500000,
           22321429,
           22266182,
           22000000,
           21700000,
           20975000,
           20616000,
           21911797,
           20089286,
           20000000,
           20000000,
           20000000,
           19928571,
           19845098,
           19500000,
           18857143,
           18833713,
           18700000,
           18642857,
           18560000,
           18518519,
           18357143,
           18214000,
           18154000,
           18000000,
           17897728,
           17400000,
           17325000,
           17307693,
           17259999,
           17429682,
           17000000,
           17000000,
           17000000,
           16875000,
           16847826,
           15740741,
           15681818,
           15669643,
           15435000,
           15384616,
           15277778,
           14763636,
           14704938,
           14487684,
           14000000,
           13932008,
           13750000,
           13534817,
           13050000,
           13000000,
           12960000,
           12950400,
           12500000,
           12500000,
           12405000,
           12405000,
           12402000,
           12195122,
           12160680,
           12119440,
           12100000,
           12046020,
           12015150,
           12015150,
           11750000,
           11710818,
           11710818,
           11692308,
           11608080,
           11571429,
           11111111,
           11055360,
           11020000,
           11014500,
           13033786,
           11000000,
           11000000,
           10933333,
           10900635,
           10900000,
           10880400,
           10576923,
           10500000,
           10500000,
           10489600,
           10386000,
           10375000,
           10250000,
           10000000,
           9945830,
           9895833,
           9891480,
           9835881,
           9800926,
           9770880,
           9625000,
           9600000,
           9500000,
           9460000,
           9423869,
           9326520,
           9245121,
           9219512,
           8925000,
           8920795,
           8882640,
           8809320,
           8800000,
           8715000,
           8700000,
           8409000,
           8856750,
           8109063,
           8008680,
           8000000,
           8000000,
           8000000,
           8000000,
           8638413,
           7977480,
           7921300,
           7723000,
           7723000,
           7700000,
           7614480,
           7560000,
           7500000,
           7413955,
           7252080,
           7245480,
           8670002,
           6916080,
           6803012,
           6802950,
           7464578,
           7267250,
           6718842,
           6614280,
           6587040,
           8519706,
           6500000,
           6481482,
           6341464,
           6313800,
           6300000,
           6263188,
           6250000,
           6190476,
           6175000,
           6059520,
           6012840,
           5887899,
           5808435,
           5784120,
           5722116,
           5709877,
           5634257,
           5569920,
           5539771,
           5508720,
           5370370,
           5316960,
           5291400,
           5266713,
           5266713,
           5063640,
           5050800,
           5043773,
           5026800,
           5574809,
           5000000,
           5754488,
           5000000,
           5475908,
           5000000,
           4810200,
           4798440,
           4775640,
           4765339,
           4698000,
           4687500,
           4570080,
           4558680,
           4556983,
           4536720,
           4516000,
           4516000,
           4379527,
           4343920,
           6105941,
           4330680,
           4310250,
           4310160,
           4306281,
           4171548,
           4124400,
           4114200,
           4094280,
           4037277,
           4000000,
           4000000,
           4000000,
           3918480,
           3908160,
           3901399,
           3889800,
           3873025,
           3845083,
           3835738,
           3835738,
           3722040,
           3712920,
           3695040,
           3666667,
           3536280,
           3527160,
           3510600,
           4010730,
           3360000,
           5379706,
           3359280,
           3352440,
           3350760,
           3218160,
           3199920,
           3196448,
           3196448,
           3191400,
           3089520,
           3071880,
           3044872,
           3000000,
           3000000,
           3000000,
           2966040,
           2949120,
           2925360,
           2891467,
           2847480,
           2831160,
           2815937,
           2808720,
           2800000,
           2733720,
           2718240,
           2709849,
           2696280,
           2624040,
           2609400,
           2600000,
           2600008,
           2586665,
           2586665,
           2581522,
           2537160,
           2528233,
           2528233,
           2504640,
           2463960,
           2448600,
           2439025,
           2431080,
           2424892,
           2421720,
           2413320,
           2413304,
           2400000,
           2385720,
           2352000,
           4368030,
           2346614,
           2346614,
           2346614,
           2337720,
           2320440,
           2320000,
           2306400,
           2303520,
           777703,
           2240160,
           2232308,
           2226240,
           2210040,
           2196970,
           2194200,
           2165000,
           2165000,
           2165000,
           2131905,
           2066585,
           2066585,
           2019706,
           2961636,
           2019706,
           2019706,
           2019706,
           2019706,
           2019706,
           2019706,
           2019706,
           2019706,
           2019706,
           2019706,
           2019706,
           2019706,
           2019706,
           2019706,
           2351562,
           2419706,
           2019706,
           2019706,
           2019706,
           2019706,
           2019706,
           2019706,
           2019706,
           2019706,
           2019706,
           2019706,
           2019706,
           2019706,
           2019706,
           2019706,
           2019706,
           2019706,
           2019706,
           2019706,
           2019706,
           2000000,
           2000000,
           2000000,
           1997238,
           1997238,
           1997238,
           1991428,
           1951220,
           1930681,
           1930681,
           1930681,
           1927896,
           1927896,
           1927896,
           1927896,
           1927896,
           1902137,
           1901769,
           684843,
           1845593,
           1836096,
           1836096,
           1836096,
           1836096,
           1836096,
           1836096,
           1801769,
           1801769,
           1801769,
           1800000,
           1799163,
           1719864,
           1719864,
           1719864,
           1719864,
           500000,
           1719864,
           1719864,
           1708143,
           1600000,
           1500000,
           1500000,
           1250000,
           1119563,
           1119563,
           1119563,
           1119563,
           1119563,
           1119563,
           1119563,
           1119563,
           1119563,
           1119563,
           1100000,
           1029483,
           1000000,
           900000,
           864353,
           850000,
           1324828,
           766095,
           683430,
           600000,
           559782,
           548815,
           538460,
           533945,
           616075,
           500000,
           455620,
           439581,
           289542,
           368600,
           331253,
           452693,
           200000,
           243758,
           127683,
           301795,
           116075,
           103550,
           135120,
           77212,
           64343,
           64343
          ],
          "coloraxis": "coloraxis",
          "size": [
           51915615,
           47649433,
           47607350,
           47607350,
           47607350,
           46741590,
           45640084,
           45640084,
           45640084,
           45640084,
           45183960,
           43219440,
           41000000,
           40806300,
           40600080,
           40064220,
           40064220,
           40064220,
           39270150,
           37893408,
           37893408,
           37037037,
           36861707,
           36016200,
           36016200,
           36016200,
           35802469,
           35680595,
           34005250,
           34005250,
           34005250,
           33833400,
           33833400,
           33386850,
           33386850,
           33319397,
           33162030,
           32600060,
           32600060,
           32600060,
           32459438,
           31830357,
           30800000,
           30600000,
           32478379,
           29320988,
           28600000,
           28226880,
           27586207,
           27455357,
           27102202,
           27000000,
           26346666,
           25679348,
           25568182,
           25340000,
           25000000,
           24360000,
           24330357,
           24107143,
           23883929,
           23487629,
           23205221,
           22627671,
           22500000,
           22321429,
           22266182,
           22000000,
           21700000,
           20975000,
           20616000,
           21911797,
           20089286,
           20000000,
           20000000,
           20000000,
           19928571,
           19845098,
           19500000,
           18857143,
           18833713,
           18700000,
           18642857,
           18560000,
           18518519,
           18357143,
           18214000,
           18154000,
           18000000,
           17897728,
           17400000,
           17325000,
           17307693,
           17259999,
           17429682,
           17000000,
           17000000,
           17000000,
           16875000,
           16847826,
           15740741,
           15681818,
           15669643,
           15435000,
           15384616,
           15277778,
           14763636,
           14704938,
           14487684,
           14000000,
           13932008,
           13750000,
           13534817,
           13050000,
           13000000,
           12960000,
           12950400,
           12500000,
           12500000,
           12405000,
           12405000,
           12402000,
           12195122,
           12160680,
           12119440,
           12100000,
           12046020,
           12015150,
           12015150,
           11750000,
           11710818,
           11710818,
           11692308,
           11608080,
           11571429,
           11111111,
           11055360,
           11020000,
           11014500,
           13033786,
           11000000,
           11000000,
           10933333,
           10900635,
           10900000,
           10880400,
           10576923,
           10500000,
           10500000,
           10489600,
           10386000,
           10375000,
           10250000,
           10000000,
           9945830,
           9895833,
           9891480,
           9835881,
           9800926,
           9770880,
           9625000,
           9600000,
           9500000,
           9460000,
           9423869,
           9326520,
           9245121,
           9219512,
           8925000,
           8920795,
           8882640,
           8809320,
           8800000,
           8715000,
           8700000,
           8409000,
           8856750,
           8109063,
           8008680,
           8000000,
           8000000,
           8000000,
           8000000,
           8638413,
           7977480,
           7921300,
           7723000,
           7723000,
           7700000,
           7614480,
           7560000,
           7500000,
           7413955,
           7252080,
           7245480,
           8670002,
           6916080,
           6803012,
           6802950,
           7464578,
           7267250,
           6718842,
           6614280,
           6587040,
           8519706,
           6500000,
           6481482,
           6341464,
           6313800,
           6300000,
           6263188,
           6250000,
           6190476,
           6175000,
           6059520,
           6012840,
           5887899,
           5808435,
           5784120,
           5722116,
           5709877,
           5634257,
           5569920,
           5539771,
           5508720,
           5370370,
           5316960,
           5291400,
           5266713,
           5266713,
           5063640,
           5050800,
           5043773,
           5026800,
           5574809,
           5000000,
           5754488,
           5000000,
           5475908,
           5000000,
           4810200,
           4798440,
           4775640,
           4765339,
           4698000,
           4687500,
           4570080,
           4558680,
           4556983,
           4536720,
           4516000,
           4516000,
           4379527,
           4343920,
           6105941,
           4330680,
           4310250,
           4310160,
           4306281,
           4171548,
           4124400,
           4114200,
           4094280,
           4037277,
           4000000,
           4000000,
           4000000,
           3918480,
           3908160,
           3901399,
           3889800,
           3873025,
           3845083,
           3835738,
           3835738,
           3722040,
           3712920,
           3695040,
           3666667,
           3536280,
           3527160,
           3510600,
           4010730,
           3360000,
           5379706,
           3359280,
           3352440,
           3350760,
           3218160,
           3199920,
           3196448,
           3196448,
           3191400,
           3089520,
           3071880,
           3044872,
           3000000,
           3000000,
           3000000,
           2966040,
           2949120,
           2925360,
           2891467,
           2847480,
           2831160,
           2815937,
           2808720,
           2800000,
           2733720,
           2718240,
           2709849,
           2696280,
           2624040,
           2609400,
           2600000,
           2600008,
           2586665,
           2586665,
           2581522,
           2537160,
           2528233,
           2528233,
           2504640,
           2463960,
           2448600,
           2439025,
           2431080,
           2424892,
           2421720,
           2413320,
           2413304,
           2400000,
           2385720,
           2352000,
           4368030,
           2346614,
           2346614,
           2346614,
           2337720,
           2320440,
           2320000,
           2306400,
           2303520,
           777703,
           2240160,
           2232308,
           2226240,
           2210040,
           2196970,
           2194200,
           2165000,
           2165000,
           2165000,
           2131905,
           2066585,
           2066585,
           2019706,
           2961636,
           2019706,
           2019706,
           2019706,
           2019706,
           2019706,
           2019706,
           2019706,
           2019706,
           2019706,
           2019706,
           2019706,
           2019706,
           2019706,
           2019706,
           2351562,
           2419706,
           2019706,
           2019706,
           2019706,
           2019706,
           2019706,
           2019706,
           2019706,
           2019706,
           2019706,
           2019706,
           2019706,
           2019706,
           2019706,
           2019706,
           2019706,
           2019706,
           2019706,
           2019706,
           2019706,
           2000000,
           2000000,
           2000000,
           1997238,
           1997238,
           1997238,
           1991428,
           1951220,
           1930681,
           1930681,
           1930681,
           1927896,
           1927896,
           1927896,
           1927896,
           1927896,
           1902137,
           1901769,
           684843,
           1845593,
           1836096,
           1836096,
           1836096,
           1836096,
           1836096,
           1836096,
           1801769,
           1801769,
           1801769,
           1800000,
           1799163,
           1719864,
           1719864,
           1719864,
           1719864,
           500000,
           1719864,
           1719864,
           1708143,
           1600000,
           1500000,
           1500000,
           1250000,
           1119563,
           1119563,
           1119563,
           1119563,
           1119563,
           1119563,
           1119563,
           1119563,
           1119563,
           1119563,
           1100000,
           1029483,
           1000000,
           900000,
           864353,
           850000,
           1324828,
           766095,
           683430,
           600000,
           559782,
           548815,
           538460,
           533945,
           616075,
           500000,
           455620,
           439581,
           289542,
           368600,
           331253,
           452693,
           200000,
           243758,
           127683,
           301795,
           116075,
           103550,
           135120,
           77212,
           64343,
           64343
          ],
          "sizemode": "area",
          "sizeref": 129789.0375,
          "symbol": "circle"
         },
         "mode": "markers",
         "name": "",
         "orientation": "v",
         "showlegend": false,
         "type": "scatter",
         "x": [
          "GSW",
          "PHO",
          "DEN",
          "PHI",
          "LAL",
          "PHO",
          "MIL",
          "LAC",
          "MIL",
          "LAC",
          "MIA",
          "GSW",
          "MIN",
          "HOU",
          "LAL",
          "ATL",
          "DAL",
          "CHI",
          "PHI",
          "BRK",
          "TOT",
          "DAL",
          "BOS",
          "PHO",
          "MIN",
          "BOS",
          "NOP",
          "LAC",
          "NOP",
          "MEM",
          "CLE",
          "NOP",
          "DEN",
          "OKC",
          "DEN",
          "TOT",
          "CLE",
          "SAC",
          "MIA",
          "BOS",
          "POR",
          "BOS",
          "GSW",
          "SAC",
          "TOT",
          "MIL",
          "CHI",
          "NYK",
          "POR",
          "WAS",
          "MEM",
          "MIA",
          "NYK",
          "BRK",
          "WAS",
          "UTA",
          "MIL",
          "MIN",
          "GSW",
          "POR",
          "TOT",
          "UTA",
          "TOT",
          "HOU",
          "POR",
          "GSW",
          "DEN",
          "TOT",
          "BRK",
          "IND",
          "ATL",
          "TOT",
          "ATL",
          "SAS",
          "CLE",
          "TOT",
          "DET",
          "TOT",
          "TOR",
          "TOT",
          "MEM",
          "ATL",
          "TOT",
          "TOR",
          "CHI",
          "BOS",
          "ATL",
          "MIA",
          "LAC",
          "DAL",
          "ORL",
          "UTA",
          "LAL",
          "UTA",
          "TOT",
          "SAC",
          "TOT",
          "ORL",
          "PHO",
          "TOT",
          "LAL",
          "NYK",
          "SAC",
          "NOP",
          "CLE",
          "OKC",
          "MEM",
          "DEN",
          "CLE",
          "WAS",
          "BRK",
          "TOT",
          "MIN",
          "ORL",
          "ORL",
          "NYK",
          "MIN",
          "MEM",
          "TOT",
          "TOT",
          "TOT",
          "TOT",
          "TOT",
          "SAS",
          "DET",
          "SAS",
          "TOT",
          "NOP",
          "LAL",
          "TOR",
          "MIL",
          "TOT",
          "TOT",
          "ORL",
          "POR",
          "CHI",
          "DET",
          "UTA",
          "TOT",
          "HOU",
          "DAL",
          "ORL",
          "LAC",
          "CHO",
          "NYK",
          "CHO",
          "LAC",
          "LAL",
          "POR",
          "TOT",
          "OKC",
          "NOP",
          "WAS",
          "BOS",
          "SAC",
          "SAS",
          "HOU",
          "CHI",
          "TOT",
          "POR",
          "BRK",
          "HOU",
          "TOT",
          "CHI",
          "MIL",
          "HOU",
          "NYK",
          "MIN",
          "PHO",
          "CLE",
          "CLE",
          "HOU",
          "CLE",
          "GSW",
          "IND",
          "SAC",
          "TOT",
          "ATL",
          "TOR",
          "HOU",
          "SAC",
          "PHI",
          "ORL",
          "TOT",
          "DET",
          "CHO",
          "TOT",
          "PHI",
          "SAS",
          "DET",
          "CHO",
          "GSW",
          "DET",
          "ORL",
          "ORL",
          "TOT",
          "IND",
          "IND",
          "MIA",
          "TOT",
          "TOT",
          "SAS",
          "WAS",
          "OKC",
          "TOT",
          "HOU",
          "CHI",
          "SAC",
          "POR",
          "TOR",
          "WAS",
          "PHO",
          "CHI",
          "OKC",
          "IND",
          "GSW",
          "SAS",
          "IND",
          "NOP",
          "TOT",
          "CLE",
          "IND",
          "UTA",
          "ORL",
          "ORL",
          "PHI",
          "SAS",
          "OKC",
          "DET",
          "ORL",
          "SAC",
          "WAS",
          "IND",
          "ORL",
          "TOT",
          "CHO",
          "TOT",
          "LAC",
          "TOT",
          "DEN",
          "MEM",
          "OKC",
          "DAL",
          "DAL",
          "LAL",
          "MIN",
          "CHO",
          "OKC",
          "ATL",
          "TOR",
          "TOR",
          "LAL",
          "TOT",
          "PHI",
          "LAC",
          "DET",
          "PHI",
          "NOP",
          "DEN",
          "TOT",
          "SAC",
          "TOT",
          "ATL",
          "BOS",
          "DAL",
          "TOT",
          "TOT",
          "GSW",
          "CHO",
          "MIN",
          "UTA",
          "TOT",
          "MEM",
          "MIA",
          "LAC",
          "WAS",
          "ATL",
          "LAL",
          "LAC",
          "HOU",
          "HOU",
          "MIA",
          "TOT",
          "CHI",
          "DAL",
          "NOP",
          "GSW",
          "CHI",
          "HOU",
          "MEM",
          "MEM",
          "PHO",
          "TOT",
          "BRK",
          "SAS",
          "TOT",
          "TOT",
          "SAS",
          "DAL",
          "BRK",
          "DEN",
          "ATL",
          "MIA",
          "POR",
          "UTA",
          "PHO",
          "BRK",
          "UTA",
          "DAL",
          "TOT",
          "LAL",
          "IND",
          "DET",
          "MIL",
          "SAS",
          "GSW",
          "UTA",
          "CLE",
          "ATL",
          "IND",
          "MIA",
          "CHI",
          "SAS",
          "CHO",
          "UTA",
          "CLE",
          "DEN",
          "WAS",
          "MIN",
          "LAC",
          "BOS",
          "MEM",
          "TOT",
          "MIA",
          "SAC",
          "PHO",
          "TOT",
          "TOT",
          "WAS",
          "MIL",
          "MIN",
          "LAC",
          "DEN",
          "IND",
          "BRK",
          "MEM",
          "TOT",
          "BRK",
          "PHI",
          "MEM",
          "LAL",
          "LAL",
          "BOS",
          "IND",
          "UTA",
          "ORL",
          "SAC",
          "TOT",
          "TOR",
          "SAS",
          "MIL",
          "SAC",
          "TOT",
          "PHO",
          "PHI",
          "PHI",
          "TOT",
          "NOP",
          "MIL",
          "TOT",
          "MIL",
          "MIL",
          "TOT",
          "TOT",
          "GSW",
          "GSW",
          "NYK",
          "DEN",
          "DEN",
          "DAL",
          "CHO",
          "CHO",
          "CHI",
          "TOT",
          "BRK",
          "BRK",
          "BOS",
          "ATL",
          "POR",
          "HOU",
          "HOU",
          "CLE",
          "BRK",
          "ORL",
          "OKC",
          "ATL",
          "CLE",
          "WAS",
          "OKC",
          "MEM",
          "POR",
          "TOT",
          "NOP",
          "TOT",
          "TOT",
          "SAC",
          "TOT",
          "NYK",
          "BOS",
          "MIA",
          "MIL",
          "NOP",
          "DET",
          "NYK",
          "DET",
          "LAC",
          "CHO",
          "OKC",
          "NOP",
          "NOP",
          "MIA",
          "MIA",
          "MIN",
          "TOT",
          "TOT",
          "DAL",
          "POR",
          "MIN",
          "TOT",
          "LAL",
          "CHO",
          "DEN",
          "CHI",
          "NOP",
          "CLE",
          "WAS",
          "SAS",
          "DEN",
          "BOS",
          "POR",
          "MIL",
          "LAL",
          "GSW",
          "ATL",
          "POR",
          "MIL",
          "IND",
          "GSW",
          "DAL",
          "WAS",
          "PHI",
          "BRK",
          "NYK",
          "OKC",
          "SAC",
          "MEM",
          "TOT",
          "GSW",
          "DET",
          "ATL",
          "TOT",
          "CHI",
          "SAS",
          "SAC",
          "TOR",
          "TOT",
          "BOS",
          "MIN",
          "PHI",
          "CHI",
          "MIN",
          "PHO",
          "WAS",
          "POR",
          "TOT",
          "TOR",
          "POR",
          "CLE"
         ],
         "xaxis": "x",
         "y": [
          51915615,
          47649433,
          47607350,
          47607350,
          47607350,
          46741590,
          45640084,
          45640084,
          45640084,
          45640084,
          45183960,
          43219440,
          41000000,
          40806300,
          40600080,
          40064220,
          40064220,
          40064220,
          39270150,
          37893408,
          37893408,
          37037037,
          36861707,
          36016200,
          36016200,
          36016200,
          35802469,
          35680595,
          34005250,
          34005250,
          34005250,
          33833400,
          33833400,
          33386850,
          33386850,
          33319397,
          33162030,
          32600060,
          32600060,
          32600060,
          32459438,
          31830357,
          30800000,
          30600000,
          32478379,
          29320988,
          28600000,
          28226880,
          27586207,
          27455357,
          27102202,
          27000000,
          26346666,
          25679348,
          25568182,
          25340000,
          25000000,
          24360000,
          24330357,
          24107143,
          23883929,
          23487629,
          23205221,
          22627671,
          22500000,
          22321429,
          22266182,
          22000000,
          21700000,
          20975000,
          20616000,
          21911797,
          20089286,
          20000000,
          20000000,
          20000000,
          19928571,
          19845098,
          19500000,
          18857143,
          18833713,
          18700000,
          18642857,
          18560000,
          18518519,
          18357143,
          18214000,
          18154000,
          18000000,
          17897728,
          17400000,
          17325000,
          17307693,
          17259999,
          17429682,
          17000000,
          17000000,
          17000000,
          16875000,
          16847826,
          15740741,
          15681818,
          15669643,
          15435000,
          15384616,
          15277778,
          14763636,
          14704938,
          14487684,
          14000000,
          13932008,
          13750000,
          13534817,
          13050000,
          13000000,
          12960000,
          12950400,
          12500000,
          12500000,
          12405000,
          12405000,
          12402000,
          12195122,
          12160680,
          12119440,
          12100000,
          12046020,
          12015150,
          12015150,
          11750000,
          11710818,
          11710818,
          11692308,
          11608080,
          11571429,
          11111111,
          11055360,
          11020000,
          11014500,
          13033786,
          11000000,
          11000000,
          10933333,
          10900635,
          10900000,
          10880400,
          10576923,
          10500000,
          10500000,
          10489600,
          10386000,
          10375000,
          10250000,
          10000000,
          9945830,
          9895833,
          9891480,
          9835881,
          9800926,
          9770880,
          9625000,
          9600000,
          9500000,
          9460000,
          9423869,
          9326520,
          9245121,
          9219512,
          8925000,
          8920795,
          8882640,
          8809320,
          8800000,
          8715000,
          8700000,
          8409000,
          8856750,
          8109063,
          8008680,
          8000000,
          8000000,
          8000000,
          8000000,
          8638413,
          7977480,
          7921300,
          7723000,
          7723000,
          7700000,
          7614480,
          7560000,
          7500000,
          7413955,
          7252080,
          7245480,
          8670002,
          6916080,
          6803012,
          6802950,
          7464578,
          7267250,
          6718842,
          6614280,
          6587040,
          8519706,
          6500000,
          6481482,
          6341464,
          6313800,
          6300000,
          6263188,
          6250000,
          6190476,
          6175000,
          6059520,
          6012840,
          5887899,
          5808435,
          5784120,
          5722116,
          5709877,
          5634257,
          5569920,
          5539771,
          5508720,
          5370370,
          5316960,
          5291400,
          5266713,
          5266713,
          5063640,
          5050800,
          5043773,
          5026800,
          5574809,
          5000000,
          5754488,
          5000000,
          5475908,
          5000000,
          4810200,
          4798440,
          4775640,
          4765339,
          4698000,
          4687500,
          4570080,
          4558680,
          4556983,
          4536720,
          4516000,
          4516000,
          4379527,
          4343920,
          6105941,
          4330680,
          4310250,
          4310160,
          4306281,
          4171548,
          4124400,
          4114200,
          4094280,
          4037277,
          4000000,
          4000000,
          4000000,
          3918480,
          3908160,
          3901399,
          3889800,
          3873025,
          3845083,
          3835738,
          3835738,
          3722040,
          3712920,
          3695040,
          3666667,
          3536280,
          3527160,
          3510600,
          4010730,
          3360000,
          5379706,
          3359280,
          3352440,
          3350760,
          3218160,
          3199920,
          3196448,
          3196448,
          3191400,
          3089520,
          3071880,
          3044872,
          3000000,
          3000000,
          3000000,
          2966040,
          2949120,
          2925360,
          2891467,
          2847480,
          2831160,
          2815937,
          2808720,
          2800000,
          2733720,
          2718240,
          2709849,
          2696280,
          2624040,
          2609400,
          2600000,
          2600008,
          2586665,
          2586665,
          2581522,
          2537160,
          2528233,
          2528233,
          2504640,
          2463960,
          2448600,
          2439025,
          2431080,
          2424892,
          2421720,
          2413320,
          2413304,
          2400000,
          2385720,
          2352000,
          4368030,
          2346614,
          2346614,
          2346614,
          2337720,
          2320440,
          2320000,
          2306400,
          2303520,
          777703,
          2240160,
          2232308,
          2226240,
          2210040,
          2196970,
          2194200,
          2165000,
          2165000,
          2165000,
          2131905,
          2066585,
          2066585,
          2019706,
          2961636,
          2019706,
          2019706,
          2019706,
          2019706,
          2019706,
          2019706,
          2019706,
          2019706,
          2019706,
          2019706,
          2019706,
          2019706,
          2019706,
          2019706,
          2351562,
          2419706,
          2019706,
          2019706,
          2019706,
          2019706,
          2019706,
          2019706,
          2019706,
          2019706,
          2019706,
          2019706,
          2019706,
          2019706,
          2019706,
          2019706,
          2019706,
          2019706,
          2019706,
          2019706,
          2019706,
          2000000,
          2000000,
          2000000,
          1997238,
          1997238,
          1997238,
          1991428,
          1951220,
          1930681,
          1930681,
          1930681,
          1927896,
          1927896,
          1927896,
          1927896,
          1927896,
          1902137,
          1901769,
          684843,
          1845593,
          1836096,
          1836096,
          1836096,
          1836096,
          1836096,
          1836096,
          1801769,
          1801769,
          1801769,
          1800000,
          1799163,
          1719864,
          1719864,
          1719864,
          1719864,
          500000,
          1719864,
          1719864,
          1708143,
          1600000,
          1500000,
          1500000,
          1250000,
          1119563,
          1119563,
          1119563,
          1119563,
          1119563,
          1119563,
          1119563,
          1119563,
          1119563,
          1119563,
          1100000,
          1029483,
          1000000,
          900000,
          864353,
          850000,
          1324828,
          766095,
          683430,
          600000,
          559782,
          548815,
          538460,
          533945,
          616075,
          500000,
          455620,
          439581,
          289542,
          368600,
          331253,
          452693,
          200000,
          243758,
          127683,
          301795,
          116075,
          103550,
          135120,
          77212,
          64343,
          64343
         ],
         "yaxis": "y"
        }
       ],
       "layout": {
        "coloraxis": {
         "colorbar": {
          "title": {
           "text": "Salary"
          }
         },
         "colorscale": [
          [
           0,
           "rgb(75, 41, 145)"
          ],
          [
           0.16666666666666666,
           "rgb(135, 44, 162)"
          ],
          [
           0.3333333333333333,
           "rgb(192, 54, 157)"
          ],
          [
           0.5,
           "rgb(234, 79, 136)"
          ],
          [
           0.6666666666666666,
           "rgb(250, 120, 118)"
          ],
          [
           0.8333333333333334,
           "rgb(246, 169, 122)"
          ],
          [
           1,
           "rgb(237, 217, 163)"
          ]
         ]
        },
        "height": 700,
        "legend": {
         "itemsizing": "constant",
         "tracegroupgap": 0
        },
        "margin": {
         "t": 60
        },
        "template": {
         "data": {
          "bar": [
           {
            "error_x": {
             "color": "#2a3f5f"
            },
            "error_y": {
             "color": "#2a3f5f"
            },
            "marker": {
             "line": {
              "color": "#E5ECF6",
              "width": 0.5
             },
             "pattern": {
              "fillmode": "overlay",
              "size": 10,
              "solidity": 0.2
             }
            },
            "type": "bar"
           }
          ],
          "barpolar": [
           {
            "marker": {
             "line": {
              "color": "#E5ECF6",
              "width": 0.5
             },
             "pattern": {
              "fillmode": "overlay",
              "size": 10,
              "solidity": 0.2
             }
            },
            "type": "barpolar"
           }
          ],
          "carpet": [
           {
            "aaxis": {
             "endlinecolor": "#2a3f5f",
             "gridcolor": "white",
             "linecolor": "white",
             "minorgridcolor": "white",
             "startlinecolor": "#2a3f5f"
            },
            "baxis": {
             "endlinecolor": "#2a3f5f",
             "gridcolor": "white",
             "linecolor": "white",
             "minorgridcolor": "white",
             "startlinecolor": "#2a3f5f"
            },
            "type": "carpet"
           }
          ],
          "choropleth": [
           {
            "colorbar": {
             "outlinewidth": 0,
             "ticks": ""
            },
            "type": "choropleth"
           }
          ],
          "contour": [
           {
            "colorbar": {
             "outlinewidth": 0,
             "ticks": ""
            },
            "colorscale": [
             [
              0,
              "#0d0887"
             ],
             [
              0.1111111111111111,
              "#46039f"
             ],
             [
              0.2222222222222222,
              "#7201a8"
             ],
             [
              0.3333333333333333,
              "#9c179e"
             ],
             [
              0.4444444444444444,
              "#bd3786"
             ],
             [
              0.5555555555555556,
              "#d8576b"
             ],
             [
              0.6666666666666666,
              "#ed7953"
             ],
             [
              0.7777777777777778,
              "#fb9f3a"
             ],
             [
              0.8888888888888888,
              "#fdca26"
             ],
             [
              1,
              "#f0f921"
             ]
            ],
            "type": "contour"
           }
          ],
          "contourcarpet": [
           {
            "colorbar": {
             "outlinewidth": 0,
             "ticks": ""
            },
            "type": "contourcarpet"
           }
          ],
          "heatmap": [
           {
            "colorbar": {
             "outlinewidth": 0,
             "ticks": ""
            },
            "colorscale": [
             [
              0,
              "#0d0887"
             ],
             [
              0.1111111111111111,
              "#46039f"
             ],
             [
              0.2222222222222222,
              "#7201a8"
             ],
             [
              0.3333333333333333,
              "#9c179e"
             ],
             [
              0.4444444444444444,
              "#bd3786"
             ],
             [
              0.5555555555555556,
              "#d8576b"
             ],
             [
              0.6666666666666666,
              "#ed7953"
             ],
             [
              0.7777777777777778,
              "#fb9f3a"
             ],
             [
              0.8888888888888888,
              "#fdca26"
             ],
             [
              1,
              "#f0f921"
             ]
            ],
            "type": "heatmap"
           }
          ],
          "heatmapgl": [
           {
            "colorbar": {
             "outlinewidth": 0,
             "ticks": ""
            },
            "colorscale": [
             [
              0,
              "#0d0887"
             ],
             [
              0.1111111111111111,
              "#46039f"
             ],
             [
              0.2222222222222222,
              "#7201a8"
             ],
             [
              0.3333333333333333,
              "#9c179e"
             ],
             [
              0.4444444444444444,
              "#bd3786"
             ],
             [
              0.5555555555555556,
              "#d8576b"
             ],
             [
              0.6666666666666666,
              "#ed7953"
             ],
             [
              0.7777777777777778,
              "#fb9f3a"
             ],
             [
              0.8888888888888888,
              "#fdca26"
             ],
             [
              1,
              "#f0f921"
             ]
            ],
            "type": "heatmapgl"
           }
          ],
          "histogram": [
           {
            "marker": {
             "pattern": {
              "fillmode": "overlay",
              "size": 10,
              "solidity": 0.2
             }
            },
            "type": "histogram"
           }
          ],
          "histogram2d": [
           {
            "colorbar": {
             "outlinewidth": 0,
             "ticks": ""
            },
            "colorscale": [
             [
              0,
              "#0d0887"
             ],
             [
              0.1111111111111111,
              "#46039f"
             ],
             [
              0.2222222222222222,
              "#7201a8"
             ],
             [
              0.3333333333333333,
              "#9c179e"
             ],
             [
              0.4444444444444444,
              "#bd3786"
             ],
             [
              0.5555555555555556,
              "#d8576b"
             ],
             [
              0.6666666666666666,
              "#ed7953"
             ],
             [
              0.7777777777777778,
              "#fb9f3a"
             ],
             [
              0.8888888888888888,
              "#fdca26"
             ],
             [
              1,
              "#f0f921"
             ]
            ],
            "type": "histogram2d"
           }
          ],
          "histogram2dcontour": [
           {
            "colorbar": {
             "outlinewidth": 0,
             "ticks": ""
            },
            "colorscale": [
             [
              0,
              "#0d0887"
             ],
             [
              0.1111111111111111,
              "#46039f"
             ],
             [
              0.2222222222222222,
              "#7201a8"
             ],
             [
              0.3333333333333333,
              "#9c179e"
             ],
             [
              0.4444444444444444,
              "#bd3786"
             ],
             [
              0.5555555555555556,
              "#d8576b"
             ],
             [
              0.6666666666666666,
              "#ed7953"
             ],
             [
              0.7777777777777778,
              "#fb9f3a"
             ],
             [
              0.8888888888888888,
              "#fdca26"
             ],
             [
              1,
              "#f0f921"
             ]
            ],
            "type": "histogram2dcontour"
           }
          ],
          "mesh3d": [
           {
            "colorbar": {
             "outlinewidth": 0,
             "ticks": ""
            },
            "type": "mesh3d"
           }
          ],
          "parcoords": [
           {
            "line": {
             "colorbar": {
              "outlinewidth": 0,
              "ticks": ""
             }
            },
            "type": "parcoords"
           }
          ],
          "pie": [
           {
            "automargin": true,
            "type": "pie"
           }
          ],
          "scatter": [
           {
            "fillpattern": {
             "fillmode": "overlay",
             "size": 10,
             "solidity": 0.2
            },
            "type": "scatter"
           }
          ],
          "scatter3d": [
           {
            "line": {
             "colorbar": {
              "outlinewidth": 0,
              "ticks": ""
             }
            },
            "marker": {
             "colorbar": {
              "outlinewidth": 0,
              "ticks": ""
             }
            },
            "type": "scatter3d"
           }
          ],
          "scattercarpet": [
           {
            "marker": {
             "colorbar": {
              "outlinewidth": 0,
              "ticks": ""
             }
            },
            "type": "scattercarpet"
           }
          ],
          "scattergeo": [
           {
            "marker": {
             "colorbar": {
              "outlinewidth": 0,
              "ticks": ""
             }
            },
            "type": "scattergeo"
           }
          ],
          "scattergl": [
           {
            "marker": {
             "colorbar": {
              "outlinewidth": 0,
              "ticks": ""
             }
            },
            "type": "scattergl"
           }
          ],
          "scattermapbox": [
           {
            "marker": {
             "colorbar": {
              "outlinewidth": 0,
              "ticks": ""
             }
            },
            "type": "scattermapbox"
           }
          ],
          "scatterpolar": [
           {
            "marker": {
             "colorbar": {
              "outlinewidth": 0,
              "ticks": ""
             }
            },
            "type": "scatterpolar"
           }
          ],
          "scatterpolargl": [
           {
            "marker": {
             "colorbar": {
              "outlinewidth": 0,
              "ticks": ""
             }
            },
            "type": "scatterpolargl"
           }
          ],
          "scatterternary": [
           {
            "marker": {
             "colorbar": {
              "outlinewidth": 0,
              "ticks": ""
             }
            },
            "type": "scatterternary"
           }
          ],
          "surface": [
           {
            "colorbar": {
             "outlinewidth": 0,
             "ticks": ""
            },
            "colorscale": [
             [
              0,
              "#0d0887"
             ],
             [
              0.1111111111111111,
              "#46039f"
             ],
             [
              0.2222222222222222,
              "#7201a8"
             ],
             [
              0.3333333333333333,
              "#9c179e"
             ],
             [
              0.4444444444444444,
              "#bd3786"
             ],
             [
              0.5555555555555556,
              "#d8576b"
             ],
             [
              0.6666666666666666,
              "#ed7953"
             ],
             [
              0.7777777777777778,
              "#fb9f3a"
             ],
             [
              0.8888888888888888,
              "#fdca26"
             ],
             [
              1,
              "#f0f921"
             ]
            ],
            "type": "surface"
           }
          ],
          "table": [
           {
            "cells": {
             "fill": {
              "color": "#EBF0F8"
             },
             "line": {
              "color": "white"
             }
            },
            "header": {
             "fill": {
              "color": "#C8D4E3"
             },
             "line": {
              "color": "white"
             }
            },
            "type": "table"
           }
          ]
         },
         "layout": {
          "annotationdefaults": {
           "arrowcolor": "#2a3f5f",
           "arrowhead": 0,
           "arrowwidth": 1
          },
          "autotypenumbers": "strict",
          "coloraxis": {
           "colorbar": {
            "outlinewidth": 0,
            "ticks": ""
           }
          },
          "colorscale": {
           "diverging": [
            [
             0,
             "#8e0152"
            ],
            [
             0.1,
             "#c51b7d"
            ],
            [
             0.2,
             "#de77ae"
            ],
            [
             0.3,
             "#f1b6da"
            ],
            [
             0.4,
             "#fde0ef"
            ],
            [
             0.5,
             "#f7f7f7"
            ],
            [
             0.6,
             "#e6f5d0"
            ],
            [
             0.7,
             "#b8e186"
            ],
            [
             0.8,
             "#7fbc41"
            ],
            [
             0.9,
             "#4d9221"
            ],
            [
             1,
             "#276419"
            ]
           ],
           "sequential": [
            [
             0,
             "#0d0887"
            ],
            [
             0.1111111111111111,
             "#46039f"
            ],
            [
             0.2222222222222222,
             "#7201a8"
            ],
            [
             0.3333333333333333,
             "#9c179e"
            ],
            [
             0.4444444444444444,
             "#bd3786"
            ],
            [
             0.5555555555555556,
             "#d8576b"
            ],
            [
             0.6666666666666666,
             "#ed7953"
            ],
            [
             0.7777777777777778,
             "#fb9f3a"
            ],
            [
             0.8888888888888888,
             "#fdca26"
            ],
            [
             1,
             "#f0f921"
            ]
           ],
           "sequentialminus": [
            [
             0,
             "#0d0887"
            ],
            [
             0.1111111111111111,
             "#46039f"
            ],
            [
             0.2222222222222222,
             "#7201a8"
            ],
            [
             0.3333333333333333,
             "#9c179e"
            ],
            [
             0.4444444444444444,
             "#bd3786"
            ],
            [
             0.5555555555555556,
             "#d8576b"
            ],
            [
             0.6666666666666666,
             "#ed7953"
            ],
            [
             0.7777777777777778,
             "#fb9f3a"
            ],
            [
             0.8888888888888888,
             "#fdca26"
            ],
            [
             1,
             "#f0f921"
            ]
           ]
          },
          "colorway": [
           "#636efa",
           "#EF553B",
           "#00cc96",
           "#ab63fa",
           "#FFA15A",
           "#19d3f3",
           "#FF6692",
           "#B6E880",
           "#FF97FF",
           "#FECB52"
          ],
          "font": {
           "color": "#2a3f5f"
          },
          "geo": {
           "bgcolor": "white",
           "lakecolor": "white",
           "landcolor": "#E5ECF6",
           "showlakes": true,
           "showland": true,
           "subunitcolor": "white"
          },
          "hoverlabel": {
           "align": "left"
          },
          "hovermode": "closest",
          "mapbox": {
           "style": "light"
          },
          "paper_bgcolor": "white",
          "plot_bgcolor": "#E5ECF6",
          "polar": {
           "angularaxis": {
            "gridcolor": "white",
            "linecolor": "white",
            "ticks": ""
           },
           "bgcolor": "#E5ECF6",
           "radialaxis": {
            "gridcolor": "white",
            "linecolor": "white",
            "ticks": ""
           }
          },
          "scene": {
           "xaxis": {
            "backgroundcolor": "#E5ECF6",
            "gridcolor": "white",
            "gridwidth": 2,
            "linecolor": "white",
            "showbackground": true,
            "ticks": "",
            "zerolinecolor": "white"
           },
           "yaxis": {
            "backgroundcolor": "#E5ECF6",
            "gridcolor": "white",
            "gridwidth": 2,
            "linecolor": "white",
            "showbackground": true,
            "ticks": "",
            "zerolinecolor": "white"
           },
           "zaxis": {
            "backgroundcolor": "#E5ECF6",
            "gridcolor": "white",
            "gridwidth": 2,
            "linecolor": "white",
            "showbackground": true,
            "ticks": "",
            "zerolinecolor": "white"
           }
          },
          "shapedefaults": {
           "line": {
            "color": "#2a3f5f"
           }
          },
          "ternary": {
           "aaxis": {
            "gridcolor": "white",
            "linecolor": "white",
            "ticks": ""
           },
           "baxis": {
            "gridcolor": "white",
            "linecolor": "white",
            "ticks": ""
           },
           "bgcolor": "#E5ECF6",
           "caxis": {
            "gridcolor": "white",
            "linecolor": "white",
            "ticks": ""
           }
          },
          "title": {
           "x": 0.05
          },
          "xaxis": {
           "automargin": true,
           "gridcolor": "white",
           "linecolor": "white",
           "ticks": "",
           "title": {
            "standoff": 15
           },
           "zerolinecolor": "white",
           "zerolinewidth": 2
          },
          "yaxis": {
           "automargin": true,
           "gridcolor": "white",
           "linecolor": "white",
           "ticks": "",
           "title": {
            "standoff": 15
           },
           "zerolinecolor": "white",
           "zerolinewidth": 2
          }
         }
        },
        "xaxis": {
         "anchor": "y",
         "domain": [
          0,
          1
         ],
         "title": {
          "text": "slugTeamBREF"
         }
        },
        "yaxis": {
         "anchor": "x",
         "domain": [
          0,
          1
         ],
         "title": {
          "text": "Salary"
         }
        }
       }
      }
     },
     "metadata": {},
     "output_type": "display_data"
    }
   ],
   "source": [
    "# Visualizar el salario de los jugadores de acuerdo a su edad\n",
    "fig = px.scatter(SS, x=\"slugTeamBREF\", y=\"Salary\", color = \"Salary\",\n",
    "                 size='Salary', hover_data=['namePlayer','slugTeamBREF'], color_continuous_scale=px.colors.sequential.Agsunset, height=700)\n",
    "fig.show()"
   ]
  },
  {
   "cell_type": "code",
   "execution_count": 84,
   "metadata": {},
   "outputs": [
    {
     "data": {
      "application/vnd.plotly.v1+json": {
       "config": {
        "plotlyServerURL": "https://plot.ly"
       },
       "data": [
        {
         "customdata": [
          [
           "Stephen Curry",
           "GSW",
           35
          ],
          [
           "Kevin Durant",
           "PHO",
           35
          ],
          [
           "Nikola Jokic",
           "DEN",
           28
          ],
          [
           "Joel Embiid",
           "PHI",
           29
          ],
          [
           "LeBron James",
           "LAL",
           39
          ],
          [
           "Bradley Beal",
           "PHO",
           30
          ],
          [
           "Giannis Antetokounmpo",
           "MIL",
           29
          ],
          [
           "Kawhi Leonard",
           "LAC",
           32
          ],
          [
           "Damian Lillard",
           "MIL",
           33
          ],
          [
           "Paul George",
           "LAC",
           33
          ],
          [
           "Jimmy Butler",
           "MIA",
           34
          ],
          [
           "Klay Thompson",
           "GSW",
           33
          ],
          [
           "Rudy Gobert",
           "MIN",
           31
          ],
          [
           "Fred VanVleet",
           "HOU",
           29
          ],
          [
           "Anthony Davis",
           "LAL",
           30
          ],
          [
           "Trae Young",
           "ATL",
           25
          ],
          [
           "Luka Doncic",
           "DAL",
           24
          ],
          [
           "Zach LaVine",
           "CHI",
           28
          ],
          [
           "Tobias Harris",
           "PHI",
           31
          ],
          [
           "Ben Simmons",
           "BRK",
           27
          ],
          [
           "Pascal Siakam",
           "TOT",
           29
          ],
          [
           "Kyrie Irving",
           "DAL",
           31
          ],
          [
           "Jrue Holiday",
           "BOS",
           33
          ],
          [
           "Devin Booker",
           "PHO",
           27
          ],
          [
           "Karl-Anthony Towns",
           "MIN",
           28
          ],
          [
           "Kristaps Porzingis",
           "BOS",
           28
          ],
          [
           "CJ McCollum",
           "NOP",
           32
          ],
          [
           "James Harden",
           "LAC",
           34
          ],
          [
           "Zion Williamson",
           "NOP",
           23
          ],
          [
           "Ja Morant",
           "MEM",
           24
          ],
          [
           "Darius Garland",
           "CLE",
           24
          ],
          [
           "Brandon Ingram",
           "NOP",
           26
          ],
          [
           "Jamal Murray",
           "DEN",
           26
          ],
          [
           "Shai Gilgeous-Alexander",
           "OKC",
           25
          ],
          [
           "Michael Porter Jr.",
           "DEN",
           25
          ],
          [
           "Gordon Hayward",
           "TOT",
           33
          ],
          [
           "Donovan Mitchell",
           "CLE",
           27
          ],
          [
           "De'Aaron Fox",
           "SAC",
           26
          ],
          [
           "Bam Adebayo",
           "MIA",
           26
          ],
          [
           "Jayson Tatum",
           "BOS",
           25
          ],
          [
           "Deandre Ayton",
           "POR",
           25
          ],
          [
           "Jaylen Brown",
           "BOS",
           27
          ],
          [
           "Chris Paul",
           "GSW",
           38
          ],
          [
           "Domantas Sabonis",
           "SAC",
           27
          ],
          [
           "Kyle Lowry",
           "TOT",
           37
          ],
          [
           "Khris Middleton",
           "MIL",
           32
          ],
          [
           "DeMar DeRozan",
           "CHI",
           34
          ],
          [
           "Julius Randle",
           "NYK",
           29
          ],
          [
           "Jerami Grant",
           "POR",
           29
          ],
          [
           "Jordan Poole",
           "WAS",
           24
          ],
          [
           "Jaren Jackson Jr.",
           "MEM",
           24
          ],
          [
           "Tyler Herro",
           "MIA",
           24
          ],
          [
           "Jalen Brunson",
           "NYK",
           27
          ],
          [
           "Cameron Johnson",
           "BRK",
           27
          ],
          [
           "Kyle Kuzma",
           "WAS",
           28
          ],
          [
           "John Collins",
           "UTA",
           26
          ],
          [
           "Brook Lopez",
           "MIL",
           35
          ],
          [
           "Mike Conley",
           "MIN",
           36
          ],
          [
           "Andrew Wiggins",
           "GSW",
           28
          ],
          [
           "Anfernee Simons",
           "POR",
           24
          ],
          [
           "RJ Barrett",
           "TOT",
           23
          ],
          [
           "Jordan Clarkson",
           "UTA",
           31
          ],
          [
           "Terry Rozier",
           "TOT",
           29
          ],
          [
           "Dillon Brooks",
           "HOU",
           28
          ],
          [
           "Malcolm Brogdon",
           "POR",
           31
          ],
          [
           "Draymond Green",
           "GSW",
           33
          ],
          [
           "Aaron Gordon",
           "DEN",
           28
          ],
          [
           "Bruce Brown",
           "TOT",
           27
          ],
          [
           "Mikal Bridges",
           "BRK",
           27
          ],
          [
           "Myles Turner",
           "IND",
           27
          ],
          [
           "Clint Capela",
           "ATL",
           29
          ],
          [
           "Spencer Dinwiddie",
           "TOT",
           30
          ],
          [
           "De'Andre Hunter",
           "ATL",
           26
          ],
          [
           "Keldon Johnson",
           "SAS",
           24
          ],
          [
           "Jarrett Allen",
           "CLE",
           25
          ],
          [
           "Bojan Bogdanovic",
           "TOT",
           34
          ],
          [
           "Joe Harris",
           "DET",
           32
          ],
          [
           "Buddy Hield",
           "TOT",
           31
          ],
          [
           "Jakob Poeltl",
           "TOR",
           28
          ],
          [
           "Evan Fournier",
           "TOT",
           31
          ],
          [
           "Marcus Smart",
           "MEM",
           29
          ],
          [
           "Bogdan Bogdanovic",
           "ATL",
           31
          ],
          [
           "OG Anunoby",
           "TOT",
           26
          ],
          [
           "Gary Trent Jr.",
           "TOR",
           25
          ],
          [
           "Nikola Vucevic",
           "CHI",
           33
          ],
          [
           "Derrick White",
           "BOS",
           29
          ],
          [
           "Dejounte Murray",
           "ATL",
           27
          ],
          [
           "Duncan Robinson",
           "MIA",
           29
          ],
          [
           "Norman Powell",
           "LAC",
           30
          ],
          [
           "Tim Hardaway Jr.",
           "DAL",
           31
          ],
          [
           "Jonathan Isaac",
           "ORL",
           26
          ],
          [
           "Collin Sexton",
           "UTA",
           25
          ],
          [
           "D'Angelo Russell",
           "LAL",
           27
          ],
          [
           "Lauri Markkanen",
           "UTA",
           26
          ],
          [
           "Marcus Morris Sr.",
           "TOT",
           34
          ],
          [
           "Harrison Barnes",
           "SAC",
           31
          ],
          [
           "Davis Bertans",
           "TOT",
           31
          ],
          [
           "Markelle Fultz",
           "ORL",
           25
          ],
          [
           "Jusuf Nurkic",
           "PHO",
           29
          ],
          [
           "P.J. Washington",
           "TOT",
           25
          ],
          [
           "Rui Hachimura",
           "LAL",
           25
          ],
          [
           "Mitchell Robinson",
           "NYK",
           25
          ],
          [
           "Kevin Huerter",
           "SAC",
           25
          ],
          [
           "Jonas Valanciunas",
           "NOP",
           31
          ],
          [
           "Caris LeVert",
           "CLE",
           29
          ],
          [
           "Luguentz Dort",
           "OKC",
           24
          ],
          [
           "Luke Kennard",
           "MEM",
           27
          ],
          [
           "Kentavious Caldwell-Pope",
           "DEN",
           30
          ],
          [
           "Max Strus",
           "CLE",
           27
          ],
          [
           "Tyus Jones",
           "WAS",
           27
          ],
          [
           "Dorian Finney-Smith",
           "BRK",
           30
          ],
          [
           "Doug McDermott",
           "TOT",
           32
          ],
          [
           "Anthony Edwards",
           "MIN",
           22
          ],
          [
           "Wendell Carter Jr.",
           "ORL",
           24
          ],
          [
           "Gary Harris",
           "ORL",
           29
          ],
          [
           "Josh Hart",
           "NYK",
           28
          ],
          [
           "Naz Reid",
           "MIN",
           24
          ],
          [
           "Brandon Clarke",
           "MEM",
           27
          ],
          [
           "Marvin Bagley III",
           "TOT",
           24
          ],
          [
           "Grant Williams",
           "TOT",
           25
          ],
          [
           "Dennis Schroder",
           "TOT",
           30
          ],
          [
           "Daniel Gafford",
           "TOT",
           25
          ],
          [
           "Kelly Olynyk",
           "TOT",
           32
          ],
          [
           "Victor Wembanyama",
           "SAS",
           20
          ],
          [
           "James Wiseman",
           "DET",
           22
          ],
          [
           "Devonte' Graham",
           "SAS",
           28
          ],
          [
           "Richaun Holmes",
           "TOT",
           30
          ],
          [
           "Herbert Jones",
           "NOP",
           25
          ],
          [
           "Austin Reaves",
           "LAL",
           25
          ],
          [
           "Chris Boucher",
           "TOR",
           31
          ],
          [
           "Bobby Portis",
           "MIL",
           28
          ],
          [
           "Nicolas Batum",
           "TOT",
           35
          ],
          [
           "Robert Covington",
           "TOT",
           33
          ],
          [
           "Paolo Banchero",
           "ORL",
           21
          ],
          [
           "Robert Williams III",
           "POR",
           26
          ],
          [
           "Coby White",
           "CHI",
           23
          ],
          [
           "Cade Cunningham",
           "DET",
           22
          ],
          [
           "Talen Horton-Tucker",
           "UTA",
           23
          ],
          [
           "P.J. Tucker",
           "TOT",
           38
          ],
          [
           "Reggie Bullock",
           "HOU",
           32
          ],
          [
           "Maxi Kleber",
           "DAL",
           32
          ],
          [
           "Joe Ingles",
           "ORL",
           36
          ],
          [
           "Ivica Zubac",
           "LAC",
           26
          ],
          [
           "LaMelo Ball",
           "CHO",
           22
          ],
          [
           "Donte DiVincenzo",
           "NYK",
           27
          ],
          [
           "Brandon Miller",
           "CHO",
           21
          ],
          [
           "Terance Mann",
           "LAC",
           27
          ],
          [
           "Gabe Vincent",
           "LAL",
           27
          ],
          [
           "Matisse Thybulle",
           "POR",
           26
          ],
          [
           "Alec Burks",
           "TOT",
           32
          ],
          [
           "Chet Holmgren",
           "OKC",
           21
          ],
          [
           "Larry Nance Jr.",
           "NOP",
           31
          ],
          [
           "Landry Shamet",
           "WAS",
           26
          ],
          [
           "Al Horford",
           "BOS",
           37
          ],
          [
           "Malik Monk",
           "SAC",
           25
          ],
          [
           "Tre Jones",
           "SAS",
           24
          ],
          [
           "Jalen Green",
           "HOU",
           21
          ],
          [
           "Patrick Williams",
           "CHI",
           22
          ],
          [
           "Monte Morris",
           "TOT",
           28
          ],
          [
           "Scoot Henderson",
           "POR",
           19
          ],
          [
           "Nic Claxton",
           "BRK",
           24
          ],
          [
           "Jeff Green",
           "HOU",
           37
          ],
          [
           "Royce O'Neale",
           "TOT",
           30
          ],
          [
           "Alex Caruso",
           "CHI",
           29
          ],
          [
           "Pat Connaughton",
           "MIL",
           31
          ],
          [
           "Jabari Smith Jr.",
           "HOU",
           20
          ],
          [
           "Isaiah Hartenstein",
           "NYK",
           25
          ],
          [
           "Kyle Anderson",
           "MIN",
           30
          ],
          [
           "Grayson Allen",
           "PHO",
           28
          ],
          [
           "Isaac Okoro",
           "CLE",
           23
          ],
          [
           "Evan Mobley",
           "CLE",
           22
          ],
          [
           "Amen Thompson",
           "HOU",
           21
          ],
          [
           "Georges Niang",
           "CLE",
           30
          ],
          [
           "Gary Payton II",
           "GSW",
           31
          ],
          [
           "T.J. McConnell",
           "IND",
           31
          ],
          [
           "Keegan Murray",
           "SAC",
           23
          ],
          [
           "Delon Wright",
           "TOT",
           31
          ],
          [
           "Onyeka Okongwu",
           "ATL",
           23
          ],
          [
           "Scottie Barnes",
           "TOR",
           22
          ],
          [
           "Jock Landale",
           "HOU",
           28
          ],
          [
           "Trey Lyles",
           "SAC",
           28
          ],
          [
           "De'Anthony Melton",
           "PHI",
           25
          ],
          [
           "Moritz Wagner",
           "ORL",
           26
          ],
          [
           "Thaddeus Young",
           "TOT",
           35
          ],
          [
           "Ausar Thompson",
           "DET",
           21
          ],
          [
           "Miles Bridges",
           "CHO",
           25
          ],
          [
           "Vasilije Micic",
           "TOT",
           30
          ],
          [
           "Paul Reed",
           "PHI",
           24
          ],
          [
           "Zach Collins",
           "SAS",
           26
          ],
          [
           "Jaden Ivey",
           "DET",
           21
          ],
          [
           "Cody Martin",
           "CHO",
           28
          ],
          [
           "Kevon Looney",
           "GSW",
           27
          ],
          [
           "Killian Hayes",
           "DET",
           22
          ],
          [
           "Jalen Suggs",
           "ORL",
           22
          ],
          [
           "Anthony Black",
           "ORL",
           20
          ],
          [
           "Daniel Theis",
           "TOT",
           31
          ],
          [
           "Bennedict Mathurin",
           "IND",
           21
          ],
          [
           "Obi Toppin",
           "IND",
           25
          ],
          [
           "Caleb Martin",
           "MIA",
           28
          ],
          [
           "Danilo Gallinari",
           "TOT",
           35
          ],
          [
           "Patty Mills",
           "TOT",
           35
          ],
          [
           "Cedi Osman",
           "SAS",
           28
          ],
          [
           "Bilal Coulibaly",
           "WAS",
           19
          ],
          [
           "Josh Giddey",
           "OKC",
           21
          ],
          [
           "Cameron Payne",
           "TOT",
           29
          ],
          [
           "Jae'Sean Tate",
           "HOU",
           28
          ],
          [
           "Ayo Dosunmu",
           "CHI",
           24
          ],
          [
           "Sasha Vezenkov",
           "SAC",
           28
          ],
          [
           "Shaedon Sharpe",
           "POR",
           20
          ],
          [
           "Otto Porter Jr.",
           "TOR",
           30
          ],
          [
           "Deni Avdija",
           "WAS",
           23
          ],
          [
           "Nassir Little",
           "PHO",
           23
          ],
          [
           "Jevon Carter",
           "CHI",
           28
          ],
          [
           "Kenrich Williams",
           "OKC",
           29
          ],
          [
           "Jarace Walker",
           "IND",
           20
          ],
          [
           "Jonathan Kuminga",
           "GSW",
           21
          ],
          [
           "Devin Vassell",
           "SAS",
           23
          ],
          [
           "Tyrese Haliburton",
           "IND",
           23
          ],
          [
           "Dyson Daniels",
           "NOP",
           20
          ],
          [
           "Kira Lewis Jr.",
           "TOT",
           22
          ],
          [
           "Dean Wade",
           "CLE",
           27
          ],
          [
           "Aaron Nesmith",
           "IND",
           24
          ],
          [
           "Taylor Hendricks",
           "UTA",
           20
          ],
          [
           "Cole Anthony",
           "ORL",
           23
          ],
          [
           "Franz Wagner",
           "ORL",
           22
          ],
          [
           "Furkan Korkmaz",
           "PHI",
           26
          ],
          [
           "Jeremy Sochan",
           "SAS",
           20
          ],
          [
           "Cason Wallace",
           "OKC",
           20
          ],
          [
           "Isaiah Stewart",
           "DET",
           22
          ],
          [
           "Chuma Okeke",
           "ORL",
           25
          ],
          [
           "Davion Mitchell",
           "SAC",
           25
          ],
          [
           "Johnny Davis",
           "WAS",
           21
          ],
          [
           "Jalen Smith",
           "IND",
           23
          ],
          [
           "Jett Howard",
           "ORL",
           20
          ],
          [
           "Aleksej Pokusevski",
           "TOT",
           22
          ],
          [
           "Nick Richards",
           "CHO",
           26
          ],
          [
           "Bismack Biyombo",
           "TOT",
           31
          ],
          [
           "Mason Plumlee",
           "LAC",
           33
          ],
          [
           "Shake Milton",
           "TOT",
           27
          ],
          [
           "Reggie Jackson",
           "DEN",
           33
          ],
          [
           "Ziaire Williams",
           "MEM",
           22
          ],
          [
           "Ousmane Dieng",
           "OKC",
           20
          ],
          [
           "Dereck Lively II",
           "DAL",
           19
          ],
          [
           "Josh Green",
           "DAL",
           23
          ],
          [
           "Jarred Vanderbilt",
           "LAL",
           24
          ],
          [
           "Nickeil Alexander-Walker",
           "MIN",
           25
          ],
          [
           "James Bouknight",
           "CHO",
           23
          ],
          [
           "Jalen Williams",
           "OKC",
           22
          ],
          [
           "Saddiq Bey",
           "ATL",
           24
          ],
          [
           "Gradey Dick",
           "TOR",
           20
          ],
          [
           "Jalen McDaniels",
           "TOR",
           26
          ],
          [
           "Taurean Prince",
           "LAL",
           29
          ],
          [
           "Precious Achiuwa",
           "TOT",
           24
          ],
          [
           "Tyrese Maxey",
           "PHI",
           23
          ],
          [
           "Joshua Primo",
           "LAC",
           21
          ],
          [
           "Jalen Duren",
           "DET",
           20
          ],
          [
           "Danuel House Jr.",
           "PHI",
           30
          ],
          [
           "Jordan Hawkins",
           "NOP",
           21
          ],
          [
           "Zeke Nnaji",
           "DEN",
           23
          ],
          [
           "Immanuel Quickley",
           "TOT",
           24
          ],
          [
           "Chris Duarte",
           "SAC",
           26
          ],
          [
           "Ochai Agbaji",
           "TOT",
           23
          ],
          [
           "Kobe Bufkin",
           "ATL",
           20
          ],
          [
           "Payton Pritchard",
           "BOS",
           26
          ],
          [
           "Dwight Powell",
           "DAL",
           32
          ],
          [
           "Seth Curry",
           "TOT",
           33
          ],
          [
           "Troy Brown Jr.",
           "TOT",
           24
          ],
          [
           "Moses Moody",
           "GSW",
           21
          ],
          [
           "Mark Williams",
           "CHO",
           22
          ],
          [
           "Jaden McDaniels",
           "MIN",
           23
          ],
          [
           "Keyonte George",
           "UTA",
           20
          ],
          [
           "Malachi Flynn",
           "TOT",
           25
          ],
          [
           "Desmond Bane",
           "MEM",
           25
          ],
          [
           "Kevin Love",
           "MIA",
           35
          ],
          [
           "Russell Westbrook",
           "LAC",
           35
          ],
          [
           "Corey Kispert",
           "WAS",
           24
          ],
          [
           "AJ Griffin",
           "ATL",
           20
          ],
          [
           "Jalen Hood-Schifino",
           "LAL",
           20
          ],
          [
           "Amir Coffey",
           "LAC",
           26
          ],
          [
           "Alperen Sengun",
           "HOU",
           21
          ],
          [
           "Tari Eason",
           "HOU",
           22
          ],
          [
           "Jaime Jaquez Jr.",
           "MIA",
           22
          ],
          [
           "Mike Muscala",
           "TOT",
           32
          ],
          [
           "Andre Drummond",
           "CHI",
           30
          ],
          [
           "Derrick Jones Jr.",
           "DAL",
           26
          ],
          [
           "Trey Murphy III",
           "NOP",
           23
          ],
          [
           "Brandin Podziemski",
           "GSW",
           20
          ],
          [
           "Dalen Terry",
           "CHI",
           21
          ],
          [
           "Cam Whitmore",
           "HOU",
           19
          ],
          [
           "Jake LaRavia",
           "MEM",
           22
          ],
          [
           "Derrick Rose",
           "MEM",
           35
          ],
          [
           "Eric Gordon",
           "PHO",
           35
          ],
          [
           "Tre Mann",
           "TOT",
           22
          ],
          [
           "Noah Clowney",
           "BRK",
           19
          ],
          [
           "Malaki Branham",
           "SAS",
           20
          ],
          [
           "Simone Fontecchio",
           "TOT",
           28
          ],
          [
           "Jordan Nwora",
           "TOT",
           25
          ],
          [
           "Julian Champagnie",
           "SAS",
           22
          ],
          [
           "Dante Exum",
           "DAL",
           28
          ],
          [
           "Dariq Whitehead",
           "BRK",
           19
          ],
          [
           "Christian Braun",
           "DEN",
           22
          ],
          [
           "Jalen Johnson",
           "ATL",
           22
          ],
          [
           "Josh Richardson",
           "MIA",
           30
          ],
          [
           "Kris Murray",
           "POR",
           23
          ],
          [
           "Walker Kessler",
           "UTA",
           22
          ],
          [
           "Josh Okogie",
           "PHO",
           25
          ],
          [
           "Keon Johnson",
           "BRK",
           21
          ],
          [
           "Omer Yurtseven",
           "UTA",
           25
          ],
          [
           "Olivier-Maxence Prosper",
           "DAL",
           21
          ],
          [
           "David Roddy",
           "TOT",
           22
          ],
          [
           "Christian Wood",
           "LAL",
           28
          ],
          [
           "Isaiah Jackson",
           "IND",
           22
          ],
          [
           "Marcus Sasser",
           "DET",
           23
          ],
          [
           "MarJon Beauchamp",
           "MIL",
           23
          ],
          [
           "Charles Bassey",
           "SAS",
           23
          ],
          [
           "Usman Garuba",
           "GSW",
           21
          ],
          [
           "Kris Dunn",
           "UTA",
           29
          ],
          [
           "Damian Jones",
           "CLE",
           28
          ],
          [
           "Bruno Fernando",
           "ATL",
           25
          ],
          [
           "Ben Sheppard",
           "IND",
           22
          ],
          [
           "Thomas Bryant",
           "MIA",
           26
          ],
          [
           "Torrey Craig",
           "CHI",
           33
          ],
          [
           "Blake Wesley",
           "SAS",
           20
          ],
          [
           "Nick Smith Jr.",
           "CHO",
           19
          ],
          [
           "Brice Sensabaugh",
           "UTA",
           20
          ],
          [
           "Ty Jerome",
           "CLE",
           26
          ],
          [
           "Julian Strawther",
           "DEN",
           21
          ],
          [
           "Tristan Vukcevic",
           "WAS",
           20
          ],
          [
           "Wendell Moore Jr.",
           "MIN",
           22
          ],
          [
           "Kobe Brown",
           "LAC",
           24
          ],
          [
           "Luke Kornet",
           "BOS",
           28
          ],
          [
           "John Konchar",
           "MEM",
           27
          ],
          [
           "Quentin Grimes",
           "TOT",
           23
          ],
          [
           "Nikola Jovic",
           "MIA",
           20
          ],
          [
           "JaVale McGee",
           "SAC",
           36
          ],
          [
           "Drew Eubanks",
           "PHO",
           26
          ],
          [
           "Keita Bates-Diop",
           "TOT",
           28
          ],
          [
           "Yuta Watanabe",
           "TOT",
           29
          ],
          [
           "Patrick Baldwin Jr.",
           "WAS",
           21
          ],
          [
           "TyTy Washington Jr.",
           "MIL",
           22
          ],
          [
           "Jordan McLaughlin",
           "MIN",
           27
          ],
          [
           "Bones Hyland",
           "LAC",
           23
          ],
          [
           "Peyton Watson",
           "DEN",
           21
          ],
          [
           "James Johnson",
           "IND",
           36
          ],
          [
           "Cam Thomas",
           "BRK",
           22
          ],
          [
           "Vince Williams Jr.",
           "MEM",
           23
          ],
          [
           "Jaden Springer",
           "TOT",
           21
          ],
          [
           "Day'Ron Sharpe",
           "BRK",
           22
          ],
          [
           "Jeff Dowtin",
           "PHI",
           26
          ],
          [
           "Santi Aldama",
           "MEM",
           23
          ],
          [
           "Jaxson Hayes",
           "LAL",
           23
          ],
          [
           "Cam Reddish",
           "LAL",
           24
          ],
          [
           "Oshae Brissett",
           "BOS",
           25
          ],
          [
           "Andrew Nembhard",
           "IND",
           24
          ],
          [
           "Luka Samanic",
           "UTA",
           24
          ],
          [
           "Goga Bitadze",
           "ORL",
           24
          ],
          [
           "Colby Jones",
           "SAC",
           21
          ],
          [
           "Taj Gibson",
           "TOT",
           38
          ],
          [
           "Garrett Temple",
           "TOR",
           37
          ],
          [
           "Sandro Mamukelashvili",
           "SAS",
           24
          ],
          [
           "Robin Lopez",
           "MIL",
           35
          ],
          [
           "Alex Len",
           "SAC",
           30
          ],
          [
           "Dalano Banton",
           "TOT",
           24
          ],
          [
           "Bol Bol",
           "PHO",
           24
          ],
          [
           "Kelly Oubre Jr.",
           "PHI",
           28
          ],
          [
           "Mo Bamba",
           "PHI",
           25
          ],
          [
           "Dylan Windler",
           "TOT",
           27
          ],
          [
           "Cody Zeller",
           "NOP",
           31
          ],
          [
           "Thanasis Antetokounmpo",
           "MIL",
           31
          ],
          [
           "Patrick Beverley",
           "TOT",
           35
          ],
          [
           "Jae Crowder",
           "MIL",
           33
          ],
          [
           "Malik Beasley",
           "MIL",
           27
          ],
          [
           "Chimezie Metu",
           "TOT",
           26
          ],
          [
           "Lamar Stevens",
           "TOT",
           26
          ],
          [
           "Cory Joseph",
           "GSW",
           32
          ],
          [
           "Dario Saric",
           "GSW",
           29
          ],
          [
           "Ryan Arcidiacono",
           "NYK",
           29
          ],
          [
           "DeAndre Jordan",
           "DEN",
           35
          ],
          [
           "Justin Holiday",
           "DEN",
           34
          ],
          [
           "Markieff Morris",
           "DAL",
           34
          ],
          [
           "Ish Smith",
           "CHO",
           35
          ],
          [
           "Frank Ntilikina",
           "CHO",
           25
          ],
          [
           "Terry Taylor",
           "CHI",
           24
          ],
          [
           "Harry Giles III",
           "TOT",
           25
          ],
          [
           "Lonnie Walker IV",
           "BRK",
           25
          ],
          [
           "Dennis Smith Jr.",
           "BRK",
           26
          ],
          [
           "Svi Mykhailiuk",
           "BOS",
           26
          ],
          [
           "Wesley Matthews",
           "ATL",
           37
          ],
          [
           "Moses Brown",
           "POR",
           24
          ],
          [
           "Boban Marjanovic",
           "HOU",
           35
          ],
          [
           "Aaron Holiday",
           "HOU",
           27
          ],
          [
           "Tristan Thompson",
           "CLE",
           32
          ],
          [
           "Trendon Watford",
           "BRK",
           23
          ],
          [
           "Caleb Houstan",
           "ORL",
           21
          ],
          [
           "Jaylin Williams",
           "OKC",
           21
          ],
          [
           "Garrison Mathews",
           "ATL",
           27
          ],
          [
           "Sam Merrill",
           "CLE",
           27
          ],
          [
           "Anthony Gill",
           "WAS",
           31
          ],
          [
           "Isaiah Joe",
           "OKC",
           24
          ],
          [
           "GG Jackson II",
           "MEM",
           19
          ],
          [
           "Duop Reath",
           "POR",
           27
          ],
          [
           "KJ Martin",
           "TOT",
           23
          ],
          [
           "Naji Marshall",
           "NOP",
           26
          ],
          [
           "Xavier Tillman Sr.",
           "TOT",
           25
          ],
          [
           "Jordan Goodwin",
           "TOT",
           25
          ],
          [
           "Kessler Edwards",
           "SAC",
           23
          ],
          [
           "Ish Wainright",
           "TOT",
           29
          ],
          [
           "Jericho Sims",
           "NYK",
           25
          ],
          [
           "Sam Hauser",
           "BOS",
           26
          ],
          [
           "Haywood Highsmith",
           "MIA",
           27
          ],
          [
           "A.J. Green",
           "MIL",
           24
          ],
          [
           "Jeremiah Robinson-Earl",
           "NOP",
           23
          ],
          [
           "Kevin Knox II",
           "DET",
           24
          ],
          [
           "Miles McBride",
           "NYK",
           23
          ],
          [
           "Isaiah Livers",
           "DET",
           25
          ],
          [
           "Brandon Boston Jr.",
           "LAC",
           22
          ],
          [
           "JT Thor",
           "CHO",
           21
          ],
          [
           "Aaron Wiggins",
           "OKC",
           25
          ],
          [
           "Jose Alvarado",
           "NOP",
           25
          ],
          [
           "E.J. Liddell",
           "NOP",
           23
          ],
          [
           "Dru Smith",
           "MIA",
           26
          ],
          [
           "Orlando Robinson",
           "MIA",
           23
          ],
          [
           "Leonard Miller",
           "MIN",
           20
          ],
          [
           "Skylar Mays",
           "TOT",
           26
          ],
          [
           "Ryan Rollins",
           "TOT",
           21
          ],
          [
           "Jaden Hardy",
           "DAL",
           21
          ],
          [
           "Jabari Walker",
           "POR",
           21
          ],
          [
           "Josh Minott",
           "MIN",
           21
          ],
          [
           "Kenneth Lofton Jr.",
           "TOT",
           21
          ],
          [
           "Max Christie",
           "LAL",
           20
          ],
          [
           "Bryce McGowens",
           "CHO",
           21
          ],
          [
           "Jalen Pickett",
           "DEN",
           24
          ],
          [
           "Julian Phillips",
           "CHI",
           20
          ],
          [
           "Matt Ryan",
           "NOP",
           26
          ],
          [
           "Craig Porter Jr.",
           "CLE",
           23
          ],
          [
           "Jared Butler",
           "WAS",
           23
          ],
          [
           "Sidy Cissoko",
           "SAS",
           19
          ],
          [
           "Hunter Tyson",
           "DEN",
           23
          ],
          [
           "Jordan Walsh",
           "BOS",
           19
          ],
          [
           "Rayan Rupert",
           "POR",
           19
          ],
          [
           "Chris Livingston",
           "MIL",
           20
          ],
          [
           "Maxwell Lewis",
           "LAL",
           21
          ],
          [
           "Trayce Jackson-Davis",
           "GSW",
           23
          ],
          [
           "Mouhamed Gueye",
           "ATL",
           21
          ],
          [
           "Toumani Camara",
           "POR",
           23
          ],
          [
           "Andre Jackson Jr.",
           "MIL",
           22
          ],
          [
           "Kendall Brown",
           "IND",
           20
          ],
          [
           "Gui Santos",
           "GSW",
           21
          ],
          [
           "A.J. Lawson",
           "DAL",
           23
          ],
          [
           "Eugene Omoruyi",
           "WAS",
           26
          ],
          [
           "Ricky Council IV",
           "PHI",
           22
          ],
          [
           "Jalen Wilson",
           "BRK",
           23
          ],
          [
           "DaQuan Jeffries",
           "NYK",
           26
          ],
          [
           "Lindy Waters III",
           "OKC",
           26
          ],
          [
           "Keon Ellis",
           "SAC",
           24
          ],
          [
           "Jack White",
           "MEM",
           26
          ],
          [
           "Filip Petrusev",
           "TOT",
           23
          ],
          [
           "Lester Quinones",
           "GSW",
           23
          ],
          [
           "Stanley Umude",
           "DET",
           24
          ],
          [
           "Trent Forrest",
           "ATL",
           25
          ],
          [
           "Darius Bazley",
           "TOT",
           23
          ],
          [
           "Onuralp Bitim",
           "CHI",
           24
          ],
          [
           "Dominick Barlow",
           "SAS",
           20
          ],
          [
           "Juan Toscano-Anderson",
           "SAC",
           30
          ],
          [
           "Javon Freeman-Liberty",
           "TOR",
           24
          ],
          [
           "Mamadi Diakite",
           "TOT",
           27
          ],
          [
           "Neemias Queta",
           "BOS",
           24
          ],
          [
           "T.J. Warren",
           "MIN",
           30
          ],
          [
           "Danny Green",
           "PHI",
           36
          ],
          [
           "Javonte Green",
           "CHI",
           30
          ],
          [
           "Luka Garza",
           "MIN",
           25
          ],
          [
           "Isaiah Thomas",
           "PHO",
           34
          ],
          [
           "Hamidou Diallo",
           "WAS",
           25
          ],
          [
           "Ashton Hagans",
           "POR",
           24
          ],
          [
           "Tosan Evbuomwan",
           "TOT",
           22
          ],
          [
           "Malik Williams",
           "TOR",
           25
          ],
          [
           "Taze Moore",
           "POR",
           25
          ],
          [
           "Pete Nance",
           "CLE",
           23
          ]
         ],
         "hovertemplate": "Salary ($)=%{x}<br>Total Points=%{y}<br>namePlayer=%{customdata[0]}<br>slugTeamBREF=%{customdata[1]}<br>agePlayer=%{customdata[2]}<extra></extra>",
         "legendgroup": "",
         "marker": {
          "color": "#636efa",
          "symbol": "circle"
         },
         "mode": "markers",
         "name": "",
         "orientation": "v",
         "showlegend": false,
         "type": "scatter",
         "x": [
          51915615,
          47649433,
          47607350,
          47607350,
          47607350,
          46741590,
          45640084,
          45640084,
          45640084,
          45640084,
          45183960,
          43219440,
          41000000,
          40806300,
          40600080,
          40064220,
          40064220,
          40064220,
          39270150,
          37893408,
          37893408,
          37037037,
          36861707,
          36016200,
          36016200,
          36016200,
          35802469,
          35680595,
          34005250,
          34005250,
          34005250,
          33833400,
          33833400,
          33386850,
          33386850,
          33319397,
          33162030,
          32600060,
          32600060,
          32600060,
          32459438,
          31830357,
          30800000,
          30600000,
          32478379,
          29320988,
          28600000,
          28226880,
          27586207,
          27455357,
          27102202,
          27000000,
          26346666,
          25679348,
          25568182,
          25340000,
          25000000,
          24360000,
          24330357,
          24107143,
          23883929,
          23487629,
          23205221,
          22627671,
          22500000,
          22321429,
          22266182,
          22000000,
          21700000,
          20975000,
          20616000,
          21911797,
          20089286,
          20000000,
          20000000,
          20000000,
          19928571,
          19845098,
          19500000,
          18857143,
          18833713,
          18700000,
          18642857,
          18560000,
          18518519,
          18357143,
          18214000,
          18154000,
          18000000,
          17897728,
          17400000,
          17325000,
          17307693,
          17259999,
          17429682,
          17000000,
          17000000,
          17000000,
          16875000,
          16847826,
          15740741,
          15681818,
          15669643,
          15435000,
          15384616,
          15277778,
          14763636,
          14704938,
          14487684,
          14000000,
          13932008,
          13750000,
          13534817,
          13050000,
          13000000,
          12960000,
          12950400,
          12500000,
          12500000,
          12405000,
          12405000,
          12402000,
          12195122,
          12160680,
          12119440,
          12100000,
          12046020,
          12015150,
          12015150,
          11750000,
          11710818,
          11710818,
          11692308,
          11608080,
          11571429,
          11111111,
          11055360,
          11020000,
          11014500,
          13033786,
          11000000,
          11000000,
          10933333,
          10900635,
          10900000,
          10880400,
          10576923,
          10500000,
          10500000,
          10489600,
          10386000,
          10375000,
          10250000,
          10000000,
          9945830,
          9895833,
          9891480,
          9835881,
          9800926,
          9770880,
          9625000,
          9600000,
          9500000,
          9460000,
          9423869,
          9326520,
          9245121,
          9219512,
          8925000,
          8920795,
          8882640,
          8809320,
          8800000,
          8715000,
          8700000,
          8409000,
          8856750,
          8109063,
          8008680,
          8000000,
          8000000,
          8000000,
          8000000,
          8638413,
          7977480,
          7921300,
          7723000,
          7723000,
          7700000,
          7614480,
          7560000,
          7500000,
          7413955,
          7252080,
          7245480,
          8670002,
          6916080,
          6803012,
          6802950,
          7464578,
          7267250,
          6718842,
          6614280,
          6587040,
          8519706,
          6500000,
          6481482,
          6341464,
          6313800,
          6300000,
          6263188,
          6250000,
          6190476,
          6175000,
          6059520,
          6012840,
          5887899,
          5808435,
          5784120,
          5722116,
          5709877,
          5634257,
          5569920,
          5539771,
          5508720,
          5370370,
          5316960,
          5291400,
          5266713,
          5266713,
          5063640,
          5050800,
          5043773,
          5026800,
          5574809,
          5000000,
          5754488,
          5000000,
          5475908,
          5000000,
          4810200,
          4798440,
          4775640,
          4765339,
          4698000,
          4687500,
          4570080,
          4558680,
          4556983,
          4536720,
          4516000,
          4516000,
          4379527,
          4343920,
          6105941,
          4330680,
          4310250,
          4310160,
          4306281,
          4171548,
          4124400,
          4114200,
          4094280,
          4037277,
          4000000,
          4000000,
          4000000,
          3918480,
          3908160,
          3901399,
          3889800,
          3873025,
          3845083,
          3835738,
          3835738,
          3722040,
          3712920,
          3695040,
          3666667,
          3536280,
          3527160,
          3510600,
          4010730,
          3360000,
          5379706,
          3359280,
          3352440,
          3350760,
          3218160,
          3199920,
          3196448,
          3196448,
          3191400,
          3089520,
          3071880,
          3044872,
          3000000,
          3000000,
          3000000,
          2966040,
          2949120,
          2925360,
          2891467,
          2847480,
          2831160,
          2815937,
          2808720,
          2800000,
          2733720,
          2718240,
          2709849,
          2696280,
          2624040,
          2609400,
          2600000,
          2600008,
          2586665,
          2586665,
          2581522,
          2537160,
          2528233,
          2528233,
          2504640,
          2463960,
          2448600,
          2439025,
          2431080,
          2424892,
          2421720,
          2413320,
          2413304,
          2400000,
          2385720,
          2352000,
          4368030,
          2346614,
          2346614,
          2346614,
          2337720,
          2320440,
          2320000,
          2306400,
          2303520,
          777703,
          2240160,
          2232308,
          2226240,
          2210040,
          2196970,
          2194200,
          2165000,
          2165000,
          2165000,
          2131905,
          2066585,
          2066585,
          2019706,
          2961636,
          2019706,
          2019706,
          2019706,
          2019706,
          2019706,
          2019706,
          2019706,
          2019706,
          2019706,
          2019706,
          2019706,
          2019706,
          2019706,
          2019706,
          2351562,
          2419706,
          2019706,
          2019706,
          2019706,
          2019706,
          2019706,
          2019706,
          2019706,
          2019706,
          2019706,
          2019706,
          2019706,
          2019706,
          2019706,
          2019706,
          2019706,
          2019706,
          2019706,
          2019706,
          2019706,
          2000000,
          2000000,
          2000000,
          1997238,
          1997238,
          1997238,
          1991428,
          1951220,
          1930681,
          1930681,
          1930681,
          1927896,
          1927896,
          1927896,
          1927896,
          1927896,
          1902137,
          1901769,
          684843,
          1845593,
          1836096,
          1836096,
          1836096,
          1836096,
          1836096,
          1836096,
          1801769,
          1801769,
          1801769,
          1800000,
          1799163,
          1719864,
          1719864,
          1719864,
          1719864,
          500000,
          1719864,
          1719864,
          1708143,
          1600000,
          1500000,
          1500000,
          1250000,
          1119563,
          1119563,
          1119563,
          1119563,
          1119563,
          1119563,
          1119563,
          1119563,
          1119563,
          1119563,
          1100000,
          1029483,
          1000000,
          900000,
          864353,
          850000,
          1324828,
          766095,
          683430,
          600000,
          559782,
          548815,
          538460,
          533945,
          616075,
          500000,
          455620,
          439581,
          289542,
          368600,
          331253,
          452693,
          200000,
          243758,
          127683,
          301795,
          116075,
          103550,
          135120,
          77212,
          64343,
          64343
         ],
         "xaxis": "x",
         "y": [
          1956,
          2032,
          2085,
          1353,
          1822,
          964,
          2222,
          1613,
          1775,
          1671,
          1246,
          1375,
          1061,
          1270,
          1876,
          1389,
          2370,
          487,
          1204,
          92,
          1737,
          1487,
          860,
          1841,
          1349,
          1145,
          1322,
          1192,
          1601,
          226,
          1028,
          1332,
          1250,
          2254,
          1356,
          500,
          1463,
          1966,
          1367,
          1987,
          920,
          1610,
          533,
          1593,
          487,
          828,
          1897,
          1102,
          1132,
          1356,
          1486,
          875,
          2212,
          776,
          1553,
          1027,
          990,
          869,
          939,
          1039,
          1170,
          942,
          1205,
          915,
          613,
          475,
          1013,
          726,
          1606,
          1313,
          836,
          795,
          891,
          1084,
          1271,
          868,
          39,
          1013,
          555,
          220,
          289,
          1333,
          733,
          974,
          1370,
          1107,
          1753,
          875,
          1056,
          1139,
          393,
          1458,
          1369,
          1278,
          316,
          1000,
          290,
          335,
          829,
          939,
          923,
          173,
          655,
          1002,
          952,
          860,
          429,
          766,
          853,
          790,
          580,
          351,
          2049,
          603,
          372,
          761,
          1090,
          68,
          583,
          784,
          1122,
          814,
          762,
          1522,
          446,
          114,
          199,
          837,
          1300,
          322,
          1130,
          320,
          127,
          1804,
          41,
          1509,
          1405,
          516,
          52,
          96,
          191,
          296,
          794,
          526,
          1259,
          1279,
          658,
          34,
          354,
          689,
          1357,
          350,
          327,
          562,
          1110,
          771,
          1610,
          429,
          164,
          868,
          841,
          509,
          608,
          715,
          428,
          1044,
          582,
          506,
          1014,
          647,
          785,
          592,
          768,
          240,
          727,
          1172,
          210,
          561,
          1191,
          274,
          419,
          421,
          868,
          137,
          556,
          1449,
          422,
          600,
          776,
          1185,
          211,
          334,
          289,
          943,
          316,
          376,
          856,
          843,
          640,
          280,
          127,
          489,
          532,
          986,
          578,
          265,
          924,
          225,
          510,
          39,
          1102,
          152,
          357,
          325,
          120,
          1188,
          1323,
          1389,
          354,
          89,
          291,
          877,
          292,
          937,
          1421,
          88,
          861,
          561,
          503,
          107,
          379,
          152,
          601,
          29,
          146,
          652,
          174,
          244,
          216,
          833,
          420,
          133,
          483,
          469,
          150,
          655,
          50,
          1355,
          863,
          510,
          169,
          697,
          565,
          1816,
          2,
          841,
          144,
          524,
          186,
          1156,
          230,
          455,
          81,
          787,
          208,
          226,
          247,
          533,
          242,
          757,
          974,
          380,
          997,
          485,
          754,
          1070,
          48,
          34,
          463,
          1331,
          215,
          889,
          157,
          663,
          657,
          842,
          682,
          180,
          579,
          379,
          191,
          749,
          382,
          133,
          690,
          692,
          364,
          504,
          428,
          3,
          600,
          896,
          425,
          376,
          518,
          277,
          31,
          222,
          121,
          425,
          347,
          383,
          586,
          211,
          63,
          3,
          357,
          107,
          282,
          252,
          217,
          303,
          268,
          302,
          241,
          4,
          227,
          85,
          18,
          89,
          334,
          235,
          359,
          352,
          185,
          379,
          197,
          117,
          168,
          14,
          195,
          256,
          532,
          8,
          1482,
          521,
          163,
          415,
          52,
          654,
          303,
          260,
          201,
          626,
          177,
          311,
          64,
          34,
          88,
          190,
          18,
          120,
          557,
          223,
          1049,
          253,
          43,
          76,
          32,
          451,
          312,
          889,
          332,
          272,
          63,
          515,
          0,
          142,
          234,
          66,
          139,
          5,
          46,
          56,
          565,
          369,
          162,
          110,
          75,
          45,
          514,
          161,
          432,
          253,
          276,
          325,
          485,
          189,
          636,
          699,
          617,
          224,
          466,
          284,
          368,
          93,
          23,
          92,
          712,
          405,
          252,
          115,
          223,
          562,
          114,
          167,
          199,
          542,
          397,
          4,
          39,
          99,
          29,
          155,
          44,
          530,
          638,
          50,
          96,
          284,
          302,
          42,
          89,
          152,
          285,
          251,
          45,
          20,
          15,
          155,
          26,
          11,
          540,
          24,
          527,
          125,
          21,
          82,
          136,
          207,
          173,
          214,
          14,
          137,
          310,
          6,
          3,
          164,
          127,
          83,
          48,
          80,
          144,
          7,
          153,
          12,
          154,
          41,
          0,
          110,
          99,
          8,
          2,
          80,
          101,
          19,
          18,
          3
         ],
         "yaxis": "y"
        }
       ],
       "layout": {
        "legend": {
         "tracegroupgap": 0
        },
        "template": {
         "data": {
          "bar": [
           {
            "error_x": {
             "color": "#2a3f5f"
            },
            "error_y": {
             "color": "#2a3f5f"
            },
            "marker": {
             "line": {
              "color": "#E5ECF6",
              "width": 0.5
             },
             "pattern": {
              "fillmode": "overlay",
              "size": 10,
              "solidity": 0.2
             }
            },
            "type": "bar"
           }
          ],
          "barpolar": [
           {
            "marker": {
             "line": {
              "color": "#E5ECF6",
              "width": 0.5
             },
             "pattern": {
              "fillmode": "overlay",
              "size": 10,
              "solidity": 0.2
             }
            },
            "type": "barpolar"
           }
          ],
          "carpet": [
           {
            "aaxis": {
             "endlinecolor": "#2a3f5f",
             "gridcolor": "white",
             "linecolor": "white",
             "minorgridcolor": "white",
             "startlinecolor": "#2a3f5f"
            },
            "baxis": {
             "endlinecolor": "#2a3f5f",
             "gridcolor": "white",
             "linecolor": "white",
             "minorgridcolor": "white",
             "startlinecolor": "#2a3f5f"
            },
            "type": "carpet"
           }
          ],
          "choropleth": [
           {
            "colorbar": {
             "outlinewidth": 0,
             "ticks": ""
            },
            "type": "choropleth"
           }
          ],
          "contour": [
           {
            "colorbar": {
             "outlinewidth": 0,
             "ticks": ""
            },
            "colorscale": [
             [
              0,
              "#0d0887"
             ],
             [
              0.1111111111111111,
              "#46039f"
             ],
             [
              0.2222222222222222,
              "#7201a8"
             ],
             [
              0.3333333333333333,
              "#9c179e"
             ],
             [
              0.4444444444444444,
              "#bd3786"
             ],
             [
              0.5555555555555556,
              "#d8576b"
             ],
             [
              0.6666666666666666,
              "#ed7953"
             ],
             [
              0.7777777777777778,
              "#fb9f3a"
             ],
             [
              0.8888888888888888,
              "#fdca26"
             ],
             [
              1,
              "#f0f921"
             ]
            ],
            "type": "contour"
           }
          ],
          "contourcarpet": [
           {
            "colorbar": {
             "outlinewidth": 0,
             "ticks": ""
            },
            "type": "contourcarpet"
           }
          ],
          "heatmap": [
           {
            "colorbar": {
             "outlinewidth": 0,
             "ticks": ""
            },
            "colorscale": [
             [
              0,
              "#0d0887"
             ],
             [
              0.1111111111111111,
              "#46039f"
             ],
             [
              0.2222222222222222,
              "#7201a8"
             ],
             [
              0.3333333333333333,
              "#9c179e"
             ],
             [
              0.4444444444444444,
              "#bd3786"
             ],
             [
              0.5555555555555556,
              "#d8576b"
             ],
             [
              0.6666666666666666,
              "#ed7953"
             ],
             [
              0.7777777777777778,
              "#fb9f3a"
             ],
             [
              0.8888888888888888,
              "#fdca26"
             ],
             [
              1,
              "#f0f921"
             ]
            ],
            "type": "heatmap"
           }
          ],
          "heatmapgl": [
           {
            "colorbar": {
             "outlinewidth": 0,
             "ticks": ""
            },
            "colorscale": [
             [
              0,
              "#0d0887"
             ],
             [
              0.1111111111111111,
              "#46039f"
             ],
             [
              0.2222222222222222,
              "#7201a8"
             ],
             [
              0.3333333333333333,
              "#9c179e"
             ],
             [
              0.4444444444444444,
              "#bd3786"
             ],
             [
              0.5555555555555556,
              "#d8576b"
             ],
             [
              0.6666666666666666,
              "#ed7953"
             ],
             [
              0.7777777777777778,
              "#fb9f3a"
             ],
             [
              0.8888888888888888,
              "#fdca26"
             ],
             [
              1,
              "#f0f921"
             ]
            ],
            "type": "heatmapgl"
           }
          ],
          "histogram": [
           {
            "marker": {
             "pattern": {
              "fillmode": "overlay",
              "size": 10,
              "solidity": 0.2
             }
            },
            "type": "histogram"
           }
          ],
          "histogram2d": [
           {
            "colorbar": {
             "outlinewidth": 0,
             "ticks": ""
            },
            "colorscale": [
             [
              0,
              "#0d0887"
             ],
             [
              0.1111111111111111,
              "#46039f"
             ],
             [
              0.2222222222222222,
              "#7201a8"
             ],
             [
              0.3333333333333333,
              "#9c179e"
             ],
             [
              0.4444444444444444,
              "#bd3786"
             ],
             [
              0.5555555555555556,
              "#d8576b"
             ],
             [
              0.6666666666666666,
              "#ed7953"
             ],
             [
              0.7777777777777778,
              "#fb9f3a"
             ],
             [
              0.8888888888888888,
              "#fdca26"
             ],
             [
              1,
              "#f0f921"
             ]
            ],
            "type": "histogram2d"
           }
          ],
          "histogram2dcontour": [
           {
            "colorbar": {
             "outlinewidth": 0,
             "ticks": ""
            },
            "colorscale": [
             [
              0,
              "#0d0887"
             ],
             [
              0.1111111111111111,
              "#46039f"
             ],
             [
              0.2222222222222222,
              "#7201a8"
             ],
             [
              0.3333333333333333,
              "#9c179e"
             ],
             [
              0.4444444444444444,
              "#bd3786"
             ],
             [
              0.5555555555555556,
              "#d8576b"
             ],
             [
              0.6666666666666666,
              "#ed7953"
             ],
             [
              0.7777777777777778,
              "#fb9f3a"
             ],
             [
              0.8888888888888888,
              "#fdca26"
             ],
             [
              1,
              "#f0f921"
             ]
            ],
            "type": "histogram2dcontour"
           }
          ],
          "mesh3d": [
           {
            "colorbar": {
             "outlinewidth": 0,
             "ticks": ""
            },
            "type": "mesh3d"
           }
          ],
          "parcoords": [
           {
            "line": {
             "colorbar": {
              "outlinewidth": 0,
              "ticks": ""
             }
            },
            "type": "parcoords"
           }
          ],
          "pie": [
           {
            "automargin": true,
            "type": "pie"
           }
          ],
          "scatter": [
           {
            "fillpattern": {
             "fillmode": "overlay",
             "size": 10,
             "solidity": 0.2
            },
            "type": "scatter"
           }
          ],
          "scatter3d": [
           {
            "line": {
             "colorbar": {
              "outlinewidth": 0,
              "ticks": ""
             }
            },
            "marker": {
             "colorbar": {
              "outlinewidth": 0,
              "ticks": ""
             }
            },
            "type": "scatter3d"
           }
          ],
          "scattercarpet": [
           {
            "marker": {
             "colorbar": {
              "outlinewidth": 0,
              "ticks": ""
             }
            },
            "type": "scattercarpet"
           }
          ],
          "scattergeo": [
           {
            "marker": {
             "colorbar": {
              "outlinewidth": 0,
              "ticks": ""
             }
            },
            "type": "scattergeo"
           }
          ],
          "scattergl": [
           {
            "marker": {
             "colorbar": {
              "outlinewidth": 0,
              "ticks": ""
             }
            },
            "type": "scattergl"
           }
          ],
          "scattermapbox": [
           {
            "marker": {
             "colorbar": {
              "outlinewidth": 0,
              "ticks": ""
             }
            },
            "type": "scattermapbox"
           }
          ],
          "scatterpolar": [
           {
            "marker": {
             "colorbar": {
              "outlinewidth": 0,
              "ticks": ""
             }
            },
            "type": "scatterpolar"
           }
          ],
          "scatterpolargl": [
           {
            "marker": {
             "colorbar": {
              "outlinewidth": 0,
              "ticks": ""
             }
            },
            "type": "scatterpolargl"
           }
          ],
          "scatterternary": [
           {
            "marker": {
             "colorbar": {
              "outlinewidth": 0,
              "ticks": ""
             }
            },
            "type": "scatterternary"
           }
          ],
          "surface": [
           {
            "colorbar": {
             "outlinewidth": 0,
             "ticks": ""
            },
            "colorscale": [
             [
              0,
              "#0d0887"
             ],
             [
              0.1111111111111111,
              "#46039f"
             ],
             [
              0.2222222222222222,
              "#7201a8"
             ],
             [
              0.3333333333333333,
              "#9c179e"
             ],
             [
              0.4444444444444444,
              "#bd3786"
             ],
             [
              0.5555555555555556,
              "#d8576b"
             ],
             [
              0.6666666666666666,
              "#ed7953"
             ],
             [
              0.7777777777777778,
              "#fb9f3a"
             ],
             [
              0.8888888888888888,
              "#fdca26"
             ],
             [
              1,
              "#f0f921"
             ]
            ],
            "type": "surface"
           }
          ],
          "table": [
           {
            "cells": {
             "fill": {
              "color": "#EBF0F8"
             },
             "line": {
              "color": "white"
             }
            },
            "header": {
             "fill": {
              "color": "#C8D4E3"
             },
             "line": {
              "color": "white"
             }
            },
            "type": "table"
           }
          ]
         },
         "layout": {
          "annotationdefaults": {
           "arrowcolor": "#2a3f5f",
           "arrowhead": 0,
           "arrowwidth": 1
          },
          "autotypenumbers": "strict",
          "coloraxis": {
           "colorbar": {
            "outlinewidth": 0,
            "ticks": ""
           }
          },
          "colorscale": {
           "diverging": [
            [
             0,
             "#8e0152"
            ],
            [
             0.1,
             "#c51b7d"
            ],
            [
             0.2,
             "#de77ae"
            ],
            [
             0.3,
             "#f1b6da"
            ],
            [
             0.4,
             "#fde0ef"
            ],
            [
             0.5,
             "#f7f7f7"
            ],
            [
             0.6,
             "#e6f5d0"
            ],
            [
             0.7,
             "#b8e186"
            ],
            [
             0.8,
             "#7fbc41"
            ],
            [
             0.9,
             "#4d9221"
            ],
            [
             1,
             "#276419"
            ]
           ],
           "sequential": [
            [
             0,
             "#0d0887"
            ],
            [
             0.1111111111111111,
             "#46039f"
            ],
            [
             0.2222222222222222,
             "#7201a8"
            ],
            [
             0.3333333333333333,
             "#9c179e"
            ],
            [
             0.4444444444444444,
             "#bd3786"
            ],
            [
             0.5555555555555556,
             "#d8576b"
            ],
            [
             0.6666666666666666,
             "#ed7953"
            ],
            [
             0.7777777777777778,
             "#fb9f3a"
            ],
            [
             0.8888888888888888,
             "#fdca26"
            ],
            [
             1,
             "#f0f921"
            ]
           ],
           "sequentialminus": [
            [
             0,
             "#0d0887"
            ],
            [
             0.1111111111111111,
             "#46039f"
            ],
            [
             0.2222222222222222,
             "#7201a8"
            ],
            [
             0.3333333333333333,
             "#9c179e"
            ],
            [
             0.4444444444444444,
             "#bd3786"
            ],
            [
             0.5555555555555556,
             "#d8576b"
            ],
            [
             0.6666666666666666,
             "#ed7953"
            ],
            [
             0.7777777777777778,
             "#fb9f3a"
            ],
            [
             0.8888888888888888,
             "#fdca26"
            ],
            [
             1,
             "#f0f921"
            ]
           ]
          },
          "colorway": [
           "#636efa",
           "#EF553B",
           "#00cc96",
           "#ab63fa",
           "#FFA15A",
           "#19d3f3",
           "#FF6692",
           "#B6E880",
           "#FF97FF",
           "#FECB52"
          ],
          "font": {
           "color": "#2a3f5f"
          },
          "geo": {
           "bgcolor": "white",
           "lakecolor": "white",
           "landcolor": "#E5ECF6",
           "showlakes": true,
           "showland": true,
           "subunitcolor": "white"
          },
          "hoverlabel": {
           "align": "left"
          },
          "hovermode": "closest",
          "mapbox": {
           "style": "light"
          },
          "paper_bgcolor": "white",
          "plot_bgcolor": "#E5ECF6",
          "polar": {
           "angularaxis": {
            "gridcolor": "white",
            "linecolor": "white",
            "ticks": ""
           },
           "bgcolor": "#E5ECF6",
           "radialaxis": {
            "gridcolor": "white",
            "linecolor": "white",
            "ticks": ""
           }
          },
          "scene": {
           "xaxis": {
            "backgroundcolor": "#E5ECF6",
            "gridcolor": "white",
            "gridwidth": 2,
            "linecolor": "white",
            "showbackground": true,
            "ticks": "",
            "zerolinecolor": "white"
           },
           "yaxis": {
            "backgroundcolor": "#E5ECF6",
            "gridcolor": "white",
            "gridwidth": 2,
            "linecolor": "white",
            "showbackground": true,
            "ticks": "",
            "zerolinecolor": "white"
           },
           "zaxis": {
            "backgroundcolor": "#E5ECF6",
            "gridcolor": "white",
            "gridwidth": 2,
            "linecolor": "white",
            "showbackground": true,
            "ticks": "",
            "zerolinecolor": "white"
           }
          },
          "shapedefaults": {
           "line": {
            "color": "#2a3f5f"
           }
          },
          "ternary": {
           "aaxis": {
            "gridcolor": "white",
            "linecolor": "white",
            "ticks": ""
           },
           "baxis": {
            "gridcolor": "white",
            "linecolor": "white",
            "ticks": ""
           },
           "bgcolor": "#E5ECF6",
           "caxis": {
            "gridcolor": "white",
            "linecolor": "white",
            "ticks": ""
           }
          },
          "title": {
           "x": 0.05
          },
          "xaxis": {
           "automargin": true,
           "gridcolor": "white",
           "linecolor": "white",
           "ticks": "",
           "title": {
            "standoff": 15
           },
           "zerolinecolor": "white",
           "zerolinewidth": 2
          },
          "yaxis": {
           "automargin": true,
           "gridcolor": "white",
           "linecolor": "white",
           "ticks": "",
           "title": {
            "standoff": 15
           },
           "zerolinecolor": "white",
           "zerolinewidth": 2
          }
         }
        },
        "title": {
         "text": "Salary vs. Total Points"
        },
        "xaxis": {
         "anchor": "y",
         "domain": [
          0,
          1
         ],
         "title": {
          "text": "Salary ($)"
         }
        },
        "yaxis": {
         "anchor": "x",
         "domain": [
          0,
          1
         ],
         "title": {
          "text": "Total Points"
         }
        }
       }
      }
     },
     "metadata": {},
     "output_type": "display_data"
    }
   ],
   "source": [
    "fig = px.scatter(SS, x='Salary', y='ptsTotals', \n",
    "                 title='Salary vs. Total Points',\n",
    "                 labels={'Salary': 'Salary ($)', 'ptsTotals': 'Total Points'},\n",
    "                 hover_data=['namePlayer', 'slugTeamBREF', 'agePlayer'])\n",
    "fig.show()"
   ]
  },
  {
   "cell_type": "code",
   "execution_count": 86,
   "metadata": {},
   "outputs": [
    {
     "name": "stderr",
     "output_type": "stream",
     "text": [
      "/var/folders/vl/xlcg7z052993rf2f_9vpl4h00000gn/T/ipykernel_1481/1570469596.py:1: DeprecationWarning:\n",
      "\n",
      "DataFrameGroupBy.apply operated on the grouping columns. This behavior is deprecated, and in a future version of pandas the grouping columns will be excluded from the operation. Either pass `include_groups=False` to exclude the groupings or explicitly select the grouping columns after groupby to silence this warning.\n",
      "\n"
     ]
    },
    {
     "data": {
      "application/vnd.plotly.v1+json": {
       "config": {
        "plotlyServerURL": "https://plot.ly"
       },
       "data": [
        {
         "alignmentgroup": "True",
         "customdata": [
          [
           "DEN"
          ],
          [
           "LAL"
          ],
          [
           "SAC"
          ],
          [
           "SAS"
          ],
          [
           "MEM"
          ],
          [
           "CHI"
          ],
          [
           "MIA"
          ],
          [
           "OKC"
          ],
          [
           "PHI"
          ],
          [
           "HOU"
          ]
         ],
         "hovertemplate": "slugPosition=C<br>Player=%{x}<br>Total Points=%{y}<br>slugTeamBREF=%{customdata[0]}<extra></extra>",
         "legendgroup": "C",
         "marker": {
          "color": "#636efa",
          "pattern": {
           "shape": ""
          }
         },
         "name": "C",
         "offsetgroup": "C",
         "orientation": "v",
         "showlegend": true,
         "textposition": "auto",
         "type": "bar",
         "x": [
          "Nikola Jokic",
          "Anthony Davis",
          "Domantas Sabonis",
          "Victor Wembanyama",
          "Jaren Jackson Jr.",
          "Nikola Vucevic",
          "Bam Adebayo",
          "Chet Holmgren",
          "Joel Embiid",
          "Alperen Sengun"
         ],
         "xaxis": "x",
         "y": [
          2085,
          1876,
          1593,
          1522,
          1486,
          1370,
          1367,
          1357,
          1353,
          1331
         ],
         "yaxis": "y"
        },
        {
         "alignmentgroup": "True",
         "customdata": [
          [
           "TOT"
          ],
          [
           "TOT"
          ],
          [
           "TOT"
          ]
         ],
         "hovertemplate": "slugPosition=C-PF<br>Player=%{x}<br>Total Points=%{y}<br>slugTeamBREF=%{customdata[0]}<extra></extra>",
         "legendgroup": "C-PF",
         "marker": {
          "color": "#EF553B",
          "pattern": {
           "shape": ""
          }
         },
         "name": "C-PF",
         "offsetgroup": "C-PF",
         "orientation": "v",
         "showlegend": true,
         "textposition": "auto",
         "type": "bar",
         "x": [
          "Daniel Gafford",
          "Xavier Tillman Sr.",
          "Richaun Holmes"
         ],
         "xaxis": "x",
         "y": [
          814,
          284,
          199
         ],
         "yaxis": "y"
        },
        {
         "alignmentgroup": "True",
         "customdata": [
          [
           "MIL"
          ],
          [
           "PHO"
          ],
          [
           "BOS"
          ],
          [
           "LAL"
          ],
          [
           "ORL"
          ],
          [
           "TOT"
          ],
          [
           "LAC"
          ],
          [
           "NOP"
          ],
          [
           "WAS"
          ],
          [
           "OKC"
          ]
         ],
         "hovertemplate": "slugPosition=PF<br>Player=%{x}<br>Total Points=%{y}<br>slugTeamBREF=%{customdata[0]}<extra></extra>",
         "legendgroup": "PF",
         "marker": {
          "color": "#00cc96",
          "pattern": {
           "shape": ""
          }
         },
         "name": "PF",
         "offsetgroup": "PF",
         "orientation": "v",
         "showlegend": true,
         "textposition": "auto",
         "type": "bar",
         "x": [
          "Giannis Antetokounmpo",
          "Kevin Durant",
          "Jayson Tatum",
          "LeBron James",
          "Paolo Banchero",
          "Pascal Siakam",
          "Paul George",
          "Zion Williamson",
          "Kyle Kuzma",
          "Jalen Williams"
         ],
         "xaxis": "x",
         "y": [
          2222,
          2032,
          1987,
          1822,
          1804,
          1737,
          1671,
          1601,
          1553,
          1355
         ],
         "yaxis": "y"
        },
        {
         "alignmentgroup": "True",
         "customdata": [
          [
           "TOT"
          ]
         ],
         "hovertemplate": "slugPosition=PF-C<br>Player=%{x}<br>Total Points=%{y}<br>slugTeamBREF=%{customdata[0]}<extra></extra>",
         "legendgroup": "PF-C",
         "marker": {
          "color": "#ab63fa",
          "pattern": {
           "shape": ""
          }
         },
         "name": "PF-C",
         "offsetgroup": "PF-C",
         "orientation": "v",
         "showlegend": true,
         "textposition": "auto",
         "type": "bar",
         "x": [
          "Precious Achiuwa"
         ],
         "xaxis": "x",
         "y": [
          565
         ],
         "yaxis": "y"
        },
        {
         "alignmentgroup": "True",
         "customdata": [
          [
           "TOT"
          ]
         ],
         "hovertemplate": "slugPosition=PF-SF<br>Player=%{x}<br>Total Points=%{y}<br>slugTeamBREF=%{customdata[0]}<extra></extra>",
         "legendgroup": "PF-SF",
         "marker": {
          "color": "#FFA15A",
          "pattern": {
           "shape": ""
          }
         },
         "name": "PF-SF",
         "offsetgroup": "PF-SF",
         "orientation": "v",
         "showlegend": true,
         "textposition": "auto",
         "type": "bar",
         "x": [
          "Danilo Gallinari"
         ],
         "xaxis": "x",
         "y": [
          280
         ],
         "yaxis": "y"
        },
        {
         "alignmentgroup": "True",
         "customdata": [
          [
           "DAL"
          ],
          [
           "OKC"
          ],
          [
           "NYK"
          ],
          [
           "SAC"
          ],
          [
           "GSW"
          ],
          [
           "PHO"
          ],
          [
           "PHI"
          ],
          [
           "MIL"
          ],
          [
           "CHI"
          ],
          [
           "DET"
          ]
         ],
         "hovertemplate": "slugPosition=PG<br>Player=%{x}<br>Total Points=%{y}<br>slugTeamBREF=%{customdata[0]}<extra></extra>",
         "legendgroup": "PG",
         "marker": {
          "color": "#19d3f3",
          "pattern": {
           "shape": ""
          }
         },
         "name": "PG",
         "offsetgroup": "PG",
         "orientation": "v",
         "showlegend": true,
         "textposition": "auto",
         "type": "bar",
         "x": [
          "Luka Doncic",
          "Shai Gilgeous-Alexander",
          "Jalen Brunson",
          "De'Aaron Fox",
          "Stephen Curry",
          "Devin Booker",
          "Tyrese Maxey",
          "Damian Lillard",
          "Coby White",
          "Cade Cunningham"
         ],
         "xaxis": "x",
         "y": [
          2370,
          2254,
          2212,
          1966,
          1956,
          1841,
          1816,
          1775,
          1509,
          1405
         ],
         "yaxis": "y"
        },
        {
         "alignmentgroup": "True",
         "customdata": [
          [
           "TOT"
          ],
          [
           "TOT"
          ],
          [
           "TOT"
          ],
          [
           "TOT"
          ]
         ],
         "hovertemplate": "slugPosition=PG-SG<br>Player=%{x}<br>Total Points=%{y}<br>slugTeamBREF=%{customdata[0]}<extra></extra>",
         "legendgroup": "PG-SG",
         "marker": {
          "color": "#FF6692",
          "pattern": {
           "shape": ""
          }
         },
         "name": "PG-SG",
         "offsetgroup": "PG-SG",
         "orientation": "v",
         "showlegend": true,
         "textposition": "auto",
         "type": "bar",
         "x": [
          "Terry Rozier",
          "Immanuel Quickley",
          "Bruce Brown",
          "Skylar Mays"
         ],
         "xaxis": "x",
         "y": [
          1205,
          1156,
          726,
          155
         ],
         "yaxis": "y"
        },
        {
         "alignmentgroup": "True",
         "customdata": [
          [
           "CHI"
          ],
          [
           "LAC"
          ],
          [
           "BOS"
          ],
          [
           "BRK"
          ],
          [
           "CHO"
          ],
          [
           "ORL"
          ],
          [
           "GSW"
          ],
          [
           "DEN"
          ],
          [
           "NOP"
          ],
          [
           "CHO"
          ]
         ],
         "hovertemplate": "slugPosition=SF<br>Player=%{x}<br>Total Points=%{y}<br>slugTeamBREF=%{customdata[0]}<extra></extra>",
         "legendgroup": "SF",
         "marker": {
          "color": "#B6E880",
          "pattern": {
           "shape": ""
          }
         },
         "name": "SF",
         "offsetgroup": "SF",
         "orientation": "v",
         "showlegend": true,
         "textposition": "auto",
         "type": "bar",
         "x": [
          "DeMar DeRozan",
          "Kawhi Leonard",
          "Jaylen Brown",
          "Mikal Bridges",
          "Miles Bridges",
          "Franz Wagner",
          "Klay Thompson",
          "Michael Porter Jr.",
          "Brandon Ingram",
          "Brandon Miller"
         ],
         "xaxis": "x",
         "y": [
          1897,
          1613,
          1610,
          1606,
          1449,
          1421,
          1375,
          1356,
          1332,
          1279
         ],
         "yaxis": "y"
        },
        {
         "alignmentgroup": "True",
         "customdata": [
          [
           "TOT"
          ],
          [
           "TOT"
          ]
         ],
         "hovertemplate": "slugPosition=SF-PF<br>Player=%{x}<br>Total Points=%{y}<br>slugTeamBREF=%{customdata[0]}<extra></extra>",
         "legendgroup": "SF-PF",
         "marker": {
          "color": "#FF97FF",
          "pattern": {
           "shape": ""
          }
         },
         "name": "SF-PF",
         "offsetgroup": "SF-PF",
         "orientation": "v",
         "showlegend": true,
         "textposition": "auto",
         "type": "bar",
         "x": [
          "Bojan Bogdanovic",
          "Robert Covington"
         ],
         "xaxis": "x",
         "y": [
          868,
          127
         ],
         "yaxis": "y"
        },
        {
         "alignmentgroup": "True",
         "customdata": [
          [
           "TOT"
          ]
         ],
         "hovertemplate": "slugPosition=SF-SG<br>Player=%{x}<br>Total Points=%{y}<br>slugTeamBREF=%{customdata[0]}<extra></extra>",
         "legendgroup": "SF-SG",
         "marker": {
          "color": "#FECB52",
          "pattern": {
           "shape": ""
          }
         },
         "name": "SF-SG",
         "offsetgroup": "SF-SG",
         "orientation": "v",
         "showlegend": true,
         "textposition": "auto",
         "type": "bar",
         "x": [
          "Buddy Hield"
         ],
         "xaxis": "x",
         "y": [
          1013
         ],
         "yaxis": "y"
        },
        {
         "alignmentgroup": "True",
         "customdata": [
          [
           "MIN"
          ],
          [
           "ATL"
          ],
          [
           "HOU"
          ],
          [
           "DAL"
          ],
          [
           "BRK"
          ],
          [
           "CLE"
          ],
          [
           "UTA"
          ],
          [
           "WAS"
          ],
          [
           "ATL"
          ],
          [
           "SAS"
          ]
         ],
         "hovertemplate": "slugPosition=SG<br>Player=%{x}<br>Total Points=%{y}<br>slugTeamBREF=%{customdata[0]}<extra></extra>",
         "legendgroup": "SG",
         "marker": {
          "color": "#636efa",
          "pattern": {
           "shape": ""
          }
         },
         "name": "SG",
         "offsetgroup": "SG",
         "orientation": "v",
         "showlegend": true,
         "textposition": "auto",
         "type": "bar",
         "x": [
          "Anthony Edwards",
          "Dejounte Murray",
          "Jalen Green",
          "Kyrie Irving",
          "Cam Thomas",
          "Donovan Mitchell",
          "Collin Sexton",
          "Jordan Poole",
          "Bogdan Bogdanovic",
          "Devin Vassell"
         ],
         "xaxis": "x",
         "y": [
          2049,
          1753,
          1610,
          1487,
          1482,
          1463,
          1458,
          1356,
          1333,
          1323
         ],
         "yaxis": "y"
        },
        {
         "alignmentgroup": "True",
         "customdata": [
          [
           "TOT"
          ]
         ],
         "hovertemplate": "slugPosition=SG-PG<br>Player=%{x}<br>Total Points=%{y}<br>slugTeamBREF=%{customdata[0]}<extra></extra>",
         "legendgroup": "SG-PG",
         "marker": {
          "color": "#EF553B",
          "pattern": {
           "shape": ""
          }
         },
         "name": "SG-PG",
         "offsetgroup": "SG-PG",
         "orientation": "v",
         "showlegend": true,
         "textposition": "auto",
         "type": "bar",
         "x": [
          "Jaden Springer"
         ],
         "xaxis": "x",
         "y": [
          163
         ],
         "yaxis": "y"
        }
       ],
       "layout": {
        "barmode": "relative",
        "legend": {
         "title": {
          "text": "slugPosition"
         },
         "tracegroupgap": 0
        },
        "template": {
         "data": {
          "bar": [
           {
            "error_x": {
             "color": "#2a3f5f"
            },
            "error_y": {
             "color": "#2a3f5f"
            },
            "marker": {
             "line": {
              "color": "#E5ECF6",
              "width": 0.5
             },
             "pattern": {
              "fillmode": "overlay",
              "size": 10,
              "solidity": 0.2
             }
            },
            "type": "bar"
           }
          ],
          "barpolar": [
           {
            "marker": {
             "line": {
              "color": "#E5ECF6",
              "width": 0.5
             },
             "pattern": {
              "fillmode": "overlay",
              "size": 10,
              "solidity": 0.2
             }
            },
            "type": "barpolar"
           }
          ],
          "carpet": [
           {
            "aaxis": {
             "endlinecolor": "#2a3f5f",
             "gridcolor": "white",
             "linecolor": "white",
             "minorgridcolor": "white",
             "startlinecolor": "#2a3f5f"
            },
            "baxis": {
             "endlinecolor": "#2a3f5f",
             "gridcolor": "white",
             "linecolor": "white",
             "minorgridcolor": "white",
             "startlinecolor": "#2a3f5f"
            },
            "type": "carpet"
           }
          ],
          "choropleth": [
           {
            "colorbar": {
             "outlinewidth": 0,
             "ticks": ""
            },
            "type": "choropleth"
           }
          ],
          "contour": [
           {
            "colorbar": {
             "outlinewidth": 0,
             "ticks": ""
            },
            "colorscale": [
             [
              0,
              "#0d0887"
             ],
             [
              0.1111111111111111,
              "#46039f"
             ],
             [
              0.2222222222222222,
              "#7201a8"
             ],
             [
              0.3333333333333333,
              "#9c179e"
             ],
             [
              0.4444444444444444,
              "#bd3786"
             ],
             [
              0.5555555555555556,
              "#d8576b"
             ],
             [
              0.6666666666666666,
              "#ed7953"
             ],
             [
              0.7777777777777778,
              "#fb9f3a"
             ],
             [
              0.8888888888888888,
              "#fdca26"
             ],
             [
              1,
              "#f0f921"
             ]
            ],
            "type": "contour"
           }
          ],
          "contourcarpet": [
           {
            "colorbar": {
             "outlinewidth": 0,
             "ticks": ""
            },
            "type": "contourcarpet"
           }
          ],
          "heatmap": [
           {
            "colorbar": {
             "outlinewidth": 0,
             "ticks": ""
            },
            "colorscale": [
             [
              0,
              "#0d0887"
             ],
             [
              0.1111111111111111,
              "#46039f"
             ],
             [
              0.2222222222222222,
              "#7201a8"
             ],
             [
              0.3333333333333333,
              "#9c179e"
             ],
             [
              0.4444444444444444,
              "#bd3786"
             ],
             [
              0.5555555555555556,
              "#d8576b"
             ],
             [
              0.6666666666666666,
              "#ed7953"
             ],
             [
              0.7777777777777778,
              "#fb9f3a"
             ],
             [
              0.8888888888888888,
              "#fdca26"
             ],
             [
              1,
              "#f0f921"
             ]
            ],
            "type": "heatmap"
           }
          ],
          "heatmapgl": [
           {
            "colorbar": {
             "outlinewidth": 0,
             "ticks": ""
            },
            "colorscale": [
             [
              0,
              "#0d0887"
             ],
             [
              0.1111111111111111,
              "#46039f"
             ],
             [
              0.2222222222222222,
              "#7201a8"
             ],
             [
              0.3333333333333333,
              "#9c179e"
             ],
             [
              0.4444444444444444,
              "#bd3786"
             ],
             [
              0.5555555555555556,
              "#d8576b"
             ],
             [
              0.6666666666666666,
              "#ed7953"
             ],
             [
              0.7777777777777778,
              "#fb9f3a"
             ],
             [
              0.8888888888888888,
              "#fdca26"
             ],
             [
              1,
              "#f0f921"
             ]
            ],
            "type": "heatmapgl"
           }
          ],
          "histogram": [
           {
            "marker": {
             "pattern": {
              "fillmode": "overlay",
              "size": 10,
              "solidity": 0.2
             }
            },
            "type": "histogram"
           }
          ],
          "histogram2d": [
           {
            "colorbar": {
             "outlinewidth": 0,
             "ticks": ""
            },
            "colorscale": [
             [
              0,
              "#0d0887"
             ],
             [
              0.1111111111111111,
              "#46039f"
             ],
             [
              0.2222222222222222,
              "#7201a8"
             ],
             [
              0.3333333333333333,
              "#9c179e"
             ],
             [
              0.4444444444444444,
              "#bd3786"
             ],
             [
              0.5555555555555556,
              "#d8576b"
             ],
             [
              0.6666666666666666,
              "#ed7953"
             ],
             [
              0.7777777777777778,
              "#fb9f3a"
             ],
             [
              0.8888888888888888,
              "#fdca26"
             ],
             [
              1,
              "#f0f921"
             ]
            ],
            "type": "histogram2d"
           }
          ],
          "histogram2dcontour": [
           {
            "colorbar": {
             "outlinewidth": 0,
             "ticks": ""
            },
            "colorscale": [
             [
              0,
              "#0d0887"
             ],
             [
              0.1111111111111111,
              "#46039f"
             ],
             [
              0.2222222222222222,
              "#7201a8"
             ],
             [
              0.3333333333333333,
              "#9c179e"
             ],
             [
              0.4444444444444444,
              "#bd3786"
             ],
             [
              0.5555555555555556,
              "#d8576b"
             ],
             [
              0.6666666666666666,
              "#ed7953"
             ],
             [
              0.7777777777777778,
              "#fb9f3a"
             ],
             [
              0.8888888888888888,
              "#fdca26"
             ],
             [
              1,
              "#f0f921"
             ]
            ],
            "type": "histogram2dcontour"
           }
          ],
          "mesh3d": [
           {
            "colorbar": {
             "outlinewidth": 0,
             "ticks": ""
            },
            "type": "mesh3d"
           }
          ],
          "parcoords": [
           {
            "line": {
             "colorbar": {
              "outlinewidth": 0,
              "ticks": ""
             }
            },
            "type": "parcoords"
           }
          ],
          "pie": [
           {
            "automargin": true,
            "type": "pie"
           }
          ],
          "scatter": [
           {
            "fillpattern": {
             "fillmode": "overlay",
             "size": 10,
             "solidity": 0.2
            },
            "type": "scatter"
           }
          ],
          "scatter3d": [
           {
            "line": {
             "colorbar": {
              "outlinewidth": 0,
              "ticks": ""
             }
            },
            "marker": {
             "colorbar": {
              "outlinewidth": 0,
              "ticks": ""
             }
            },
            "type": "scatter3d"
           }
          ],
          "scattercarpet": [
           {
            "marker": {
             "colorbar": {
              "outlinewidth": 0,
              "ticks": ""
             }
            },
            "type": "scattercarpet"
           }
          ],
          "scattergeo": [
           {
            "marker": {
             "colorbar": {
              "outlinewidth": 0,
              "ticks": ""
             }
            },
            "type": "scattergeo"
           }
          ],
          "scattergl": [
           {
            "marker": {
             "colorbar": {
              "outlinewidth": 0,
              "ticks": ""
             }
            },
            "type": "scattergl"
           }
          ],
          "scattermapbox": [
           {
            "marker": {
             "colorbar": {
              "outlinewidth": 0,
              "ticks": ""
             }
            },
            "type": "scattermapbox"
           }
          ],
          "scatterpolar": [
           {
            "marker": {
             "colorbar": {
              "outlinewidth": 0,
              "ticks": ""
             }
            },
            "type": "scatterpolar"
           }
          ],
          "scatterpolargl": [
           {
            "marker": {
             "colorbar": {
              "outlinewidth": 0,
              "ticks": ""
             }
            },
            "type": "scatterpolargl"
           }
          ],
          "scatterternary": [
           {
            "marker": {
             "colorbar": {
              "outlinewidth": 0,
              "ticks": ""
             }
            },
            "type": "scatterternary"
           }
          ],
          "surface": [
           {
            "colorbar": {
             "outlinewidth": 0,
             "ticks": ""
            },
            "colorscale": [
             [
              0,
              "#0d0887"
             ],
             [
              0.1111111111111111,
              "#46039f"
             ],
             [
              0.2222222222222222,
              "#7201a8"
             ],
             [
              0.3333333333333333,
              "#9c179e"
             ],
             [
              0.4444444444444444,
              "#bd3786"
             ],
             [
              0.5555555555555556,
              "#d8576b"
             ],
             [
              0.6666666666666666,
              "#ed7953"
             ],
             [
              0.7777777777777778,
              "#fb9f3a"
             ],
             [
              0.8888888888888888,
              "#fdca26"
             ],
             [
              1,
              "#f0f921"
             ]
            ],
            "type": "surface"
           }
          ],
          "table": [
           {
            "cells": {
             "fill": {
              "color": "#EBF0F8"
             },
             "line": {
              "color": "white"
             }
            },
            "header": {
             "fill": {
              "color": "#C8D4E3"
             },
             "line": {
              "color": "white"
             }
            },
            "type": "table"
           }
          ]
         },
         "layout": {
          "annotationdefaults": {
           "arrowcolor": "#2a3f5f",
           "arrowhead": 0,
           "arrowwidth": 1
          },
          "autotypenumbers": "strict",
          "coloraxis": {
           "colorbar": {
            "outlinewidth": 0,
            "ticks": ""
           }
          },
          "colorscale": {
           "diverging": [
            [
             0,
             "#8e0152"
            ],
            [
             0.1,
             "#c51b7d"
            ],
            [
             0.2,
             "#de77ae"
            ],
            [
             0.3,
             "#f1b6da"
            ],
            [
             0.4,
             "#fde0ef"
            ],
            [
             0.5,
             "#f7f7f7"
            ],
            [
             0.6,
             "#e6f5d0"
            ],
            [
             0.7,
             "#b8e186"
            ],
            [
             0.8,
             "#7fbc41"
            ],
            [
             0.9,
             "#4d9221"
            ],
            [
             1,
             "#276419"
            ]
           ],
           "sequential": [
            [
             0,
             "#0d0887"
            ],
            [
             0.1111111111111111,
             "#46039f"
            ],
            [
             0.2222222222222222,
             "#7201a8"
            ],
            [
             0.3333333333333333,
             "#9c179e"
            ],
            [
             0.4444444444444444,
             "#bd3786"
            ],
            [
             0.5555555555555556,
             "#d8576b"
            ],
            [
             0.6666666666666666,
             "#ed7953"
            ],
            [
             0.7777777777777778,
             "#fb9f3a"
            ],
            [
             0.8888888888888888,
             "#fdca26"
            ],
            [
             1,
             "#f0f921"
            ]
           ],
           "sequentialminus": [
            [
             0,
             "#0d0887"
            ],
            [
             0.1111111111111111,
             "#46039f"
            ],
            [
             0.2222222222222222,
             "#7201a8"
            ],
            [
             0.3333333333333333,
             "#9c179e"
            ],
            [
             0.4444444444444444,
             "#bd3786"
            ],
            [
             0.5555555555555556,
             "#d8576b"
            ],
            [
             0.6666666666666666,
             "#ed7953"
            ],
            [
             0.7777777777777778,
             "#fb9f3a"
            ],
            [
             0.8888888888888888,
             "#fdca26"
            ],
            [
             1,
             "#f0f921"
            ]
           ]
          },
          "colorway": [
           "#636efa",
           "#EF553B",
           "#00cc96",
           "#ab63fa",
           "#FFA15A",
           "#19d3f3",
           "#FF6692",
           "#B6E880",
           "#FF97FF",
           "#FECB52"
          ],
          "font": {
           "color": "#2a3f5f"
          },
          "geo": {
           "bgcolor": "white",
           "lakecolor": "white",
           "landcolor": "#E5ECF6",
           "showlakes": true,
           "showland": true,
           "subunitcolor": "white"
          },
          "hoverlabel": {
           "align": "left"
          },
          "hovermode": "closest",
          "mapbox": {
           "style": "light"
          },
          "paper_bgcolor": "white",
          "plot_bgcolor": "#E5ECF6",
          "polar": {
           "angularaxis": {
            "gridcolor": "white",
            "linecolor": "white",
            "ticks": ""
           },
           "bgcolor": "#E5ECF6",
           "radialaxis": {
            "gridcolor": "white",
            "linecolor": "white",
            "ticks": ""
           }
          },
          "scene": {
           "xaxis": {
            "backgroundcolor": "#E5ECF6",
            "gridcolor": "white",
            "gridwidth": 2,
            "linecolor": "white",
            "showbackground": true,
            "ticks": "",
            "zerolinecolor": "white"
           },
           "yaxis": {
            "backgroundcolor": "#E5ECF6",
            "gridcolor": "white",
            "gridwidth": 2,
            "linecolor": "white",
            "showbackground": true,
            "ticks": "",
            "zerolinecolor": "white"
           },
           "zaxis": {
            "backgroundcolor": "#E5ECF6",
            "gridcolor": "white",
            "gridwidth": 2,
            "linecolor": "white",
            "showbackground": true,
            "ticks": "",
            "zerolinecolor": "white"
           }
          },
          "shapedefaults": {
           "line": {
            "color": "#2a3f5f"
           }
          },
          "ternary": {
           "aaxis": {
            "gridcolor": "white",
            "linecolor": "white",
            "ticks": ""
           },
           "baxis": {
            "gridcolor": "white",
            "linecolor": "white",
            "ticks": ""
           },
           "bgcolor": "#E5ECF6",
           "caxis": {
            "gridcolor": "white",
            "linecolor": "white",
            "ticks": ""
           }
          },
          "title": {
           "x": 0.05
          },
          "xaxis": {
           "automargin": true,
           "gridcolor": "white",
           "linecolor": "white",
           "ticks": "",
           "title": {
            "standoff": 15
           },
           "zerolinecolor": "white",
           "zerolinewidth": 2
          },
          "yaxis": {
           "automargin": true,
           "gridcolor": "white",
           "linecolor": "white",
           "ticks": "",
           "title": {
            "standoff": 15
           },
           "zerolinecolor": "white",
           "zerolinewidth": 2
          }
         }
        },
        "title": {
         "text": "Top Scorers by Position"
        },
        "xaxis": {
         "anchor": "y",
         "domain": [
          0,
          1
         ],
         "title": {
          "text": "Player"
         }
        },
        "yaxis": {
         "anchor": "x",
         "domain": [
          0,
          1
         ],
         "title": {
          "text": "Total Points"
         }
        }
       }
      }
     },
     "metadata": {},
     "output_type": "display_data"
    }
   ],
   "source": [
    "top_scorers = SS.groupby('slugPosition').apply(lambda x: x.nlargest(10, 'ptsTotals')).reset_index(drop=True)\n",
    "fig = px.bar(top_scorers, x='namePlayer', y='ptsTotals', color='slugPosition',\n",
    "             title='Top Scorers by Position',\n",
    "             labels={'namePlayer': 'Player', 'ptsTotals': 'Total Points'},\n",
    "             hover_data=['slugTeamBREF'])\n",
    "fig.show()"
   ]
  },
  {
   "cell_type": "code",
   "execution_count": 90,
   "metadata": {},
   "outputs": [
    {
     "data": {
      "application/vnd.plotly.v1+json": {
       "config": {
        "plotlyServerURL": "https://plot.ly"
       },
       "data": [
        {
         "alignmentgroup": "True",
         "customdata": [
          [
           "Stephen Curry"
          ],
          [
           "Kevin Durant"
          ],
          [
           "Nikola Jokic"
          ],
          [
           "Joel Embiid"
          ],
          [
           "LeBron James"
          ],
          [
           "Bradley Beal"
          ],
          [
           "Giannis Antetokounmpo"
          ],
          [
           "Kawhi Leonard"
          ],
          [
           "Damian Lillard"
          ],
          [
           "Paul George"
          ],
          [
           "Jimmy Butler"
          ],
          [
           "Klay Thompson"
          ],
          [
           "Rudy Gobert"
          ],
          [
           "Fred VanVleet"
          ],
          [
           "Anthony Davis"
          ],
          [
           "Trae Young"
          ],
          [
           "Luka Doncic"
          ],
          [
           "Zach LaVine"
          ],
          [
           "Tobias Harris"
          ],
          [
           "Ben Simmons"
          ],
          [
           "Pascal Siakam"
          ],
          [
           "Kyrie Irving"
          ],
          [
           "Jrue Holiday"
          ],
          [
           "Devin Booker"
          ],
          [
           "Karl-Anthony Towns"
          ],
          [
           "Kristaps Porzingis"
          ],
          [
           "CJ McCollum"
          ],
          [
           "James Harden"
          ],
          [
           "Zion Williamson"
          ],
          [
           "Ja Morant"
          ],
          [
           "Darius Garland"
          ],
          [
           "Brandon Ingram"
          ],
          [
           "Jamal Murray"
          ],
          [
           "Shai Gilgeous-Alexander"
          ],
          [
           "Michael Porter Jr."
          ],
          [
           "Gordon Hayward"
          ],
          [
           "Donovan Mitchell"
          ],
          [
           "De'Aaron Fox"
          ],
          [
           "Bam Adebayo"
          ],
          [
           "Jayson Tatum"
          ],
          [
           "Deandre Ayton"
          ],
          [
           "Jaylen Brown"
          ],
          [
           "Chris Paul"
          ],
          [
           "Domantas Sabonis"
          ],
          [
           "Kyle Lowry"
          ],
          [
           "Khris Middleton"
          ],
          [
           "DeMar DeRozan"
          ],
          [
           "Julius Randle"
          ],
          [
           "Jerami Grant"
          ],
          [
           "Jordan Poole"
          ],
          [
           "Jaren Jackson Jr."
          ],
          [
           "Tyler Herro"
          ],
          [
           "Jalen Brunson"
          ],
          [
           "Cameron Johnson"
          ],
          [
           "Kyle Kuzma"
          ],
          [
           "John Collins"
          ],
          [
           "Brook Lopez"
          ],
          [
           "Mike Conley"
          ],
          [
           "Andrew Wiggins"
          ],
          [
           "Anfernee Simons"
          ],
          [
           "RJ Barrett"
          ],
          [
           "Jordan Clarkson"
          ],
          [
           "Terry Rozier"
          ],
          [
           "Dillon Brooks"
          ],
          [
           "Malcolm Brogdon"
          ],
          [
           "Draymond Green"
          ],
          [
           "Aaron Gordon"
          ],
          [
           "Bruce Brown"
          ],
          [
           "Mikal Bridges"
          ],
          [
           "Myles Turner"
          ],
          [
           "Clint Capela"
          ],
          [
           "Spencer Dinwiddie"
          ],
          [
           "De'Andre Hunter"
          ],
          [
           "Keldon Johnson"
          ],
          [
           "Jarrett Allen"
          ],
          [
           "Bojan Bogdanovic"
          ],
          [
           "Joe Harris"
          ],
          [
           "Buddy Hield"
          ],
          [
           "Jakob Poeltl"
          ],
          [
           "Evan Fournier"
          ],
          [
           "Marcus Smart"
          ],
          [
           "Bogdan Bogdanovic"
          ],
          [
           "OG Anunoby"
          ],
          [
           "Gary Trent Jr."
          ],
          [
           "Nikola Vucevic"
          ],
          [
           "Derrick White"
          ],
          [
           "Dejounte Murray"
          ],
          [
           "Duncan Robinson"
          ],
          [
           "Norman Powell"
          ],
          [
           "Tim Hardaway Jr."
          ],
          [
           "Jonathan Isaac"
          ],
          [
           "Collin Sexton"
          ],
          [
           "D'Angelo Russell"
          ],
          [
           "Lauri Markkanen"
          ],
          [
           "Marcus Morris Sr."
          ],
          [
           "Harrison Barnes"
          ],
          [
           "Davis Bertans"
          ],
          [
           "Markelle Fultz"
          ],
          [
           "Jusuf Nurkic"
          ],
          [
           "P.J. Washington"
          ],
          [
           "Rui Hachimura"
          ],
          [
           "Mitchell Robinson"
          ],
          [
           "Kevin Huerter"
          ],
          [
           "Jonas Valanciunas"
          ],
          [
           "Caris LeVert"
          ],
          [
           "Luguentz Dort"
          ],
          [
           "Luke Kennard"
          ],
          [
           "Kentavious Caldwell-Pope"
          ],
          [
           "Max Strus"
          ],
          [
           "Tyus Jones"
          ],
          [
           "Dorian Finney-Smith"
          ],
          [
           "Doug McDermott"
          ],
          [
           "Anthony Edwards"
          ],
          [
           "Wendell Carter Jr."
          ],
          [
           "Gary Harris"
          ],
          [
           "Josh Hart"
          ],
          [
           "Naz Reid"
          ],
          [
           "Brandon Clarke"
          ],
          [
           "Marvin Bagley III"
          ],
          [
           "Grant Williams"
          ],
          [
           "Dennis Schroder"
          ],
          [
           "Daniel Gafford"
          ],
          [
           "Kelly Olynyk"
          ],
          [
           "Victor Wembanyama"
          ],
          [
           "James Wiseman"
          ],
          [
           "Devonte' Graham"
          ],
          [
           "Richaun Holmes"
          ],
          [
           "Herbert Jones"
          ],
          [
           "Austin Reaves"
          ],
          [
           "Chris Boucher"
          ],
          [
           "Bobby Portis"
          ],
          [
           "Nicolas Batum"
          ],
          [
           "Robert Covington"
          ],
          [
           "Paolo Banchero"
          ],
          [
           "Robert Williams III"
          ],
          [
           "Coby White"
          ],
          [
           "Cade Cunningham"
          ],
          [
           "Talen Horton-Tucker"
          ],
          [
           "P.J. Tucker"
          ],
          [
           "Reggie Bullock"
          ],
          [
           "Maxi Kleber"
          ],
          [
           "Joe Ingles"
          ],
          [
           "Ivica Zubac"
          ],
          [
           "LaMelo Ball"
          ],
          [
           "Donte DiVincenzo"
          ],
          [
           "Brandon Miller"
          ],
          [
           "Terance Mann"
          ],
          [
           "Gabe Vincent"
          ],
          [
           "Matisse Thybulle"
          ],
          [
           "Alec Burks"
          ],
          [
           "Chet Holmgren"
          ],
          [
           "Larry Nance Jr."
          ],
          [
           "Landry Shamet"
          ],
          [
           "Al Horford"
          ],
          [
           "Malik Monk"
          ],
          [
           "Tre Jones"
          ],
          [
           "Jalen Green"
          ],
          [
           "Patrick Williams"
          ],
          [
           "Monte Morris"
          ],
          [
           "Scoot Henderson"
          ],
          [
           "Nic Claxton"
          ],
          [
           "Jeff Green"
          ],
          [
           "Royce O'Neale"
          ],
          [
           "Alex Caruso"
          ],
          [
           "Pat Connaughton"
          ],
          [
           "Jabari Smith Jr."
          ],
          [
           "Isaiah Hartenstein"
          ],
          [
           "Kyle Anderson"
          ],
          [
           "Grayson Allen"
          ],
          [
           "Isaac Okoro"
          ],
          [
           "Evan Mobley"
          ],
          [
           "Amen Thompson"
          ],
          [
           "Georges Niang"
          ],
          [
           "Gary Payton II"
          ],
          [
           "T.J. McConnell"
          ],
          [
           "Keegan Murray"
          ],
          [
           "Delon Wright"
          ],
          [
           "Onyeka Okongwu"
          ],
          [
           "Scottie Barnes"
          ],
          [
           "Jock Landale"
          ],
          [
           "Trey Lyles"
          ],
          [
           "De'Anthony Melton"
          ],
          [
           "Moritz Wagner"
          ],
          [
           "Thaddeus Young"
          ],
          [
           "Ausar Thompson"
          ],
          [
           "Miles Bridges"
          ],
          [
           "Vasilije Micic"
          ],
          [
           "Paul Reed"
          ],
          [
           "Zach Collins"
          ],
          [
           "Jaden Ivey"
          ],
          [
           "Cody Martin"
          ],
          [
           "Kevon Looney"
          ],
          [
           "Killian Hayes"
          ],
          [
           "Jalen Suggs"
          ],
          [
           "Anthony Black"
          ],
          [
           "Daniel Theis"
          ],
          [
           "Bennedict Mathurin"
          ],
          [
           "Obi Toppin"
          ],
          [
           "Caleb Martin"
          ],
          [
           "Danilo Gallinari"
          ],
          [
           "Patty Mills"
          ],
          [
           "Cedi Osman"
          ],
          [
           "Bilal Coulibaly"
          ],
          [
           "Josh Giddey"
          ],
          [
           "Cameron Payne"
          ],
          [
           "Jae'Sean Tate"
          ],
          [
           "Ayo Dosunmu"
          ],
          [
           "Sasha Vezenkov"
          ],
          [
           "Shaedon Sharpe"
          ],
          [
           "Otto Porter Jr."
          ],
          [
           "Deni Avdija"
          ],
          [
           "Nassir Little"
          ],
          [
           "Jevon Carter"
          ],
          [
           "Kenrich Williams"
          ],
          [
           "Jarace Walker"
          ],
          [
           "Jonathan Kuminga"
          ],
          [
           "Devin Vassell"
          ],
          [
           "Tyrese Haliburton"
          ],
          [
           "Dyson Daniels"
          ],
          [
           "Kira Lewis Jr."
          ],
          [
           "Dean Wade"
          ],
          [
           "Aaron Nesmith"
          ],
          [
           "Taylor Hendricks"
          ],
          [
           "Cole Anthony"
          ],
          [
           "Franz Wagner"
          ],
          [
           "Furkan Korkmaz"
          ],
          [
           "Jeremy Sochan"
          ],
          [
           "Cason Wallace"
          ],
          [
           "Isaiah Stewart"
          ],
          [
           "Chuma Okeke"
          ],
          [
           "Davion Mitchell"
          ],
          [
           "Johnny Davis"
          ],
          [
           "Jalen Smith"
          ],
          [
           "Jett Howard"
          ],
          [
           "Aleksej Pokusevski"
          ],
          [
           "Nick Richards"
          ],
          [
           "Bismack Biyombo"
          ],
          [
           "Mason Plumlee"
          ],
          [
           "Shake Milton"
          ],
          [
           "Reggie Jackson"
          ],
          [
           "Ziaire Williams"
          ],
          [
           "Ousmane Dieng"
          ],
          [
           "Dereck Lively II"
          ],
          [
           "Josh Green"
          ],
          [
           "Jarred Vanderbilt"
          ],
          [
           "Nickeil Alexander-Walker"
          ],
          [
           "James Bouknight"
          ],
          [
           "Jalen Williams"
          ],
          [
           "Saddiq Bey"
          ],
          [
           "Gradey Dick"
          ],
          [
           "Jalen McDaniels"
          ],
          [
           "Taurean Prince"
          ],
          [
           "Precious Achiuwa"
          ],
          [
           "Tyrese Maxey"
          ],
          [
           "Joshua Primo"
          ],
          [
           "Jalen Duren"
          ],
          [
           "Danuel House Jr."
          ],
          [
           "Jordan Hawkins"
          ],
          [
           "Zeke Nnaji"
          ],
          [
           "Immanuel Quickley"
          ],
          [
           "Chris Duarte"
          ],
          [
           "Ochai Agbaji"
          ],
          [
           "Kobe Bufkin"
          ],
          [
           "Payton Pritchard"
          ],
          [
           "Dwight Powell"
          ],
          [
           "Seth Curry"
          ],
          [
           "Troy Brown Jr."
          ],
          [
           "Moses Moody"
          ],
          [
           "Mark Williams"
          ],
          [
           "Jaden McDaniels"
          ],
          [
           "Keyonte George"
          ],
          [
           "Malachi Flynn"
          ],
          [
           "Desmond Bane"
          ],
          [
           "Kevin Love"
          ],
          [
           "Russell Westbrook"
          ],
          [
           "Corey Kispert"
          ],
          [
           "AJ Griffin"
          ],
          [
           "Jalen Hood-Schifino"
          ],
          [
           "Amir Coffey"
          ],
          [
           "Alperen Sengun"
          ],
          [
           "Tari Eason"
          ],
          [
           "Jaime Jaquez Jr."
          ],
          [
           "Mike Muscala"
          ],
          [
           "Andre Drummond"
          ],
          [
           "Derrick Jones Jr."
          ],
          [
           "Trey Murphy III"
          ],
          [
           "Brandin Podziemski"
          ],
          [
           "Dalen Terry"
          ],
          [
           "Cam Whitmore"
          ],
          [
           "Jake LaRavia"
          ],
          [
           "Derrick Rose"
          ],
          [
           "Eric Gordon"
          ],
          [
           "Tre Mann"
          ],
          [
           "Noah Clowney"
          ],
          [
           "Malaki Branham"
          ],
          [
           "Simone Fontecchio"
          ],
          [
           "Jordan Nwora"
          ],
          [
           "Julian Champagnie"
          ],
          [
           "Dante Exum"
          ],
          [
           "Dariq Whitehead"
          ],
          [
           "Christian Braun"
          ],
          [
           "Jalen Johnson"
          ],
          [
           "Josh Richardson"
          ],
          [
           "Kris Murray"
          ],
          [
           "Walker Kessler"
          ],
          [
           "Josh Okogie"
          ],
          [
           "Keon Johnson"
          ],
          [
           "Omer Yurtseven"
          ],
          [
           "Olivier-Maxence Prosper"
          ],
          [
           "David Roddy"
          ],
          [
           "Christian Wood"
          ],
          [
           "Isaiah Jackson"
          ],
          [
           "Marcus Sasser"
          ],
          [
           "MarJon Beauchamp"
          ],
          [
           "Charles Bassey"
          ],
          [
           "Usman Garuba"
          ],
          [
           "Kris Dunn"
          ],
          [
           "Damian Jones"
          ],
          [
           "Bruno Fernando"
          ],
          [
           "Ben Sheppard"
          ],
          [
           "Thomas Bryant"
          ],
          [
           "Torrey Craig"
          ],
          [
           "Blake Wesley"
          ],
          [
           "Nick Smith Jr."
          ],
          [
           "Brice Sensabaugh"
          ],
          [
           "Ty Jerome"
          ],
          [
           "Julian Strawther"
          ],
          [
           "Tristan Vukcevic"
          ],
          [
           "Wendell Moore Jr."
          ],
          [
           "Kobe Brown"
          ],
          [
           "Luke Kornet"
          ],
          [
           "John Konchar"
          ],
          [
           "Quentin Grimes"
          ],
          [
           "Nikola Jovic"
          ],
          [
           "JaVale McGee"
          ],
          [
           "Drew Eubanks"
          ],
          [
           "Keita Bates-Diop"
          ],
          [
           "Yuta Watanabe"
          ],
          [
           "Patrick Baldwin Jr."
          ],
          [
           "TyTy Washington Jr."
          ],
          [
           "Jordan McLaughlin"
          ],
          [
           "Bones Hyland"
          ],
          [
           "Peyton Watson"
          ],
          [
           "James Johnson"
          ],
          [
           "Cam Thomas"
          ],
          [
           "Vince Williams Jr."
          ],
          [
           "Jaden Springer"
          ],
          [
           "Day'Ron Sharpe"
          ],
          [
           "Jeff Dowtin"
          ],
          [
           "Santi Aldama"
          ],
          [
           "Jaxson Hayes"
          ],
          [
           "Cam Reddish"
          ],
          [
           "Oshae Brissett"
          ],
          [
           "Andrew Nembhard"
          ],
          [
           "Luka Samanic"
          ],
          [
           "Goga Bitadze"
          ],
          [
           "Colby Jones"
          ],
          [
           "Taj Gibson"
          ],
          [
           "Garrett Temple"
          ],
          [
           "Sandro Mamukelashvili"
          ],
          [
           "Robin Lopez"
          ],
          [
           "Alex Len"
          ],
          [
           "Dalano Banton"
          ],
          [
           "Bol Bol"
          ],
          [
           "Kelly Oubre Jr."
          ],
          [
           "Mo Bamba"
          ],
          [
           "Dylan Windler"
          ],
          [
           "Cody Zeller"
          ],
          [
           "Thanasis Antetokounmpo"
          ],
          [
           "Patrick Beverley"
          ],
          [
           "Jae Crowder"
          ],
          [
           "Malik Beasley"
          ],
          [
           "Chimezie Metu"
          ],
          [
           "Lamar Stevens"
          ],
          [
           "Cory Joseph"
          ],
          [
           "Dario Saric"
          ],
          [
           "Ryan Arcidiacono"
          ],
          [
           "DeAndre Jordan"
          ],
          [
           "Justin Holiday"
          ],
          [
           "Markieff Morris"
          ],
          [
           "Ish Smith"
          ],
          [
           "Frank Ntilikina"
          ],
          [
           "Terry Taylor"
          ],
          [
           "Harry Giles III"
          ],
          [
           "Lonnie Walker IV"
          ],
          [
           "Dennis Smith Jr."
          ],
          [
           "Svi Mykhailiuk"
          ],
          [
           "Wesley Matthews"
          ],
          [
           "Moses Brown"
          ],
          [
           "Boban Marjanovic"
          ],
          [
           "Aaron Holiday"
          ],
          [
           "Tristan Thompson"
          ],
          [
           "Trendon Watford"
          ],
          [
           "Caleb Houstan"
          ],
          [
           "Jaylin Williams"
          ],
          [
           "Garrison Mathews"
          ],
          [
           "Sam Merrill"
          ],
          [
           "Anthony Gill"
          ],
          [
           "Isaiah Joe"
          ],
          [
           "GG Jackson II"
          ],
          [
           "Duop Reath"
          ],
          [
           "KJ Martin"
          ],
          [
           "Naji Marshall"
          ],
          [
           "Xavier Tillman Sr."
          ],
          [
           "Jordan Goodwin"
          ],
          [
           "Kessler Edwards"
          ],
          [
           "Ish Wainright"
          ],
          [
           "Jericho Sims"
          ],
          [
           "Sam Hauser"
          ],
          [
           "Haywood Highsmith"
          ],
          [
           "A.J. Green"
          ],
          [
           "Jeremiah Robinson-Earl"
          ],
          [
           "Kevin Knox II"
          ],
          [
           "Miles McBride"
          ],
          [
           "Isaiah Livers"
          ],
          [
           "Brandon Boston Jr."
          ],
          [
           "JT Thor"
          ],
          [
           "Aaron Wiggins"
          ],
          [
           "Jose Alvarado"
          ],
          [
           "E.J. Liddell"
          ],
          [
           "Dru Smith"
          ],
          [
           "Orlando Robinson"
          ],
          [
           "Leonard Miller"
          ],
          [
           "Skylar Mays"
          ],
          [
           "Ryan Rollins"
          ],
          [
           "Jaden Hardy"
          ],
          [
           "Jabari Walker"
          ],
          [
           "Josh Minott"
          ],
          [
           "Kenneth Lofton Jr."
          ],
          [
           "Max Christie"
          ],
          [
           "Bryce McGowens"
          ],
          [
           "Jalen Pickett"
          ],
          [
           "Julian Phillips"
          ],
          [
           "Matt Ryan"
          ],
          [
           "Craig Porter Jr."
          ],
          [
           "Jared Butler"
          ],
          [
           "Sidy Cissoko"
          ],
          [
           "Hunter Tyson"
          ],
          [
           "Jordan Walsh"
          ],
          [
           "Rayan Rupert"
          ],
          [
           "Chris Livingston"
          ],
          [
           "Maxwell Lewis"
          ],
          [
           "Trayce Jackson-Davis"
          ],
          [
           "Mouhamed Gueye"
          ],
          [
           "Toumani Camara"
          ],
          [
           "Andre Jackson Jr."
          ],
          [
           "Kendall Brown"
          ],
          [
           "Gui Santos"
          ],
          [
           "A.J. Lawson"
          ],
          [
           "Eugene Omoruyi"
          ],
          [
           "Ricky Council IV"
          ],
          [
           "Jalen Wilson"
          ],
          [
           "DaQuan Jeffries"
          ],
          [
           "Lindy Waters III"
          ],
          [
           "Keon Ellis"
          ],
          [
           "Jack White"
          ],
          [
           "Filip Petrusev"
          ],
          [
           "Lester Quinones"
          ],
          [
           "Stanley Umude"
          ],
          [
           "Trent Forrest"
          ],
          [
           "Darius Bazley"
          ],
          [
           "Onuralp Bitim"
          ],
          [
           "Dominick Barlow"
          ],
          [
           "Juan Toscano-Anderson"
          ],
          [
           "Javon Freeman-Liberty"
          ],
          [
           "Mamadi Diakite"
          ],
          [
           "Neemias Queta"
          ],
          [
           "T.J. Warren"
          ],
          [
           "Danny Green"
          ],
          [
           "Javonte Green"
          ],
          [
           "Luka Garza"
          ],
          [
           "Isaiah Thomas"
          ],
          [
           "Hamidou Diallo"
          ],
          [
           "Ashton Hagans"
          ],
          [
           "Tosan Evbuomwan"
          ],
          [
           "Malik Williams"
          ],
          [
           "Taze Moore"
          ],
          [
           "Pete Nance"
          ]
         ],
         "hovertemplate": "Position=%{x}<br>Field Goal Percentage=%{y}<br>namePlayer=%{customdata[0]}<extra></extra>",
         "legendgroup": "",
         "marker": {
          "color": "#636efa"
         },
         "name": "",
         "notched": false,
         "offsetgroup": "",
         "orientation": "v",
         "showlegend": false,
         "type": "box",
         "x": [
          "PG",
          "PF",
          "C",
          "C",
          "PF",
          "SG",
          "PF",
          "SF",
          "PG",
          "PF",
          "PF",
          "SF",
          "C",
          "PG",
          "C",
          "PG",
          "PG",
          "SG",
          "PF",
          "PG",
          "PF",
          "SG",
          "PG",
          "PG",
          "PF",
          "C",
          "PG",
          "PG",
          "PF",
          "PG",
          "PG",
          "SF",
          "PG",
          "PG",
          "SF",
          "SF",
          "SG",
          "PG",
          "C",
          "PF",
          "C",
          "SF",
          "PG",
          "C",
          "PG",
          "SF",
          "SF",
          "PF",
          "PF",
          "SG",
          "C",
          "SG",
          "PG",
          "PF",
          "PF",
          "PF",
          "C",
          "PG",
          "SF",
          "SG",
          "SG",
          "SG",
          "PG-SG",
          "SF",
          "PG",
          "PF",
          "PF",
          "PG-SG",
          "SF",
          "C",
          "C",
          "PG",
          "SF",
          "SF",
          "C",
          "SF-PF",
          "SG",
          "SF-SG",
          "C",
          "SG",
          "PG",
          "SG",
          "SF",
          "SG",
          "C",
          "SG",
          "SG",
          "SF",
          "SG",
          "SF",
          "PF",
          "SG",
          "PG",
          "PF",
          "PF",
          "PF",
          "PF",
          "PG",
          "C",
          "PF",
          "PF",
          "C",
          "SG",
          "C",
          "SG",
          "SF",
          "SG",
          "SG",
          "SF",
          "PG",
          "PF",
          "SF",
          "SG",
          "C",
          "SG",
          "SF",
          "C",
          "PF",
          "C",
          "PF",
          "PG",
          "C-PF",
          "C",
          "C",
          "C",
          "PG",
          "C-PF",
          "SF",
          "SG",
          "PF",
          "PF",
          "PF",
          "SF-PF",
          "PF",
          "C",
          "PG",
          "PG",
          "PG",
          "PF",
          "SF",
          "C",
          "SF",
          "C",
          "PG",
          "SG",
          "SF",
          "SG",
          "PG",
          "SF",
          "SG",
          "C",
          "C",
          "SG",
          "C",
          "SG",
          "PG",
          "SG",
          "PF",
          "PG",
          "PG",
          "C",
          "PF",
          "SF",
          "SG",
          "SF",
          "PF",
          "C",
          "PF",
          "SG",
          "SF",
          "PF",
          "SF",
          "PF",
          "SG",
          "PG",
          "SF",
          "PG",
          "C",
          "SG",
          "C",
          "PF",
          "SG",
          "C",
          "PF",
          "SF",
          "SF",
          "PG",
          "C",
          "C",
          "SG",
          "SF",
          "C",
          "PG",
          "SG",
          "PG",
          "C",
          "SF",
          "PF",
          "SF",
          "PF-SF",
          "PG",
          "SF",
          "SF",
          "SG",
          "PG",
          "SF",
          "SG",
          "PF",
          "SG",
          "SF",
          "SF",
          "SF",
          "PG",
          "PF",
          "PF",
          "PF",
          "SG",
          "PG",
          "PG",
          "PG",
          "PF",
          "SF",
          "PF",
          "PG",
          "SF",
          "SG",
          "PF",
          "SG",
          "PF",
          "SF",
          "PG",
          "SG",
          "C",
          "SF",
          "PF",
          "C",
          "C",
          "C",
          "SG",
          "PG",
          "SF",
          "PF",
          "C",
          "SG",
          "PF",
          "SG",
          "SG",
          "PF",
          "SF",
          "SG",
          "SF",
          "PF",
          "PF-C",
          "PG",
          "SG",
          "C",
          "SF",
          "SG",
          "PF",
          "PG-SG",
          "SF",
          "SG",
          "SG",
          "PG",
          "C",
          "SG",
          "SF",
          "SG",
          "C",
          "SF",
          "PG",
          "PG",
          "SG",
          "PF",
          "PG",
          "SF",
          "SF",
          "SG",
          "SF",
          "C",
          "PF",
          "SF",
          "C",
          "C",
          "SF",
          "SF",
          "SG",
          "SG",
          "SF",
          "PF",
          "PG",
          "SG",
          "PG",
          "PF",
          "PG",
          "SF",
          "SF",
          "SF",
          "PG",
          "SF",
          "SG",
          "SF",
          "SG",
          "SF",
          "C",
          "SG",
          "SG",
          "C",
          "PF",
          "PF",
          "PF",
          "C",
          "PG",
          "SF",
          "C",
          "PF",
          "PG",
          "C",
          "C",
          "SG",
          "C",
          "SF",
          "SG",
          "SG",
          "SF",
          "SG",
          "SF",
          "C",
          "SG",
          "PF",
          "C",
          "SF",
          "SG",
          "PF",
          "C",
          "C",
          "SF",
          "SF",
          "SF",
          "PG",
          "PG",
          "PG",
          "SF",
          "PF",
          "SG",
          "SG",
          "SG-PG",
          "C",
          "PG",
          "PF",
          "C",
          "SF",
          "SF",
          "PG",
          "PF",
          "C",
          "SG",
          "PF",
          "SG",
          "C",
          "C",
          "C",
          "PG",
          "PF",
          "SF",
          "C",
          "SF",
          "C",
          "PF",
          "PG",
          "PF",
          "SG",
          "C",
          "PF",
          "PG",
          "C",
          "PG",
          "C",
          "SG",
          "PF",
          "PG",
          "PG",
          "PF",
          "C",
          "SG",
          "PG",
          "SF",
          "SG",
          "C",
          "C",
          "PG",
          "C",
          "PF",
          "SF",
          "C",
          "SG",
          "SG",
          "PF",
          "SG",
          "PF",
          "C",
          "SF",
          "SF",
          "C-PF",
          "PG",
          "SF",
          "SF",
          "C",
          "SF",
          "PF",
          "SG",
          "PF",
          "SF",
          "PG",
          "PF",
          "SF",
          "PF",
          "SG",
          "PG",
          "PF",
          "SG",
          "C",
          "SF",
          "PG-SG",
          "PG",
          "SG",
          "SF",
          "SF",
          "PF",
          "SG",
          "SG",
          "SG",
          "SF",
          "SF",
          "PG",
          "SG",
          "SF",
          "PF",
          "SF",
          "SG",
          "SF",
          "SF",
          "PF",
          "PF",
          "PF",
          "SG",
          "SG",
          "PF",
          "SG",
          "SF",
          "SG",
          "PF",
          "SG",
          "SG",
          "SG",
          "SF",
          "C",
          "SG",
          "SG",
          "SG",
          "PF",
          "SG",
          "PF",
          "SF",
          "PG",
          "PF",
          "C",
          "SF",
          "SG",
          "SF",
          "C",
          "PG",
          "SG",
          "PG",
          "SF",
          "C",
          "SG",
          "PF"
         ],
         "x0": " ",
         "xaxis": "x",
         "y": [
          0.45,
          0.523,
          0.583,
          0.529,
          0.54,
          0.513,
          0.611,
          0.525,
          0.424,
          0.471,
          0.499,
          0.432,
          0.661,
          0.416,
          0.556,
          0.43,
          0.487,
          0.452,
          0.487,
          0.581,
          0.536,
          0.497,
          0.48,
          0.492,
          0.504,
          0.516,
          0.459,
          0.428,
          0.57,
          0.471,
          0.446,
          0.492,
          0.481,
          0.535,
          0.484,
          0.464,
          0.462,
          0.465,
          0.521,
          0.471,
          0.57,
          0.499,
          0.441,
          0.594,
          0.432,
          0.493,
          0.48,
          0.472,
          0.451,
          0.413,
          0.444,
          0.441,
          0.479,
          0.446,
          0.463,
          0.532,
          0.485,
          0.457,
          0.453,
          0.43,
          0.495,
          0.413,
          0.443,
          0.428,
          0.44,
          0.497,
          0.556,
          0.478,
          0.436,
          0.524,
          0.571,
          0.392,
          0.459,
          0.454,
          0.634,
          0.454,
          0.359,
          0.436,
          0.656,
          0.357,
          0.43,
          0.428,
          0.489,
          0.426,
          0.484,
          0.461,
          0.459,
          0.45,
          0.486,
          0.402,
          0.51,
          0.487,
          0.456,
          0.48,
          0.439,
          0.474,
          0.393,
          0.472,
          0.51,
          0.436,
          0.537,
          0.575,
          0.443,
          0.559,
          0.421,
          0.438,
          0.448,
          0.46,
          0.418,
          0.489,
          0.421,
          0.433,
          0.461,
          0.525,
          0.441,
          0.434,
          0.477,
          0.559,
          0.586,
          0.456,
          0.435,
          0.725,
          0.555,
          0.465,
          0.613,
          0.352,
          0.558,
          0.498,
          0.486,
          0.507,
          0.508,
          0.453,
          0.439,
          0.455,
          0.654,
          0.447,
          0.449,
          0.396,
          0.36,
          0.415,
          0.432,
          0.436,
          0.649,
          0.433,
          0.443,
          0.44,
          0.515,
          0.306,
          0.397,
          0.369,
          0.53,
          0.573,
          0.431,
          0.511,
          0.443,
          0.505,
          0.423,
          0.443,
          0.405,
          0.385,
          0.629,
          0.456,
          0.397,
          0.468,
          0.435,
          0.454,
          0.644,
          0.46,
          0.499,
          0.49,
          0.58,
          0.536,
          0.449,
          0.563,
          0.556,
          0.454,
          0.394,
          0.611,
          0.475,
          0.515,
          0.445,
          0.386,
          0.601,
          0.602,
          0.483,
          0.462,
          0.43,
          0.54,
          0.484,
          0.429,
          0.381,
          0.597,
          0.413,
          0.471,
          0.466,
          0.532,
          0.446,
          0.573,
          0.431,
          0.437,
          0.351,
          0.479,
          0.435,
          0.475,
          0.432,
          0.472,
          0.501,
          0.44,
          0.406,
          0.424,
          0.506,
          0.46,
          0.378,
          0.468,
          0.409,
          0.529,
          0.472,
          0.477,
          0.447,
          0.37,
          0.414,
          0.496,
          0.45,
          0.435,
          0.482,
          0.395,
          0.438,
          0.491,
          0.487,
          0.357,
          0.452,
          0.403,
          0.592,
          0.333,
          0.405,
          0.691,
          0.565,
          0.569,
          0.405,
          0.431,
          0.397,
          0.422,
          0.747,
          0.479,
          0.518,
          0.439,
          0.439,
          0.54,
          0.416,
          0.425,
          0.344,
          0.442,
          0.501,
          0.45,
          0.333,
          0.619,
          0.448,
          0.382,
          0.463,
          0.434,
          0.381,
          0.411,
          0.37,
          0.468,
          0.679,
          0.392,
          0.372,
          0.462,
          0.649,
          0.489,
          0.391,
          0.418,
          0.464,
          0.44,
          0.454,
          0.486,
          0.29,
          0.222,
          0.472,
          0.537,
          0.466,
          0.489,
          0.359,
          0.556,
          0.483,
          0.443,
          0.454,
          0.439,
          0.454,
          0.389,
          0.461,
          0.443,
          0.459,
          0.538,
          0.432,
          0.46,
          0.462,
          0.408,
          0.533,
          0.2,
          0.46,
          0.511,
          0.444,
          0.396,
          0.654,
          0.417,
          0.381,
          0.538,
          0.385,
          0.403,
          0.466,
          0.665,
          0.428,
          0.488,
          0.725,
          0.167,
          0.47,
          0.597,
          0.583,
          0.393,
          0.577,
          0.43,
          0.474,
          0.391,
          0.39,
          0.5,
          0.369,
          0.433,
          0.5,
          0.411,
          0.7,
          0.423,
          0.372,
          0.452,
          0.598,
          0.601,
          0.434,
          0.353,
          0.381,
          0.3,
          0.483,
          0.386,
          0.465,
          0.3,
          0.442,
          0.446,
          0.399,
          0.571,
          0.556,
          0.435,
          0.72,
          0.389,
          0.444,
          0.498,
          0.38,
          0.603,
          0.394,
          0.405,
          0.372,
          0.471,
          0.368,
          0.617,
          0.404,
          0.616,
          0.441,
          0.49,
          0.5,
          0.419,
          0.533,
          0.417,
          0.422,
          0.443,
          0.504,
          0.45,
          0.359,
          0.466,
          0,
          0.624,
          0.454,
          0.338,
          0.418,
          0.111,
          0.513,
          0.46,
          0.423,
          0.435,
          0.416,
          0.351,
          0.508,
          0.529,
          0.446,
          0.608,
          0.527,
          0.388,
          0.417,
          0.456,
          0.402,
          0.469,
          0.458,
          0.428,
          0.461,
          0.536,
          0.463,
          0.434,
          0.369,
          0.415,
          0.292,
          0.691,
          0.446,
          0.465,
          0.423,
          0.474,
          0.462,
          0.452,
          0.345,
          0.404,
          0.437,
          0.562,
          0.412,
          0.167,
          0.455,
          0.5,
          0.65,
          0.396,
          0.519,
          0.407,
          0.46,
          0.472,
          0.462,
          0.427,
          0.439,
          0.429,
          0.416,
          0.434,
          0.509,
          0.488,
          0.485,
          0.4,
          0.4,
          0.335,
          0.5,
          0.19,
          0.702,
          0.348,
          0.45,
          0.5,
          0.533,
          0.509,
          0.446,
          0.485,
          0.482,
          0.425,
          0.353,
          0.471,
          0.461,
          0.125,
          0.5,
          0.397,
          0.44,
          0.378,
          0.6,
          0.381,
          0.496,
          0.25,
          0.444,
          0.667,
          0.644,
          0.439,
          0,
          0.6,
          0.48,
          0.3,
          0.5,
          0.408,
          0.507,
          0.265,
          0.421,
          0.167
         ],
         "y0": " ",
         "yaxis": "y"
        }
       ],
       "layout": {
        "boxmode": "group",
        "legend": {
         "tracegroupgap": 0
        },
        "template": {
         "data": {
          "bar": [
           {
            "error_x": {
             "color": "#2a3f5f"
            },
            "error_y": {
             "color": "#2a3f5f"
            },
            "marker": {
             "line": {
              "color": "#E5ECF6",
              "width": 0.5
             },
             "pattern": {
              "fillmode": "overlay",
              "size": 10,
              "solidity": 0.2
             }
            },
            "type": "bar"
           }
          ],
          "barpolar": [
           {
            "marker": {
             "line": {
              "color": "#E5ECF6",
              "width": 0.5
             },
             "pattern": {
              "fillmode": "overlay",
              "size": 10,
              "solidity": 0.2
             }
            },
            "type": "barpolar"
           }
          ],
          "carpet": [
           {
            "aaxis": {
             "endlinecolor": "#2a3f5f",
             "gridcolor": "white",
             "linecolor": "white",
             "minorgridcolor": "white",
             "startlinecolor": "#2a3f5f"
            },
            "baxis": {
             "endlinecolor": "#2a3f5f",
             "gridcolor": "white",
             "linecolor": "white",
             "minorgridcolor": "white",
             "startlinecolor": "#2a3f5f"
            },
            "type": "carpet"
           }
          ],
          "choropleth": [
           {
            "colorbar": {
             "outlinewidth": 0,
             "ticks": ""
            },
            "type": "choropleth"
           }
          ],
          "contour": [
           {
            "colorbar": {
             "outlinewidth": 0,
             "ticks": ""
            },
            "colorscale": [
             [
              0,
              "#0d0887"
             ],
             [
              0.1111111111111111,
              "#46039f"
             ],
             [
              0.2222222222222222,
              "#7201a8"
             ],
             [
              0.3333333333333333,
              "#9c179e"
             ],
             [
              0.4444444444444444,
              "#bd3786"
             ],
             [
              0.5555555555555556,
              "#d8576b"
             ],
             [
              0.6666666666666666,
              "#ed7953"
             ],
             [
              0.7777777777777778,
              "#fb9f3a"
             ],
             [
              0.8888888888888888,
              "#fdca26"
             ],
             [
              1,
              "#f0f921"
             ]
            ],
            "type": "contour"
           }
          ],
          "contourcarpet": [
           {
            "colorbar": {
             "outlinewidth": 0,
             "ticks": ""
            },
            "type": "contourcarpet"
           }
          ],
          "heatmap": [
           {
            "colorbar": {
             "outlinewidth": 0,
             "ticks": ""
            },
            "colorscale": [
             [
              0,
              "#0d0887"
             ],
             [
              0.1111111111111111,
              "#46039f"
             ],
             [
              0.2222222222222222,
              "#7201a8"
             ],
             [
              0.3333333333333333,
              "#9c179e"
             ],
             [
              0.4444444444444444,
              "#bd3786"
             ],
             [
              0.5555555555555556,
              "#d8576b"
             ],
             [
              0.6666666666666666,
              "#ed7953"
             ],
             [
              0.7777777777777778,
              "#fb9f3a"
             ],
             [
              0.8888888888888888,
              "#fdca26"
             ],
             [
              1,
              "#f0f921"
             ]
            ],
            "type": "heatmap"
           }
          ],
          "heatmapgl": [
           {
            "colorbar": {
             "outlinewidth": 0,
             "ticks": ""
            },
            "colorscale": [
             [
              0,
              "#0d0887"
             ],
             [
              0.1111111111111111,
              "#46039f"
             ],
             [
              0.2222222222222222,
              "#7201a8"
             ],
             [
              0.3333333333333333,
              "#9c179e"
             ],
             [
              0.4444444444444444,
              "#bd3786"
             ],
             [
              0.5555555555555556,
              "#d8576b"
             ],
             [
              0.6666666666666666,
              "#ed7953"
             ],
             [
              0.7777777777777778,
              "#fb9f3a"
             ],
             [
              0.8888888888888888,
              "#fdca26"
             ],
             [
              1,
              "#f0f921"
             ]
            ],
            "type": "heatmapgl"
           }
          ],
          "histogram": [
           {
            "marker": {
             "pattern": {
              "fillmode": "overlay",
              "size": 10,
              "solidity": 0.2
             }
            },
            "type": "histogram"
           }
          ],
          "histogram2d": [
           {
            "colorbar": {
             "outlinewidth": 0,
             "ticks": ""
            },
            "colorscale": [
             [
              0,
              "#0d0887"
             ],
             [
              0.1111111111111111,
              "#46039f"
             ],
             [
              0.2222222222222222,
              "#7201a8"
             ],
             [
              0.3333333333333333,
              "#9c179e"
             ],
             [
              0.4444444444444444,
              "#bd3786"
             ],
             [
              0.5555555555555556,
              "#d8576b"
             ],
             [
              0.6666666666666666,
              "#ed7953"
             ],
             [
              0.7777777777777778,
              "#fb9f3a"
             ],
             [
              0.8888888888888888,
              "#fdca26"
             ],
             [
              1,
              "#f0f921"
             ]
            ],
            "type": "histogram2d"
           }
          ],
          "histogram2dcontour": [
           {
            "colorbar": {
             "outlinewidth": 0,
             "ticks": ""
            },
            "colorscale": [
             [
              0,
              "#0d0887"
             ],
             [
              0.1111111111111111,
              "#46039f"
             ],
             [
              0.2222222222222222,
              "#7201a8"
             ],
             [
              0.3333333333333333,
              "#9c179e"
             ],
             [
              0.4444444444444444,
              "#bd3786"
             ],
             [
              0.5555555555555556,
              "#d8576b"
             ],
             [
              0.6666666666666666,
              "#ed7953"
             ],
             [
              0.7777777777777778,
              "#fb9f3a"
             ],
             [
              0.8888888888888888,
              "#fdca26"
             ],
             [
              1,
              "#f0f921"
             ]
            ],
            "type": "histogram2dcontour"
           }
          ],
          "mesh3d": [
           {
            "colorbar": {
             "outlinewidth": 0,
             "ticks": ""
            },
            "type": "mesh3d"
           }
          ],
          "parcoords": [
           {
            "line": {
             "colorbar": {
              "outlinewidth": 0,
              "ticks": ""
             }
            },
            "type": "parcoords"
           }
          ],
          "pie": [
           {
            "automargin": true,
            "type": "pie"
           }
          ],
          "scatter": [
           {
            "fillpattern": {
             "fillmode": "overlay",
             "size": 10,
             "solidity": 0.2
            },
            "type": "scatter"
           }
          ],
          "scatter3d": [
           {
            "line": {
             "colorbar": {
              "outlinewidth": 0,
              "ticks": ""
             }
            },
            "marker": {
             "colorbar": {
              "outlinewidth": 0,
              "ticks": ""
             }
            },
            "type": "scatter3d"
           }
          ],
          "scattercarpet": [
           {
            "marker": {
             "colorbar": {
              "outlinewidth": 0,
              "ticks": ""
             }
            },
            "type": "scattercarpet"
           }
          ],
          "scattergeo": [
           {
            "marker": {
             "colorbar": {
              "outlinewidth": 0,
              "ticks": ""
             }
            },
            "type": "scattergeo"
           }
          ],
          "scattergl": [
           {
            "marker": {
             "colorbar": {
              "outlinewidth": 0,
              "ticks": ""
             }
            },
            "type": "scattergl"
           }
          ],
          "scattermapbox": [
           {
            "marker": {
             "colorbar": {
              "outlinewidth": 0,
              "ticks": ""
             }
            },
            "type": "scattermapbox"
           }
          ],
          "scatterpolar": [
           {
            "marker": {
             "colorbar": {
              "outlinewidth": 0,
              "ticks": ""
             }
            },
            "type": "scatterpolar"
           }
          ],
          "scatterpolargl": [
           {
            "marker": {
             "colorbar": {
              "outlinewidth": 0,
              "ticks": ""
             }
            },
            "type": "scatterpolargl"
           }
          ],
          "scatterternary": [
           {
            "marker": {
             "colorbar": {
              "outlinewidth": 0,
              "ticks": ""
             }
            },
            "type": "scatterternary"
           }
          ],
          "surface": [
           {
            "colorbar": {
             "outlinewidth": 0,
             "ticks": ""
            },
            "colorscale": [
             [
              0,
              "#0d0887"
             ],
             [
              0.1111111111111111,
              "#46039f"
             ],
             [
              0.2222222222222222,
              "#7201a8"
             ],
             [
              0.3333333333333333,
              "#9c179e"
             ],
             [
              0.4444444444444444,
              "#bd3786"
             ],
             [
              0.5555555555555556,
              "#d8576b"
             ],
             [
              0.6666666666666666,
              "#ed7953"
             ],
             [
              0.7777777777777778,
              "#fb9f3a"
             ],
             [
              0.8888888888888888,
              "#fdca26"
             ],
             [
              1,
              "#f0f921"
             ]
            ],
            "type": "surface"
           }
          ],
          "table": [
           {
            "cells": {
             "fill": {
              "color": "#EBF0F8"
             },
             "line": {
              "color": "white"
             }
            },
            "header": {
             "fill": {
              "color": "#C8D4E3"
             },
             "line": {
              "color": "white"
             }
            },
            "type": "table"
           }
          ]
         },
         "layout": {
          "annotationdefaults": {
           "arrowcolor": "#2a3f5f",
           "arrowhead": 0,
           "arrowwidth": 1
          },
          "autotypenumbers": "strict",
          "coloraxis": {
           "colorbar": {
            "outlinewidth": 0,
            "ticks": ""
           }
          },
          "colorscale": {
           "diverging": [
            [
             0,
             "#8e0152"
            ],
            [
             0.1,
             "#c51b7d"
            ],
            [
             0.2,
             "#de77ae"
            ],
            [
             0.3,
             "#f1b6da"
            ],
            [
             0.4,
             "#fde0ef"
            ],
            [
             0.5,
             "#f7f7f7"
            ],
            [
             0.6,
             "#e6f5d0"
            ],
            [
             0.7,
             "#b8e186"
            ],
            [
             0.8,
             "#7fbc41"
            ],
            [
             0.9,
             "#4d9221"
            ],
            [
             1,
             "#276419"
            ]
           ],
           "sequential": [
            [
             0,
             "#0d0887"
            ],
            [
             0.1111111111111111,
             "#46039f"
            ],
            [
             0.2222222222222222,
             "#7201a8"
            ],
            [
             0.3333333333333333,
             "#9c179e"
            ],
            [
             0.4444444444444444,
             "#bd3786"
            ],
            [
             0.5555555555555556,
             "#d8576b"
            ],
            [
             0.6666666666666666,
             "#ed7953"
            ],
            [
             0.7777777777777778,
             "#fb9f3a"
            ],
            [
             0.8888888888888888,
             "#fdca26"
            ],
            [
             1,
             "#f0f921"
            ]
           ],
           "sequentialminus": [
            [
             0,
             "#0d0887"
            ],
            [
             0.1111111111111111,
             "#46039f"
            ],
            [
             0.2222222222222222,
             "#7201a8"
            ],
            [
             0.3333333333333333,
             "#9c179e"
            ],
            [
             0.4444444444444444,
             "#bd3786"
            ],
            [
             0.5555555555555556,
             "#d8576b"
            ],
            [
             0.6666666666666666,
             "#ed7953"
            ],
            [
             0.7777777777777778,
             "#fb9f3a"
            ],
            [
             0.8888888888888888,
             "#fdca26"
            ],
            [
             1,
             "#f0f921"
            ]
           ]
          },
          "colorway": [
           "#636efa",
           "#EF553B",
           "#00cc96",
           "#ab63fa",
           "#FFA15A",
           "#19d3f3",
           "#FF6692",
           "#B6E880",
           "#FF97FF",
           "#FECB52"
          ],
          "font": {
           "color": "#2a3f5f"
          },
          "geo": {
           "bgcolor": "white",
           "lakecolor": "white",
           "landcolor": "#E5ECF6",
           "showlakes": true,
           "showland": true,
           "subunitcolor": "white"
          },
          "hoverlabel": {
           "align": "left"
          },
          "hovermode": "closest",
          "mapbox": {
           "style": "light"
          },
          "paper_bgcolor": "white",
          "plot_bgcolor": "#E5ECF6",
          "polar": {
           "angularaxis": {
            "gridcolor": "white",
            "linecolor": "white",
            "ticks": ""
           },
           "bgcolor": "#E5ECF6",
           "radialaxis": {
            "gridcolor": "white",
            "linecolor": "white",
            "ticks": ""
           }
          },
          "scene": {
           "xaxis": {
            "backgroundcolor": "#E5ECF6",
            "gridcolor": "white",
            "gridwidth": 2,
            "linecolor": "white",
            "showbackground": true,
            "ticks": "",
            "zerolinecolor": "white"
           },
           "yaxis": {
            "backgroundcolor": "#E5ECF6",
            "gridcolor": "white",
            "gridwidth": 2,
            "linecolor": "white",
            "showbackground": true,
            "ticks": "",
            "zerolinecolor": "white"
           },
           "zaxis": {
            "backgroundcolor": "#E5ECF6",
            "gridcolor": "white",
            "gridwidth": 2,
            "linecolor": "white",
            "showbackground": true,
            "ticks": "",
            "zerolinecolor": "white"
           }
          },
          "shapedefaults": {
           "line": {
            "color": "#2a3f5f"
           }
          },
          "ternary": {
           "aaxis": {
            "gridcolor": "white",
            "linecolor": "white",
            "ticks": ""
           },
           "baxis": {
            "gridcolor": "white",
            "linecolor": "white",
            "ticks": ""
           },
           "bgcolor": "#E5ECF6",
           "caxis": {
            "gridcolor": "white",
            "linecolor": "white",
            "ticks": ""
           }
          },
          "title": {
           "x": 0.05
          },
          "xaxis": {
           "automargin": true,
           "gridcolor": "white",
           "linecolor": "white",
           "ticks": "",
           "title": {
            "standoff": 15
           },
           "zerolinecolor": "white",
           "zerolinewidth": 2
          },
          "yaxis": {
           "automargin": true,
           "gridcolor": "white",
           "linecolor": "white",
           "ticks": "",
           "title": {
            "standoff": 15
           },
           "zerolinecolor": "white",
           "zerolinewidth": 2
          }
         }
        },
        "title": {
         "text": "Distribution of FG% by Position"
        },
        "xaxis": {
         "anchor": "y",
         "domain": [
          0,
          1
         ],
         "title": {
          "text": "Position"
         }
        },
        "yaxis": {
         "anchor": "x",
         "domain": [
          0,
          1
         ],
         "title": {
          "text": "Field Goal Percentage"
         }
        }
       }
      }
     },
     "metadata": {},
     "output_type": "display_data"
    }
   ],
   "source": [
    "fig = px.box(SS, x='slugPosition', y='pctFG', \n",
    "             title='Distribution of FG% by Position',\n",
    "             labels={'slugPosition': 'Position', 'pctFG': 'Field Goal Percentage'},\n",
    "             hover_data=['namePlayer'])\n",
    "fig.show()"
   ]
  },
  {
   "cell_type": "code",
   "execution_count": 91,
   "metadata": {},
   "outputs": [
    {
     "data": {
      "application/vnd.plotly.v1+json": {
       "config": {
        "plotlyServerURL": "https://plot.ly"
       },
       "data": [
        {
         "domain": {
          "x": [
           0,
           1
          ],
          "y": [
           0,
           1
          ]
         },
         "hovertemplate": "slugTeamBREF=%{label}<br>count=%{value}<extra></extra>",
         "labels": [
          "TOT",
          "GSW",
          "SAC",
          "POR",
          "NOP",
          "CHI",
          "ATL",
          "CLE",
          "SAS",
          "MIL",
          "ORL",
          "MIN",
          "WAS",
          "BRK",
          "LAL",
          "DEN",
          "MEM",
          "HOU",
          "IND",
          "BOS",
          "DAL",
          "MIA",
          "LAC",
          "OKC",
          "UTA",
          "DET",
          "PHI",
          "CHO",
          "PHO",
          "NYK",
          "TOR"
         ],
         "legendgroup": "",
         "name": "",
         "showlegend": true,
         "type": "pie",
         "values": [
          71,
          16,
          16,
          16,
          15,
          15,
          15,
          15,
          15,
          15,
          15,
          14,
          14,
          14,
          14,
          14,
          14,
          14,
          13,
          13,
          13,
          13,
          13,
          12,
          12,
          12,
          12,
          12,
          11,
          10,
          10
         ]
        }
       ],
       "layout": {
        "legend": {
         "tracegroupgap": 0
        },
        "template": {
         "data": {
          "bar": [
           {
            "error_x": {
             "color": "#2a3f5f"
            },
            "error_y": {
             "color": "#2a3f5f"
            },
            "marker": {
             "line": {
              "color": "#E5ECF6",
              "width": 0.5
             },
             "pattern": {
              "fillmode": "overlay",
              "size": 10,
              "solidity": 0.2
             }
            },
            "type": "bar"
           }
          ],
          "barpolar": [
           {
            "marker": {
             "line": {
              "color": "#E5ECF6",
              "width": 0.5
             },
             "pattern": {
              "fillmode": "overlay",
              "size": 10,
              "solidity": 0.2
             }
            },
            "type": "barpolar"
           }
          ],
          "carpet": [
           {
            "aaxis": {
             "endlinecolor": "#2a3f5f",
             "gridcolor": "white",
             "linecolor": "white",
             "minorgridcolor": "white",
             "startlinecolor": "#2a3f5f"
            },
            "baxis": {
             "endlinecolor": "#2a3f5f",
             "gridcolor": "white",
             "linecolor": "white",
             "minorgridcolor": "white",
             "startlinecolor": "#2a3f5f"
            },
            "type": "carpet"
           }
          ],
          "choropleth": [
           {
            "colorbar": {
             "outlinewidth": 0,
             "ticks": ""
            },
            "type": "choropleth"
           }
          ],
          "contour": [
           {
            "colorbar": {
             "outlinewidth": 0,
             "ticks": ""
            },
            "colorscale": [
             [
              0,
              "#0d0887"
             ],
             [
              0.1111111111111111,
              "#46039f"
             ],
             [
              0.2222222222222222,
              "#7201a8"
             ],
             [
              0.3333333333333333,
              "#9c179e"
             ],
             [
              0.4444444444444444,
              "#bd3786"
             ],
             [
              0.5555555555555556,
              "#d8576b"
             ],
             [
              0.6666666666666666,
              "#ed7953"
             ],
             [
              0.7777777777777778,
              "#fb9f3a"
             ],
             [
              0.8888888888888888,
              "#fdca26"
             ],
             [
              1,
              "#f0f921"
             ]
            ],
            "type": "contour"
           }
          ],
          "contourcarpet": [
           {
            "colorbar": {
             "outlinewidth": 0,
             "ticks": ""
            },
            "type": "contourcarpet"
           }
          ],
          "heatmap": [
           {
            "colorbar": {
             "outlinewidth": 0,
             "ticks": ""
            },
            "colorscale": [
             [
              0,
              "#0d0887"
             ],
             [
              0.1111111111111111,
              "#46039f"
             ],
             [
              0.2222222222222222,
              "#7201a8"
             ],
             [
              0.3333333333333333,
              "#9c179e"
             ],
             [
              0.4444444444444444,
              "#bd3786"
             ],
             [
              0.5555555555555556,
              "#d8576b"
             ],
             [
              0.6666666666666666,
              "#ed7953"
             ],
             [
              0.7777777777777778,
              "#fb9f3a"
             ],
             [
              0.8888888888888888,
              "#fdca26"
             ],
             [
              1,
              "#f0f921"
             ]
            ],
            "type": "heatmap"
           }
          ],
          "heatmapgl": [
           {
            "colorbar": {
             "outlinewidth": 0,
             "ticks": ""
            },
            "colorscale": [
             [
              0,
              "#0d0887"
             ],
             [
              0.1111111111111111,
              "#46039f"
             ],
             [
              0.2222222222222222,
              "#7201a8"
             ],
             [
              0.3333333333333333,
              "#9c179e"
             ],
             [
              0.4444444444444444,
              "#bd3786"
             ],
             [
              0.5555555555555556,
              "#d8576b"
             ],
             [
              0.6666666666666666,
              "#ed7953"
             ],
             [
              0.7777777777777778,
              "#fb9f3a"
             ],
             [
              0.8888888888888888,
              "#fdca26"
             ],
             [
              1,
              "#f0f921"
             ]
            ],
            "type": "heatmapgl"
           }
          ],
          "histogram": [
           {
            "marker": {
             "pattern": {
              "fillmode": "overlay",
              "size": 10,
              "solidity": 0.2
             }
            },
            "type": "histogram"
           }
          ],
          "histogram2d": [
           {
            "colorbar": {
             "outlinewidth": 0,
             "ticks": ""
            },
            "colorscale": [
             [
              0,
              "#0d0887"
             ],
             [
              0.1111111111111111,
              "#46039f"
             ],
             [
              0.2222222222222222,
              "#7201a8"
             ],
             [
              0.3333333333333333,
              "#9c179e"
             ],
             [
              0.4444444444444444,
              "#bd3786"
             ],
             [
              0.5555555555555556,
              "#d8576b"
             ],
             [
              0.6666666666666666,
              "#ed7953"
             ],
             [
              0.7777777777777778,
              "#fb9f3a"
             ],
             [
              0.8888888888888888,
              "#fdca26"
             ],
             [
              1,
              "#f0f921"
             ]
            ],
            "type": "histogram2d"
           }
          ],
          "histogram2dcontour": [
           {
            "colorbar": {
             "outlinewidth": 0,
             "ticks": ""
            },
            "colorscale": [
             [
              0,
              "#0d0887"
             ],
             [
              0.1111111111111111,
              "#46039f"
             ],
             [
              0.2222222222222222,
              "#7201a8"
             ],
             [
              0.3333333333333333,
              "#9c179e"
             ],
             [
              0.4444444444444444,
              "#bd3786"
             ],
             [
              0.5555555555555556,
              "#d8576b"
             ],
             [
              0.6666666666666666,
              "#ed7953"
             ],
             [
              0.7777777777777778,
              "#fb9f3a"
             ],
             [
              0.8888888888888888,
              "#fdca26"
             ],
             [
              1,
              "#f0f921"
             ]
            ],
            "type": "histogram2dcontour"
           }
          ],
          "mesh3d": [
           {
            "colorbar": {
             "outlinewidth": 0,
             "ticks": ""
            },
            "type": "mesh3d"
           }
          ],
          "parcoords": [
           {
            "line": {
             "colorbar": {
              "outlinewidth": 0,
              "ticks": ""
             }
            },
            "type": "parcoords"
           }
          ],
          "pie": [
           {
            "automargin": true,
            "type": "pie"
           }
          ],
          "scatter": [
           {
            "fillpattern": {
             "fillmode": "overlay",
             "size": 10,
             "solidity": 0.2
            },
            "type": "scatter"
           }
          ],
          "scatter3d": [
           {
            "line": {
             "colorbar": {
              "outlinewidth": 0,
              "ticks": ""
             }
            },
            "marker": {
             "colorbar": {
              "outlinewidth": 0,
              "ticks": ""
             }
            },
            "type": "scatter3d"
           }
          ],
          "scattercarpet": [
           {
            "marker": {
             "colorbar": {
              "outlinewidth": 0,
              "ticks": ""
             }
            },
            "type": "scattercarpet"
           }
          ],
          "scattergeo": [
           {
            "marker": {
             "colorbar": {
              "outlinewidth": 0,
              "ticks": ""
             }
            },
            "type": "scattergeo"
           }
          ],
          "scattergl": [
           {
            "marker": {
             "colorbar": {
              "outlinewidth": 0,
              "ticks": ""
             }
            },
            "type": "scattergl"
           }
          ],
          "scattermapbox": [
           {
            "marker": {
             "colorbar": {
              "outlinewidth": 0,
              "ticks": ""
             }
            },
            "type": "scattermapbox"
           }
          ],
          "scatterpolar": [
           {
            "marker": {
             "colorbar": {
              "outlinewidth": 0,
              "ticks": ""
             }
            },
            "type": "scatterpolar"
           }
          ],
          "scatterpolargl": [
           {
            "marker": {
             "colorbar": {
              "outlinewidth": 0,
              "ticks": ""
             }
            },
            "type": "scatterpolargl"
           }
          ],
          "scatterternary": [
           {
            "marker": {
             "colorbar": {
              "outlinewidth": 0,
              "ticks": ""
             }
            },
            "type": "scatterternary"
           }
          ],
          "surface": [
           {
            "colorbar": {
             "outlinewidth": 0,
             "ticks": ""
            },
            "colorscale": [
             [
              0,
              "#0d0887"
             ],
             [
              0.1111111111111111,
              "#46039f"
             ],
             [
              0.2222222222222222,
              "#7201a8"
             ],
             [
              0.3333333333333333,
              "#9c179e"
             ],
             [
              0.4444444444444444,
              "#bd3786"
             ],
             [
              0.5555555555555556,
              "#d8576b"
             ],
             [
              0.6666666666666666,
              "#ed7953"
             ],
             [
              0.7777777777777778,
              "#fb9f3a"
             ],
             [
              0.8888888888888888,
              "#fdca26"
             ],
             [
              1,
              "#f0f921"
             ]
            ],
            "type": "surface"
           }
          ],
          "table": [
           {
            "cells": {
             "fill": {
              "color": "#EBF0F8"
             },
             "line": {
              "color": "white"
             }
            },
            "header": {
             "fill": {
              "color": "#C8D4E3"
             },
             "line": {
              "color": "white"
             }
            },
            "type": "table"
           }
          ]
         },
         "layout": {
          "annotationdefaults": {
           "arrowcolor": "#2a3f5f",
           "arrowhead": 0,
           "arrowwidth": 1
          },
          "autotypenumbers": "strict",
          "coloraxis": {
           "colorbar": {
            "outlinewidth": 0,
            "ticks": ""
           }
          },
          "colorscale": {
           "diverging": [
            [
             0,
             "#8e0152"
            ],
            [
             0.1,
             "#c51b7d"
            ],
            [
             0.2,
             "#de77ae"
            ],
            [
             0.3,
             "#f1b6da"
            ],
            [
             0.4,
             "#fde0ef"
            ],
            [
             0.5,
             "#f7f7f7"
            ],
            [
             0.6,
             "#e6f5d0"
            ],
            [
             0.7,
             "#b8e186"
            ],
            [
             0.8,
             "#7fbc41"
            ],
            [
             0.9,
             "#4d9221"
            ],
            [
             1,
             "#276419"
            ]
           ],
           "sequential": [
            [
             0,
             "#0d0887"
            ],
            [
             0.1111111111111111,
             "#46039f"
            ],
            [
             0.2222222222222222,
             "#7201a8"
            ],
            [
             0.3333333333333333,
             "#9c179e"
            ],
            [
             0.4444444444444444,
             "#bd3786"
            ],
            [
             0.5555555555555556,
             "#d8576b"
            ],
            [
             0.6666666666666666,
             "#ed7953"
            ],
            [
             0.7777777777777778,
             "#fb9f3a"
            ],
            [
             0.8888888888888888,
             "#fdca26"
            ],
            [
             1,
             "#f0f921"
            ]
           ],
           "sequentialminus": [
            [
             0,
             "#0d0887"
            ],
            [
             0.1111111111111111,
             "#46039f"
            ],
            [
             0.2222222222222222,
             "#7201a8"
            ],
            [
             0.3333333333333333,
             "#9c179e"
            ],
            [
             0.4444444444444444,
             "#bd3786"
            ],
            [
             0.5555555555555556,
             "#d8576b"
            ],
            [
             0.6666666666666666,
             "#ed7953"
            ],
            [
             0.7777777777777778,
             "#fb9f3a"
            ],
            [
             0.8888888888888888,
             "#fdca26"
            ],
            [
             1,
             "#f0f921"
            ]
           ]
          },
          "colorway": [
           "#636efa",
           "#EF553B",
           "#00cc96",
           "#ab63fa",
           "#FFA15A",
           "#19d3f3",
           "#FF6692",
           "#B6E880",
           "#FF97FF",
           "#FECB52"
          ],
          "font": {
           "color": "#2a3f5f"
          },
          "geo": {
           "bgcolor": "white",
           "lakecolor": "white",
           "landcolor": "#E5ECF6",
           "showlakes": true,
           "showland": true,
           "subunitcolor": "white"
          },
          "hoverlabel": {
           "align": "left"
          },
          "hovermode": "closest",
          "mapbox": {
           "style": "light"
          },
          "paper_bgcolor": "white",
          "plot_bgcolor": "#E5ECF6",
          "polar": {
           "angularaxis": {
            "gridcolor": "white",
            "linecolor": "white",
            "ticks": ""
           },
           "bgcolor": "#E5ECF6",
           "radialaxis": {
            "gridcolor": "white",
            "linecolor": "white",
            "ticks": ""
           }
          },
          "scene": {
           "xaxis": {
            "backgroundcolor": "#E5ECF6",
            "gridcolor": "white",
            "gridwidth": 2,
            "linecolor": "white",
            "showbackground": true,
            "ticks": "",
            "zerolinecolor": "white"
           },
           "yaxis": {
            "backgroundcolor": "#E5ECF6",
            "gridcolor": "white",
            "gridwidth": 2,
            "linecolor": "white",
            "showbackground": true,
            "ticks": "",
            "zerolinecolor": "white"
           },
           "zaxis": {
            "backgroundcolor": "#E5ECF6",
            "gridcolor": "white",
            "gridwidth": 2,
            "linecolor": "white",
            "showbackground": true,
            "ticks": "",
            "zerolinecolor": "white"
           }
          },
          "shapedefaults": {
           "line": {
            "color": "#2a3f5f"
           }
          },
          "ternary": {
           "aaxis": {
            "gridcolor": "white",
            "linecolor": "white",
            "ticks": ""
           },
           "baxis": {
            "gridcolor": "white",
            "linecolor": "white",
            "ticks": ""
           },
           "bgcolor": "#E5ECF6",
           "caxis": {
            "gridcolor": "white",
            "linecolor": "white",
            "ticks": ""
           }
          },
          "title": {
           "x": 0.05
          },
          "xaxis": {
           "automargin": true,
           "gridcolor": "white",
           "linecolor": "white",
           "ticks": "",
           "title": {
            "standoff": 15
           },
           "zerolinecolor": "white",
           "zerolinewidth": 2
          },
          "yaxis": {
           "automargin": true,
           "gridcolor": "white",
           "linecolor": "white",
           "ticks": "",
           "title": {
            "standoff": 15
           },
           "zerolinecolor": "white",
           "zerolinewidth": 2
          }
         }
        },
        "title": {
         "text": "Team Representation by Player Count"
        }
       }
      }
     },
     "metadata": {},
     "output_type": "display_data"
    }
   ],
   "source": [
    "team_counts = SS['slugTeamBREF'].value_counts().reset_index()\n",
    "team_counts.columns = ['slugTeamBREF', 'count']\n",
    "fig = px.pie(team_counts, values='count', names='slugTeamBREF', \n",
    "             title='Team Representation by Player Count')\n",
    "fig.show()\n"
   ]
  },
  {
   "cell_type": "code",
   "execution_count": 92,
   "metadata": {},
   "outputs": [
    {
     "data": {
      "application/vnd.plotly.v1+json": {
       "config": {
        "plotlyServerURL": "https://plot.ly"
       },
       "data": [
        {
         "coloraxis": "coloraxis",
         "hovertemplate": "x: %{x}<br>y: %{y}<br>Correlation: %{z}<extra></extra>",
         "name": "0",
         "type": "heatmap",
         "x": [
          "FG%",
          "3P%",
          "2P%",
          "Total Rebounds",
          "Total Assists",
          "Total Steals",
          "Total Blocks",
          "Total Turnovers"
         ],
         "xaxis": "x",
         "y": [
          "FG%",
          "3P%",
          "2P%",
          "Total Rebounds",
          "Total Assists",
          "Total Steals",
          "Total Blocks",
          "Total Turnovers"
         ],
         "yaxis": "y",
         "z": [
          [
           1,
           -0.14861281502116036,
           0.8290736889449452,
           0.4451562875158042,
           0.13177713082419895,
           0.1942645542093036,
           0.41220029766509525,
           0.21299055258353672
          ],
          [
           -0.14861281502116036,
           1,
           -0.07290723589049247,
           0.035821352847232917,
           0.3091324983063318,
           0.331687261686604,
           -0.04424414707803688,
           0.2546658629595509
          ],
          [
           0.8290736889449452,
           -0.07290723589049247,
           1,
           0.30413624083868984,
           0.059466776271672815,
           0.1438814081602576,
           0.30083949048767566,
           0.11669846159684832
          ],
          [
           0.4451562875158042,
           0.035821352847232917,
           0.30413624083868984,
           1,
           0.5492213323782147,
           0.6284487468969069,
           0.7380095162758566,
           0.7195605292620455
          ],
          [
           0.13177713082419895,
           0.3091324983063318,
           0.059466776271672815,
           0.5492213323782147,
           1,
           0.7560872177454084,
           0.293414405249398,
           0.8799300958737621
          ],
          [
           0.1942645542093036,
           0.331687261686604,
           0.1438814081602576,
           0.6284487468969069,
           0.7560872177454084,
           1,
           0.4757010064373654,
           0.7641145094185184
          ],
          [
           0.41220029766509525,
           -0.04424414707803688,
           0.30083949048767566,
           0.7380095162758566,
           0.293414405249398,
           0.4757010064373654,
           1,
           0.47411426621359576
          ],
          [
           0.21299055258353672,
           0.2546658629595509,
           0.11669846159684832,
           0.7195605292620455,
           0.8799300958737621,
           0.7641145094185184,
           0.47411426621359576,
           1
          ]
         ]
        }
       ],
       "layout": {
        "coloraxis": {
         "colorbar": {
          "title": {
           "text": "Correlation"
          }
         },
         "colorscale": [
          [
           0,
           "#0d0887"
          ],
          [
           0.1111111111111111,
           "#46039f"
          ],
          [
           0.2222222222222222,
           "#7201a8"
          ],
          [
           0.3333333333333333,
           "#9c179e"
          ],
          [
           0.4444444444444444,
           "#bd3786"
          ],
          [
           0.5555555555555556,
           "#d8576b"
          ],
          [
           0.6666666666666666,
           "#ed7953"
          ],
          [
           0.7777777777777778,
           "#fb9f3a"
          ],
          [
           0.8888888888888888,
           "#fdca26"
          ],
          [
           1,
           "#f0f921"
          ]
         ]
        },
        "template": {
         "data": {
          "bar": [
           {
            "error_x": {
             "color": "#2a3f5f"
            },
            "error_y": {
             "color": "#2a3f5f"
            },
            "marker": {
             "line": {
              "color": "#E5ECF6",
              "width": 0.5
             },
             "pattern": {
              "fillmode": "overlay",
              "size": 10,
              "solidity": 0.2
             }
            },
            "type": "bar"
           }
          ],
          "barpolar": [
           {
            "marker": {
             "line": {
              "color": "#E5ECF6",
              "width": 0.5
             },
             "pattern": {
              "fillmode": "overlay",
              "size": 10,
              "solidity": 0.2
             }
            },
            "type": "barpolar"
           }
          ],
          "carpet": [
           {
            "aaxis": {
             "endlinecolor": "#2a3f5f",
             "gridcolor": "white",
             "linecolor": "white",
             "minorgridcolor": "white",
             "startlinecolor": "#2a3f5f"
            },
            "baxis": {
             "endlinecolor": "#2a3f5f",
             "gridcolor": "white",
             "linecolor": "white",
             "minorgridcolor": "white",
             "startlinecolor": "#2a3f5f"
            },
            "type": "carpet"
           }
          ],
          "choropleth": [
           {
            "colorbar": {
             "outlinewidth": 0,
             "ticks": ""
            },
            "type": "choropleth"
           }
          ],
          "contour": [
           {
            "colorbar": {
             "outlinewidth": 0,
             "ticks": ""
            },
            "colorscale": [
             [
              0,
              "#0d0887"
             ],
             [
              0.1111111111111111,
              "#46039f"
             ],
             [
              0.2222222222222222,
              "#7201a8"
             ],
             [
              0.3333333333333333,
              "#9c179e"
             ],
             [
              0.4444444444444444,
              "#bd3786"
             ],
             [
              0.5555555555555556,
              "#d8576b"
             ],
             [
              0.6666666666666666,
              "#ed7953"
             ],
             [
              0.7777777777777778,
              "#fb9f3a"
             ],
             [
              0.8888888888888888,
              "#fdca26"
             ],
             [
              1,
              "#f0f921"
             ]
            ],
            "type": "contour"
           }
          ],
          "contourcarpet": [
           {
            "colorbar": {
             "outlinewidth": 0,
             "ticks": ""
            },
            "type": "contourcarpet"
           }
          ],
          "heatmap": [
           {
            "colorbar": {
             "outlinewidth": 0,
             "ticks": ""
            },
            "colorscale": [
             [
              0,
              "#0d0887"
             ],
             [
              0.1111111111111111,
              "#46039f"
             ],
             [
              0.2222222222222222,
              "#7201a8"
             ],
             [
              0.3333333333333333,
              "#9c179e"
             ],
             [
              0.4444444444444444,
              "#bd3786"
             ],
             [
              0.5555555555555556,
              "#d8576b"
             ],
             [
              0.6666666666666666,
              "#ed7953"
             ],
             [
              0.7777777777777778,
              "#fb9f3a"
             ],
             [
              0.8888888888888888,
              "#fdca26"
             ],
             [
              1,
              "#f0f921"
             ]
            ],
            "type": "heatmap"
           }
          ],
          "heatmapgl": [
           {
            "colorbar": {
             "outlinewidth": 0,
             "ticks": ""
            },
            "colorscale": [
             [
              0,
              "#0d0887"
             ],
             [
              0.1111111111111111,
              "#46039f"
             ],
             [
              0.2222222222222222,
              "#7201a8"
             ],
             [
              0.3333333333333333,
              "#9c179e"
             ],
             [
              0.4444444444444444,
              "#bd3786"
             ],
             [
              0.5555555555555556,
              "#d8576b"
             ],
             [
              0.6666666666666666,
              "#ed7953"
             ],
             [
              0.7777777777777778,
              "#fb9f3a"
             ],
             [
              0.8888888888888888,
              "#fdca26"
             ],
             [
              1,
              "#f0f921"
             ]
            ],
            "type": "heatmapgl"
           }
          ],
          "histogram": [
           {
            "marker": {
             "pattern": {
              "fillmode": "overlay",
              "size": 10,
              "solidity": 0.2
             }
            },
            "type": "histogram"
           }
          ],
          "histogram2d": [
           {
            "colorbar": {
             "outlinewidth": 0,
             "ticks": ""
            },
            "colorscale": [
             [
              0,
              "#0d0887"
             ],
             [
              0.1111111111111111,
              "#46039f"
             ],
             [
              0.2222222222222222,
              "#7201a8"
             ],
             [
              0.3333333333333333,
              "#9c179e"
             ],
             [
              0.4444444444444444,
              "#bd3786"
             ],
             [
              0.5555555555555556,
              "#d8576b"
             ],
             [
              0.6666666666666666,
              "#ed7953"
             ],
             [
              0.7777777777777778,
              "#fb9f3a"
             ],
             [
              0.8888888888888888,
              "#fdca26"
             ],
             [
              1,
              "#f0f921"
             ]
            ],
            "type": "histogram2d"
           }
          ],
          "histogram2dcontour": [
           {
            "colorbar": {
             "outlinewidth": 0,
             "ticks": ""
            },
            "colorscale": [
             [
              0,
              "#0d0887"
             ],
             [
              0.1111111111111111,
              "#46039f"
             ],
             [
              0.2222222222222222,
              "#7201a8"
             ],
             [
              0.3333333333333333,
              "#9c179e"
             ],
             [
              0.4444444444444444,
              "#bd3786"
             ],
             [
              0.5555555555555556,
              "#d8576b"
             ],
             [
              0.6666666666666666,
              "#ed7953"
             ],
             [
              0.7777777777777778,
              "#fb9f3a"
             ],
             [
              0.8888888888888888,
              "#fdca26"
             ],
             [
              1,
              "#f0f921"
             ]
            ],
            "type": "histogram2dcontour"
           }
          ],
          "mesh3d": [
           {
            "colorbar": {
             "outlinewidth": 0,
             "ticks": ""
            },
            "type": "mesh3d"
           }
          ],
          "parcoords": [
           {
            "line": {
             "colorbar": {
              "outlinewidth": 0,
              "ticks": ""
             }
            },
            "type": "parcoords"
           }
          ],
          "pie": [
           {
            "automargin": true,
            "type": "pie"
           }
          ],
          "scatter": [
           {
            "fillpattern": {
             "fillmode": "overlay",
             "size": 10,
             "solidity": 0.2
            },
            "type": "scatter"
           }
          ],
          "scatter3d": [
           {
            "line": {
             "colorbar": {
              "outlinewidth": 0,
              "ticks": ""
             }
            },
            "marker": {
             "colorbar": {
              "outlinewidth": 0,
              "ticks": ""
             }
            },
            "type": "scatter3d"
           }
          ],
          "scattercarpet": [
           {
            "marker": {
             "colorbar": {
              "outlinewidth": 0,
              "ticks": ""
             }
            },
            "type": "scattercarpet"
           }
          ],
          "scattergeo": [
           {
            "marker": {
             "colorbar": {
              "outlinewidth": 0,
              "ticks": ""
             }
            },
            "type": "scattergeo"
           }
          ],
          "scattergl": [
           {
            "marker": {
             "colorbar": {
              "outlinewidth": 0,
              "ticks": ""
             }
            },
            "type": "scattergl"
           }
          ],
          "scattermapbox": [
           {
            "marker": {
             "colorbar": {
              "outlinewidth": 0,
              "ticks": ""
             }
            },
            "type": "scattermapbox"
           }
          ],
          "scatterpolar": [
           {
            "marker": {
             "colorbar": {
              "outlinewidth": 0,
              "ticks": ""
             }
            },
            "type": "scatterpolar"
           }
          ],
          "scatterpolargl": [
           {
            "marker": {
             "colorbar": {
              "outlinewidth": 0,
              "ticks": ""
             }
            },
            "type": "scatterpolargl"
           }
          ],
          "scatterternary": [
           {
            "marker": {
             "colorbar": {
              "outlinewidth": 0,
              "ticks": ""
             }
            },
            "type": "scatterternary"
           }
          ],
          "surface": [
           {
            "colorbar": {
             "outlinewidth": 0,
             "ticks": ""
            },
            "colorscale": [
             [
              0,
              "#0d0887"
             ],
             [
              0.1111111111111111,
              "#46039f"
             ],
             [
              0.2222222222222222,
              "#7201a8"
             ],
             [
              0.3333333333333333,
              "#9c179e"
             ],
             [
              0.4444444444444444,
              "#bd3786"
             ],
             [
              0.5555555555555556,
              "#d8576b"
             ],
             [
              0.6666666666666666,
              "#ed7953"
             ],
             [
              0.7777777777777778,
              "#fb9f3a"
             ],
             [
              0.8888888888888888,
              "#fdca26"
             ],
             [
              1,
              "#f0f921"
             ]
            ],
            "type": "surface"
           }
          ],
          "table": [
           {
            "cells": {
             "fill": {
              "color": "#EBF0F8"
             },
             "line": {
              "color": "white"
             }
            },
            "header": {
             "fill": {
              "color": "#C8D4E3"
             },
             "line": {
              "color": "white"
             }
            },
            "type": "table"
           }
          ]
         },
         "layout": {
          "annotationdefaults": {
           "arrowcolor": "#2a3f5f",
           "arrowhead": 0,
           "arrowwidth": 1
          },
          "autotypenumbers": "strict",
          "coloraxis": {
           "colorbar": {
            "outlinewidth": 0,
            "ticks": ""
           }
          },
          "colorscale": {
           "diverging": [
            [
             0,
             "#8e0152"
            ],
            [
             0.1,
             "#c51b7d"
            ],
            [
             0.2,
             "#de77ae"
            ],
            [
             0.3,
             "#f1b6da"
            ],
            [
             0.4,
             "#fde0ef"
            ],
            [
             0.5,
             "#f7f7f7"
            ],
            [
             0.6,
             "#e6f5d0"
            ],
            [
             0.7,
             "#b8e186"
            ],
            [
             0.8,
             "#7fbc41"
            ],
            [
             0.9,
             "#4d9221"
            ],
            [
             1,
             "#276419"
            ]
           ],
           "sequential": [
            [
             0,
             "#0d0887"
            ],
            [
             0.1111111111111111,
             "#46039f"
            ],
            [
             0.2222222222222222,
             "#7201a8"
            ],
            [
             0.3333333333333333,
             "#9c179e"
            ],
            [
             0.4444444444444444,
             "#bd3786"
            ],
            [
             0.5555555555555556,
             "#d8576b"
            ],
            [
             0.6666666666666666,
             "#ed7953"
            ],
            [
             0.7777777777777778,
             "#fb9f3a"
            ],
            [
             0.8888888888888888,
             "#fdca26"
            ],
            [
             1,
             "#f0f921"
            ]
           ],
           "sequentialminus": [
            [
             0,
             "#0d0887"
            ],
            [
             0.1111111111111111,
             "#46039f"
            ],
            [
             0.2222222222222222,
             "#7201a8"
            ],
            [
             0.3333333333333333,
             "#9c179e"
            ],
            [
             0.4444444444444444,
             "#bd3786"
            ],
            [
             0.5555555555555556,
             "#d8576b"
            ],
            [
             0.6666666666666666,
             "#ed7953"
            ],
            [
             0.7777777777777778,
             "#fb9f3a"
            ],
            [
             0.8888888888888888,
             "#fdca26"
            ],
            [
             1,
             "#f0f921"
            ]
           ]
          },
          "colorway": [
           "#636efa",
           "#EF553B",
           "#00cc96",
           "#ab63fa",
           "#FFA15A",
           "#19d3f3",
           "#FF6692",
           "#B6E880",
           "#FF97FF",
           "#FECB52"
          ],
          "font": {
           "color": "#2a3f5f"
          },
          "geo": {
           "bgcolor": "white",
           "lakecolor": "white",
           "landcolor": "#E5ECF6",
           "showlakes": true,
           "showland": true,
           "subunitcolor": "white"
          },
          "hoverlabel": {
           "align": "left"
          },
          "hovermode": "closest",
          "mapbox": {
           "style": "light"
          },
          "paper_bgcolor": "white",
          "plot_bgcolor": "#E5ECF6",
          "polar": {
           "angularaxis": {
            "gridcolor": "white",
            "linecolor": "white",
            "ticks": ""
           },
           "bgcolor": "#E5ECF6",
           "radialaxis": {
            "gridcolor": "white",
            "linecolor": "white",
            "ticks": ""
           }
          },
          "scene": {
           "xaxis": {
            "backgroundcolor": "#E5ECF6",
            "gridcolor": "white",
            "gridwidth": 2,
            "linecolor": "white",
            "showbackground": true,
            "ticks": "",
            "zerolinecolor": "white"
           },
           "yaxis": {
            "backgroundcolor": "#E5ECF6",
            "gridcolor": "white",
            "gridwidth": 2,
            "linecolor": "white",
            "showbackground": true,
            "ticks": "",
            "zerolinecolor": "white"
           },
           "zaxis": {
            "backgroundcolor": "#E5ECF6",
            "gridcolor": "white",
            "gridwidth": 2,
            "linecolor": "white",
            "showbackground": true,
            "ticks": "",
            "zerolinecolor": "white"
           }
          },
          "shapedefaults": {
           "line": {
            "color": "#2a3f5f"
           }
          },
          "ternary": {
           "aaxis": {
            "gridcolor": "white",
            "linecolor": "white",
            "ticks": ""
           },
           "baxis": {
            "gridcolor": "white",
            "linecolor": "white",
            "ticks": ""
           },
           "bgcolor": "#E5ECF6",
           "caxis": {
            "gridcolor": "white",
            "linecolor": "white",
            "ticks": ""
           }
          },
          "title": {
           "x": 0.05
          },
          "xaxis": {
           "automargin": true,
           "gridcolor": "white",
           "linecolor": "white",
           "ticks": "",
           "title": {
            "standoff": 15
           },
           "zerolinecolor": "white",
           "zerolinewidth": 2
          },
          "yaxis": {
           "automargin": true,
           "gridcolor": "white",
           "linecolor": "white",
           "ticks": "",
           "title": {
            "standoff": 15
           },
           "zerolinecolor": "white",
           "zerolinewidth": 2
          }
         }
        },
        "title": {
         "text": "Correlation Matrix of Performance Metrics"
        },
        "xaxis": {
         "anchor": "y",
         "constrain": "domain",
         "domain": [
          0,
          1
         ],
         "scaleanchor": "y"
        },
        "yaxis": {
         "anchor": "x",
         "autorange": "reversed",
         "constrain": "domain",
         "domain": [
          0,
          1
         ]
        }
       }
      }
     },
     "metadata": {},
     "output_type": "display_data"
    }
   ],
   "source": [
    "# Calculate correlation matrix\n",
    "correlation_matrix = SS[['pctFG', 'pctFG3', 'pctFG2', 'trbTotals', 'astTotals', 'stlTotals', 'blkTotals', 'tovTotals']].corr()\n",
    "\n",
    "fig = px.imshow(correlation_matrix, \n",
    "                title='Correlation Matrix of Performance Metrics',\n",
    "                labels={'color': 'Correlation'},\n",
    "                x=['FG%', '3P%', '2P%', 'Total Rebounds', 'Total Assists', 'Total Steals', 'Total Blocks', 'Total Turnovers'],\n",
    "                y=['FG%', '3P%', '2P%', 'Total Rebounds', 'Total Assists', 'Total Steals', 'Total Blocks', 'Total Turnovers'])\n",
    "fig.show()\n"
   ]
  },
  {
   "cell_type": "code",
   "execution_count": 101,
   "metadata": {},
   "outputs": [
    {
     "data": {
      "application/vnd.plotly.v1+json": {
       "config": {
        "plotlyServerURL": "https://plot.ly"
       },
       "data": [
        {
         "alignmentgroup": "True",
         "bingroup": "x",
         "hovertemplate": "Age=%{x}<br>count=%{y}<extra></extra>",
         "legendgroup": "",
         "marker": {
          "color": "#636efa",
          "pattern": {
           "shape": ""
          }
         },
         "name": "",
         "nbinsx": 100,
         "offsetgroup": "",
         "orientation": "v",
         "showlegend": false,
         "type": "histogram",
         "x": [
          35,
          35,
          28,
          29,
          39,
          30,
          29,
          32,
          33,
          33,
          34,
          33,
          31,
          29,
          30,
          25,
          24,
          28,
          31,
          27,
          29,
          31,
          33,
          27,
          28,
          28,
          32,
          34,
          23,
          24,
          24,
          26,
          26,
          25,
          25,
          33,
          27,
          26,
          26,
          25,
          25,
          27,
          38,
          27,
          37,
          32,
          34,
          29,
          29,
          24,
          24,
          24,
          27,
          27,
          28,
          26,
          35,
          36,
          28,
          24,
          23,
          31,
          29,
          28,
          31,
          33,
          28,
          27,
          27,
          27,
          29,
          30,
          26,
          24,
          25,
          34,
          32,
          31,
          28,
          31,
          29,
          31,
          26,
          25,
          33,
          29,
          27,
          29,
          30,
          31,
          26,
          25,
          27,
          26,
          34,
          31,
          31,
          25,
          29,
          25,
          25,
          25,
          25,
          31,
          29,
          24,
          27,
          30,
          27,
          27,
          30,
          32,
          22,
          24,
          29,
          28,
          24,
          27,
          24,
          25,
          30,
          25,
          32,
          20,
          22,
          28,
          30,
          25,
          25,
          31,
          28,
          35,
          33,
          21,
          26,
          23,
          22,
          23,
          38,
          32,
          32,
          36,
          26,
          22,
          27,
          21,
          27,
          27,
          26,
          32,
          21,
          31,
          26,
          37,
          25,
          24,
          21,
          22,
          28,
          19,
          24,
          37,
          30,
          29,
          31,
          20,
          25,
          30,
          28,
          23,
          22,
          21,
          30,
          31,
          31,
          23,
          31,
          23,
          22,
          28,
          28,
          25,
          26,
          35,
          21,
          25,
          30,
          24,
          26,
          21,
          28,
          27,
          22,
          22,
          20,
          31,
          21,
          25,
          28,
          35,
          35,
          28,
          19,
          21,
          29,
          28,
          24,
          28,
          20,
          30,
          23,
          23,
          28,
          29,
          20,
          21,
          23,
          23,
          20,
          22,
          27,
          24,
          20,
          23,
          22,
          26,
          20,
          20,
          22,
          25,
          25,
          21,
          23,
          20,
          22,
          26,
          31,
          33,
          27,
          33,
          22,
          20,
          19,
          23,
          24,
          25,
          23,
          22,
          24,
          20,
          26,
          29,
          24,
          23,
          21,
          20,
          30,
          21,
          23,
          24,
          26,
          23,
          20,
          26,
          32,
          33,
          24,
          21,
          22,
          23,
          20,
          25,
          25,
          35,
          35,
          24,
          20,
          20,
          26,
          21,
          22,
          22,
          32,
          30,
          26,
          23,
          20,
          21,
          19,
          22,
          35,
          35,
          22,
          19,
          20,
          28,
          25,
          22,
          28,
          19,
          22,
          22,
          30,
          23,
          22,
          25,
          21,
          25,
          21,
          22,
          28,
          22,
          23,
          23,
          23,
          21,
          29,
          28,
          25,
          22,
          26,
          33,
          20,
          19,
          20,
          26,
          21,
          20,
          22,
          24,
          28,
          27,
          23,
          20,
          36,
          26,
          28,
          29,
          21,
          22,
          27,
          23,
          21,
          36,
          22,
          23,
          21,
          22,
          26,
          23,
          23,
          24,
          25,
          24,
          24,
          24,
          21,
          38,
          37,
          24,
          35,
          30,
          24,
          24,
          28,
          25,
          27,
          31,
          31,
          35,
          33,
          27,
          26,
          26,
          32,
          29,
          29,
          35,
          34,
          34,
          35,
          25,
          24,
          25,
          25,
          26,
          26,
          37,
          24,
          35,
          27,
          32,
          23,
          21,
          21,
          27,
          27,
          31,
          24,
          19,
          27,
          23,
          26,
          25,
          25,
          23,
          29,
          25,
          26,
          27,
          24,
          23,
          24,
          23,
          25,
          22,
          21,
          25,
          25,
          23,
          26,
          23,
          20,
          26,
          21,
          21,
          21,
          21,
          21,
          20,
          21,
          24,
          20,
          26,
          23,
          23,
          19,
          23,
          19,
          19,
          20,
          21,
          23,
          21,
          23,
          22,
          20,
          21,
          23,
          26,
          22,
          23,
          26,
          26,
          24,
          26,
          23,
          23,
          24,
          25,
          23,
          24,
          20,
          30,
          24,
          27,
          24,
          30,
          36,
          30,
          25,
          34,
          25,
          24,
          22,
          25,
          25,
          23
         ],
         "xaxis": "x",
         "yaxis": "y"
        }
       ],
       "layout": {
        "barmode": "relative",
        "legend": {
         "tracegroupgap": 0
        },
        "template": {
         "data": {
          "bar": [
           {
            "error_x": {
             "color": "#2a3f5f"
            },
            "error_y": {
             "color": "#2a3f5f"
            },
            "marker": {
             "line": {
              "color": "#E5ECF6",
              "width": 0.5
             },
             "pattern": {
              "fillmode": "overlay",
              "size": 10,
              "solidity": 0.2
             }
            },
            "type": "bar"
           }
          ],
          "barpolar": [
           {
            "marker": {
             "line": {
              "color": "#E5ECF6",
              "width": 0.5
             },
             "pattern": {
              "fillmode": "overlay",
              "size": 10,
              "solidity": 0.2
             }
            },
            "type": "barpolar"
           }
          ],
          "carpet": [
           {
            "aaxis": {
             "endlinecolor": "#2a3f5f",
             "gridcolor": "white",
             "linecolor": "white",
             "minorgridcolor": "white",
             "startlinecolor": "#2a3f5f"
            },
            "baxis": {
             "endlinecolor": "#2a3f5f",
             "gridcolor": "white",
             "linecolor": "white",
             "minorgridcolor": "white",
             "startlinecolor": "#2a3f5f"
            },
            "type": "carpet"
           }
          ],
          "choropleth": [
           {
            "colorbar": {
             "outlinewidth": 0,
             "ticks": ""
            },
            "type": "choropleth"
           }
          ],
          "contour": [
           {
            "colorbar": {
             "outlinewidth": 0,
             "ticks": ""
            },
            "colorscale": [
             [
              0,
              "#0d0887"
             ],
             [
              0.1111111111111111,
              "#46039f"
             ],
             [
              0.2222222222222222,
              "#7201a8"
             ],
             [
              0.3333333333333333,
              "#9c179e"
             ],
             [
              0.4444444444444444,
              "#bd3786"
             ],
             [
              0.5555555555555556,
              "#d8576b"
             ],
             [
              0.6666666666666666,
              "#ed7953"
             ],
             [
              0.7777777777777778,
              "#fb9f3a"
             ],
             [
              0.8888888888888888,
              "#fdca26"
             ],
             [
              1,
              "#f0f921"
             ]
            ],
            "type": "contour"
           }
          ],
          "contourcarpet": [
           {
            "colorbar": {
             "outlinewidth": 0,
             "ticks": ""
            },
            "type": "contourcarpet"
           }
          ],
          "heatmap": [
           {
            "colorbar": {
             "outlinewidth": 0,
             "ticks": ""
            },
            "colorscale": [
             [
              0,
              "#0d0887"
             ],
             [
              0.1111111111111111,
              "#46039f"
             ],
             [
              0.2222222222222222,
              "#7201a8"
             ],
             [
              0.3333333333333333,
              "#9c179e"
             ],
             [
              0.4444444444444444,
              "#bd3786"
             ],
             [
              0.5555555555555556,
              "#d8576b"
             ],
             [
              0.6666666666666666,
              "#ed7953"
             ],
             [
              0.7777777777777778,
              "#fb9f3a"
             ],
             [
              0.8888888888888888,
              "#fdca26"
             ],
             [
              1,
              "#f0f921"
             ]
            ],
            "type": "heatmap"
           }
          ],
          "heatmapgl": [
           {
            "colorbar": {
             "outlinewidth": 0,
             "ticks": ""
            },
            "colorscale": [
             [
              0,
              "#0d0887"
             ],
             [
              0.1111111111111111,
              "#46039f"
             ],
             [
              0.2222222222222222,
              "#7201a8"
             ],
             [
              0.3333333333333333,
              "#9c179e"
             ],
             [
              0.4444444444444444,
              "#bd3786"
             ],
             [
              0.5555555555555556,
              "#d8576b"
             ],
             [
              0.6666666666666666,
              "#ed7953"
             ],
             [
              0.7777777777777778,
              "#fb9f3a"
             ],
             [
              0.8888888888888888,
              "#fdca26"
             ],
             [
              1,
              "#f0f921"
             ]
            ],
            "type": "heatmapgl"
           }
          ],
          "histogram": [
           {
            "marker": {
             "pattern": {
              "fillmode": "overlay",
              "size": 10,
              "solidity": 0.2
             }
            },
            "type": "histogram"
           }
          ],
          "histogram2d": [
           {
            "colorbar": {
             "outlinewidth": 0,
             "ticks": ""
            },
            "colorscale": [
             [
              0,
              "#0d0887"
             ],
             [
              0.1111111111111111,
              "#46039f"
             ],
             [
              0.2222222222222222,
              "#7201a8"
             ],
             [
              0.3333333333333333,
              "#9c179e"
             ],
             [
              0.4444444444444444,
              "#bd3786"
             ],
             [
              0.5555555555555556,
              "#d8576b"
             ],
             [
              0.6666666666666666,
              "#ed7953"
             ],
             [
              0.7777777777777778,
              "#fb9f3a"
             ],
             [
              0.8888888888888888,
              "#fdca26"
             ],
             [
              1,
              "#f0f921"
             ]
            ],
            "type": "histogram2d"
           }
          ],
          "histogram2dcontour": [
           {
            "colorbar": {
             "outlinewidth": 0,
             "ticks": ""
            },
            "colorscale": [
             [
              0,
              "#0d0887"
             ],
             [
              0.1111111111111111,
              "#46039f"
             ],
             [
              0.2222222222222222,
              "#7201a8"
             ],
             [
              0.3333333333333333,
              "#9c179e"
             ],
             [
              0.4444444444444444,
              "#bd3786"
             ],
             [
              0.5555555555555556,
              "#d8576b"
             ],
             [
              0.6666666666666666,
              "#ed7953"
             ],
             [
              0.7777777777777778,
              "#fb9f3a"
             ],
             [
              0.8888888888888888,
              "#fdca26"
             ],
             [
              1,
              "#f0f921"
             ]
            ],
            "type": "histogram2dcontour"
           }
          ],
          "mesh3d": [
           {
            "colorbar": {
             "outlinewidth": 0,
             "ticks": ""
            },
            "type": "mesh3d"
           }
          ],
          "parcoords": [
           {
            "line": {
             "colorbar": {
              "outlinewidth": 0,
              "ticks": ""
             }
            },
            "type": "parcoords"
           }
          ],
          "pie": [
           {
            "automargin": true,
            "type": "pie"
           }
          ],
          "scatter": [
           {
            "fillpattern": {
             "fillmode": "overlay",
             "size": 10,
             "solidity": 0.2
            },
            "type": "scatter"
           }
          ],
          "scatter3d": [
           {
            "line": {
             "colorbar": {
              "outlinewidth": 0,
              "ticks": ""
             }
            },
            "marker": {
             "colorbar": {
              "outlinewidth": 0,
              "ticks": ""
             }
            },
            "type": "scatter3d"
           }
          ],
          "scattercarpet": [
           {
            "marker": {
             "colorbar": {
              "outlinewidth": 0,
              "ticks": ""
             }
            },
            "type": "scattercarpet"
           }
          ],
          "scattergeo": [
           {
            "marker": {
             "colorbar": {
              "outlinewidth": 0,
              "ticks": ""
             }
            },
            "type": "scattergeo"
           }
          ],
          "scattergl": [
           {
            "marker": {
             "colorbar": {
              "outlinewidth": 0,
              "ticks": ""
             }
            },
            "type": "scattergl"
           }
          ],
          "scattermapbox": [
           {
            "marker": {
             "colorbar": {
              "outlinewidth": 0,
              "ticks": ""
             }
            },
            "type": "scattermapbox"
           }
          ],
          "scatterpolar": [
           {
            "marker": {
             "colorbar": {
              "outlinewidth": 0,
              "ticks": ""
             }
            },
            "type": "scatterpolar"
           }
          ],
          "scatterpolargl": [
           {
            "marker": {
             "colorbar": {
              "outlinewidth": 0,
              "ticks": ""
             }
            },
            "type": "scatterpolargl"
           }
          ],
          "scatterternary": [
           {
            "marker": {
             "colorbar": {
              "outlinewidth": 0,
              "ticks": ""
             }
            },
            "type": "scatterternary"
           }
          ],
          "surface": [
           {
            "colorbar": {
             "outlinewidth": 0,
             "ticks": ""
            },
            "colorscale": [
             [
              0,
              "#0d0887"
             ],
             [
              0.1111111111111111,
              "#46039f"
             ],
             [
              0.2222222222222222,
              "#7201a8"
             ],
             [
              0.3333333333333333,
              "#9c179e"
             ],
             [
              0.4444444444444444,
              "#bd3786"
             ],
             [
              0.5555555555555556,
              "#d8576b"
             ],
             [
              0.6666666666666666,
              "#ed7953"
             ],
             [
              0.7777777777777778,
              "#fb9f3a"
             ],
             [
              0.8888888888888888,
              "#fdca26"
             ],
             [
              1,
              "#f0f921"
             ]
            ],
            "type": "surface"
           }
          ],
          "table": [
           {
            "cells": {
             "fill": {
              "color": "#EBF0F8"
             },
             "line": {
              "color": "white"
             }
            },
            "header": {
             "fill": {
              "color": "#C8D4E3"
             },
             "line": {
              "color": "white"
             }
            },
            "type": "table"
           }
          ]
         },
         "layout": {
          "annotationdefaults": {
           "arrowcolor": "#2a3f5f",
           "arrowhead": 0,
           "arrowwidth": 1
          },
          "autotypenumbers": "strict",
          "coloraxis": {
           "colorbar": {
            "outlinewidth": 0,
            "ticks": ""
           }
          },
          "colorscale": {
           "diverging": [
            [
             0,
             "#8e0152"
            ],
            [
             0.1,
             "#c51b7d"
            ],
            [
             0.2,
             "#de77ae"
            ],
            [
             0.3,
             "#f1b6da"
            ],
            [
             0.4,
             "#fde0ef"
            ],
            [
             0.5,
             "#f7f7f7"
            ],
            [
             0.6,
             "#e6f5d0"
            ],
            [
             0.7,
             "#b8e186"
            ],
            [
             0.8,
             "#7fbc41"
            ],
            [
             0.9,
             "#4d9221"
            ],
            [
             1,
             "#276419"
            ]
           ],
           "sequential": [
            [
             0,
             "#0d0887"
            ],
            [
             0.1111111111111111,
             "#46039f"
            ],
            [
             0.2222222222222222,
             "#7201a8"
            ],
            [
             0.3333333333333333,
             "#9c179e"
            ],
            [
             0.4444444444444444,
             "#bd3786"
            ],
            [
             0.5555555555555556,
             "#d8576b"
            ],
            [
             0.6666666666666666,
             "#ed7953"
            ],
            [
             0.7777777777777778,
             "#fb9f3a"
            ],
            [
             0.8888888888888888,
             "#fdca26"
            ],
            [
             1,
             "#f0f921"
            ]
           ],
           "sequentialminus": [
            [
             0,
             "#0d0887"
            ],
            [
             0.1111111111111111,
             "#46039f"
            ],
            [
             0.2222222222222222,
             "#7201a8"
            ],
            [
             0.3333333333333333,
             "#9c179e"
            ],
            [
             0.4444444444444444,
             "#bd3786"
            ],
            [
             0.5555555555555556,
             "#d8576b"
            ],
            [
             0.6666666666666666,
             "#ed7953"
            ],
            [
             0.7777777777777778,
             "#fb9f3a"
            ],
            [
             0.8888888888888888,
             "#fdca26"
            ],
            [
             1,
             "#f0f921"
            ]
           ]
          },
          "colorway": [
           "#636efa",
           "#EF553B",
           "#00cc96",
           "#ab63fa",
           "#FFA15A",
           "#19d3f3",
           "#FF6692",
           "#B6E880",
           "#FF97FF",
           "#FECB52"
          ],
          "font": {
           "color": "#2a3f5f"
          },
          "geo": {
           "bgcolor": "white",
           "lakecolor": "white",
           "landcolor": "#E5ECF6",
           "showlakes": true,
           "showland": true,
           "subunitcolor": "white"
          },
          "hoverlabel": {
           "align": "left"
          },
          "hovermode": "closest",
          "mapbox": {
           "style": "light"
          },
          "paper_bgcolor": "white",
          "plot_bgcolor": "#E5ECF6",
          "polar": {
           "angularaxis": {
            "gridcolor": "white",
            "linecolor": "white",
            "ticks": ""
           },
           "bgcolor": "#E5ECF6",
           "radialaxis": {
            "gridcolor": "white",
            "linecolor": "white",
            "ticks": ""
           }
          },
          "scene": {
           "xaxis": {
            "backgroundcolor": "#E5ECF6",
            "gridcolor": "white",
            "gridwidth": 2,
            "linecolor": "white",
            "showbackground": true,
            "ticks": "",
            "zerolinecolor": "white"
           },
           "yaxis": {
            "backgroundcolor": "#E5ECF6",
            "gridcolor": "white",
            "gridwidth": 2,
            "linecolor": "white",
            "showbackground": true,
            "ticks": "",
            "zerolinecolor": "white"
           },
           "zaxis": {
            "backgroundcolor": "#E5ECF6",
            "gridcolor": "white",
            "gridwidth": 2,
            "linecolor": "white",
            "showbackground": true,
            "ticks": "",
            "zerolinecolor": "white"
           }
          },
          "shapedefaults": {
           "line": {
            "color": "#2a3f5f"
           }
          },
          "ternary": {
           "aaxis": {
            "gridcolor": "white",
            "linecolor": "white",
            "ticks": ""
           },
           "baxis": {
            "gridcolor": "white",
            "linecolor": "white",
            "ticks": ""
           },
           "bgcolor": "#E5ECF6",
           "caxis": {
            "gridcolor": "white",
            "linecolor": "white",
            "ticks": ""
           }
          },
          "title": {
           "x": 0.05
          },
          "xaxis": {
           "automargin": true,
           "gridcolor": "white",
           "linecolor": "white",
           "ticks": "",
           "title": {
            "standoff": 15
           },
           "zerolinecolor": "white",
           "zerolinewidth": 2
          },
          "yaxis": {
           "automargin": true,
           "gridcolor": "white",
           "linecolor": "white",
           "ticks": "",
           "title": {
            "standoff": 15
           },
           "zerolinecolor": "white",
           "zerolinewidth": 2
          }
         }
        },
        "title": {
         "text": "Distribution of Player Ages"
        },
        "xaxis": {
         "anchor": "y",
         "domain": [
          0,
          1
         ],
         "title": {
          "text": "Age"
         }
        },
        "yaxis": {
         "anchor": "x",
         "domain": [
          0,
          1
         ],
         "title": {
          "text": "count"
         }
        }
       }
      }
     },
     "metadata": {},
     "output_type": "display_data"
    }
   ],
   "source": [
    "fig = px.histogram(SS, x='agePlayer', \n",
    "                   title='Distribution of Player Ages',\n",
    "                   labels={'agePlayer': 'Age'},\n",
    "                   nbins=100)\n",
    "fig.show()\n"
   ]
  },
  {
   "cell_type": "code",
   "execution_count": 94,
   "metadata": {},
   "outputs": [
    {
     "data": {
      "application/vnd.plotly.v1+json": {
       "config": {
        "plotlyServerURL": "https://plot.ly"
       },
       "data": [
        {
         "customdata": [
          [
           "Stephen Curry",
           "GSW",
           51915615
          ],
          [
           "Damian Lillard",
           "MIL",
           45640084
          ],
          [
           "Fred VanVleet",
           "HOU",
           40806300
          ],
          [
           "Trae Young",
           "ATL",
           40064220
          ],
          [
           "Luka Doncic",
           "DAL",
           40064220
          ],
          [
           "Ben Simmons",
           "BRK",
           37893408
          ],
          [
           "Jrue Holiday",
           "BOS",
           36861707
          ],
          [
           "Devin Booker",
           "PHO",
           36016200
          ],
          [
           "CJ McCollum",
           "NOP",
           35802469
          ],
          [
           "James Harden",
           "LAC",
           35680595
          ],
          [
           "Ja Morant",
           "MEM",
           34005250
          ],
          [
           "Darius Garland",
           "CLE",
           34005250
          ],
          [
           "Jamal Murray",
           "DEN",
           33833400
          ],
          [
           "Shai Gilgeous-Alexander",
           "OKC",
           33386850
          ],
          [
           "De'Aaron Fox",
           "SAC",
           32600060
          ],
          [
           "Chris Paul",
           "GSW",
           30800000
          ],
          [
           "Kyle Lowry",
           "TOT",
           32478379
          ],
          [
           "Jalen Brunson",
           "NYK",
           26346666
          ],
          [
           "Mike Conley",
           "MIN",
           24360000
          ],
          [
           "Malcolm Brogdon",
           "POR",
           22500000
          ],
          [
           "Spencer Dinwiddie",
           "TOT",
           21911797
          ],
          [
           "Marcus Smart",
           "MEM",
           18833713
          ],
          [
           "D'Angelo Russell",
           "LAL",
           17307693
          ],
          [
           "Markelle Fultz",
           "ORL",
           17000000
          ],
          [
           "Tyus Jones",
           "WAS",
           14000000
          ],
          [
           "Dennis Schroder",
           "TOT",
           12405000
          ],
          [
           "Devonte' Graham",
           "SAS",
           12100000
          ],
          [
           "Coby White",
           "CHI",
           11111111
          ],
          [
           "Cade Cunningham",
           "DET",
           11055360
          ],
          [
           "Talen Horton-Tucker",
           "UTA",
           11020000
          ],
          [
           "LaMelo Ball",
           "CHO",
           10900635
          ],
          [
           "Gabe Vincent",
           "LAL",
           10500000
          ],
          [
           "Tre Jones",
           "SAS",
           9895833
          ],
          [
           "Monte Morris",
           "TOT",
           9800926
          ],
          [
           "Scoot Henderson",
           "POR",
           9770880
          ],
          [
           "T.J. McConnell",
           "IND",
           8700000
          ],
          [
           "Delon Wright",
           "TOT",
           8856750
          ],
          [
           "Vasilije Micic",
           "TOT",
           7723000
          ],
          [
           "Killian Hayes",
           "DET",
           7413955
          ],
          [
           "Anthony Black",
           "ORL",
           7245480
          ],
          [
           "Patty Mills",
           "TOT",
           7267250
          ],
          [
           "Cameron Payne",
           "TOT",
           8519706
          ],
          [
           "Jevon Carter",
           "CHI",
           6190476
          ],
          [
           "Tyrese Haliburton",
           "IND",
           5808435
          ],
          [
           "Dyson Daniels",
           "NOP",
           5784120
          ],
          [
           "Kira Lewis Jr.",
           "TOT",
           5722116
          ],
          [
           "Cole Anthony",
           "ORL",
           5539771
          ],
          [
           "Davion Mitchell",
           "SAC",
           5063640
          ],
          [
           "Reggie Jackson",
           "DEN",
           5000000
          ],
          [
           "Tyrese Maxey",
           "PHI",
           4343920
          ],
          [
           "Payton Pritchard",
           "BOS",
           4037277
          ],
          [
           "Keyonte George",
           "UTA",
           3889800
          ],
          [
           "Malachi Flynn",
           "TOT",
           3873025
          ],
          [
           "Russell Westbrook",
           "LAC",
           3835738
          ],
          [
           "Derrick Rose",
           "MEM",
           3196448
          ],
          [
           "Tre Mann",
           "TOT",
           3191400
          ],
          [
           "Malaki Branham",
           "SAS",
           3071880
          ],
          [
           "Dante Exum",
           "DAL",
           3000000
          ],
          [
           "Marcus Sasser",
           "DET",
           2624040
          ],
          [
           "Kris Dunn",
           "UTA",
           2586665
          ],
          [
           "TyTy Washington Jr.",
           "MIL",
           2320440
          ],
          [
           "Jordan McLaughlin",
           "MIN",
           2320000
          ],
          [
           "Bones Hyland",
           "LAC",
           2306400
          ],
          [
           "Jeff Dowtin",
           "PHI",
           2196970
          ],
          [
           "Andrew Nembhard",
           "IND",
           2131905
          ],
          [
           "Dalano Banton",
           "TOT",
           2019706
          ],
          [
           "Patrick Beverley",
           "TOT",
           2019706
          ],
          [
           "Cory Joseph",
           "GSW",
           2019706
          ],
          [
           "Ryan Arcidiacono",
           "NYK",
           2019706
          ],
          [
           "Ish Smith",
           "CHO",
           2019706
          ],
          [
           "Frank Ntilikina",
           "CHO",
           2019706
          ],
          [
           "Dennis Smith Jr.",
           "BRK",
           2019706
          ],
          [
           "Aaron Holiday",
           "HOU",
           2019706
          ],
          [
           "Jordan Goodwin",
           "TOT",
           1927896
          ],
          [
           "Miles McBride",
           "NYK",
           1836096
          ],
          [
           "Jose Alvarado",
           "NOP",
           1836096
          ],
          [
           "Ryan Rollins",
           "TOT",
           1719864
          ],
          [
           "Craig Porter Jr.",
           "CLE",
           1500000
          ],
          [
           "Javon Freeman-Liberty",
           "TOR",
           289542
          ],
          [
           "Isaiah Thomas",
           "PHO",
           301795
          ],
          [
           "Ashton Hagans",
           "POR",
           103550
          ]
         ],
         "hovertemplate": "slugPosition=PG<br>Total Assists=%{x}<br>Total Points=%{y}<br>Total Rebounds=%{marker.size}<br>namePlayer=%{customdata[0]}<br>slugTeamBREF=%{customdata[1]}<br>Salary=%{customdata[2]}<extra></extra>",
         "legendgroup": "PG",
         "marker": {
          "color": "#636efa",
          "size": [
           330,
           320,
           278,
           149,
           647,
           119,
           373,
           308,
           286,
           369,
           50,
           152,
           242,
           415,
           340,
           225,
           194,
           278,
           218,
           148,
           205,
           53,
           236,
           138,
           179,
           242,
           36,
           358,
           268,
           121,
           113,
           9,
           289,
           57,
           194,
           191,
           86,
           88,
           119,
           139,
           35,
           117,
           60,
           271,
           236,
           26,
           311,
           95,
           155,
           258,
           265,
           211,
           114,
           343,
           45,
           149,
           148,
           149,
           125,
           189,
           5,
           72,
           55,
           20,
           141,
           178,
           239,
           30,
           8,
           76,
           6,
           164,
           123,
           253,
           100,
           128,
           13,
           109,
           70,
           0,
           45
          ],
          "sizemode": "area",
          "sizeref": 2.8,
          "symbol": "circle"
         },
         "mode": "markers",
         "name": "PG",
         "orientation": "v",
         "showlegend": true,
         "type": "scatter",
         "x": [
          379,
          508,
          589,
          583,
          686,
          86,
          333,
          472,
          305,
          614,
          73,
          373,
          384,
          465,
          418,
          393,
          253,
          519,
          449,
          214,
          356,
          86,
          482,
          120,
          485,
          488,
          49,
          405,
          464,
          177,
          176,
          21,
          478,
          69,
          336,
          390,
          119,
          262,
          205,
          91,
          34,
          205,
          94,
          752,
          164,
          37,
          236,
          134,
          308,
          433,
          281,
          332,
          130,
          306,
          78,
          165,
          156,
          157,
          236,
          254,
          5,
          110,
          93,
          27,
          280,
          127,
          212,
          42,
          4,
          145,
          4,
          203,
          140,
          155,
          114,
          117,
          14,
          118,
          40,
          3,
          54
         ],
         "xaxis": "x",
         "y": [
          1956,
          1775,
          1270,
          1389,
          2370,
          92,
          860,
          1841,
          1322,
          1192,
          226,
          1028,
          1250,
          2254,
          1966,
          533,
          487,
          2212,
          869,
          613,
          795,
          289,
          1369,
          335,
          790,
          1122,
          114,
          1509,
          1405,
          516,
          526,
          34,
          771,
          164,
          868,
          727,
          210,
          422,
          289,
          316,
          127,
          578,
          357,
          1389,
          354,
          89,
          937,
          379,
          833,
          1816,
          787,
          974,
          380,
          754,
          191,
          382,
          690,
          428,
          586,
          357,
          14,
          195,
          256,
          52,
          626,
          557,
          451,
          63,
          0,
          139,
          5,
          369,
          514,
          368,
          562,
          397,
          44,
          285,
          153,
          8,
          80
         ],
         "yaxis": "y"
        },
        {
         "customdata": [
          [
           "Kevin Durant",
           "PHO",
           47649433
          ],
          [
           "LeBron James",
           "LAL",
           47607350
          ],
          [
           "Giannis Antetokounmpo",
           "MIL",
           45640084
          ],
          [
           "Paul George",
           "LAC",
           45640084
          ],
          [
           "Jimmy Butler",
           "MIA",
           45183960
          ],
          [
           "Tobias Harris",
           "PHI",
           39270150
          ],
          [
           "Pascal Siakam",
           "TOT",
           37893408
          ],
          [
           "Karl-Anthony Towns",
           "MIN",
           36016200
          ],
          [
           "Zion Williamson",
           "NOP",
           34005250
          ],
          [
           "Jayson Tatum",
           "BOS",
           32600060
          ],
          [
           "Julius Randle",
           "NYK",
           28226880
          ],
          [
           "Jerami Grant",
           "POR",
           27586207
          ],
          [
           "Cameron Johnson",
           "BRK",
           25679348
          ],
          [
           "Kyle Kuzma",
           "WAS",
           25568182
          ],
          [
           "John Collins",
           "UTA",
           25340000
          ],
          [
           "Draymond Green",
           "GSW",
           22321429
          ],
          [
           "Aaron Gordon",
           "DEN",
           22266182
          ],
          [
           "Jonathan Isaac",
           "ORL",
           17400000
          ],
          [
           "Lauri Markkanen",
           "UTA",
           17259999
          ],
          [
           "Marcus Morris Sr.",
           "TOT",
           17429682
          ],
          [
           "Harrison Barnes",
           "SAC",
           17000000
          ],
          [
           "Davis Bertans",
           "TOT",
           17000000
          ],
          [
           "P.J. Washington",
           "TOT",
           16847826
          ],
          [
           "Rui Hachimura",
           "LAL",
           15740741
          ],
          [
           "Dorian Finney-Smith",
           "BRK",
           13932008
          ],
          [
           "Brandon Clarke",
           "MEM",
           12500000
          ],
          [
           "Grant Williams",
           "TOT",
           12405000
          ],
          [
           "Chris Boucher",
           "TOR",
           11750000
          ],
          [
           "Bobby Portis",
           "MIL",
           11710818
          ],
          [
           "Nicolas Batum",
           "TOT",
           11710818
          ],
          [
           "Paolo Banchero",
           "ORL",
           11608080
          ],
          [
           "P.J. Tucker",
           "TOT",
           11014500
          ],
          [
           "Patrick Williams",
           "CHI",
           9835881
          ],
          [
           "Jeff Green",
           "HOU",
           9600000
          ],
          [
           "Jabari Smith Jr.",
           "HOU",
           9326520
          ],
          [
           "Kyle Anderson",
           "MIN",
           9219512
          ],
          [
           "Evan Mobley",
           "CLE",
           8882640
          ],
          [
           "Georges Niang",
           "CLE",
           8800000
          ],
          [
           "Trey Lyles",
           "SAC",
           8000000
          ],
          [
           "Thaddeus Young",
           "TOT",
           8638413
          ],
          [
           "Obi Toppin",
           "IND",
           6803012
          ],
          [
           "Sasha Vezenkov",
           "SAC",
           6341464
          ],
          [
           "Kenrich Williams",
           "OKC",
           6175000
          ],
          [
           "Jarace Walker",
           "IND",
           6059520
          ],
          [
           "Jonathan Kuminga",
           "GSW",
           6012840
          ],
          [
           "Dean Wade",
           "CLE",
           5709877
          ],
          [
           "Taylor Hendricks",
           "UTA",
           5569920
          ],
          [
           "Jeremy Sochan",
           "SAS",
           5316960
          ],
          [
           "Isaiah Stewart",
           "DET",
           5266713
          ],
          [
           "Aleksej Pokusevski",
           "TOT",
           5574809
          ],
          [
           "Ousmane Dieng",
           "OKC",
           4798440
          ],
          [
           "Jarred Vanderbilt",
           "LAL",
           4698000
          ],
          [
           "Jalen Williams",
           "OKC",
           4558680
          ],
          [
           "Taurean Prince",
           "LAL",
           4516000
          ],
          [
           "Zeke Nnaji",
           "DEN",
           4306281
          ],
          [
           "Kevin Love",
           "MIA",
           3835738
          ],
          [
           "Tari Eason",
           "HOU",
           3527160
          ],
          [
           "Jake LaRavia",
           "MEM",
           3199920
          ],
          [
           "Noah Clowney",
           "BRK",
           3089520
          ],
          [
           "Olivier-Maxence Prosper",
           "DAL",
           2733720
          ],
          [
           "David Roddy",
           "TOT",
           2718240
          ],
          [
           "Christian Wood",
           "LAL",
           2709849
          ],
          [
           "Usman Garuba",
           "GSW",
           2600008
          ],
          [
           "Kobe Brown",
           "LAC",
           2413320
          ],
          [
           "Nikola Jovic",
           "MIA",
           2352000
          ],
          [
           "James Johnson",
           "IND",
           777703
          ],
          [
           "Santi Aldama",
           "MEM",
           2194200
          ],
          [
           "Luka Samanic",
           "UTA",
           2066585
          ],
          [
           "Taj Gibson",
           "TOT",
           2961636
          ],
          [
           "Bol Bol",
           "PHO",
           2019706
          ],
          [
           "Thanasis Antetokounmpo",
           "MIL",
           2019706
          ],
          [
           "Jae Crowder",
           "MIL",
           2019706
          ],
          [
           "Lamar Stevens",
           "TOT",
           2419706
          ],
          [
           "Markieff Morris",
           "DAL",
           2019706
          ],
          [
           "Terry Taylor",
           "CHI",
           2019706
          ],
          [
           "Trendon Watford",
           "BRK",
           2019706
          ],
          [
           "Anthony Gill",
           "WAS",
           1997238
          ],
          [
           "GG Jackson II",
           "MEM",
           1991428
          ],
          [
           "Haywood Highsmith",
           "MIA",
           1902137
          ],
          [
           "Jeremiah Robinson-Earl",
           "NOP",
           684843
          ],
          [
           "Isaiah Livers",
           "DET",
           1836096
          ],
          [
           "JT Thor",
           "CHO",
           1836096
          ],
          [
           "E.J. Liddell",
           "NOP",
           1801769
          ],
          [
           "Kenneth Lofton Jr.",
           "TOT",
           500000
          ],
          [
           "Hunter Tyson",
           "DEN",
           1119563
          ],
          [
           "Trayce Jackson-Davis",
           "GSW",
           1119563
          ],
          [
           "Mouhamed Gueye",
           "ATL",
           1119563
          ],
          [
           "Toumani Camara",
           "POR",
           1119563
          ],
          [
           "Gui Santos",
           "GSW",
           1029483
          ],
          [
           "Jalen Wilson",
           "BRK",
           850000
          ],
          [
           "Darius Bazley",
           "TOT",
           616075
          ],
          [
           "Dominick Barlow",
           "SAS",
           455620
          ],
          [
           "Mamadi Diakite",
           "TOT",
           368600
          ],
          [
           "Pete Nance",
           "CLE",
           64343
          ]
         ],
         "hovertemplate": "slugPosition=PF<br>Total Assists=%{x}<br>Total Points=%{y}<br>Total Rebounds=%{marker.size}<br>namePlayer=%{customdata[0]}<br>slugTeamBREF=%{customdata[1]}<br>Salary=%{customdata[2]}<extra></extra>",
         "legendgroup": "PF",
         "marker": {
          "color": "#EF553B",
          "size": [
           495,
           518,
           841,
           388,
           318,
           453,
           565,
           515,
           406,
           601,
           423,
           191,
           251,
           464,
           575,
           398,
           471,
           260,
           449,
           134,
           249,
           61,
           411,
           294,
           317,
           32,
           318,
           207,
           607,
           248,
           554,
           85,
           166,
           178,
           616,
           273,
           468,
           278,
           257,
           103,
           320,
           96,
           209,
           63,
           355,
           218,
           185,
           476,
           305,
           89,
           51,
           138,
           282,
           230,
           126,
           338,
           153,
           128,
           81,
           79,
           211,
           254,
           7,
           62,
           192,
           4,
           352,
           102,
           37,
           137,
           13,
           161,
           127,
           39,
           37,
           194,
           94,
           196,
           210,
           76,
           48,
           146,
           5,
           38,
           9,
           341,
           22,
           343,
           49,
           131,
           28,
           113,
           4,
           3
          ],
          "sizemode": "area",
          "sizeref": 2.8,
          "symbol": "circle"
         },
         "mode": "markers",
         "name": "PF",
         "orientation": "v",
         "showlegend": true,
         "type": "scatter",
         "x": [
          378,
          589,
          476,
          262,
          298,
          217,
          342,
          189,
          352,
          364,
          229,
          152,
          138,
          296,
          77,
          332,
          259,
          30,
          110,
          36,
          99,
          35,
          141,
          81,
          107,
          9,
          174,
          23,
          104,
          128,
          431,
          16,
          66,
          70,
          121,
          331,
          160,
          98,
          72,
          57,
          128,
          19,
          93,
          40,
          163,
          43,
          32,
          249,
          73,
          35,
          37,
          36,
          322,
          119,
          32,
          115,
          27,
          58,
          18,
          22,
          80,
          49,
          1,
          25,
          90,
          8,
          138,
          19,
          11,
          17,
          17,
          66,
          28,
          16,
          10,
          81,
          34,
          59,
          70,
          21,
          25,
          29,
          1,
          33,
          2,
          82,
          4,
          87,
          14,
          45,
          7,
          36,
          2,
          0
         ],
         "xaxis": "x",
         "y": [
          2032,
          1822,
          2222,
          1671,
          1246,
          1204,
          1737,
          1349,
          1601,
          1987,
          1102,
          1132,
          776,
          1553,
          1027,
          475,
          1013,
          393,
          1278,
          316,
          1000,
          290,
          939,
          923,
          580,
          68,
          784,
          322,
          1130,
          320,
          1804,
          52,
          429,
          509,
          1044,
          506,
          785,
          768,
          419,
          137,
          843,
          225,
          325,
          120,
          1188,
          291,
          292,
          861,
          503,
          146,
          133,
          150,
          1355,
          697,
          186,
          485,
          215,
          379,
          133,
          121,
          425,
          347,
          3,
          89,
          352,
          8,
          654,
          177,
          34,
          223,
          32,
          312,
          272,
          66,
          46,
          432,
          189,
          699,
          405,
          115,
          114,
          199,
          4,
          96,
          20,
          540,
          24,
          527,
          82,
          214,
          48,
          144,
          12,
          3
         ],
         "yaxis": "y"
        },
        {
         "customdata": [
          [
           "Nikola Jokic",
           "DEN",
           47607350
          ],
          [
           "Joel Embiid",
           "PHI",
           47607350
          ],
          [
           "Rudy Gobert",
           "MIN",
           41000000
          ],
          [
           "Anthony Davis",
           "LAL",
           40600080
          ],
          [
           "Kristaps Porzingis",
           "BOS",
           36016200
          ],
          [
           "Bam Adebayo",
           "MIA",
           32600060
          ],
          [
           "Deandre Ayton",
           "POR",
           32459438
          ],
          [
           "Domantas Sabonis",
           "SAC",
           30600000
          ],
          [
           "Jaren Jackson Jr.",
           "MEM",
           27102202
          ],
          [
           "Brook Lopez",
           "MIL",
           25000000
          ],
          [
           "Myles Turner",
           "IND",
           20975000
          ],
          [
           "Clint Capela",
           "ATL",
           20616000
          ],
          [
           "Jarrett Allen",
           "CLE",
           20000000
          ],
          [
           "Jakob Poeltl",
           "TOR",
           19500000
          ],
          [
           "Nikola Vucevic",
           "CHI",
           18518519
          ],
          [
           "Jusuf Nurkic",
           "PHO",
           16875000
          ],
          [
           "Mitchell Robinson",
           "NYK",
           15681818
          ],
          [
           "Jonas Valanciunas",
           "NOP",
           15435000
          ],
          [
           "Wendell Carter Jr.",
           "ORL",
           13050000
          ],
          [
           "Naz Reid",
           "MIN",
           12950400
          ],
          [
           "Marvin Bagley III",
           "TOT",
           12500000
          ],
          [
           "Kelly Olynyk",
           "TOT",
           12195122
          ],
          [
           "Victor Wembanyama",
           "SAS",
           12160680
          ],
          [
           "James Wiseman",
           "DET",
           12119440
          ],
          [
           "Robert Williams III",
           "POR",
           11571429
          ],
          [
           "Maxi Kleber",
           "DAL",
           11000000
          ],
          [
           "Ivica Zubac",
           "LAC",
           10933333
          ],
          [
           "Chet Holmgren",
           "OKC",
           10386000
          ],
          [
           "Larry Nance Jr.",
           "NOP",
           10375000
          ],
          [
           "Al Horford",
           "BOS",
           10000000
          ],
          [
           "Nic Claxton",
           "BRK",
           9625000
          ],
          [
           "Isaiah Hartenstein",
           "NYK",
           9245121
          ],
          [
           "Onyeka Okongwu",
           "ATL",
           8109063
          ],
          [
           "Jock Landale",
           "HOU",
           8000000
          ],
          [
           "Moritz Wagner",
           "ORL",
           8000000
          ],
          [
           "Paul Reed",
           "PHI",
           7723000
          ],
          [
           "Zach Collins",
           "SAS",
           7700000
          ],
          [
           "Kevon Looney",
           "GSW",
           7500000
          ],
          [
           "Daniel Theis",
           "TOT",
           8670002
          ],
          [
           "Jalen Smith",
           "IND",
           5043773
          ],
          [
           "Nick Richards",
           "CHO",
           5000000
          ],
          [
           "Bismack Biyombo",
           "TOT",
           5754488
          ],
          [
           "Mason Plumlee",
           "LAC",
           5000000
          ],
          [
           "Dereck Lively II",
           "DAL",
           4775640
          ],
          [
           "Jalen Duren",
           "DET",
           4330680
          ],
          [
           "Dwight Powell",
           "DAL",
           4000000
          ],
          [
           "Mark Williams",
           "CHO",
           3908160
          ],
          [
           "Alperen Sengun",
           "HOU",
           3536280
          ],
          [
           "Mike Muscala",
           "TOT",
           4010730
          ],
          [
           "Andre Drummond",
           "CHI",
           3360000
          ],
          [
           "Walker Kessler",
           "UTA",
           2831160
          ],
          [
           "Omer Yurtseven",
           "UTA",
           2800000
          ],
          [
           "Isaiah Jackson",
           "IND",
           2696280
          ],
          [
           "Charles Bassey",
           "SAS",
           2600000
          ],
          [
           "Damian Jones",
           "CLE",
           2586665
          ],
          [
           "Bruno Fernando",
           "ATL",
           2581522
          ],
          [
           "Thomas Bryant",
           "MIA",
           2528233
          ],
          [
           "Tristan Vukcevic",
           "WAS",
           2424892
          ],
          [
           "Luke Kornet",
           "BOS",
           2413304
          ],
          [
           "JaVale McGee",
           "SAC",
           4368030
          ],
          [
           "Drew Eubanks",
           "PHO",
           2346614
          ],
          [
           "Day'Ron Sharpe",
           "BRK",
           2210040
          ],
          [
           "Jaxson Hayes",
           "LAL",
           2165000
          ],
          [
           "Goga Bitadze",
           "ORL",
           2066585
          ],
          [
           "Sandro Mamukelashvili",
           "SAS",
           2019706
          ],
          [
           "Robin Lopez",
           "MIL",
           2019706
          ],
          [
           "Alex Len",
           "SAC",
           2019706
          ],
          [
           "Mo Bamba",
           "PHI",
           2019706
          ],
          [
           "Cody Zeller",
           "NOP",
           2019706
          ],
          [
           "Chimezie Metu",
           "TOT",
           2351562
          ],
          [
           "Dario Saric",
           "GSW",
           2019706
          ],
          [
           "DeAndre Jordan",
           "DEN",
           2019706
          ],
          [
           "Harry Giles III",
           "TOT",
           2019706
          ],
          [
           "Moses Brown",
           "POR",
           2019706
          ],
          [
           "Boban Marjanovic",
           "HOU",
           2019706
          ],
          [
           "Tristan Thompson",
           "CLE",
           2019706
          ],
          [
           "Jaylin Williams",
           "OKC",
           2000000
          ],
          [
           "Duop Reath",
           "POR",
           1951220
          ],
          [
           "Jericho Sims",
           "NYK",
           1927896
          ],
          [
           "Orlando Robinson",
           "MIA",
           1801769
          ],
          [
           "Filip Petrusev",
           "TOT",
           559782
          ],
          [
           "Neemias Queta",
           "BOS",
           331253
          ],
          [
           "Luka Garza",
           "MIN",
           127683
          ],
          [
           "Malik Williams",
           "TOR",
           77212
          ]
         ],
         "hovertemplate": "slugPosition=C<br>Total Assists=%{x}<br>Total Points=%{y}<br>Total Rebounds=%{marker.size}<br>namePlayer=%{customdata[0]}<br>slugTeamBREF=%{customdata[1]}<br>Salary=%{customdata[2]}<extra></extra>",
         "legendgroup": "C",
         "marker": {
          "color": "#00cc96",
          "size": [
           976,
           430,
           982,
           961,
           409,
           737,
           609,
           1120,
           365,
           409,
           533,
           776,
           811,
           429,
           801,
           837,
           263,
           721,
           381,
           423,
           312,
           411,
           755,
           336,
           38,
           143,
           626,
           648,
           307,
           413,
           706,
           626,
           376,
           172,
           347,
           488,
           370,
           419,
           244,
           337,
           539,
           209,
           234,
           378,
           709,
           214,
           184,
           589,
           125,
           708,
           481,
           208,
           238,
           76,
           62,
           193,
           141,
           36,
           261,
           126,
           322,
           389,
           211,
           286,
           147,
           5,
           128,
           238,
           112,
           194,
           283,
           157,
           30,
           86,
           32,
           174,
           234,
           250,
           147,
           84,
           1,
           122,
           31,
           38
          ],
          "sizemode": "area",
          "sizeref": 2.8,
          "symbol": "circle"
         },
         "mode": "markers",
         "name": "C",
         "orientation": "v",
         "showlegend": true,
         "type": "scatter",
         "x": [
          708,
          219,
          102,
          266,
          115,
          278,
          90,
          673,
          154,
          127,
          100,
          91,
          210,
          127,
          254,
          301,
          18,
          173,
          95,
          106,
          55,
          347,
          274,
          54,
          5,
          68,
          93,
          200,
          113,
          168,
          147,
          188,
          74,
          65,
          96,
          109,
          194,
          133,
          61,
          63,
          54,
          53,
          55,
          60,
          147,
          84,
          22,
          312,
          36,
          37,
          60,
          29,
          50,
          21,
          15,
          46,
          23,
          13,
          67,
          17,
          63,
          85,
          33,
          79,
          49,
          4,
          50,
          41,
          39,
          46,
          144,
          26,
          6,
          7,
          6,
          51,
          110,
          67,
          25,
          34,
          0,
          20,
          4,
          2
         ],
         "xaxis": "x",
         "y": [
          2085,
          1353,
          1061,
          1876,
          1145,
          1367,
          920,
          1593,
          1486,
          990,
          1313,
          836,
          1271,
          555,
          1370,
          829,
          173,
          1002,
          603,
          1090,
          583,
          762,
          1522,
          446,
          41,
          191,
          794,
          1357,
          350,
          562,
          841,
          582,
          561,
          274,
          868,
          600,
          776,
          334,
          376,
          601,
          652,
          174,
          244,
          483,
          841,
          208,
          242,
          1331,
          157,
          663,
          518,
          222,
          383,
          63,
          107,
          282,
          217,
          85,
          334,
          185,
          379,
          415,
          303,
          311,
          190,
          18,
          120,
          253,
          76,
          332,
          515,
          142,
          56,
          75,
          45,
          161,
          276,
          617,
          92,
          99,
          3,
          154,
          99,
          19
         ],
         "yaxis": "y"
        },
        {
         "customdata": [
          [
           "Bradley Beal",
           "PHO",
           46741590
          ],
          [
           "Zach LaVine",
           "CHI",
           40064220
          ],
          [
           "Kyrie Irving",
           "DAL",
           37037037
          ],
          [
           "Donovan Mitchell",
           "CLE",
           33162030
          ],
          [
           "Jordan Poole",
           "WAS",
           27455357
          ],
          [
           "Tyler Herro",
           "MIA",
           27000000
          ],
          [
           "Anfernee Simons",
           "POR",
           24107143
          ],
          [
           "RJ Barrett",
           "TOT",
           23883929
          ],
          [
           "Jordan Clarkson",
           "UTA",
           23487629
          ],
          [
           "Joe Harris",
           "DET",
           19928571
          ],
          [
           "Evan Fournier",
           "TOT",
           18857143
          ],
          [
           "Bogdan Bogdanovic",
           "ATL",
           18700000
          ],
          [
           "Gary Trent Jr.",
           "TOR",
           18560000
          ],
          [
           "Derrick White",
           "BOS",
           18357143
          ],
          [
           "Dejounte Murray",
           "ATL",
           18214000
          ],
          [
           "Norman Powell",
           "LAC",
           18000000
          ],
          [
           "Collin Sexton",
           "UTA",
           17325000
          ],
          [
           "Kevin Huerter",
           "SAC",
           15669643
          ],
          [
           "Caris LeVert",
           "CLE",
           15384616
          ],
          [
           "Luke Kennard",
           "MEM",
           14763636
          ],
          [
           "Kentavious Caldwell-Pope",
           "DEN",
           14704938
          ],
          [
           "Anthony Edwards",
           "MIN",
           13534817
          ],
          [
           "Gary Harris",
           "ORL",
           13000000
          ],
          [
           "Austin Reaves",
           "LAL",
           12015150
          ],
          [
           "Donte DiVincenzo",
           "NYK",
           10900000
          ],
          [
           "Terance Mann",
           "LAC",
           10576923
          ],
          [
           "Alec Burks",
           "TOT",
           10489600
          ],
          [
           "Landry Shamet",
           "WAS",
           10250000
          ],
          [
           "Malik Monk",
           "SAC",
           9945830
          ],
          [
           "Jalen Green",
           "HOU",
           9891480
          ],
          [
           "Alex Caruso",
           "CHI",
           9460000
          ],
          [
           "Grayson Allen",
           "PHO",
           8925000
          ],
          [
           "Gary Payton II",
           "GSW",
           8715000
          ],
          [
           "Scottie Barnes",
           "TOR",
           8008680
          ],
          [
           "De'Anthony Melton",
           "PHI",
           8000000
          ],
          [
           "Jaden Ivey",
           "DET",
           7614480
          ],
          [
           "Jalen Suggs",
           "ORL",
           7252080
          ],
          [
           "Josh Giddey",
           "OKC",
           6587040
          ],
          [
           "Ayo Dosunmu",
           "CHI",
           6481482
          ],
          [
           "Shaedon Sharpe",
           "POR",
           6313800
          ],
          [
           "Devin Vassell",
           "SAS",
           5887899
          ],
          [
           "Furkan Korkmaz",
           "PHI",
           5370370
          ],
          [
           "Cason Wallace",
           "OKC",
           5291400
          ],
          [
           "Johnny Davis",
           "WAS",
           5050800
          ],
          [
           "Shake Milton",
           "TOT",
           5475908
          ],
          [
           "Josh Green",
           "DAL",
           4765339
          ],
          [
           "Nickeil Alexander-Walker",
           "MIN",
           4687500
          ],
          [
           "James Bouknight",
           "CHO",
           4570080
          ],
          [
           "Gradey Dick",
           "TOR",
           4536720
          ],
          [
           "Joshua Primo",
           "LAC",
           6105941
          ],
          [
           "Jordan Hawkins",
           "NOP",
           4310160
          ],
          [
           "Ochai Agbaji",
           "TOT",
           4114200
          ],
          [
           "Kobe Bufkin",
           "ATL",
           4094280
          ],
          [
           "Seth Curry",
           "TOT",
           4000000
          ],
          [
           "Moses Moody",
           "GSW",
           3918480
          ],
          [
           "Desmond Bane",
           "MEM",
           3845083
          ],
          [
           "Jalen Hood-Schifino",
           "LAL",
           3695040
          ],
          [
           "Brandin Podziemski",
           "GSW",
           3352440
          ],
          [
           "Dalen Terry",
           "CHI",
           3350760
          ],
          [
           "Eric Gordon",
           "PHO",
           3196448
          ],
          [
           "Christian Braun",
           "DEN",
           2949120
          ],
          [
           "Josh Richardson",
           "MIA",
           2891467
          ],
          [
           "Josh Okogie",
           "PHO",
           2815937
          ],
          [
           "Keon Johnson",
           "BRK",
           2808720
          ],
          [
           "Ben Sheppard",
           "IND",
           2537160
          ],
          [
           "Blake Wesley",
           "SAS",
           2504640
          ],
          [
           "Nick Smith Jr.",
           "CHO",
           2463960
          ],
          [
           "Ty Jerome",
           "CLE",
           2439025
          ],
          [
           "Wendell Moore Jr.",
           "MIN",
           2421720
          ],
          [
           "Quentin Grimes",
           "TOT",
           2385720
          ],
          [
           "Cam Thomas",
           "BRK",
           2240160
          ],
          [
           "Vince Williams Jr.",
           "MEM",
           2232308
          ],
          [
           "Colby Jones",
           "SAC",
           2019706
          ],
          [
           "Garrett Temple",
           "TOR",
           2019706
          ],
          [
           "Malik Beasley",
           "MIL",
           2019706
          ],
          [
           "Justin Holiday",
           "DEN",
           2019706
          ],
          [
           "Lonnie Walker IV",
           "BRK",
           2019706
          ],
          [
           "Wesley Matthews",
           "ATL",
           2019706
          ],
          [
           "Garrison Mathews",
           "ATL",
           2000000
          ],
          [
           "Sam Merrill",
           "CLE",
           1997238
          ],
          [
           "Isaiah Joe",
           "OKC",
           1997238
          ],
          [
           "A.J. Green",
           "MIL",
           1901769
          ],
          [
           "Aaron Wiggins",
           "OKC",
           1836096
          ],
          [
           "Dru Smith",
           "MIA",
           1801769
          ],
          [
           "Jaden Hardy",
           "DAL",
           1719864
          ],
          [
           "Max Christie",
           "LAL",
           1719864
          ],
          [
           "Bryce McGowens",
           "CHO",
           1719864
          ],
          [
           "Jalen Pickett",
           "DEN",
           1708143
          ],
          [
           "Jared Butler",
           "WAS",
           1250000
          ],
          [
           "Rayan Rupert",
           "POR",
           1119563
          ],
          [
           "Andre Jackson Jr.",
           "MIL",
           1119563
          ],
          [
           "Kendall Brown",
           "IND",
           1100000
          ],
          [
           "A.J. Lawson",
           "DAL",
           1000000
          ],
          [
           "Ricky Council IV",
           "PHI",
           864353
          ],
          [
           "DaQuan Jeffries",
           "NYK",
           1324828
          ],
          [
           "Lindy Waters III",
           "OKC",
           766095
          ],
          [
           "Keon Ellis",
           "SAC",
           683430
          ],
          [
           "Lester Quinones",
           "GSW",
           548815
          ],
          [
           "Stanley Umude",
           "DET",
           538460
          ],
          [
           "Trent Forrest",
           "ATL",
           533945
          ],
          [
           "Onuralp Bitim",
           "CHI",
           500000
          ],
          [
           "Danny Green",
           "PHI",
           200000
          ],
          [
           "Hamidou Diallo",
           "WAS",
           116075
          ],
          [
           "Taze Moore",
           "POR",
           64343
          ]
         ],
         "hovertemplate": "slugPosition=SG<br>Total Assists=%{x}<br>Total Points=%{y}<br>Total Rebounds=%{marker.size}<br>namePlayer=%{customdata[0]}<br>slugTeamBREF=%{customdata[1]}<br>Salary=%{customdata[2]}<extra></extra>",
         "legendgroup": "SG",
         "marker": {
          "color": "#ab63fa",
          "size": [
           232,
           129,
           290,
           280,
           212,
           222,
           167,
           315,
           188,
           13,
           58,
           272,
           188,
           310,
           416,
           195,
           205,
           224,
           280,
           113,
           183,
           430,
           91,
           352,
           297,
           254,
           150,
           62,
           212,
           423,
           273,
           295,
           113,
           494,
           141,
           264,
           229,
           514,
           216,
           160,
           261,
           30,
           187,
           72,
           75,
           184,
           167,
           9,
           132,
           1,
           148,
           216,
           33,
           68,
           196,
           185,
           13,
           427,
           113,
           122,
           306,
           121,
           154,
           7,
           89,
           94,
           72,
           1,
           12,
           100,
           214,
           290,
           40,
           45,
           290,
           71,
           127,
           53,
           92,
           120,
           180,
           64,
           186,
           14,
           131,
           142,
           102,
           14,
           58,
           92,
           113,
           5,
           50,
           46,
           5,
           40,
           124,
           72,
           51,
           51,
           32,
           2,
           2,
           8
          ],
          "sizemode": "area",
          "sizeref": 2.8,
          "symbol": "circle"
         },
         "mode": "markers",
         "name": "SG",
         "orientation": "v",
         "showlegend": true,
         "type": "scatter",
         "x": [
          265,
          98,
          299,
          333,
          343,
          188,
          255,
          193,
          277,
          10,
          48,
          247,
          119,
          377,
          502,
          82,
          383,
          166,
          346,
          136,
          183,
          405,
          87,
          450,
          216,
          119,
          88,
          54,
          370,
          291,
          247,
          227,
          48,
          363,
          114,
          296,
          205,
          386,
          242,
          94,
          277,
          25,
          120,
          32,
          60,
          130,
          204,
          6,
          68,
          0,
          70,
          83,
          27,
          44,
          57,
          230,
          8,
          273,
          81,
          139,
          132,
          105,
          64,
          3,
          53,
          166,
          59,
          3,
          6,
          66,
          192,
          175,
          20,
          28,
          108,
          67,
          74,
          23,
          37,
          108,
          99,
          30,
          86,
          14,
          109,
          60,
          51,
          21,
          126,
          62,
          50,
          5,
          20,
          16,
          5,
          24,
          85,
          36,
          11,
          92,
          13,
          1,
          1,
          5
         ],
         "xaxis": "x",
         "y": [
          964,
          487,
          1487,
          1463,
          1356,
          875,
          1039,
          1170,
          942,
          39,
          220,
          1333,
          974,
          1107,
          1753,
          1056,
          1458,
          655,
          952,
          429,
          766,
          2049,
          372,
          1300,
          1259,
          658,
          689,
          327,
          1110,
          1610,
          715,
          1014,
          240,
          1191,
          421,
          1185,
          943,
          986,
          924,
          510,
          1323,
          88,
          561,
          152,
          216,
          469,
          655,
          50,
          510,
          2,
          524,
          455,
          81,
          226,
          533,
          997,
          34,
          682,
          180,
          749,
          600,
          425,
          277,
          31,
          252,
          268,
          302,
          4,
          18,
          359,
          1482,
          521,
          64,
          88,
          889,
          234,
          565,
          110,
          325,
          485,
          636,
          252,
          542,
          39,
          530,
          284,
          302,
          42,
          251,
          155,
          125,
          21,
          136,
          173,
          14,
          137,
          310,
          164,
          127,
          83,
          80,
          0,
          2,
          18
         ],
         "yaxis": "y"
        },
        {
         "customdata": [
          [
           "Kawhi Leonard",
           "LAC",
           45640084
          ],
          [
           "Klay Thompson",
           "GSW",
           43219440
          ],
          [
           "Brandon Ingram",
           "NOP",
           33833400
          ],
          [
           "Michael Porter Jr.",
           "DEN",
           33386850
          ],
          [
           "Gordon Hayward",
           "TOT",
           33319397
          ],
          [
           "Jaylen Brown",
           "BOS",
           31830357
          ],
          [
           "Khris Middleton",
           "MIL",
           29320988
          ],
          [
           "DeMar DeRozan",
           "CHI",
           28600000
          ],
          [
           "Andrew Wiggins",
           "GSW",
           24330357
          ],
          [
           "Dillon Brooks",
           "HOU",
           22627671
          ],
          [
           "Mikal Bridges",
           "BRK",
           21700000
          ],
          [
           "De'Andre Hunter",
           "ATL",
           20089286
          ],
          [
           "Keldon Johnson",
           "SAS",
           20000000
          ],
          [
           "OG Anunoby",
           "TOT",
           18642857
          ],
          [
           "Duncan Robinson",
           "MIA",
           18154000
          ],
          [
           "Tim Hardaway Jr.",
           "DAL",
           17897728
          ],
          [
           "Luguentz Dort",
           "OKC",
           15277778
          ],
          [
           "Max Strus",
           "CLE",
           14487684
          ],
          [
           "Doug McDermott",
           "TOT",
           13750000
          ],
          [
           "Josh Hart",
           "NYK",
           12960000
          ],
          [
           "Herbert Jones",
           "NOP",
           12015150
          ],
          [
           "Reggie Bullock",
           "HOU",
           13033786
          ],
          [
           "Joe Ingles",
           "ORL",
           11000000
          ],
          [
           "Brandon Miller",
           "CHO",
           10880400
          ],
          [
           "Matisse Thybulle",
           "POR",
           10500000
          ],
          [
           "Royce O'Neale",
           "TOT",
           9500000
          ],
          [
           "Pat Connaughton",
           "MIL",
           9423869
          ],
          [
           "Isaac Okoro",
           "CLE",
           8920795
          ],
          [
           "Amen Thompson",
           "HOU",
           8809320
          ],
          [
           "Keegan Murray",
           "SAC",
           8409000
          ],
          [
           "Ausar Thompson",
           "DET",
           7977480
          ],
          [
           "Miles Bridges",
           "CHO",
           7921300
          ],
          [
           "Cody Martin",
           "CHO",
           7560000
          ],
          [
           "Bennedict Mathurin",
           "IND",
           6916080
          ],
          [
           "Caleb Martin",
           "MIA",
           6802950
          ],
          [
           "Cedi Osman",
           "SAS",
           6718842
          ],
          [
           "Bilal Coulibaly",
           "WAS",
           6614280
          ],
          [
           "Jae'Sean Tate",
           "HOU",
           6500000
          ],
          [
           "Otto Porter Jr.",
           "TOR",
           6300000
          ],
          [
           "Deni Avdija",
           "WAS",
           6263188
          ],
          [
           "Nassir Little",
           "PHO",
           6250000
          ],
          [
           "Aaron Nesmith",
           "IND",
           5634257
          ],
          [
           "Franz Wagner",
           "ORL",
           5508720
          ],
          [
           "Chuma Okeke",
           "ORL",
           5266713
          ],
          [
           "Jett Howard",
           "ORL",
           5026800
          ],
          [
           "Ziaire Williams",
           "MEM",
           4810200
          ],
          [
           "Saddiq Bey",
           "ATL",
           4556983
          ],
          [
           "Jalen McDaniels",
           "TOR",
           4516000
          ],
          [
           "Danuel House Jr.",
           "PHI",
           4310250
          ],
          [
           "Chris Duarte",
           "SAC",
           4124400
          ],
          [
           "Troy Brown Jr.",
           "TOT",
           4000000
          ],
          [
           "Jaden McDaniels",
           "MIN",
           3901399
          ],
          [
           "Corey Kispert",
           "WAS",
           3722040
          ],
          [
           "AJ Griffin",
           "ATL",
           3712920
          ],
          [
           "Amir Coffey",
           "LAC",
           3666667
          ],
          [
           "Jaime Jaquez Jr.",
           "MIA",
           3510600
          ],
          [
           "Derrick Jones Jr.",
           "DAL",
           5379706
          ],
          [
           "Trey Murphy III",
           "NOP",
           3359280
          ],
          [
           "Cam Whitmore",
           "HOU",
           3218160
          ],
          [
           "Simone Fontecchio",
           "TOT",
           3044872
          ],
          [
           "Jordan Nwora",
           "TOT",
           3000000
          ],
          [
           "Julian Champagnie",
           "SAS",
           3000000
          ],
          [
           "Dariq Whitehead",
           "BRK",
           2966040
          ],
          [
           "Jalen Johnson",
           "ATL",
           2925360
          ],
          [
           "Kris Murray",
           "POR",
           2847480
          ],
          [
           "MarJon Beauchamp",
           "MIL",
           2609400
          ],
          [
           "Torrey Craig",
           "CHI",
           2528233
          ],
          [
           "Brice Sensabaugh",
           "UTA",
           2448600
          ],
          [
           "Julian Strawther",
           "DEN",
           2431080
          ],
          [
           "John Konchar",
           "MEM",
           2400000
          ],
          [
           "Keita Bates-Diop",
           "TOT",
           2346614
          ],
          [
           "Yuta Watanabe",
           "TOT",
           2346614
          ],
          [
           "Patrick Baldwin Jr.",
           "WAS",
           2337720
          ],
          [
           "Peyton Watson",
           "DEN",
           2303520
          ],
          [
           "Cam Reddish",
           "LAL",
           2165000
          ],
          [
           "Oshae Brissett",
           "BOS",
           2165000
          ],
          [
           "Kelly Oubre Jr.",
           "PHI",
           2019706
          ],
          [
           "Dylan Windler",
           "TOT",
           2019706
          ],
          [
           "Svi Mykhailiuk",
           "BOS",
           2019706
          ],
          [
           "Caleb Houstan",
           "ORL",
           2000000
          ],
          [
           "KJ Martin",
           "TOT",
           1930681
          ],
          [
           "Naji Marshall",
           "NOP",
           1930681
          ],
          [
           "Kessler Edwards",
           "SAC",
           1927896
          ],
          [
           "Ish Wainright",
           "TOT",
           1927896
          ],
          [
           "Sam Hauser",
           "BOS",
           1927896
          ],
          [
           "Kevin Knox II",
           "DET",
           1845593
          ],
          [
           "Brandon Boston Jr.",
           "LAC",
           1836096
          ],
          [
           "Leonard Miller",
           "MIN",
           1800000
          ],
          [
           "Jabari Walker",
           "POR",
           1719864
          ],
          [
           "Josh Minott",
           "MIN",
           1719864
          ],
          [
           "Julian Phillips",
           "CHI",
           1600000
          ],
          [
           "Matt Ryan",
           "NOP",
           1500000
          ],
          [
           "Sidy Cissoko",
           "SAS",
           1119563
          ],
          [
           "Jordan Walsh",
           "BOS",
           1119563
          ],
          [
           "Chris Livingston",
           "MIL",
           1119563
          ],
          [
           "Maxwell Lewis",
           "LAL",
           1119563
          ],
          [
           "Eugene Omoruyi",
           "WAS",
           900000
          ],
          [
           "Jack White",
           "MEM",
           600000
          ],
          [
           "Juan Toscano-Anderson",
           "SAC",
           439581
          ],
          [
           "T.J. Warren",
           "MIN",
           452693
          ],
          [
           "Javonte Green",
           "CHI",
           243758
          ],
          [
           "Tosan Evbuomwan",
           "TOT",
           135120
          ]
         ],
         "hovertemplate": "slugPosition=SF<br>Total Assists=%{x}<br>Total Points=%{y}<br>Total Rebounds=%{marker.size}<br>namePlayer=%{customdata[0]}<br>slugTeamBREF=%{customdata[1]}<br>Salary=%{customdata[2]}<extra></extra>",
         "legendgroup": "SF",
         "marker": {
          "color": "#FFA15A",
          "size": [
           416,
           254,
           324,
           565,
           181,
           387,
           257,
           340,
           321,
           246,
           372,
           222,
           377,
           208,
           173,
           254,
           284,
           338,
           59,
           675,
           272,
           73,
           142,
           315,
           136,
           377,
           239,
           206,
           409,
           420,
           402,
           505,
           109,
           234,
           281,
           180,
           256,
           197,
           29,
           540,
           75,
           275,
           381,
           80,
           7,
           180,
           411,
           79,
           58,
           106,
           144,
           224,
           225,
           18,
           148,
           285,
           250,
           280,
           180,
           246,
           149,
           206,
           4,
           488,
           224,
           99,
           217,
           102,
           61,
           257,
           110,
           54,
           123,
           258,
           99,
           160,
           341,
           16,
           51,
           84,
           131,
           240,
           42,
           14,
           276,
           75,
           52,
           20,
           508,
           17,
           36,
           40,
           22,
           20,
           21,
           4,
           85,
           12,
           14,
           22,
           67,
           60
          ],
          "sizemode": "area",
          "sizeref": 2.8,
          "symbol": "circle"
         },
         "mode": "markers",
         "name": "SF",
         "orientation": "v",
         "showlegend": true,
         "type": "scatter",
         "x": [
          244,
          176,
          363,
          122,
          158,
          249,
          292,
          421,
          119,
          119,
          299,
          87,
          195,
          107,
          192,
          139,
          113,
          283,
          70,
          331,
          199,
          15,
          203,
          175,
          90,
          219,
          161,
          132,
          163,
          129,
          120,
          231,
          104,
          119,
          143,
          119,
          110,
          64,
          8,
          286,
          21,
          108,
          269,
          20,
          6,
          75,
          92,
          37,
          28,
          44,
          60,
          101,
          156,
          5,
          76,
          195,
          75,
          124,
          33,
          101,
          62,
          103,
          3,
          203,
          80,
          31,
          58,
          55,
          47,
          110,
          38,
          15,
          29,
          86,
          48,
          44,
          101,
          10,
          35,
          29,
          51,
          128,
          15,
          1,
          82,
          23,
          13,
          8,
          71,
          8,
          13,
          18,
          10,
          5,
          5,
          6,
          35,
          1,
          4,
          9,
          5,
          16
         ],
         "xaxis": "x",
         "y": [
          1613,
          1375,
          1332,
          1356,
          500,
          1610,
          828,
          1897,
          939,
          915,
          1606,
          891,
          1084,
          733,
          875,
          1139,
          860,
          853,
          351,
          761,
          837,
          96,
          296,
          1279,
          354,
          608,
          428,
          647,
          592,
          1172,
          556,
          1449,
          211,
          856,
          640,
          489,
          532,
          265,
          39,
          1102,
          152,
          877,
          1421,
          107,
          29,
          420,
          863,
          169,
          144,
          230,
          247,
          757,
          1070,
          48,
          463,
          889,
          657,
          842,
          579,
          692,
          364,
          504,
          3,
          896,
          376,
          211,
          303,
          241,
          227,
          235,
          197,
          117,
          168,
          532,
          260,
          201,
          1049,
          43,
          162,
          253,
          224,
          466,
          93,
          23,
          712,
          223,
          167,
          29,
          638,
          50,
          89,
          152,
          45,
          15,
          26,
          11,
          207,
          6,
          7,
          41,
          110,
          101
         ],
         "yaxis": "y"
        },
        {
         "customdata": [
          [
           "Terry Rozier",
           "TOT",
           23205221
          ],
          [
           "Bruce Brown",
           "TOT",
           22000000
          ],
          [
           "Immanuel Quickley",
           "TOT",
           4171548
          ],
          [
           "Skylar Mays",
           "TOT",
           1799163
          ]
         ],
         "hovertemplate": "slugPosition=PG-SG<br>Total Assists=%{x}<br>Total Points=%{y}<br>Total Rebounds=%{marker.size}<br>namePlayer=%{customdata[0]}<br>slugTeamBREF=%{customdata[1]}<br>Salary=%{customdata[2]}<extra></extra>",
         "legendgroup": "PG-SG",
         "marker": {
          "color": "#19d3f3",
          "size": [
           247,
           284,
           259,
           43
          ],
          "sizemode": "area",
          "sizeref": 2.8,
          "symbol": "circle"
         },
         "mode": "markers",
         "name": "PG-SG",
         "orientation": "v",
         "showlegend": true,
         "type": "scatter",
         "x": [
          342,
          192,
          331,
          85
         ],
         "xaxis": "x",
         "y": [
          1205,
          726,
          1156,
          155
         ],
         "yaxis": "y"
        },
        {
         "customdata": [
          [
           "Bojan Bogdanovic",
           "TOT",
           20000000
          ],
          [
           "Robert Covington",
           "TOT",
           11692308
          ]
         ],
         "hovertemplate": "slugPosition=SF-PF<br>Total Assists=%{x}<br>Total Points=%{y}<br>Total Rebounds=%{marker.size}<br>namePlayer=%{customdata[0]}<br>slugTeamBREF=%{customdata[1]}<br>Salary=%{customdata[2]}<extra></extra>",
         "legendgroup": "SF-PF",
         "marker": {
          "color": "#FF6692",
          "size": [
           152,
           97
          ],
          "sizemode": "area",
          "sizeref": 2.8,
          "symbol": "circle"
         },
         "mode": "markers",
         "name": "SF-PF",
         "orientation": "v",
         "showlegend": true,
         "type": "scatter",
         "x": [
          97,
          24
         ],
         "xaxis": "x",
         "y": [
          868,
          127
         ],
         "yaxis": "y"
        },
        {
         "customdata": [
          [
           "Buddy Hield",
           "TOT",
           19845098
          ]
         ],
         "hovertemplate": "slugPosition=SF-SG<br>Total Assists=%{x}<br>Total Points=%{y}<br>Total Rebounds=%{marker.size}<br>namePlayer=%{customdata[0]}<br>slugTeamBREF=%{customdata[1]}<br>Salary=%{customdata[2]}<extra></extra>",
         "legendgroup": "SF-SG",
         "marker": {
          "color": "#B6E880",
          "size": [
           269
          ],
          "sizemode": "area",
          "sizeref": 2.8,
          "symbol": "circle"
         },
         "mode": "markers",
         "name": "SF-SG",
         "orientation": "v",
         "showlegend": true,
         "type": "scatter",
         "x": [
          236
         ],
         "xaxis": "x",
         "y": [
          1013
         ],
         "yaxis": "y"
        },
        {
         "customdata": [
          [
           "Daniel Gafford",
           "TOT",
           12402000
          ],
          [
           "Richaun Holmes",
           "TOT",
           12046020
          ],
          [
           "Xavier Tillman Sr.",
           "TOT",
           1930681
          ]
         ],
         "hovertemplate": "slugPosition=C-PF<br>Total Assists=%{x}<br>Total Points=%{y}<br>Total Rebounds=%{marker.size}<br>namePlayer=%{customdata[0]}<br>slugTeamBREF=%{customdata[1]}<br>Salary=%{customdata[2]}<extra></extra>",
         "legendgroup": "C-PF",
         "marker": {
          "color": "#FF97FF",
          "size": [
           562,
           182,
           211
          ],
          "sizemode": "area",
          "sizeref": 2.8,
          "symbol": "circle"
         },
         "mode": "markers",
         "name": "C-PF",
         "orientation": "v",
         "showlegend": true,
         "type": "scatter",
         "x": [
          115,
          25,
          77
         ],
         "xaxis": "x",
         "y": [
          814,
          199,
          284
         ],
         "yaxis": "y"
        },
        {
         "customdata": [
          [
           "Danilo Gallinari",
           "TOT",
           7464578
          ]
         ],
         "hovertemplate": "slugPosition=PF-SF<br>Total Assists=%{x}<br>Total Points=%{y}<br>Total Rebounds=%{marker.size}<br>namePlayer=%{customdata[0]}<br>slugTeamBREF=%{customdata[1]}<br>Salary=%{customdata[2]}<extra></extra>",
         "legendgroup": "PF-SF",
         "marker": {
          "color": "#FECB52",
          "size": [
           108
          ],
          "sizemode": "area",
          "sizeref": 2.8,
          "symbol": "circle"
         },
         "mode": "markers",
         "name": "PF-SF",
         "orientation": "v",
         "showlegend": true,
         "type": "scatter",
         "x": [
          55
         ],
         "xaxis": "x",
         "y": [
          280
         ],
         "yaxis": "y"
        },
        {
         "customdata": [
          [
           "Precious Achiuwa",
           "TOT",
           4379527
          ]
         ],
         "hovertemplate": "slugPosition=PF-C<br>Total Assists=%{x}<br>Total Points=%{y}<br>Total Rebounds=%{marker.size}<br>namePlayer=%{customdata[0]}<br>slugTeamBREF=%{customdata[1]}<br>Salary=%{customdata[2]}<extra></extra>",
         "legendgroup": "PF-C",
         "marker": {
          "color": "#636efa",
          "size": [
           487
          ],
          "sizemode": "area",
          "sizeref": 2.8,
          "symbol": "circle"
         },
         "mode": "markers",
         "name": "PF-C",
         "orientation": "v",
         "showlegend": true,
         "type": "scatter",
         "x": [
          97
         ],
         "xaxis": "x",
         "y": [
          565
         ],
         "yaxis": "y"
        },
        {
         "customdata": [
          [
           "Jaden Springer",
           "TOT",
           2226240
          ]
         ],
         "hovertemplate": "slugPosition=SG-PG<br>Total Assists=%{x}<br>Total Points=%{y}<br>Total Rebounds=%{marker.size}<br>namePlayer=%{customdata[0]}<br>slugTeamBREF=%{customdata[1]}<br>Salary=%{customdata[2]}<extra></extra>",
         "legendgroup": "SG-PG",
         "marker": {
          "color": "#EF553B",
          "size": [
           78
          ],
          "sizemode": "area",
          "sizeref": 2.8,
          "symbol": "circle"
         },
         "mode": "markers",
         "name": "SG-PG",
         "orientation": "v",
         "showlegend": true,
         "type": "scatter",
         "x": [
          44
         ],
         "xaxis": "x",
         "y": [
          163
         ],
         "yaxis": "y"
        }
       ],
       "layout": {
        "legend": {
         "itemsizing": "constant",
         "title": {
          "text": "slugPosition"
         },
         "tracegroupgap": 0
        },
        "template": {
         "data": {
          "bar": [
           {
            "error_x": {
             "color": "#2a3f5f"
            },
            "error_y": {
             "color": "#2a3f5f"
            },
            "marker": {
             "line": {
              "color": "#E5ECF6",
              "width": 0.5
             },
             "pattern": {
              "fillmode": "overlay",
              "size": 10,
              "solidity": 0.2
             }
            },
            "type": "bar"
           }
          ],
          "barpolar": [
           {
            "marker": {
             "line": {
              "color": "#E5ECF6",
              "width": 0.5
             },
             "pattern": {
              "fillmode": "overlay",
              "size": 10,
              "solidity": 0.2
             }
            },
            "type": "barpolar"
           }
          ],
          "carpet": [
           {
            "aaxis": {
             "endlinecolor": "#2a3f5f",
             "gridcolor": "white",
             "linecolor": "white",
             "minorgridcolor": "white",
             "startlinecolor": "#2a3f5f"
            },
            "baxis": {
             "endlinecolor": "#2a3f5f",
             "gridcolor": "white",
             "linecolor": "white",
             "minorgridcolor": "white",
             "startlinecolor": "#2a3f5f"
            },
            "type": "carpet"
           }
          ],
          "choropleth": [
           {
            "colorbar": {
             "outlinewidth": 0,
             "ticks": ""
            },
            "type": "choropleth"
           }
          ],
          "contour": [
           {
            "colorbar": {
             "outlinewidth": 0,
             "ticks": ""
            },
            "colorscale": [
             [
              0,
              "#0d0887"
             ],
             [
              0.1111111111111111,
              "#46039f"
             ],
             [
              0.2222222222222222,
              "#7201a8"
             ],
             [
              0.3333333333333333,
              "#9c179e"
             ],
             [
              0.4444444444444444,
              "#bd3786"
             ],
             [
              0.5555555555555556,
              "#d8576b"
             ],
             [
              0.6666666666666666,
              "#ed7953"
             ],
             [
              0.7777777777777778,
              "#fb9f3a"
             ],
             [
              0.8888888888888888,
              "#fdca26"
             ],
             [
              1,
              "#f0f921"
             ]
            ],
            "type": "contour"
           }
          ],
          "contourcarpet": [
           {
            "colorbar": {
             "outlinewidth": 0,
             "ticks": ""
            },
            "type": "contourcarpet"
           }
          ],
          "heatmap": [
           {
            "colorbar": {
             "outlinewidth": 0,
             "ticks": ""
            },
            "colorscale": [
             [
              0,
              "#0d0887"
             ],
             [
              0.1111111111111111,
              "#46039f"
             ],
             [
              0.2222222222222222,
              "#7201a8"
             ],
             [
              0.3333333333333333,
              "#9c179e"
             ],
             [
              0.4444444444444444,
              "#bd3786"
             ],
             [
              0.5555555555555556,
              "#d8576b"
             ],
             [
              0.6666666666666666,
              "#ed7953"
             ],
             [
              0.7777777777777778,
              "#fb9f3a"
             ],
             [
              0.8888888888888888,
              "#fdca26"
             ],
             [
              1,
              "#f0f921"
             ]
            ],
            "type": "heatmap"
           }
          ],
          "heatmapgl": [
           {
            "colorbar": {
             "outlinewidth": 0,
             "ticks": ""
            },
            "colorscale": [
             [
              0,
              "#0d0887"
             ],
             [
              0.1111111111111111,
              "#46039f"
             ],
             [
              0.2222222222222222,
              "#7201a8"
             ],
             [
              0.3333333333333333,
              "#9c179e"
             ],
             [
              0.4444444444444444,
              "#bd3786"
             ],
             [
              0.5555555555555556,
              "#d8576b"
             ],
             [
              0.6666666666666666,
              "#ed7953"
             ],
             [
              0.7777777777777778,
              "#fb9f3a"
             ],
             [
              0.8888888888888888,
              "#fdca26"
             ],
             [
              1,
              "#f0f921"
             ]
            ],
            "type": "heatmapgl"
           }
          ],
          "histogram": [
           {
            "marker": {
             "pattern": {
              "fillmode": "overlay",
              "size": 10,
              "solidity": 0.2
             }
            },
            "type": "histogram"
           }
          ],
          "histogram2d": [
           {
            "colorbar": {
             "outlinewidth": 0,
             "ticks": ""
            },
            "colorscale": [
             [
              0,
              "#0d0887"
             ],
             [
              0.1111111111111111,
              "#46039f"
             ],
             [
              0.2222222222222222,
              "#7201a8"
             ],
             [
              0.3333333333333333,
              "#9c179e"
             ],
             [
              0.4444444444444444,
              "#bd3786"
             ],
             [
              0.5555555555555556,
              "#d8576b"
             ],
             [
              0.6666666666666666,
              "#ed7953"
             ],
             [
              0.7777777777777778,
              "#fb9f3a"
             ],
             [
              0.8888888888888888,
              "#fdca26"
             ],
             [
              1,
              "#f0f921"
             ]
            ],
            "type": "histogram2d"
           }
          ],
          "histogram2dcontour": [
           {
            "colorbar": {
             "outlinewidth": 0,
             "ticks": ""
            },
            "colorscale": [
             [
              0,
              "#0d0887"
             ],
             [
              0.1111111111111111,
              "#46039f"
             ],
             [
              0.2222222222222222,
              "#7201a8"
             ],
             [
              0.3333333333333333,
              "#9c179e"
             ],
             [
              0.4444444444444444,
              "#bd3786"
             ],
             [
              0.5555555555555556,
              "#d8576b"
             ],
             [
              0.6666666666666666,
              "#ed7953"
             ],
             [
              0.7777777777777778,
              "#fb9f3a"
             ],
             [
              0.8888888888888888,
              "#fdca26"
             ],
             [
              1,
              "#f0f921"
             ]
            ],
            "type": "histogram2dcontour"
           }
          ],
          "mesh3d": [
           {
            "colorbar": {
             "outlinewidth": 0,
             "ticks": ""
            },
            "type": "mesh3d"
           }
          ],
          "parcoords": [
           {
            "line": {
             "colorbar": {
              "outlinewidth": 0,
              "ticks": ""
             }
            },
            "type": "parcoords"
           }
          ],
          "pie": [
           {
            "automargin": true,
            "type": "pie"
           }
          ],
          "scatter": [
           {
            "fillpattern": {
             "fillmode": "overlay",
             "size": 10,
             "solidity": 0.2
            },
            "type": "scatter"
           }
          ],
          "scatter3d": [
           {
            "line": {
             "colorbar": {
              "outlinewidth": 0,
              "ticks": ""
             }
            },
            "marker": {
             "colorbar": {
              "outlinewidth": 0,
              "ticks": ""
             }
            },
            "type": "scatter3d"
           }
          ],
          "scattercarpet": [
           {
            "marker": {
             "colorbar": {
              "outlinewidth": 0,
              "ticks": ""
             }
            },
            "type": "scattercarpet"
           }
          ],
          "scattergeo": [
           {
            "marker": {
             "colorbar": {
              "outlinewidth": 0,
              "ticks": ""
             }
            },
            "type": "scattergeo"
           }
          ],
          "scattergl": [
           {
            "marker": {
             "colorbar": {
              "outlinewidth": 0,
              "ticks": ""
             }
            },
            "type": "scattergl"
           }
          ],
          "scattermapbox": [
           {
            "marker": {
             "colorbar": {
              "outlinewidth": 0,
              "ticks": ""
             }
            },
            "type": "scattermapbox"
           }
          ],
          "scatterpolar": [
           {
            "marker": {
             "colorbar": {
              "outlinewidth": 0,
              "ticks": ""
             }
            },
            "type": "scatterpolar"
           }
          ],
          "scatterpolargl": [
           {
            "marker": {
             "colorbar": {
              "outlinewidth": 0,
              "ticks": ""
             }
            },
            "type": "scatterpolargl"
           }
          ],
          "scatterternary": [
           {
            "marker": {
             "colorbar": {
              "outlinewidth": 0,
              "ticks": ""
             }
            },
            "type": "scatterternary"
           }
          ],
          "surface": [
           {
            "colorbar": {
             "outlinewidth": 0,
             "ticks": ""
            },
            "colorscale": [
             [
              0,
              "#0d0887"
             ],
             [
              0.1111111111111111,
              "#46039f"
             ],
             [
              0.2222222222222222,
              "#7201a8"
             ],
             [
              0.3333333333333333,
              "#9c179e"
             ],
             [
              0.4444444444444444,
              "#bd3786"
             ],
             [
              0.5555555555555556,
              "#d8576b"
             ],
             [
              0.6666666666666666,
              "#ed7953"
             ],
             [
              0.7777777777777778,
              "#fb9f3a"
             ],
             [
              0.8888888888888888,
              "#fdca26"
             ],
             [
              1,
              "#f0f921"
             ]
            ],
            "type": "surface"
           }
          ],
          "table": [
           {
            "cells": {
             "fill": {
              "color": "#EBF0F8"
             },
             "line": {
              "color": "white"
             }
            },
            "header": {
             "fill": {
              "color": "#C8D4E3"
             },
             "line": {
              "color": "white"
             }
            },
            "type": "table"
           }
          ]
         },
         "layout": {
          "annotationdefaults": {
           "arrowcolor": "#2a3f5f",
           "arrowhead": 0,
           "arrowwidth": 1
          },
          "autotypenumbers": "strict",
          "coloraxis": {
           "colorbar": {
            "outlinewidth": 0,
            "ticks": ""
           }
          },
          "colorscale": {
           "diverging": [
            [
             0,
             "#8e0152"
            ],
            [
             0.1,
             "#c51b7d"
            ],
            [
             0.2,
             "#de77ae"
            ],
            [
             0.3,
             "#f1b6da"
            ],
            [
             0.4,
             "#fde0ef"
            ],
            [
             0.5,
             "#f7f7f7"
            ],
            [
             0.6,
             "#e6f5d0"
            ],
            [
             0.7,
             "#b8e186"
            ],
            [
             0.8,
             "#7fbc41"
            ],
            [
             0.9,
             "#4d9221"
            ],
            [
             1,
             "#276419"
            ]
           ],
           "sequential": [
            [
             0,
             "#0d0887"
            ],
            [
             0.1111111111111111,
             "#46039f"
            ],
            [
             0.2222222222222222,
             "#7201a8"
            ],
            [
             0.3333333333333333,
             "#9c179e"
            ],
            [
             0.4444444444444444,
             "#bd3786"
            ],
            [
             0.5555555555555556,
             "#d8576b"
            ],
            [
             0.6666666666666666,
             "#ed7953"
            ],
            [
             0.7777777777777778,
             "#fb9f3a"
            ],
            [
             0.8888888888888888,
             "#fdca26"
            ],
            [
             1,
             "#f0f921"
            ]
           ],
           "sequentialminus": [
            [
             0,
             "#0d0887"
            ],
            [
             0.1111111111111111,
             "#46039f"
            ],
            [
             0.2222222222222222,
             "#7201a8"
            ],
            [
             0.3333333333333333,
             "#9c179e"
            ],
            [
             0.4444444444444444,
             "#bd3786"
            ],
            [
             0.5555555555555556,
             "#d8576b"
            ],
            [
             0.6666666666666666,
             "#ed7953"
            ],
            [
             0.7777777777777778,
             "#fb9f3a"
            ],
            [
             0.8888888888888888,
             "#fdca26"
            ],
            [
             1,
             "#f0f921"
            ]
           ]
          },
          "colorway": [
           "#636efa",
           "#EF553B",
           "#00cc96",
           "#ab63fa",
           "#FFA15A",
           "#19d3f3",
           "#FF6692",
           "#B6E880",
           "#FF97FF",
           "#FECB52"
          ],
          "font": {
           "color": "#2a3f5f"
          },
          "geo": {
           "bgcolor": "white",
           "lakecolor": "white",
           "landcolor": "#E5ECF6",
           "showlakes": true,
           "showland": true,
           "subunitcolor": "white"
          },
          "hoverlabel": {
           "align": "left"
          },
          "hovermode": "closest",
          "mapbox": {
           "style": "light"
          },
          "paper_bgcolor": "white",
          "plot_bgcolor": "#E5ECF6",
          "polar": {
           "angularaxis": {
            "gridcolor": "white",
            "linecolor": "white",
            "ticks": ""
           },
           "bgcolor": "#E5ECF6",
           "radialaxis": {
            "gridcolor": "white",
            "linecolor": "white",
            "ticks": ""
           }
          },
          "scene": {
           "xaxis": {
            "backgroundcolor": "#E5ECF6",
            "gridcolor": "white",
            "gridwidth": 2,
            "linecolor": "white",
            "showbackground": true,
            "ticks": "",
            "zerolinecolor": "white"
           },
           "yaxis": {
            "backgroundcolor": "#E5ECF6",
            "gridcolor": "white",
            "gridwidth": 2,
            "linecolor": "white",
            "showbackground": true,
            "ticks": "",
            "zerolinecolor": "white"
           },
           "zaxis": {
            "backgroundcolor": "#E5ECF6",
            "gridcolor": "white",
            "gridwidth": 2,
            "linecolor": "white",
            "showbackground": true,
            "ticks": "",
            "zerolinecolor": "white"
           }
          },
          "shapedefaults": {
           "line": {
            "color": "#2a3f5f"
           }
          },
          "ternary": {
           "aaxis": {
            "gridcolor": "white",
            "linecolor": "white",
            "ticks": ""
           },
           "baxis": {
            "gridcolor": "white",
            "linecolor": "white",
            "ticks": ""
           },
           "bgcolor": "#E5ECF6",
           "caxis": {
            "gridcolor": "white",
            "linecolor": "white",
            "ticks": ""
           }
          },
          "title": {
           "x": 0.05
          },
          "xaxis": {
           "automargin": true,
           "gridcolor": "white",
           "linecolor": "white",
           "ticks": "",
           "title": {
            "standoff": 15
           },
           "zerolinecolor": "white",
           "zerolinewidth": 2
          },
          "yaxis": {
           "automargin": true,
           "gridcolor": "white",
           "linecolor": "white",
           "ticks": "",
           "title": {
            "standoff": 15
           },
           "zerolinecolor": "white",
           "zerolinewidth": 2
          }
         }
        },
        "title": {
         "text": "Points, Assists, and Rebounds"
        },
        "xaxis": {
         "anchor": "y",
         "domain": [
          0,
          1
         ],
         "title": {
          "text": "Total Assists"
         }
        },
        "yaxis": {
         "anchor": "x",
         "domain": [
          0,
          1
         ],
         "title": {
          "text": "Total Points"
         }
        }
       }
      }
     },
     "metadata": {},
     "output_type": "display_data"
    }
   ],
   "source": [
    "fig = px.scatter(SS, x='astTotals', y='ptsTotals', size='trbTotals', \n",
    "                 color='slugPosition', \n",
    "                 title='Points, Assists, and Rebounds',\n",
    "                 labels={'astTotals': 'Total Assists', 'ptsTotals': 'Total Points', 'trbTotals': 'Total Rebounds'},\n",
    "                 hover_data=['namePlayer', 'slugTeamBREF', 'Salary'])\n",
    "fig.show()\n"
   ]
  },
  {
   "cell_type": "code",
   "execution_count": 95,
   "metadata": {},
   "outputs": [
    {
     "data": {
      "application/vnd.plotly.v1+json": {
       "config": {
        "plotlyServerURL": "https://plot.ly"
       },
       "data": [
        {
         "branchvalues": "total",
         "domain": {
          "x": [
           0,
           1
          ],
          "y": [
           0,
           1
          ]
         },
         "hovertemplate": "labels=%{label}<br>Total Points=%{value}<br>parent=%{parent}<br>id=%{id}<extra></extra>",
         "ids": [
          "SG/A.J. Green",
          "SG/A.J. Lawson",
          "SF/AJ Griffin",
          "PF/Aaron Gordon",
          "PG/Aaron Holiday",
          "SF/Aaron Nesmith",
          "SG/Aaron Wiggins",
          "C/Al Horford",
          "SG/Alec Burks",
          "PF/Aleksej Pokusevski",
          "SG/Alex Caruso",
          "C/Alex Len",
          "C/Alperen Sengun",
          "SF/Amen Thompson",
          "SF/Amir Coffey",
          "C/Andre Drummond",
          "SG/Andre Jackson Jr.",
          "PG/Andrew Nembhard",
          "SF/Andrew Wiggins",
          "SG/Anfernee Simons",
          "PG/Anthony Black",
          "C/Anthony Davis",
          "SG/Anthony Edwards",
          "PF/Anthony Gill",
          "PG/Ashton Hagans",
          "SF/Ausar Thompson",
          "SG/Austin Reaves",
          "SG/Ayo Dosunmu",
          "C/Bam Adebayo",
          "SG/Ben Sheppard",
          "PG/Ben Simmons",
          "SF/Bennedict Mathurin",
          "SF/Bilal Coulibaly",
          "C/Bismack Biyombo",
          "SG/Blake Wesley",
          "C/Boban Marjanovic",
          "PF/Bobby Portis",
          "SG/Bogdan Bogdanovic",
          "SF-PF/Bojan Bogdanovic",
          "PF/Bol Bol",
          "PG/Bones Hyland",
          "SG/Bradley Beal",
          "SG/Brandin Podziemski",
          "SF/Brandon Boston Jr.",
          "PF/Brandon Clarke",
          "SF/Brandon Ingram",
          "SF/Brandon Miller",
          "SF/Brice Sensabaugh",
          "C/Brook Lopez",
          "PG-SG/Bruce Brown",
          "C/Bruno Fernando",
          "SG/Bryce McGowens",
          "SF-SG/Buddy Hield",
          "PG/CJ McCollum",
          "PG/Cade Cunningham",
          "SF/Caleb Houstan",
          "SF/Caleb Martin",
          "SF/Cam Reddish",
          "SG/Cam Thomas",
          "SF/Cam Whitmore",
          "PF/Cameron Johnson",
          "PG/Cameron Payne",
          "SG/Caris LeVert",
          "SG/Cason Wallace",
          "SF/Cedi Osman",
          "C/Charles Bassey",
          "C/Chet Holmgren",
          "C/Chimezie Metu",
          "PF/Chris Boucher",
          "SF/Chris Duarte",
          "SF/Chris Livingston",
          "PG/Chris Paul",
          "SG/Christian Braun",
          "PF/Christian Wood",
          "SF/Chuma Okeke",
          "C/Clint Capela",
          "PG/Coby White",
          "SF/Cody Martin",
          "C/Cody Zeller",
          "SG/Colby Jones",
          "PG/Cole Anthony",
          "SG/Collin Sexton",
          "SF/Corey Kispert",
          "PG/Cory Joseph",
          "PG/Craig Porter Jr.",
          "PG/D'Angelo Russell",
          "SG/DaQuan Jeffries",
          "PG/Dalano Banton",
          "SG/Dalen Terry",
          "C/Damian Jones",
          "PG/Damian Lillard",
          "C-PF/Daniel Gafford",
          "C/Daniel Theis",
          "PF-SF/Danilo Gallinari",
          "SG/Danny Green",
          "PG/Dante Exum",
          "SF/Danuel House Jr.",
          "C/Dario Saric",
          "SF/Dariq Whitehead",
          "PF/Darius Bazley",
          "PG/Darius Garland",
          "PF/David Roddy",
          "PG/Davion Mitchell",
          "PF/Davis Bertans",
          "C/Day'Ron Sharpe",
          "PG/De'Aaron Fox",
          "SF/De'Andre Hunter",
          "SG/De'Anthony Melton",
          "C/DeAndre Jordan",
          "SF/DeMar DeRozan",
          "PF/Dean Wade",
          "C/Deandre Ayton",
          "SG/Dejounte Murray",
          "PG/Delon Wright",
          "SF/Deni Avdija",
          "PG/Dennis Schroder",
          "PG/Dennis Smith Jr.",
          "C/Dereck Lively II",
          "SF/Derrick Jones Jr.",
          "PG/Derrick Rose",
          "SG/Derrick White",
          "SG/Desmond Bane",
          "PG/Devin Booker",
          "SG/Devin Vassell",
          "PG/Devonte' Graham",
          "SF/Dillon Brooks",
          "C/Domantas Sabonis",
          "PF/Dominick Barlow",
          "SG/Donovan Mitchell",
          "SG/Donte DiVincenzo",
          "PF/Dorian Finney-Smith",
          "SF/Doug McDermott",
          "PF/Draymond Green",
          "C/Drew Eubanks",
          "SG/Dru Smith",
          "SF/Duncan Robinson",
          "C/Duop Reath",
          "C/Dwight Powell",
          "SF/Dylan Windler",
          "PG/Dyson Daniels",
          "PF/E.J. Liddell",
          "SG/Eric Gordon",
          "SF/Eugene Omoruyi",
          "SG/Evan Fournier",
          "PF/Evan Mobley",
          "C/Filip Petrusev",
          "PG/Frank Ntilikina",
          "SF/Franz Wagner",
          "PG/Fred VanVleet",
          "SG/Furkan Korkmaz",
          "PF/GG Jackson II",
          "PG/Gabe Vincent",
          "SG/Garrett Temple",
          "SG/Garrison Mathews",
          "SG/Gary Harris",
          "SG/Gary Payton II",
          "SG/Gary Trent Jr.",
          "PF/Georges Niang",
          "PF/Giannis Antetokounmpo",
          "C/Goga Bitadze",
          "SF/Gordon Hayward",
          "SG/Gradey Dick",
          "PF/Grant Williams",
          "SG/Grayson Allen",
          "PF/Gui Santos",
          "SG/Hamidou Diallo",
          "PF/Harrison Barnes",
          "C/Harry Giles III",
          "PF/Haywood Highsmith",
          "SF/Herbert Jones",
          "PF/Hunter Tyson",
          "PG-SG/Immanuel Quickley",
          "SF/Isaac Okoro",
          "C/Isaiah Hartenstein",
          "C/Isaiah Jackson",
          "SG/Isaiah Joe",
          "PF/Isaiah Livers",
          "PF/Isaiah Stewart",
          "PG/Isaiah Thomas",
          "PG/Ish Smith",
          "SF/Ish Wainright",
          "C/Ivica Zubac",
          "PF/JT Thor",
          "PG/Ja Morant",
          "C/JaVale McGee",
          "PF/Jabari Smith Jr.",
          "SF/Jabari Walker",
          "SF/Jack White",
          "SG/Jaden Hardy",
          "SG/Jaden Ivey",
          "SF/Jaden McDaniels",
          "SG-PG/Jaden Springer",
          "PF/Jae Crowder",
          "SF/Jae'Sean Tate",
          "SF/Jaime Jaquez Jr.",
          "PF/Jake LaRavia",
          "C/Jakob Poeltl",
          "PG/Jalen Brunson",
          "C/Jalen Duren",
          "SG/Jalen Green",
          "SG/Jalen Hood-Schifino",
          "SF/Jalen Johnson",
          "SF/Jalen McDaniels",
          "SG/Jalen Pickett",
          "C/Jalen Smith",
          "SG/Jalen Suggs",
          "PF/Jalen Williams",
          "PF/Jalen Wilson",
          "PG/Jamal Murray",
          "SG/James Bouknight",
          "PG/James Harden",
          "PF/James Johnson",
          "C/James Wiseman",
          "PF/Jarace Walker",
          "SG/Jared Butler",
          "C/Jaren Jackson Jr.",
          "PF/Jarred Vanderbilt",
          "C/Jarrett Allen",
          "PG/Javon Freeman-Liberty",
          "SF/Javonte Green",
          "C/Jaxson Hayes",
          "SF/Jaylen Brown",
          "C/Jaylin Williams",
          "PF/Jayson Tatum",
          "PG/Jeff Dowtin",
          "PF/Jeff Green",
          "PF/Jerami Grant",
          "PF/Jeremiah Robinson-Earl",
          "PF/Jeremy Sochan",
          "C/Jericho Sims",
          "SF/Jett Howard",
          "PG/Jevon Carter",
          "PF/Jimmy Butler",
          "C/Jock Landale",
          "SG/Joe Harris",
          "SF/Joe Ingles",
          "C/Joel Embiid",
          "PF/John Collins",
          "SF/John Konchar",
          "SG/Johnny Davis",
          "C/Jonas Valanciunas",
          "PF/Jonathan Isaac",
          "PF/Jonathan Kuminga",
          "SG/Jordan Clarkson",
          "PG/Jordan Goodwin",
          "SG/Jordan Hawkins",
          "PG/Jordan McLaughlin",
          "SF/Jordan Nwora",
          "SG/Jordan Poole",
          "SF/Jordan Walsh",
          "PG/Jose Alvarado",
          "SG/Josh Giddey",
          "SG/Josh Green",
          "SF/Josh Hart",
          "SF/Josh Minott",
          "SG/Josh Okogie",
          "SG/Josh Richardson",
          "SG/Joshua Primo",
          "PG/Jrue Holiday",
          "SF/Juan Toscano-Anderson",
          "SF/Julian Champagnie",
          "SF/Julian Phillips",
          "SF/Julian Strawther",
          "PF/Julius Randle",
          "SG/Justin Holiday",
          "C/Jusuf Nurkic",
          "SF/KJ Martin",
          "PF/Karl-Anthony Towns",
          "SF/Kawhi Leonard",
          "SF/Keegan Murray",
          "SF/Keita Bates-Diop",
          "SF/Keldon Johnson",
          "C/Kelly Olynyk",
          "SF/Kelly Oubre Jr.",
          "SG/Kendall Brown",
          "PF/Kenneth Lofton Jr.",
          "PF/Kenrich Williams",
          "SG/Kentavious Caldwell-Pope",
          "SG/Keon Ellis",
          "SG/Keon Johnson",
          "SF/Kessler Edwards",
          "PF/Kevin Durant",
          "SG/Kevin Huerter",
          "SF/Kevin Knox II",
          "PF/Kevin Love",
          "C/Kevon Looney",
          "PG/Keyonte George",
          "SF/Khris Middleton",
          "PG/Killian Hayes",
          "PG/Kira Lewis Jr.",
          "SF/Klay Thompson",
          "PF/Kobe Brown",
          "SG/Kobe Bufkin",
          "PG/Kris Dunn",
          "SF/Kris Murray",
          "C/Kristaps Porzingis",
          "PF/Kyle Anderson",
          "PF/Kyle Kuzma",
          "PG/Kyle Lowry",
          "SG/Kyrie Irving",
          "PG/LaMelo Ball",
          "PF/Lamar Stevens",
          "SG/Landry Shamet",
          "C/Larry Nance Jr.",
          "PF/Lauri Markkanen",
          "PF/LeBron James",
          "SF/Leonard Miller",
          "SG/Lester Quinones",
          "SG/Lindy Waters III",
          "SG/Lonnie Walker IV",
          "SF/Luguentz Dort",
          "PG/Luka Doncic",
          "C/Luka Garza",
          "PF/Luka Samanic",
          "SG/Luke Kennard",
          "C/Luke Kornet",
          "PG/Malachi Flynn",
          "PG/Malaki Branham",
          "PG/Malcolm Brogdon",
          "SG/Malik Beasley",
          "SG/Malik Monk",
          "C/Malik Williams",
          "PF/Mamadi Diakite",
          "SF/MarJon Beauchamp",
          "PF/Marcus Morris Sr.",
          "PG/Marcus Sasser",
          "PG/Marcus Smart",
          "C/Mark Williams",
          "PG/Markelle Fultz",
          "PF/Markieff Morris",
          "C/Marvin Bagley III",
          "C/Mason Plumlee",
          "SF/Matisse Thybulle",
          "SF/Matt Ryan",
          "SG/Max Christie",
          "SF/Max Strus",
          "C/Maxi Kleber",
          "SF/Maxwell Lewis",
          "SF/Michael Porter Jr.",
          "SF/Mikal Bridges",
          "PG/Mike Conley",
          "C/Mike Muscala",
          "SF/Miles Bridges",
          "PG/Miles McBride",
          "C/Mitchell Robinson",
          "C/Mo Bamba",
          "PG/Monte Morris",
          "C/Moritz Wagner",
          "C/Moses Brown",
          "SG/Moses Moody",
          "PF/Mouhamed Gueye",
          "C/Myles Turner",
          "SF/Naji Marshall",
          "SF/Nassir Little",
          "C/Naz Reid",
          "C/Neemias Queta",
          "C/Nic Claxton",
          "C/Nick Richards",
          "SG/Nick Smith Jr.",
          "SG/Nickeil Alexander-Walker",
          "PF/Nicolas Batum",
          "C/Nikola Jokic",
          "PF/Nikola Jovic",
          "C/Nikola Vucevic",
          "PF/Noah Clowney",
          "SG/Norman Powell",
          "SF/OG Anunoby",
          "PF/Obi Toppin",
          "SG/Ochai Agbaji",
          "PF/Olivier-Maxence Prosper",
          "C/Omer Yurtseven",
          "SG/Onuralp Bitim",
          "C/Onyeka Okongwu",
          "C/Orlando Robinson",
          "SF/Oshae Brissett",
          "SF/Otto Porter Jr.",
          "PF/Ousmane Dieng",
          "PF/P.J. Tucker",
          "PF/P.J. Washington",
          "PF/Paolo Banchero",
          "PF/Pascal Siakam",
          "SF/Pat Connaughton",
          "SF/Patrick Baldwin Jr.",
          "PG/Patrick Beverley",
          "PF/Patrick Williams",
          "PG/Patty Mills",
          "PF/Paul George",
          "C/Paul Reed",
          "PG/Payton Pritchard",
          "PF/Pete Nance",
          "SF/Peyton Watson",
          "PF-C/Precious Achiuwa",
          "SG/Quentin Grimes",
          "SG/RJ Barrett",
          "SG/Rayan Rupert",
          "SF/Reggie Bullock",
          "PG/Reggie Jackson",
          "C-PF/Richaun Holmes",
          "SG/Ricky Council IV",
          "SF-PF/Robert Covington",
          "C/Robert Williams III",
          "C/Robin Lopez",
          "SF/Royce O'Neale",
          "C/Rudy Gobert",
          "PF/Rui Hachimura",
          "PG/Russell Westbrook",
          "PG/Ryan Arcidiacono",
          "PG/Ryan Rollins",
          "SF/Saddiq Bey",
          "SF/Sam Hauser",
          "SG/Sam Merrill",
          "C/Sandro Mamukelashvili",
          "PF/Santi Aldama",
          "PF/Sasha Vezenkov",
          "PG/Scoot Henderson",
          "SG/Scottie Barnes",
          "SG/Seth Curry",
          "SG/Shaedon Sharpe",
          "PG/Shai Gilgeous-Alexander",
          "SG/Shake Milton",
          "SF/Sidy Cissoko",
          "SF/Simone Fontecchio",
          "PG-SG/Skylar Mays",
          "PG/Spencer Dinwiddie",
          "SG/Stanley Umude",
          "PG/Stephen Curry",
          "SF/Svi Mykhailiuk",
          "PG/T.J. McConnell",
          "SF/T.J. Warren",
          "PF/Taj Gibson",
          "PG/Talen Horton-Tucker",
          "PF/Tari Eason",
          "PF/Taurean Prince",
          "PF/Taylor Hendricks",
          "SG/Taze Moore",
          "SG/Terance Mann",
          "PG-SG/Terry Rozier",
          "PF/Terry Taylor",
          "PF/Thaddeus Young",
          "PF/Thanasis Antetokounmpo",
          "C/Thomas Bryant",
          "SF/Tim Hardaway Jr.",
          "PF/Tobias Harris",
          "SF/Torrey Craig",
          "SF/Tosan Evbuomwan",
          "PF/Toumani Camara",
          "PG/Trae Young",
          "PF/Trayce Jackson-Davis",
          "PG/Tre Jones",
          "PG/Tre Mann",
          "PF/Trendon Watford",
          "SG/Trent Forrest",
          "PF/Trey Lyles",
          "SF/Trey Murphy III",
          "C/Tristan Thompson",
          "C/Tristan Vukcevic",
          "SF/Troy Brown Jr.",
          "SG/Ty Jerome",
          "PG/TyTy Washington Jr.",
          "SG/Tyler Herro",
          "PG/Tyrese Haliburton",
          "PG/Tyrese Maxey",
          "PG/Tyus Jones",
          "PF/Usman Garuba",
          "PG/Vasilije Micic",
          "C/Victor Wembanyama",
          "SG/Vince Williams Jr.",
          "C/Walker Kessler",
          "C/Wendell Carter Jr.",
          "SG/Wendell Moore Jr.",
          "SG/Wesley Matthews",
          "C-PF/Xavier Tillman Sr.",
          "SF/Yuta Watanabe",
          "C/Zach Collins",
          "SG/Zach LaVine",
          "PF/Zeke Nnaji",
          "SF/Ziaire Williams",
          "PF/Zion Williamson",
          "C",
          "C-PF",
          "PF",
          "PF-C",
          "PF-SF",
          "PG",
          "PG-SG",
          "SF",
          "SF-PF",
          "SF-SG",
          "SG",
          "SG-PG"
         ],
         "labels": [
          "A.J. Green",
          "A.J. Lawson",
          "AJ Griffin",
          "Aaron Gordon",
          "Aaron Holiday",
          "Aaron Nesmith",
          "Aaron Wiggins",
          "Al Horford",
          "Alec Burks",
          "Aleksej Pokusevski",
          "Alex Caruso",
          "Alex Len",
          "Alperen Sengun",
          "Amen Thompson",
          "Amir Coffey",
          "Andre Drummond",
          "Andre Jackson Jr.",
          "Andrew Nembhard",
          "Andrew Wiggins",
          "Anfernee Simons",
          "Anthony Black",
          "Anthony Davis",
          "Anthony Edwards",
          "Anthony Gill",
          "Ashton Hagans",
          "Ausar Thompson",
          "Austin Reaves",
          "Ayo Dosunmu",
          "Bam Adebayo",
          "Ben Sheppard",
          "Ben Simmons",
          "Bennedict Mathurin",
          "Bilal Coulibaly",
          "Bismack Biyombo",
          "Blake Wesley",
          "Boban Marjanovic",
          "Bobby Portis",
          "Bogdan Bogdanovic",
          "Bojan Bogdanovic",
          "Bol Bol",
          "Bones Hyland",
          "Bradley Beal",
          "Brandin Podziemski",
          "Brandon Boston Jr.",
          "Brandon Clarke",
          "Brandon Ingram",
          "Brandon Miller",
          "Brice Sensabaugh",
          "Brook Lopez",
          "Bruce Brown",
          "Bruno Fernando",
          "Bryce McGowens",
          "Buddy Hield",
          "CJ McCollum",
          "Cade Cunningham",
          "Caleb Houstan",
          "Caleb Martin",
          "Cam Reddish",
          "Cam Thomas",
          "Cam Whitmore",
          "Cameron Johnson",
          "Cameron Payne",
          "Caris LeVert",
          "Cason Wallace",
          "Cedi Osman",
          "Charles Bassey",
          "Chet Holmgren",
          "Chimezie Metu",
          "Chris Boucher",
          "Chris Duarte",
          "Chris Livingston",
          "Chris Paul",
          "Christian Braun",
          "Christian Wood",
          "Chuma Okeke",
          "Clint Capela",
          "Coby White",
          "Cody Martin",
          "Cody Zeller",
          "Colby Jones",
          "Cole Anthony",
          "Collin Sexton",
          "Corey Kispert",
          "Cory Joseph",
          "Craig Porter Jr.",
          "D'Angelo Russell",
          "DaQuan Jeffries",
          "Dalano Banton",
          "Dalen Terry",
          "Damian Jones",
          "Damian Lillard",
          "Daniel Gafford",
          "Daniel Theis",
          "Danilo Gallinari",
          "Danny Green",
          "Dante Exum",
          "Danuel House Jr.",
          "Dario Saric",
          "Dariq Whitehead",
          "Darius Bazley",
          "Darius Garland",
          "David Roddy",
          "Davion Mitchell",
          "Davis Bertans",
          "Day'Ron Sharpe",
          "De'Aaron Fox",
          "De'Andre Hunter",
          "De'Anthony Melton",
          "DeAndre Jordan",
          "DeMar DeRozan",
          "Dean Wade",
          "Deandre Ayton",
          "Dejounte Murray",
          "Delon Wright",
          "Deni Avdija",
          "Dennis Schroder",
          "Dennis Smith Jr.",
          "Dereck Lively II",
          "Derrick Jones Jr.",
          "Derrick Rose",
          "Derrick White",
          "Desmond Bane",
          "Devin Booker",
          "Devin Vassell",
          "Devonte' Graham",
          "Dillon Brooks",
          "Domantas Sabonis",
          "Dominick Barlow",
          "Donovan Mitchell",
          "Donte DiVincenzo",
          "Dorian Finney-Smith",
          "Doug McDermott",
          "Draymond Green",
          "Drew Eubanks",
          "Dru Smith",
          "Duncan Robinson",
          "Duop Reath",
          "Dwight Powell",
          "Dylan Windler",
          "Dyson Daniels",
          "E.J. Liddell",
          "Eric Gordon",
          "Eugene Omoruyi",
          "Evan Fournier",
          "Evan Mobley",
          "Filip Petrusev",
          "Frank Ntilikina",
          "Franz Wagner",
          "Fred VanVleet",
          "Furkan Korkmaz",
          "GG Jackson II",
          "Gabe Vincent",
          "Garrett Temple",
          "Garrison Mathews",
          "Gary Harris",
          "Gary Payton II",
          "Gary Trent Jr.",
          "Georges Niang",
          "Giannis Antetokounmpo",
          "Goga Bitadze",
          "Gordon Hayward",
          "Gradey Dick",
          "Grant Williams",
          "Grayson Allen",
          "Gui Santos",
          "Hamidou Diallo",
          "Harrison Barnes",
          "Harry Giles III",
          "Haywood Highsmith",
          "Herbert Jones",
          "Hunter Tyson",
          "Immanuel Quickley",
          "Isaac Okoro",
          "Isaiah Hartenstein",
          "Isaiah Jackson",
          "Isaiah Joe",
          "Isaiah Livers",
          "Isaiah Stewart",
          "Isaiah Thomas",
          "Ish Smith",
          "Ish Wainright",
          "Ivica Zubac",
          "JT Thor",
          "Ja Morant",
          "JaVale McGee",
          "Jabari Smith Jr.",
          "Jabari Walker",
          "Jack White",
          "Jaden Hardy",
          "Jaden Ivey",
          "Jaden McDaniels",
          "Jaden Springer",
          "Jae Crowder",
          "Jae'Sean Tate",
          "Jaime Jaquez Jr.",
          "Jake LaRavia",
          "Jakob Poeltl",
          "Jalen Brunson",
          "Jalen Duren",
          "Jalen Green",
          "Jalen Hood-Schifino",
          "Jalen Johnson",
          "Jalen McDaniels",
          "Jalen Pickett",
          "Jalen Smith",
          "Jalen Suggs",
          "Jalen Williams",
          "Jalen Wilson",
          "Jamal Murray",
          "James Bouknight",
          "James Harden",
          "James Johnson",
          "James Wiseman",
          "Jarace Walker",
          "Jared Butler",
          "Jaren Jackson Jr.",
          "Jarred Vanderbilt",
          "Jarrett Allen",
          "Javon Freeman-Liberty",
          "Javonte Green",
          "Jaxson Hayes",
          "Jaylen Brown",
          "Jaylin Williams",
          "Jayson Tatum",
          "Jeff Dowtin",
          "Jeff Green",
          "Jerami Grant",
          "Jeremiah Robinson-Earl",
          "Jeremy Sochan",
          "Jericho Sims",
          "Jett Howard",
          "Jevon Carter",
          "Jimmy Butler",
          "Jock Landale",
          "Joe Harris",
          "Joe Ingles",
          "Joel Embiid",
          "John Collins",
          "John Konchar",
          "Johnny Davis",
          "Jonas Valanciunas",
          "Jonathan Isaac",
          "Jonathan Kuminga",
          "Jordan Clarkson",
          "Jordan Goodwin",
          "Jordan Hawkins",
          "Jordan McLaughlin",
          "Jordan Nwora",
          "Jordan Poole",
          "Jordan Walsh",
          "Jose Alvarado",
          "Josh Giddey",
          "Josh Green",
          "Josh Hart",
          "Josh Minott",
          "Josh Okogie",
          "Josh Richardson",
          "Joshua Primo",
          "Jrue Holiday",
          "Juan Toscano-Anderson",
          "Julian Champagnie",
          "Julian Phillips",
          "Julian Strawther",
          "Julius Randle",
          "Justin Holiday",
          "Jusuf Nurkic",
          "KJ Martin",
          "Karl-Anthony Towns",
          "Kawhi Leonard",
          "Keegan Murray",
          "Keita Bates-Diop",
          "Keldon Johnson",
          "Kelly Olynyk",
          "Kelly Oubre Jr.",
          "Kendall Brown",
          "Kenneth Lofton Jr.",
          "Kenrich Williams",
          "Kentavious Caldwell-Pope",
          "Keon Ellis",
          "Keon Johnson",
          "Kessler Edwards",
          "Kevin Durant",
          "Kevin Huerter",
          "Kevin Knox II",
          "Kevin Love",
          "Kevon Looney",
          "Keyonte George",
          "Khris Middleton",
          "Killian Hayes",
          "Kira Lewis Jr.",
          "Klay Thompson",
          "Kobe Brown",
          "Kobe Bufkin",
          "Kris Dunn",
          "Kris Murray",
          "Kristaps Porzingis",
          "Kyle Anderson",
          "Kyle Kuzma",
          "Kyle Lowry",
          "Kyrie Irving",
          "LaMelo Ball",
          "Lamar Stevens",
          "Landry Shamet",
          "Larry Nance Jr.",
          "Lauri Markkanen",
          "LeBron James",
          "Leonard Miller",
          "Lester Quinones",
          "Lindy Waters III",
          "Lonnie Walker IV",
          "Luguentz Dort",
          "Luka Doncic",
          "Luka Garza",
          "Luka Samanic",
          "Luke Kennard",
          "Luke Kornet",
          "Malachi Flynn",
          "Malaki Branham",
          "Malcolm Brogdon",
          "Malik Beasley",
          "Malik Monk",
          "Malik Williams",
          "Mamadi Diakite",
          "MarJon Beauchamp",
          "Marcus Morris Sr.",
          "Marcus Sasser",
          "Marcus Smart",
          "Mark Williams",
          "Markelle Fultz",
          "Markieff Morris",
          "Marvin Bagley III",
          "Mason Plumlee",
          "Matisse Thybulle",
          "Matt Ryan",
          "Max Christie",
          "Max Strus",
          "Maxi Kleber",
          "Maxwell Lewis",
          "Michael Porter Jr.",
          "Mikal Bridges",
          "Mike Conley",
          "Mike Muscala",
          "Miles Bridges",
          "Miles McBride",
          "Mitchell Robinson",
          "Mo Bamba",
          "Monte Morris",
          "Moritz Wagner",
          "Moses Brown",
          "Moses Moody",
          "Mouhamed Gueye",
          "Myles Turner",
          "Naji Marshall",
          "Nassir Little",
          "Naz Reid",
          "Neemias Queta",
          "Nic Claxton",
          "Nick Richards",
          "Nick Smith Jr.",
          "Nickeil Alexander-Walker",
          "Nicolas Batum",
          "Nikola Jokic",
          "Nikola Jovic",
          "Nikola Vucevic",
          "Noah Clowney",
          "Norman Powell",
          "OG Anunoby",
          "Obi Toppin",
          "Ochai Agbaji",
          "Olivier-Maxence Prosper",
          "Omer Yurtseven",
          "Onuralp Bitim",
          "Onyeka Okongwu",
          "Orlando Robinson",
          "Oshae Brissett",
          "Otto Porter Jr.",
          "Ousmane Dieng",
          "P.J. Tucker",
          "P.J. Washington",
          "Paolo Banchero",
          "Pascal Siakam",
          "Pat Connaughton",
          "Patrick Baldwin Jr.",
          "Patrick Beverley",
          "Patrick Williams",
          "Patty Mills",
          "Paul George",
          "Paul Reed",
          "Payton Pritchard",
          "Pete Nance",
          "Peyton Watson",
          "Precious Achiuwa",
          "Quentin Grimes",
          "RJ Barrett",
          "Rayan Rupert",
          "Reggie Bullock",
          "Reggie Jackson",
          "Richaun Holmes",
          "Ricky Council IV",
          "Robert Covington",
          "Robert Williams III",
          "Robin Lopez",
          "Royce O'Neale",
          "Rudy Gobert",
          "Rui Hachimura",
          "Russell Westbrook",
          "Ryan Arcidiacono",
          "Ryan Rollins",
          "Saddiq Bey",
          "Sam Hauser",
          "Sam Merrill",
          "Sandro Mamukelashvili",
          "Santi Aldama",
          "Sasha Vezenkov",
          "Scoot Henderson",
          "Scottie Barnes",
          "Seth Curry",
          "Shaedon Sharpe",
          "Shai Gilgeous-Alexander",
          "Shake Milton",
          "Sidy Cissoko",
          "Simone Fontecchio",
          "Skylar Mays",
          "Spencer Dinwiddie",
          "Stanley Umude",
          "Stephen Curry",
          "Svi Mykhailiuk",
          "T.J. McConnell",
          "T.J. Warren",
          "Taj Gibson",
          "Talen Horton-Tucker",
          "Tari Eason",
          "Taurean Prince",
          "Taylor Hendricks",
          "Taze Moore",
          "Terance Mann",
          "Terry Rozier",
          "Terry Taylor",
          "Thaddeus Young",
          "Thanasis Antetokounmpo",
          "Thomas Bryant",
          "Tim Hardaway Jr.",
          "Tobias Harris",
          "Torrey Craig",
          "Tosan Evbuomwan",
          "Toumani Camara",
          "Trae Young",
          "Trayce Jackson-Davis",
          "Tre Jones",
          "Tre Mann",
          "Trendon Watford",
          "Trent Forrest",
          "Trey Lyles",
          "Trey Murphy III",
          "Tristan Thompson",
          "Tristan Vukcevic",
          "Troy Brown Jr.",
          "Ty Jerome",
          "TyTy Washington Jr.",
          "Tyler Herro",
          "Tyrese Haliburton",
          "Tyrese Maxey",
          "Tyus Jones",
          "Usman Garuba",
          "Vasilije Micic",
          "Victor Wembanyama",
          "Vince Williams Jr.",
          "Walker Kessler",
          "Wendell Carter Jr.",
          "Wendell Moore Jr.",
          "Wesley Matthews",
          "Xavier Tillman Sr.",
          "Yuta Watanabe",
          "Zach Collins",
          "Zach LaVine",
          "Zeke Nnaji",
          "Ziaire Williams",
          "Zion Williamson",
          "C",
          "C-PF",
          "PF",
          "PF-C",
          "PF-SF",
          "PG",
          "PG-SG",
          "SF",
          "SF-PF",
          "SF-SG",
          "SG",
          "SG-PG"
         ],
         "name": "",
         "parents": [
          "SG",
          "SG",
          "SF",
          "PF",
          "PG",
          "SF",
          "SG",
          "C",
          "SG",
          "PF",
          "SG",
          "C",
          "C",
          "SF",
          "SF",
          "C",
          "SG",
          "PG",
          "SF",
          "SG",
          "PG",
          "C",
          "SG",
          "PF",
          "PG",
          "SF",
          "SG",
          "SG",
          "C",
          "SG",
          "PG",
          "SF",
          "SF",
          "C",
          "SG",
          "C",
          "PF",
          "SG",
          "SF-PF",
          "PF",
          "PG",
          "SG",
          "SG",
          "SF",
          "PF",
          "SF",
          "SF",
          "SF",
          "C",
          "PG-SG",
          "C",
          "SG",
          "SF-SG",
          "PG",
          "PG",
          "SF",
          "SF",
          "SF",
          "SG",
          "SF",
          "PF",
          "PG",
          "SG",
          "SG",
          "SF",
          "C",
          "C",
          "C",
          "PF",
          "SF",
          "SF",
          "PG",
          "SG",
          "PF",
          "SF",
          "C",
          "PG",
          "SF",
          "C",
          "SG",
          "PG",
          "SG",
          "SF",
          "PG",
          "PG",
          "PG",
          "SG",
          "PG",
          "SG",
          "C",
          "PG",
          "C-PF",
          "C",
          "PF-SF",
          "SG",
          "PG",
          "SF",
          "C",
          "SF",
          "PF",
          "PG",
          "PF",
          "PG",
          "PF",
          "C",
          "PG",
          "SF",
          "SG",
          "C",
          "SF",
          "PF",
          "C",
          "SG",
          "PG",
          "SF",
          "PG",
          "PG",
          "C",
          "SF",
          "PG",
          "SG",
          "SG",
          "PG",
          "SG",
          "PG",
          "SF",
          "C",
          "PF",
          "SG",
          "SG",
          "PF",
          "SF",
          "PF",
          "C",
          "SG",
          "SF",
          "C",
          "C",
          "SF",
          "PG",
          "PF",
          "SG",
          "SF",
          "SG",
          "PF",
          "C",
          "PG",
          "SF",
          "PG",
          "SG",
          "PF",
          "PG",
          "SG",
          "SG",
          "SG",
          "SG",
          "SG",
          "PF",
          "PF",
          "C",
          "SF",
          "SG",
          "PF",
          "SG",
          "PF",
          "SG",
          "PF",
          "C",
          "PF",
          "SF",
          "PF",
          "PG-SG",
          "SF",
          "C",
          "C",
          "SG",
          "PF",
          "PF",
          "PG",
          "PG",
          "SF",
          "C",
          "PF",
          "PG",
          "C",
          "PF",
          "SF",
          "SF",
          "SG",
          "SG",
          "SF",
          "SG-PG",
          "PF",
          "SF",
          "SF",
          "PF",
          "C",
          "PG",
          "C",
          "SG",
          "SG",
          "SF",
          "SF",
          "SG",
          "C",
          "SG",
          "PF",
          "PF",
          "PG",
          "SG",
          "PG",
          "PF",
          "C",
          "PF",
          "SG",
          "C",
          "PF",
          "C",
          "PG",
          "SF",
          "C",
          "SF",
          "C",
          "PF",
          "PG",
          "PF",
          "PF",
          "PF",
          "PF",
          "C",
          "SF",
          "PG",
          "PF",
          "C",
          "SG",
          "SF",
          "C",
          "PF",
          "SF",
          "SG",
          "C",
          "PF",
          "PF",
          "SG",
          "PG",
          "SG",
          "PG",
          "SF",
          "SG",
          "SF",
          "PG",
          "SG",
          "SG",
          "SF",
          "SF",
          "SG",
          "SG",
          "SG",
          "PG",
          "SF",
          "SF",
          "SF",
          "SF",
          "PF",
          "SG",
          "C",
          "SF",
          "PF",
          "SF",
          "SF",
          "SF",
          "SF",
          "C",
          "SF",
          "SG",
          "PF",
          "PF",
          "SG",
          "SG",
          "SG",
          "SF",
          "PF",
          "SG",
          "SF",
          "PF",
          "C",
          "PG",
          "SF",
          "PG",
          "PG",
          "SF",
          "PF",
          "SG",
          "PG",
          "SF",
          "C",
          "PF",
          "PF",
          "PG",
          "SG",
          "PG",
          "PF",
          "SG",
          "C",
          "PF",
          "PF",
          "SF",
          "SG",
          "SG",
          "SG",
          "SF",
          "PG",
          "C",
          "PF",
          "SG",
          "C",
          "PG",
          "PG",
          "PG",
          "SG",
          "SG",
          "C",
          "PF",
          "SF",
          "PF",
          "PG",
          "PG",
          "C",
          "PG",
          "PF",
          "C",
          "C",
          "SF",
          "SF",
          "SG",
          "SF",
          "C",
          "SF",
          "SF",
          "SF",
          "PG",
          "C",
          "SF",
          "PG",
          "C",
          "C",
          "PG",
          "C",
          "C",
          "SG",
          "PF",
          "C",
          "SF",
          "SF",
          "C",
          "C",
          "C",
          "C",
          "SG",
          "SG",
          "PF",
          "C",
          "PF",
          "C",
          "PF",
          "SG",
          "SF",
          "PF",
          "SG",
          "PF",
          "C",
          "SG",
          "C",
          "C",
          "SF",
          "SF",
          "PF",
          "PF",
          "PF",
          "PF",
          "PF",
          "SF",
          "SF",
          "PG",
          "PF",
          "PG",
          "PF",
          "C",
          "PG",
          "PF",
          "SF",
          "PF-C",
          "SG",
          "SG",
          "SG",
          "SF",
          "PG",
          "C-PF",
          "SG",
          "SF-PF",
          "C",
          "C",
          "SF",
          "C",
          "PF",
          "PG",
          "PG",
          "PG",
          "SF",
          "SF",
          "SG",
          "C",
          "PF",
          "PF",
          "PG",
          "SG",
          "SG",
          "SG",
          "PG",
          "SG",
          "SF",
          "SF",
          "PG-SG",
          "PG",
          "SG",
          "PG",
          "SF",
          "PG",
          "SF",
          "PF",
          "PG",
          "PF",
          "PF",
          "PF",
          "SG",
          "SG",
          "PG-SG",
          "PF",
          "PF",
          "PF",
          "C",
          "SF",
          "PF",
          "SF",
          "SF",
          "PF",
          "PG",
          "PF",
          "PG",
          "PG",
          "PF",
          "SG",
          "PF",
          "SF",
          "C",
          "C",
          "SF",
          "SG",
          "PG",
          "SG",
          "PG",
          "PG",
          "PG",
          "PF",
          "PG",
          "C",
          "SG",
          "C",
          "C",
          "SG",
          "SG",
          "C-PF",
          "SF",
          "C",
          "SG",
          "PF",
          "SF",
          "PF",
          "",
          "",
          "",
          "",
          "",
          "",
          "",
          "",
          "",
          "",
          "",
          ""
         ],
         "type": "treemap",
         "values": [
          252,
          136,
          48,
          1013,
          514,
          877,
          542,
          562,
          689,
          146,
          715,
          120,
          1331,
          592,
          463,
          663,
          125,
          626,
          939,
          1039,
          316,
          1876,
          2049,
          189,
          80,
          556,
          1300,
          924,
          1367,
          252,
          92,
          856,
          532,
          174,
          268,
          45,
          1130,
          1333,
          868,
          223,
          256,
          964,
          682,
          167,
          68,
          1332,
          1279,
          241,
          990,
          726,
          282,
          302,
          1013,
          1322,
          1405,
          253,
          640,
          260,
          1482,
          579,
          776,
          578,
          952,
          561,
          489,
          63,
          1357,
          332,
          322,
          230,
          26,
          533,
          600,
          347,
          107,
          836,
          1509,
          211,
          76,
          64,
          937,
          1458,
          1070,
          63,
          285,
          1369,
          14,
          557,
          180,
          107,
          1775,
          814,
          376,
          280,
          0,
          428,
          144,
          515,
          3,
          48,
          1028,
          425,
          379,
          290,
          415,
          1966,
          891,
          421,
          142,
          1897,
          291,
          920,
          1753,
          210,
          1102,
          1122,
          369,
          483,
          657,
          191,
          1107,
          997,
          1841,
          1323,
          114,
          915,
          1593,
          144,
          1463,
          1259,
          580,
          351,
          475,
          379,
          39,
          875,
          617,
          208,
          43,
          354,
          4,
          749,
          207,
          220,
          785,
          3,
          5,
          1421,
          1270,
          88,
          699,
          34,
          88,
          325,
          372,
          240,
          974,
          768,
          2222,
          311,
          500,
          510,
          784,
          1014,
          82,
          2,
          1000,
          56,
          405,
          837,
          20,
          1156,
          647,
          582,
          383,
          636,
          114,
          503,
          8,
          139,
          23,
          794,
          199,
          226,
          185,
          1044,
          638,
          6,
          530,
          1185,
          757,
          163,
          312,
          265,
          889,
          379,
          555,
          2212,
          841,
          1610,
          34,
          896,
          169,
          42,
          601,
          943,
          1355,
          214,
          1250,
          50,
          1192,
          8,
          446,
          120,
          251,
          1486,
          150,
          1271,
          153,
          110,
          303,
          1610,
          276,
          1987,
          52,
          509,
          1132,
          115,
          861,
          92,
          29,
          357,
          1246,
          274,
          39,
          296,
          1353,
          1027,
          235,
          152,
          1002,
          393,
          1188,
          942,
          368,
          524,
          195,
          364,
          1356,
          15,
          397,
          986,
          469,
          761,
          50,
          277,
          425,
          2,
          860,
          7,
          504,
          89,
          227,
          1102,
          234,
          829,
          224,
          1349,
          1613,
          1172,
          197,
          1084,
          762,
          1049,
          21,
          96,
          325,
          766,
          310,
          31,
          93,
          2032,
          655,
          223,
          485,
          334,
          974,
          828,
          289,
          89,
          1375,
          89,
          81,
          357,
          376,
          1145,
          506,
          1553,
          487,
          1487,
          526,
          272,
          327,
          350,
          1278,
          1822,
          29,
          164,
          137,
          565,
          860,
          2370,
          99,
          177,
          429,
          334,
          380,
          690,
          613,
          889,
          1110,
          19,
          12,
          211,
          316,
          586,
          289,
          242,
          335,
          66,
          583,
          244,
          354,
          152,
          284,
          853,
          191,
          11,
          1356,
          1606,
          869,
          157,
          1449,
          562,
          173,
          253,
          164,
          868,
          75,
          533,
          24,
          1313,
          466,
          152,
          1090,
          154,
          841,
          652,
          302,
          655,
          320,
          2085,
          352,
          1370,
          133,
          1056,
          733,
          843,
          455,
          121,
          222,
          80,
          561,
          99,
          201,
          39,
          133,
          52,
          939,
          1804,
          1737,
          428,
          168,
          451,
          429,
          127,
          1671,
          600,
          787,
          3,
          532,
          565,
          359,
          1170,
          155,
          96,
          833,
          199,
          173,
          127,
          41,
          18,
          608,
          1061,
          923,
          754,
          0,
          44,
          863,
          712,
          485,
          190,
          654,
          225,
          868,
          1191,
          226,
          510,
          2254,
          216,
          45,
          692,
          155,
          795,
          127,
          1956,
          162,
          727,
          41,
          34,
          516,
          215,
          697,
          292,
          18,
          658,
          1205,
          46,
          137,
          32,
          217,
          1139,
          1204,
          303,
          101,
          527,
          1389,
          540,
          771,
          382,
          432,
          83,
          419,
          842,
          161,
          85,
          247,
          4,
          14,
          875,
          1389,
          1816,
          790,
          3,
          422,
          1522,
          521,
          518,
          603,
          18,
          110,
          284,
          117,
          776,
          487,
          186,
          420,
          1601,
          47480,
          1297,
          54300,
          565,
          280,
          55602,
          3242,
          54399,
          995,
          1013,
          58237,
          163
         ]
        }
       ],
       "layout": {
        "legend": {
         "tracegroupgap": 0
        },
        "template": {
         "data": {
          "bar": [
           {
            "error_x": {
             "color": "#2a3f5f"
            },
            "error_y": {
             "color": "#2a3f5f"
            },
            "marker": {
             "line": {
              "color": "#E5ECF6",
              "width": 0.5
             },
             "pattern": {
              "fillmode": "overlay",
              "size": 10,
              "solidity": 0.2
             }
            },
            "type": "bar"
           }
          ],
          "barpolar": [
           {
            "marker": {
             "line": {
              "color": "#E5ECF6",
              "width": 0.5
             },
             "pattern": {
              "fillmode": "overlay",
              "size": 10,
              "solidity": 0.2
             }
            },
            "type": "barpolar"
           }
          ],
          "carpet": [
           {
            "aaxis": {
             "endlinecolor": "#2a3f5f",
             "gridcolor": "white",
             "linecolor": "white",
             "minorgridcolor": "white",
             "startlinecolor": "#2a3f5f"
            },
            "baxis": {
             "endlinecolor": "#2a3f5f",
             "gridcolor": "white",
             "linecolor": "white",
             "minorgridcolor": "white",
             "startlinecolor": "#2a3f5f"
            },
            "type": "carpet"
           }
          ],
          "choropleth": [
           {
            "colorbar": {
             "outlinewidth": 0,
             "ticks": ""
            },
            "type": "choropleth"
           }
          ],
          "contour": [
           {
            "colorbar": {
             "outlinewidth": 0,
             "ticks": ""
            },
            "colorscale": [
             [
              0,
              "#0d0887"
             ],
             [
              0.1111111111111111,
              "#46039f"
             ],
             [
              0.2222222222222222,
              "#7201a8"
             ],
             [
              0.3333333333333333,
              "#9c179e"
             ],
             [
              0.4444444444444444,
              "#bd3786"
             ],
             [
              0.5555555555555556,
              "#d8576b"
             ],
             [
              0.6666666666666666,
              "#ed7953"
             ],
             [
              0.7777777777777778,
              "#fb9f3a"
             ],
             [
              0.8888888888888888,
              "#fdca26"
             ],
             [
              1,
              "#f0f921"
             ]
            ],
            "type": "contour"
           }
          ],
          "contourcarpet": [
           {
            "colorbar": {
             "outlinewidth": 0,
             "ticks": ""
            },
            "type": "contourcarpet"
           }
          ],
          "heatmap": [
           {
            "colorbar": {
             "outlinewidth": 0,
             "ticks": ""
            },
            "colorscale": [
             [
              0,
              "#0d0887"
             ],
             [
              0.1111111111111111,
              "#46039f"
             ],
             [
              0.2222222222222222,
              "#7201a8"
             ],
             [
              0.3333333333333333,
              "#9c179e"
             ],
             [
              0.4444444444444444,
              "#bd3786"
             ],
             [
              0.5555555555555556,
              "#d8576b"
             ],
             [
              0.6666666666666666,
              "#ed7953"
             ],
             [
              0.7777777777777778,
              "#fb9f3a"
             ],
             [
              0.8888888888888888,
              "#fdca26"
             ],
             [
              1,
              "#f0f921"
             ]
            ],
            "type": "heatmap"
           }
          ],
          "heatmapgl": [
           {
            "colorbar": {
             "outlinewidth": 0,
             "ticks": ""
            },
            "colorscale": [
             [
              0,
              "#0d0887"
             ],
             [
              0.1111111111111111,
              "#46039f"
             ],
             [
              0.2222222222222222,
              "#7201a8"
             ],
             [
              0.3333333333333333,
              "#9c179e"
             ],
             [
              0.4444444444444444,
              "#bd3786"
             ],
             [
              0.5555555555555556,
              "#d8576b"
             ],
             [
              0.6666666666666666,
              "#ed7953"
             ],
             [
              0.7777777777777778,
              "#fb9f3a"
             ],
             [
              0.8888888888888888,
              "#fdca26"
             ],
             [
              1,
              "#f0f921"
             ]
            ],
            "type": "heatmapgl"
           }
          ],
          "histogram": [
           {
            "marker": {
             "pattern": {
              "fillmode": "overlay",
              "size": 10,
              "solidity": 0.2
             }
            },
            "type": "histogram"
           }
          ],
          "histogram2d": [
           {
            "colorbar": {
             "outlinewidth": 0,
             "ticks": ""
            },
            "colorscale": [
             [
              0,
              "#0d0887"
             ],
             [
              0.1111111111111111,
              "#46039f"
             ],
             [
              0.2222222222222222,
              "#7201a8"
             ],
             [
              0.3333333333333333,
              "#9c179e"
             ],
             [
              0.4444444444444444,
              "#bd3786"
             ],
             [
              0.5555555555555556,
              "#d8576b"
             ],
             [
              0.6666666666666666,
              "#ed7953"
             ],
             [
              0.7777777777777778,
              "#fb9f3a"
             ],
             [
              0.8888888888888888,
              "#fdca26"
             ],
             [
              1,
              "#f0f921"
             ]
            ],
            "type": "histogram2d"
           }
          ],
          "histogram2dcontour": [
           {
            "colorbar": {
             "outlinewidth": 0,
             "ticks": ""
            },
            "colorscale": [
             [
              0,
              "#0d0887"
             ],
             [
              0.1111111111111111,
              "#46039f"
             ],
             [
              0.2222222222222222,
              "#7201a8"
             ],
             [
              0.3333333333333333,
              "#9c179e"
             ],
             [
              0.4444444444444444,
              "#bd3786"
             ],
             [
              0.5555555555555556,
              "#d8576b"
             ],
             [
              0.6666666666666666,
              "#ed7953"
             ],
             [
              0.7777777777777778,
              "#fb9f3a"
             ],
             [
              0.8888888888888888,
              "#fdca26"
             ],
             [
              1,
              "#f0f921"
             ]
            ],
            "type": "histogram2dcontour"
           }
          ],
          "mesh3d": [
           {
            "colorbar": {
             "outlinewidth": 0,
             "ticks": ""
            },
            "type": "mesh3d"
           }
          ],
          "parcoords": [
           {
            "line": {
             "colorbar": {
              "outlinewidth": 0,
              "ticks": ""
             }
            },
            "type": "parcoords"
           }
          ],
          "pie": [
           {
            "automargin": true,
            "type": "pie"
           }
          ],
          "scatter": [
           {
            "fillpattern": {
             "fillmode": "overlay",
             "size": 10,
             "solidity": 0.2
            },
            "type": "scatter"
           }
          ],
          "scatter3d": [
           {
            "line": {
             "colorbar": {
              "outlinewidth": 0,
              "ticks": ""
             }
            },
            "marker": {
             "colorbar": {
              "outlinewidth": 0,
              "ticks": ""
             }
            },
            "type": "scatter3d"
           }
          ],
          "scattercarpet": [
           {
            "marker": {
             "colorbar": {
              "outlinewidth": 0,
              "ticks": ""
             }
            },
            "type": "scattercarpet"
           }
          ],
          "scattergeo": [
           {
            "marker": {
             "colorbar": {
              "outlinewidth": 0,
              "ticks": ""
             }
            },
            "type": "scattergeo"
           }
          ],
          "scattergl": [
           {
            "marker": {
             "colorbar": {
              "outlinewidth": 0,
              "ticks": ""
             }
            },
            "type": "scattergl"
           }
          ],
          "scattermapbox": [
           {
            "marker": {
             "colorbar": {
              "outlinewidth": 0,
              "ticks": ""
             }
            },
            "type": "scattermapbox"
           }
          ],
          "scatterpolar": [
           {
            "marker": {
             "colorbar": {
              "outlinewidth": 0,
              "ticks": ""
             }
            },
            "type": "scatterpolar"
           }
          ],
          "scatterpolargl": [
           {
            "marker": {
             "colorbar": {
              "outlinewidth": 0,
              "ticks": ""
             }
            },
            "type": "scatterpolargl"
           }
          ],
          "scatterternary": [
           {
            "marker": {
             "colorbar": {
              "outlinewidth": 0,
              "ticks": ""
             }
            },
            "type": "scatterternary"
           }
          ],
          "surface": [
           {
            "colorbar": {
             "outlinewidth": 0,
             "ticks": ""
            },
            "colorscale": [
             [
              0,
              "#0d0887"
             ],
             [
              0.1111111111111111,
              "#46039f"
             ],
             [
              0.2222222222222222,
              "#7201a8"
             ],
             [
              0.3333333333333333,
              "#9c179e"
             ],
             [
              0.4444444444444444,
              "#bd3786"
             ],
             [
              0.5555555555555556,
              "#d8576b"
             ],
             [
              0.6666666666666666,
              "#ed7953"
             ],
             [
              0.7777777777777778,
              "#fb9f3a"
             ],
             [
              0.8888888888888888,
              "#fdca26"
             ],
             [
              1,
              "#f0f921"
             ]
            ],
            "type": "surface"
           }
          ],
          "table": [
           {
            "cells": {
             "fill": {
              "color": "#EBF0F8"
             },
             "line": {
              "color": "white"
             }
            },
            "header": {
             "fill": {
              "color": "#C8D4E3"
             },
             "line": {
              "color": "white"
             }
            },
            "type": "table"
           }
          ]
         },
         "layout": {
          "annotationdefaults": {
           "arrowcolor": "#2a3f5f",
           "arrowhead": 0,
           "arrowwidth": 1
          },
          "autotypenumbers": "strict",
          "coloraxis": {
           "colorbar": {
            "outlinewidth": 0,
            "ticks": ""
           }
          },
          "colorscale": {
           "diverging": [
            [
             0,
             "#8e0152"
            ],
            [
             0.1,
             "#c51b7d"
            ],
            [
             0.2,
             "#de77ae"
            ],
            [
             0.3,
             "#f1b6da"
            ],
            [
             0.4,
             "#fde0ef"
            ],
            [
             0.5,
             "#f7f7f7"
            ],
            [
             0.6,
             "#e6f5d0"
            ],
            [
             0.7,
             "#b8e186"
            ],
            [
             0.8,
             "#7fbc41"
            ],
            [
             0.9,
             "#4d9221"
            ],
            [
             1,
             "#276419"
            ]
           ],
           "sequential": [
            [
             0,
             "#0d0887"
            ],
            [
             0.1111111111111111,
             "#46039f"
            ],
            [
             0.2222222222222222,
             "#7201a8"
            ],
            [
             0.3333333333333333,
             "#9c179e"
            ],
            [
             0.4444444444444444,
             "#bd3786"
            ],
            [
             0.5555555555555556,
             "#d8576b"
            ],
            [
             0.6666666666666666,
             "#ed7953"
            ],
            [
             0.7777777777777778,
             "#fb9f3a"
            ],
            [
             0.8888888888888888,
             "#fdca26"
            ],
            [
             1,
             "#f0f921"
            ]
           ],
           "sequentialminus": [
            [
             0,
             "#0d0887"
            ],
            [
             0.1111111111111111,
             "#46039f"
            ],
            [
             0.2222222222222222,
             "#7201a8"
            ],
            [
             0.3333333333333333,
             "#9c179e"
            ],
            [
             0.4444444444444444,
             "#bd3786"
            ],
            [
             0.5555555555555556,
             "#d8576b"
            ],
            [
             0.6666666666666666,
             "#ed7953"
            ],
            [
             0.7777777777777778,
             "#fb9f3a"
            ],
            [
             0.8888888888888888,
             "#fdca26"
            ],
            [
             1,
             "#f0f921"
            ]
           ]
          },
          "colorway": [
           "#636efa",
           "#EF553B",
           "#00cc96",
           "#ab63fa",
           "#FFA15A",
           "#19d3f3",
           "#FF6692",
           "#B6E880",
           "#FF97FF",
           "#FECB52"
          ],
          "font": {
           "color": "#2a3f5f"
          },
          "geo": {
           "bgcolor": "white",
           "lakecolor": "white",
           "landcolor": "#E5ECF6",
           "showlakes": true,
           "showland": true,
           "subunitcolor": "white"
          },
          "hoverlabel": {
           "align": "left"
          },
          "hovermode": "closest",
          "mapbox": {
           "style": "light"
          },
          "paper_bgcolor": "white",
          "plot_bgcolor": "#E5ECF6",
          "polar": {
           "angularaxis": {
            "gridcolor": "white",
            "linecolor": "white",
            "ticks": ""
           },
           "bgcolor": "#E5ECF6",
           "radialaxis": {
            "gridcolor": "white",
            "linecolor": "white",
            "ticks": ""
           }
          },
          "scene": {
           "xaxis": {
            "backgroundcolor": "#E5ECF6",
            "gridcolor": "white",
            "gridwidth": 2,
            "linecolor": "white",
            "showbackground": true,
            "ticks": "",
            "zerolinecolor": "white"
           },
           "yaxis": {
            "backgroundcolor": "#E5ECF6",
            "gridcolor": "white",
            "gridwidth": 2,
            "linecolor": "white",
            "showbackground": true,
            "ticks": "",
            "zerolinecolor": "white"
           },
           "zaxis": {
            "backgroundcolor": "#E5ECF6",
            "gridcolor": "white",
            "gridwidth": 2,
            "linecolor": "white",
            "showbackground": true,
            "ticks": "",
            "zerolinecolor": "white"
           }
          },
          "shapedefaults": {
           "line": {
            "color": "#2a3f5f"
           }
          },
          "ternary": {
           "aaxis": {
            "gridcolor": "white",
            "linecolor": "white",
            "ticks": ""
           },
           "baxis": {
            "gridcolor": "white",
            "linecolor": "white",
            "ticks": ""
           },
           "bgcolor": "#E5ECF6",
           "caxis": {
            "gridcolor": "white",
            "linecolor": "white",
            "ticks": ""
           }
          },
          "title": {
           "x": 0.05
          },
          "xaxis": {
           "automargin": true,
           "gridcolor": "white",
           "linecolor": "white",
           "ticks": "",
           "title": {
            "standoff": 15
           },
           "zerolinecolor": "white",
           "zerolinewidth": 2
          },
          "yaxis": {
           "automargin": true,
           "gridcolor": "white",
           "linecolor": "white",
           "ticks": "",
           "title": {
            "standoff": 15
           },
           "zerolinecolor": "white",
           "zerolinewidth": 2
          }
         }
        },
        "title": {
         "text": "Treemap of Total Points by Position"
        }
       }
      }
     },
     "metadata": {},
     "output_type": "display_data"
    }
   ],
   "source": [
    "fig = px.treemap(SS, path=['slugPosition', 'namePlayer'], values='ptsTotals',\n",
    "                 title='Treemap of Total Points by Position',\n",
    "                 labels={'ptsTotals': 'Total Points'})\n",
    "fig.show()\n"
   ]
  },
  {
   "cell_type": "code",
   "execution_count": 97,
   "metadata": {},
   "outputs": [
    {
     "data": {
      "application/vnd.plotly.v1+json": {
       "config": {
        "plotlyServerURL": "https://plot.ly"
       },
       "data": [
        {
         "alignmentgroup": "True",
         "box": {
          "visible": false
         },
         "customdata": [
          [
           "Stephen Curry"
          ],
          [
           "Kevin Durant"
          ],
          [
           "Nikola Jokic"
          ],
          [
           "Joel Embiid"
          ],
          [
           "LeBron James"
          ],
          [
           "Bradley Beal"
          ],
          [
           "Giannis Antetokounmpo"
          ],
          [
           "Kawhi Leonard"
          ],
          [
           "Damian Lillard"
          ],
          [
           "Paul George"
          ],
          [
           "Jimmy Butler"
          ],
          [
           "Klay Thompson"
          ],
          [
           "Rudy Gobert"
          ],
          [
           "Fred VanVleet"
          ],
          [
           "Anthony Davis"
          ],
          [
           "Trae Young"
          ],
          [
           "Luka Doncic"
          ],
          [
           "Zach LaVine"
          ],
          [
           "Tobias Harris"
          ],
          [
           "Ben Simmons"
          ],
          [
           "Pascal Siakam"
          ],
          [
           "Kyrie Irving"
          ],
          [
           "Jrue Holiday"
          ],
          [
           "Devin Booker"
          ],
          [
           "Karl-Anthony Towns"
          ],
          [
           "Kristaps Porzingis"
          ],
          [
           "CJ McCollum"
          ],
          [
           "James Harden"
          ],
          [
           "Zion Williamson"
          ],
          [
           "Ja Morant"
          ],
          [
           "Darius Garland"
          ],
          [
           "Brandon Ingram"
          ],
          [
           "Jamal Murray"
          ],
          [
           "Shai Gilgeous-Alexander"
          ],
          [
           "Michael Porter Jr."
          ],
          [
           "Gordon Hayward"
          ],
          [
           "Donovan Mitchell"
          ],
          [
           "De'Aaron Fox"
          ],
          [
           "Bam Adebayo"
          ],
          [
           "Jayson Tatum"
          ],
          [
           "Deandre Ayton"
          ],
          [
           "Jaylen Brown"
          ],
          [
           "Chris Paul"
          ],
          [
           "Domantas Sabonis"
          ],
          [
           "Kyle Lowry"
          ],
          [
           "Khris Middleton"
          ],
          [
           "DeMar DeRozan"
          ],
          [
           "Julius Randle"
          ],
          [
           "Jerami Grant"
          ],
          [
           "Jordan Poole"
          ],
          [
           "Jaren Jackson Jr."
          ],
          [
           "Tyler Herro"
          ],
          [
           "Jalen Brunson"
          ],
          [
           "Cameron Johnson"
          ],
          [
           "Kyle Kuzma"
          ],
          [
           "John Collins"
          ],
          [
           "Brook Lopez"
          ],
          [
           "Mike Conley"
          ],
          [
           "Andrew Wiggins"
          ],
          [
           "Anfernee Simons"
          ],
          [
           "RJ Barrett"
          ],
          [
           "Jordan Clarkson"
          ],
          [
           "Terry Rozier"
          ],
          [
           "Dillon Brooks"
          ],
          [
           "Malcolm Brogdon"
          ],
          [
           "Draymond Green"
          ],
          [
           "Aaron Gordon"
          ],
          [
           "Bruce Brown"
          ],
          [
           "Mikal Bridges"
          ],
          [
           "Myles Turner"
          ],
          [
           "Clint Capela"
          ],
          [
           "Spencer Dinwiddie"
          ],
          [
           "De'Andre Hunter"
          ],
          [
           "Keldon Johnson"
          ],
          [
           "Jarrett Allen"
          ],
          [
           "Bojan Bogdanovic"
          ],
          [
           "Joe Harris"
          ],
          [
           "Buddy Hield"
          ],
          [
           "Jakob Poeltl"
          ],
          [
           "Evan Fournier"
          ],
          [
           "Marcus Smart"
          ],
          [
           "Bogdan Bogdanovic"
          ],
          [
           "OG Anunoby"
          ],
          [
           "Gary Trent Jr."
          ],
          [
           "Nikola Vucevic"
          ],
          [
           "Derrick White"
          ],
          [
           "Dejounte Murray"
          ],
          [
           "Duncan Robinson"
          ],
          [
           "Norman Powell"
          ],
          [
           "Tim Hardaway Jr."
          ],
          [
           "Jonathan Isaac"
          ],
          [
           "Collin Sexton"
          ],
          [
           "D'Angelo Russell"
          ],
          [
           "Lauri Markkanen"
          ],
          [
           "Marcus Morris Sr."
          ],
          [
           "Harrison Barnes"
          ],
          [
           "Davis Bertans"
          ],
          [
           "Markelle Fultz"
          ],
          [
           "Jusuf Nurkic"
          ],
          [
           "P.J. Washington"
          ],
          [
           "Rui Hachimura"
          ],
          [
           "Mitchell Robinson"
          ],
          [
           "Kevin Huerter"
          ],
          [
           "Jonas Valanciunas"
          ],
          [
           "Caris LeVert"
          ],
          [
           "Luguentz Dort"
          ],
          [
           "Luke Kennard"
          ],
          [
           "Kentavious Caldwell-Pope"
          ],
          [
           "Max Strus"
          ],
          [
           "Tyus Jones"
          ],
          [
           "Dorian Finney-Smith"
          ],
          [
           "Doug McDermott"
          ],
          [
           "Anthony Edwards"
          ],
          [
           "Wendell Carter Jr."
          ],
          [
           "Gary Harris"
          ],
          [
           "Josh Hart"
          ],
          [
           "Naz Reid"
          ],
          [
           "Brandon Clarke"
          ],
          [
           "Marvin Bagley III"
          ],
          [
           "Grant Williams"
          ],
          [
           "Dennis Schroder"
          ],
          [
           "Daniel Gafford"
          ],
          [
           "Kelly Olynyk"
          ],
          [
           "Victor Wembanyama"
          ],
          [
           "James Wiseman"
          ],
          [
           "Devonte' Graham"
          ],
          [
           "Richaun Holmes"
          ],
          [
           "Herbert Jones"
          ],
          [
           "Austin Reaves"
          ],
          [
           "Chris Boucher"
          ],
          [
           "Bobby Portis"
          ],
          [
           "Nicolas Batum"
          ],
          [
           "Robert Covington"
          ],
          [
           "Paolo Banchero"
          ],
          [
           "Robert Williams III"
          ],
          [
           "Coby White"
          ],
          [
           "Cade Cunningham"
          ],
          [
           "Talen Horton-Tucker"
          ],
          [
           "P.J. Tucker"
          ],
          [
           "Reggie Bullock"
          ],
          [
           "Maxi Kleber"
          ],
          [
           "Joe Ingles"
          ],
          [
           "Ivica Zubac"
          ],
          [
           "LaMelo Ball"
          ],
          [
           "Donte DiVincenzo"
          ],
          [
           "Brandon Miller"
          ],
          [
           "Terance Mann"
          ],
          [
           "Gabe Vincent"
          ],
          [
           "Matisse Thybulle"
          ],
          [
           "Alec Burks"
          ],
          [
           "Chet Holmgren"
          ],
          [
           "Larry Nance Jr."
          ],
          [
           "Landry Shamet"
          ],
          [
           "Al Horford"
          ],
          [
           "Malik Monk"
          ],
          [
           "Tre Jones"
          ],
          [
           "Jalen Green"
          ],
          [
           "Patrick Williams"
          ],
          [
           "Monte Morris"
          ],
          [
           "Scoot Henderson"
          ],
          [
           "Nic Claxton"
          ],
          [
           "Jeff Green"
          ],
          [
           "Royce O'Neale"
          ],
          [
           "Alex Caruso"
          ],
          [
           "Pat Connaughton"
          ],
          [
           "Jabari Smith Jr."
          ],
          [
           "Isaiah Hartenstein"
          ],
          [
           "Kyle Anderson"
          ],
          [
           "Grayson Allen"
          ],
          [
           "Isaac Okoro"
          ],
          [
           "Evan Mobley"
          ],
          [
           "Amen Thompson"
          ],
          [
           "Georges Niang"
          ],
          [
           "Gary Payton II"
          ],
          [
           "T.J. McConnell"
          ],
          [
           "Keegan Murray"
          ],
          [
           "Delon Wright"
          ],
          [
           "Onyeka Okongwu"
          ],
          [
           "Scottie Barnes"
          ],
          [
           "Jock Landale"
          ],
          [
           "Trey Lyles"
          ],
          [
           "De'Anthony Melton"
          ],
          [
           "Moritz Wagner"
          ],
          [
           "Thaddeus Young"
          ],
          [
           "Ausar Thompson"
          ],
          [
           "Miles Bridges"
          ],
          [
           "Vasilije Micic"
          ],
          [
           "Paul Reed"
          ],
          [
           "Zach Collins"
          ],
          [
           "Jaden Ivey"
          ],
          [
           "Cody Martin"
          ],
          [
           "Kevon Looney"
          ],
          [
           "Killian Hayes"
          ],
          [
           "Jalen Suggs"
          ],
          [
           "Anthony Black"
          ],
          [
           "Daniel Theis"
          ],
          [
           "Bennedict Mathurin"
          ],
          [
           "Obi Toppin"
          ],
          [
           "Caleb Martin"
          ],
          [
           "Danilo Gallinari"
          ],
          [
           "Patty Mills"
          ],
          [
           "Cedi Osman"
          ],
          [
           "Bilal Coulibaly"
          ],
          [
           "Josh Giddey"
          ],
          [
           "Cameron Payne"
          ],
          [
           "Jae'Sean Tate"
          ],
          [
           "Ayo Dosunmu"
          ],
          [
           "Sasha Vezenkov"
          ],
          [
           "Shaedon Sharpe"
          ],
          [
           "Otto Porter Jr."
          ],
          [
           "Deni Avdija"
          ],
          [
           "Nassir Little"
          ],
          [
           "Jevon Carter"
          ],
          [
           "Kenrich Williams"
          ],
          [
           "Jarace Walker"
          ],
          [
           "Jonathan Kuminga"
          ],
          [
           "Devin Vassell"
          ],
          [
           "Tyrese Haliburton"
          ],
          [
           "Dyson Daniels"
          ],
          [
           "Kira Lewis Jr."
          ],
          [
           "Dean Wade"
          ],
          [
           "Aaron Nesmith"
          ],
          [
           "Taylor Hendricks"
          ],
          [
           "Cole Anthony"
          ],
          [
           "Franz Wagner"
          ],
          [
           "Furkan Korkmaz"
          ],
          [
           "Jeremy Sochan"
          ],
          [
           "Cason Wallace"
          ],
          [
           "Isaiah Stewart"
          ],
          [
           "Chuma Okeke"
          ],
          [
           "Davion Mitchell"
          ],
          [
           "Johnny Davis"
          ],
          [
           "Jalen Smith"
          ],
          [
           "Jett Howard"
          ],
          [
           "Aleksej Pokusevski"
          ],
          [
           "Nick Richards"
          ],
          [
           "Bismack Biyombo"
          ],
          [
           "Mason Plumlee"
          ],
          [
           "Shake Milton"
          ],
          [
           "Reggie Jackson"
          ],
          [
           "Ziaire Williams"
          ],
          [
           "Ousmane Dieng"
          ],
          [
           "Dereck Lively II"
          ],
          [
           "Josh Green"
          ],
          [
           "Jarred Vanderbilt"
          ],
          [
           "Nickeil Alexander-Walker"
          ],
          [
           "James Bouknight"
          ],
          [
           "Jalen Williams"
          ],
          [
           "Saddiq Bey"
          ],
          [
           "Gradey Dick"
          ],
          [
           "Jalen McDaniels"
          ],
          [
           "Taurean Prince"
          ],
          [
           "Precious Achiuwa"
          ],
          [
           "Tyrese Maxey"
          ],
          [
           "Joshua Primo"
          ],
          [
           "Jalen Duren"
          ],
          [
           "Danuel House Jr."
          ],
          [
           "Jordan Hawkins"
          ],
          [
           "Zeke Nnaji"
          ],
          [
           "Immanuel Quickley"
          ],
          [
           "Chris Duarte"
          ],
          [
           "Ochai Agbaji"
          ],
          [
           "Kobe Bufkin"
          ],
          [
           "Payton Pritchard"
          ],
          [
           "Dwight Powell"
          ],
          [
           "Seth Curry"
          ],
          [
           "Troy Brown Jr."
          ],
          [
           "Moses Moody"
          ],
          [
           "Mark Williams"
          ],
          [
           "Jaden McDaniels"
          ],
          [
           "Keyonte George"
          ],
          [
           "Malachi Flynn"
          ],
          [
           "Desmond Bane"
          ],
          [
           "Kevin Love"
          ],
          [
           "Russell Westbrook"
          ],
          [
           "Corey Kispert"
          ],
          [
           "AJ Griffin"
          ],
          [
           "Jalen Hood-Schifino"
          ],
          [
           "Amir Coffey"
          ],
          [
           "Alperen Sengun"
          ],
          [
           "Tari Eason"
          ],
          [
           "Jaime Jaquez Jr."
          ],
          [
           "Mike Muscala"
          ],
          [
           "Andre Drummond"
          ],
          [
           "Derrick Jones Jr."
          ],
          [
           "Trey Murphy III"
          ],
          [
           "Brandin Podziemski"
          ],
          [
           "Dalen Terry"
          ],
          [
           "Cam Whitmore"
          ],
          [
           "Jake LaRavia"
          ],
          [
           "Derrick Rose"
          ],
          [
           "Eric Gordon"
          ],
          [
           "Tre Mann"
          ],
          [
           "Noah Clowney"
          ],
          [
           "Malaki Branham"
          ],
          [
           "Simone Fontecchio"
          ],
          [
           "Jordan Nwora"
          ],
          [
           "Julian Champagnie"
          ],
          [
           "Dante Exum"
          ],
          [
           "Dariq Whitehead"
          ],
          [
           "Christian Braun"
          ],
          [
           "Jalen Johnson"
          ],
          [
           "Josh Richardson"
          ],
          [
           "Kris Murray"
          ],
          [
           "Walker Kessler"
          ],
          [
           "Josh Okogie"
          ],
          [
           "Keon Johnson"
          ],
          [
           "Omer Yurtseven"
          ],
          [
           "Olivier-Maxence Prosper"
          ],
          [
           "David Roddy"
          ],
          [
           "Christian Wood"
          ],
          [
           "Isaiah Jackson"
          ],
          [
           "Marcus Sasser"
          ],
          [
           "MarJon Beauchamp"
          ],
          [
           "Charles Bassey"
          ],
          [
           "Usman Garuba"
          ],
          [
           "Kris Dunn"
          ],
          [
           "Damian Jones"
          ],
          [
           "Bruno Fernando"
          ],
          [
           "Ben Sheppard"
          ],
          [
           "Thomas Bryant"
          ],
          [
           "Torrey Craig"
          ],
          [
           "Blake Wesley"
          ],
          [
           "Nick Smith Jr."
          ],
          [
           "Brice Sensabaugh"
          ],
          [
           "Ty Jerome"
          ],
          [
           "Julian Strawther"
          ],
          [
           "Tristan Vukcevic"
          ],
          [
           "Wendell Moore Jr."
          ],
          [
           "Kobe Brown"
          ],
          [
           "Luke Kornet"
          ],
          [
           "John Konchar"
          ],
          [
           "Quentin Grimes"
          ],
          [
           "Nikola Jovic"
          ],
          [
           "JaVale McGee"
          ],
          [
           "Drew Eubanks"
          ],
          [
           "Keita Bates-Diop"
          ],
          [
           "Yuta Watanabe"
          ],
          [
           "Patrick Baldwin Jr."
          ],
          [
           "TyTy Washington Jr."
          ],
          [
           "Jordan McLaughlin"
          ],
          [
           "Bones Hyland"
          ],
          [
           "Peyton Watson"
          ],
          [
           "James Johnson"
          ],
          [
           "Cam Thomas"
          ],
          [
           "Vince Williams Jr."
          ],
          [
           "Jaden Springer"
          ],
          [
           "Day'Ron Sharpe"
          ],
          [
           "Jeff Dowtin"
          ],
          [
           "Santi Aldama"
          ],
          [
           "Jaxson Hayes"
          ],
          [
           "Cam Reddish"
          ],
          [
           "Oshae Brissett"
          ],
          [
           "Andrew Nembhard"
          ],
          [
           "Luka Samanic"
          ],
          [
           "Goga Bitadze"
          ],
          [
           "Colby Jones"
          ],
          [
           "Taj Gibson"
          ],
          [
           "Garrett Temple"
          ],
          [
           "Sandro Mamukelashvili"
          ],
          [
           "Robin Lopez"
          ],
          [
           "Alex Len"
          ],
          [
           "Dalano Banton"
          ],
          [
           "Bol Bol"
          ],
          [
           "Kelly Oubre Jr."
          ],
          [
           "Mo Bamba"
          ],
          [
           "Dylan Windler"
          ],
          [
           "Cody Zeller"
          ],
          [
           "Thanasis Antetokounmpo"
          ],
          [
           "Patrick Beverley"
          ],
          [
           "Jae Crowder"
          ],
          [
           "Malik Beasley"
          ],
          [
           "Chimezie Metu"
          ],
          [
           "Lamar Stevens"
          ],
          [
           "Cory Joseph"
          ],
          [
           "Dario Saric"
          ],
          [
           "Ryan Arcidiacono"
          ],
          [
           "DeAndre Jordan"
          ],
          [
           "Justin Holiday"
          ],
          [
           "Markieff Morris"
          ],
          [
           "Ish Smith"
          ],
          [
           "Frank Ntilikina"
          ],
          [
           "Terry Taylor"
          ],
          [
           "Harry Giles III"
          ],
          [
           "Lonnie Walker IV"
          ],
          [
           "Dennis Smith Jr."
          ],
          [
           "Svi Mykhailiuk"
          ],
          [
           "Wesley Matthews"
          ],
          [
           "Moses Brown"
          ],
          [
           "Boban Marjanovic"
          ],
          [
           "Aaron Holiday"
          ],
          [
           "Tristan Thompson"
          ],
          [
           "Trendon Watford"
          ],
          [
           "Caleb Houstan"
          ],
          [
           "Jaylin Williams"
          ],
          [
           "Garrison Mathews"
          ],
          [
           "Sam Merrill"
          ],
          [
           "Anthony Gill"
          ],
          [
           "Isaiah Joe"
          ],
          [
           "GG Jackson II"
          ],
          [
           "Duop Reath"
          ],
          [
           "KJ Martin"
          ],
          [
           "Naji Marshall"
          ],
          [
           "Xavier Tillman Sr."
          ],
          [
           "Jordan Goodwin"
          ],
          [
           "Kessler Edwards"
          ],
          [
           "Ish Wainright"
          ],
          [
           "Jericho Sims"
          ],
          [
           "Sam Hauser"
          ],
          [
           "Haywood Highsmith"
          ],
          [
           "A.J. Green"
          ],
          [
           "Jeremiah Robinson-Earl"
          ],
          [
           "Kevin Knox II"
          ],
          [
           "Miles McBride"
          ],
          [
           "Isaiah Livers"
          ],
          [
           "Brandon Boston Jr."
          ],
          [
           "JT Thor"
          ],
          [
           "Aaron Wiggins"
          ],
          [
           "Jose Alvarado"
          ],
          [
           "E.J. Liddell"
          ],
          [
           "Dru Smith"
          ],
          [
           "Orlando Robinson"
          ],
          [
           "Leonard Miller"
          ],
          [
           "Skylar Mays"
          ],
          [
           "Ryan Rollins"
          ],
          [
           "Jaden Hardy"
          ],
          [
           "Jabari Walker"
          ],
          [
           "Josh Minott"
          ],
          [
           "Kenneth Lofton Jr."
          ],
          [
           "Max Christie"
          ],
          [
           "Bryce McGowens"
          ],
          [
           "Jalen Pickett"
          ],
          [
           "Julian Phillips"
          ],
          [
           "Matt Ryan"
          ],
          [
           "Craig Porter Jr."
          ],
          [
           "Jared Butler"
          ],
          [
           "Sidy Cissoko"
          ],
          [
           "Hunter Tyson"
          ],
          [
           "Jordan Walsh"
          ],
          [
           "Rayan Rupert"
          ],
          [
           "Chris Livingston"
          ],
          [
           "Maxwell Lewis"
          ],
          [
           "Trayce Jackson-Davis"
          ],
          [
           "Mouhamed Gueye"
          ],
          [
           "Toumani Camara"
          ],
          [
           "Andre Jackson Jr."
          ],
          [
           "Kendall Brown"
          ],
          [
           "Gui Santos"
          ],
          [
           "A.J. Lawson"
          ],
          [
           "Eugene Omoruyi"
          ],
          [
           "Ricky Council IV"
          ],
          [
           "Jalen Wilson"
          ],
          [
           "DaQuan Jeffries"
          ],
          [
           "Lindy Waters III"
          ],
          [
           "Keon Ellis"
          ],
          [
           "Jack White"
          ],
          [
           "Filip Petrusev"
          ],
          [
           "Lester Quinones"
          ],
          [
           "Stanley Umude"
          ],
          [
           "Trent Forrest"
          ],
          [
           "Darius Bazley"
          ],
          [
           "Onuralp Bitim"
          ],
          [
           "Dominick Barlow"
          ],
          [
           "Juan Toscano-Anderson"
          ],
          [
           "Javon Freeman-Liberty"
          ],
          [
           "Mamadi Diakite"
          ],
          [
           "Neemias Queta"
          ],
          [
           "T.J. Warren"
          ],
          [
           "Danny Green"
          ],
          [
           "Javonte Green"
          ],
          [
           "Luka Garza"
          ],
          [
           "Isaiah Thomas"
          ],
          [
           "Hamidou Diallo"
          ],
          [
           "Ashton Hagans"
          ],
          [
           "Tosan Evbuomwan"
          ],
          [
           "Malik Williams"
          ],
          [
           "Taze Moore"
          ],
          [
           "Pete Nance"
          ]
         ],
         "hovertemplate": "Team=%{x}<br>Free Throw Percentage=%{y}<br>namePlayer=%{customdata[0]}<extra></extra>",
         "legendgroup": "",
         "marker": {
          "color": "#636efa"
         },
         "name": "",
         "offsetgroup": "",
         "orientation": "v",
         "scalegroup": "True",
         "showlegend": false,
         "type": "violin",
         "x": [
          "GSW",
          "PHO",
          "DEN",
          "PHI",
          "LAL",
          "PHO",
          "MIL",
          "LAC",
          "MIL",
          "LAC",
          "MIA",
          "GSW",
          "MIN",
          "HOU",
          "LAL",
          "ATL",
          "DAL",
          "CHI",
          "PHI",
          "BRK",
          "TOT",
          "DAL",
          "BOS",
          "PHO",
          "MIN",
          "BOS",
          "NOP",
          "LAC",
          "NOP",
          "MEM",
          "CLE",
          "NOP",
          "DEN",
          "OKC",
          "DEN",
          "TOT",
          "CLE",
          "SAC",
          "MIA",
          "BOS",
          "POR",
          "BOS",
          "GSW",
          "SAC",
          "TOT",
          "MIL",
          "CHI",
          "NYK",
          "POR",
          "WAS",
          "MEM",
          "MIA",
          "NYK",
          "BRK",
          "WAS",
          "UTA",
          "MIL",
          "MIN",
          "GSW",
          "POR",
          "TOT",
          "UTA",
          "TOT",
          "HOU",
          "POR",
          "GSW",
          "DEN",
          "TOT",
          "BRK",
          "IND",
          "ATL",
          "TOT",
          "ATL",
          "SAS",
          "CLE",
          "TOT",
          "DET",
          "TOT",
          "TOR",
          "TOT",
          "MEM",
          "ATL",
          "TOT",
          "TOR",
          "CHI",
          "BOS",
          "ATL",
          "MIA",
          "LAC",
          "DAL",
          "ORL",
          "UTA",
          "LAL",
          "UTA",
          "TOT",
          "SAC",
          "TOT",
          "ORL",
          "PHO",
          "TOT",
          "LAL",
          "NYK",
          "SAC",
          "NOP",
          "CLE",
          "OKC",
          "MEM",
          "DEN",
          "CLE",
          "WAS",
          "BRK",
          "TOT",
          "MIN",
          "ORL",
          "ORL",
          "NYK",
          "MIN",
          "MEM",
          "TOT",
          "TOT",
          "TOT",
          "TOT",
          "TOT",
          "SAS",
          "DET",
          "SAS",
          "TOT",
          "NOP",
          "LAL",
          "TOR",
          "MIL",
          "TOT",
          "TOT",
          "ORL",
          "POR",
          "CHI",
          "DET",
          "UTA",
          "TOT",
          "HOU",
          "DAL",
          "ORL",
          "LAC",
          "CHO",
          "NYK",
          "CHO",
          "LAC",
          "LAL",
          "POR",
          "TOT",
          "OKC",
          "NOP",
          "WAS",
          "BOS",
          "SAC",
          "SAS",
          "HOU",
          "CHI",
          "TOT",
          "POR",
          "BRK",
          "HOU",
          "TOT",
          "CHI",
          "MIL",
          "HOU",
          "NYK",
          "MIN",
          "PHO",
          "CLE",
          "CLE",
          "HOU",
          "CLE",
          "GSW",
          "IND",
          "SAC",
          "TOT",
          "ATL",
          "TOR",
          "HOU",
          "SAC",
          "PHI",
          "ORL",
          "TOT",
          "DET",
          "CHO",
          "TOT",
          "PHI",
          "SAS",
          "DET",
          "CHO",
          "GSW",
          "DET",
          "ORL",
          "ORL",
          "TOT",
          "IND",
          "IND",
          "MIA",
          "TOT",
          "TOT",
          "SAS",
          "WAS",
          "OKC",
          "TOT",
          "HOU",
          "CHI",
          "SAC",
          "POR",
          "TOR",
          "WAS",
          "PHO",
          "CHI",
          "OKC",
          "IND",
          "GSW",
          "SAS",
          "IND",
          "NOP",
          "TOT",
          "CLE",
          "IND",
          "UTA",
          "ORL",
          "ORL",
          "PHI",
          "SAS",
          "OKC",
          "DET",
          "ORL",
          "SAC",
          "WAS",
          "IND",
          "ORL",
          "TOT",
          "CHO",
          "TOT",
          "LAC",
          "TOT",
          "DEN",
          "MEM",
          "OKC",
          "DAL",
          "DAL",
          "LAL",
          "MIN",
          "CHO",
          "OKC",
          "ATL",
          "TOR",
          "TOR",
          "LAL",
          "TOT",
          "PHI",
          "LAC",
          "DET",
          "PHI",
          "NOP",
          "DEN",
          "TOT",
          "SAC",
          "TOT",
          "ATL",
          "BOS",
          "DAL",
          "TOT",
          "TOT",
          "GSW",
          "CHO",
          "MIN",
          "UTA",
          "TOT",
          "MEM",
          "MIA",
          "LAC",
          "WAS",
          "ATL",
          "LAL",
          "LAC",
          "HOU",
          "HOU",
          "MIA",
          "TOT",
          "CHI",
          "DAL",
          "NOP",
          "GSW",
          "CHI",
          "HOU",
          "MEM",
          "MEM",
          "PHO",
          "TOT",
          "BRK",
          "SAS",
          "TOT",
          "TOT",
          "SAS",
          "DAL",
          "BRK",
          "DEN",
          "ATL",
          "MIA",
          "POR",
          "UTA",
          "PHO",
          "BRK",
          "UTA",
          "DAL",
          "TOT",
          "LAL",
          "IND",
          "DET",
          "MIL",
          "SAS",
          "GSW",
          "UTA",
          "CLE",
          "ATL",
          "IND",
          "MIA",
          "CHI",
          "SAS",
          "CHO",
          "UTA",
          "CLE",
          "DEN",
          "WAS",
          "MIN",
          "LAC",
          "BOS",
          "MEM",
          "TOT",
          "MIA",
          "SAC",
          "PHO",
          "TOT",
          "TOT",
          "WAS",
          "MIL",
          "MIN",
          "LAC",
          "DEN",
          "IND",
          "BRK",
          "MEM",
          "TOT",
          "BRK",
          "PHI",
          "MEM",
          "LAL",
          "LAL",
          "BOS",
          "IND",
          "UTA",
          "ORL",
          "SAC",
          "TOT",
          "TOR",
          "SAS",
          "MIL",
          "SAC",
          "TOT",
          "PHO",
          "PHI",
          "PHI",
          "TOT",
          "NOP",
          "MIL",
          "TOT",
          "MIL",
          "MIL",
          "TOT",
          "TOT",
          "GSW",
          "GSW",
          "NYK",
          "DEN",
          "DEN",
          "DAL",
          "CHO",
          "CHO",
          "CHI",
          "TOT",
          "BRK",
          "BRK",
          "BOS",
          "ATL",
          "POR",
          "HOU",
          "HOU",
          "CLE",
          "BRK",
          "ORL",
          "OKC",
          "ATL",
          "CLE",
          "WAS",
          "OKC",
          "MEM",
          "POR",
          "TOT",
          "NOP",
          "TOT",
          "TOT",
          "SAC",
          "TOT",
          "NYK",
          "BOS",
          "MIA",
          "MIL",
          "NOP",
          "DET",
          "NYK",
          "DET",
          "LAC",
          "CHO",
          "OKC",
          "NOP",
          "NOP",
          "MIA",
          "MIA",
          "MIN",
          "TOT",
          "TOT",
          "DAL",
          "POR",
          "MIN",
          "TOT",
          "LAL",
          "CHO",
          "DEN",
          "CHI",
          "NOP",
          "CLE",
          "WAS",
          "SAS",
          "DEN",
          "BOS",
          "POR",
          "MIL",
          "LAL",
          "GSW",
          "ATL",
          "POR",
          "MIL",
          "IND",
          "GSW",
          "DAL",
          "WAS",
          "PHI",
          "BRK",
          "NYK",
          "OKC",
          "SAC",
          "MEM",
          "TOT",
          "GSW",
          "DET",
          "ATL",
          "TOT",
          "CHI",
          "SAS",
          "SAC",
          "TOR",
          "TOT",
          "BOS",
          "MIN",
          "PHI",
          "CHI",
          "MIN",
          "PHO",
          "WAS",
          "POR",
          "TOT",
          "TOR",
          "POR",
          "CLE"
         ],
         "x0": " ",
         "xaxis": "x",
         "y": [
          0.923,
          0.856,
          0.817,
          0.883,
          0.75,
          0.813,
          0.657,
          0.885,
          0.92,
          0.907,
          0.858,
          0.927,
          0.638,
          0.86,
          0.816,
          0.855,
          0.786,
          0.854,
          0.878,
          0.4,
          0.732,
          0.905,
          0.833,
          0.886,
          0.873,
          0.858,
          0.827,
          0.878,
          0.702,
          0.813,
          0.834,
          0.801,
          0.853,
          0.874,
          0.836,
          0.742,
          0.865,
          0.738,
          0.755,
          0.833,
          0.823,
          0.703,
          0.827,
          0.704,
          0.84,
          0.833,
          0.853,
          0.781,
          0.817,
          0.877,
          0.808,
          0.856,
          0.847,
          0.789,
          0.775,
          0.795,
          0.821,
          0.911,
          0.751,
          0.916,
          0.715,
          0.881,
          0.869,
          0.844,
          0.819,
          0.73,
          0.658,
          0.824,
          0.814,
          0.773,
          0.631,
          0.805,
          0.847,
          0.792,
          0.742,
          0.785,
          0.5,
          0.881,
          0.551,
          0.806,
          0.768,
          0.921,
          0.753,
          0.771,
          0.822,
          0.901,
          0.794,
          0.889,
          0.831,
          0.852,
          0.72,
          0.859,
          0.828,
          0.899,
          0.818,
          0.801,
          0.909,
          0.697,
          0.64,
          0.683,
          0.739,
          0.409,
          0.766,
          0.785,
          0.766,
          0.826,
          0.889,
          0.894,
          0.794,
          0.8,
          0.717,
          0.579,
          0.836,
          0.694,
          0.756,
          0.791,
          0.736,
          0.143,
          0.762,
          0.757,
          0.836,
          0.674,
          0.833,
          0.796,
          0.706,
          0.813,
          0.723,
          0.867,
          0.853,
          0.772,
          0.79,
          0.714,
          0.846,
          0.725,
          0.778,
          0.838,
          0.869,
          0.807,
          0.01,
          0.01,
          0.702,
          0.824,
          0.723,
          0.865,
          0.754,
          0.827,
          0.832,
          0.5,
          0.759,
          0.868,
          0.793,
          0.77,
          0.826,
          0.867,
          0.829,
          0.856,
          0.804,
          0.788,
          0.684,
          0.819,
          0.551,
          0.819,
          0.686,
          0.76,
          0.759,
          0.811,
          0.707,
          0.708,
          0.878,
          0.679,
          0.719,
          0.684,
          0.85,
          0.609,
          0.79,
          0.831,
          0.822,
          0.793,
          0.781,
          0.8,
          0.7,
          0.835,
          0.814,
          0.4,
          0.597,
          0.825,
          0.813,
          0.718,
          0.753,
          0.749,
          0.606,
          0.675,
          0.66,
          0.756,
          0.613,
          0.76,
          0.821,
          0.77,
          0.778,
          0.857,
          0.01,
          0.673,
          0.702,
          0.806,
          0.866,
          0.667,
          0.81,
          0.8,
          0.824,
          0.01,
          0.74,
          0.85,
          0.571,
          0.5,
          0.889,
          0.746,
          0.801,
          0.855,
          0.642,
          0.85,
          0.769,
          0.781,
          0.793,
          0.826,
          0.85,
          0.7,
          0.771,
          0.784,
          0.753,
          0.571,
          0.714,
          0.583,
          0.692,
          0.5,
          0.732,
          0.737,
          0.481,
          0.707,
          0.816,
          0.806,
          0.827,
          0.875,
          0.506,
          0.684,
          0.667,
          0.8,
          0.5,
          0.814,
          0.837,
          0.863,
          0.73,
          0.735,
          0.616,
          0.868,
          0,
          0.79,
          0.761,
          0.838,
          0.677,
          0.853,
          0.788,
          0.661,
          0.5,
          0.821,
          0.708,
          0.903,
          0.865,
          0.785,
          0.719,
          0.722,
          0.848,
          0.732,
          0.87,
          0.787,
          0.688,
          0.726,
          0.01,
          0.6,
          0.859,
          0.693,
          0.636,
          0.811,
          0.68,
          0.592,
          0.713,
          0.815,
          0.633,
          0.581,
          0.679,
          0.826,
          0.889,
          0.797,
          0.763,
          0.7,
          0.873,
          0.818,
          0.83,
          0.815,
          0.779,
          0.5,
          0.694,
          0.728,
          0.944,
          0.661,
          0.602,
          0.745,
          0.917,
          0.679,
          0.683,
          0.691,
          0.702,
          0.716,
          0.879,
          0.679,
          0.833,
          0.5,
          0.688,
          0.857,
          0.667,
          0.885,
          0.872,
          0.75,
          0.667,
          0.867,
          0.902,
          0,
          0.71,
          0.773,
          0,
          0.5,
          0.907,
          0.84,
          0.756,
          0.702,
          0.578,
          0.774,
          0.762,
          0.588,
          0.679,
          0,
          0.722,
          0.783,
          0.67,
          0.01,
          0.856,
          0.8,
          0.833,
          0.61,
          0.75,
          0.621,
          0.622,
          0.759,
          0.602,
          0.804,
          0.786,
          0.655,
          0.545,
          0.01,
          0.818,
          0.735,
          0.01,
          0.588,
          0.783,
          0.789,
          0.75,
          0.68,
          0,
          0.605,
          0,
          0.822,
          0.722,
          0.714,
          0.906,
          0.778,
          0.571,
          0.849,
          0,
          0.491,
          0.75,
          0.833,
          0.75,
          0.01,
          0.8,
          0.538,
          0.763,
          0.741,
          0.667,
          0.75,
          0.29,
          0.643,
          0.921,
          0.288,
          0.794,
          0.808,
          0.805,
          0.81,
          0.929,
          0.806,
          0.865,
          0.752,
          0.742,
          0.537,
          0.791,
          0.44,
          0.746,
          0.556,
          0.01,
          0.667,
          0.895,
          0.639,
          0.895,
          0.75,
          0.909,
          0.86,
          0.667,
          0.697,
          0.55,
          0.789,
          0.673,
          0.01,
          0.01,
          0.76,
          0.5,
          0.765,
          0.765,
          0.776,
          0.754,
          0.857,
          0.654,
          0.783,
          0.776,
          0.75,
          0.684,
          0.929,
          0.732,
          0.861,
          0.8,
          0,
          0.5,
          0.76,
          0.75,
          0.667,
          0.561,
          0.833,
          0.758,
          0.727,
          0.625,
          0.941,
          0.652,
          0.653,
          0.746,
          0.826,
          0,
          0.01,
          0.743,
          0,
          0.5,
          0.69,
          0.906,
          0.765,
          0.833,
          0.8,
          0.69,
          0,
          0.917,
          0.667,
          0.714,
          0.75,
          0,
          0.769,
          0.72,
          0,
          0,
          0.824,
          0.68,
          0,
          0.5,
          0
         ],
         "y0": " ",
         "yaxis": "y"
        }
       ],
       "layout": {
        "legend": {
         "tracegroupgap": 0
        },
        "template": {
         "data": {
          "bar": [
           {
            "error_x": {
             "color": "#2a3f5f"
            },
            "error_y": {
             "color": "#2a3f5f"
            },
            "marker": {
             "line": {
              "color": "#E5ECF6",
              "width": 0.5
             },
             "pattern": {
              "fillmode": "overlay",
              "size": 10,
              "solidity": 0.2
             }
            },
            "type": "bar"
           }
          ],
          "barpolar": [
           {
            "marker": {
             "line": {
              "color": "#E5ECF6",
              "width": 0.5
             },
             "pattern": {
              "fillmode": "overlay",
              "size": 10,
              "solidity": 0.2
             }
            },
            "type": "barpolar"
           }
          ],
          "carpet": [
           {
            "aaxis": {
             "endlinecolor": "#2a3f5f",
             "gridcolor": "white",
             "linecolor": "white",
             "minorgridcolor": "white",
             "startlinecolor": "#2a3f5f"
            },
            "baxis": {
             "endlinecolor": "#2a3f5f",
             "gridcolor": "white",
             "linecolor": "white",
             "minorgridcolor": "white",
             "startlinecolor": "#2a3f5f"
            },
            "type": "carpet"
           }
          ],
          "choropleth": [
           {
            "colorbar": {
             "outlinewidth": 0,
             "ticks": ""
            },
            "type": "choropleth"
           }
          ],
          "contour": [
           {
            "colorbar": {
             "outlinewidth": 0,
             "ticks": ""
            },
            "colorscale": [
             [
              0,
              "#0d0887"
             ],
             [
              0.1111111111111111,
              "#46039f"
             ],
             [
              0.2222222222222222,
              "#7201a8"
             ],
             [
              0.3333333333333333,
              "#9c179e"
             ],
             [
              0.4444444444444444,
              "#bd3786"
             ],
             [
              0.5555555555555556,
              "#d8576b"
             ],
             [
              0.6666666666666666,
              "#ed7953"
             ],
             [
              0.7777777777777778,
              "#fb9f3a"
             ],
             [
              0.8888888888888888,
              "#fdca26"
             ],
             [
              1,
              "#f0f921"
             ]
            ],
            "type": "contour"
           }
          ],
          "contourcarpet": [
           {
            "colorbar": {
             "outlinewidth": 0,
             "ticks": ""
            },
            "type": "contourcarpet"
           }
          ],
          "heatmap": [
           {
            "colorbar": {
             "outlinewidth": 0,
             "ticks": ""
            },
            "colorscale": [
             [
              0,
              "#0d0887"
             ],
             [
              0.1111111111111111,
              "#46039f"
             ],
             [
              0.2222222222222222,
              "#7201a8"
             ],
             [
              0.3333333333333333,
              "#9c179e"
             ],
             [
              0.4444444444444444,
              "#bd3786"
             ],
             [
              0.5555555555555556,
              "#d8576b"
             ],
             [
              0.6666666666666666,
              "#ed7953"
             ],
             [
              0.7777777777777778,
              "#fb9f3a"
             ],
             [
              0.8888888888888888,
              "#fdca26"
             ],
             [
              1,
              "#f0f921"
             ]
            ],
            "type": "heatmap"
           }
          ],
          "heatmapgl": [
           {
            "colorbar": {
             "outlinewidth": 0,
             "ticks": ""
            },
            "colorscale": [
             [
              0,
              "#0d0887"
             ],
             [
              0.1111111111111111,
              "#46039f"
             ],
             [
              0.2222222222222222,
              "#7201a8"
             ],
             [
              0.3333333333333333,
              "#9c179e"
             ],
             [
              0.4444444444444444,
              "#bd3786"
             ],
             [
              0.5555555555555556,
              "#d8576b"
             ],
             [
              0.6666666666666666,
              "#ed7953"
             ],
             [
              0.7777777777777778,
              "#fb9f3a"
             ],
             [
              0.8888888888888888,
              "#fdca26"
             ],
             [
              1,
              "#f0f921"
             ]
            ],
            "type": "heatmapgl"
           }
          ],
          "histogram": [
           {
            "marker": {
             "pattern": {
              "fillmode": "overlay",
              "size": 10,
              "solidity": 0.2
             }
            },
            "type": "histogram"
           }
          ],
          "histogram2d": [
           {
            "colorbar": {
             "outlinewidth": 0,
             "ticks": ""
            },
            "colorscale": [
             [
              0,
              "#0d0887"
             ],
             [
              0.1111111111111111,
              "#46039f"
             ],
             [
              0.2222222222222222,
              "#7201a8"
             ],
             [
              0.3333333333333333,
              "#9c179e"
             ],
             [
              0.4444444444444444,
              "#bd3786"
             ],
             [
              0.5555555555555556,
              "#d8576b"
             ],
             [
              0.6666666666666666,
              "#ed7953"
             ],
             [
              0.7777777777777778,
              "#fb9f3a"
             ],
             [
              0.8888888888888888,
              "#fdca26"
             ],
             [
              1,
              "#f0f921"
             ]
            ],
            "type": "histogram2d"
           }
          ],
          "histogram2dcontour": [
           {
            "colorbar": {
             "outlinewidth": 0,
             "ticks": ""
            },
            "colorscale": [
             [
              0,
              "#0d0887"
             ],
             [
              0.1111111111111111,
              "#46039f"
             ],
             [
              0.2222222222222222,
              "#7201a8"
             ],
             [
              0.3333333333333333,
              "#9c179e"
             ],
             [
              0.4444444444444444,
              "#bd3786"
             ],
             [
              0.5555555555555556,
              "#d8576b"
             ],
             [
              0.6666666666666666,
              "#ed7953"
             ],
             [
              0.7777777777777778,
              "#fb9f3a"
             ],
             [
              0.8888888888888888,
              "#fdca26"
             ],
             [
              1,
              "#f0f921"
             ]
            ],
            "type": "histogram2dcontour"
           }
          ],
          "mesh3d": [
           {
            "colorbar": {
             "outlinewidth": 0,
             "ticks": ""
            },
            "type": "mesh3d"
           }
          ],
          "parcoords": [
           {
            "line": {
             "colorbar": {
              "outlinewidth": 0,
              "ticks": ""
             }
            },
            "type": "parcoords"
           }
          ],
          "pie": [
           {
            "automargin": true,
            "type": "pie"
           }
          ],
          "scatter": [
           {
            "fillpattern": {
             "fillmode": "overlay",
             "size": 10,
             "solidity": 0.2
            },
            "type": "scatter"
           }
          ],
          "scatter3d": [
           {
            "line": {
             "colorbar": {
              "outlinewidth": 0,
              "ticks": ""
             }
            },
            "marker": {
             "colorbar": {
              "outlinewidth": 0,
              "ticks": ""
             }
            },
            "type": "scatter3d"
           }
          ],
          "scattercarpet": [
           {
            "marker": {
             "colorbar": {
              "outlinewidth": 0,
              "ticks": ""
             }
            },
            "type": "scattercarpet"
           }
          ],
          "scattergeo": [
           {
            "marker": {
             "colorbar": {
              "outlinewidth": 0,
              "ticks": ""
             }
            },
            "type": "scattergeo"
           }
          ],
          "scattergl": [
           {
            "marker": {
             "colorbar": {
              "outlinewidth": 0,
              "ticks": ""
             }
            },
            "type": "scattergl"
           }
          ],
          "scattermapbox": [
           {
            "marker": {
             "colorbar": {
              "outlinewidth": 0,
              "ticks": ""
             }
            },
            "type": "scattermapbox"
           }
          ],
          "scatterpolar": [
           {
            "marker": {
             "colorbar": {
              "outlinewidth": 0,
              "ticks": ""
             }
            },
            "type": "scatterpolar"
           }
          ],
          "scatterpolargl": [
           {
            "marker": {
             "colorbar": {
              "outlinewidth": 0,
              "ticks": ""
             }
            },
            "type": "scatterpolargl"
           }
          ],
          "scatterternary": [
           {
            "marker": {
             "colorbar": {
              "outlinewidth": 0,
              "ticks": ""
             }
            },
            "type": "scatterternary"
           }
          ],
          "surface": [
           {
            "colorbar": {
             "outlinewidth": 0,
             "ticks": ""
            },
            "colorscale": [
             [
              0,
              "#0d0887"
             ],
             [
              0.1111111111111111,
              "#46039f"
             ],
             [
              0.2222222222222222,
              "#7201a8"
             ],
             [
              0.3333333333333333,
              "#9c179e"
             ],
             [
              0.4444444444444444,
              "#bd3786"
             ],
             [
              0.5555555555555556,
              "#d8576b"
             ],
             [
              0.6666666666666666,
              "#ed7953"
             ],
             [
              0.7777777777777778,
              "#fb9f3a"
             ],
             [
              0.8888888888888888,
              "#fdca26"
             ],
             [
              1,
              "#f0f921"
             ]
            ],
            "type": "surface"
           }
          ],
          "table": [
           {
            "cells": {
             "fill": {
              "color": "#EBF0F8"
             },
             "line": {
              "color": "white"
             }
            },
            "header": {
             "fill": {
              "color": "#C8D4E3"
             },
             "line": {
              "color": "white"
             }
            },
            "type": "table"
           }
          ]
         },
         "layout": {
          "annotationdefaults": {
           "arrowcolor": "#2a3f5f",
           "arrowhead": 0,
           "arrowwidth": 1
          },
          "autotypenumbers": "strict",
          "coloraxis": {
           "colorbar": {
            "outlinewidth": 0,
            "ticks": ""
           }
          },
          "colorscale": {
           "diverging": [
            [
             0,
             "#8e0152"
            ],
            [
             0.1,
             "#c51b7d"
            ],
            [
             0.2,
             "#de77ae"
            ],
            [
             0.3,
             "#f1b6da"
            ],
            [
             0.4,
             "#fde0ef"
            ],
            [
             0.5,
             "#f7f7f7"
            ],
            [
             0.6,
             "#e6f5d0"
            ],
            [
             0.7,
             "#b8e186"
            ],
            [
             0.8,
             "#7fbc41"
            ],
            [
             0.9,
             "#4d9221"
            ],
            [
             1,
             "#276419"
            ]
           ],
           "sequential": [
            [
             0,
             "#0d0887"
            ],
            [
             0.1111111111111111,
             "#46039f"
            ],
            [
             0.2222222222222222,
             "#7201a8"
            ],
            [
             0.3333333333333333,
             "#9c179e"
            ],
            [
             0.4444444444444444,
             "#bd3786"
            ],
            [
             0.5555555555555556,
             "#d8576b"
            ],
            [
             0.6666666666666666,
             "#ed7953"
            ],
            [
             0.7777777777777778,
             "#fb9f3a"
            ],
            [
             0.8888888888888888,
             "#fdca26"
            ],
            [
             1,
             "#f0f921"
            ]
           ],
           "sequentialminus": [
            [
             0,
             "#0d0887"
            ],
            [
             0.1111111111111111,
             "#46039f"
            ],
            [
             0.2222222222222222,
             "#7201a8"
            ],
            [
             0.3333333333333333,
             "#9c179e"
            ],
            [
             0.4444444444444444,
             "#bd3786"
            ],
            [
             0.5555555555555556,
             "#d8576b"
            ],
            [
             0.6666666666666666,
             "#ed7953"
            ],
            [
             0.7777777777777778,
             "#fb9f3a"
            ],
            [
             0.8888888888888888,
             "#fdca26"
            ],
            [
             1,
             "#f0f921"
            ]
           ]
          },
          "colorway": [
           "#636efa",
           "#EF553B",
           "#00cc96",
           "#ab63fa",
           "#FFA15A",
           "#19d3f3",
           "#FF6692",
           "#B6E880",
           "#FF97FF",
           "#FECB52"
          ],
          "font": {
           "color": "#2a3f5f"
          },
          "geo": {
           "bgcolor": "white",
           "lakecolor": "white",
           "landcolor": "#E5ECF6",
           "showlakes": true,
           "showland": true,
           "subunitcolor": "white"
          },
          "hoverlabel": {
           "align": "left"
          },
          "hovermode": "closest",
          "mapbox": {
           "style": "light"
          },
          "paper_bgcolor": "white",
          "plot_bgcolor": "#E5ECF6",
          "polar": {
           "angularaxis": {
            "gridcolor": "white",
            "linecolor": "white",
            "ticks": ""
           },
           "bgcolor": "#E5ECF6",
           "radialaxis": {
            "gridcolor": "white",
            "linecolor": "white",
            "ticks": ""
           }
          },
          "scene": {
           "xaxis": {
            "backgroundcolor": "#E5ECF6",
            "gridcolor": "white",
            "gridwidth": 2,
            "linecolor": "white",
            "showbackground": true,
            "ticks": "",
            "zerolinecolor": "white"
           },
           "yaxis": {
            "backgroundcolor": "#E5ECF6",
            "gridcolor": "white",
            "gridwidth": 2,
            "linecolor": "white",
            "showbackground": true,
            "ticks": "",
            "zerolinecolor": "white"
           },
           "zaxis": {
            "backgroundcolor": "#E5ECF6",
            "gridcolor": "white",
            "gridwidth": 2,
            "linecolor": "white",
            "showbackground": true,
            "ticks": "",
            "zerolinecolor": "white"
           }
          },
          "shapedefaults": {
           "line": {
            "color": "#2a3f5f"
           }
          },
          "ternary": {
           "aaxis": {
            "gridcolor": "white",
            "linecolor": "white",
            "ticks": ""
           },
           "baxis": {
            "gridcolor": "white",
            "linecolor": "white",
            "ticks": ""
           },
           "bgcolor": "#E5ECF6",
           "caxis": {
            "gridcolor": "white",
            "linecolor": "white",
            "ticks": ""
           }
          },
          "title": {
           "x": 0.05
          },
          "xaxis": {
           "automargin": true,
           "gridcolor": "white",
           "linecolor": "white",
           "ticks": "",
           "title": {
            "standoff": 15
           },
           "zerolinecolor": "white",
           "zerolinewidth": 2
          },
          "yaxis": {
           "automargin": true,
           "gridcolor": "white",
           "linecolor": "white",
           "ticks": "",
           "title": {
            "standoff": 15
           },
           "zerolinecolor": "white",
           "zerolinewidth": 2
          }
         }
        },
        "title": {
         "text": "Comparison of Free Throw Percentages by Team"
        },
        "violinmode": "group",
        "xaxis": {
         "anchor": "y",
         "domain": [
          0,
          1
         ],
         "title": {
          "text": "Team"
         }
        },
        "yaxis": {
         "anchor": "x",
         "domain": [
          0,
          1
         ],
         "title": {
          "text": "Free Throw Percentage"
         }
        }
       }
      }
     },
     "metadata": {},
     "output_type": "display_data"
    }
   ],
   "source": [
    "fig = px.violin(SS, x='slugTeamBREF', y='pctFT', \n",
    "                title='Comparison of Free Throw Percentages by Team',\n",
    "                labels={'slugTeamBREF': 'Team', 'pctFT': 'Free Throw Percentage'},\n",
    "                hover_data=['namePlayer'])\n",
    "fig.show()\n"
   ]
  },
  {
   "cell_type": "code",
   "execution_count": null,
   "metadata": {},
   "outputs": [],
   "source": []
  }
 ],
 "metadata": {
  "kernelspec": {
   "display_name": "Python 3 (ipykernel)",
   "language": "python",
   "name": "python3"
  },
  "language_info": {
   "codemirror_mode": {
    "name": "ipython",
    "version": 3
   },
   "file_extension": ".py",
   "mimetype": "text/x-python",
   "name": "python",
   "nbconvert_exporter": "python",
   "pygments_lexer": "ipython3",
   "version": "3.9.6"
  }
 },
 "nbformat": 4,
 "nbformat_minor": 4
}
