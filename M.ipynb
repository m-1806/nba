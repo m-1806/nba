{
 "cells": [
  {
   "cell_type": "markdown",
   "metadata": {},
   "source": [
    "# Nombre del tema"
   ]
  },
  {
   "cell_type": "markdown",
   "metadata": {},
   "source": [
    "# Objetivo\n",
    "bl BLA BLA"
   ]
  },
  {
   "cell_type": "markdown",
   "metadata": {},
   "source": [
    "# Dataset"
   ]
  },
  {
   "cell_type": "code",
   "execution_count": 59,
   "metadata": {},
   "outputs": [],
   "source": [
    "import numpy as np \n",
    "import pandas as pd \n",
    "import plotly.express as px\n",
    "\n",
    "# Cargamos los dataframes\n",
    "salary = pd.read_csv(\"SALARY.csv\")\n",
    "stats = pd.read_csv(\"DATAT2.csv\")\n",
    "\n",
    "# Función para poder visualizar todas las columnas dentro del notebook\n",
    "pd.set_option('display.max_columns', None)"
   ]
  },
  {
   "cell_type": "code",
   "execution_count": 60,
   "metadata": {},
   "outputs": [
    {
     "name": "stdout",
     "output_type": "stream",
     "text": [
      "salary:\n",
      " Index(['Unnamed: 0', 'Unnamed: 1', 'Unnamed: 2', 'Salary', 'Salary.1',\n",
      "       'Salary.2', 'Salary.3', 'Salary.4', 'Salary.5', 'Unnamed: 9',\n",
      "       '-additional'],\n",
      "      dtype='object')\n",
      "stats:\n",
      " Index(['Unnamed: 0', 'slugSeason', 'yearSeason', 'isSeasonCurrent',\n",
      "       'slugPlayerSeason', 'slugPlayerBREF', 'namePlayer', 'slugPosition',\n",
      "       'agePlayer', 'slugTeamBREF', 'countGames', 'countGamesStarted', 'pctFG',\n",
      "       'pctFG3', 'pctFG2', 'pctEFG', 'pctFT', 'isHOFPlayer', 'slugTeamsBREF',\n",
      "       'idPlayerNBA', 'urlPlayerThumbnail', 'urlPlayerHeadshot',\n",
      "       'urlPlayerPhoto', 'urlPlayerStats', 'urlPlayerActionPhoto',\n",
      "       'minutesTotals', 'fgmTotals', 'fgaTotals', 'fg3mTotals', 'fg3aTotals',\n",
      "       'fg2mTotals', 'fg2aTotals', 'ftmTotals', 'ftaTotals', 'orbTotals',\n",
      "       'drbTotals', 'trbTotals', 'astTotals', 'stlTotals', 'blkTotals',\n",
      "       'tovTotals', 'pfTotals', 'ptsTotals', 'countTeamsPlayerSeasonTotals'],\n",
      "      dtype='object')\n"
     ]
    }
   ],
   "source": [
    "# Index, Player, Equipo, 2023-24, 2024-25, 2025-26, 2026-27, 2027-28, 2028-29, Total, slugPlayerBREF\n",
    "print(\"salary:\\n\", salary.columns)\n",
    "print(\"stats:\\n\", stats.columns)"
   ]
  },
  {
   "cell_type": "code",
   "execution_count": 61,
   "metadata": {},
   "outputs": [
    {
     "data": {
      "text/html": [
       "<div>\n",
       "<style scoped>\n",
       "    .dataframe tbody tr th:only-of-type {\n",
       "        vertical-align: middle;\n",
       "    }\n",
       "\n",
       "    .dataframe tbody tr th {\n",
       "        vertical-align: top;\n",
       "    }\n",
       "\n",
       "    .dataframe thead th {\n",
       "        text-align: right;\n",
       "    }\n",
       "</style>\n",
       "<table border=\"1\" class=\"dataframe\">\n",
       "  <thead>\n",
       "    <tr style=\"text-align: right;\">\n",
       "      <th></th>\n",
       "      <th>Unnamed: 0</th>\n",
       "      <th>Unnamed: 1</th>\n",
       "      <th>Unnamed: 2</th>\n",
       "      <th>Salary</th>\n",
       "      <th>Salary.1</th>\n",
       "      <th>Salary.2</th>\n",
       "      <th>Salary.3</th>\n",
       "      <th>Salary.4</th>\n",
       "      <th>Salary.5</th>\n",
       "      <th>Unnamed: 9</th>\n",
       "      <th>-additional</th>\n",
       "    </tr>\n",
       "  </thead>\n",
       "  <tbody>\n",
       "    <tr>\n",
       "      <th>0</th>\n",
       "      <td>Rk</td>\n",
       "      <td>Player</td>\n",
       "      <td>Tm</td>\n",
       "      <td>2023-24</td>\n",
       "      <td>2024-25</td>\n",
       "      <td>2025-26</td>\n",
       "      <td>2026-27</td>\n",
       "      <td>2027-28</td>\n",
       "      <td>2028-29</td>\n",
       "      <td>Guaranteed</td>\n",
       "      <td>-9999</td>\n",
       "    </tr>\n",
       "    <tr>\n",
       "      <th>1</th>\n",
       "      <td>NaN</td>\n",
       "      <td>NaN</td>\n",
       "      <td>NaN</td>\n",
       "      <td>NaN</td>\n",
       "      <td>NaN</td>\n",
       "      <td>NaN</td>\n",
       "      <td>NaN</td>\n",
       "      <td>NaN</td>\n",
       "      <td>NaN</td>\n",
       "      <td>NaN</td>\n",
       "      <td>-9999</td>\n",
       "    </tr>\n",
       "    <tr>\n",
       "      <th>2</th>\n",
       "      <td>1</td>\n",
       "      <td>Stephen Curry</td>\n",
       "      <td>GSW</td>\n",
       "      <td>$51915615</td>\n",
       "      <td>$55761216</td>\n",
       "      <td>$59606817</td>\n",
       "      <td>NaN</td>\n",
       "      <td>NaN</td>\n",
       "      <td>NaN</td>\n",
       "      <td>$167283648</td>\n",
       "      <td>curryst01</td>\n",
       "    </tr>\n",
       "    <tr>\n",
       "      <th>3</th>\n",
       "      <td>2</td>\n",
       "      <td>Kevin Durant</td>\n",
       "      <td>PHO</td>\n",
       "      <td>$47649433</td>\n",
       "      <td>$51179021</td>\n",
       "      <td>$54708609</td>\n",
       "      <td>NaN</td>\n",
       "      <td>NaN</td>\n",
       "      <td>NaN</td>\n",
       "      <td>$153537063</td>\n",
       "      <td>duranke01</td>\n",
       "    </tr>\n",
       "  </tbody>\n",
       "</table>\n",
       "</div>"
      ],
      "text/plain": [
       "  Unnamed: 0     Unnamed: 1 Unnamed: 2     Salary   Salary.1   Salary.2  \\\n",
       "0         Rk         Player         Tm    2023-24    2024-25    2025-26   \n",
       "1        NaN            NaN        NaN        NaN        NaN        NaN   \n",
       "2          1  Stephen Curry        GSW  $51915615  $55761216  $59606817   \n",
       "3          2   Kevin Durant        PHO  $47649433  $51179021  $54708609   \n",
       "\n",
       "  Salary.3 Salary.4 Salary.5  Unnamed: 9 -additional  \n",
       "0  2026-27  2027-28  2028-29  Guaranteed       -9999  \n",
       "1      NaN      NaN      NaN         NaN       -9999  \n",
       "2      NaN      NaN      NaN  $167283648   curryst01  \n",
       "3      NaN      NaN      NaN  $153537063   duranke01  "
      ]
     },
     "execution_count": 61,
     "metadata": {},
     "output_type": "execute_result"
    }
   ],
   "source": [
    "salary.head(4)"
   ]
  },
  {
   "cell_type": "markdown",
   "metadata": {},
   "source": [
    "<holamundo>"
   ]
  },
  {
   "cell_type": "code",
   "execution_count": 62,
   "metadata": {},
   "outputs": [
    {
     "data": {
      "text/html": [
       "<div>\n",
       "<style scoped>\n",
       "    .dataframe tbody tr th:only-of-type {\n",
       "        vertical-align: middle;\n",
       "    }\n",
       "\n",
       "    .dataframe tbody tr th {\n",
       "        vertical-align: top;\n",
       "    }\n",
       "\n",
       "    .dataframe thead th {\n",
       "        text-align: right;\n",
       "    }\n",
       "</style>\n",
       "<table border=\"1\" class=\"dataframe\">\n",
       "  <thead>\n",
       "    <tr style=\"text-align: right;\">\n",
       "      <th></th>\n",
       "      <th>Unnamed: 0</th>\n",
       "      <th>slugSeason</th>\n",
       "      <th>yearSeason</th>\n",
       "      <th>isSeasonCurrent</th>\n",
       "      <th>slugPlayerSeason</th>\n",
       "      <th>slugPlayerBREF</th>\n",
       "      <th>namePlayer</th>\n",
       "      <th>slugPosition</th>\n",
       "      <th>agePlayer</th>\n",
       "      <th>slugTeamBREF</th>\n",
       "      <th>countGames</th>\n",
       "      <th>countGamesStarted</th>\n",
       "      <th>pctFG</th>\n",
       "      <th>pctFG3</th>\n",
       "      <th>pctFG2</th>\n",
       "      <th>pctEFG</th>\n",
       "      <th>pctFT</th>\n",
       "      <th>isHOFPlayer</th>\n",
       "      <th>slugTeamsBREF</th>\n",
       "      <th>idPlayerNBA</th>\n",
       "      <th>urlPlayerThumbnail</th>\n",
       "      <th>urlPlayerHeadshot</th>\n",
       "      <th>urlPlayerPhoto</th>\n",
       "      <th>urlPlayerStats</th>\n",
       "      <th>urlPlayerActionPhoto</th>\n",
       "      <th>minutesTotals</th>\n",
       "      <th>fgmTotals</th>\n",
       "      <th>fgaTotals</th>\n",
       "      <th>fg3mTotals</th>\n",
       "      <th>fg3aTotals</th>\n",
       "      <th>fg2mTotals</th>\n",
       "      <th>fg2aTotals</th>\n",
       "      <th>ftmTotals</th>\n",
       "      <th>ftaTotals</th>\n",
       "      <th>orbTotals</th>\n",
       "      <th>drbTotals</th>\n",
       "      <th>trbTotals</th>\n",
       "      <th>astTotals</th>\n",
       "      <th>stlTotals</th>\n",
       "      <th>blkTotals</th>\n",
       "      <th>tovTotals</th>\n",
       "      <th>pfTotals</th>\n",
       "      <th>ptsTotals</th>\n",
       "      <th>countTeamsPlayerSeasonTotals</th>\n",
       "    </tr>\n",
       "  </thead>\n",
       "  <tbody>\n",
       "    <tr>\n",
       "      <th>0</th>\n",
       "      <td>1</td>\n",
       "      <td>2023-24</td>\n",
       "      <td>2023</td>\n",
       "      <td>False</td>\n",
       "      <td>achiupr01_2024</td>\n",
       "      <td>achiupr01</td>\n",
       "      <td>Precious Achiuwa</td>\n",
       "      <td>PF-C</td>\n",
       "      <td>24</td>\n",
       "      <td>TOT</td>\n",
       "      <td>74</td>\n",
       "      <td>18</td>\n",
       "      <td>0.501</td>\n",
       "      <td>0.268</td>\n",
       "      <td>0.562</td>\n",
       "      <td>0.529</td>\n",
       "      <td>0.616</td>\n",
       "      <td>False</td>\n",
       "      <td>TOR | NYK</td>\n",
       "      <td>1630173.0</td>\n",
       "      <td>https://ak-static.cms.nba.com/wp-content/uploa...</td>\n",
       "      <td>https://ak-static.cms.nba.com/wp-content/uploa...</td>\n",
       "      <td>https://stats.nba.com/media/img/league/nba-hea...</td>\n",
       "      <td>https://stats.nba.com/player/1630173</td>\n",
       "      <td>https://stats.nba.com/media/players/700/163017...</td>\n",
       "      <td>1624</td>\n",
       "      <td>235</td>\n",
       "      <td>469</td>\n",
       "      <td>26</td>\n",
       "      <td>97</td>\n",
       "      <td>209</td>\n",
       "      <td>372</td>\n",
       "      <td>69</td>\n",
       "      <td>112</td>\n",
       "      <td>191</td>\n",
       "      <td>296</td>\n",
       "      <td>487</td>\n",
       "      <td>97</td>\n",
       "      <td>46</td>\n",
       "      <td>68</td>\n",
       "      <td>83</td>\n",
       "      <td>143</td>\n",
       "      <td>565</td>\n",
       "      <td>1</td>\n",
       "    </tr>\n",
       "    <tr>\n",
       "      <th>1</th>\n",
       "      <td>2</td>\n",
       "      <td>2023-24</td>\n",
       "      <td>2023</td>\n",
       "      <td>False</td>\n",
       "      <td>adebaba01_2024</td>\n",
       "      <td>adebaba01</td>\n",
       "      <td>Bam Adebayo</td>\n",
       "      <td>C</td>\n",
       "      <td>26</td>\n",
       "      <td>MIA</td>\n",
       "      <td>71</td>\n",
       "      <td>71</td>\n",
       "      <td>0.521</td>\n",
       "      <td>0.357</td>\n",
       "      <td>0.528</td>\n",
       "      <td>0.529</td>\n",
       "      <td>0.755</td>\n",
       "      <td>False</td>\n",
       "      <td>MIA</td>\n",
       "      <td>1628389.0</td>\n",
       "      <td>https://ak-static.cms.nba.com/wp-content/uploa...</td>\n",
       "      <td>https://ak-static.cms.nba.com/wp-content/uploa...</td>\n",
       "      <td>https://ak-static.cms.nba.com/wp-content/uploa...</td>\n",
       "      <td>https://stats.nba.com/player/1628389</td>\n",
       "      <td>https://stats.nba.com/media/players/700/162838...</td>\n",
       "      <td>2416</td>\n",
       "      <td>530</td>\n",
       "      <td>1017</td>\n",
       "      <td>15</td>\n",
       "      <td>42</td>\n",
       "      <td>515</td>\n",
       "      <td>975</td>\n",
       "      <td>292</td>\n",
       "      <td>387</td>\n",
       "      <td>159</td>\n",
       "      <td>578</td>\n",
       "      <td>737</td>\n",
       "      <td>278</td>\n",
       "      <td>81</td>\n",
       "      <td>66</td>\n",
       "      <td>162</td>\n",
       "      <td>159</td>\n",
       "      <td>1367</td>\n",
       "      <td>1</td>\n",
       "    </tr>\n",
       "    <tr>\n",
       "      <th>2</th>\n",
       "      <td>3</td>\n",
       "      <td>2023-24</td>\n",
       "      <td>2023</td>\n",
       "      <td>False</td>\n",
       "      <td>agbajoc01_2024</td>\n",
       "      <td>agbajoc01</td>\n",
       "      <td>Ochai Agbaji</td>\n",
       "      <td>SG</td>\n",
       "      <td>23</td>\n",
       "      <td>TOT</td>\n",
       "      <td>78</td>\n",
       "      <td>28</td>\n",
       "      <td>0.411</td>\n",
       "      <td>0.294</td>\n",
       "      <td>0.523</td>\n",
       "      <td>0.483</td>\n",
       "      <td>0.661</td>\n",
       "      <td>False</td>\n",
       "      <td>UTA | TOR</td>\n",
       "      <td>1630534.0</td>\n",
       "      <td>https://ak-static.cms.nba.com/wp-content/uploa...</td>\n",
       "      <td>https://ak-static.cms.nba.com/wp-content/uploa...</td>\n",
       "      <td>https://stats.nba.com/media/img/league/nba-hea...</td>\n",
       "      <td>https://stats.nba.com/player/1630534</td>\n",
       "      <td>https://stats.nba.com/media/players/700/163053...</td>\n",
       "      <td>1641</td>\n",
       "      <td>178</td>\n",
       "      <td>433</td>\n",
       "      <td>62</td>\n",
       "      <td>211</td>\n",
       "      <td>116</td>\n",
       "      <td>222</td>\n",
       "      <td>37</td>\n",
       "      <td>56</td>\n",
       "      <td>74</td>\n",
       "      <td>142</td>\n",
       "      <td>216</td>\n",
       "      <td>83</td>\n",
       "      <td>47</td>\n",
       "      <td>44</td>\n",
       "      <td>64</td>\n",
       "      <td>117</td>\n",
       "      <td>455</td>\n",
       "      <td>1</td>\n",
       "    </tr>\n",
       "    <tr>\n",
       "      <th>3</th>\n",
       "      <td>4</td>\n",
       "      <td>2023-24</td>\n",
       "      <td>2023</td>\n",
       "      <td>False</td>\n",
       "      <td>aldamsa01_2024</td>\n",
       "      <td>aldamsa01</td>\n",
       "      <td>Santi Aldama</td>\n",
       "      <td>PF</td>\n",
       "      <td>23</td>\n",
       "      <td>MEM</td>\n",
       "      <td>61</td>\n",
       "      <td>35</td>\n",
       "      <td>0.435</td>\n",
       "      <td>0.349</td>\n",
       "      <td>0.534</td>\n",
       "      <td>0.528</td>\n",
       "      <td>0.621</td>\n",
       "      <td>False</td>\n",
       "      <td>MEM</td>\n",
       "      <td>1630583.0</td>\n",
       "      <td>https://ak-static.cms.nba.com/wp-content/uploa...</td>\n",
       "      <td>https://ak-static.cms.nba.com/wp-content/uploa...</td>\n",
       "      <td>https://stats.nba.com/media/img/league/nba-hea...</td>\n",
       "      <td>https://stats.nba.com/player/1630583</td>\n",
       "      <td>https://stats.nba.com/media/players/700/163058...</td>\n",
       "      <td>1618</td>\n",
       "      <td>247</td>\n",
       "      <td>568</td>\n",
       "      <td>106</td>\n",
       "      <td>304</td>\n",
       "      <td>141</td>\n",
       "      <td>264</td>\n",
       "      <td>54</td>\n",
       "      <td>87</td>\n",
       "      <td>72</td>\n",
       "      <td>280</td>\n",
       "      <td>352</td>\n",
       "      <td>138</td>\n",
       "      <td>43</td>\n",
       "      <td>54</td>\n",
       "      <td>69</td>\n",
       "      <td>89</td>\n",
       "      <td>654</td>\n",
       "      <td>1</td>\n",
       "    </tr>\n",
       "  </tbody>\n",
       "</table>\n",
       "</div>"
      ],
      "text/plain": [
       "   Unnamed: 0 slugSeason  yearSeason  isSeasonCurrent slugPlayerSeason  \\\n",
       "0           1    2023-24        2023            False   achiupr01_2024   \n",
       "1           2    2023-24        2023            False   adebaba01_2024   \n",
       "2           3    2023-24        2023            False   agbajoc01_2024   \n",
       "3           4    2023-24        2023            False   aldamsa01_2024   \n",
       "\n",
       "  slugPlayerBREF        namePlayer slugPosition  agePlayer slugTeamBREF  \\\n",
       "0      achiupr01  Precious Achiuwa         PF-C         24          TOT   \n",
       "1      adebaba01       Bam Adebayo            C         26          MIA   \n",
       "2      agbajoc01      Ochai Agbaji           SG         23          TOT   \n",
       "3      aldamsa01      Santi Aldama           PF         23          MEM   \n",
       "\n",
       "   countGames  countGamesStarted  pctFG  pctFG3  pctFG2  pctEFG  pctFT  \\\n",
       "0          74                 18  0.501   0.268   0.562   0.529  0.616   \n",
       "1          71                 71  0.521   0.357   0.528   0.529  0.755   \n",
       "2          78                 28  0.411   0.294   0.523   0.483  0.661   \n",
       "3          61                 35  0.435   0.349   0.534   0.528  0.621   \n",
       "\n",
       "   isHOFPlayer slugTeamsBREF  idPlayerNBA  \\\n",
       "0        False     TOR | NYK    1630173.0   \n",
       "1        False           MIA    1628389.0   \n",
       "2        False     UTA | TOR    1630534.0   \n",
       "3        False           MEM    1630583.0   \n",
       "\n",
       "                                  urlPlayerThumbnail  \\\n",
       "0  https://ak-static.cms.nba.com/wp-content/uploa...   \n",
       "1  https://ak-static.cms.nba.com/wp-content/uploa...   \n",
       "2  https://ak-static.cms.nba.com/wp-content/uploa...   \n",
       "3  https://ak-static.cms.nba.com/wp-content/uploa...   \n",
       "\n",
       "                                   urlPlayerHeadshot  \\\n",
       "0  https://ak-static.cms.nba.com/wp-content/uploa...   \n",
       "1  https://ak-static.cms.nba.com/wp-content/uploa...   \n",
       "2  https://ak-static.cms.nba.com/wp-content/uploa...   \n",
       "3  https://ak-static.cms.nba.com/wp-content/uploa...   \n",
       "\n",
       "                                      urlPlayerPhoto  \\\n",
       "0  https://stats.nba.com/media/img/league/nba-hea...   \n",
       "1  https://ak-static.cms.nba.com/wp-content/uploa...   \n",
       "2  https://stats.nba.com/media/img/league/nba-hea...   \n",
       "3  https://stats.nba.com/media/img/league/nba-hea...   \n",
       "\n",
       "                         urlPlayerStats  \\\n",
       "0  https://stats.nba.com/player/1630173   \n",
       "1  https://stats.nba.com/player/1628389   \n",
       "2  https://stats.nba.com/player/1630534   \n",
       "3  https://stats.nba.com/player/1630583   \n",
       "\n",
       "                                urlPlayerActionPhoto  minutesTotals  \\\n",
       "0  https://stats.nba.com/media/players/700/163017...           1624   \n",
       "1  https://stats.nba.com/media/players/700/162838...           2416   \n",
       "2  https://stats.nba.com/media/players/700/163053...           1641   \n",
       "3  https://stats.nba.com/media/players/700/163058...           1618   \n",
       "\n",
       "   fgmTotals  fgaTotals  fg3mTotals  fg3aTotals  fg2mTotals  fg2aTotals  \\\n",
       "0        235        469          26          97         209         372   \n",
       "1        530       1017          15          42         515         975   \n",
       "2        178        433          62         211         116         222   \n",
       "3        247        568         106         304         141         264   \n",
       "\n",
       "   ftmTotals  ftaTotals  orbTotals  drbTotals  trbTotals  astTotals  \\\n",
       "0         69        112        191        296        487         97   \n",
       "1        292        387        159        578        737        278   \n",
       "2         37         56         74        142        216         83   \n",
       "3         54         87         72        280        352        138   \n",
       "\n",
       "   stlTotals  blkTotals  tovTotals  pfTotals  ptsTotals  \\\n",
       "0         46         68         83       143        565   \n",
       "1         81         66        162       159       1367   \n",
       "2         47         44         64       117        455   \n",
       "3         43         54         69        89        654   \n",
       "\n",
       "   countTeamsPlayerSeasonTotals  \n",
       "0                             1  \n",
       "1                             1  \n",
       "2                             1  \n",
       "3                             1  "
      ]
     },
     "execution_count": 62,
     "metadata": {},
     "output_type": "execute_result"
    }
   ],
   "source": [
    "stats.head(4)"
   ]
  },
  {
   "cell_type": "code",
   "execution_count": 63,
   "metadata": {},
   "outputs": [
    {
     "data": {
      "text/html": [
       "<div>\n",
       "<style scoped>\n",
       "    .dataframe tbody tr th:only-of-type {\n",
       "        vertical-align: middle;\n",
       "    }\n",
       "\n",
       "    .dataframe tbody tr th {\n",
       "        vertical-align: top;\n",
       "    }\n",
       "\n",
       "    .dataframe thead th {\n",
       "        text-align: right;\n",
       "    }\n",
       "</style>\n",
       "<table border=\"1\" class=\"dataframe\">\n",
       "  <thead>\n",
       "    <tr style=\"text-align: right;\">\n",
       "      <th></th>\n",
       "      <th>Salary</th>\n",
       "      <th>slugPlayerBREF</th>\n",
       "    </tr>\n",
       "  </thead>\n",
       "  <tbody>\n",
       "    <tr>\n",
       "      <th>0</th>\n",
       "      <td>2023-24</td>\n",
       "      <td>-9999</td>\n",
       "    </tr>\n",
       "    <tr>\n",
       "      <th>1</th>\n",
       "      <td>NaN</td>\n",
       "      <td>-9999</td>\n",
       "    </tr>\n",
       "    <tr>\n",
       "      <th>2</th>\n",
       "      <td>$51915615</td>\n",
       "      <td>curryst01</td>\n",
       "    </tr>\n",
       "    <tr>\n",
       "      <th>3</th>\n",
       "      <td>$47649433</td>\n",
       "      <td>duranke01</td>\n",
       "    </tr>\n",
       "    <tr>\n",
       "      <th>4</th>\n",
       "      <td>$47607350</td>\n",
       "      <td>jokicni01</td>\n",
       "    </tr>\n",
       "  </tbody>\n",
       "</table>\n",
       "</div>"
      ],
      "text/plain": [
       "      Salary slugPlayerBREF\n",
       "0    2023-24          -9999\n",
       "1        NaN          -9999\n",
       "2  $51915615      curryst01\n",
       "3  $47649433      duranke01\n",
       "4  $47607350      jokicni01"
      ]
     },
     "execution_count": 63,
     "metadata": {},
     "output_type": "execute_result"
    }
   ],
   "source": [
    "# Nos quedamos con la fila Salario y su slugPlayerBREF\n",
    "salary2 = salary[[\"Salary\", \"-additional\"]]\n",
    "\n",
    "# Renombramos \"-additional\" a \"slugPlayerBREF\"\n",
    "salary2 = salary2.rename(columns = {'-additional':'slugPlayerBREF'})\n",
    "salary2.head(5)"
   ]
  },
  {
   "cell_type": "code",
   "execution_count": 64,
   "metadata": {},
   "outputs": [
    {
     "data": {
      "text/html": [
       "<div>\n",
       "<style scoped>\n",
       "    .dataframe tbody tr th:only-of-type {\n",
       "        vertical-align: middle;\n",
       "    }\n",
       "\n",
       "    .dataframe tbody tr th {\n",
       "        vertical-align: top;\n",
       "    }\n",
       "\n",
       "    .dataframe thead th {\n",
       "        text-align: right;\n",
       "    }\n",
       "</style>\n",
       "<table border=\"1\" class=\"dataframe\">\n",
       "  <thead>\n",
       "    <tr style=\"text-align: right;\">\n",
       "      <th></th>\n",
       "      <th>Salary</th>\n",
       "      <th>slugPlayerBREF</th>\n",
       "    </tr>\n",
       "  </thead>\n",
       "  <tbody>\n",
       "    <tr>\n",
       "      <th>2</th>\n",
       "      <td>$51915615</td>\n",
       "      <td>curryst01</td>\n",
       "    </tr>\n",
       "    <tr>\n",
       "      <th>3</th>\n",
       "      <td>$47649433</td>\n",
       "      <td>duranke01</td>\n",
       "    </tr>\n",
       "    <tr>\n",
       "      <th>4</th>\n",
       "      <td>$47607350</td>\n",
       "      <td>jokicni01</td>\n",
       "    </tr>\n",
       "    <tr>\n",
       "      <th>5</th>\n",
       "      <td>$47607350</td>\n",
       "      <td>embiijo01</td>\n",
       "    </tr>\n",
       "    <tr>\n",
       "      <th>6</th>\n",
       "      <td>$47607350</td>\n",
       "      <td>jamesle01</td>\n",
       "    </tr>\n",
       "  </tbody>\n",
       "</table>\n",
       "</div>"
      ],
      "text/plain": [
       "      Salary slugPlayerBREF\n",
       "2  $51915615      curryst01\n",
       "3  $47649433      duranke01\n",
       "4  $47607350      jokicni01\n",
       "5  $47607350      embiijo01\n",
       "6  $47607350      jamesle01"
      ]
     },
     "execution_count": 64,
     "metadata": {},
     "output_type": "execute_result"
    }
   ],
   "source": [
    "# Quitamos filas que contengan 1 o más valores NULL\n",
    "salary2 = salary2.dropna()\n",
    "\n",
    "# Eliminamos la primera fila\n",
    "salary2 = salary2.drop([0])\n",
    "salary2.head(5)"
   ]
  },
  {
   "cell_type": "code",
   "execution_count": 65,
   "metadata": {},
   "outputs": [
    {
     "data": {
      "text/html": [
       "<div>\n",
       "<style scoped>\n",
       "    .dataframe tbody tr th:only-of-type {\n",
       "        vertical-align: middle;\n",
       "    }\n",
       "\n",
       "    .dataframe tbody tr th {\n",
       "        vertical-align: top;\n",
       "    }\n",
       "\n",
       "    .dataframe thead th {\n",
       "        text-align: right;\n",
       "    }\n",
       "</style>\n",
       "<table border=\"1\" class=\"dataframe\">\n",
       "  <thead>\n",
       "    <tr style=\"text-align: right;\">\n",
       "      <th></th>\n",
       "      <th>Salary</th>\n",
       "      <th>slugPlayerBREF</th>\n",
       "    </tr>\n",
       "  </thead>\n",
       "  <tbody>\n",
       "    <tr>\n",
       "      <th>2</th>\n",
       "      <td>51915615</td>\n",
       "      <td>curryst01</td>\n",
       "    </tr>\n",
       "    <tr>\n",
       "      <th>3</th>\n",
       "      <td>47649433</td>\n",
       "      <td>duranke01</td>\n",
       "    </tr>\n",
       "    <tr>\n",
       "      <th>4</th>\n",
       "      <td>47607350</td>\n",
       "      <td>jokicni01</td>\n",
       "    </tr>\n",
       "    <tr>\n",
       "      <th>5</th>\n",
       "      <td>47607350</td>\n",
       "      <td>embiijo01</td>\n",
       "    </tr>\n",
       "    <tr>\n",
       "      <th>6</th>\n",
       "      <td>47607350</td>\n",
       "      <td>jamesle01</td>\n",
       "    </tr>\n",
       "  </tbody>\n",
       "</table>\n",
       "</div>"
      ],
      "text/plain": [
       "     Salary slugPlayerBREF\n",
       "2  51915615      curryst01\n",
       "3  47649433      duranke01\n",
       "4  47607350      jokicni01\n",
       "5  47607350      embiijo01\n",
       "6  47607350      jamesle01"
      ]
     },
     "execution_count": 65,
     "metadata": {},
     "output_type": "execute_result"
    }
   ],
   "source": [
    "# Remover $ de la columna Salario para todas las filas\n",
    "salary2['Salary'] = salary2['Salary'].replace('[\\$]', '', regex=True).astype(int)\n",
    "salary2.head(5)"
   ]
  },
  {
   "cell_type": "code",
   "execution_count": 66,
   "metadata": {},
   "outputs": [
    {
     "data": {
      "text/html": [
       "<div>\n",
       "<style scoped>\n",
       "    .dataframe tbody tr th:only-of-type {\n",
       "        vertical-align: middle;\n",
       "    }\n",
       "\n",
       "    .dataframe tbody tr th {\n",
       "        vertical-align: top;\n",
       "    }\n",
       "\n",
       "    .dataframe thead th {\n",
       "        text-align: right;\n",
       "    }\n",
       "</style>\n",
       "<table border=\"1\" class=\"dataframe\">\n",
       "  <thead>\n",
       "    <tr style=\"text-align: right;\">\n",
       "      <th></th>\n",
       "      <th>Salary</th>\n",
       "      <th>slugPlayerBREF</th>\n",
       "      <th>Unnamed: 0</th>\n",
       "      <th>slugSeason</th>\n",
       "      <th>yearSeason</th>\n",
       "      <th>isSeasonCurrent</th>\n",
       "      <th>slugPlayerSeason</th>\n",
       "      <th>namePlayer</th>\n",
       "      <th>slugPosition</th>\n",
       "      <th>agePlayer</th>\n",
       "      <th>slugTeamBREF</th>\n",
       "      <th>countGames</th>\n",
       "      <th>countGamesStarted</th>\n",
       "      <th>pctFG</th>\n",
       "      <th>pctFG3</th>\n",
       "      <th>pctFG2</th>\n",
       "      <th>pctEFG</th>\n",
       "      <th>pctFT</th>\n",
       "      <th>isHOFPlayer</th>\n",
       "      <th>slugTeamsBREF</th>\n",
       "      <th>idPlayerNBA</th>\n",
       "      <th>urlPlayerThumbnail</th>\n",
       "      <th>urlPlayerHeadshot</th>\n",
       "      <th>urlPlayerPhoto</th>\n",
       "      <th>urlPlayerStats</th>\n",
       "      <th>urlPlayerActionPhoto</th>\n",
       "      <th>minutesTotals</th>\n",
       "      <th>fgmTotals</th>\n",
       "      <th>fgaTotals</th>\n",
       "      <th>fg3mTotals</th>\n",
       "      <th>fg3aTotals</th>\n",
       "      <th>fg2mTotals</th>\n",
       "      <th>fg2aTotals</th>\n",
       "      <th>ftmTotals</th>\n",
       "      <th>ftaTotals</th>\n",
       "      <th>orbTotals</th>\n",
       "      <th>drbTotals</th>\n",
       "      <th>trbTotals</th>\n",
       "      <th>astTotals</th>\n",
       "      <th>stlTotals</th>\n",
       "      <th>blkTotals</th>\n",
       "      <th>tovTotals</th>\n",
       "      <th>pfTotals</th>\n",
       "      <th>ptsTotals</th>\n",
       "      <th>countTeamsPlayerSeasonTotals</th>\n",
       "    </tr>\n",
       "  </thead>\n",
       "  <tbody>\n",
       "    <tr>\n",
       "      <th>0</th>\n",
       "      <td>51915615</td>\n",
       "      <td>curryst01</td>\n",
       "      <td>114</td>\n",
       "      <td>2023-24</td>\n",
       "      <td>2023</td>\n",
       "      <td>False</td>\n",
       "      <td>curryst01_2024</td>\n",
       "      <td>Stephen Curry</td>\n",
       "      <td>PG</td>\n",
       "      <td>35</td>\n",
       "      <td>GSW</td>\n",
       "      <td>74</td>\n",
       "      <td>74</td>\n",
       "      <td>0.450</td>\n",
       "      <td>0.408</td>\n",
       "      <td>0.515</td>\n",
       "      <td>0.573</td>\n",
       "      <td>0.923</td>\n",
       "      <td>False</td>\n",
       "      <td>GSW</td>\n",
       "      <td>201939.0</td>\n",
       "      <td>https://stats.nba.com/media/players/230x185/20...</td>\n",
       "      <td>https://ak-static.cms.nba.com/wp-content/uploa...</td>\n",
       "      <td>https://ak-static.cms.nba.com/wp-content/uploa...</td>\n",
       "      <td>https://stats.nba.com/player/201939</td>\n",
       "      <td>https://stats.nba.com/media/players/700/201939...</td>\n",
       "      <td>2421</td>\n",
       "      <td>650</td>\n",
       "      <td>1445</td>\n",
       "      <td>357</td>\n",
       "      <td>876</td>\n",
       "      <td>293</td>\n",
       "      <td>569</td>\n",
       "      <td>299</td>\n",
       "      <td>324</td>\n",
       "      <td>37</td>\n",
       "      <td>293</td>\n",
       "      <td>330</td>\n",
       "      <td>379</td>\n",
       "      <td>54</td>\n",
       "      <td>28</td>\n",
       "      <td>210</td>\n",
       "      <td>117</td>\n",
       "      <td>1956</td>\n",
       "      <td>1</td>\n",
       "    </tr>\n",
       "    <tr>\n",
       "      <th>1</th>\n",
       "      <td>47649433</td>\n",
       "      <td>duranke01</td>\n",
       "      <td>138</td>\n",
       "      <td>2023-24</td>\n",
       "      <td>2023</td>\n",
       "      <td>False</td>\n",
       "      <td>duranke01_2024</td>\n",
       "      <td>Kevin Durant</td>\n",
       "      <td>PF</td>\n",
       "      <td>35</td>\n",
       "      <td>PHO</td>\n",
       "      <td>75</td>\n",
       "      <td>75</td>\n",
       "      <td>0.523</td>\n",
       "      <td>0.413</td>\n",
       "      <td>0.567</td>\n",
       "      <td>0.581</td>\n",
       "      <td>0.856</td>\n",
       "      <td>False</td>\n",
       "      <td>PHO</td>\n",
       "      <td>201142.0</td>\n",
       "      <td>https://stats.nba.com/media/players/230x185/20...</td>\n",
       "      <td>https://ak-static.cms.nba.com/wp-content/uploa...</td>\n",
       "      <td>https://ak-static.cms.nba.com/wp-content/uploa...</td>\n",
       "      <td>https://stats.nba.com/player/201142</td>\n",
       "      <td>https://stats.nba.com/media/players/700/201142...</td>\n",
       "      <td>2791</td>\n",
       "      <td>751</td>\n",
       "      <td>1436</td>\n",
       "      <td>168</td>\n",
       "      <td>407</td>\n",
       "      <td>583</td>\n",
       "      <td>1029</td>\n",
       "      <td>362</td>\n",
       "      <td>423</td>\n",
       "      <td>41</td>\n",
       "      <td>454</td>\n",
       "      <td>495</td>\n",
       "      <td>378</td>\n",
       "      <td>69</td>\n",
       "      <td>91</td>\n",
       "      <td>244</td>\n",
       "      <td>133</td>\n",
       "      <td>2032</td>\n",
       "      <td>1</td>\n",
       "    </tr>\n",
       "    <tr>\n",
       "      <th>2</th>\n",
       "      <td>47607350</td>\n",
       "      <td>jokicni01</td>\n",
       "      <td>264</td>\n",
       "      <td>2023-24</td>\n",
       "      <td>2023</td>\n",
       "      <td>False</td>\n",
       "      <td>jokicni01_2024</td>\n",
       "      <td>Nikola Jokic</td>\n",
       "      <td>C</td>\n",
       "      <td>28</td>\n",
       "      <td>DEN</td>\n",
       "      <td>79</td>\n",
       "      <td>79</td>\n",
       "      <td>0.583</td>\n",
       "      <td>0.359</td>\n",
       "      <td>0.626</td>\n",
       "      <td>0.612</td>\n",
       "      <td>0.817</td>\n",
       "      <td>False</td>\n",
       "      <td>DEN</td>\n",
       "      <td>203999.0</td>\n",
       "      <td>https://stats.nba.com/media/players/230x185/20...</td>\n",
       "      <td>https://ak-static.cms.nba.com/wp-content/uploa...</td>\n",
       "      <td>https://ak-static.cms.nba.com/wp-content/uploa...</td>\n",
       "      <td>https://stats.nba.com/player/203999</td>\n",
       "      <td>https://stats.nba.com/media/players/700/203999...</td>\n",
       "      <td>2737</td>\n",
       "      <td>822</td>\n",
       "      <td>1411</td>\n",
       "      <td>83</td>\n",
       "      <td>231</td>\n",
       "      <td>739</td>\n",
       "      <td>1180</td>\n",
       "      <td>358</td>\n",
       "      <td>438</td>\n",
       "      <td>223</td>\n",
       "      <td>753</td>\n",
       "      <td>976</td>\n",
       "      <td>708</td>\n",
       "      <td>108</td>\n",
       "      <td>68</td>\n",
       "      <td>237</td>\n",
       "      <td>194</td>\n",
       "      <td>2085</td>\n",
       "      <td>1</td>\n",
       "    </tr>\n",
       "  </tbody>\n",
       "</table>\n",
       "</div>"
      ],
      "text/plain": [
       "     Salary slugPlayerBREF  Unnamed: 0 slugSeason  yearSeason  \\\n",
       "0  51915615      curryst01         114    2023-24        2023   \n",
       "1  47649433      duranke01         138    2023-24        2023   \n",
       "2  47607350      jokicni01         264    2023-24        2023   \n",
       "\n",
       "   isSeasonCurrent slugPlayerSeason     namePlayer slugPosition  agePlayer  \\\n",
       "0            False   curryst01_2024  Stephen Curry           PG         35   \n",
       "1            False   duranke01_2024   Kevin Durant           PF         35   \n",
       "2            False   jokicni01_2024   Nikola Jokic            C         28   \n",
       "\n",
       "  slugTeamBREF  countGames  countGamesStarted  pctFG  pctFG3  pctFG2  pctEFG  \\\n",
       "0          GSW          74                 74  0.450   0.408   0.515   0.573   \n",
       "1          PHO          75                 75  0.523   0.413   0.567   0.581   \n",
       "2          DEN          79                 79  0.583   0.359   0.626   0.612   \n",
       "\n",
       "   pctFT  isHOFPlayer slugTeamsBREF  idPlayerNBA  \\\n",
       "0  0.923        False           GSW     201939.0   \n",
       "1  0.856        False           PHO     201142.0   \n",
       "2  0.817        False           DEN     203999.0   \n",
       "\n",
       "                                  urlPlayerThumbnail  \\\n",
       "0  https://stats.nba.com/media/players/230x185/20...   \n",
       "1  https://stats.nba.com/media/players/230x185/20...   \n",
       "2  https://stats.nba.com/media/players/230x185/20...   \n",
       "\n",
       "                                   urlPlayerHeadshot  \\\n",
       "0  https://ak-static.cms.nba.com/wp-content/uploa...   \n",
       "1  https://ak-static.cms.nba.com/wp-content/uploa...   \n",
       "2  https://ak-static.cms.nba.com/wp-content/uploa...   \n",
       "\n",
       "                                      urlPlayerPhoto  \\\n",
       "0  https://ak-static.cms.nba.com/wp-content/uploa...   \n",
       "1  https://ak-static.cms.nba.com/wp-content/uploa...   \n",
       "2  https://ak-static.cms.nba.com/wp-content/uploa...   \n",
       "\n",
       "                        urlPlayerStats  \\\n",
       "0  https://stats.nba.com/player/201939   \n",
       "1  https://stats.nba.com/player/201142   \n",
       "2  https://stats.nba.com/player/203999   \n",
       "\n",
       "                                urlPlayerActionPhoto  minutesTotals  \\\n",
       "0  https://stats.nba.com/media/players/700/201939...           2421   \n",
       "1  https://stats.nba.com/media/players/700/201142...           2791   \n",
       "2  https://stats.nba.com/media/players/700/203999...           2737   \n",
       "\n",
       "   fgmTotals  fgaTotals  fg3mTotals  fg3aTotals  fg2mTotals  fg2aTotals  \\\n",
       "0        650       1445         357         876         293         569   \n",
       "1        751       1436         168         407         583        1029   \n",
       "2        822       1411          83         231         739        1180   \n",
       "\n",
       "   ftmTotals  ftaTotals  orbTotals  drbTotals  trbTotals  astTotals  \\\n",
       "0        299        324         37        293        330        379   \n",
       "1        362        423         41        454        495        378   \n",
       "2        358        438        223        753        976        708   \n",
       "\n",
       "   stlTotals  blkTotals  tovTotals  pfTotals  ptsTotals  \\\n",
       "0         54         28        210       117       1956   \n",
       "1         69         91        244       133       2032   \n",
       "2        108         68        237       194       2085   \n",
       "\n",
       "   countTeamsPlayerSeasonTotals  \n",
       "0                             1  \n",
       "1                             1  \n",
       "2                             1  "
      ]
     },
     "execution_count": 66,
     "metadata": {},
     "output_type": "execute_result"
    }
   ],
   "source": [
    "# Juntamos salary2 y stats en 1 dataset\n",
    "SS = pd.merge(salary2, stats,how='inner', on='slugPlayerBREF')\n",
    "SS.head(3)"
   ]
  },
  {
   "cell_type": "code",
   "execution_count": 67,
   "metadata": {},
   "outputs": [
    {
     "data": {
      "text/plain": [
       "Index(['Salary', 'slugPlayerBREF', 'Unnamed: 0', 'slugSeason', 'yearSeason',\n",
       "       'isSeasonCurrent', 'slugPlayerSeason', 'namePlayer', 'slugPosition',\n",
       "       'agePlayer', 'slugTeamBREF', 'countGames', 'countGamesStarted', 'pctFG',\n",
       "       'pctFG3', 'pctFG2', 'pctEFG', 'pctFT', 'isHOFPlayer', 'slugTeamsBREF',\n",
       "       'idPlayerNBA', 'urlPlayerThumbnail', 'urlPlayerHeadshot',\n",
       "       'urlPlayerPhoto', 'urlPlayerStats', 'urlPlayerActionPhoto',\n",
       "       'minutesTotals', 'fgmTotals', 'fgaTotals', 'fg3mTotals', 'fg3aTotals',\n",
       "       'fg2mTotals', 'fg2aTotals', 'ftmTotals', 'ftaTotals', 'orbTotals',\n",
       "       'drbTotals', 'trbTotals', 'astTotals', 'stlTotals', 'blkTotals',\n",
       "       'tovTotals', 'pfTotals', 'ptsTotals', 'countTeamsPlayerSeasonTotals'],\n",
       "      dtype='object')"
      ]
     },
     "execution_count": 67,
     "metadata": {},
     "output_type": "execute_result"
    }
   ],
   "source": [
    "SS.columns"
   ]
  },
  {
   "cell_type": "code",
   "execution_count": 68,
   "metadata": {},
   "outputs": [
    {
     "data": {
      "text/plain": [
       "Index(['Salary', 'namePlayer', 'slugPosition', 'agePlayer', 'slugTeamBREF',\n",
       "       'countGames', 'countGamesStarted', 'pctFG', 'pctFG3', 'pctFG2',\n",
       "       'pctEFG', 'pctFT', 'slugTeamsBREF', 'minutesTotals', 'fgmTotals',\n",
       "       'fgaTotals', 'fg3mTotals', 'fg3aTotals', 'fg2mTotals', 'fg2aTotals',\n",
       "       'ftmTotals', 'ftaTotals', 'orbTotals', 'drbTotals', 'trbTotals',\n",
       "       'astTotals', 'stlTotals', 'blkTotals', 'tovTotals', 'pfTotals',\n",
       "       'ptsTotals'],\n",
       "      dtype='object')"
      ]
     },
     "execution_count": 68,
     "metadata": {},
     "output_type": "execute_result"
    }
   ],
   "source": [
    "# Eliminamos columnas inecesarias\n",
    "SS = SS.drop(columns=['slugPlayerBREF', 'Unnamed: 0', 'slugSeason', 'yearSeason',\n",
    "       'isSeasonCurrent', 'slugPlayerSeason', 'idPlayerNBA', 'urlPlayerThumbnail', \n",
    "       'urlPlayerHeadshot', 'urlPlayerPhoto', 'urlPlayerStats', 'urlPlayerActionPhoto', \n",
    "       'countTeamsPlayerSeasonTotals', 'isHOFPlayer'])\n",
    "SS.columns"
   ]
  },
  {
   "cell_type": "code",
   "execution_count": 69,
   "metadata": {},
   "outputs": [
    {
     "name": "stdout",
     "output_type": "stream",
     "text": [
      "Filas duplicadas:  86\n"
     ]
    }
   ],
   "source": [
    "# Buscar si existen filas duplicadas\n",
    "print(\"Filas duplicadas: \", sum(SS.duplicated(subset=\"namePlayer\", keep=False)))"
   ]
  },
  {
   "cell_type": "code",
   "execution_count": 70,
   "metadata": {},
   "outputs": [
    {
     "name": "stdout",
     "output_type": "stream",
     "text": [
      "Filas, Columnas:  (478, 31)\n",
      "Duplicados:  0\n"
     ]
    }
   ],
   "source": [
    "# Quitar las filas duplicadas\n",
    "SS = SS.drop_duplicates(subset='namePlayer')\n",
    "print(\"Filas, Columnas: \", SS.shape)\n",
    "print(\"Duplicados: \",sum(SS.duplicated(subset='namePlayer', keep=False)))"
   ]
  },
  {
   "cell_type": "code",
   "execution_count": 71,
   "metadata": {},
   "outputs": [
    {
     "data": {
      "text/html": [
       "<div>\n",
       "<style scoped>\n",
       "    .dataframe tbody tr th:only-of-type {\n",
       "        vertical-align: middle;\n",
       "    }\n",
       "\n",
       "    .dataframe tbody tr th {\n",
       "        vertical-align: top;\n",
       "    }\n",
       "\n",
       "    .dataframe thead th {\n",
       "        text-align: right;\n",
       "    }\n",
       "</style>\n",
       "<table border=\"1\" class=\"dataframe\">\n",
       "  <thead>\n",
       "    <tr style=\"text-align: right;\">\n",
       "      <th></th>\n",
       "      <th>Salary</th>\n",
       "      <th>namePlayer</th>\n",
       "      <th>slugPosition</th>\n",
       "      <th>agePlayer</th>\n",
       "      <th>slugTeamBREF</th>\n",
       "      <th>countGames</th>\n",
       "      <th>countGamesStarted</th>\n",
       "      <th>pctFG</th>\n",
       "      <th>pctFG3</th>\n",
       "      <th>pctFG2</th>\n",
       "      <th>pctEFG</th>\n",
       "      <th>pctFT</th>\n",
       "      <th>slugTeamsBREF</th>\n",
       "      <th>minutesTotals</th>\n",
       "      <th>fgmTotals</th>\n",
       "      <th>fgaTotals</th>\n",
       "      <th>fg3mTotals</th>\n",
       "      <th>fg3aTotals</th>\n",
       "      <th>fg2mTotals</th>\n",
       "      <th>fg2aTotals</th>\n",
       "      <th>ftmTotals</th>\n",
       "      <th>ftaTotals</th>\n",
       "      <th>orbTotals</th>\n",
       "      <th>drbTotals</th>\n",
       "      <th>trbTotals</th>\n",
       "      <th>astTotals</th>\n",
       "      <th>stlTotals</th>\n",
       "      <th>blkTotals</th>\n",
       "      <th>tovTotals</th>\n",
       "      <th>pfTotals</th>\n",
       "      <th>ptsTotals</th>\n",
       "    </tr>\n",
       "  </thead>\n",
       "  <tbody>\n",
       "  </tbody>\n",
       "</table>\n",
       "</div>"
      ],
      "text/plain": [
       "Empty DataFrame\n",
       "Columns: [Salary, namePlayer, slugPosition, agePlayer, slugTeamBREF, countGames, countGamesStarted, pctFG, pctFG3, pctFG2, pctEFG, pctFT, slugTeamsBREF, minutesTotals, fgmTotals, fgaTotals, fg3mTotals, fg3aTotals, fg2mTotals, fg2aTotals, ftmTotals, ftaTotals, orbTotals, drbTotals, trbTotals, astTotals, stlTotals, blkTotals, tovTotals, pfTotals, ptsTotals]\n",
       "Index: []"
      ]
     },
     "execution_count": 71,
     "metadata": {},
     "output_type": "execute_result"
    }
   ],
   "source": [
    "# Checar valores Null en todo el dataset\n",
    "SS[SS.isnull().any(axis=1)]"
   ]
  },
  {
   "cell_type": "code",
   "execution_count": 72,
   "metadata": {},
   "outputs": [
    {
     "data": {
      "text/html": [
       "<div>\n",
       "<style scoped>\n",
       "    .dataframe tbody tr th:only-of-type {\n",
       "        vertical-align: middle;\n",
       "    }\n",
       "\n",
       "    .dataframe tbody tr th {\n",
       "        vertical-align: top;\n",
       "    }\n",
       "\n",
       "    .dataframe thead th {\n",
       "        text-align: right;\n",
       "    }\n",
       "</style>\n",
       "<table border=\"1\" class=\"dataframe\">\n",
       "  <thead>\n",
       "    <tr style=\"text-align: right;\">\n",
       "      <th></th>\n",
       "      <th>Salary</th>\n",
       "      <th>namePlayer</th>\n",
       "      <th>slugPosition</th>\n",
       "      <th>agePlayer</th>\n",
       "      <th>slugTeamBREF</th>\n",
       "      <th>countGames</th>\n",
       "      <th>countGamesStarted</th>\n",
       "      <th>pctFG</th>\n",
       "      <th>pctFG3</th>\n",
       "      <th>pctFG2</th>\n",
       "      <th>pctEFG</th>\n",
       "      <th>pctFT</th>\n",
       "      <th>slugTeamsBREF</th>\n",
       "      <th>minutesTotals</th>\n",
       "      <th>fgmTotals</th>\n",
       "      <th>fgaTotals</th>\n",
       "      <th>fg3mTotals</th>\n",
       "      <th>fg3aTotals</th>\n",
       "      <th>fg2mTotals</th>\n",
       "      <th>fg2aTotals</th>\n",
       "      <th>ftmTotals</th>\n",
       "      <th>ftaTotals</th>\n",
       "      <th>orbTotals</th>\n",
       "      <th>drbTotals</th>\n",
       "      <th>trbTotals</th>\n",
       "      <th>astTotals</th>\n",
       "      <th>stlTotals</th>\n",
       "      <th>blkTotals</th>\n",
       "      <th>tovTotals</th>\n",
       "      <th>pfTotals</th>\n",
       "      <th>ptsTotals</th>\n",
       "    </tr>\n",
       "  </thead>\n",
       "  <tbody>\n",
       "    <tr>\n",
       "      <th>0</th>\n",
       "      <td>51915615</td>\n",
       "      <td>Stephen Curry</td>\n",
       "      <td>PG</td>\n",
       "      <td>35</td>\n",
       "      <td>GSW</td>\n",
       "      <td>74</td>\n",
       "      <td>74</td>\n",
       "      <td>0.450</td>\n",
       "      <td>0.408</td>\n",
       "      <td>0.515</td>\n",
       "      <td>0.573</td>\n",
       "      <td>0.923</td>\n",
       "      <td>GSW</td>\n",
       "      <td>2421</td>\n",
       "      <td>650</td>\n",
       "      <td>1445</td>\n",
       "      <td>357</td>\n",
       "      <td>876</td>\n",
       "      <td>293</td>\n",
       "      <td>569</td>\n",
       "      <td>299</td>\n",
       "      <td>324</td>\n",
       "      <td>37</td>\n",
       "      <td>293</td>\n",
       "      <td>330</td>\n",
       "      <td>379</td>\n",
       "      <td>54</td>\n",
       "      <td>28</td>\n",
       "      <td>210</td>\n",
       "      <td>117</td>\n",
       "      <td>1956</td>\n",
       "    </tr>\n",
       "    <tr>\n",
       "      <th>1</th>\n",
       "      <td>47649433</td>\n",
       "      <td>Kevin Durant</td>\n",
       "      <td>PF</td>\n",
       "      <td>35</td>\n",
       "      <td>PHO</td>\n",
       "      <td>75</td>\n",
       "      <td>75</td>\n",
       "      <td>0.523</td>\n",
       "      <td>0.413</td>\n",
       "      <td>0.567</td>\n",
       "      <td>0.581</td>\n",
       "      <td>0.856</td>\n",
       "      <td>PHO</td>\n",
       "      <td>2791</td>\n",
       "      <td>751</td>\n",
       "      <td>1436</td>\n",
       "      <td>168</td>\n",
       "      <td>407</td>\n",
       "      <td>583</td>\n",
       "      <td>1029</td>\n",
       "      <td>362</td>\n",
       "      <td>423</td>\n",
       "      <td>41</td>\n",
       "      <td>454</td>\n",
       "      <td>495</td>\n",
       "      <td>378</td>\n",
       "      <td>69</td>\n",
       "      <td>91</td>\n",
       "      <td>244</td>\n",
       "      <td>133</td>\n",
       "      <td>2032</td>\n",
       "    </tr>\n",
       "    <tr>\n",
       "      <th>2</th>\n",
       "      <td>47607350</td>\n",
       "      <td>Nikola Jokic</td>\n",
       "      <td>C</td>\n",
       "      <td>28</td>\n",
       "      <td>DEN</td>\n",
       "      <td>79</td>\n",
       "      <td>79</td>\n",
       "      <td>0.583</td>\n",
       "      <td>0.359</td>\n",
       "      <td>0.626</td>\n",
       "      <td>0.612</td>\n",
       "      <td>0.817</td>\n",
       "      <td>DEN</td>\n",
       "      <td>2737</td>\n",
       "      <td>822</td>\n",
       "      <td>1411</td>\n",
       "      <td>83</td>\n",
       "      <td>231</td>\n",
       "      <td>739</td>\n",
       "      <td>1180</td>\n",
       "      <td>358</td>\n",
       "      <td>438</td>\n",
       "      <td>223</td>\n",
       "      <td>753</td>\n",
       "      <td>976</td>\n",
       "      <td>708</td>\n",
       "      <td>108</td>\n",
       "      <td>68</td>\n",
       "      <td>237</td>\n",
       "      <td>194</td>\n",
       "      <td>2085</td>\n",
       "    </tr>\n",
       "    <tr>\n",
       "      <th>3</th>\n",
       "      <td>47607350</td>\n",
       "      <td>Joel Embiid</td>\n",
       "      <td>C</td>\n",
       "      <td>29</td>\n",
       "      <td>PHI</td>\n",
       "      <td>39</td>\n",
       "      <td>39</td>\n",
       "      <td>0.529</td>\n",
       "      <td>0.388</td>\n",
       "      <td>0.556</td>\n",
       "      <td>0.561</td>\n",
       "      <td>0.883</td>\n",
       "      <td>PHI</td>\n",
       "      <td>1309</td>\n",
       "      <td>450</td>\n",
       "      <td>851</td>\n",
       "      <td>54</td>\n",
       "      <td>139</td>\n",
       "      <td>396</td>\n",
       "      <td>712</td>\n",
       "      <td>399</td>\n",
       "      <td>452</td>\n",
       "      <td>95</td>\n",
       "      <td>335</td>\n",
       "      <td>430</td>\n",
       "      <td>219</td>\n",
       "      <td>46</td>\n",
       "      <td>66</td>\n",
       "      <td>150</td>\n",
       "      <td>112</td>\n",
       "      <td>1353</td>\n",
       "    </tr>\n",
       "    <tr>\n",
       "      <th>4</th>\n",
       "      <td>47607350</td>\n",
       "      <td>LeBron James</td>\n",
       "      <td>PF</td>\n",
       "      <td>39</td>\n",
       "      <td>LAL</td>\n",
       "      <td>71</td>\n",
       "      <td>71</td>\n",
       "      <td>0.540</td>\n",
       "      <td>0.410</td>\n",
       "      <td>0.592</td>\n",
       "      <td>0.599</td>\n",
       "      <td>0.750</td>\n",
       "      <td>LAL</td>\n",
       "      <td>2504</td>\n",
       "      <td>685</td>\n",
       "      <td>1269</td>\n",
       "      <td>149</td>\n",
       "      <td>363</td>\n",
       "      <td>536</td>\n",
       "      <td>906</td>\n",
       "      <td>303</td>\n",
       "      <td>404</td>\n",
       "      <td>61</td>\n",
       "      <td>457</td>\n",
       "      <td>518</td>\n",
       "      <td>589</td>\n",
       "      <td>89</td>\n",
       "      <td>38</td>\n",
       "      <td>245</td>\n",
       "      <td>78</td>\n",
       "      <td>1822</td>\n",
       "    </tr>\n",
       "  </tbody>\n",
       "</table>\n",
       "</div>"
      ],
      "text/plain": [
       "     Salary     namePlayer slugPosition  agePlayer slugTeamBREF  countGames  \\\n",
       "0  51915615  Stephen Curry           PG         35          GSW          74   \n",
       "1  47649433   Kevin Durant           PF         35          PHO          75   \n",
       "2  47607350   Nikola Jokic            C         28          DEN          79   \n",
       "3  47607350    Joel Embiid            C         29          PHI          39   \n",
       "4  47607350   LeBron James           PF         39          LAL          71   \n",
       "\n",
       "   countGamesStarted  pctFG  pctFG3  pctFG2  pctEFG  pctFT slugTeamsBREF  \\\n",
       "0                 74  0.450   0.408   0.515   0.573  0.923           GSW   \n",
       "1                 75  0.523   0.413   0.567   0.581  0.856           PHO   \n",
       "2                 79  0.583   0.359   0.626   0.612  0.817           DEN   \n",
       "3                 39  0.529   0.388   0.556   0.561  0.883           PHI   \n",
       "4                 71  0.540   0.410   0.592   0.599  0.750           LAL   \n",
       "\n",
       "   minutesTotals  fgmTotals  fgaTotals  fg3mTotals  fg3aTotals  fg2mTotals  \\\n",
       "0           2421        650       1445         357         876         293   \n",
       "1           2791        751       1436         168         407         583   \n",
       "2           2737        822       1411          83         231         739   \n",
       "3           1309        450        851          54         139         396   \n",
       "4           2504        685       1269         149         363         536   \n",
       "\n",
       "   fg2aTotals  ftmTotals  ftaTotals  orbTotals  drbTotals  trbTotals  \\\n",
       "0         569        299        324         37        293        330   \n",
       "1        1029        362        423         41        454        495   \n",
       "2        1180        358        438        223        753        976   \n",
       "3         712        399        452         95        335        430   \n",
       "4         906        303        404         61        457        518   \n",
       "\n",
       "   astTotals  stlTotals  blkTotals  tovTotals  pfTotals  ptsTotals  \n",
       "0        379         54         28        210       117       1956  \n",
       "1        378         69         91        244       133       2032  \n",
       "2        708        108         68        237       194       2085  \n",
       "3        219         46         66        150       112       1353  \n",
       "4        589         89         38        245        78       1822  "
      ]
     },
     "execution_count": 72,
     "metadata": {},
     "output_type": "execute_result"
    }
   ],
   "source": [
    "SS.head()"
   ]
  },
  {
   "cell_type": "code",
   "execution_count": 73,
   "metadata": {},
   "outputs": [
    {
     "data": {
      "application/vnd.plotly.v1+json": {
       "config": {
        "plotlyServerURL": "https://plot.ly"
       },
       "data": [
        {
         "customdata": [
          [
           "Stephen Curry",
           "GSW"
          ],
          [
           "Kevin Durant",
           "PHO"
          ],
          [
           "Nikola Jokic",
           "DEN"
          ],
          [
           "Joel Embiid",
           "PHI"
          ],
          [
           "LeBron James",
           "LAL"
          ],
          [
           "Bradley Beal",
           "PHO"
          ],
          [
           "Giannis Antetokounmpo",
           "MIL"
          ],
          [
           "Kawhi Leonard",
           "LAC"
          ],
          [
           "Damian Lillard",
           "MIL"
          ],
          [
           "Paul George",
           "LAC"
          ],
          [
           "Jimmy Butler",
           "MIA"
          ],
          [
           "Klay Thompson",
           "GSW"
          ],
          [
           "Rudy Gobert",
           "MIN"
          ],
          [
           "Fred VanVleet",
           "HOU"
          ],
          [
           "Anthony Davis",
           "LAL"
          ],
          [
           "Trae Young",
           "ATL"
          ],
          [
           "Luka Doncic",
           "DAL"
          ],
          [
           "Zach LaVine",
           "CHI"
          ],
          [
           "Tobias Harris",
           "PHI"
          ],
          [
           "Ben Simmons",
           "BRK"
          ],
          [
           "Pascal Siakam",
           "TOT"
          ],
          [
           "Kyrie Irving",
           "DAL"
          ],
          [
           "Jrue Holiday",
           "BOS"
          ],
          [
           "Devin Booker",
           "PHO"
          ],
          [
           "Karl-Anthony Towns",
           "MIN"
          ],
          [
           "Kristaps Porzingis",
           "BOS"
          ],
          [
           "CJ McCollum",
           "NOP"
          ],
          [
           "James Harden",
           "LAC"
          ],
          [
           "Zion Williamson",
           "NOP"
          ],
          [
           "Ja Morant",
           "MEM"
          ],
          [
           "Darius Garland",
           "CLE"
          ],
          [
           "Brandon Ingram",
           "NOP"
          ],
          [
           "Jamal Murray",
           "DEN"
          ],
          [
           "Shai Gilgeous-Alexander",
           "OKC"
          ],
          [
           "Michael Porter Jr.",
           "DEN"
          ],
          [
           "Gordon Hayward",
           "TOT"
          ],
          [
           "Donovan Mitchell",
           "CLE"
          ],
          [
           "De'Aaron Fox",
           "SAC"
          ],
          [
           "Bam Adebayo",
           "MIA"
          ],
          [
           "Jayson Tatum",
           "BOS"
          ],
          [
           "Deandre Ayton",
           "POR"
          ],
          [
           "Jaylen Brown",
           "BOS"
          ],
          [
           "Chris Paul",
           "GSW"
          ],
          [
           "Domantas Sabonis",
           "SAC"
          ],
          [
           "Kyle Lowry",
           "TOT"
          ],
          [
           "Khris Middleton",
           "MIL"
          ],
          [
           "DeMar DeRozan",
           "CHI"
          ],
          [
           "Julius Randle",
           "NYK"
          ],
          [
           "Jerami Grant",
           "POR"
          ],
          [
           "Jordan Poole",
           "WAS"
          ],
          [
           "Jaren Jackson Jr.",
           "MEM"
          ],
          [
           "Tyler Herro",
           "MIA"
          ],
          [
           "Jalen Brunson",
           "NYK"
          ],
          [
           "Cameron Johnson",
           "BRK"
          ],
          [
           "Kyle Kuzma",
           "WAS"
          ],
          [
           "John Collins",
           "UTA"
          ],
          [
           "Brook Lopez",
           "MIL"
          ],
          [
           "Mike Conley",
           "MIN"
          ],
          [
           "Andrew Wiggins",
           "GSW"
          ],
          [
           "Anfernee Simons",
           "POR"
          ],
          [
           "RJ Barrett",
           "TOT"
          ],
          [
           "Jordan Clarkson",
           "UTA"
          ],
          [
           "Terry Rozier",
           "TOT"
          ],
          [
           "Dillon Brooks",
           "HOU"
          ],
          [
           "Malcolm Brogdon",
           "POR"
          ],
          [
           "Draymond Green",
           "GSW"
          ],
          [
           "Aaron Gordon",
           "DEN"
          ],
          [
           "Bruce Brown",
           "TOT"
          ],
          [
           "Mikal Bridges",
           "BRK"
          ],
          [
           "Myles Turner",
           "IND"
          ],
          [
           "Clint Capela",
           "ATL"
          ],
          [
           "Spencer Dinwiddie",
           "TOT"
          ],
          [
           "De'Andre Hunter",
           "ATL"
          ],
          [
           "Keldon Johnson",
           "SAS"
          ],
          [
           "Jarrett Allen",
           "CLE"
          ],
          [
           "Bojan Bogdanovic",
           "TOT"
          ],
          [
           "Joe Harris",
           "DET"
          ],
          [
           "Buddy Hield",
           "TOT"
          ],
          [
           "Jakob Poeltl",
           "TOR"
          ],
          [
           "Evan Fournier",
           "TOT"
          ],
          [
           "Marcus Smart",
           "MEM"
          ],
          [
           "Bogdan Bogdanovic",
           "ATL"
          ],
          [
           "OG Anunoby",
           "TOT"
          ],
          [
           "Gary Trent Jr.",
           "TOR"
          ],
          [
           "Nikola Vucevic",
           "CHI"
          ],
          [
           "Derrick White",
           "BOS"
          ],
          [
           "Dejounte Murray",
           "ATL"
          ],
          [
           "Duncan Robinson",
           "MIA"
          ],
          [
           "Norman Powell",
           "LAC"
          ],
          [
           "Tim Hardaway Jr.",
           "DAL"
          ],
          [
           "Jonathan Isaac",
           "ORL"
          ],
          [
           "Collin Sexton",
           "UTA"
          ],
          [
           "D'Angelo Russell",
           "LAL"
          ],
          [
           "Lauri Markkanen",
           "UTA"
          ],
          [
           "Marcus Morris Sr.",
           "TOT"
          ],
          [
           "Harrison Barnes",
           "SAC"
          ],
          [
           "Davis Bertans",
           "TOT"
          ],
          [
           "Markelle Fultz",
           "ORL"
          ],
          [
           "Jusuf Nurkic",
           "PHO"
          ],
          [
           "P.J. Washington",
           "TOT"
          ],
          [
           "Rui Hachimura",
           "LAL"
          ],
          [
           "Mitchell Robinson",
           "NYK"
          ],
          [
           "Kevin Huerter",
           "SAC"
          ],
          [
           "Jonas Valanciunas",
           "NOP"
          ],
          [
           "Caris LeVert",
           "CLE"
          ],
          [
           "Luguentz Dort",
           "OKC"
          ],
          [
           "Luke Kennard",
           "MEM"
          ],
          [
           "Kentavious Caldwell-Pope",
           "DEN"
          ],
          [
           "Max Strus",
           "CLE"
          ],
          [
           "Tyus Jones",
           "WAS"
          ],
          [
           "Dorian Finney-Smith",
           "BRK"
          ],
          [
           "Doug McDermott",
           "TOT"
          ],
          [
           "Anthony Edwards",
           "MIN"
          ],
          [
           "Wendell Carter Jr.",
           "ORL"
          ],
          [
           "Gary Harris",
           "ORL"
          ],
          [
           "Josh Hart",
           "NYK"
          ],
          [
           "Naz Reid",
           "MIN"
          ],
          [
           "Brandon Clarke",
           "MEM"
          ],
          [
           "Marvin Bagley III",
           "TOT"
          ],
          [
           "Grant Williams",
           "TOT"
          ],
          [
           "Dennis Schroder",
           "TOT"
          ],
          [
           "Daniel Gafford",
           "TOT"
          ],
          [
           "Kelly Olynyk",
           "TOT"
          ],
          [
           "Victor Wembanyama",
           "SAS"
          ],
          [
           "James Wiseman",
           "DET"
          ],
          [
           "Devonte' Graham",
           "SAS"
          ],
          [
           "Richaun Holmes",
           "TOT"
          ],
          [
           "Herbert Jones",
           "NOP"
          ],
          [
           "Austin Reaves",
           "LAL"
          ],
          [
           "Chris Boucher",
           "TOR"
          ],
          [
           "Bobby Portis",
           "MIL"
          ],
          [
           "Nicolas Batum",
           "TOT"
          ],
          [
           "Robert Covington",
           "TOT"
          ],
          [
           "Paolo Banchero",
           "ORL"
          ],
          [
           "Robert Williams III",
           "POR"
          ],
          [
           "Coby White",
           "CHI"
          ],
          [
           "Cade Cunningham",
           "DET"
          ],
          [
           "Talen Horton-Tucker",
           "UTA"
          ],
          [
           "P.J. Tucker",
           "TOT"
          ],
          [
           "Reggie Bullock",
           "HOU"
          ],
          [
           "Maxi Kleber",
           "DAL"
          ],
          [
           "Joe Ingles",
           "ORL"
          ],
          [
           "Ivica Zubac",
           "LAC"
          ],
          [
           "LaMelo Ball",
           "CHO"
          ],
          [
           "Donte DiVincenzo",
           "NYK"
          ],
          [
           "Brandon Miller",
           "CHO"
          ],
          [
           "Terance Mann",
           "LAC"
          ],
          [
           "Gabe Vincent",
           "LAL"
          ],
          [
           "Matisse Thybulle",
           "POR"
          ],
          [
           "Alec Burks",
           "TOT"
          ],
          [
           "Chet Holmgren",
           "OKC"
          ],
          [
           "Larry Nance Jr.",
           "NOP"
          ],
          [
           "Landry Shamet",
           "WAS"
          ],
          [
           "Al Horford",
           "BOS"
          ],
          [
           "Malik Monk",
           "SAC"
          ],
          [
           "Tre Jones",
           "SAS"
          ],
          [
           "Jalen Green",
           "HOU"
          ],
          [
           "Patrick Williams",
           "CHI"
          ],
          [
           "Monte Morris",
           "TOT"
          ],
          [
           "Scoot Henderson",
           "POR"
          ],
          [
           "Nic Claxton",
           "BRK"
          ],
          [
           "Jeff Green",
           "HOU"
          ],
          [
           "Royce O'Neale",
           "TOT"
          ],
          [
           "Alex Caruso",
           "CHI"
          ],
          [
           "Pat Connaughton",
           "MIL"
          ],
          [
           "Jabari Smith Jr.",
           "HOU"
          ],
          [
           "Isaiah Hartenstein",
           "NYK"
          ],
          [
           "Kyle Anderson",
           "MIN"
          ],
          [
           "Grayson Allen",
           "PHO"
          ],
          [
           "Isaac Okoro",
           "CLE"
          ],
          [
           "Evan Mobley",
           "CLE"
          ],
          [
           "Amen Thompson",
           "HOU"
          ],
          [
           "Georges Niang",
           "CLE"
          ],
          [
           "Gary Payton II",
           "GSW"
          ],
          [
           "T.J. McConnell",
           "IND"
          ],
          [
           "Keegan Murray",
           "SAC"
          ],
          [
           "Delon Wright",
           "TOT"
          ],
          [
           "Onyeka Okongwu",
           "ATL"
          ],
          [
           "Scottie Barnes",
           "TOR"
          ],
          [
           "Jock Landale",
           "HOU"
          ],
          [
           "Trey Lyles",
           "SAC"
          ],
          [
           "De'Anthony Melton",
           "PHI"
          ],
          [
           "Moritz Wagner",
           "ORL"
          ],
          [
           "Thaddeus Young",
           "TOT"
          ],
          [
           "Ausar Thompson",
           "DET"
          ],
          [
           "Miles Bridges",
           "CHO"
          ],
          [
           "Vasilije Micic",
           "TOT"
          ],
          [
           "Paul Reed",
           "PHI"
          ],
          [
           "Zach Collins",
           "SAS"
          ],
          [
           "Jaden Ivey",
           "DET"
          ],
          [
           "Cody Martin",
           "CHO"
          ],
          [
           "Kevon Looney",
           "GSW"
          ],
          [
           "Killian Hayes",
           "DET"
          ],
          [
           "Jalen Suggs",
           "ORL"
          ],
          [
           "Anthony Black",
           "ORL"
          ],
          [
           "Daniel Theis",
           "TOT"
          ],
          [
           "Bennedict Mathurin",
           "IND"
          ],
          [
           "Obi Toppin",
           "IND"
          ],
          [
           "Caleb Martin",
           "MIA"
          ],
          [
           "Danilo Gallinari",
           "TOT"
          ],
          [
           "Patty Mills",
           "TOT"
          ],
          [
           "Cedi Osman",
           "SAS"
          ],
          [
           "Bilal Coulibaly",
           "WAS"
          ],
          [
           "Josh Giddey",
           "OKC"
          ],
          [
           "Cameron Payne",
           "TOT"
          ],
          [
           "Jae'Sean Tate",
           "HOU"
          ],
          [
           "Ayo Dosunmu",
           "CHI"
          ],
          [
           "Sasha Vezenkov",
           "SAC"
          ],
          [
           "Shaedon Sharpe",
           "POR"
          ],
          [
           "Otto Porter Jr.",
           "TOR"
          ],
          [
           "Deni Avdija",
           "WAS"
          ],
          [
           "Nassir Little",
           "PHO"
          ],
          [
           "Jevon Carter",
           "CHI"
          ],
          [
           "Kenrich Williams",
           "OKC"
          ],
          [
           "Jarace Walker",
           "IND"
          ],
          [
           "Jonathan Kuminga",
           "GSW"
          ],
          [
           "Devin Vassell",
           "SAS"
          ],
          [
           "Tyrese Haliburton",
           "IND"
          ],
          [
           "Dyson Daniels",
           "NOP"
          ],
          [
           "Kira Lewis Jr.",
           "TOT"
          ],
          [
           "Dean Wade",
           "CLE"
          ],
          [
           "Aaron Nesmith",
           "IND"
          ],
          [
           "Taylor Hendricks",
           "UTA"
          ],
          [
           "Cole Anthony",
           "ORL"
          ],
          [
           "Franz Wagner",
           "ORL"
          ],
          [
           "Furkan Korkmaz",
           "PHI"
          ],
          [
           "Jeremy Sochan",
           "SAS"
          ],
          [
           "Cason Wallace",
           "OKC"
          ],
          [
           "Isaiah Stewart",
           "DET"
          ],
          [
           "Chuma Okeke",
           "ORL"
          ],
          [
           "Davion Mitchell",
           "SAC"
          ],
          [
           "Johnny Davis",
           "WAS"
          ],
          [
           "Jalen Smith",
           "IND"
          ],
          [
           "Jett Howard",
           "ORL"
          ],
          [
           "Aleksej Pokusevski",
           "TOT"
          ],
          [
           "Nick Richards",
           "CHO"
          ],
          [
           "Bismack Biyombo",
           "TOT"
          ],
          [
           "Mason Plumlee",
           "LAC"
          ],
          [
           "Shake Milton",
           "TOT"
          ],
          [
           "Reggie Jackson",
           "DEN"
          ],
          [
           "Ziaire Williams",
           "MEM"
          ],
          [
           "Ousmane Dieng",
           "OKC"
          ],
          [
           "Dereck Lively II",
           "DAL"
          ],
          [
           "Josh Green",
           "DAL"
          ],
          [
           "Jarred Vanderbilt",
           "LAL"
          ],
          [
           "Nickeil Alexander-Walker",
           "MIN"
          ],
          [
           "James Bouknight",
           "CHO"
          ],
          [
           "Jalen Williams",
           "OKC"
          ],
          [
           "Saddiq Bey",
           "ATL"
          ],
          [
           "Gradey Dick",
           "TOR"
          ],
          [
           "Jalen McDaniels",
           "TOR"
          ],
          [
           "Taurean Prince",
           "LAL"
          ],
          [
           "Precious Achiuwa",
           "TOT"
          ],
          [
           "Tyrese Maxey",
           "PHI"
          ],
          [
           "Joshua Primo",
           "LAC"
          ],
          [
           "Jalen Duren",
           "DET"
          ],
          [
           "Danuel House Jr.",
           "PHI"
          ],
          [
           "Jordan Hawkins",
           "NOP"
          ],
          [
           "Zeke Nnaji",
           "DEN"
          ],
          [
           "Immanuel Quickley",
           "TOT"
          ],
          [
           "Chris Duarte",
           "SAC"
          ],
          [
           "Ochai Agbaji",
           "TOT"
          ],
          [
           "Kobe Bufkin",
           "ATL"
          ],
          [
           "Payton Pritchard",
           "BOS"
          ],
          [
           "Dwight Powell",
           "DAL"
          ],
          [
           "Seth Curry",
           "TOT"
          ],
          [
           "Troy Brown Jr.",
           "TOT"
          ],
          [
           "Moses Moody",
           "GSW"
          ],
          [
           "Mark Williams",
           "CHO"
          ],
          [
           "Jaden McDaniels",
           "MIN"
          ],
          [
           "Keyonte George",
           "UTA"
          ],
          [
           "Malachi Flynn",
           "TOT"
          ],
          [
           "Desmond Bane",
           "MEM"
          ],
          [
           "Kevin Love",
           "MIA"
          ],
          [
           "Russell Westbrook",
           "LAC"
          ],
          [
           "Corey Kispert",
           "WAS"
          ],
          [
           "AJ Griffin",
           "ATL"
          ],
          [
           "Jalen Hood-Schifino",
           "LAL"
          ],
          [
           "Amir Coffey",
           "LAC"
          ],
          [
           "Alperen Sengun",
           "HOU"
          ],
          [
           "Tari Eason",
           "HOU"
          ],
          [
           "Jaime Jaquez Jr.",
           "MIA"
          ],
          [
           "Mike Muscala",
           "TOT"
          ],
          [
           "Andre Drummond",
           "CHI"
          ],
          [
           "Derrick Jones Jr.",
           "DAL"
          ],
          [
           "Trey Murphy III",
           "NOP"
          ],
          [
           "Brandin Podziemski",
           "GSW"
          ],
          [
           "Dalen Terry",
           "CHI"
          ],
          [
           "Cam Whitmore",
           "HOU"
          ],
          [
           "Jake LaRavia",
           "MEM"
          ],
          [
           "Derrick Rose",
           "MEM"
          ],
          [
           "Eric Gordon",
           "PHO"
          ],
          [
           "Tre Mann",
           "TOT"
          ],
          [
           "Noah Clowney",
           "BRK"
          ],
          [
           "Malaki Branham",
           "SAS"
          ],
          [
           "Simone Fontecchio",
           "TOT"
          ],
          [
           "Jordan Nwora",
           "TOT"
          ],
          [
           "Julian Champagnie",
           "SAS"
          ],
          [
           "Dante Exum",
           "DAL"
          ],
          [
           "Dariq Whitehead",
           "BRK"
          ],
          [
           "Christian Braun",
           "DEN"
          ],
          [
           "Jalen Johnson",
           "ATL"
          ],
          [
           "Josh Richardson",
           "MIA"
          ],
          [
           "Kris Murray",
           "POR"
          ],
          [
           "Walker Kessler",
           "UTA"
          ],
          [
           "Josh Okogie",
           "PHO"
          ],
          [
           "Keon Johnson",
           "BRK"
          ],
          [
           "Omer Yurtseven",
           "UTA"
          ],
          [
           "Olivier-Maxence Prosper",
           "DAL"
          ],
          [
           "David Roddy",
           "TOT"
          ],
          [
           "Christian Wood",
           "LAL"
          ],
          [
           "Isaiah Jackson",
           "IND"
          ],
          [
           "Marcus Sasser",
           "DET"
          ],
          [
           "MarJon Beauchamp",
           "MIL"
          ],
          [
           "Charles Bassey",
           "SAS"
          ],
          [
           "Usman Garuba",
           "GSW"
          ],
          [
           "Kris Dunn",
           "UTA"
          ],
          [
           "Damian Jones",
           "CLE"
          ],
          [
           "Bruno Fernando",
           "ATL"
          ],
          [
           "Ben Sheppard",
           "IND"
          ],
          [
           "Thomas Bryant",
           "MIA"
          ],
          [
           "Torrey Craig",
           "CHI"
          ],
          [
           "Blake Wesley",
           "SAS"
          ],
          [
           "Nick Smith Jr.",
           "CHO"
          ],
          [
           "Brice Sensabaugh",
           "UTA"
          ],
          [
           "Ty Jerome",
           "CLE"
          ],
          [
           "Julian Strawther",
           "DEN"
          ],
          [
           "Tristan Vukcevic",
           "WAS"
          ],
          [
           "Wendell Moore Jr.",
           "MIN"
          ],
          [
           "Kobe Brown",
           "LAC"
          ],
          [
           "Luke Kornet",
           "BOS"
          ],
          [
           "John Konchar",
           "MEM"
          ],
          [
           "Quentin Grimes",
           "TOT"
          ],
          [
           "Nikola Jovic",
           "MIA"
          ],
          [
           "JaVale McGee",
           "SAC"
          ],
          [
           "Drew Eubanks",
           "PHO"
          ],
          [
           "Keita Bates-Diop",
           "TOT"
          ],
          [
           "Yuta Watanabe",
           "TOT"
          ],
          [
           "Patrick Baldwin Jr.",
           "WAS"
          ],
          [
           "TyTy Washington Jr.",
           "MIL"
          ],
          [
           "Jordan McLaughlin",
           "MIN"
          ],
          [
           "Bones Hyland",
           "LAC"
          ],
          [
           "Peyton Watson",
           "DEN"
          ],
          [
           "James Johnson",
           "IND"
          ],
          [
           "Cam Thomas",
           "BRK"
          ],
          [
           "Vince Williams Jr.",
           "MEM"
          ],
          [
           "Jaden Springer",
           "TOT"
          ],
          [
           "Day'Ron Sharpe",
           "BRK"
          ],
          [
           "Jeff Dowtin",
           "PHI"
          ],
          [
           "Santi Aldama",
           "MEM"
          ],
          [
           "Jaxson Hayes",
           "LAL"
          ],
          [
           "Cam Reddish",
           "LAL"
          ],
          [
           "Oshae Brissett",
           "BOS"
          ],
          [
           "Andrew Nembhard",
           "IND"
          ],
          [
           "Luka Samanic",
           "UTA"
          ],
          [
           "Goga Bitadze",
           "ORL"
          ],
          [
           "Colby Jones",
           "SAC"
          ],
          [
           "Taj Gibson",
           "TOT"
          ],
          [
           "Garrett Temple",
           "TOR"
          ],
          [
           "Sandro Mamukelashvili",
           "SAS"
          ],
          [
           "Robin Lopez",
           "MIL"
          ],
          [
           "Alex Len",
           "SAC"
          ],
          [
           "Dalano Banton",
           "TOT"
          ],
          [
           "Bol Bol",
           "PHO"
          ],
          [
           "Kelly Oubre Jr.",
           "PHI"
          ],
          [
           "Mo Bamba",
           "PHI"
          ],
          [
           "Dylan Windler",
           "TOT"
          ],
          [
           "Cody Zeller",
           "NOP"
          ],
          [
           "Thanasis Antetokounmpo",
           "MIL"
          ],
          [
           "Patrick Beverley",
           "TOT"
          ],
          [
           "Jae Crowder",
           "MIL"
          ],
          [
           "Malik Beasley",
           "MIL"
          ],
          [
           "Chimezie Metu",
           "TOT"
          ],
          [
           "Lamar Stevens",
           "TOT"
          ],
          [
           "Cory Joseph",
           "GSW"
          ],
          [
           "Dario Saric",
           "GSW"
          ],
          [
           "Ryan Arcidiacono",
           "NYK"
          ],
          [
           "DeAndre Jordan",
           "DEN"
          ],
          [
           "Justin Holiday",
           "DEN"
          ],
          [
           "Markieff Morris",
           "DAL"
          ],
          [
           "Ish Smith",
           "CHO"
          ],
          [
           "Frank Ntilikina",
           "CHO"
          ],
          [
           "Terry Taylor",
           "CHI"
          ],
          [
           "Harry Giles III",
           "TOT"
          ],
          [
           "Lonnie Walker IV",
           "BRK"
          ],
          [
           "Dennis Smith Jr.",
           "BRK"
          ],
          [
           "Svi Mykhailiuk",
           "BOS"
          ],
          [
           "Wesley Matthews",
           "ATL"
          ],
          [
           "Moses Brown",
           "POR"
          ],
          [
           "Boban Marjanovic",
           "HOU"
          ],
          [
           "Aaron Holiday",
           "HOU"
          ],
          [
           "Tristan Thompson",
           "CLE"
          ],
          [
           "Trendon Watford",
           "BRK"
          ],
          [
           "Caleb Houstan",
           "ORL"
          ],
          [
           "Jaylin Williams",
           "OKC"
          ],
          [
           "Garrison Mathews",
           "ATL"
          ],
          [
           "Sam Merrill",
           "CLE"
          ],
          [
           "Anthony Gill",
           "WAS"
          ],
          [
           "Isaiah Joe",
           "OKC"
          ],
          [
           "GG Jackson II",
           "MEM"
          ],
          [
           "Duop Reath",
           "POR"
          ],
          [
           "KJ Martin",
           "TOT"
          ],
          [
           "Naji Marshall",
           "NOP"
          ],
          [
           "Xavier Tillman Sr.",
           "TOT"
          ],
          [
           "Jordan Goodwin",
           "TOT"
          ],
          [
           "Kessler Edwards",
           "SAC"
          ],
          [
           "Ish Wainright",
           "TOT"
          ],
          [
           "Jericho Sims",
           "NYK"
          ],
          [
           "Sam Hauser",
           "BOS"
          ],
          [
           "Haywood Highsmith",
           "MIA"
          ],
          [
           "A.J. Green",
           "MIL"
          ],
          [
           "Jeremiah Robinson-Earl",
           "NOP"
          ],
          [
           "Kevin Knox II",
           "DET"
          ],
          [
           "Miles McBride",
           "NYK"
          ],
          [
           "Isaiah Livers",
           "DET"
          ],
          [
           "Brandon Boston Jr.",
           "LAC"
          ],
          [
           "JT Thor",
           "CHO"
          ],
          [
           "Aaron Wiggins",
           "OKC"
          ],
          [
           "Jose Alvarado",
           "NOP"
          ],
          [
           "E.J. Liddell",
           "NOP"
          ],
          [
           "Dru Smith",
           "MIA"
          ],
          [
           "Orlando Robinson",
           "MIA"
          ],
          [
           "Leonard Miller",
           "MIN"
          ],
          [
           "Skylar Mays",
           "TOT"
          ],
          [
           "Ryan Rollins",
           "TOT"
          ],
          [
           "Jaden Hardy",
           "DAL"
          ],
          [
           "Jabari Walker",
           "POR"
          ],
          [
           "Josh Minott",
           "MIN"
          ],
          [
           "Kenneth Lofton Jr.",
           "TOT"
          ],
          [
           "Max Christie",
           "LAL"
          ],
          [
           "Bryce McGowens",
           "CHO"
          ],
          [
           "Jalen Pickett",
           "DEN"
          ],
          [
           "Julian Phillips",
           "CHI"
          ],
          [
           "Matt Ryan",
           "NOP"
          ],
          [
           "Craig Porter Jr.",
           "CLE"
          ],
          [
           "Jared Butler",
           "WAS"
          ],
          [
           "Sidy Cissoko",
           "SAS"
          ],
          [
           "Hunter Tyson",
           "DEN"
          ],
          [
           "Jordan Walsh",
           "BOS"
          ],
          [
           "Rayan Rupert",
           "POR"
          ],
          [
           "Chris Livingston",
           "MIL"
          ],
          [
           "Maxwell Lewis",
           "LAL"
          ],
          [
           "Trayce Jackson-Davis",
           "GSW"
          ],
          [
           "Mouhamed Gueye",
           "ATL"
          ],
          [
           "Toumani Camara",
           "POR"
          ],
          [
           "Andre Jackson Jr.",
           "MIL"
          ],
          [
           "Kendall Brown",
           "IND"
          ],
          [
           "Gui Santos",
           "GSW"
          ],
          [
           "A.J. Lawson",
           "DAL"
          ],
          [
           "Eugene Omoruyi",
           "WAS"
          ],
          [
           "Ricky Council IV",
           "PHI"
          ],
          [
           "Jalen Wilson",
           "BRK"
          ],
          [
           "DaQuan Jeffries",
           "NYK"
          ],
          [
           "Lindy Waters III",
           "OKC"
          ],
          [
           "Keon Ellis",
           "SAC"
          ],
          [
           "Jack White",
           "MEM"
          ],
          [
           "Filip Petrusev",
           "TOT"
          ],
          [
           "Lester Quinones",
           "GSW"
          ],
          [
           "Stanley Umude",
           "DET"
          ],
          [
           "Trent Forrest",
           "ATL"
          ],
          [
           "Darius Bazley",
           "TOT"
          ],
          [
           "Onuralp Bitim",
           "CHI"
          ],
          [
           "Dominick Barlow",
           "SAS"
          ],
          [
           "Juan Toscano-Anderson",
           "SAC"
          ],
          [
           "Javon Freeman-Liberty",
           "TOR"
          ],
          [
           "Mamadi Diakite",
           "TOT"
          ],
          [
           "Neemias Queta",
           "BOS"
          ],
          [
           "T.J. Warren",
           "MIN"
          ],
          [
           "Danny Green",
           "PHI"
          ],
          [
           "Javonte Green",
           "CHI"
          ],
          [
           "Luka Garza",
           "MIN"
          ],
          [
           "Isaiah Thomas",
           "PHO"
          ],
          [
           "Hamidou Diallo",
           "WAS"
          ],
          [
           "Ashton Hagans",
           "POR"
          ],
          [
           "Tosan Evbuomwan",
           "TOT"
          ],
          [
           "Malik Williams",
           "TOR"
          ],
          [
           "Taze Moore",
           "POR"
          ],
          [
           "Pete Nance",
           "CLE"
          ]
         ],
         "hovertemplate": "agePlayer=%{x}<br>Salary=%{marker.color}<br>namePlayer=%{customdata[0]}<br>slugTeamBREF=%{customdata[1]}<extra></extra>",
         "legendgroup": "",
         "marker": {
          "color": [
           51915615,
           47649433,
           47607350,
           47607350,
           47607350,
           46741590,
           45640084,
           45640084,
           45640084,
           45640084,
           45183960,
           43219440,
           41000000,
           40806300,
           40600080,
           40064220,
           40064220,
           40064220,
           39270150,
           37893408,
           37893408,
           37037037,
           36861707,
           36016200,
           36016200,
           36016200,
           35802469,
           35680595,
           34005250,
           34005250,
           34005250,
           33833400,
           33833400,
           33386850,
           33386850,
           33319397,
           33162030,
           32600060,
           32600060,
           32600060,
           32459438,
           31830357,
           30800000,
           30600000,
           32478379,
           29320988,
           28600000,
           28226880,
           27586207,
           27455357,
           27102202,
           27000000,
           26346666,
           25679348,
           25568182,
           25340000,
           25000000,
           24360000,
           24330357,
           24107143,
           23883929,
           23487629,
           23205221,
           22627671,
           22500000,
           22321429,
           22266182,
           22000000,
           21700000,
           20975000,
           20616000,
           21911797,
           20089286,
           20000000,
           20000000,
           20000000,
           19928571,
           19845098,
           19500000,
           18857143,
           18833713,
           18700000,
           18642857,
           18560000,
           18518519,
           18357143,
           18214000,
           18154000,
           18000000,
           17897728,
           17400000,
           17325000,
           17307693,
           17259999,
           17429682,
           17000000,
           17000000,
           17000000,
           16875000,
           16847826,
           15740741,
           15681818,
           15669643,
           15435000,
           15384616,
           15277778,
           14763636,
           14704938,
           14487684,
           14000000,
           13932008,
           13750000,
           13534817,
           13050000,
           13000000,
           12960000,
           12950400,
           12500000,
           12500000,
           12405000,
           12405000,
           12402000,
           12195122,
           12160680,
           12119440,
           12100000,
           12046020,
           12015150,
           12015150,
           11750000,
           11710818,
           11710818,
           11692308,
           11608080,
           11571429,
           11111111,
           11055360,
           11020000,
           11014500,
           13033786,
           11000000,
           11000000,
           10933333,
           10900635,
           10900000,
           10880400,
           10576923,
           10500000,
           10500000,
           10489600,
           10386000,
           10375000,
           10250000,
           10000000,
           9945830,
           9895833,
           9891480,
           9835881,
           9800926,
           9770880,
           9625000,
           9600000,
           9500000,
           9460000,
           9423869,
           9326520,
           9245121,
           9219512,
           8925000,
           8920795,
           8882640,
           8809320,
           8800000,
           8715000,
           8700000,
           8409000,
           8856750,
           8109063,
           8008680,
           8000000,
           8000000,
           8000000,
           8000000,
           8638413,
           7977480,
           7921300,
           7723000,
           7723000,
           7700000,
           7614480,
           7560000,
           7500000,
           7413955,
           7252080,
           7245480,
           8670002,
           6916080,
           6803012,
           6802950,
           7464578,
           7267250,
           6718842,
           6614280,
           6587040,
           8519706,
           6500000,
           6481482,
           6341464,
           6313800,
           6300000,
           6263188,
           6250000,
           6190476,
           6175000,
           6059520,
           6012840,
           5887899,
           5808435,
           5784120,
           5722116,
           5709877,
           5634257,
           5569920,
           5539771,
           5508720,
           5370370,
           5316960,
           5291400,
           5266713,
           5266713,
           5063640,
           5050800,
           5043773,
           5026800,
           5574809,
           5000000,
           5754488,
           5000000,
           5475908,
           5000000,
           4810200,
           4798440,
           4775640,
           4765339,
           4698000,
           4687500,
           4570080,
           4558680,
           4556983,
           4536720,
           4516000,
           4516000,
           4379527,
           4343920,
           6105941,
           4330680,
           4310250,
           4310160,
           4306281,
           4171548,
           4124400,
           4114200,
           4094280,
           4037277,
           4000000,
           4000000,
           4000000,
           3918480,
           3908160,
           3901399,
           3889800,
           3873025,
           3845083,
           3835738,
           3835738,
           3722040,
           3712920,
           3695040,
           3666667,
           3536280,
           3527160,
           3510600,
           4010730,
           3360000,
           5379706,
           3359280,
           3352440,
           3350760,
           3218160,
           3199920,
           3196448,
           3196448,
           3191400,
           3089520,
           3071880,
           3044872,
           3000000,
           3000000,
           3000000,
           2966040,
           2949120,
           2925360,
           2891467,
           2847480,
           2831160,
           2815937,
           2808720,
           2800000,
           2733720,
           2718240,
           2709849,
           2696280,
           2624040,
           2609400,
           2600000,
           2600008,
           2586665,
           2586665,
           2581522,
           2537160,
           2528233,
           2528233,
           2504640,
           2463960,
           2448600,
           2439025,
           2431080,
           2424892,
           2421720,
           2413320,
           2413304,
           2400000,
           2385720,
           2352000,
           4368030,
           2346614,
           2346614,
           2346614,
           2337720,
           2320440,
           2320000,
           2306400,
           2303520,
           777703,
           2240160,
           2232308,
           2226240,
           2210040,
           2196970,
           2194200,
           2165000,
           2165000,
           2165000,
           2131905,
           2066585,
           2066585,
           2019706,
           2961636,
           2019706,
           2019706,
           2019706,
           2019706,
           2019706,
           2019706,
           2019706,
           2019706,
           2019706,
           2019706,
           2019706,
           2019706,
           2019706,
           2019706,
           2351562,
           2419706,
           2019706,
           2019706,
           2019706,
           2019706,
           2019706,
           2019706,
           2019706,
           2019706,
           2019706,
           2019706,
           2019706,
           2019706,
           2019706,
           2019706,
           2019706,
           2019706,
           2019706,
           2019706,
           2019706,
           2000000,
           2000000,
           2000000,
           1997238,
           1997238,
           1997238,
           1991428,
           1951220,
           1930681,
           1930681,
           1930681,
           1927896,
           1927896,
           1927896,
           1927896,
           1927896,
           1902137,
           1901769,
           684843,
           1845593,
           1836096,
           1836096,
           1836096,
           1836096,
           1836096,
           1836096,
           1801769,
           1801769,
           1801769,
           1800000,
           1799163,
           1719864,
           1719864,
           1719864,
           1719864,
           500000,
           1719864,
           1719864,
           1708143,
           1600000,
           1500000,
           1500000,
           1250000,
           1119563,
           1119563,
           1119563,
           1119563,
           1119563,
           1119563,
           1119563,
           1119563,
           1119563,
           1119563,
           1100000,
           1029483,
           1000000,
           900000,
           864353,
           850000,
           1324828,
           766095,
           683430,
           600000,
           559782,
           548815,
           538460,
           533945,
           616075,
           500000,
           455620,
           439581,
           289542,
           368600,
           331253,
           452693,
           200000,
           243758,
           127683,
           301795,
           116075,
           103550,
           135120,
           77212,
           64343,
           64343
          ],
          "coloraxis": "coloraxis",
          "size": [
           51915615,
           47649433,
           47607350,
           47607350,
           47607350,
           46741590,
           45640084,
           45640084,
           45640084,
           45640084,
           45183960,
           43219440,
           41000000,
           40806300,
           40600080,
           40064220,
           40064220,
           40064220,
           39270150,
           37893408,
           37893408,
           37037037,
           36861707,
           36016200,
           36016200,
           36016200,
           35802469,
           35680595,
           34005250,
           34005250,
           34005250,
           33833400,
           33833400,
           33386850,
           33386850,
           33319397,
           33162030,
           32600060,
           32600060,
           32600060,
           32459438,
           31830357,
           30800000,
           30600000,
           32478379,
           29320988,
           28600000,
           28226880,
           27586207,
           27455357,
           27102202,
           27000000,
           26346666,
           25679348,
           25568182,
           25340000,
           25000000,
           24360000,
           24330357,
           24107143,
           23883929,
           23487629,
           23205221,
           22627671,
           22500000,
           22321429,
           22266182,
           22000000,
           21700000,
           20975000,
           20616000,
           21911797,
           20089286,
           20000000,
           20000000,
           20000000,
           19928571,
           19845098,
           19500000,
           18857143,
           18833713,
           18700000,
           18642857,
           18560000,
           18518519,
           18357143,
           18214000,
           18154000,
           18000000,
           17897728,
           17400000,
           17325000,
           17307693,
           17259999,
           17429682,
           17000000,
           17000000,
           17000000,
           16875000,
           16847826,
           15740741,
           15681818,
           15669643,
           15435000,
           15384616,
           15277778,
           14763636,
           14704938,
           14487684,
           14000000,
           13932008,
           13750000,
           13534817,
           13050000,
           13000000,
           12960000,
           12950400,
           12500000,
           12500000,
           12405000,
           12405000,
           12402000,
           12195122,
           12160680,
           12119440,
           12100000,
           12046020,
           12015150,
           12015150,
           11750000,
           11710818,
           11710818,
           11692308,
           11608080,
           11571429,
           11111111,
           11055360,
           11020000,
           11014500,
           13033786,
           11000000,
           11000000,
           10933333,
           10900635,
           10900000,
           10880400,
           10576923,
           10500000,
           10500000,
           10489600,
           10386000,
           10375000,
           10250000,
           10000000,
           9945830,
           9895833,
           9891480,
           9835881,
           9800926,
           9770880,
           9625000,
           9600000,
           9500000,
           9460000,
           9423869,
           9326520,
           9245121,
           9219512,
           8925000,
           8920795,
           8882640,
           8809320,
           8800000,
           8715000,
           8700000,
           8409000,
           8856750,
           8109063,
           8008680,
           8000000,
           8000000,
           8000000,
           8000000,
           8638413,
           7977480,
           7921300,
           7723000,
           7723000,
           7700000,
           7614480,
           7560000,
           7500000,
           7413955,
           7252080,
           7245480,
           8670002,
           6916080,
           6803012,
           6802950,
           7464578,
           7267250,
           6718842,
           6614280,
           6587040,
           8519706,
           6500000,
           6481482,
           6341464,
           6313800,
           6300000,
           6263188,
           6250000,
           6190476,
           6175000,
           6059520,
           6012840,
           5887899,
           5808435,
           5784120,
           5722116,
           5709877,
           5634257,
           5569920,
           5539771,
           5508720,
           5370370,
           5316960,
           5291400,
           5266713,
           5266713,
           5063640,
           5050800,
           5043773,
           5026800,
           5574809,
           5000000,
           5754488,
           5000000,
           5475908,
           5000000,
           4810200,
           4798440,
           4775640,
           4765339,
           4698000,
           4687500,
           4570080,
           4558680,
           4556983,
           4536720,
           4516000,
           4516000,
           4379527,
           4343920,
           6105941,
           4330680,
           4310250,
           4310160,
           4306281,
           4171548,
           4124400,
           4114200,
           4094280,
           4037277,
           4000000,
           4000000,
           4000000,
           3918480,
           3908160,
           3901399,
           3889800,
           3873025,
           3845083,
           3835738,
           3835738,
           3722040,
           3712920,
           3695040,
           3666667,
           3536280,
           3527160,
           3510600,
           4010730,
           3360000,
           5379706,
           3359280,
           3352440,
           3350760,
           3218160,
           3199920,
           3196448,
           3196448,
           3191400,
           3089520,
           3071880,
           3044872,
           3000000,
           3000000,
           3000000,
           2966040,
           2949120,
           2925360,
           2891467,
           2847480,
           2831160,
           2815937,
           2808720,
           2800000,
           2733720,
           2718240,
           2709849,
           2696280,
           2624040,
           2609400,
           2600000,
           2600008,
           2586665,
           2586665,
           2581522,
           2537160,
           2528233,
           2528233,
           2504640,
           2463960,
           2448600,
           2439025,
           2431080,
           2424892,
           2421720,
           2413320,
           2413304,
           2400000,
           2385720,
           2352000,
           4368030,
           2346614,
           2346614,
           2346614,
           2337720,
           2320440,
           2320000,
           2306400,
           2303520,
           777703,
           2240160,
           2232308,
           2226240,
           2210040,
           2196970,
           2194200,
           2165000,
           2165000,
           2165000,
           2131905,
           2066585,
           2066585,
           2019706,
           2961636,
           2019706,
           2019706,
           2019706,
           2019706,
           2019706,
           2019706,
           2019706,
           2019706,
           2019706,
           2019706,
           2019706,
           2019706,
           2019706,
           2019706,
           2351562,
           2419706,
           2019706,
           2019706,
           2019706,
           2019706,
           2019706,
           2019706,
           2019706,
           2019706,
           2019706,
           2019706,
           2019706,
           2019706,
           2019706,
           2019706,
           2019706,
           2019706,
           2019706,
           2019706,
           2019706,
           2000000,
           2000000,
           2000000,
           1997238,
           1997238,
           1997238,
           1991428,
           1951220,
           1930681,
           1930681,
           1930681,
           1927896,
           1927896,
           1927896,
           1927896,
           1927896,
           1902137,
           1901769,
           684843,
           1845593,
           1836096,
           1836096,
           1836096,
           1836096,
           1836096,
           1836096,
           1801769,
           1801769,
           1801769,
           1800000,
           1799163,
           1719864,
           1719864,
           1719864,
           1719864,
           500000,
           1719864,
           1719864,
           1708143,
           1600000,
           1500000,
           1500000,
           1250000,
           1119563,
           1119563,
           1119563,
           1119563,
           1119563,
           1119563,
           1119563,
           1119563,
           1119563,
           1119563,
           1100000,
           1029483,
           1000000,
           900000,
           864353,
           850000,
           1324828,
           766095,
           683430,
           600000,
           559782,
           548815,
           538460,
           533945,
           616075,
           500000,
           455620,
           439581,
           289542,
           368600,
           331253,
           452693,
           200000,
           243758,
           127683,
           301795,
           116075,
           103550,
           135120,
           77212,
           64343,
           64343
          ],
          "sizemode": "area",
          "sizeref": 129789.0375,
          "symbol": "circle"
         },
         "mode": "markers",
         "name": "",
         "orientation": "v",
         "showlegend": false,
         "type": "scatter",
         "x": [
          35,
          35,
          28,
          29,
          39,
          30,
          29,
          32,
          33,
          33,
          34,
          33,
          31,
          29,
          30,
          25,
          24,
          28,
          31,
          27,
          29,
          31,
          33,
          27,
          28,
          28,
          32,
          34,
          23,
          24,
          24,
          26,
          26,
          25,
          25,
          33,
          27,
          26,
          26,
          25,
          25,
          27,
          38,
          27,
          37,
          32,
          34,
          29,
          29,
          24,
          24,
          24,
          27,
          27,
          28,
          26,
          35,
          36,
          28,
          24,
          23,
          31,
          29,
          28,
          31,
          33,
          28,
          27,
          27,
          27,
          29,
          30,
          26,
          24,
          25,
          34,
          32,
          31,
          28,
          31,
          29,
          31,
          26,
          25,
          33,
          29,
          27,
          29,
          30,
          31,
          26,
          25,
          27,
          26,
          34,
          31,
          31,
          25,
          29,
          25,
          25,
          25,
          25,
          31,
          29,
          24,
          27,
          30,
          27,
          27,
          30,
          32,
          22,
          24,
          29,
          28,
          24,
          27,
          24,
          25,
          30,
          25,
          32,
          20,
          22,
          28,
          30,
          25,
          25,
          31,
          28,
          35,
          33,
          21,
          26,
          23,
          22,
          23,
          38,
          32,
          32,
          36,
          26,
          22,
          27,
          21,
          27,
          27,
          26,
          32,
          21,
          31,
          26,
          37,
          25,
          24,
          21,
          22,
          28,
          19,
          24,
          37,
          30,
          29,
          31,
          20,
          25,
          30,
          28,
          23,
          22,
          21,
          30,
          31,
          31,
          23,
          31,
          23,
          22,
          28,
          28,
          25,
          26,
          35,
          21,
          25,
          30,
          24,
          26,
          21,
          28,
          27,
          22,
          22,
          20,
          31,
          21,
          25,
          28,
          35,
          35,
          28,
          19,
          21,
          29,
          28,
          24,
          28,
          20,
          30,
          23,
          23,
          28,
          29,
          20,
          21,
          23,
          23,
          20,
          22,
          27,
          24,
          20,
          23,
          22,
          26,
          20,
          20,
          22,
          25,
          25,
          21,
          23,
          20,
          22,
          26,
          31,
          33,
          27,
          33,
          22,
          20,
          19,
          23,
          24,
          25,
          23,
          22,
          24,
          20,
          26,
          29,
          24,
          23,
          21,
          20,
          30,
          21,
          23,
          24,
          26,
          23,
          20,
          26,
          32,
          33,
          24,
          21,
          22,
          23,
          20,
          25,
          25,
          35,
          35,
          24,
          20,
          20,
          26,
          21,
          22,
          22,
          32,
          30,
          26,
          23,
          20,
          21,
          19,
          22,
          35,
          35,
          22,
          19,
          20,
          28,
          25,
          22,
          28,
          19,
          22,
          22,
          30,
          23,
          22,
          25,
          21,
          25,
          21,
          22,
          28,
          22,
          23,
          23,
          23,
          21,
          29,
          28,
          25,
          22,
          26,
          33,
          20,
          19,
          20,
          26,
          21,
          20,
          22,
          24,
          28,
          27,
          23,
          20,
          36,
          26,
          28,
          29,
          21,
          22,
          27,
          23,
          21,
          36,
          22,
          23,
          21,
          22,
          26,
          23,
          23,
          24,
          25,
          24,
          24,
          24,
          21,
          38,
          37,
          24,
          35,
          30,
          24,
          24,
          28,
          25,
          27,
          31,
          31,
          35,
          33,
          27,
          26,
          26,
          32,
          29,
          29,
          35,
          34,
          34,
          35,
          25,
          24,
          25,
          25,
          26,
          26,
          37,
          24,
          35,
          27,
          32,
          23,
          21,
          21,
          27,
          27,
          31,
          24,
          19,
          27,
          23,
          26,
          25,
          25,
          23,
          29,
          25,
          26,
          27,
          24,
          23,
          24,
          23,
          25,
          22,
          21,
          25,
          25,
          23,
          26,
          23,
          20,
          26,
          21,
          21,
          21,
          21,
          21,
          20,
          21,
          24,
          20,
          26,
          23,
          23,
          19,
          23,
          19,
          19,
          20,
          21,
          23,
          21,
          23,
          22,
          20,
          21,
          23,
          26,
          22,
          23,
          26,
          26,
          24,
          26,
          23,
          23,
          24,
          25,
          23,
          24,
          20,
          30,
          24,
          27,
          24,
          30,
          36,
          30,
          25,
          34,
          25,
          24,
          22,
          25,
          25,
          23
         ],
         "xaxis": "x",
         "y": [
          51915615,
          47649433,
          47607350,
          47607350,
          47607350,
          46741590,
          45640084,
          45640084,
          45640084,
          45640084,
          45183960,
          43219440,
          41000000,
          40806300,
          40600080,
          40064220,
          40064220,
          40064220,
          39270150,
          37893408,
          37893408,
          37037037,
          36861707,
          36016200,
          36016200,
          36016200,
          35802469,
          35680595,
          34005250,
          34005250,
          34005250,
          33833400,
          33833400,
          33386850,
          33386850,
          33319397,
          33162030,
          32600060,
          32600060,
          32600060,
          32459438,
          31830357,
          30800000,
          30600000,
          32478379,
          29320988,
          28600000,
          28226880,
          27586207,
          27455357,
          27102202,
          27000000,
          26346666,
          25679348,
          25568182,
          25340000,
          25000000,
          24360000,
          24330357,
          24107143,
          23883929,
          23487629,
          23205221,
          22627671,
          22500000,
          22321429,
          22266182,
          22000000,
          21700000,
          20975000,
          20616000,
          21911797,
          20089286,
          20000000,
          20000000,
          20000000,
          19928571,
          19845098,
          19500000,
          18857143,
          18833713,
          18700000,
          18642857,
          18560000,
          18518519,
          18357143,
          18214000,
          18154000,
          18000000,
          17897728,
          17400000,
          17325000,
          17307693,
          17259999,
          17429682,
          17000000,
          17000000,
          17000000,
          16875000,
          16847826,
          15740741,
          15681818,
          15669643,
          15435000,
          15384616,
          15277778,
          14763636,
          14704938,
          14487684,
          14000000,
          13932008,
          13750000,
          13534817,
          13050000,
          13000000,
          12960000,
          12950400,
          12500000,
          12500000,
          12405000,
          12405000,
          12402000,
          12195122,
          12160680,
          12119440,
          12100000,
          12046020,
          12015150,
          12015150,
          11750000,
          11710818,
          11710818,
          11692308,
          11608080,
          11571429,
          11111111,
          11055360,
          11020000,
          11014500,
          13033786,
          11000000,
          11000000,
          10933333,
          10900635,
          10900000,
          10880400,
          10576923,
          10500000,
          10500000,
          10489600,
          10386000,
          10375000,
          10250000,
          10000000,
          9945830,
          9895833,
          9891480,
          9835881,
          9800926,
          9770880,
          9625000,
          9600000,
          9500000,
          9460000,
          9423869,
          9326520,
          9245121,
          9219512,
          8925000,
          8920795,
          8882640,
          8809320,
          8800000,
          8715000,
          8700000,
          8409000,
          8856750,
          8109063,
          8008680,
          8000000,
          8000000,
          8000000,
          8000000,
          8638413,
          7977480,
          7921300,
          7723000,
          7723000,
          7700000,
          7614480,
          7560000,
          7500000,
          7413955,
          7252080,
          7245480,
          8670002,
          6916080,
          6803012,
          6802950,
          7464578,
          7267250,
          6718842,
          6614280,
          6587040,
          8519706,
          6500000,
          6481482,
          6341464,
          6313800,
          6300000,
          6263188,
          6250000,
          6190476,
          6175000,
          6059520,
          6012840,
          5887899,
          5808435,
          5784120,
          5722116,
          5709877,
          5634257,
          5569920,
          5539771,
          5508720,
          5370370,
          5316960,
          5291400,
          5266713,
          5266713,
          5063640,
          5050800,
          5043773,
          5026800,
          5574809,
          5000000,
          5754488,
          5000000,
          5475908,
          5000000,
          4810200,
          4798440,
          4775640,
          4765339,
          4698000,
          4687500,
          4570080,
          4558680,
          4556983,
          4536720,
          4516000,
          4516000,
          4379527,
          4343920,
          6105941,
          4330680,
          4310250,
          4310160,
          4306281,
          4171548,
          4124400,
          4114200,
          4094280,
          4037277,
          4000000,
          4000000,
          4000000,
          3918480,
          3908160,
          3901399,
          3889800,
          3873025,
          3845083,
          3835738,
          3835738,
          3722040,
          3712920,
          3695040,
          3666667,
          3536280,
          3527160,
          3510600,
          4010730,
          3360000,
          5379706,
          3359280,
          3352440,
          3350760,
          3218160,
          3199920,
          3196448,
          3196448,
          3191400,
          3089520,
          3071880,
          3044872,
          3000000,
          3000000,
          3000000,
          2966040,
          2949120,
          2925360,
          2891467,
          2847480,
          2831160,
          2815937,
          2808720,
          2800000,
          2733720,
          2718240,
          2709849,
          2696280,
          2624040,
          2609400,
          2600000,
          2600008,
          2586665,
          2586665,
          2581522,
          2537160,
          2528233,
          2528233,
          2504640,
          2463960,
          2448600,
          2439025,
          2431080,
          2424892,
          2421720,
          2413320,
          2413304,
          2400000,
          2385720,
          2352000,
          4368030,
          2346614,
          2346614,
          2346614,
          2337720,
          2320440,
          2320000,
          2306400,
          2303520,
          777703,
          2240160,
          2232308,
          2226240,
          2210040,
          2196970,
          2194200,
          2165000,
          2165000,
          2165000,
          2131905,
          2066585,
          2066585,
          2019706,
          2961636,
          2019706,
          2019706,
          2019706,
          2019706,
          2019706,
          2019706,
          2019706,
          2019706,
          2019706,
          2019706,
          2019706,
          2019706,
          2019706,
          2019706,
          2351562,
          2419706,
          2019706,
          2019706,
          2019706,
          2019706,
          2019706,
          2019706,
          2019706,
          2019706,
          2019706,
          2019706,
          2019706,
          2019706,
          2019706,
          2019706,
          2019706,
          2019706,
          2019706,
          2019706,
          2019706,
          2000000,
          2000000,
          2000000,
          1997238,
          1997238,
          1997238,
          1991428,
          1951220,
          1930681,
          1930681,
          1930681,
          1927896,
          1927896,
          1927896,
          1927896,
          1927896,
          1902137,
          1901769,
          684843,
          1845593,
          1836096,
          1836096,
          1836096,
          1836096,
          1836096,
          1836096,
          1801769,
          1801769,
          1801769,
          1800000,
          1799163,
          1719864,
          1719864,
          1719864,
          1719864,
          500000,
          1719864,
          1719864,
          1708143,
          1600000,
          1500000,
          1500000,
          1250000,
          1119563,
          1119563,
          1119563,
          1119563,
          1119563,
          1119563,
          1119563,
          1119563,
          1119563,
          1119563,
          1100000,
          1029483,
          1000000,
          900000,
          864353,
          850000,
          1324828,
          766095,
          683430,
          600000,
          559782,
          548815,
          538460,
          533945,
          616075,
          500000,
          455620,
          439581,
          289542,
          368600,
          331253,
          452693,
          200000,
          243758,
          127683,
          301795,
          116075,
          103550,
          135120,
          77212,
          64343,
          64343
         ],
         "yaxis": "y"
        }
       ],
       "layout": {
        "coloraxis": {
         "colorbar": {
          "title": {
           "text": "Salary"
          }
         },
         "colorscale": [
          [
           0,
           "rgb(75, 41, 145)"
          ],
          [
           0.16666666666666666,
           "rgb(135, 44, 162)"
          ],
          [
           0.3333333333333333,
           "rgb(192, 54, 157)"
          ],
          [
           0.5,
           "rgb(234, 79, 136)"
          ],
          [
           0.6666666666666666,
           "rgb(250, 120, 118)"
          ],
          [
           0.8333333333333334,
           "rgb(246, 169, 122)"
          ],
          [
           1,
           "rgb(237, 217, 163)"
          ]
         ]
        },
        "height": 700,
        "legend": {
         "itemsizing": "constant",
         "tracegroupgap": 0
        },
        "margin": {
         "t": 60
        },
        "template": {
         "data": {
          "bar": [
           {
            "error_x": {
             "color": "#2a3f5f"
            },
            "error_y": {
             "color": "#2a3f5f"
            },
            "marker": {
             "line": {
              "color": "#E5ECF6",
              "width": 0.5
             },
             "pattern": {
              "fillmode": "overlay",
              "size": 10,
              "solidity": 0.2
             }
            },
            "type": "bar"
           }
          ],
          "barpolar": [
           {
            "marker": {
             "line": {
              "color": "#E5ECF6",
              "width": 0.5
             },
             "pattern": {
              "fillmode": "overlay",
              "size": 10,
              "solidity": 0.2
             }
            },
            "type": "barpolar"
           }
          ],
          "carpet": [
           {
            "aaxis": {
             "endlinecolor": "#2a3f5f",
             "gridcolor": "white",
             "linecolor": "white",
             "minorgridcolor": "white",
             "startlinecolor": "#2a3f5f"
            },
            "baxis": {
             "endlinecolor": "#2a3f5f",
             "gridcolor": "white",
             "linecolor": "white",
             "minorgridcolor": "white",
             "startlinecolor": "#2a3f5f"
            },
            "type": "carpet"
           }
          ],
          "choropleth": [
           {
            "colorbar": {
             "outlinewidth": 0,
             "ticks": ""
            },
            "type": "choropleth"
           }
          ],
          "contour": [
           {
            "colorbar": {
             "outlinewidth": 0,
             "ticks": ""
            },
            "colorscale": [
             [
              0,
              "#0d0887"
             ],
             [
              0.1111111111111111,
              "#46039f"
             ],
             [
              0.2222222222222222,
              "#7201a8"
             ],
             [
              0.3333333333333333,
              "#9c179e"
             ],
             [
              0.4444444444444444,
              "#bd3786"
             ],
             [
              0.5555555555555556,
              "#d8576b"
             ],
             [
              0.6666666666666666,
              "#ed7953"
             ],
             [
              0.7777777777777778,
              "#fb9f3a"
             ],
             [
              0.8888888888888888,
              "#fdca26"
             ],
             [
              1,
              "#f0f921"
             ]
            ],
            "type": "contour"
           }
          ],
          "contourcarpet": [
           {
            "colorbar": {
             "outlinewidth": 0,
             "ticks": ""
            },
            "type": "contourcarpet"
           }
          ],
          "heatmap": [
           {
            "colorbar": {
             "outlinewidth": 0,
             "ticks": ""
            },
            "colorscale": [
             [
              0,
              "#0d0887"
             ],
             [
              0.1111111111111111,
              "#46039f"
             ],
             [
              0.2222222222222222,
              "#7201a8"
             ],
             [
              0.3333333333333333,
              "#9c179e"
             ],
             [
              0.4444444444444444,
              "#bd3786"
             ],
             [
              0.5555555555555556,
              "#d8576b"
             ],
             [
              0.6666666666666666,
              "#ed7953"
             ],
             [
              0.7777777777777778,
              "#fb9f3a"
             ],
             [
              0.8888888888888888,
              "#fdca26"
             ],
             [
              1,
              "#f0f921"
             ]
            ],
            "type": "heatmap"
           }
          ],
          "heatmapgl": [
           {
            "colorbar": {
             "outlinewidth": 0,
             "ticks": ""
            },
            "colorscale": [
             [
              0,
              "#0d0887"
             ],
             [
              0.1111111111111111,
              "#46039f"
             ],
             [
              0.2222222222222222,
              "#7201a8"
             ],
             [
              0.3333333333333333,
              "#9c179e"
             ],
             [
              0.4444444444444444,
              "#bd3786"
             ],
             [
              0.5555555555555556,
              "#d8576b"
             ],
             [
              0.6666666666666666,
              "#ed7953"
             ],
             [
              0.7777777777777778,
              "#fb9f3a"
             ],
             [
              0.8888888888888888,
              "#fdca26"
             ],
             [
              1,
              "#f0f921"
             ]
            ],
            "type": "heatmapgl"
           }
          ],
          "histogram": [
           {
            "marker": {
             "pattern": {
              "fillmode": "overlay",
              "size": 10,
              "solidity": 0.2
             }
            },
            "type": "histogram"
           }
          ],
          "histogram2d": [
           {
            "colorbar": {
             "outlinewidth": 0,
             "ticks": ""
            },
            "colorscale": [
             [
              0,
              "#0d0887"
             ],
             [
              0.1111111111111111,
              "#46039f"
             ],
             [
              0.2222222222222222,
              "#7201a8"
             ],
             [
              0.3333333333333333,
              "#9c179e"
             ],
             [
              0.4444444444444444,
              "#bd3786"
             ],
             [
              0.5555555555555556,
              "#d8576b"
             ],
             [
              0.6666666666666666,
              "#ed7953"
             ],
             [
              0.7777777777777778,
              "#fb9f3a"
             ],
             [
              0.8888888888888888,
              "#fdca26"
             ],
             [
              1,
              "#f0f921"
             ]
            ],
            "type": "histogram2d"
           }
          ],
          "histogram2dcontour": [
           {
            "colorbar": {
             "outlinewidth": 0,
             "ticks": ""
            },
            "colorscale": [
             [
              0,
              "#0d0887"
             ],
             [
              0.1111111111111111,
              "#46039f"
             ],
             [
              0.2222222222222222,
              "#7201a8"
             ],
             [
              0.3333333333333333,
              "#9c179e"
             ],
             [
              0.4444444444444444,
              "#bd3786"
             ],
             [
              0.5555555555555556,
              "#d8576b"
             ],
             [
              0.6666666666666666,
              "#ed7953"
             ],
             [
              0.7777777777777778,
              "#fb9f3a"
             ],
             [
              0.8888888888888888,
              "#fdca26"
             ],
             [
              1,
              "#f0f921"
             ]
            ],
            "type": "histogram2dcontour"
           }
          ],
          "mesh3d": [
           {
            "colorbar": {
             "outlinewidth": 0,
             "ticks": ""
            },
            "type": "mesh3d"
           }
          ],
          "parcoords": [
           {
            "line": {
             "colorbar": {
              "outlinewidth": 0,
              "ticks": ""
             }
            },
            "type": "parcoords"
           }
          ],
          "pie": [
           {
            "automargin": true,
            "type": "pie"
           }
          ],
          "scatter": [
           {
            "fillpattern": {
             "fillmode": "overlay",
             "size": 10,
             "solidity": 0.2
            },
            "type": "scatter"
           }
          ],
          "scatter3d": [
           {
            "line": {
             "colorbar": {
              "outlinewidth": 0,
              "ticks": ""
             }
            },
            "marker": {
             "colorbar": {
              "outlinewidth": 0,
              "ticks": ""
             }
            },
            "type": "scatter3d"
           }
          ],
          "scattercarpet": [
           {
            "marker": {
             "colorbar": {
              "outlinewidth": 0,
              "ticks": ""
             }
            },
            "type": "scattercarpet"
           }
          ],
          "scattergeo": [
           {
            "marker": {
             "colorbar": {
              "outlinewidth": 0,
              "ticks": ""
             }
            },
            "type": "scattergeo"
           }
          ],
          "scattergl": [
           {
            "marker": {
             "colorbar": {
              "outlinewidth": 0,
              "ticks": ""
             }
            },
            "type": "scattergl"
           }
          ],
          "scattermapbox": [
           {
            "marker": {
             "colorbar": {
              "outlinewidth": 0,
              "ticks": ""
             }
            },
            "type": "scattermapbox"
           }
          ],
          "scatterpolar": [
           {
            "marker": {
             "colorbar": {
              "outlinewidth": 0,
              "ticks": ""
             }
            },
            "type": "scatterpolar"
           }
          ],
          "scatterpolargl": [
           {
            "marker": {
             "colorbar": {
              "outlinewidth": 0,
              "ticks": ""
             }
            },
            "type": "scatterpolargl"
           }
          ],
          "scatterternary": [
           {
            "marker": {
             "colorbar": {
              "outlinewidth": 0,
              "ticks": ""
             }
            },
            "type": "scatterternary"
           }
          ],
          "surface": [
           {
            "colorbar": {
             "outlinewidth": 0,
             "ticks": ""
            },
            "colorscale": [
             [
              0,
              "#0d0887"
             ],
             [
              0.1111111111111111,
              "#46039f"
             ],
             [
              0.2222222222222222,
              "#7201a8"
             ],
             [
              0.3333333333333333,
              "#9c179e"
             ],
             [
              0.4444444444444444,
              "#bd3786"
             ],
             [
              0.5555555555555556,
              "#d8576b"
             ],
             [
              0.6666666666666666,
              "#ed7953"
             ],
             [
              0.7777777777777778,
              "#fb9f3a"
             ],
             [
              0.8888888888888888,
              "#fdca26"
             ],
             [
              1,
              "#f0f921"
             ]
            ],
            "type": "surface"
           }
          ],
          "table": [
           {
            "cells": {
             "fill": {
              "color": "#EBF0F8"
             },
             "line": {
              "color": "white"
             }
            },
            "header": {
             "fill": {
              "color": "#C8D4E3"
             },
             "line": {
              "color": "white"
             }
            },
            "type": "table"
           }
          ]
         },
         "layout": {
          "annotationdefaults": {
           "arrowcolor": "#2a3f5f",
           "arrowhead": 0,
           "arrowwidth": 1
          },
          "autotypenumbers": "strict",
          "coloraxis": {
           "colorbar": {
            "outlinewidth": 0,
            "ticks": ""
           }
          },
          "colorscale": {
           "diverging": [
            [
             0,
             "#8e0152"
            ],
            [
             0.1,
             "#c51b7d"
            ],
            [
             0.2,
             "#de77ae"
            ],
            [
             0.3,
             "#f1b6da"
            ],
            [
             0.4,
             "#fde0ef"
            ],
            [
             0.5,
             "#f7f7f7"
            ],
            [
             0.6,
             "#e6f5d0"
            ],
            [
             0.7,
             "#b8e186"
            ],
            [
             0.8,
             "#7fbc41"
            ],
            [
             0.9,
             "#4d9221"
            ],
            [
             1,
             "#276419"
            ]
           ],
           "sequential": [
            [
             0,
             "#0d0887"
            ],
            [
             0.1111111111111111,
             "#46039f"
            ],
            [
             0.2222222222222222,
             "#7201a8"
            ],
            [
             0.3333333333333333,
             "#9c179e"
            ],
            [
             0.4444444444444444,
             "#bd3786"
            ],
            [
             0.5555555555555556,
             "#d8576b"
            ],
            [
             0.6666666666666666,
             "#ed7953"
            ],
            [
             0.7777777777777778,
             "#fb9f3a"
            ],
            [
             0.8888888888888888,
             "#fdca26"
            ],
            [
             1,
             "#f0f921"
            ]
           ],
           "sequentialminus": [
            [
             0,
             "#0d0887"
            ],
            [
             0.1111111111111111,
             "#46039f"
            ],
            [
             0.2222222222222222,
             "#7201a8"
            ],
            [
             0.3333333333333333,
             "#9c179e"
            ],
            [
             0.4444444444444444,
             "#bd3786"
            ],
            [
             0.5555555555555556,
             "#d8576b"
            ],
            [
             0.6666666666666666,
             "#ed7953"
            ],
            [
             0.7777777777777778,
             "#fb9f3a"
            ],
            [
             0.8888888888888888,
             "#fdca26"
            ],
            [
             1,
             "#f0f921"
            ]
           ]
          },
          "colorway": [
           "#636efa",
           "#EF553B",
           "#00cc96",
           "#ab63fa",
           "#FFA15A",
           "#19d3f3",
           "#FF6692",
           "#B6E880",
           "#FF97FF",
           "#FECB52"
          ],
          "font": {
           "color": "#2a3f5f"
          },
          "geo": {
           "bgcolor": "white",
           "lakecolor": "white",
           "landcolor": "#E5ECF6",
           "showlakes": true,
           "showland": true,
           "subunitcolor": "white"
          },
          "hoverlabel": {
           "align": "left"
          },
          "hovermode": "closest",
          "mapbox": {
           "style": "light"
          },
          "paper_bgcolor": "white",
          "plot_bgcolor": "#E5ECF6",
          "polar": {
           "angularaxis": {
            "gridcolor": "white",
            "linecolor": "white",
            "ticks": ""
           },
           "bgcolor": "#E5ECF6",
           "radialaxis": {
            "gridcolor": "white",
            "linecolor": "white",
            "ticks": ""
           }
          },
          "scene": {
           "xaxis": {
            "backgroundcolor": "#E5ECF6",
            "gridcolor": "white",
            "gridwidth": 2,
            "linecolor": "white",
            "showbackground": true,
            "ticks": "",
            "zerolinecolor": "white"
           },
           "yaxis": {
            "backgroundcolor": "#E5ECF6",
            "gridcolor": "white",
            "gridwidth": 2,
            "linecolor": "white",
            "showbackground": true,
            "ticks": "",
            "zerolinecolor": "white"
           },
           "zaxis": {
            "backgroundcolor": "#E5ECF6",
            "gridcolor": "white",
            "gridwidth": 2,
            "linecolor": "white",
            "showbackground": true,
            "ticks": "",
            "zerolinecolor": "white"
           }
          },
          "shapedefaults": {
           "line": {
            "color": "#2a3f5f"
           }
          },
          "ternary": {
           "aaxis": {
            "gridcolor": "white",
            "linecolor": "white",
            "ticks": ""
           },
           "baxis": {
            "gridcolor": "white",
            "linecolor": "white",
            "ticks": ""
           },
           "bgcolor": "#E5ECF6",
           "caxis": {
            "gridcolor": "white",
            "linecolor": "white",
            "ticks": ""
           }
          },
          "title": {
           "x": 0.05
          },
          "xaxis": {
           "automargin": true,
           "gridcolor": "white",
           "linecolor": "white",
           "ticks": "",
           "title": {
            "standoff": 15
           },
           "zerolinecolor": "white",
           "zerolinewidth": 2
          },
          "yaxis": {
           "automargin": true,
           "gridcolor": "white",
           "linecolor": "white",
           "ticks": "",
           "title": {
            "standoff": 15
           },
           "zerolinecolor": "white",
           "zerolinewidth": 2
          }
         }
        },
        "xaxis": {
         "anchor": "y",
         "domain": [
          0,
          1
         ],
         "title": {
          "text": "agePlayer"
         }
        },
        "yaxis": {
         "anchor": "x",
         "domain": [
          0,
          1
         ],
         "title": {
          "text": "Salary"
         }
        }
       }
      }
     },
     "metadata": {},
     "output_type": "display_data"
    }
   ],
   "source": [
    "# Visualizar el salario de los jugadores de acuerdo a su edad\n",
    "fig = px.scatter(SS, x=\"agePlayer\", y=\"Salary\", color = \"Salary\",\n",
    "                 size='Salary', hover_data=['namePlayer','slugTeamBREF'], color_continuous_scale=px.colors.sequential.Agsunset, height=700)\n",
    "fig.show()"
   ]
  },
  {
   "cell_type": "code",
   "execution_count": 82,
   "metadata": {},
   "outputs": [
    {
     "data": {
      "application/vnd.plotly.v1+json": {
       "config": {
        "plotlyServerURL": "https://plot.ly"
       },
       "data": [
        {
         "customdata": [
          [
           "Stephen Curry"
          ],
          [
           "Kevin Durant"
          ],
          [
           "Nikola Jokic"
          ],
          [
           "Joel Embiid"
          ],
          [
           "LeBron James"
          ],
          [
           "Bradley Beal"
          ],
          [
           "Giannis Antetokounmpo"
          ],
          [
           "Kawhi Leonard"
          ],
          [
           "Damian Lillard"
          ],
          [
           "Paul George"
          ],
          [
           "Jimmy Butler"
          ],
          [
           "Klay Thompson"
          ],
          [
           "Rudy Gobert"
          ],
          [
           "Fred VanVleet"
          ],
          [
           "Anthony Davis"
          ],
          [
           "Trae Young"
          ],
          [
           "Luka Doncic"
          ],
          [
           "Zach LaVine"
          ],
          [
           "Tobias Harris"
          ],
          [
           "Ben Simmons"
          ],
          [
           "Pascal Siakam"
          ],
          [
           "Kyrie Irving"
          ],
          [
           "Jrue Holiday"
          ],
          [
           "Devin Booker"
          ],
          [
           "Karl-Anthony Towns"
          ],
          [
           "Kristaps Porzingis"
          ],
          [
           "CJ McCollum"
          ],
          [
           "James Harden"
          ],
          [
           "Zion Williamson"
          ],
          [
           "Ja Morant"
          ],
          [
           "Darius Garland"
          ],
          [
           "Brandon Ingram"
          ],
          [
           "Jamal Murray"
          ],
          [
           "Shai Gilgeous-Alexander"
          ],
          [
           "Michael Porter Jr."
          ],
          [
           "Gordon Hayward"
          ],
          [
           "Donovan Mitchell"
          ],
          [
           "De'Aaron Fox"
          ],
          [
           "Bam Adebayo"
          ],
          [
           "Jayson Tatum"
          ],
          [
           "Deandre Ayton"
          ],
          [
           "Jaylen Brown"
          ],
          [
           "Chris Paul"
          ],
          [
           "Domantas Sabonis"
          ],
          [
           "Kyle Lowry"
          ],
          [
           "Khris Middleton"
          ],
          [
           "DeMar DeRozan"
          ],
          [
           "Julius Randle"
          ],
          [
           "Jerami Grant"
          ],
          [
           "Jordan Poole"
          ],
          [
           "Jaren Jackson Jr."
          ],
          [
           "Tyler Herro"
          ],
          [
           "Jalen Brunson"
          ],
          [
           "Cameron Johnson"
          ],
          [
           "Kyle Kuzma"
          ],
          [
           "John Collins"
          ],
          [
           "Brook Lopez"
          ],
          [
           "Mike Conley"
          ],
          [
           "Andrew Wiggins"
          ],
          [
           "Anfernee Simons"
          ],
          [
           "RJ Barrett"
          ],
          [
           "Jordan Clarkson"
          ],
          [
           "Terry Rozier"
          ],
          [
           "Dillon Brooks"
          ],
          [
           "Malcolm Brogdon"
          ],
          [
           "Draymond Green"
          ],
          [
           "Aaron Gordon"
          ],
          [
           "Bruce Brown"
          ],
          [
           "Mikal Bridges"
          ],
          [
           "Myles Turner"
          ],
          [
           "Clint Capela"
          ],
          [
           "Spencer Dinwiddie"
          ],
          [
           "De'Andre Hunter"
          ],
          [
           "Keldon Johnson"
          ],
          [
           "Jarrett Allen"
          ],
          [
           "Bojan Bogdanovic"
          ],
          [
           "Joe Harris"
          ],
          [
           "Buddy Hield"
          ],
          [
           "Jakob Poeltl"
          ],
          [
           "Evan Fournier"
          ],
          [
           "Marcus Smart"
          ],
          [
           "Bogdan Bogdanovic"
          ],
          [
           "OG Anunoby"
          ],
          [
           "Gary Trent Jr."
          ],
          [
           "Nikola Vucevic"
          ],
          [
           "Derrick White"
          ],
          [
           "Dejounte Murray"
          ],
          [
           "Duncan Robinson"
          ],
          [
           "Norman Powell"
          ],
          [
           "Tim Hardaway Jr."
          ],
          [
           "Jonathan Isaac"
          ],
          [
           "Collin Sexton"
          ],
          [
           "D'Angelo Russell"
          ],
          [
           "Lauri Markkanen"
          ],
          [
           "Marcus Morris Sr."
          ],
          [
           "Harrison Barnes"
          ],
          [
           "Davis Bertans"
          ],
          [
           "Markelle Fultz"
          ],
          [
           "Jusuf Nurkic"
          ],
          [
           "P.J. Washington"
          ],
          [
           "Rui Hachimura"
          ],
          [
           "Mitchell Robinson"
          ],
          [
           "Kevin Huerter"
          ],
          [
           "Jonas Valanciunas"
          ],
          [
           "Caris LeVert"
          ],
          [
           "Luguentz Dort"
          ],
          [
           "Luke Kennard"
          ],
          [
           "Kentavious Caldwell-Pope"
          ],
          [
           "Max Strus"
          ],
          [
           "Tyus Jones"
          ],
          [
           "Dorian Finney-Smith"
          ],
          [
           "Doug McDermott"
          ],
          [
           "Anthony Edwards"
          ],
          [
           "Wendell Carter Jr."
          ],
          [
           "Gary Harris"
          ],
          [
           "Josh Hart"
          ],
          [
           "Naz Reid"
          ],
          [
           "Brandon Clarke"
          ],
          [
           "Marvin Bagley III"
          ],
          [
           "Grant Williams"
          ],
          [
           "Dennis Schroder"
          ],
          [
           "Daniel Gafford"
          ],
          [
           "Kelly Olynyk"
          ],
          [
           "Victor Wembanyama"
          ],
          [
           "James Wiseman"
          ],
          [
           "Devonte' Graham"
          ],
          [
           "Richaun Holmes"
          ],
          [
           "Herbert Jones"
          ],
          [
           "Austin Reaves"
          ],
          [
           "Chris Boucher"
          ],
          [
           "Bobby Portis"
          ],
          [
           "Nicolas Batum"
          ],
          [
           "Robert Covington"
          ],
          [
           "Paolo Banchero"
          ],
          [
           "Robert Williams III"
          ],
          [
           "Coby White"
          ],
          [
           "Cade Cunningham"
          ],
          [
           "Talen Horton-Tucker"
          ],
          [
           "P.J. Tucker"
          ],
          [
           "Reggie Bullock"
          ],
          [
           "Maxi Kleber"
          ],
          [
           "Joe Ingles"
          ],
          [
           "Ivica Zubac"
          ],
          [
           "LaMelo Ball"
          ],
          [
           "Donte DiVincenzo"
          ],
          [
           "Brandon Miller"
          ],
          [
           "Terance Mann"
          ],
          [
           "Gabe Vincent"
          ],
          [
           "Matisse Thybulle"
          ],
          [
           "Alec Burks"
          ],
          [
           "Chet Holmgren"
          ],
          [
           "Larry Nance Jr."
          ],
          [
           "Landry Shamet"
          ],
          [
           "Al Horford"
          ],
          [
           "Malik Monk"
          ],
          [
           "Tre Jones"
          ],
          [
           "Jalen Green"
          ],
          [
           "Patrick Williams"
          ],
          [
           "Monte Morris"
          ],
          [
           "Scoot Henderson"
          ],
          [
           "Nic Claxton"
          ],
          [
           "Jeff Green"
          ],
          [
           "Royce O'Neale"
          ],
          [
           "Alex Caruso"
          ],
          [
           "Pat Connaughton"
          ],
          [
           "Jabari Smith Jr."
          ],
          [
           "Isaiah Hartenstein"
          ],
          [
           "Kyle Anderson"
          ],
          [
           "Grayson Allen"
          ],
          [
           "Isaac Okoro"
          ],
          [
           "Evan Mobley"
          ],
          [
           "Amen Thompson"
          ],
          [
           "Georges Niang"
          ],
          [
           "Gary Payton II"
          ],
          [
           "T.J. McConnell"
          ],
          [
           "Keegan Murray"
          ],
          [
           "Delon Wright"
          ],
          [
           "Onyeka Okongwu"
          ],
          [
           "Scottie Barnes"
          ],
          [
           "Jock Landale"
          ],
          [
           "Trey Lyles"
          ],
          [
           "De'Anthony Melton"
          ],
          [
           "Moritz Wagner"
          ],
          [
           "Thaddeus Young"
          ],
          [
           "Ausar Thompson"
          ],
          [
           "Miles Bridges"
          ],
          [
           "Vasilije Micic"
          ],
          [
           "Paul Reed"
          ],
          [
           "Zach Collins"
          ],
          [
           "Jaden Ivey"
          ],
          [
           "Cody Martin"
          ],
          [
           "Kevon Looney"
          ],
          [
           "Killian Hayes"
          ],
          [
           "Jalen Suggs"
          ],
          [
           "Anthony Black"
          ],
          [
           "Daniel Theis"
          ],
          [
           "Bennedict Mathurin"
          ],
          [
           "Obi Toppin"
          ],
          [
           "Caleb Martin"
          ],
          [
           "Danilo Gallinari"
          ],
          [
           "Patty Mills"
          ],
          [
           "Cedi Osman"
          ],
          [
           "Bilal Coulibaly"
          ],
          [
           "Josh Giddey"
          ],
          [
           "Cameron Payne"
          ],
          [
           "Jae'Sean Tate"
          ],
          [
           "Ayo Dosunmu"
          ],
          [
           "Sasha Vezenkov"
          ],
          [
           "Shaedon Sharpe"
          ],
          [
           "Otto Porter Jr."
          ],
          [
           "Deni Avdija"
          ],
          [
           "Nassir Little"
          ],
          [
           "Jevon Carter"
          ],
          [
           "Kenrich Williams"
          ],
          [
           "Jarace Walker"
          ],
          [
           "Jonathan Kuminga"
          ],
          [
           "Devin Vassell"
          ],
          [
           "Tyrese Haliburton"
          ],
          [
           "Dyson Daniels"
          ],
          [
           "Kira Lewis Jr."
          ],
          [
           "Dean Wade"
          ],
          [
           "Aaron Nesmith"
          ],
          [
           "Taylor Hendricks"
          ],
          [
           "Cole Anthony"
          ],
          [
           "Franz Wagner"
          ],
          [
           "Furkan Korkmaz"
          ],
          [
           "Jeremy Sochan"
          ],
          [
           "Cason Wallace"
          ],
          [
           "Isaiah Stewart"
          ],
          [
           "Chuma Okeke"
          ],
          [
           "Davion Mitchell"
          ],
          [
           "Johnny Davis"
          ],
          [
           "Jalen Smith"
          ],
          [
           "Jett Howard"
          ],
          [
           "Aleksej Pokusevski"
          ],
          [
           "Nick Richards"
          ],
          [
           "Bismack Biyombo"
          ],
          [
           "Mason Plumlee"
          ],
          [
           "Shake Milton"
          ],
          [
           "Reggie Jackson"
          ],
          [
           "Ziaire Williams"
          ],
          [
           "Ousmane Dieng"
          ],
          [
           "Dereck Lively II"
          ],
          [
           "Josh Green"
          ],
          [
           "Jarred Vanderbilt"
          ],
          [
           "Nickeil Alexander-Walker"
          ],
          [
           "James Bouknight"
          ],
          [
           "Jalen Williams"
          ],
          [
           "Saddiq Bey"
          ],
          [
           "Gradey Dick"
          ],
          [
           "Jalen McDaniels"
          ],
          [
           "Taurean Prince"
          ],
          [
           "Precious Achiuwa"
          ],
          [
           "Tyrese Maxey"
          ],
          [
           "Joshua Primo"
          ],
          [
           "Jalen Duren"
          ],
          [
           "Danuel House Jr."
          ],
          [
           "Jordan Hawkins"
          ],
          [
           "Zeke Nnaji"
          ],
          [
           "Immanuel Quickley"
          ],
          [
           "Chris Duarte"
          ],
          [
           "Ochai Agbaji"
          ],
          [
           "Kobe Bufkin"
          ],
          [
           "Payton Pritchard"
          ],
          [
           "Dwight Powell"
          ],
          [
           "Seth Curry"
          ],
          [
           "Troy Brown Jr."
          ],
          [
           "Moses Moody"
          ],
          [
           "Mark Williams"
          ],
          [
           "Jaden McDaniels"
          ],
          [
           "Keyonte George"
          ],
          [
           "Malachi Flynn"
          ],
          [
           "Desmond Bane"
          ],
          [
           "Kevin Love"
          ],
          [
           "Russell Westbrook"
          ],
          [
           "Corey Kispert"
          ],
          [
           "AJ Griffin"
          ],
          [
           "Jalen Hood-Schifino"
          ],
          [
           "Amir Coffey"
          ],
          [
           "Alperen Sengun"
          ],
          [
           "Tari Eason"
          ],
          [
           "Jaime Jaquez Jr."
          ],
          [
           "Mike Muscala"
          ],
          [
           "Andre Drummond"
          ],
          [
           "Derrick Jones Jr."
          ],
          [
           "Trey Murphy III"
          ],
          [
           "Brandin Podziemski"
          ],
          [
           "Dalen Terry"
          ],
          [
           "Cam Whitmore"
          ],
          [
           "Jake LaRavia"
          ],
          [
           "Derrick Rose"
          ],
          [
           "Eric Gordon"
          ],
          [
           "Tre Mann"
          ],
          [
           "Noah Clowney"
          ],
          [
           "Malaki Branham"
          ],
          [
           "Simone Fontecchio"
          ],
          [
           "Jordan Nwora"
          ],
          [
           "Julian Champagnie"
          ],
          [
           "Dante Exum"
          ],
          [
           "Dariq Whitehead"
          ],
          [
           "Christian Braun"
          ],
          [
           "Jalen Johnson"
          ],
          [
           "Josh Richardson"
          ],
          [
           "Kris Murray"
          ],
          [
           "Walker Kessler"
          ],
          [
           "Josh Okogie"
          ],
          [
           "Keon Johnson"
          ],
          [
           "Omer Yurtseven"
          ],
          [
           "Olivier-Maxence Prosper"
          ],
          [
           "David Roddy"
          ],
          [
           "Christian Wood"
          ],
          [
           "Isaiah Jackson"
          ],
          [
           "Marcus Sasser"
          ],
          [
           "MarJon Beauchamp"
          ],
          [
           "Charles Bassey"
          ],
          [
           "Usman Garuba"
          ],
          [
           "Kris Dunn"
          ],
          [
           "Damian Jones"
          ],
          [
           "Bruno Fernando"
          ],
          [
           "Ben Sheppard"
          ],
          [
           "Thomas Bryant"
          ],
          [
           "Torrey Craig"
          ],
          [
           "Blake Wesley"
          ],
          [
           "Nick Smith Jr."
          ],
          [
           "Brice Sensabaugh"
          ],
          [
           "Ty Jerome"
          ],
          [
           "Julian Strawther"
          ],
          [
           "Tristan Vukcevic"
          ],
          [
           "Wendell Moore Jr."
          ],
          [
           "Kobe Brown"
          ],
          [
           "Luke Kornet"
          ],
          [
           "John Konchar"
          ],
          [
           "Quentin Grimes"
          ],
          [
           "Nikola Jovic"
          ],
          [
           "JaVale McGee"
          ],
          [
           "Drew Eubanks"
          ],
          [
           "Keita Bates-Diop"
          ],
          [
           "Yuta Watanabe"
          ],
          [
           "Patrick Baldwin Jr."
          ],
          [
           "TyTy Washington Jr."
          ],
          [
           "Jordan McLaughlin"
          ],
          [
           "Bones Hyland"
          ],
          [
           "Peyton Watson"
          ],
          [
           "James Johnson"
          ],
          [
           "Cam Thomas"
          ],
          [
           "Vince Williams Jr."
          ],
          [
           "Jaden Springer"
          ],
          [
           "Day'Ron Sharpe"
          ],
          [
           "Jeff Dowtin"
          ],
          [
           "Santi Aldama"
          ],
          [
           "Jaxson Hayes"
          ],
          [
           "Cam Reddish"
          ],
          [
           "Oshae Brissett"
          ],
          [
           "Andrew Nembhard"
          ],
          [
           "Luka Samanic"
          ],
          [
           "Goga Bitadze"
          ],
          [
           "Colby Jones"
          ],
          [
           "Taj Gibson"
          ],
          [
           "Garrett Temple"
          ],
          [
           "Sandro Mamukelashvili"
          ],
          [
           "Robin Lopez"
          ],
          [
           "Alex Len"
          ],
          [
           "Dalano Banton"
          ],
          [
           "Bol Bol"
          ],
          [
           "Kelly Oubre Jr."
          ],
          [
           "Mo Bamba"
          ],
          [
           "Dylan Windler"
          ],
          [
           "Cody Zeller"
          ],
          [
           "Thanasis Antetokounmpo"
          ],
          [
           "Patrick Beverley"
          ],
          [
           "Jae Crowder"
          ],
          [
           "Malik Beasley"
          ],
          [
           "Chimezie Metu"
          ],
          [
           "Lamar Stevens"
          ],
          [
           "Cory Joseph"
          ],
          [
           "Dario Saric"
          ],
          [
           "Ryan Arcidiacono"
          ],
          [
           "DeAndre Jordan"
          ],
          [
           "Justin Holiday"
          ],
          [
           "Markieff Morris"
          ],
          [
           "Ish Smith"
          ],
          [
           "Frank Ntilikina"
          ],
          [
           "Terry Taylor"
          ],
          [
           "Harry Giles III"
          ],
          [
           "Lonnie Walker IV"
          ],
          [
           "Dennis Smith Jr."
          ],
          [
           "Svi Mykhailiuk"
          ],
          [
           "Wesley Matthews"
          ],
          [
           "Moses Brown"
          ],
          [
           "Boban Marjanovic"
          ],
          [
           "Aaron Holiday"
          ],
          [
           "Tristan Thompson"
          ],
          [
           "Trendon Watford"
          ],
          [
           "Caleb Houstan"
          ],
          [
           "Jaylin Williams"
          ],
          [
           "Garrison Mathews"
          ],
          [
           "Sam Merrill"
          ],
          [
           "Anthony Gill"
          ],
          [
           "Isaiah Joe"
          ],
          [
           "GG Jackson II"
          ],
          [
           "Duop Reath"
          ],
          [
           "KJ Martin"
          ],
          [
           "Naji Marshall"
          ],
          [
           "Xavier Tillman Sr."
          ],
          [
           "Jordan Goodwin"
          ],
          [
           "Kessler Edwards"
          ],
          [
           "Ish Wainright"
          ],
          [
           "Jericho Sims"
          ],
          [
           "Sam Hauser"
          ],
          [
           "Haywood Highsmith"
          ],
          [
           "A.J. Green"
          ],
          [
           "Jeremiah Robinson-Earl"
          ],
          [
           "Kevin Knox II"
          ],
          [
           "Miles McBride"
          ],
          [
           "Isaiah Livers"
          ],
          [
           "Brandon Boston Jr."
          ],
          [
           "JT Thor"
          ],
          [
           "Aaron Wiggins"
          ],
          [
           "Jose Alvarado"
          ],
          [
           "E.J. Liddell"
          ],
          [
           "Dru Smith"
          ],
          [
           "Orlando Robinson"
          ],
          [
           "Leonard Miller"
          ],
          [
           "Skylar Mays"
          ],
          [
           "Ryan Rollins"
          ],
          [
           "Jaden Hardy"
          ],
          [
           "Jabari Walker"
          ],
          [
           "Josh Minott"
          ],
          [
           "Kenneth Lofton Jr."
          ],
          [
           "Max Christie"
          ],
          [
           "Bryce McGowens"
          ],
          [
           "Jalen Pickett"
          ],
          [
           "Julian Phillips"
          ],
          [
           "Matt Ryan"
          ],
          [
           "Craig Porter Jr."
          ],
          [
           "Jared Butler"
          ],
          [
           "Sidy Cissoko"
          ],
          [
           "Hunter Tyson"
          ],
          [
           "Jordan Walsh"
          ],
          [
           "Rayan Rupert"
          ],
          [
           "Chris Livingston"
          ],
          [
           "Maxwell Lewis"
          ],
          [
           "Trayce Jackson-Davis"
          ],
          [
           "Mouhamed Gueye"
          ],
          [
           "Toumani Camara"
          ],
          [
           "Andre Jackson Jr."
          ],
          [
           "Kendall Brown"
          ],
          [
           "Gui Santos"
          ],
          [
           "A.J. Lawson"
          ],
          [
           "Eugene Omoruyi"
          ],
          [
           "Ricky Council IV"
          ],
          [
           "Jalen Wilson"
          ],
          [
           "DaQuan Jeffries"
          ],
          [
           "Lindy Waters III"
          ],
          [
           "Keon Ellis"
          ],
          [
           "Jack White"
          ],
          [
           "Filip Petrusev"
          ],
          [
           "Lester Quinones"
          ],
          [
           "Stanley Umude"
          ],
          [
           "Trent Forrest"
          ],
          [
           "Darius Bazley"
          ],
          [
           "Onuralp Bitim"
          ],
          [
           "Dominick Barlow"
          ],
          [
           "Juan Toscano-Anderson"
          ],
          [
           "Javon Freeman-Liberty"
          ],
          [
           "Mamadi Diakite"
          ],
          [
           "Neemias Queta"
          ],
          [
           "T.J. Warren"
          ],
          [
           "Danny Green"
          ],
          [
           "Javonte Green"
          ],
          [
           "Luka Garza"
          ],
          [
           "Isaiah Thomas"
          ],
          [
           "Hamidou Diallo"
          ],
          [
           "Ashton Hagans"
          ],
          [
           "Tosan Evbuomwan"
          ],
          [
           "Malik Williams"
          ],
          [
           "Taze Moore"
          ],
          [
           "Pete Nance"
          ]
         ],
         "hovertemplate": "slugTeamBREF=%{x}<br>Salary=%{marker.color}<br>namePlayer=%{customdata[0]}<extra></extra>",
         "legendgroup": "",
         "marker": {
          "color": [
           51915615,
           47649433,
           47607350,
           47607350,
           47607350,
           46741590,
           45640084,
           45640084,
           45640084,
           45640084,
           45183960,
           43219440,
           41000000,
           40806300,
           40600080,
           40064220,
           40064220,
           40064220,
           39270150,
           37893408,
           37893408,
           37037037,
           36861707,
           36016200,
           36016200,
           36016200,
           35802469,
           35680595,
           34005250,
           34005250,
           34005250,
           33833400,
           33833400,
           33386850,
           33386850,
           33319397,
           33162030,
           32600060,
           32600060,
           32600060,
           32459438,
           31830357,
           30800000,
           30600000,
           32478379,
           29320988,
           28600000,
           28226880,
           27586207,
           27455357,
           27102202,
           27000000,
           26346666,
           25679348,
           25568182,
           25340000,
           25000000,
           24360000,
           24330357,
           24107143,
           23883929,
           23487629,
           23205221,
           22627671,
           22500000,
           22321429,
           22266182,
           22000000,
           21700000,
           20975000,
           20616000,
           21911797,
           20089286,
           20000000,
           20000000,
           20000000,
           19928571,
           19845098,
           19500000,
           18857143,
           18833713,
           18700000,
           18642857,
           18560000,
           18518519,
           18357143,
           18214000,
           18154000,
           18000000,
           17897728,
           17400000,
           17325000,
           17307693,
           17259999,
           17429682,
           17000000,
           17000000,
           17000000,
           16875000,
           16847826,
           15740741,
           15681818,
           15669643,
           15435000,
           15384616,
           15277778,
           14763636,
           14704938,
           14487684,
           14000000,
           13932008,
           13750000,
           13534817,
           13050000,
           13000000,
           12960000,
           12950400,
           12500000,
           12500000,
           12405000,
           12405000,
           12402000,
           12195122,
           12160680,
           12119440,
           12100000,
           12046020,
           12015150,
           12015150,
           11750000,
           11710818,
           11710818,
           11692308,
           11608080,
           11571429,
           11111111,
           11055360,
           11020000,
           11014500,
           13033786,
           11000000,
           11000000,
           10933333,
           10900635,
           10900000,
           10880400,
           10576923,
           10500000,
           10500000,
           10489600,
           10386000,
           10375000,
           10250000,
           10000000,
           9945830,
           9895833,
           9891480,
           9835881,
           9800926,
           9770880,
           9625000,
           9600000,
           9500000,
           9460000,
           9423869,
           9326520,
           9245121,
           9219512,
           8925000,
           8920795,
           8882640,
           8809320,
           8800000,
           8715000,
           8700000,
           8409000,
           8856750,
           8109063,
           8008680,
           8000000,
           8000000,
           8000000,
           8000000,
           8638413,
           7977480,
           7921300,
           7723000,
           7723000,
           7700000,
           7614480,
           7560000,
           7500000,
           7413955,
           7252080,
           7245480,
           8670002,
           6916080,
           6803012,
           6802950,
           7464578,
           7267250,
           6718842,
           6614280,
           6587040,
           8519706,
           6500000,
           6481482,
           6341464,
           6313800,
           6300000,
           6263188,
           6250000,
           6190476,
           6175000,
           6059520,
           6012840,
           5887899,
           5808435,
           5784120,
           5722116,
           5709877,
           5634257,
           5569920,
           5539771,
           5508720,
           5370370,
           5316960,
           5291400,
           5266713,
           5266713,
           5063640,
           5050800,
           5043773,
           5026800,
           5574809,
           5000000,
           5754488,
           5000000,
           5475908,
           5000000,
           4810200,
           4798440,
           4775640,
           4765339,
           4698000,
           4687500,
           4570080,
           4558680,
           4556983,
           4536720,
           4516000,
           4516000,
           4379527,
           4343920,
           6105941,
           4330680,
           4310250,
           4310160,
           4306281,
           4171548,
           4124400,
           4114200,
           4094280,
           4037277,
           4000000,
           4000000,
           4000000,
           3918480,
           3908160,
           3901399,
           3889800,
           3873025,
           3845083,
           3835738,
           3835738,
           3722040,
           3712920,
           3695040,
           3666667,
           3536280,
           3527160,
           3510600,
           4010730,
           3360000,
           5379706,
           3359280,
           3352440,
           3350760,
           3218160,
           3199920,
           3196448,
           3196448,
           3191400,
           3089520,
           3071880,
           3044872,
           3000000,
           3000000,
           3000000,
           2966040,
           2949120,
           2925360,
           2891467,
           2847480,
           2831160,
           2815937,
           2808720,
           2800000,
           2733720,
           2718240,
           2709849,
           2696280,
           2624040,
           2609400,
           2600000,
           2600008,
           2586665,
           2586665,
           2581522,
           2537160,
           2528233,
           2528233,
           2504640,
           2463960,
           2448600,
           2439025,
           2431080,
           2424892,
           2421720,
           2413320,
           2413304,
           2400000,
           2385720,
           2352000,
           4368030,
           2346614,
           2346614,
           2346614,
           2337720,
           2320440,
           2320000,
           2306400,
           2303520,
           777703,
           2240160,
           2232308,
           2226240,
           2210040,
           2196970,
           2194200,
           2165000,
           2165000,
           2165000,
           2131905,
           2066585,
           2066585,
           2019706,
           2961636,
           2019706,
           2019706,
           2019706,
           2019706,
           2019706,
           2019706,
           2019706,
           2019706,
           2019706,
           2019706,
           2019706,
           2019706,
           2019706,
           2019706,
           2351562,
           2419706,
           2019706,
           2019706,
           2019706,
           2019706,
           2019706,
           2019706,
           2019706,
           2019706,
           2019706,
           2019706,
           2019706,
           2019706,
           2019706,
           2019706,
           2019706,
           2019706,
           2019706,
           2019706,
           2019706,
           2000000,
           2000000,
           2000000,
           1997238,
           1997238,
           1997238,
           1991428,
           1951220,
           1930681,
           1930681,
           1930681,
           1927896,
           1927896,
           1927896,
           1927896,
           1927896,
           1902137,
           1901769,
           684843,
           1845593,
           1836096,
           1836096,
           1836096,
           1836096,
           1836096,
           1836096,
           1801769,
           1801769,
           1801769,
           1800000,
           1799163,
           1719864,
           1719864,
           1719864,
           1719864,
           500000,
           1719864,
           1719864,
           1708143,
           1600000,
           1500000,
           1500000,
           1250000,
           1119563,
           1119563,
           1119563,
           1119563,
           1119563,
           1119563,
           1119563,
           1119563,
           1119563,
           1119563,
           1100000,
           1029483,
           1000000,
           900000,
           864353,
           850000,
           1324828,
           766095,
           683430,
           600000,
           559782,
           548815,
           538460,
           533945,
           616075,
           500000,
           455620,
           439581,
           289542,
           368600,
           331253,
           452693,
           200000,
           243758,
           127683,
           301795,
           116075,
           103550,
           135120,
           77212,
           64343,
           64343
          ],
          "coloraxis": "coloraxis",
          "size": [
           51915615,
           47649433,
           47607350,
           47607350,
           47607350,
           46741590,
           45640084,
           45640084,
           45640084,
           45640084,
           45183960,
           43219440,
           41000000,
           40806300,
           40600080,
           40064220,
           40064220,
           40064220,
           39270150,
           37893408,
           37893408,
           37037037,
           36861707,
           36016200,
           36016200,
           36016200,
           35802469,
           35680595,
           34005250,
           34005250,
           34005250,
           33833400,
           33833400,
           33386850,
           33386850,
           33319397,
           33162030,
           32600060,
           32600060,
           32600060,
           32459438,
           31830357,
           30800000,
           30600000,
           32478379,
           29320988,
           28600000,
           28226880,
           27586207,
           27455357,
           27102202,
           27000000,
           26346666,
           25679348,
           25568182,
           25340000,
           25000000,
           24360000,
           24330357,
           24107143,
           23883929,
           23487629,
           23205221,
           22627671,
           22500000,
           22321429,
           22266182,
           22000000,
           21700000,
           20975000,
           20616000,
           21911797,
           20089286,
           20000000,
           20000000,
           20000000,
           19928571,
           19845098,
           19500000,
           18857143,
           18833713,
           18700000,
           18642857,
           18560000,
           18518519,
           18357143,
           18214000,
           18154000,
           18000000,
           17897728,
           17400000,
           17325000,
           17307693,
           17259999,
           17429682,
           17000000,
           17000000,
           17000000,
           16875000,
           16847826,
           15740741,
           15681818,
           15669643,
           15435000,
           15384616,
           15277778,
           14763636,
           14704938,
           14487684,
           14000000,
           13932008,
           13750000,
           13534817,
           13050000,
           13000000,
           12960000,
           12950400,
           12500000,
           12500000,
           12405000,
           12405000,
           12402000,
           12195122,
           12160680,
           12119440,
           12100000,
           12046020,
           12015150,
           12015150,
           11750000,
           11710818,
           11710818,
           11692308,
           11608080,
           11571429,
           11111111,
           11055360,
           11020000,
           11014500,
           13033786,
           11000000,
           11000000,
           10933333,
           10900635,
           10900000,
           10880400,
           10576923,
           10500000,
           10500000,
           10489600,
           10386000,
           10375000,
           10250000,
           10000000,
           9945830,
           9895833,
           9891480,
           9835881,
           9800926,
           9770880,
           9625000,
           9600000,
           9500000,
           9460000,
           9423869,
           9326520,
           9245121,
           9219512,
           8925000,
           8920795,
           8882640,
           8809320,
           8800000,
           8715000,
           8700000,
           8409000,
           8856750,
           8109063,
           8008680,
           8000000,
           8000000,
           8000000,
           8000000,
           8638413,
           7977480,
           7921300,
           7723000,
           7723000,
           7700000,
           7614480,
           7560000,
           7500000,
           7413955,
           7252080,
           7245480,
           8670002,
           6916080,
           6803012,
           6802950,
           7464578,
           7267250,
           6718842,
           6614280,
           6587040,
           8519706,
           6500000,
           6481482,
           6341464,
           6313800,
           6300000,
           6263188,
           6250000,
           6190476,
           6175000,
           6059520,
           6012840,
           5887899,
           5808435,
           5784120,
           5722116,
           5709877,
           5634257,
           5569920,
           5539771,
           5508720,
           5370370,
           5316960,
           5291400,
           5266713,
           5266713,
           5063640,
           5050800,
           5043773,
           5026800,
           5574809,
           5000000,
           5754488,
           5000000,
           5475908,
           5000000,
           4810200,
           4798440,
           4775640,
           4765339,
           4698000,
           4687500,
           4570080,
           4558680,
           4556983,
           4536720,
           4516000,
           4516000,
           4379527,
           4343920,
           6105941,
           4330680,
           4310250,
           4310160,
           4306281,
           4171548,
           4124400,
           4114200,
           4094280,
           4037277,
           4000000,
           4000000,
           4000000,
           3918480,
           3908160,
           3901399,
           3889800,
           3873025,
           3845083,
           3835738,
           3835738,
           3722040,
           3712920,
           3695040,
           3666667,
           3536280,
           3527160,
           3510600,
           4010730,
           3360000,
           5379706,
           3359280,
           3352440,
           3350760,
           3218160,
           3199920,
           3196448,
           3196448,
           3191400,
           3089520,
           3071880,
           3044872,
           3000000,
           3000000,
           3000000,
           2966040,
           2949120,
           2925360,
           2891467,
           2847480,
           2831160,
           2815937,
           2808720,
           2800000,
           2733720,
           2718240,
           2709849,
           2696280,
           2624040,
           2609400,
           2600000,
           2600008,
           2586665,
           2586665,
           2581522,
           2537160,
           2528233,
           2528233,
           2504640,
           2463960,
           2448600,
           2439025,
           2431080,
           2424892,
           2421720,
           2413320,
           2413304,
           2400000,
           2385720,
           2352000,
           4368030,
           2346614,
           2346614,
           2346614,
           2337720,
           2320440,
           2320000,
           2306400,
           2303520,
           777703,
           2240160,
           2232308,
           2226240,
           2210040,
           2196970,
           2194200,
           2165000,
           2165000,
           2165000,
           2131905,
           2066585,
           2066585,
           2019706,
           2961636,
           2019706,
           2019706,
           2019706,
           2019706,
           2019706,
           2019706,
           2019706,
           2019706,
           2019706,
           2019706,
           2019706,
           2019706,
           2019706,
           2019706,
           2351562,
           2419706,
           2019706,
           2019706,
           2019706,
           2019706,
           2019706,
           2019706,
           2019706,
           2019706,
           2019706,
           2019706,
           2019706,
           2019706,
           2019706,
           2019706,
           2019706,
           2019706,
           2019706,
           2019706,
           2019706,
           2000000,
           2000000,
           2000000,
           1997238,
           1997238,
           1997238,
           1991428,
           1951220,
           1930681,
           1930681,
           1930681,
           1927896,
           1927896,
           1927896,
           1927896,
           1927896,
           1902137,
           1901769,
           684843,
           1845593,
           1836096,
           1836096,
           1836096,
           1836096,
           1836096,
           1836096,
           1801769,
           1801769,
           1801769,
           1800000,
           1799163,
           1719864,
           1719864,
           1719864,
           1719864,
           500000,
           1719864,
           1719864,
           1708143,
           1600000,
           1500000,
           1500000,
           1250000,
           1119563,
           1119563,
           1119563,
           1119563,
           1119563,
           1119563,
           1119563,
           1119563,
           1119563,
           1119563,
           1100000,
           1029483,
           1000000,
           900000,
           864353,
           850000,
           1324828,
           766095,
           683430,
           600000,
           559782,
           548815,
           538460,
           533945,
           616075,
           500000,
           455620,
           439581,
           289542,
           368600,
           331253,
           452693,
           200000,
           243758,
           127683,
           301795,
           116075,
           103550,
           135120,
           77212,
           64343,
           64343
          ],
          "sizemode": "area",
          "sizeref": 129789.0375,
          "symbol": "circle"
         },
         "mode": "markers",
         "name": "",
         "orientation": "v",
         "showlegend": false,
         "type": "scatter",
         "x": [
          "GSW",
          "PHO",
          "DEN",
          "PHI",
          "LAL",
          "PHO",
          "MIL",
          "LAC",
          "MIL",
          "LAC",
          "MIA",
          "GSW",
          "MIN",
          "HOU",
          "LAL",
          "ATL",
          "DAL",
          "CHI",
          "PHI",
          "BRK",
          "TOT",
          "DAL",
          "BOS",
          "PHO",
          "MIN",
          "BOS",
          "NOP",
          "LAC",
          "NOP",
          "MEM",
          "CLE",
          "NOP",
          "DEN",
          "OKC",
          "DEN",
          "TOT",
          "CLE",
          "SAC",
          "MIA",
          "BOS",
          "POR",
          "BOS",
          "GSW",
          "SAC",
          "TOT",
          "MIL",
          "CHI",
          "NYK",
          "POR",
          "WAS",
          "MEM",
          "MIA",
          "NYK",
          "BRK",
          "WAS",
          "UTA",
          "MIL",
          "MIN",
          "GSW",
          "POR",
          "TOT",
          "UTA",
          "TOT",
          "HOU",
          "POR",
          "GSW",
          "DEN",
          "TOT",
          "BRK",
          "IND",
          "ATL",
          "TOT",
          "ATL",
          "SAS",
          "CLE",
          "TOT",
          "DET",
          "TOT",
          "TOR",
          "TOT",
          "MEM",
          "ATL",
          "TOT",
          "TOR",
          "CHI",
          "BOS",
          "ATL",
          "MIA",
          "LAC",
          "DAL",
          "ORL",
          "UTA",
          "LAL",
          "UTA",
          "TOT",
          "SAC",
          "TOT",
          "ORL",
          "PHO",
          "TOT",
          "LAL",
          "NYK",
          "SAC",
          "NOP",
          "CLE",
          "OKC",
          "MEM",
          "DEN",
          "CLE",
          "WAS",
          "BRK",
          "TOT",
          "MIN",
          "ORL",
          "ORL",
          "NYK",
          "MIN",
          "MEM",
          "TOT",
          "TOT",
          "TOT",
          "TOT",
          "TOT",
          "SAS",
          "DET",
          "SAS",
          "TOT",
          "NOP",
          "LAL",
          "TOR",
          "MIL",
          "TOT",
          "TOT",
          "ORL",
          "POR",
          "CHI",
          "DET",
          "UTA",
          "TOT",
          "HOU",
          "DAL",
          "ORL",
          "LAC",
          "CHO",
          "NYK",
          "CHO",
          "LAC",
          "LAL",
          "POR",
          "TOT",
          "OKC",
          "NOP",
          "WAS",
          "BOS",
          "SAC",
          "SAS",
          "HOU",
          "CHI",
          "TOT",
          "POR",
          "BRK",
          "HOU",
          "TOT",
          "CHI",
          "MIL",
          "HOU",
          "NYK",
          "MIN",
          "PHO",
          "CLE",
          "CLE",
          "HOU",
          "CLE",
          "GSW",
          "IND",
          "SAC",
          "TOT",
          "ATL",
          "TOR",
          "HOU",
          "SAC",
          "PHI",
          "ORL",
          "TOT",
          "DET",
          "CHO",
          "TOT",
          "PHI",
          "SAS",
          "DET",
          "CHO",
          "GSW",
          "DET",
          "ORL",
          "ORL",
          "TOT",
          "IND",
          "IND",
          "MIA",
          "TOT",
          "TOT",
          "SAS",
          "WAS",
          "OKC",
          "TOT",
          "HOU",
          "CHI",
          "SAC",
          "POR",
          "TOR",
          "WAS",
          "PHO",
          "CHI",
          "OKC",
          "IND",
          "GSW",
          "SAS",
          "IND",
          "NOP",
          "TOT",
          "CLE",
          "IND",
          "UTA",
          "ORL",
          "ORL",
          "PHI",
          "SAS",
          "OKC",
          "DET",
          "ORL",
          "SAC",
          "WAS",
          "IND",
          "ORL",
          "TOT",
          "CHO",
          "TOT",
          "LAC",
          "TOT",
          "DEN",
          "MEM",
          "OKC",
          "DAL",
          "DAL",
          "LAL",
          "MIN",
          "CHO",
          "OKC",
          "ATL",
          "TOR",
          "TOR",
          "LAL",
          "TOT",
          "PHI",
          "LAC",
          "DET",
          "PHI",
          "NOP",
          "DEN",
          "TOT",
          "SAC",
          "TOT",
          "ATL",
          "BOS",
          "DAL",
          "TOT",
          "TOT",
          "GSW",
          "CHO",
          "MIN",
          "UTA",
          "TOT",
          "MEM",
          "MIA",
          "LAC",
          "WAS",
          "ATL",
          "LAL",
          "LAC",
          "HOU",
          "HOU",
          "MIA",
          "TOT",
          "CHI",
          "DAL",
          "NOP",
          "GSW",
          "CHI",
          "HOU",
          "MEM",
          "MEM",
          "PHO",
          "TOT",
          "BRK",
          "SAS",
          "TOT",
          "TOT",
          "SAS",
          "DAL",
          "BRK",
          "DEN",
          "ATL",
          "MIA",
          "POR",
          "UTA",
          "PHO",
          "BRK",
          "UTA",
          "DAL",
          "TOT",
          "LAL",
          "IND",
          "DET",
          "MIL",
          "SAS",
          "GSW",
          "UTA",
          "CLE",
          "ATL",
          "IND",
          "MIA",
          "CHI",
          "SAS",
          "CHO",
          "UTA",
          "CLE",
          "DEN",
          "WAS",
          "MIN",
          "LAC",
          "BOS",
          "MEM",
          "TOT",
          "MIA",
          "SAC",
          "PHO",
          "TOT",
          "TOT",
          "WAS",
          "MIL",
          "MIN",
          "LAC",
          "DEN",
          "IND",
          "BRK",
          "MEM",
          "TOT",
          "BRK",
          "PHI",
          "MEM",
          "LAL",
          "LAL",
          "BOS",
          "IND",
          "UTA",
          "ORL",
          "SAC",
          "TOT",
          "TOR",
          "SAS",
          "MIL",
          "SAC",
          "TOT",
          "PHO",
          "PHI",
          "PHI",
          "TOT",
          "NOP",
          "MIL",
          "TOT",
          "MIL",
          "MIL",
          "TOT",
          "TOT",
          "GSW",
          "GSW",
          "NYK",
          "DEN",
          "DEN",
          "DAL",
          "CHO",
          "CHO",
          "CHI",
          "TOT",
          "BRK",
          "BRK",
          "BOS",
          "ATL",
          "POR",
          "HOU",
          "HOU",
          "CLE",
          "BRK",
          "ORL",
          "OKC",
          "ATL",
          "CLE",
          "WAS",
          "OKC",
          "MEM",
          "POR",
          "TOT",
          "NOP",
          "TOT",
          "TOT",
          "SAC",
          "TOT",
          "NYK",
          "BOS",
          "MIA",
          "MIL",
          "NOP",
          "DET",
          "NYK",
          "DET",
          "LAC",
          "CHO",
          "OKC",
          "NOP",
          "NOP",
          "MIA",
          "MIA",
          "MIN",
          "TOT",
          "TOT",
          "DAL",
          "POR",
          "MIN",
          "TOT",
          "LAL",
          "CHO",
          "DEN",
          "CHI",
          "NOP",
          "CLE",
          "WAS",
          "SAS",
          "DEN",
          "BOS",
          "POR",
          "MIL",
          "LAL",
          "GSW",
          "ATL",
          "POR",
          "MIL",
          "IND",
          "GSW",
          "DAL",
          "WAS",
          "PHI",
          "BRK",
          "NYK",
          "OKC",
          "SAC",
          "MEM",
          "TOT",
          "GSW",
          "DET",
          "ATL",
          "TOT",
          "CHI",
          "SAS",
          "SAC",
          "TOR",
          "TOT",
          "BOS",
          "MIN",
          "PHI",
          "CHI",
          "MIN",
          "PHO",
          "WAS",
          "POR",
          "TOT",
          "TOR",
          "POR",
          "CLE"
         ],
         "xaxis": "x",
         "y": [
          51915615,
          47649433,
          47607350,
          47607350,
          47607350,
          46741590,
          45640084,
          45640084,
          45640084,
          45640084,
          45183960,
          43219440,
          41000000,
          40806300,
          40600080,
          40064220,
          40064220,
          40064220,
          39270150,
          37893408,
          37893408,
          37037037,
          36861707,
          36016200,
          36016200,
          36016200,
          35802469,
          35680595,
          34005250,
          34005250,
          34005250,
          33833400,
          33833400,
          33386850,
          33386850,
          33319397,
          33162030,
          32600060,
          32600060,
          32600060,
          32459438,
          31830357,
          30800000,
          30600000,
          32478379,
          29320988,
          28600000,
          28226880,
          27586207,
          27455357,
          27102202,
          27000000,
          26346666,
          25679348,
          25568182,
          25340000,
          25000000,
          24360000,
          24330357,
          24107143,
          23883929,
          23487629,
          23205221,
          22627671,
          22500000,
          22321429,
          22266182,
          22000000,
          21700000,
          20975000,
          20616000,
          21911797,
          20089286,
          20000000,
          20000000,
          20000000,
          19928571,
          19845098,
          19500000,
          18857143,
          18833713,
          18700000,
          18642857,
          18560000,
          18518519,
          18357143,
          18214000,
          18154000,
          18000000,
          17897728,
          17400000,
          17325000,
          17307693,
          17259999,
          17429682,
          17000000,
          17000000,
          17000000,
          16875000,
          16847826,
          15740741,
          15681818,
          15669643,
          15435000,
          15384616,
          15277778,
          14763636,
          14704938,
          14487684,
          14000000,
          13932008,
          13750000,
          13534817,
          13050000,
          13000000,
          12960000,
          12950400,
          12500000,
          12500000,
          12405000,
          12405000,
          12402000,
          12195122,
          12160680,
          12119440,
          12100000,
          12046020,
          12015150,
          12015150,
          11750000,
          11710818,
          11710818,
          11692308,
          11608080,
          11571429,
          11111111,
          11055360,
          11020000,
          11014500,
          13033786,
          11000000,
          11000000,
          10933333,
          10900635,
          10900000,
          10880400,
          10576923,
          10500000,
          10500000,
          10489600,
          10386000,
          10375000,
          10250000,
          10000000,
          9945830,
          9895833,
          9891480,
          9835881,
          9800926,
          9770880,
          9625000,
          9600000,
          9500000,
          9460000,
          9423869,
          9326520,
          9245121,
          9219512,
          8925000,
          8920795,
          8882640,
          8809320,
          8800000,
          8715000,
          8700000,
          8409000,
          8856750,
          8109063,
          8008680,
          8000000,
          8000000,
          8000000,
          8000000,
          8638413,
          7977480,
          7921300,
          7723000,
          7723000,
          7700000,
          7614480,
          7560000,
          7500000,
          7413955,
          7252080,
          7245480,
          8670002,
          6916080,
          6803012,
          6802950,
          7464578,
          7267250,
          6718842,
          6614280,
          6587040,
          8519706,
          6500000,
          6481482,
          6341464,
          6313800,
          6300000,
          6263188,
          6250000,
          6190476,
          6175000,
          6059520,
          6012840,
          5887899,
          5808435,
          5784120,
          5722116,
          5709877,
          5634257,
          5569920,
          5539771,
          5508720,
          5370370,
          5316960,
          5291400,
          5266713,
          5266713,
          5063640,
          5050800,
          5043773,
          5026800,
          5574809,
          5000000,
          5754488,
          5000000,
          5475908,
          5000000,
          4810200,
          4798440,
          4775640,
          4765339,
          4698000,
          4687500,
          4570080,
          4558680,
          4556983,
          4536720,
          4516000,
          4516000,
          4379527,
          4343920,
          6105941,
          4330680,
          4310250,
          4310160,
          4306281,
          4171548,
          4124400,
          4114200,
          4094280,
          4037277,
          4000000,
          4000000,
          4000000,
          3918480,
          3908160,
          3901399,
          3889800,
          3873025,
          3845083,
          3835738,
          3835738,
          3722040,
          3712920,
          3695040,
          3666667,
          3536280,
          3527160,
          3510600,
          4010730,
          3360000,
          5379706,
          3359280,
          3352440,
          3350760,
          3218160,
          3199920,
          3196448,
          3196448,
          3191400,
          3089520,
          3071880,
          3044872,
          3000000,
          3000000,
          3000000,
          2966040,
          2949120,
          2925360,
          2891467,
          2847480,
          2831160,
          2815937,
          2808720,
          2800000,
          2733720,
          2718240,
          2709849,
          2696280,
          2624040,
          2609400,
          2600000,
          2600008,
          2586665,
          2586665,
          2581522,
          2537160,
          2528233,
          2528233,
          2504640,
          2463960,
          2448600,
          2439025,
          2431080,
          2424892,
          2421720,
          2413320,
          2413304,
          2400000,
          2385720,
          2352000,
          4368030,
          2346614,
          2346614,
          2346614,
          2337720,
          2320440,
          2320000,
          2306400,
          2303520,
          777703,
          2240160,
          2232308,
          2226240,
          2210040,
          2196970,
          2194200,
          2165000,
          2165000,
          2165000,
          2131905,
          2066585,
          2066585,
          2019706,
          2961636,
          2019706,
          2019706,
          2019706,
          2019706,
          2019706,
          2019706,
          2019706,
          2019706,
          2019706,
          2019706,
          2019706,
          2019706,
          2019706,
          2019706,
          2351562,
          2419706,
          2019706,
          2019706,
          2019706,
          2019706,
          2019706,
          2019706,
          2019706,
          2019706,
          2019706,
          2019706,
          2019706,
          2019706,
          2019706,
          2019706,
          2019706,
          2019706,
          2019706,
          2019706,
          2019706,
          2000000,
          2000000,
          2000000,
          1997238,
          1997238,
          1997238,
          1991428,
          1951220,
          1930681,
          1930681,
          1930681,
          1927896,
          1927896,
          1927896,
          1927896,
          1927896,
          1902137,
          1901769,
          684843,
          1845593,
          1836096,
          1836096,
          1836096,
          1836096,
          1836096,
          1836096,
          1801769,
          1801769,
          1801769,
          1800000,
          1799163,
          1719864,
          1719864,
          1719864,
          1719864,
          500000,
          1719864,
          1719864,
          1708143,
          1600000,
          1500000,
          1500000,
          1250000,
          1119563,
          1119563,
          1119563,
          1119563,
          1119563,
          1119563,
          1119563,
          1119563,
          1119563,
          1119563,
          1100000,
          1029483,
          1000000,
          900000,
          864353,
          850000,
          1324828,
          766095,
          683430,
          600000,
          559782,
          548815,
          538460,
          533945,
          616075,
          500000,
          455620,
          439581,
          289542,
          368600,
          331253,
          452693,
          200000,
          243758,
          127683,
          301795,
          116075,
          103550,
          135120,
          77212,
          64343,
          64343
         ],
         "yaxis": "y"
        }
       ],
       "layout": {
        "coloraxis": {
         "colorbar": {
          "title": {
           "text": "Salary"
          }
         },
         "colorscale": [
          [
           0,
           "rgb(75, 41, 145)"
          ],
          [
           0.16666666666666666,
           "rgb(135, 44, 162)"
          ],
          [
           0.3333333333333333,
           "rgb(192, 54, 157)"
          ],
          [
           0.5,
           "rgb(234, 79, 136)"
          ],
          [
           0.6666666666666666,
           "rgb(250, 120, 118)"
          ],
          [
           0.8333333333333334,
           "rgb(246, 169, 122)"
          ],
          [
           1,
           "rgb(237, 217, 163)"
          ]
         ]
        },
        "height": 700,
        "legend": {
         "itemsizing": "constant",
         "tracegroupgap": 0
        },
        "margin": {
         "t": 60
        },
        "template": {
         "data": {
          "bar": [
           {
            "error_x": {
             "color": "#2a3f5f"
            },
            "error_y": {
             "color": "#2a3f5f"
            },
            "marker": {
             "line": {
              "color": "#E5ECF6",
              "width": 0.5
             },
             "pattern": {
              "fillmode": "overlay",
              "size": 10,
              "solidity": 0.2
             }
            },
            "type": "bar"
           }
          ],
          "barpolar": [
           {
            "marker": {
             "line": {
              "color": "#E5ECF6",
              "width": 0.5
             },
             "pattern": {
              "fillmode": "overlay",
              "size": 10,
              "solidity": 0.2
             }
            },
            "type": "barpolar"
           }
          ],
          "carpet": [
           {
            "aaxis": {
             "endlinecolor": "#2a3f5f",
             "gridcolor": "white",
             "linecolor": "white",
             "minorgridcolor": "white",
             "startlinecolor": "#2a3f5f"
            },
            "baxis": {
             "endlinecolor": "#2a3f5f",
             "gridcolor": "white",
             "linecolor": "white",
             "minorgridcolor": "white",
             "startlinecolor": "#2a3f5f"
            },
            "type": "carpet"
           }
          ],
          "choropleth": [
           {
            "colorbar": {
             "outlinewidth": 0,
             "ticks": ""
            },
            "type": "choropleth"
           }
          ],
          "contour": [
           {
            "colorbar": {
             "outlinewidth": 0,
             "ticks": ""
            },
            "colorscale": [
             [
              0,
              "#0d0887"
             ],
             [
              0.1111111111111111,
              "#46039f"
             ],
             [
              0.2222222222222222,
              "#7201a8"
             ],
             [
              0.3333333333333333,
              "#9c179e"
             ],
             [
              0.4444444444444444,
              "#bd3786"
             ],
             [
              0.5555555555555556,
              "#d8576b"
             ],
             [
              0.6666666666666666,
              "#ed7953"
             ],
             [
              0.7777777777777778,
              "#fb9f3a"
             ],
             [
              0.8888888888888888,
              "#fdca26"
             ],
             [
              1,
              "#f0f921"
             ]
            ],
            "type": "contour"
           }
          ],
          "contourcarpet": [
           {
            "colorbar": {
             "outlinewidth": 0,
             "ticks": ""
            },
            "type": "contourcarpet"
           }
          ],
          "heatmap": [
           {
            "colorbar": {
             "outlinewidth": 0,
             "ticks": ""
            },
            "colorscale": [
             [
              0,
              "#0d0887"
             ],
             [
              0.1111111111111111,
              "#46039f"
             ],
             [
              0.2222222222222222,
              "#7201a8"
             ],
             [
              0.3333333333333333,
              "#9c179e"
             ],
             [
              0.4444444444444444,
              "#bd3786"
             ],
             [
              0.5555555555555556,
              "#d8576b"
             ],
             [
              0.6666666666666666,
              "#ed7953"
             ],
             [
              0.7777777777777778,
              "#fb9f3a"
             ],
             [
              0.8888888888888888,
              "#fdca26"
             ],
             [
              1,
              "#f0f921"
             ]
            ],
            "type": "heatmap"
           }
          ],
          "heatmapgl": [
           {
            "colorbar": {
             "outlinewidth": 0,
             "ticks": ""
            },
            "colorscale": [
             [
              0,
              "#0d0887"
             ],
             [
              0.1111111111111111,
              "#46039f"
             ],
             [
              0.2222222222222222,
              "#7201a8"
             ],
             [
              0.3333333333333333,
              "#9c179e"
             ],
             [
              0.4444444444444444,
              "#bd3786"
             ],
             [
              0.5555555555555556,
              "#d8576b"
             ],
             [
              0.6666666666666666,
              "#ed7953"
             ],
             [
              0.7777777777777778,
              "#fb9f3a"
             ],
             [
              0.8888888888888888,
              "#fdca26"
             ],
             [
              1,
              "#f0f921"
             ]
            ],
            "type": "heatmapgl"
           }
          ],
          "histogram": [
           {
            "marker": {
             "pattern": {
              "fillmode": "overlay",
              "size": 10,
              "solidity": 0.2
             }
            },
            "type": "histogram"
           }
          ],
          "histogram2d": [
           {
            "colorbar": {
             "outlinewidth": 0,
             "ticks": ""
            },
            "colorscale": [
             [
              0,
              "#0d0887"
             ],
             [
              0.1111111111111111,
              "#46039f"
             ],
             [
              0.2222222222222222,
              "#7201a8"
             ],
             [
              0.3333333333333333,
              "#9c179e"
             ],
             [
              0.4444444444444444,
              "#bd3786"
             ],
             [
              0.5555555555555556,
              "#d8576b"
             ],
             [
              0.6666666666666666,
              "#ed7953"
             ],
             [
              0.7777777777777778,
              "#fb9f3a"
             ],
             [
              0.8888888888888888,
              "#fdca26"
             ],
             [
              1,
              "#f0f921"
             ]
            ],
            "type": "histogram2d"
           }
          ],
          "histogram2dcontour": [
           {
            "colorbar": {
             "outlinewidth": 0,
             "ticks": ""
            },
            "colorscale": [
             [
              0,
              "#0d0887"
             ],
             [
              0.1111111111111111,
              "#46039f"
             ],
             [
              0.2222222222222222,
              "#7201a8"
             ],
             [
              0.3333333333333333,
              "#9c179e"
             ],
             [
              0.4444444444444444,
              "#bd3786"
             ],
             [
              0.5555555555555556,
              "#d8576b"
             ],
             [
              0.6666666666666666,
              "#ed7953"
             ],
             [
              0.7777777777777778,
              "#fb9f3a"
             ],
             [
              0.8888888888888888,
              "#fdca26"
             ],
             [
              1,
              "#f0f921"
             ]
            ],
            "type": "histogram2dcontour"
           }
          ],
          "mesh3d": [
           {
            "colorbar": {
             "outlinewidth": 0,
             "ticks": ""
            },
            "type": "mesh3d"
           }
          ],
          "parcoords": [
           {
            "line": {
             "colorbar": {
              "outlinewidth": 0,
              "ticks": ""
             }
            },
            "type": "parcoords"
           }
          ],
          "pie": [
           {
            "automargin": true,
            "type": "pie"
           }
          ],
          "scatter": [
           {
            "fillpattern": {
             "fillmode": "overlay",
             "size": 10,
             "solidity": 0.2
            },
            "type": "scatter"
           }
          ],
          "scatter3d": [
           {
            "line": {
             "colorbar": {
              "outlinewidth": 0,
              "ticks": ""
             }
            },
            "marker": {
             "colorbar": {
              "outlinewidth": 0,
              "ticks": ""
             }
            },
            "type": "scatter3d"
           }
          ],
          "scattercarpet": [
           {
            "marker": {
             "colorbar": {
              "outlinewidth": 0,
              "ticks": ""
             }
            },
            "type": "scattercarpet"
           }
          ],
          "scattergeo": [
           {
            "marker": {
             "colorbar": {
              "outlinewidth": 0,
              "ticks": ""
             }
            },
            "type": "scattergeo"
           }
          ],
          "scattergl": [
           {
            "marker": {
             "colorbar": {
              "outlinewidth": 0,
              "ticks": ""
             }
            },
            "type": "scattergl"
           }
          ],
          "scattermapbox": [
           {
            "marker": {
             "colorbar": {
              "outlinewidth": 0,
              "ticks": ""
             }
            },
            "type": "scattermapbox"
           }
          ],
          "scatterpolar": [
           {
            "marker": {
             "colorbar": {
              "outlinewidth": 0,
              "ticks": ""
             }
            },
            "type": "scatterpolar"
           }
          ],
          "scatterpolargl": [
           {
            "marker": {
             "colorbar": {
              "outlinewidth": 0,
              "ticks": ""
             }
            },
            "type": "scatterpolargl"
           }
          ],
          "scatterternary": [
           {
            "marker": {
             "colorbar": {
              "outlinewidth": 0,
              "ticks": ""
             }
            },
            "type": "scatterternary"
           }
          ],
          "surface": [
           {
            "colorbar": {
             "outlinewidth": 0,
             "ticks": ""
            },
            "colorscale": [
             [
              0,
              "#0d0887"
             ],
             [
              0.1111111111111111,
              "#46039f"
             ],
             [
              0.2222222222222222,
              "#7201a8"
             ],
             [
              0.3333333333333333,
              "#9c179e"
             ],
             [
              0.4444444444444444,
              "#bd3786"
             ],
             [
              0.5555555555555556,
              "#d8576b"
             ],
             [
              0.6666666666666666,
              "#ed7953"
             ],
             [
              0.7777777777777778,
              "#fb9f3a"
             ],
             [
              0.8888888888888888,
              "#fdca26"
             ],
             [
              1,
              "#f0f921"
             ]
            ],
            "type": "surface"
           }
          ],
          "table": [
           {
            "cells": {
             "fill": {
              "color": "#EBF0F8"
             },
             "line": {
              "color": "white"
             }
            },
            "header": {
             "fill": {
              "color": "#C8D4E3"
             },
             "line": {
              "color": "white"
             }
            },
            "type": "table"
           }
          ]
         },
         "layout": {
          "annotationdefaults": {
           "arrowcolor": "#2a3f5f",
           "arrowhead": 0,
           "arrowwidth": 1
          },
          "autotypenumbers": "strict",
          "coloraxis": {
           "colorbar": {
            "outlinewidth": 0,
            "ticks": ""
           }
          },
          "colorscale": {
           "diverging": [
            [
             0,
             "#8e0152"
            ],
            [
             0.1,
             "#c51b7d"
            ],
            [
             0.2,
             "#de77ae"
            ],
            [
             0.3,
             "#f1b6da"
            ],
            [
             0.4,
             "#fde0ef"
            ],
            [
             0.5,
             "#f7f7f7"
            ],
            [
             0.6,
             "#e6f5d0"
            ],
            [
             0.7,
             "#b8e186"
            ],
            [
             0.8,
             "#7fbc41"
            ],
            [
             0.9,
             "#4d9221"
            ],
            [
             1,
             "#276419"
            ]
           ],
           "sequential": [
            [
             0,
             "#0d0887"
            ],
            [
             0.1111111111111111,
             "#46039f"
            ],
            [
             0.2222222222222222,
             "#7201a8"
            ],
            [
             0.3333333333333333,
             "#9c179e"
            ],
            [
             0.4444444444444444,
             "#bd3786"
            ],
            [
             0.5555555555555556,
             "#d8576b"
            ],
            [
             0.6666666666666666,
             "#ed7953"
            ],
            [
             0.7777777777777778,
             "#fb9f3a"
            ],
            [
             0.8888888888888888,
             "#fdca26"
            ],
            [
             1,
             "#f0f921"
            ]
           ],
           "sequentialminus": [
            [
             0,
             "#0d0887"
            ],
            [
             0.1111111111111111,
             "#46039f"
            ],
            [
             0.2222222222222222,
             "#7201a8"
            ],
            [
             0.3333333333333333,
             "#9c179e"
            ],
            [
             0.4444444444444444,
             "#bd3786"
            ],
            [
             0.5555555555555556,
             "#d8576b"
            ],
            [
             0.6666666666666666,
             "#ed7953"
            ],
            [
             0.7777777777777778,
             "#fb9f3a"
            ],
            [
             0.8888888888888888,
             "#fdca26"
            ],
            [
             1,
             "#f0f921"
            ]
           ]
          },
          "colorway": [
           "#636efa",
           "#EF553B",
           "#00cc96",
           "#ab63fa",
           "#FFA15A",
           "#19d3f3",
           "#FF6692",
           "#B6E880",
           "#FF97FF",
           "#FECB52"
          ],
          "font": {
           "color": "#2a3f5f"
          },
          "geo": {
           "bgcolor": "white",
           "lakecolor": "white",
           "landcolor": "#E5ECF6",
           "showlakes": true,
           "showland": true,
           "subunitcolor": "white"
          },
          "hoverlabel": {
           "align": "left"
          },
          "hovermode": "closest",
          "mapbox": {
           "style": "light"
          },
          "paper_bgcolor": "white",
          "plot_bgcolor": "#E5ECF6",
          "polar": {
           "angularaxis": {
            "gridcolor": "white",
            "linecolor": "white",
            "ticks": ""
           },
           "bgcolor": "#E5ECF6",
           "radialaxis": {
            "gridcolor": "white",
            "linecolor": "white",
            "ticks": ""
           }
          },
          "scene": {
           "xaxis": {
            "backgroundcolor": "#E5ECF6",
            "gridcolor": "white",
            "gridwidth": 2,
            "linecolor": "white",
            "showbackground": true,
            "ticks": "",
            "zerolinecolor": "white"
           },
           "yaxis": {
            "backgroundcolor": "#E5ECF6",
            "gridcolor": "white",
            "gridwidth": 2,
            "linecolor": "white",
            "showbackground": true,
            "ticks": "",
            "zerolinecolor": "white"
           },
           "zaxis": {
            "backgroundcolor": "#E5ECF6",
            "gridcolor": "white",
            "gridwidth": 2,
            "linecolor": "white",
            "showbackground": true,
            "ticks": "",
            "zerolinecolor": "white"
           }
          },
          "shapedefaults": {
           "line": {
            "color": "#2a3f5f"
           }
          },
          "ternary": {
           "aaxis": {
            "gridcolor": "white",
            "linecolor": "white",
            "ticks": ""
           },
           "baxis": {
            "gridcolor": "white",
            "linecolor": "white",
            "ticks": ""
           },
           "bgcolor": "#E5ECF6",
           "caxis": {
            "gridcolor": "white",
            "linecolor": "white",
            "ticks": ""
           }
          },
          "title": {
           "x": 0.05
          },
          "xaxis": {
           "automargin": true,
           "gridcolor": "white",
           "linecolor": "white",
           "ticks": "",
           "title": {
            "standoff": 15
           },
           "zerolinecolor": "white",
           "zerolinewidth": 2
          },
          "yaxis": {
           "automargin": true,
           "gridcolor": "white",
           "linecolor": "white",
           "ticks": "",
           "title": {
            "standoff": 15
           },
           "zerolinecolor": "white",
           "zerolinewidth": 2
          }
         }
        },
        "xaxis": {
         "anchor": "y",
         "domain": [
          0,
          1
         ],
         "title": {
          "text": "slugTeamBREF"
         }
        },
        "yaxis": {
         "anchor": "x",
         "domain": [
          0,
          1
         ],
         "title": {
          "text": "Salary"
         }
        }
       }
      }
     },
     "metadata": {},
     "output_type": "display_data"
    }
   ],
   "source": [
    "# Visualizar el salario de los jugadores de acuerdo a su edad\n",
    "fig = px.scatter(SS, x=\"slugTeamBREF\", y=\"Salary\", color = \"Salary\",\n",
    "                 size='Salary', hover_data=['namePlayer','slugTeamBREF'], color_continuous_scale=px.colors.sequential.Agsunset, height=700)\n",
    "fig.show()"
   ]
  },
  {
   "cell_type": "code",
   "execution_count": null,
   "metadata": {},
   "outputs": [],
   "source": []
  },
  {
   "cell_type": "code",
   "execution_count": null,
   "metadata": {},
   "outputs": [],
   "source": []
  }
 ],
 "metadata": {
  "kernelspec": {
   "display_name": "Python 3 (ipykernel)",
   "language": "python",
   "name": "python3"
  },
  "language_info": {
   "codemirror_mode": {
    "name": "ipython",
    "version": 3
   },
   "file_extension": ".py",
   "mimetype": "text/x-python",
   "name": "python",
   "nbconvert_exporter": "python",
   "pygments_lexer": "ipython3",
   "version": "3.9.6"
  }
 },
 "nbformat": 4,
 "nbformat_minor": 4
}
